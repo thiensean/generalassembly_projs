{
 "cells": [
  {
   "cell_type": "code",
   "execution_count": 1,
   "id": "52ff517a",
   "metadata": {},
   "outputs": [],
   "source": [
    "# Import libraries\n",
    "import pandas as pd\n",
    "import numpy as np\n",
    "import matplotlib.pyplot as plt\n",
    "import seaborn as sns\n",
    "from geopy.distance import geodesic\n",
    "import datetime as dt\n",
    "\n",
    "from sklearn.model_selection import train_test_split, cross_val_score, GridSearchCV, KFold\n",
    "from sklearn.preprocessing import PolynomialFeatures, StandardScaler\n",
    "from sklearn.pipeline import Pipeline\n",
    "from sklearn.linear_model import LogisticRegression\n",
    "from sklearn.ensemble import RandomForestClassifier, GradientBoostingClassifier, AdaBoostClassifier, ExtraTreesClassifier\n",
    "from sklearn.tree import DecisionTreeClassifier\n",
    "from sklearn.svm import SVC\n",
    "from sklearn.metrics import roc_auc_score, confusion_matrix, recall_score, precision_score, roc_curve, f1_score\n",
    "from imblearn.over_sampling import SMOTE "
   ]
  },
  {
   "cell_type": "code",
   "execution_count": 2,
   "id": "903c7c9f",
   "metadata": {},
   "outputs": [],
   "source": [
    "# Ensuring notebook remains tidy\n",
    "import warnings\n",
    "warnings.filterwarnings('ignore')"
   ]
  },
  {
   "cell_type": "code",
   "execution_count": 3,
   "id": "ca7052f2",
   "metadata": {},
   "outputs": [],
   "source": [
    "# Setting our seaborn style and palette\n",
    "sns.set_style('darkgrid')\n",
    "sns.set_palette('icefire')"
   ]
  },
  {
   "cell_type": "code",
   "execution_count": 4,
   "id": "65033d77",
   "metadata": {},
   "outputs": [],
   "source": [
    "# import cleaned datasets/ original Kaggle datasets \n",
    "test = pd.read_csv(\"../data/test.csv\", parse_dates=[1])\n",
    "weather = pd.read_csv(\"../data/weather_tidied.csv\", parse_dates=[1])"
   ]
  },
  {
   "cell_type": "code",
   "execution_count": 5,
   "id": "36ebacde",
   "metadata": {},
   "outputs": [
    {
     "name": "stdout",
     "output_type": "stream",
     "text": [
      "(116293, 11)\n",
      "<class 'pandas.core.frame.DataFrame'>\n",
      "RangeIndex: 116293 entries, 0 to 116292\n",
      "Data columns (total 11 columns):\n",
      " #   Column                  Non-Null Count   Dtype         \n",
      "---  ------                  --------------   -----         \n",
      " 0   id                      116293 non-null  int64         \n",
      " 1   date                    116293 non-null  datetime64[ns]\n",
      " 2   address                 116293 non-null  object        \n",
      " 3   species                 116293 non-null  object        \n",
      " 4   block                   116293 non-null  int64         \n",
      " 5   street                  116293 non-null  object        \n",
      " 6   trap                    116293 non-null  object        \n",
      " 7   addressnumberandstreet  116293 non-null  object        \n",
      " 8   latitude                116293 non-null  float64       \n",
      " 9   longitude               116293 non-null  float64       \n",
      " 10  addressaccuracy         116293 non-null  int64         \n",
      "dtypes: datetime64[ns](1), float64(2), int64(3), object(5)\n",
      "memory usage: 9.8+ MB\n"
     ]
    }
   ],
   "source": [
    "print(test.shape)\n",
    "test.columns = test.columns.str.lower()\n",
    "test.info()"
   ]
  },
  {
   "cell_type": "code",
   "execution_count": 6,
   "id": "c46fc1f1",
   "metadata": {},
   "outputs": [],
   "source": [
    "def initial_clean(df):\n",
    "    df.drop(columns=['address', 'block', 'street', 'addressaccuracy'], inplace=True)\n",
    "    return df"
   ]
  },
  {
   "cell_type": "code",
   "execution_count": 7,
   "id": "e23923c4",
   "metadata": {},
   "outputs": [
    {
     "name": "stdout",
     "output_type": "stream",
     "text": [
      "<class 'pandas.core.frame.DataFrame'>\n",
      "RangeIndex: 116293 entries, 0 to 116292\n",
      "Data columns (total 7 columns):\n",
      " #   Column                  Non-Null Count   Dtype         \n",
      "---  ------                  --------------   -----         \n",
      " 0   id                      116293 non-null  int64         \n",
      " 1   date                    116293 non-null  datetime64[ns]\n",
      " 2   species                 116293 non-null  object        \n",
      " 3   trap                    116293 non-null  object        \n",
      " 4   addressnumberandstreet  116293 non-null  object        \n",
      " 5   latitude                116293 non-null  float64       \n",
      " 6   longitude               116293 non-null  float64       \n",
      "dtypes: datetime64[ns](1), float64(2), int64(1), object(3)\n",
      "memory usage: 6.2+ MB\n"
     ]
    }
   ],
   "source": [
    "test_iter1 = initial_clean(test)\n",
    "test_iter1.info()"
   ]
  },
  {
   "cell_type": "code",
   "execution_count": 8,
   "id": "a8dbde10",
   "metadata": {},
   "outputs": [],
   "source": [
    "def date_feature_engineering(df):\n",
    "    df['year'] = df['date'].dt.year\n",
    "    df['month'] = df['date'].dt.month\n",
    "    df['week'] = df['date'].dt.isocalendar().week\n",
    "    df['year_month'] = df['date'].dt.strftime(\"%Y-%m\")\n",
    "\n",
    "    return df"
   ]
  },
  {
   "cell_type": "code",
   "execution_count": 9,
   "id": "1a6d81fb",
   "metadata": {},
   "outputs": [
    {
     "name": "stdout",
     "output_type": "stream",
     "text": [
      "<class 'pandas.core.frame.DataFrame'>\n",
      "RangeIndex: 116293 entries, 0 to 116292\n",
      "Data columns (total 11 columns):\n",
      " #   Column                  Non-Null Count   Dtype         \n",
      "---  ------                  --------------   -----         \n",
      " 0   id                      116293 non-null  int64         \n",
      " 1   date                    116293 non-null  datetime64[ns]\n",
      " 2   species                 116293 non-null  object        \n",
      " 3   trap                    116293 non-null  object        \n",
      " 4   addressnumberandstreet  116293 non-null  object        \n",
      " 5   latitude                116293 non-null  float64       \n",
      " 6   longitude               116293 non-null  float64       \n",
      " 7   year                    116293 non-null  int64         \n",
      " 8   month                   116293 non-null  int64         \n",
      " 9   week                    116293 non-null  UInt32        \n",
      " 10  year_month              116293 non-null  object        \n",
      "dtypes: UInt32(1), datetime64[ns](1), float64(2), int64(3), object(4)\n",
      "memory usage: 9.4+ MB\n"
     ]
    }
   ],
   "source": [
    "test_iter2 = date_feature_engineering(test_iter1)\n",
    "test_iter2.info()"
   ]
  },
  {
   "cell_type": "code",
   "execution_count": 10,
   "id": "302a81d7",
   "metadata": {},
   "outputs": [],
   "source": [
    "def dummify_species(df):\n",
    "    species_of_interest = ['RESTUANS', 'PIPIENS']\n",
    "    # create loop to create dummified variables to indicate presence of Pipiens & Restuans species\n",
    "    for i in species_of_interest:\n",
    "        df[i] = 0\n",
    "        for index, row in df.iterrows():\n",
    "            if i in row[\"species\"]:\n",
    "                df[i][index] = 1\n",
    "    \n",
    "    return df"
   ]
  },
  {
   "cell_type": "code",
   "execution_count": 11,
   "id": "e64359c7",
   "metadata": {},
   "outputs": [
    {
     "name": "stdout",
     "output_type": "stream",
     "text": [
      "<class 'pandas.core.frame.DataFrame'>\n",
      "RangeIndex: 116293 entries, 0 to 116292\n",
      "Data columns (total 13 columns):\n",
      " #   Column                  Non-Null Count   Dtype         \n",
      "---  ------                  --------------   -----         \n",
      " 0   id                      116293 non-null  int64         \n",
      " 1   date                    116293 non-null  datetime64[ns]\n",
      " 2   species                 116293 non-null  object        \n",
      " 3   trap                    116293 non-null  object        \n",
      " 4   addressnumberandstreet  116293 non-null  object        \n",
      " 5   latitude                116293 non-null  float64       \n",
      " 6   longitude               116293 non-null  float64       \n",
      " 7   year                    116293 non-null  int64         \n",
      " 8   month                   116293 non-null  int64         \n",
      " 9   week                    116293 non-null  UInt32        \n",
      " 10  year_month              116293 non-null  object        \n",
      " 11  RESTUANS                116293 non-null  int64         \n",
      " 12  PIPIENS                 116293 non-null  int64         \n",
      "dtypes: UInt32(1), datetime64[ns](1), float64(2), int64(5), object(4)\n",
      "memory usage: 11.2+ MB\n"
     ]
    }
   ],
   "source": [
    "test_iter3 = dummify_species(test_iter2)\n",
    "test_iter3.info()"
   ]
  },
  {
   "cell_type": "code",
   "execution_count": 12,
   "id": "a008c1af",
   "metadata": {},
   "outputs": [],
   "source": [
    "# Read wnv risk buckets from folder\n",
    "wnv_levels = pd.read_csv('../data/wnv_levels.csv')"
   ]
  },
  {
   "cell_type": "code",
   "execution_count": 13,
   "id": "55520091",
   "metadata": {},
   "outputs": [],
   "source": [
    "def dummify_risk_buckets(df, wnv_levels):\n",
    "    merged_df = df.merge(wnv_levels[['addressnumberandstreet', 'risk_bucket']], how='left', on='addressnumberandstreet')\n",
    "    merged_dum_df = pd.get_dummies(merged_df, columns=['risk_bucket'], prefix='bucket')\n",
    "    \n",
    "    return merged_dum_df"
   ]
  },
  {
   "cell_type": "code",
   "execution_count": 14,
   "id": "b6cce0be",
   "metadata": {},
   "outputs": [
    {
     "name": "stdout",
     "output_type": "stream",
     "text": [
      "<class 'pandas.core.frame.DataFrame'>\n",
      "Int64Index: 116293 entries, 0 to 116292\n",
      "Data columns (total 17 columns):\n",
      " #   Column                  Non-Null Count   Dtype         \n",
      "---  ------                  --------------   -----         \n",
      " 0   id                      116293 non-null  int64         \n",
      " 1   date                    116293 non-null  datetime64[ns]\n",
      " 2   species                 116293 non-null  object        \n",
      " 3   trap                    116293 non-null  object        \n",
      " 4   addressnumberandstreet  116293 non-null  object        \n",
      " 5   latitude                116293 non-null  float64       \n",
      " 6   longitude               116293 non-null  float64       \n",
      " 7   year                    116293 non-null  int64         \n",
      " 8   month                   116293 non-null  int64         \n",
      " 9   week                    116293 non-null  UInt32        \n",
      " 10  year_month              116293 non-null  object        \n",
      " 11  RESTUANS                116293 non-null  int64         \n",
      " 12  PIPIENS                 116293 non-null  int64         \n",
      " 13  bucket_high             116293 non-null  uint8         \n",
      " 14  bucket_low              116293 non-null  uint8         \n",
      " 15  bucket_medium           116293 non-null  uint8         \n",
      " 16  bucket_very low         116293 non-null  uint8         \n",
      "dtypes: UInt32(1), datetime64[ns](1), float64(2), int64(5), object(4), uint8(4)\n",
      "memory usage: 12.5+ MB\n"
     ]
    }
   ],
   "source": [
    "test_iter4 = dummify_risk_buckets(test_iter3, wnv_levels)\n",
    "test_iter4.info()"
   ]
  },
  {
   "cell_type": "code",
   "execution_count": 15,
   "id": "b583532b",
   "metadata": {},
   "outputs": [],
   "source": [
    "def determine_station(lat, long):\n",
    "    station1 = (41.995, -87.933) #Chicago O'Hare Tntl Airpot -> lat: 41.995 long: -87.933\n",
    "    station2 = (41.786, -87.752) #Chicago Midway Tntl Airpot -> lat: 41.786 long: -87.752\n",
    "    coordinates = (lat, long)\n",
    "    \n",
    "    return 1 if geodesic(coordinates, station1) < geodesic(coordinates, station2) else 2"
   ]
  },
  {
   "cell_type": "code",
   "execution_count": 16,
   "id": "4803fa04",
   "metadata": {},
   "outputs": [
    {
     "name": "stdout",
     "output_type": "stream",
     "text": [
      "<class 'pandas.core.frame.DataFrame'>\n",
      "Int64Index: 116293 entries, 0 to 116292\n",
      "Data columns (total 18 columns):\n",
      " #   Column                  Non-Null Count   Dtype         \n",
      "---  ------                  --------------   -----         \n",
      " 0   id                      116293 non-null  int64         \n",
      " 1   date                    116293 non-null  datetime64[ns]\n",
      " 2   species                 116293 non-null  object        \n",
      " 3   trap                    116293 non-null  object        \n",
      " 4   addressnumberandstreet  116293 non-null  object        \n",
      " 5   latitude                116293 non-null  float64       \n",
      " 6   longitude               116293 non-null  float64       \n",
      " 7   year                    116293 non-null  int64         \n",
      " 8   month                   116293 non-null  int64         \n",
      " 9   week                    116293 non-null  UInt32        \n",
      " 10  year_month              116293 non-null  object        \n",
      " 11  RESTUANS                116293 non-null  int64         \n",
      " 12  PIPIENS                 116293 non-null  int64         \n",
      " 13  bucket_high             116293 non-null  uint8         \n",
      " 14  bucket_low              116293 non-null  uint8         \n",
      " 15  bucket_medium           116293 non-null  uint8         \n",
      " 16  bucket_very low         116293 non-null  uint8         \n",
      " 17  station_ref             116293 non-null  int64         \n",
      "dtypes: UInt32(1), datetime64[ns](1), float64(2), int64(6), object(4), uint8(4)\n",
      "memory usage: 13.4+ MB\n",
      "Wall time: 51.5 s\n"
     ]
    }
   ],
   "source": [
    "%%time\n",
    "\n",
    "# Apply function to map our function\n",
    "test_iter4['station_ref'] = test_iter4.apply(lambda i: determine_station(i['latitude'], i['longitude']), axis=1)\n",
    "test_iter4.info()"
   ]
  },
  {
   "cell_type": "code",
   "execution_count": 17,
   "id": "2db7884c",
   "metadata": {},
   "outputs": [
    {
     "name": "stdout",
     "output_type": "stream",
     "text": [
      "(2944, 13)\n"
     ]
    },
    {
     "data": {
      "text/html": [
       "<div>\n",
       "<style scoped>\n",
       "    .dataframe tbody tr th:only-of-type {\n",
       "        vertical-align: middle;\n",
       "    }\n",
       "\n",
       "    .dataframe tbody tr th {\n",
       "        vertical-align: top;\n",
       "    }\n",
       "\n",
       "    .dataframe thead th {\n",
       "        text-align: right;\n",
       "    }\n",
       "</style>\n",
       "<table border=\"1\" class=\"dataframe\">\n",
       "  <thead>\n",
       "    <tr style=\"text-align: right;\">\n",
       "      <th></th>\n",
       "      <th>station</th>\n",
       "      <th>date</th>\n",
       "      <th>tmax</th>\n",
       "      <th>tmin</th>\n",
       "      <th>tavg</th>\n",
       "      <th>dewpoint</th>\n",
       "      <th>preciptotal</th>\n",
       "      <th>stnpressure</th>\n",
       "      <th>sealevel</th>\n",
       "      <th>avgspeed</th>\n",
       "      <th>raining</th>\n",
       "      <th>misty</th>\n",
       "      <th>humidity</th>\n",
       "    </tr>\n",
       "  </thead>\n",
       "  <tbody>\n",
       "    <tr>\n",
       "      <th>0</th>\n",
       "      <td>1</td>\n",
       "      <td>2007-05-01</td>\n",
       "      <td>83</td>\n",
       "      <td>50</td>\n",
       "      <td>67.0</td>\n",
       "      <td>51</td>\n",
       "      <td>0.0</td>\n",
       "      <td>29.10</td>\n",
       "      <td>29.82</td>\n",
       "      <td>9.2</td>\n",
       "      <td>0</td>\n",
       "      <td>0</td>\n",
       "      <td>56.410238</td>\n",
       "    </tr>\n",
       "    <tr>\n",
       "      <th>1</th>\n",
       "      <td>2</td>\n",
       "      <td>2007-05-01</td>\n",
       "      <td>84</td>\n",
       "      <td>52</td>\n",
       "      <td>68.0</td>\n",
       "      <td>51</td>\n",
       "      <td>0.0</td>\n",
       "      <td>29.18</td>\n",
       "      <td>29.82</td>\n",
       "      <td>9.6</td>\n",
       "      <td>0</td>\n",
       "      <td>0</td>\n",
       "      <td>54.497276</td>\n",
       "    </tr>\n",
       "    <tr>\n",
       "      <th>2</th>\n",
       "      <td>1</td>\n",
       "      <td>2007-05-02</td>\n",
       "      <td>59</td>\n",
       "      <td>42</td>\n",
       "      <td>51.0</td>\n",
       "      <td>42</td>\n",
       "      <td>0.0</td>\n",
       "      <td>29.38</td>\n",
       "      <td>30.09</td>\n",
       "      <td>13.4</td>\n",
       "      <td>0</td>\n",
       "      <td>1</td>\n",
       "      <td>71.176939</td>\n",
       "    </tr>\n",
       "    <tr>\n",
       "      <th>3</th>\n",
       "      <td>2</td>\n",
       "      <td>2007-05-02</td>\n",
       "      <td>60</td>\n",
       "      <td>43</td>\n",
       "      <td>52.0</td>\n",
       "      <td>42</td>\n",
       "      <td>0.0</td>\n",
       "      <td>29.44</td>\n",
       "      <td>30.08</td>\n",
       "      <td>13.4</td>\n",
       "      <td>0</td>\n",
       "      <td>1</td>\n",
       "      <td>68.594699</td>\n",
       "    </tr>\n",
       "    <tr>\n",
       "      <th>4</th>\n",
       "      <td>1</td>\n",
       "      <td>2007-05-03</td>\n",
       "      <td>66</td>\n",
       "      <td>46</td>\n",
       "      <td>56.0</td>\n",
       "      <td>40</td>\n",
       "      <td>0.0</td>\n",
       "      <td>29.39</td>\n",
       "      <td>30.12</td>\n",
       "      <td>11.9</td>\n",
       "      <td>0</td>\n",
       "      <td>0</td>\n",
       "      <td>54.848860</td>\n",
       "    </tr>\n",
       "  </tbody>\n",
       "</table>\n",
       "</div>"
      ],
      "text/plain": [
       "   station       date  tmax  tmin  tavg  dewpoint  preciptotal  stnpressure  \\\n",
       "0        1 2007-05-01    83    50  67.0        51          0.0        29.10   \n",
       "1        2 2007-05-01    84    52  68.0        51          0.0        29.18   \n",
       "2        1 2007-05-02    59    42  51.0        42          0.0        29.38   \n",
       "3        2 2007-05-02    60    43  52.0        42          0.0        29.44   \n",
       "4        1 2007-05-03    66    46  56.0        40          0.0        29.39   \n",
       "\n",
       "   sealevel  avgspeed  raining  misty   humidity  \n",
       "0     29.82       9.2        0      0  56.410238  \n",
       "1     29.82       9.6        0      0  54.497276  \n",
       "2     30.09      13.4        0      1  71.176939  \n",
       "3     30.08      13.4        0      1  68.594699  \n",
       "4     30.12      11.9        0      0  54.848860  "
      ]
     },
     "execution_count": 17,
     "metadata": {},
     "output_type": "execute_result"
    }
   ],
   "source": [
    "# Import tidied weather dataset\n",
    "weather = pd.read_csv('../data/weather_tidied.csv', parse_dates=[1])\n",
    "print(weather.shape)\n",
    "weather.head()"
   ]
  },
  {
   "cell_type": "code",
   "execution_count": 18,
   "id": "42c42d94",
   "metadata": {},
   "outputs": [
    {
     "name": "stdout",
     "output_type": "stream",
     "text": [
      "<class 'pandas.core.frame.DataFrame'>\n",
      "Int64Index: 116293 entries, 0 to 116292\n",
      "Data columns (total 29 columns):\n",
      " #   Column                  Non-Null Count   Dtype         \n",
      "---  ------                  --------------   -----         \n",
      " 0   id                      116293 non-null  int64         \n",
      " 1   date                    116293 non-null  datetime64[ns]\n",
      " 2   species                 116293 non-null  object        \n",
      " 3   trap                    116293 non-null  object        \n",
      " 4   addressnumberandstreet  116293 non-null  object        \n",
      " 5   latitude                116293 non-null  float64       \n",
      " 6   longitude               116293 non-null  float64       \n",
      " 7   year                    116293 non-null  int64         \n",
      " 8   month                   116293 non-null  int64         \n",
      " 9   week                    116293 non-null  UInt32        \n",
      " 10  year_month              116293 non-null  object        \n",
      " 11  RESTUANS                116293 non-null  int64         \n",
      " 12  PIPIENS                 116293 non-null  int64         \n",
      " 13  bucket_high             116293 non-null  uint8         \n",
      " 14  bucket_low              116293 non-null  uint8         \n",
      " 15  bucket_medium           116293 non-null  uint8         \n",
      " 16  bucket_very low         116293 non-null  uint8         \n",
      " 17  station_ref             116293 non-null  int64         \n",
      " 18  tmax                    116293 non-null  int64         \n",
      " 19  tmin                    116293 non-null  int64         \n",
      " 20  tavg                    116293 non-null  float64       \n",
      " 21  dewpoint                116293 non-null  int64         \n",
      " 22  preciptotal             116293 non-null  float64       \n",
      " 23  stnpressure             116293 non-null  float64       \n",
      " 24  sealevel                116293 non-null  float64       \n",
      " 25  avgspeed                116293 non-null  float64       \n",
      " 26  raining                 116293 non-null  int64         \n",
      " 27  misty                   116293 non-null  int64         \n",
      " 28  humidity                116293 non-null  float64       \n",
      "dtypes: UInt32(1), datetime64[ns](1), float64(8), int64(11), object(4), uint8(4)\n",
      "memory usage: 23.2+ MB\n"
     ]
    }
   ],
   "source": [
    "test_iter5 = test_iter4.merge(weather, how='left', left_on=['station_ref', 'date'], right_on=['station', 'date'])\n",
    "test_iter5.drop(columns=[\"station\"], inplace=True)\n",
    "test_iter5.info()"
   ]
  },
  {
   "cell_type": "code",
   "execution_count": 19,
   "id": "93ec698f",
   "metadata": {},
   "outputs": [],
   "source": [
    "def create_pivot(df):\n",
    "    # Aggregating weather data by year and month\n",
    "    weather['year_month'] = weather['date'].dt.strftime('%Y-%m')\n",
    "    \n",
    "    # Adding this to use as key for lag variables\n",
    "    df['year_month_lag1'] = (df['date'] - pd.DateOffset(months=1)).dt.strftime('%Y-%m')\n",
    "\n",
    "    # Creating a temporary pivot table to extract weather states by year month\n",
    "    pivot = pd.DataFrame(pd.pivot_table(data=weather, index=['station','year_month'], \n",
    "                                        values=['tmin', 'tmax', 'tavg', 'dewpoint', 'preciptotal', 'sealevel', \n",
    "                                                'avgspeed', 'humidity'], aggfunc='mean').to_records())\n",
    "    \n",
    "    old_col = pivot.drop(columns='station').columns\n",
    "    new_col = old_col + \"_\"\n",
    "    pivot = pivot.rename(columns = dict(zip(old_col.tolist(), new_col.tolist())))\n",
    "    \n",
    "    # Assigning aggregated year month values into train_merged_df from pivot\n",
    "    for i in new_col[1:]:\n",
    "        print(i)\n",
    "#         df = pivot[['station', 'year_month_', i]].merge(df, how='right', left_on=['station', 'year_month_'], \n",
    "#                                                         right_on=['station_ref', 'year_month']).rename(columns={i: i + 'lag0'}).drop(['station', 'year_month_'], axis='columns')\n",
    "        \n",
    "        df = pivot[['station', 'year_month_', i]].merge(df, how='right', left_on=['station', 'year_month_'], \n",
    "                                                        right_on=['station_ref', 'year_month_lag1']).rename(columns={i: i + 'lag1'}).drop(['station', 'year_month_'], axis='columns')\n",
    "    \n",
    "    return df"
   ]
  },
  {
   "cell_type": "code",
   "execution_count": 20,
   "id": "7f9ad597",
   "metadata": {},
   "outputs": [
    {
     "name": "stdout",
     "output_type": "stream",
     "text": [
      "avgspeed_\n",
      "dewpoint_\n",
      "humidity_\n",
      "preciptotal_\n",
      "sealevel_\n",
      "tavg_\n",
      "tmax_\n",
      "tmin_\n",
      "<class 'pandas.core.frame.DataFrame'>\n",
      "Int64Index: 116293 entries, 0 to 116292\n",
      "Data columns (total 38 columns):\n",
      " #   Column                  Non-Null Count   Dtype         \n",
      "---  ------                  --------------   -----         \n",
      " 0   tmin_lag1               116293 non-null  float64       \n",
      " 1   tmax_lag1               116293 non-null  float64       \n",
      " 2   tavg_lag1               116293 non-null  float64       \n",
      " 3   sealevel_lag1           116293 non-null  float64       \n",
      " 4   preciptotal_lag1        116293 non-null  float64       \n",
      " 5   humidity_lag1           116293 non-null  float64       \n",
      " 6   dewpoint_lag1           116293 non-null  float64       \n",
      " 7   avgspeed_lag1           116293 non-null  float64       \n",
      " 8   id                      116293 non-null  int64         \n",
      " 9   date                    116293 non-null  datetime64[ns]\n",
      " 10  species                 116293 non-null  object        \n",
      " 11  trap                    116293 non-null  object        \n",
      " 12  addressnumberandstreet  116293 non-null  object        \n",
      " 13  latitude                116293 non-null  float64       \n",
      " 14  longitude               116293 non-null  float64       \n",
      " 15  year                    116293 non-null  int64         \n",
      " 16  month                   116293 non-null  int64         \n",
      " 17  week                    116293 non-null  UInt32        \n",
      " 18  year_month              116293 non-null  object        \n",
      " 19  RESTUANS                116293 non-null  int64         \n",
      " 20  PIPIENS                 116293 non-null  int64         \n",
      " 21  bucket_high             116293 non-null  uint8         \n",
      " 22  bucket_low              116293 non-null  uint8         \n",
      " 23  bucket_medium           116293 non-null  uint8         \n",
      " 24  bucket_very low         116293 non-null  uint8         \n",
      " 25  station_ref             116293 non-null  int64         \n",
      " 26  tmax                    116293 non-null  int64         \n",
      " 27  tmin                    116293 non-null  int64         \n",
      " 28  tavg                    116293 non-null  float64       \n",
      " 29  dewpoint                116293 non-null  int64         \n",
      " 30  preciptotal             116293 non-null  float64       \n",
      " 31  stnpressure             116293 non-null  float64       \n",
      " 32  sealevel                116293 non-null  float64       \n",
      " 33  avgspeed                116293 non-null  float64       \n",
      " 34  raining                 116293 non-null  int64         \n",
      " 35  misty                   116293 non-null  int64         \n",
      " 36  humidity                116293 non-null  float64       \n",
      " 37  year_month_lag1         116293 non-null  object        \n",
      "dtypes: UInt32(1), datetime64[ns](1), float64(16), int64(11), object(5), uint8(4)\n",
      "memory usage: 31.2+ MB\n"
     ]
    }
   ],
   "source": [
    "test_iter6 = create_pivot(test_iter5)\n",
    "test_iter6.info()"
   ]
  },
  {
   "cell_type": "code",
   "execution_count": 21,
   "id": "10b98cfa",
   "metadata": {},
   "outputs": [],
   "source": [
    "test_iter6.dropna(inplace=True)\n",
    "test_iter6.drop(columns=['date', 'station_ref', 'year_month', \n",
    "                                'year_month_lag1', 'species', \n",
    "                                \"addressnumberandstreet\", \"trap\", \"longitude\", \"latitude\"], inplace=True)"
   ]
  },
  {
   "cell_type": "code",
   "execution_count": 22,
   "id": "5e4c03fe",
   "metadata": {},
   "outputs": [
    {
     "data": {
      "text/plain": [
       "id                        0\n",
       "date                      0\n",
       "species                   0\n",
       "trap                      0\n",
       "addressnumberandstreet    0\n",
       "latitude                  0\n",
       "longitude                 0\n",
       "year                      0\n",
       "month                     0\n",
       "week                      0\n",
       "year_month                0\n",
       "RESTUANS                  0\n",
       "PIPIENS                   0\n",
       "dtype: int64"
      ]
     },
     "execution_count": 22,
     "metadata": {},
     "output_type": "execute_result"
    }
   ],
   "source": [
    "# generate predictions\n",
    "pred = predict(test_data)\n",
    "pred"
   ]
  },
  {
   "cell_type": "code",
   "execution_count": null,
   "id": "8ccfb9b5",
   "metadata": {},
   "outputs": [],
   "source": []
  }
 ],
 "metadata": {
  "kernelspec": {
   "display_name": "Python 3",
   "language": "python",
   "name": "python3"
  },
  "language_info": {
   "codemirror_mode": {
    "name": "ipython",
    "version": 3
   },
   "file_extension": ".py",
   "mimetype": "text/x-python",
   "name": "python",
   "nbconvert_exporter": "python",
   "pygments_lexer": "ipython3",
   "version": "3.8.8"
  }
 },
 "nbformat": 4,
 "nbformat_minor": 5
}
