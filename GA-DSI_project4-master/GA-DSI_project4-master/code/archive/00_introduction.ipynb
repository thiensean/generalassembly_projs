{
 "cells": [
  {
   "cell_type": "markdown",
   "id": "0e4eacbf-bf06-4d93-949e-0ab66cb9a187",
   "metadata": {},
   "source": [
    "<img src=\"http://imgur.com/1ZcRyrc.png\" style=\"float: left; margin: 20px; height: 55px\">\n",
    "\n",
    "# Project 4 : Kaggle - Chicago West Nile Virus"
   ]
  },
  {
   "cell_type": "markdown",
   "id": "ca04fee2-d6d5-4d31-9475-91c2a0a3bb83",
   "metadata": {},
   "source": [
    "### DSIF3 - Group 3\n",
    "#### DJ Cheong, Lim Thien Sean, Nazira Rasol, Shuyi"
   ]
  },
  {
   "cell_type": "markdown",
   "id": "0a0cccb0-d802-4a67-9f61-79d68e771158",
   "metadata": {
    "jp-MarkdownHeadingCollapsed": true,
    "tags": []
   },
   "source": [
    "# Problem Statement\n",
    "\n",
    "The ultimate aim is to the prevent transmission of the mosquito-borne West Nile Virus. \n",
    "\n",
    "#### Project Goal\n",
    "\n",
    "To derive an effective and cost-conscious plan to deploy pesticides throughout the city. By getting seasonality data and predicting high risk areas.\n",
    "\n",
    "#### Model to be developed\n",
    "\n",
    "We will then train a classifier to accurately classify **where** and **when** the mosquitoes bearing West Nile virus are located. We will be using the following models of Logistic Regression, AdaBoost and XGBoost, before selecting the best performing model to be refined.\n",
    "\n",
    "#### Success evaluation\n",
    "\n",
    "We evaluate success as the final model being able to provide sufficiently high level of classification accuracy based on:\n",
    "\n",
    "1. F1 score - where it doesn't only take into account number of prediction errors but the type of errors made, hence suitable for imbalanced class problems.\n",
    "\n",
    "2. AUC ROC score - classification separability will be our metric to determine how distinctive classes are.\n",
    "\n",
    "and providing a cost-benefit analysis that shows projected savings based on historical spending. \n",
    "\n",
    "\n",
    "#### Scope of the project\n",
    "\n",
    "1. EDA, Preprocessing\n",
    "2. Inferential and descriptive statistical analysis\n",
    "3. Distribution examination\n",
    "4. SMOTE oversampling for imbalanced class management\n",
    "5. Performing necessary data scaling\n",
    "6. Data modeling\n",
    "7. Hyperparameters tuning\n",
    "8. SHAP model interpretation\n",
    "9. Cost benefit analysis\n",
    "10. Conclusion\n",
    "11. Recommendation\n",
    "\n",
    "#### Who cares?\n",
    "\n",
    "Any person who is living within potential breeding hotspots for mosquitoes bearing West Nile virus. With a larger social and economic impact extending to next of kin.\n",
    "\n",
    "\n",
    "#### Audience and the primary and secondary stakeholders\n",
    "\n",
    "We are presenting to members of the CDC, biostatisticians and epidemiologists & decision-makers. To address the concerns of the primary stakeholders, the government and residents of the Chicago. Secondary stakeholders are residents of Illinois. "
   ]
  },
  {
   "cell_type": "markdown",
   "id": "26b24597-3c79-494c-b607-89f1e1d94f24",
   "metadata": {},
   "source": [
    "# Background\n",
    "\n",
    "West Nile virus (WNV), a mosquito-borne zoonotic disease, was first identified in the United States in the summer of 1999 in New York City. Since its first successful invasion in New York, WNV quickly adapted to the local populations of Culex vector mosquitoes and avian populations and rapidly spread throughout the United States. \n",
    "\n",
    "The first major WNV outbreak in the United States was observed in 2002, when more than 4,150 human cases and 284 deaths attributable to WNV infection were reported to the CDC from 40 states compared to only 149 cases and 19 deaths from 10 states cumulatively during the three years from 1999 to 2001. This stirred a prompt public health response from federal, state, and local public health agencies and led to the establishment of a more robust surveillance of mosquitoes and birds to monitor and control the spread of WNV.\n",
    "\n",
    "Public health surveillance for West Nile virus (WNV) involves collection and testing of Culex vector mosquitoes, collection and testing of dead birds suspected to have died of WNV, testing of sentinel chickens or of wild birds captured for this purpose, and reporting of cases of human and equine illness. The ultimate goal of these surveillance data is to target mosquito control, and thereby reduce illness through the reduction of the number of infected vector mosquitoes, and to target educational messages to warn citizens to reduce individual exposure. \n",
    "\n",
    "One additional advantage of having a strong surveillance system in place is that the long-term data generated can be integrated with publicly available weather, landscape, and socioeconomic data and can be used effectively to identify the important drivers of WNV transmission and to develop predictive models.\n",
    "\n",
    "In Illinois, WNV human infections have been endemic since 2002, with annual variability in the number of cases. The majority of the human WNV cases have been reported from the northeastern region, where the largest number of people in the state is congregated."
   ]
  },
  {
   "cell_type": "markdown",
   "id": "ed0661d3-f4e7-4ca7-a207-69f0776a1fb6",
   "metadata": {},
   "source": [
    "# Data\n",
    "\n",
    "We were directed to use the following datasets obtained from [Kaggle](https://www.kaggle.com/c/predict-west-nile-virus/data)."
   ]
  },
  {
   "cell_type": "markdown",
   "id": "5beecb12-1dee-4adb-a252-d05b60e17f57",
   "metadata": {
    "jp-MarkdownHeadingCollapsed": true,
    "tags": []
   },
   "source": [
    "# Outside Research\n",
    "\n",
    "#### Readings related to West Nile Virus\n",
    "\n",
    "1. The drivers of West Nile virus human illness in the Chicago, Illinois, USA area: Fine scale dynamic effects of weather, mosquito infection, social, and biological conditions\n",
    "Surendra Karki,William M. Brown,John Uelmen,Marilyn O’Hara Ruiz,Rebecca Lee Smith \n",
    "Published: May 21, 2020 https://doi.org/10.1371/journal.pone.0227160 \n",
    "2. https://cookcountypublichealth.org/communicable-diseases/west-nile-virus/\n",
    "3. Chicago NBC News https://www.nbcchicago.com/tag/west-nile-virus/\n",
    "4. Public surveillance https://www.chicago.gov/city/en/depts/cdph/provdrs/healthy_communities/svcs/report_standing_water.html\n",
    "5. Hopkins Medicine https://www.hopkinsmedicine.org/health/conditions-and-diseases/west-nile-virus\n",
    "\n",
    "#### Readings related to other data modelling done\n",
    "1. https://towardsdatascience.com/a-go-at-kaggle-723447f8d95f\n",
    "2. https://medium.com/@vijay.swamy1/where-in-chicago-will-the-west-nile-virus-occur-8b6b6d50c94a\n",
    "3. https://github.com/zql321/DSIFProjects/tree/main/ML%20Prediction%20West%20Nile%20Virus%20Project%204\n",
    "4. https://github.com/zzeniale/West-Nile-Virus-prediction\n",
    "5. https://github.com/xbno/DSI-Projects/tree/master/Unassigned%20Project\n",
    "6. https://github.com/zql321/DSIFProjects/tree/main/ML%20Prediction%20West%20Nile%20Virus%20Project%204\n",
    "\n",
    "#### Readings related to Cost Benefit Analysis\n",
    "\n",
    "1. https://thebottomlinegroup.com/20-cost-saving-ideas-for-the-workplace/\n",
    "2. https://www.cmmcp.org/pesticide-information/pages/zenivex-e4-etofenprox#:~:text=Zenivex%20is%20an%20insecticide%20that,of%20sunlight%20and%2For%20microorganisms\n",
    "3. Area of Chicago: 149,800 acres https://www.chicago.gov/city/en/about/facts.html\n",
    "4. Spray used by Chicago is Zenivex E4 https://www.fox32chicago.com/news/chicago-to-spray-insecticide-to-protect-against-west-nile-virus\n",
    "5. Cost of Spray https://www.centralmosquitocontrol.com/-/media/files/centralmosquitocontrol-na/us/resources-lit%20files/zenivex%20cost%20comparison%20fact%20sheet.pdf\n",
    "6. Medical Costs in Chicago https://www.sciencedaily.com/releases/2014/02/140210184713.htm\n",
    "7. Population Affected by WNV in Chicago, 2014 https://www.nbcchicago.com/news/local/illinois-reports-first-west-nile-virus-deaths-of-2014/63948/\n",
    "8. Productivity Costs in Chicago https://www.ncbi.nlm.nih.gov/pmc/articles/PMC3322011/"
   ]
  },
  {
   "cell_type": "markdown",
   "id": "b96abfcd-cf82-4dd8-bb74-3ab50c944553",
   "metadata": {},
   "source": [
    "# Project Planning\n",
    "\n",
    "Project planning documentation via free-to-use project management tool Monday.com can be found [here](https://shu168270.monday.com/boards/2332771771)."
   ]
  },
  {
   "cell_type": "code",
   "execution_count": null,
   "id": "19e5bd46-0a7d-451e-8290-70ef50a125c5",
   "metadata": {},
   "outputs": [],
   "source": []
  }
 ],
 "metadata": {
  "kernelspec": {
   "display_name": "Python 3 (ipykernel)",
   "language": "python",
   "name": "python3"
  },
  "language_info": {
   "codemirror_mode": {
    "name": "ipython",
    "version": 3
   },
   "file_extension": ".py",
   "mimetype": "text/x-python",
   "name": "python",
   "nbconvert_exporter": "python",
   "pygments_lexer": "ipython3",
   "version": "3.8.8"
  }
 },
 "nbformat": 4,
 "nbformat_minor": 5
}
