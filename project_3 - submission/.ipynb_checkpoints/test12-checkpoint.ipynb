{
 "cells": [
  {
   "cell_type": "markdown",
   "id": "aa92fae0",
   "metadata": {},
   "source": [
    "# 1. Import libraries and setup conditions"
   ]
  },
  {
   "cell_type": "markdown",
   "id": "5d50cc89",
   "metadata": {},
   "source": [
    "### Import libraries"
   ]
  },
  {
   "cell_type": "code",
   "execution_count": null,
   "id": "81f439d7",
   "metadata": {},
   "outputs": [],
   "source": [
    "import requests\n",
    "import pandas as pd\n",
    "from pmaw import PushshiftAPI\n",
    "from pandas import DataFrame as df"
   ]
  },
  {
   "cell_type": "markdown",
   "id": "d802d7c2",
   "metadata": {},
   "source": [
    "### Use pushshiftAPI to scrape more than 100 posts limit"
   ]
  },
  {
   "cell_type": "code",
   "execution_count": null,
   "id": "db39fd75",
   "metadata": {},
   "outputs": [],
   "source": [
    "api = PushshiftAPI()"
   ]
  },
  {
   "cell_type": "markdown",
   "id": "c0003d46",
   "metadata": {},
   "source": [
    "### Setting the date range for scraping"
   ]
  },
  {
   "cell_type": "code",
   "execution_count": null,
   "id": "509ac7ab",
   "metadata": {},
   "outputs": [],
   "source": [
    "import datetime as dt\n",
    "before = int(dt.datetime(2021,12,25,0,0).timestamp())\n",
    "after = int(dt.datetime(2019,12,1,0,0).timestamp())"
   ]
  },
  {
   "cell_type": "markdown",
   "id": "fd0940df",
   "metadata": {},
   "source": [
    "# 2. Scrape Aliens subreddit comments"
   ]
  },
  {
   "cell_type": "markdown",
   "id": "23fc06d9",
   "metadata": {},
   "source": [
    "### Setting scrape limit to 100,000"
   ]
  },
  {
   "cell_type": "code",
   "execution_count": null,
   "id": "407b5ee0",
   "metadata": {
    "scrolled": true
   },
   "outputs": [],
   "source": [
    "subreddit=\"aliens\"\n",
    "limit=100000\n",
    "aliens_comments = api.search_comments(subreddit=subreddit, limit=limit, before=before, after=after, rate_limit=120, max_sleep=10)\n",
    "print(f'Retrieved {len(aliens_comments)} comments from Pushshift')"
   ]
  },
  {
   "cell_type": "markdown",
   "id": "2794a42d",
   "metadata": {},
   "source": [
    "### Create Aliens comments dataframe"
   ]
  },
  {
   "cell_type": "code",
   "execution_count": null,
   "id": "cbbb0aa1",
   "metadata": {},
   "outputs": [],
   "source": [
    "aliens_comments = pd.DataFrame(aliens_comments)"
   ]
  },
  {
   "cell_type": "code",
   "execution_count": null,
   "id": "519c56e1",
   "metadata": {},
   "outputs": [],
   "source": [
    "aliens_comments.columns"
   ]
  },
  {
   "cell_type": "code",
   "execution_count": null,
   "id": "060dbe87",
   "metadata": {},
   "outputs": [],
   "source": [
    "aliens_comments_df = aliens_comments[['subreddit', 'body']]"
   ]
  },
  {
   "cell_type": "code",
   "execution_count": null,
   "id": "a729d9c9",
   "metadata": {},
   "outputs": [],
   "source": [
    "aliens_comments_df.head(3)"
   ]
  },
  {
   "cell_type": "markdown",
   "id": "46b335b5",
   "metadata": {},
   "source": [
    "### Output Aliens comments to csv"
   ]
  },
  {
   "cell_type": "code",
   "execution_count": null,
   "id": "90458ddd",
   "metadata": {},
   "outputs": [],
   "source": [
    "aliens_comments_df.to_csv('./datasets/aliens_comments.csv', index=False)"
   ]
  },
  {
   "cell_type": "markdown",
   "id": "5746dabe",
   "metadata": {},
   "source": [
    "# 3. Scrape Space subreddit comments"
   ]
  },
  {
   "cell_type": "markdown",
   "id": "9646b39e",
   "metadata": {},
   "source": [
    "### Setting scrape limit to 100,000"
   ]
  },
  {
   "cell_type": "code",
   "execution_count": null,
   "id": "490404b2",
   "metadata": {
    "scrolled": true
   },
   "outputs": [],
   "source": [
    "subreddit=\"space\"\n",
    "limit=100000\n",
    "space_comments = api.search_comments(subreddit=subreddit, limit=limit, before=before, after=after, rate_limit=120, max_sleep=10)\n",
    "print(f'Retrieved {len(space_comments)} comments from Pushshift')"
   ]
  },
  {
   "cell_type": "markdown",
   "id": "9d74d021",
   "metadata": {},
   "source": [
    "### Create Space comments dataframe"
   ]
  },
  {
   "cell_type": "code",
   "execution_count": null,
   "id": "84345b88",
   "metadata": {},
   "outputs": [],
   "source": [
    "space_comments = pd.DataFrame(space_comments)"
   ]
  },
  {
   "cell_type": "code",
   "execution_count": null,
   "id": "531c9b0f",
   "metadata": {},
   "outputs": [],
   "source": [
    "space_comments_df = space_comments[['subreddit', 'body']]"
   ]
  },
  {
   "cell_type": "code",
   "execution_count": null,
   "id": "8fbe225f",
   "metadata": {},
   "outputs": [],
   "source": [
    "space_comments_df.head(3)"
   ]
  },
  {
   "cell_type": "markdown",
   "id": "81c05166",
   "metadata": {},
   "source": [
    "### Output Space comments to csv"
   ]
  },
  {
   "cell_type": "code",
   "execution_count": null,
   "id": "03f2f589",
   "metadata": {},
   "outputs": [],
   "source": [
    "space_comments_df.to_csv('./datasets/space_comments.csv', index=False)"
   ]
  },
  {
   "cell_type": "markdown",
   "id": "f7695889",
   "metadata": {},
   "source": [
    "# 4. Scrape Aliens subreddit posts"
   ]
  },
  {
   "cell_type": "markdown",
   "id": "93ddd731",
   "metadata": {},
   "source": [
    "### Setting scrape limit to 100,000"
   ]
  },
  {
   "cell_type": "code",
   "execution_count": null,
   "id": "34cc4380",
   "metadata": {
    "scrolled": true
   },
   "outputs": [],
   "source": [
    "subreddit=\"aliens\"\n",
    "limit=100000\n",
    "aliens_posts = api.search_submissions(subreddit=subreddit, limit=limit, before=before, after=after, rate_limit=120, max_sleep=10)\n",
    "print(f'Retrieved {len(aliens_posts)} posts from Pushshift')"
   ]
  },
  {
   "cell_type": "code",
   "execution_count": null,
   "id": "e24b9e09",
   "metadata": {},
   "outputs": [],
   "source": [
    "aliens_posts = pd.DataFrame(aliens_posts)"
   ]
  },
  {
   "cell_type": "code",
   "execution_count": null,
   "id": "48864e87",
   "metadata": {},
   "outputs": [],
   "source": [
    "aliens_posts_df = aliens_posts[['subreddit', 'selftext', 'title']]"
   ]
  },
  {
   "cell_type": "markdown",
   "id": "251f7e19",
   "metadata": {},
   "source": [
    "### Output Aliens posts to csv"
   ]
  },
  {
   "cell_type": "code",
   "execution_count": null,
   "id": "790abf6c",
   "metadata": {},
   "outputs": [],
   "source": [
    "aliens_posts_df.to_csv('./datasets/aliens_posts.csv', index=False)"
   ]
  },
  {
   "cell_type": "markdown",
   "id": "38331d4f",
   "metadata": {},
   "source": [
    "# 5. Scrape Space subreddit posts"
   ]
  },
  {
   "cell_type": "markdown",
   "id": "7b0f34e9",
   "metadata": {},
   "source": [
    "### Setting scrape limit to 100,000"
   ]
  },
  {
   "cell_type": "code",
   "execution_count": null,
   "id": "9a8cac9f",
   "metadata": {
    "scrolled": true
   },
   "outputs": [],
   "source": [
    "subreddit=\"space\"\n",
    "limit=100000\n",
    "space_posts = api.search_submissions(subreddit=subreddit, limit=limit, before=before, after=after, rate_limit=120, max_sleep=10)\n",
    "print(f'Retrieved {len(space_posts)} posts from Pushshift')"
   ]
  },
  {
   "cell_type": "code",
   "execution_count": null,
   "id": "141cb4fa",
   "metadata": {},
   "outputs": [],
   "source": [
    "space_posts = pd.DataFrame(space_posts)"
   ]
  },
  {
   "cell_type": "code",
   "execution_count": null,
   "id": "b231c622",
   "metadata": {},
   "outputs": [],
   "source": [
    "space_posts_df = space_posts[['subreddit', 'selftext', 'title']]"
   ]
  },
  {
   "cell_type": "markdown",
   "id": "c212e234",
   "metadata": {},
   "source": [
    "### Output Space posts to csv"
   ]
  },
  {
   "cell_type": "code",
   "execution_count": null,
   "id": "d4257102",
   "metadata": {},
   "outputs": [],
   "source": [
    "space_posts_df.to_csv('./datasets/space_posts.csv', index=False)"
   ]
  },
  {
   "cell_type": "markdown",
   "id": "bd226bc8",
   "metadata": {},
   "source": [
    "# 6. Project will be continued in proj3_part2"
   ]
  }
 ],
 "metadata": {
  "kernelspec": {
   "display_name": "Python 3",
   "language": "python",
   "name": "python3"
  },
  "language_info": {
   "codemirror_mode": {
    "name": "ipython",
    "version": 3
   },
   "file_extension": ".py",
   "mimetype": "text/x-python",
   "name": "python",
   "nbconvert_exporter": "python",
   "pygments_lexer": "ipython3",
   "version": "3.8.8"
  }
 },
 "nbformat": 4,
 "nbformat_minor": 5
}
