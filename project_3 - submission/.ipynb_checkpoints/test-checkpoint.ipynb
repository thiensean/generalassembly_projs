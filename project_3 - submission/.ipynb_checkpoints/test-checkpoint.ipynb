{
 "cells": [
  {
   "cell_type": "markdown",
   "id": "04d036f7",
   "metadata": {},
   "source": [
    "# Continued from proj3_part1"
   ]
  },
  {
   "cell_type": "markdown",
   "id": "21deb2f8",
   "metadata": {},
   "source": [
    "## 1. Import relevant libraries"
   ]
  },
  {
   "cell_type": "code",
   "execution_count": 1,
   "id": "97329e66",
   "metadata": {},
   "outputs": [],
   "source": [
    "import numpy as np\n",
    "import pandas as pd\n",
    "from sklearn.model_selection import train_test_split\n",
    "from sklearn.pipeline import Pipeline\n",
    "from sklearn.model_selection import GridSearchCV\n",
    "from sklearn.feature_extraction.text import TfidfVectorizer\n",
    "from sklearn.tree import DecisionTreeClassifier\n",
    "from sklearn.naive_bayes import MultinomialNB\n",
    "from sklearn.ensemble import RandomForestClassifier\n",
    "\n",
    "%matplotlib inline"
   ]
  },
  {
   "cell_type": "markdown",
   "id": "56a92f79",
   "metadata": {},
   "source": [
    "## 2. Read data from Aliens Posts"
   ]
  },
  {
   "cell_type": "code",
   "execution_count": 2,
   "id": "ce9600ee",
   "metadata": {},
   "outputs": [],
   "source": [
    "aliens_posts = pd.read_csv('./datasets/aliens_posts.csv')"
   ]
  },
  {
   "cell_type": "code",
   "execution_count": 3,
   "id": "728e261e",
   "metadata": {},
   "outputs": [
    {
     "data": {
      "text/html": [
       "<div>\n",
       "<style scoped>\n",
       "    .dataframe tbody tr th:only-of-type {\n",
       "        vertical-align: middle;\n",
       "    }\n",
       "\n",
       "    .dataframe tbody tr th {\n",
       "        vertical-align: top;\n",
       "    }\n",
       "\n",
       "    .dataframe thead th {\n",
       "        text-align: right;\n",
       "    }\n",
       "</style>\n",
       "<table border=\"1\" class=\"dataframe\">\n",
       "  <thead>\n",
       "    <tr style=\"text-align: right;\">\n",
       "      <th></th>\n",
       "      <th>subreddit</th>\n",
       "      <th>selftext</th>\n",
       "      <th>title</th>\n",
       "    </tr>\n",
       "  </thead>\n",
       "  <tbody>\n",
       "    <tr>\n",
       "      <th>0</th>\n",
       "      <td>aliens</td>\n",
       "      <td>NaN</td>\n",
       "      <td>A man records the moment when an elongated UFO...</td>\n",
       "    </tr>\n",
       "    <tr>\n",
       "      <th>1</th>\n",
       "      <td>aliens</td>\n",
       "      <td>NaN</td>\n",
       "      <td>How many people saw Dr. Greer's appearance on ...</td>\n",
       "    </tr>\n",
       "    <tr>\n",
       "      <th>2</th>\n",
       "      <td>aliens</td>\n",
       "      <td>NaN</td>\n",
       "      <td>Los mismos OVNIs del Pentágono, son noticia ot...</td>\n",
       "    </tr>\n",
       "  </tbody>\n",
       "</table>\n",
       "</div>"
      ],
      "text/plain": [
       "  subreddit selftext                                              title\n",
       "0    aliens      NaN  A man records the moment when an elongated UFO...\n",
       "1    aliens      NaN  How many people saw Dr. Greer's appearance on ...\n",
       "2    aliens      NaN  Los mismos OVNIs del Pentágono, son noticia ot..."
      ]
     },
     "execution_count": 3,
     "metadata": {},
     "output_type": "execute_result"
    }
   ],
   "source": [
    "aliens_posts.head(3)"
   ]
  },
  {
   "cell_type": "markdown",
   "id": "1014c830",
   "metadata": {},
   "source": [
    "## 3. Read data from Space Posts"
   ]
  },
  {
   "cell_type": "code",
   "execution_count": 4,
   "id": "39119a56",
   "metadata": {},
   "outputs": [],
   "source": [
    "space_posts = pd.read_csv('./datasets/space_posts.csv')"
   ]
  },
  {
   "cell_type": "code",
   "execution_count": 5,
   "id": "a1928767",
   "metadata": {},
   "outputs": [
    {
     "data": {
      "text/html": [
       "<div>\n",
       "<style scoped>\n",
       "    .dataframe tbody tr th:only-of-type {\n",
       "        vertical-align: middle;\n",
       "    }\n",
       "\n",
       "    .dataframe tbody tr th {\n",
       "        vertical-align: top;\n",
       "    }\n",
       "\n",
       "    .dataframe thead th {\n",
       "        text-align: right;\n",
       "    }\n",
       "</style>\n",
       "<table border=\"1\" class=\"dataframe\">\n",
       "  <thead>\n",
       "    <tr style=\"text-align: right;\">\n",
       "      <th></th>\n",
       "      <th>subreddit</th>\n",
       "      <th>selftext</th>\n",
       "      <th>title</th>\n",
       "    </tr>\n",
       "  </thead>\n",
       "  <tbody>\n",
       "    <tr>\n",
       "      <th>0</th>\n",
       "      <td>space</td>\n",
       "      <td>NaN</td>\n",
       "      <td>Long March 5B rolled out for crewed spacecraft...</td>\n",
       "    </tr>\n",
       "    <tr>\n",
       "      <th>1</th>\n",
       "      <td>space</td>\n",
       "      <td>NaN</td>\n",
       "      <td>The Pentagon Officially Releases Images of 'UF...</td>\n",
       "    </tr>\n",
       "    <tr>\n",
       "      <th>2</th>\n",
       "      <td>space</td>\n",
       "      <td>Assuming an Earth-like night sky on a supposed...</td>\n",
       "      <td>Question: at night on Mars, is it possible to ...</td>\n",
       "    </tr>\n",
       "  </tbody>\n",
       "</table>\n",
       "</div>"
      ],
      "text/plain": [
       "  subreddit                                           selftext  \\\n",
       "0     space                                                NaN   \n",
       "1     space                                                NaN   \n",
       "2     space  Assuming an Earth-like night sky on a supposed...   \n",
       "\n",
       "                                               title  \n",
       "0  Long March 5B rolled out for crewed spacecraft...  \n",
       "1  The Pentagon Officially Releases Images of 'UF...  \n",
       "2  Question: at night on Mars, is it possible to ...  "
      ]
     },
     "execution_count": 5,
     "metadata": {},
     "output_type": "execute_result"
    }
   ],
   "source": [
    "space_posts.head(3)"
   ]
  },
  {
   "cell_type": "markdown",
   "id": "e37f0dd4",
   "metadata": {},
   "source": [
    "## 4. Read data from Aliens Comments"
   ]
  },
  {
   "cell_type": "code",
   "execution_count": 6,
   "id": "fd888cff",
   "metadata": {},
   "outputs": [],
   "source": [
    "aliens_comments = pd.read_csv('./datasets/aliens_comments.csv')"
   ]
  },
  {
   "cell_type": "code",
   "execution_count": 7,
   "id": "8af45631",
   "metadata": {},
   "outputs": [
    {
     "data": {
      "text/html": [
       "<div>\n",
       "<style scoped>\n",
       "    .dataframe tbody tr th:only-of-type {\n",
       "        vertical-align: middle;\n",
       "    }\n",
       "\n",
       "    .dataframe tbody tr th {\n",
       "        vertical-align: top;\n",
       "    }\n",
       "\n",
       "    .dataframe thead th {\n",
       "        text-align: right;\n",
       "    }\n",
       "</style>\n",
       "<table border=\"1\" class=\"dataframe\">\n",
       "  <thead>\n",
       "    <tr style=\"text-align: right;\">\n",
       "      <th></th>\n",
       "      <th>subreddit</th>\n",
       "      <th>body</th>\n",
       "    </tr>\n",
       "  </thead>\n",
       "  <tbody>\n",
       "    <tr>\n",
       "      <th>0</th>\n",
       "      <td>aliens</td>\n",
       "      <td>Yeah an alien from the planet MS-13.</td>\n",
       "    </tr>\n",
       "    <tr>\n",
       "      <th>1</th>\n",
       "      <td>aliens</td>\n",
       "      <td>I like drones. I recently went on ebay to buy ...</td>\n",
       "    </tr>\n",
       "    <tr>\n",
       "      <th>2</th>\n",
       "      <td>aliens</td>\n",
       "      <td>I don't get it.</td>\n",
       "    </tr>\n",
       "  </tbody>\n",
       "</table>\n",
       "</div>"
      ],
      "text/plain": [
       "  subreddit                                               body\n",
       "0    aliens               Yeah an alien from the planet MS-13.\n",
       "1    aliens  I like drones. I recently went on ebay to buy ...\n",
       "2    aliens                                    I don't get it."
      ]
     },
     "execution_count": 7,
     "metadata": {},
     "output_type": "execute_result"
    }
   ],
   "source": [
    "aliens_comments.head(3)"
   ]
  },
  {
   "cell_type": "markdown",
   "id": "94d13ee0",
   "metadata": {},
   "source": [
    "## 5. Read data from Space Comments"
   ]
  },
  {
   "cell_type": "code",
   "execution_count": 8,
   "id": "d718cb0c",
   "metadata": {},
   "outputs": [],
   "source": [
    "space_comments = pd.read_csv('./datasets/space_comments.csv')"
   ]
  },
  {
   "cell_type": "code",
   "execution_count": 9,
   "id": "c4e22b62",
   "metadata": {},
   "outputs": [
    {
     "data": {
      "text/html": [
       "<div>\n",
       "<style scoped>\n",
       "    .dataframe tbody tr th:only-of-type {\n",
       "        vertical-align: middle;\n",
       "    }\n",
       "\n",
       "    .dataframe tbody tr th {\n",
       "        vertical-align: top;\n",
       "    }\n",
       "\n",
       "    .dataframe thead th {\n",
       "        text-align: right;\n",
       "    }\n",
       "</style>\n",
       "<table border=\"1\" class=\"dataframe\">\n",
       "  <thead>\n",
       "    <tr style=\"text-align: right;\">\n",
       "      <th></th>\n",
       "      <th>subreddit</th>\n",
       "      <th>body</th>\n",
       "    </tr>\n",
       "  </thead>\n",
       "  <tbody>\n",
       "    <tr>\n",
       "      <th>0</th>\n",
       "      <td>space</td>\n",
       "      <td>[removed]</td>\n",
       "    </tr>\n",
       "    <tr>\n",
       "      <th>1</th>\n",
       "      <td>space</td>\n",
       "      <td>[removed]</td>\n",
       "    </tr>\n",
       "    <tr>\n",
       "      <th>2</th>\n",
       "      <td>space</td>\n",
       "      <td>[removed]</td>\n",
       "    </tr>\n",
       "  </tbody>\n",
       "</table>\n",
       "</div>"
      ],
      "text/plain": [
       "  subreddit       body\n",
       "0     space  [removed]\n",
       "1     space  [removed]\n",
       "2     space  [removed]"
      ]
     },
     "execution_count": 9,
     "metadata": {},
     "output_type": "execute_result"
    }
   ],
   "source": [
    "space_comments.head(3)"
   ]
  },
  {
   "cell_type": "markdown",
   "id": "2b311245",
   "metadata": {},
   "source": [
    "## 6. Check for missing values"
   ]
  },
  {
   "cell_type": "markdown",
   "id": "e414fa56",
   "metadata": {},
   "source": [
    "### 6a. Data cleaning for reddit posts"
   ]
  },
  {
   "cell_type": "markdown",
   "id": "6d7612e5",
   "metadata": {},
   "source": [
    "##### Aliens"
   ]
  },
  {
   "cell_type": "code",
   "execution_count": 10,
   "id": "07294d1f",
   "metadata": {},
   "outputs": [
    {
     "data": {
      "text/plain": [
       "subreddit        0\n",
       "selftext     15569\n",
       "title            0\n",
       "dtype: int64"
      ]
     },
     "execution_count": 10,
     "metadata": {},
     "output_type": "execute_result"
    }
   ],
   "source": [
    "aliens_posts.isna().sum()"
   ]
  },
  {
   "cell_type": "code",
   "execution_count": 11,
   "id": "48a5f100",
   "metadata": {},
   "outputs": [],
   "source": [
    "aliens_posts = aliens_posts.dropna(axis=0, how='any')"
   ]
  },
  {
   "cell_type": "code",
   "execution_count": 12,
   "id": "49ff1b2a",
   "metadata": {},
   "outputs": [
    {
     "data": {
      "text/plain": [
       "(13816, 3)"
      ]
     },
     "execution_count": 12,
     "metadata": {},
     "output_type": "execute_result"
    }
   ],
   "source": [
    "aliens_posts.shape"
   ]
  },
  {
   "cell_type": "code",
   "execution_count": 13,
   "id": "e17241df",
   "metadata": {},
   "outputs": [
    {
     "data": {
      "text/html": [
       "<div>\n",
       "<style scoped>\n",
       "    .dataframe tbody tr th:only-of-type {\n",
       "        vertical-align: middle;\n",
       "    }\n",
       "\n",
       "    .dataframe tbody tr th {\n",
       "        vertical-align: top;\n",
       "    }\n",
       "\n",
       "    .dataframe thead th {\n",
       "        text-align: right;\n",
       "    }\n",
       "</style>\n",
       "<table border=\"1\" class=\"dataframe\">\n",
       "  <thead>\n",
       "    <tr style=\"text-align: right;\">\n",
       "      <th></th>\n",
       "      <th>subreddit</th>\n",
       "      <th>selftext</th>\n",
       "      <th>title</th>\n",
       "    </tr>\n",
       "  </thead>\n",
       "  <tbody>\n",
       "    <tr>\n",
       "      <th>4</th>\n",
       "      <td>aliens</td>\n",
       "      <td>https://youtu.be/LK-AGLpjcCA</td>\n",
       "      <td>REAL MEN IN BLACK SIGHTINGS, HUMAN OR ALIENS</td>\n",
       "    </tr>\n",
       "    <tr>\n",
       "      <th>9</th>\n",
       "      <td>aliens</td>\n",
       "      <td>Recently Pentagon officially shared the leaked...</td>\n",
       "      <td>SERIOUSLY</td>\n",
       "    </tr>\n",
       "    <tr>\n",
       "      <th>14</th>\n",
       "      <td>aliens</td>\n",
       "      <td>This happened over the summer as I was coming ...</td>\n",
       "      <td>My Morphing UFO Encounter</td>\n",
       "    </tr>\n",
       "  </tbody>\n",
       "</table>\n",
       "</div>"
      ],
      "text/plain": [
       "   subreddit                                           selftext  \\\n",
       "4     aliens                       https://youtu.be/LK-AGLpjcCA   \n",
       "9     aliens  Recently Pentagon officially shared the leaked...   \n",
       "14    aliens  This happened over the summer as I was coming ...   \n",
       "\n",
       "                                           title  \n",
       "4   REAL MEN IN BLACK SIGHTINGS, HUMAN OR ALIENS  \n",
       "9                                      SERIOUSLY  \n",
       "14                     My Morphing UFO Encounter  "
      ]
     },
     "execution_count": 13,
     "metadata": {},
     "output_type": "execute_result"
    }
   ],
   "source": [
    "aliens_posts.head(3)"
   ]
  },
  {
   "cell_type": "markdown",
   "id": "fed0923b",
   "metadata": {},
   "source": [
    "##### Space"
   ]
  },
  {
   "cell_type": "code",
   "execution_count": 14,
   "id": "1dbc0778",
   "metadata": {},
   "outputs": [],
   "source": [
    "space_posts = space_posts.dropna(axis=0, how='any')"
   ]
  },
  {
   "cell_type": "code",
   "execution_count": 15,
   "id": "192bd382",
   "metadata": {},
   "outputs": [
    {
     "data": {
      "text/plain": [
       "(15095, 3)"
      ]
     },
     "execution_count": 15,
     "metadata": {},
     "output_type": "execute_result"
    }
   ],
   "source": [
    "space_posts.shape"
   ]
  },
  {
   "cell_type": "markdown",
   "id": "3ee52a2d",
   "metadata": {},
   "source": [
    "##### Comments"
   ]
  },
  {
   "cell_type": "code",
   "execution_count": 16,
   "id": "1cd70524",
   "metadata": {},
   "outputs": [],
   "source": [
    "aliens_comments = aliens_comments.dropna(axis=0, how='any')"
   ]
  },
  {
   "cell_type": "code",
   "execution_count": 17,
   "id": "626ab521",
   "metadata": {},
   "outputs": [
    {
     "data": {
      "text/plain": [
       "(99999, 2)"
      ]
     },
     "execution_count": 17,
     "metadata": {},
     "output_type": "execute_result"
    }
   ],
   "source": [
    "aliens_comments.shape"
   ]
  },
  {
   "cell_type": "code",
   "execution_count": 18,
   "id": "02ec4b58",
   "metadata": {},
   "outputs": [],
   "source": [
    "space_comments = space_comments.dropna(axis=0, how='any')"
   ]
  },
  {
   "cell_type": "code",
   "execution_count": 19,
   "id": "5f132826",
   "metadata": {},
   "outputs": [
    {
     "data": {
      "text/plain": [
       "(100000, 2)"
      ]
     },
     "execution_count": 19,
     "metadata": {},
     "output_type": "execute_result"
    }
   ],
   "source": [
    "space_comments.shape"
   ]
  },
  {
   "cell_type": "code",
   "execution_count": 20,
   "id": "72340b84",
   "metadata": {},
   "outputs": [],
   "source": [
    "# posts = aliens_posts.append(space_posts, ignore_index=True)"
   ]
  },
  {
   "cell_type": "code",
   "execution_count": 21,
   "id": "5d3da397",
   "metadata": {},
   "outputs": [],
   "source": [
    "# posts = aliens_posts.append(space_posts, ignore_index=True)\n",
    "# posts['subreddit'].unique()"
   ]
  },
  {
   "cell_type": "markdown",
   "id": "4bad8788",
   "metadata": {},
   "source": [
    "### 6b. Cleaning data for lingos and links, other non-relevant texts"
   ]
  },
  {
   "cell_type": "markdown",
   "id": "793790da",
   "metadata": {},
   "source": [
    "### Aliens"
   ]
  },
  {
   "cell_type": "code",
   "execution_count": 22,
   "id": "25af7c61",
   "metadata": {},
   "outputs": [
    {
     "data": {
      "text/html": [
       "<div>\n",
       "<style scoped>\n",
       "    .dataframe tbody tr th:only-of-type {\n",
       "        vertical-align: middle;\n",
       "    }\n",
       "\n",
       "    .dataframe tbody tr th {\n",
       "        vertical-align: top;\n",
       "    }\n",
       "\n",
       "    .dataframe thead th {\n",
       "        text-align: right;\n",
       "    }\n",
       "</style>\n",
       "<table border=\"1\" class=\"dataframe\">\n",
       "  <thead>\n",
       "    <tr style=\"text-align: right;\">\n",
       "      <th></th>\n",
       "      <th>subreddit</th>\n",
       "      <th>selftext</th>\n",
       "      <th>title</th>\n",
       "    </tr>\n",
       "  </thead>\n",
       "  <tbody>\n",
       "    <tr>\n",
       "      <th>4</th>\n",
       "      <td>aliens</td>\n",
       "      <td>https://youtu.be/LK-AGLpjcCA</td>\n",
       "      <td>REAL MEN IN BLACK SIGHTINGS, HUMAN OR ALIENS</td>\n",
       "    </tr>\n",
       "    <tr>\n",
       "      <th>9</th>\n",
       "      <td>aliens</td>\n",
       "      <td>Recently Pentagon officially shared the leaked...</td>\n",
       "      <td>SERIOUSLY</td>\n",
       "    </tr>\n",
       "    <tr>\n",
       "      <th>14</th>\n",
       "      <td>aliens</td>\n",
       "      <td>This happened over the summer as I was coming ...</td>\n",
       "      <td>My Morphing UFO Encounter</td>\n",
       "    </tr>\n",
       "    <tr>\n",
       "      <th>16</th>\n",
       "      <td>aliens</td>\n",
       "      <td>[removed]</td>\n",
       "      <td>Alien Visitors seen after ringing found Brass ...</td>\n",
       "    </tr>\n",
       "    <tr>\n",
       "      <th>18</th>\n",
       "      <td>aliens</td>\n",
       "      <td>[removed]</td>\n",
       "      <td>The Pentagon disclosure might not be what we t...</td>\n",
       "    </tr>\n",
       "    <tr>\n",
       "      <th>...</th>\n",
       "      <td>...</td>\n",
       "      <td>...</td>\n",
       "      <td>...</td>\n",
       "    </tr>\n",
       "    <tr>\n",
       "      <th>29377</th>\n",
       "      <td>aliens</td>\n",
       "      <td>&amp;amp;#x200B;\\n\\nhttps://preview.redd.it/e8uqf9...</td>\n",
       "      <td>Aliens are ready !</td>\n",
       "    </tr>\n",
       "    <tr>\n",
       "      <th>29378</th>\n",
       "      <td>aliens</td>\n",
       "      <td>OK, mods, with all due respect, I understand h...</td>\n",
       "      <td>An invite for alien AMA.</td>\n",
       "    </tr>\n",
       "    <tr>\n",
       "      <th>29381</th>\n",
       "      <td>aliens</td>\n",
       "      <td>I can't find any mentions of UFO information t...</td>\n",
       "      <td>Alien IT?</td>\n",
       "    </tr>\n",
       "    <tr>\n",
       "      <th>29382</th>\n",
       "      <td>aliens</td>\n",
       "      <td>A bunch of clickbait articles have claimed tha...</td>\n",
       "      <td>Is the UFO conference going to happen tomorrow...</td>\n",
       "    </tr>\n",
       "    <tr>\n",
       "      <th>29384</th>\n",
       "      <td>aliens</td>\n",
       "      <td>Got in an argument with someone and they refus...</td>\n",
       "      <td>Humans Are More Likely Than Aliens to Be The I...</td>\n",
       "    </tr>\n",
       "  </tbody>\n",
       "</table>\n",
       "<p>13816 rows × 3 columns</p>\n",
       "</div>"
      ],
      "text/plain": [
       "      subreddit                                           selftext  \\\n",
       "4        aliens                       https://youtu.be/LK-AGLpjcCA   \n",
       "9        aliens  Recently Pentagon officially shared the leaked...   \n",
       "14       aliens  This happened over the summer as I was coming ...   \n",
       "16       aliens                                          [removed]   \n",
       "18       aliens                                          [removed]   \n",
       "...         ...                                                ...   \n",
       "29377    aliens  &amp;#x200B;\\n\\nhttps://preview.redd.it/e8uqf9...   \n",
       "29378    aliens  OK, mods, with all due respect, I understand h...   \n",
       "29381    aliens  I can't find any mentions of UFO information t...   \n",
       "29382    aliens  A bunch of clickbait articles have claimed tha...   \n",
       "29384    aliens  Got in an argument with someone and they refus...   \n",
       "\n",
       "                                                   title  \n",
       "4           REAL MEN IN BLACK SIGHTINGS, HUMAN OR ALIENS  \n",
       "9                                              SERIOUSLY  \n",
       "14                             My Morphing UFO Encounter  \n",
       "16     Alien Visitors seen after ringing found Brass ...  \n",
       "18     The Pentagon disclosure might not be what we t...  \n",
       "...                                                  ...  \n",
       "29377                                 Aliens are ready !  \n",
       "29378                           An invite for alien AMA.  \n",
       "29381                                          Alien IT?  \n",
       "29382  Is the UFO conference going to happen tomorrow...  \n",
       "29384  Humans Are More Likely Than Aliens to Be The I...  \n",
       "\n",
       "[13816 rows x 3 columns]"
      ]
     },
     "execution_count": 22,
     "metadata": {},
     "output_type": "execute_result"
    }
   ],
   "source": [
    "aliens_posts"
   ]
  },
  {
   "cell_type": "code",
   "execution_count": 23,
   "id": "05c0de4e",
   "metadata": {},
   "outputs": [],
   "source": [
    "aliens_posts = aliens_posts[~aliens_posts['selftext'].str.contains(\"removed\")]"
   ]
  },
  {
   "cell_type": "code",
   "execution_count": 24,
   "id": "b2f9527a",
   "metadata": {},
   "outputs": [],
   "source": [
    "aliens_posts = aliens_posts[~aliens_posts['selftext'].str.contains(\"youtu.be\")]"
   ]
  },
  {
   "cell_type": "code",
   "execution_count": 25,
   "id": "950c1583",
   "metadata": {},
   "outputs": [],
   "source": [
    "aliens_posts = aliens_posts[~aliens_posts['selftext'].str.contains(\"deleted\")]"
   ]
  },
  {
   "cell_type": "code",
   "execution_count": 26,
   "id": "f4ab704a",
   "metadata": {},
   "outputs": [],
   "source": [
    "aliens_posts = aliens_posts[~aliens_posts['selftext'].str.contains(\"preview.redd.it\")]"
   ]
  },
  {
   "cell_type": "code",
   "execution_count": 27,
   "id": "9f95856d",
   "metadata": {},
   "outputs": [
    {
     "data": {
      "text/plain": [
       "(9470, 3)"
      ]
     },
     "execution_count": 27,
     "metadata": {},
     "output_type": "execute_result"
    }
   ],
   "source": [
    "aliens_posts.shape"
   ]
  },
  {
   "cell_type": "code",
   "execution_count": 28,
   "id": "1dbdc4a4",
   "metadata": {},
   "outputs": [
    {
     "data": {
      "text/html": [
       "<div>\n",
       "<style scoped>\n",
       "    .dataframe tbody tr th:only-of-type {\n",
       "        vertical-align: middle;\n",
       "    }\n",
       "\n",
       "    .dataframe tbody tr th {\n",
       "        vertical-align: top;\n",
       "    }\n",
       "\n",
       "    .dataframe thead th {\n",
       "        text-align: right;\n",
       "    }\n",
       "</style>\n",
       "<table border=\"1\" class=\"dataframe\">\n",
       "  <thead>\n",
       "    <tr style=\"text-align: right;\">\n",
       "      <th></th>\n",
       "      <th>subreddit</th>\n",
       "      <th>selftext</th>\n",
       "      <th>title</th>\n",
       "    </tr>\n",
       "  </thead>\n",
       "  <tbody>\n",
       "    <tr>\n",
       "      <th>9</th>\n",
       "      <td>aliens</td>\n",
       "      <td>Recently Pentagon officially shared the leaked...</td>\n",
       "      <td>SERIOUSLY</td>\n",
       "    </tr>\n",
       "    <tr>\n",
       "      <th>14</th>\n",
       "      <td>aliens</td>\n",
       "      <td>This happened over the summer as I was coming ...</td>\n",
       "      <td>My Morphing UFO Encounter</td>\n",
       "    </tr>\n",
       "    <tr>\n",
       "      <th>19</th>\n",
       "      <td>aliens</td>\n",
       "      <td>So back in 2011 i was working at a grocery sto...</td>\n",
       "      <td>Title is strange things.</td>\n",
       "    </tr>\n",
       "    <tr>\n",
       "      <th>22</th>\n",
       "      <td>aliens</td>\n",
       "      <td>Does anyone remember the allegedly leaked NASA...</td>\n",
       "      <td>Does anyone remember the NASA footage</td>\n",
       "    </tr>\n",
       "    <tr>\n",
       "      <th>26</th>\n",
       "      <td>aliens</td>\n",
       "      <td>It was a few weeks ago. It was maybe 2:30 AM. ...</td>\n",
       "      <td>Finally saw a UFO</td>\n",
       "    </tr>\n",
       "    <tr>\n",
       "      <th>27</th>\n",
       "      <td>aliens</td>\n",
       "      <td>The most interesting thought along the topic t...</td>\n",
       "      <td>A point was just brought up. How come nobody c...</td>\n",
       "    </tr>\n",
       "    <tr>\n",
       "      <th>28</th>\n",
       "      <td>aliens</td>\n",
       "      <td>You hear it right. What if we find out we had ...</td>\n",
       "      <td>How much different would it have been if we fo...</td>\n",
       "    </tr>\n",
       "    <tr>\n",
       "      <th>29</th>\n",
       "      <td>aliens</td>\n",
       "      <td>Fake alien invasion?</td>\n",
       "      <td>Why tf do they keep calling them threats and s...</td>\n",
       "    </tr>\n",
       "    <tr>\n",
       "      <th>36</th>\n",
       "      <td>aliens</td>\n",
       "      <td>My friend sent me some amazing footage with re...</td>\n",
       "      <td>amazing footage!</td>\n",
       "    </tr>\n",
       "    <tr>\n",
       "      <th>38</th>\n",
       "      <td>aliens</td>\n",
       "      <td>Ok, so I had this idea when I saw someone had ...</td>\n",
       "      <td>Did the Greys influence anime culture?</td>\n",
       "    </tr>\n",
       "  </tbody>\n",
       "</table>\n",
       "</div>"
      ],
      "text/plain": [
       "   subreddit                                           selftext  \\\n",
       "9     aliens  Recently Pentagon officially shared the leaked...   \n",
       "14    aliens  This happened over the summer as I was coming ...   \n",
       "19    aliens  So back in 2011 i was working at a grocery sto...   \n",
       "22    aliens  Does anyone remember the allegedly leaked NASA...   \n",
       "26    aliens  It was a few weeks ago. It was maybe 2:30 AM. ...   \n",
       "27    aliens  The most interesting thought along the topic t...   \n",
       "28    aliens  You hear it right. What if we find out we had ...   \n",
       "29    aliens                               Fake alien invasion?   \n",
       "36    aliens  My friend sent me some amazing footage with re...   \n",
       "38    aliens  Ok, so I had this idea when I saw someone had ...   \n",
       "\n",
       "                                                title  \n",
       "9                                           SERIOUSLY  \n",
       "14                          My Morphing UFO Encounter  \n",
       "19                           Title is strange things.  \n",
       "22              Does anyone remember the NASA footage  \n",
       "26                                  Finally saw a UFO  \n",
       "27  A point was just brought up. How come nobody c...  \n",
       "28  How much different would it have been if we fo...  \n",
       "29  Why tf do they keep calling them threats and s...  \n",
       "36                                   amazing footage!  \n",
       "38             Did the Greys influence anime culture?  "
      ]
     },
     "execution_count": 28,
     "metadata": {},
     "output_type": "execute_result"
    }
   ],
   "source": [
    "aliens_posts.head(10)"
   ]
  },
  {
   "cell_type": "markdown",
   "id": "0b1570a8",
   "metadata": {},
   "source": [
    "### Space"
   ]
  },
  {
   "cell_type": "code",
   "execution_count": 29,
   "id": "ca2f3d70",
   "metadata": {},
   "outputs": [
    {
     "data": {
      "text/html": [
       "<div>\n",
       "<style scoped>\n",
       "    .dataframe tbody tr th:only-of-type {\n",
       "        vertical-align: middle;\n",
       "    }\n",
       "\n",
       "    .dataframe tbody tr th {\n",
       "        vertical-align: top;\n",
       "    }\n",
       "\n",
       "    .dataframe thead th {\n",
       "        text-align: right;\n",
       "    }\n",
       "</style>\n",
       "<table border=\"1\" class=\"dataframe\">\n",
       "  <thead>\n",
       "    <tr style=\"text-align: right;\">\n",
       "      <th></th>\n",
       "      <th>subreddit</th>\n",
       "      <th>selftext</th>\n",
       "      <th>title</th>\n",
       "    </tr>\n",
       "  </thead>\n",
       "  <tbody>\n",
       "    <tr>\n",
       "      <th>2</th>\n",
       "      <td>space</td>\n",
       "      <td>Assuming an Earth-like night sky on a supposed...</td>\n",
       "      <td>Question: at night on Mars, is it possible to ...</td>\n",
       "    </tr>\n",
       "    <tr>\n",
       "      <th>4</th>\n",
       "      <td>space</td>\n",
       "      <td>Hi, my name is João, I'm 14 years and I'm from...</td>\n",
       "      <td>I'm a 14 year old boy who aspires to be an ast...</td>\n",
       "    </tr>\n",
       "    <tr>\n",
       "      <th>6</th>\n",
       "      <td>space</td>\n",
       "      <td>[removed]</td>\n",
       "      <td>Hey does anyone know where and when Samantha C...</td>\n",
       "    </tr>\n",
       "    <tr>\n",
       "      <th>8</th>\n",
       "      <td>space</td>\n",
       "      <td>[removed]</td>\n",
       "      <td>We are masters of confinement, Ask Us Anything!</td>\n",
       "    </tr>\n",
       "    <tr>\n",
       "      <th>9</th>\n",
       "      <td>space</td>\n",
       "      <td>[deleted]</td>\n",
       "      <td>This little point here is the Earth, look how ...</td>\n",
       "    </tr>\n",
       "    <tr>\n",
       "      <th>10</th>\n",
       "      <td>space</td>\n",
       "      <td>Destined to become the first aircraft to attem...</td>\n",
       "      <td>NASA's Mars Helicopter officially has received...</td>\n",
       "    </tr>\n",
       "    <tr>\n",
       "      <th>11</th>\n",
       "      <td>space</td>\n",
       "      <td>[removed]</td>\n",
       "      <td>REAL MEN IN BLACK SIGHTINGS, ARE THEY HUMAN OR...</td>\n",
       "    </tr>\n",
       "    <tr>\n",
       "      <th>17</th>\n",
       "      <td>space</td>\n",
       "      <td>https://preview.redd.it/7mxd9xmderv41.jpg?widt...</td>\n",
       "      <td>First ever picture taken from space</td>\n",
       "    </tr>\n",
       "    <tr>\n",
       "      <th>28</th>\n",
       "      <td>space</td>\n",
       "      <td>Possibly with a bar, where strangers could mee...</td>\n",
       "      <td>Space Force - Will there be Space Station 9 ?</td>\n",
       "    </tr>\n",
       "    <tr>\n",
       "      <th>31</th>\n",
       "      <td>space</td>\n",
       "      <td>In the light of the Pentagon declaring the leg...</td>\n",
       "      <td>A discussion on how gravity drives in UFOs cou...</td>\n",
       "    </tr>\n",
       "  </tbody>\n",
       "</table>\n",
       "</div>"
      ],
      "text/plain": [
       "   subreddit                                           selftext  \\\n",
       "2      space  Assuming an Earth-like night sky on a supposed...   \n",
       "4      space  Hi, my name is João, I'm 14 years and I'm from...   \n",
       "6      space                                          [removed]   \n",
       "8      space                                          [removed]   \n",
       "9      space                                          [deleted]   \n",
       "10     space  Destined to become the first aircraft to attem...   \n",
       "11     space                                          [removed]   \n",
       "17     space  https://preview.redd.it/7mxd9xmderv41.jpg?widt...   \n",
       "28     space  Possibly with a bar, where strangers could mee...   \n",
       "31     space  In the light of the Pentagon declaring the leg...   \n",
       "\n",
       "                                                title  \n",
       "2   Question: at night on Mars, is it possible to ...  \n",
       "4   I'm a 14 year old boy who aspires to be an ast...  \n",
       "6   Hey does anyone know where and when Samantha C...  \n",
       "8     We are masters of confinement, Ask Us Anything!  \n",
       "9   This little point here is the Earth, look how ...  \n",
       "10  NASA's Mars Helicopter officially has received...  \n",
       "11  REAL MEN IN BLACK SIGHTINGS, ARE THEY HUMAN OR...  \n",
       "17                First ever picture taken from space  \n",
       "28      Space Force - Will there be Space Station 9 ?  \n",
       "31  A discussion on how gravity drives in UFOs cou...  "
      ]
     },
     "execution_count": 29,
     "metadata": {},
     "output_type": "execute_result"
    }
   ],
   "source": [
    "space_posts.head(10)"
   ]
  },
  {
   "cell_type": "code",
   "execution_count": 30,
   "id": "ba6b3c46",
   "metadata": {},
   "outputs": [],
   "source": [
    "space_posts = space_posts[~space_posts['selftext'].str.contains(\"removed\")]"
   ]
  },
  {
   "cell_type": "code",
   "execution_count": 31,
   "id": "d74fdcbf",
   "metadata": {},
   "outputs": [],
   "source": [
    "space_posts = space_posts[~space_posts['selftext'].str.contains(\"youtu.be\")]"
   ]
  },
  {
   "cell_type": "code",
   "execution_count": 32,
   "id": "84ab2293",
   "metadata": {},
   "outputs": [],
   "source": [
    "space_posts = space_posts[~space_posts['selftext'].str.contains(\"deleted\")]"
   ]
  },
  {
   "cell_type": "code",
   "execution_count": 33,
   "id": "b9ec22d1",
   "metadata": {},
   "outputs": [],
   "source": [
    "space_posts = space_posts[~space_posts['selftext'].str.contains(\"preview.redd.it\")]"
   ]
  },
  {
   "cell_type": "code",
   "execution_count": 34,
   "id": "7ee6a6fa",
   "metadata": {},
   "outputs": [
    {
     "data": {
      "text/plain": [
       "(9459, 3)"
      ]
     },
     "execution_count": 34,
     "metadata": {},
     "output_type": "execute_result"
    }
   ],
   "source": [
    "space_posts.shape"
   ]
  },
  {
   "cell_type": "code",
   "execution_count": 35,
   "id": "60c687cc",
   "metadata": {},
   "outputs": [
    {
     "data": {
      "text/html": [
       "<div>\n",
       "<style scoped>\n",
       "    .dataframe tbody tr th:only-of-type {\n",
       "        vertical-align: middle;\n",
       "    }\n",
       "\n",
       "    .dataframe tbody tr th {\n",
       "        vertical-align: top;\n",
       "    }\n",
       "\n",
       "    .dataframe thead th {\n",
       "        text-align: right;\n",
       "    }\n",
       "</style>\n",
       "<table border=\"1\" class=\"dataframe\">\n",
       "  <thead>\n",
       "    <tr style=\"text-align: right;\">\n",
       "      <th></th>\n",
       "      <th>subreddit</th>\n",
       "      <th>selftext</th>\n",
       "      <th>title</th>\n",
       "    </tr>\n",
       "  </thead>\n",
       "  <tbody>\n",
       "    <tr>\n",
       "      <th>2</th>\n",
       "      <td>space</td>\n",
       "      <td>Assuming an Earth-like night sky on a supposed...</td>\n",
       "      <td>Question: at night on Mars, is it possible to ...</td>\n",
       "    </tr>\n",
       "    <tr>\n",
       "      <th>4</th>\n",
       "      <td>space</td>\n",
       "      <td>Hi, my name is João, I'm 14 years and I'm from...</td>\n",
       "      <td>I'm a 14 year old boy who aspires to be an ast...</td>\n",
       "    </tr>\n",
       "    <tr>\n",
       "      <th>10</th>\n",
       "      <td>space</td>\n",
       "      <td>Destined to become the first aircraft to attem...</td>\n",
       "      <td>NASA's Mars Helicopter officially has received...</td>\n",
       "    </tr>\n",
       "    <tr>\n",
       "      <th>28</th>\n",
       "      <td>space</td>\n",
       "      <td>Possibly with a bar, where strangers could mee...</td>\n",
       "      <td>Space Force - Will there be Space Station 9 ?</td>\n",
       "    </tr>\n",
       "    <tr>\n",
       "      <th>31</th>\n",
       "      <td>space</td>\n",
       "      <td>In the light of the Pentagon declaring the leg...</td>\n",
       "      <td>A discussion on how gravity drives in UFOs cou...</td>\n",
       "    </tr>\n",
       "    <tr>\n",
       "      <th>33</th>\n",
       "      <td>space</td>\n",
       "      <td>As we move into the age of low cost reusable l...</td>\n",
       "      <td>A discussion on the potential of exploring fly...</td>\n",
       "    </tr>\n",
       "    <tr>\n",
       "      <th>38</th>\n",
       "      <td>space</td>\n",
       "      <td>Maybe a dumb question, but this keeps me up at...</td>\n",
       "      <td>If the suns’ gravity pulls the planets in rota...</td>\n",
       "    </tr>\n",
       "    <tr>\n",
       "      <th>43</th>\n",
       "      <td>space</td>\n",
       "      <td>I’m back it it with space stuff I need to wrig...</td>\n",
       "      <td>My theories</td>\n",
       "    </tr>\n",
       "    <tr>\n",
       "      <th>48</th>\n",
       "      <td>space</td>\n",
       "      <td>It is going to be above me in 20min and I wond...</td>\n",
       "      <td>As the Hubble satellite visible from earth?</td>\n",
       "    </tr>\n",
       "    <tr>\n",
       "      <th>51</th>\n",
       "      <td>space</td>\n",
       "      <td>Hi all! \\nDon't know if this is the right plac...</td>\n",
       "      <td>What is the best Beginners telescope</td>\n",
       "    </tr>\n",
       "  </tbody>\n",
       "</table>\n",
       "</div>"
      ],
      "text/plain": [
       "   subreddit                                           selftext  \\\n",
       "2      space  Assuming an Earth-like night sky on a supposed...   \n",
       "4      space  Hi, my name is João, I'm 14 years and I'm from...   \n",
       "10     space  Destined to become the first aircraft to attem...   \n",
       "28     space  Possibly with a bar, where strangers could mee...   \n",
       "31     space  In the light of the Pentagon declaring the leg...   \n",
       "33     space  As we move into the age of low cost reusable l...   \n",
       "38     space  Maybe a dumb question, but this keeps me up at...   \n",
       "43     space  I’m back it it with space stuff I need to wrig...   \n",
       "48     space  It is going to be above me in 20min and I wond...   \n",
       "51     space  Hi all! \\nDon't know if this is the right plac...   \n",
       "\n",
       "                                                title  \n",
       "2   Question: at night on Mars, is it possible to ...  \n",
       "4   I'm a 14 year old boy who aspires to be an ast...  \n",
       "10  NASA's Mars Helicopter officially has received...  \n",
       "28      Space Force - Will there be Space Station 9 ?  \n",
       "31  A discussion on how gravity drives in UFOs cou...  \n",
       "33  A discussion on the potential of exploring fly...  \n",
       "38  If the suns’ gravity pulls the planets in rota...  \n",
       "43                                        My theories  \n",
       "48        As the Hubble satellite visible from earth?  \n",
       "51               What is the best Beginners telescope  "
      ]
     },
     "execution_count": 35,
     "metadata": {},
     "output_type": "execute_result"
    }
   ],
   "source": [
    "space_posts.head(10)"
   ]
  },
  {
   "cell_type": "markdown",
   "id": "b5f2786f",
   "metadata": {},
   "source": [
    "### Append datasets"
   ]
  },
  {
   "cell_type": "code",
   "execution_count": 36,
   "id": "420f5832",
   "metadata": {},
   "outputs": [
    {
     "data": {
      "text/plain": [
       "array(['aliens', 'space'], dtype=object)"
      ]
     },
     "execution_count": 36,
     "metadata": {},
     "output_type": "execute_result"
    }
   ],
   "source": [
    "posts = aliens_posts.append(space_posts, ignore_index=True)\n",
    "posts['subreddit'].unique()"
   ]
  },
  {
   "cell_type": "markdown",
   "id": "675fa6b1",
   "metadata": {},
   "source": [
    "## 7. Data exploration"
   ]
  },
  {
   "cell_type": "code",
   "execution_count": 37,
   "id": "721dcbec",
   "metadata": {},
   "outputs": [],
   "source": [
    "import gensim\n",
    "import gensim.downloader as api\n",
    "from gensim.models.word2vec import Word2Vec\n",
    "from transformers import pipeline"
   ]
  },
  {
   "cell_type": "markdown",
   "id": "ab570b28",
   "metadata": {},
   "source": [
    "#### Writing a function to look at posts"
   ]
  },
  {
   "cell_type": "code",
   "execution_count": 38,
   "id": "f86b2012",
   "metadata": {},
   "outputs": [
    {
     "name": "stdout",
     "output_type": "stream",
     "text": [
      "It's brand new, and I've just been populating it with interesting videos that I've seen recently. I'd love for it to become a place for serious discussion and theories as well. \n",
      "\n",
      "If this interests any of you please stop by and think about participating!\n",
      "\n",
      "r/xenogenesis\n",
      "Tag: aliens\n"
     ]
    }
   ],
   "source": [
    "def print_plot(index):\n",
    "    example = posts[posts.index == index][['selftext', 'subreddit']].values[0]\n",
    "    if len(example) > 0:\n",
    "        print(example[0])\n",
    "        print('Tag:', example[1])\n",
    "print_plot(10)"
   ]
  },
  {
   "cell_type": "markdown",
   "id": "c38bc755",
   "metadata": {},
   "source": [
    "#### Model setup for Naive Bayers"
   ]
  },
  {
   "cell_type": "code",
   "execution_count": 39,
   "id": "90dd9616",
   "metadata": {},
   "outputs": [],
   "source": [
    "X = posts[['selftext']]\n",
    "y = posts['subreddit']"
   ]
  },
  {
   "cell_type": "code",
   "execution_count": 40,
   "id": "ec6e2c1a",
   "metadata": {},
   "outputs": [],
   "source": [
    "X_train, X_test, y_train, y_test = train_test_split(X, y, random_state = 42, stratify=y)"
   ]
  },
  {
   "cell_type": "code",
   "execution_count": 41,
   "id": "4733bdf9",
   "metadata": {},
   "outputs": [],
   "source": [
    "# Import CountVectorizer.\n",
    "from sklearn.feature_extraction.text import CountVectorizer\n",
    "\n",
    "# Instantiate CountVectorizer.\n",
    "cvec = CountVectorizer(max_features = 100000, stop_words = 'english')"
   ]
  },
  {
   "cell_type": "code",
   "execution_count": 42,
   "id": "adeb0b18",
   "metadata": {},
   "outputs": [],
   "source": [
    "X_train = X_train['selftext']"
   ]
  },
  {
   "cell_type": "code",
   "execution_count": 43,
   "id": "564f7ae1",
   "metadata": {},
   "outputs": [],
   "source": [
    "X_test = X_test['selftext']"
   ]
  },
  {
   "cell_type": "code",
   "execution_count": 44,
   "id": "aeb898fc",
   "metadata": {},
   "outputs": [
    {
     "data": {
      "text/plain": [
       "matrix([[0, 0, 0, ..., 0, 0, 0],\n",
       "        [0, 0, 0, ..., 0, 0, 0],\n",
       "        [0, 0, 0, ..., 0, 0, 0],\n",
       "        ...,\n",
       "        [0, 0, 0, ..., 0, 0, 0],\n",
       "        [0, 0, 0, ..., 0, 0, 0],\n",
       "        [0, 0, 0, ..., 0, 0, 0]], dtype=int64)"
      ]
     },
     "execution_count": 44,
     "metadata": {},
     "output_type": "execute_result"
    }
   ],
   "source": [
    "cvec.fit_transform(X_train).todense()"
   ]
  },
  {
   "cell_type": "code",
   "execution_count": 45,
   "id": "086e44d8",
   "metadata": {},
   "outputs": [],
   "source": [
    "# Fit CountVectorizer on the training data and transform training data.\n",
    "X_train_cvec = pd.DataFrame(\n",
    "    cvec.fit_transform(X_train).todense(),\n",
    "    columns = cvec.get_feature_names()\n",
    ")"
   ]
  },
  {
   "cell_type": "code",
   "execution_count": 46,
   "id": "d0e60d14",
   "metadata": {},
   "outputs": [],
   "source": [
    "# Transform testing data with the already-fit CountVectorizer.\n",
    "X_test_cvec = pd.DataFrame(\n",
    "    cvec.transform(X_test).todense(),\n",
    "    columns = cvec.get_feature_names()\n",
    ")"
   ]
  },
  {
   "cell_type": "code",
   "execution_count": 47,
   "id": "2210f6a8",
   "metadata": {},
   "outputs": [
    {
     "data": {
      "text/html": [
       "<div>\n",
       "<style scoped>\n",
       "    .dataframe tbody tr th:only-of-type {\n",
       "        vertical-align: middle;\n",
       "    }\n",
       "\n",
       "    .dataframe tbody tr th {\n",
       "        vertical-align: top;\n",
       "    }\n",
       "\n",
       "    .dataframe thead th {\n",
       "        text-align: right;\n",
       "    }\n",
       "</style>\n",
       "<table border=\"1\" class=\"dataframe\">\n",
       "  <thead>\n",
       "    <tr style=\"text-align: right;\">\n",
       "      <th></th>\n",
       "      <th>00</th>\n",
       "      <th>000</th>\n",
       "      <th>00000000000000000000000000000000000000000000000001</th>\n",
       "      <th>00000000001</th>\n",
       "      <th>000000000091d83a</th>\n",
       "      <th>000000022</th>\n",
       "      <th>00001</th>\n",
       "      <th>000015</th>\n",
       "      <th>00002492</th>\n",
       "      <th>0000566lightspeed</th>\n",
       "      <th>...</th>\n",
       "      <th>𝚁𝚘𝚜𝚠𝚎𝚕𝚕</th>\n",
       "      <th>𝚌𝚘𝚟𝚎𝚛𝚎𝚍</th>\n",
       "      <th>𝚍𝚊𝚢</th>\n",
       "      <th>𝚏𝚕𝚢𝚒𝚗𝚐</th>\n",
       "      <th>𝚒𝚗</th>\n",
       "      <th>𝚘𝚒𝚕</th>\n",
       "      <th>𝚘𝚗</th>\n",
       "      <th>𝚛𝚊𝚒𝚗𝚢</th>\n",
       "      <th>𝟙𝟠</th>\n",
       "      <th>𝟷𝟿𝟺𝟽</th>\n",
       "    </tr>\n",
       "  </thead>\n",
       "  <tbody>\n",
       "    <tr>\n",
       "      <th>0</th>\n",
       "      <td>0</td>\n",
       "      <td>0</td>\n",
       "      <td>0</td>\n",
       "      <td>0</td>\n",
       "      <td>0</td>\n",
       "      <td>0</td>\n",
       "      <td>0</td>\n",
       "      <td>0</td>\n",
       "      <td>0</td>\n",
       "      <td>0</td>\n",
       "      <td>...</td>\n",
       "      <td>0</td>\n",
       "      <td>0</td>\n",
       "      <td>0</td>\n",
       "      <td>0</td>\n",
       "      <td>0</td>\n",
       "      <td>0</td>\n",
       "      <td>0</td>\n",
       "      <td>0</td>\n",
       "      <td>0</td>\n",
       "      <td>0</td>\n",
       "    </tr>\n",
       "    <tr>\n",
       "      <th>1</th>\n",
       "      <td>0</td>\n",
       "      <td>0</td>\n",
       "      <td>0</td>\n",
       "      <td>0</td>\n",
       "      <td>0</td>\n",
       "      <td>0</td>\n",
       "      <td>0</td>\n",
       "      <td>0</td>\n",
       "      <td>0</td>\n",
       "      <td>0</td>\n",
       "      <td>...</td>\n",
       "      <td>0</td>\n",
       "      <td>0</td>\n",
       "      <td>0</td>\n",
       "      <td>0</td>\n",
       "      <td>0</td>\n",
       "      <td>0</td>\n",
       "      <td>0</td>\n",
       "      <td>0</td>\n",
       "      <td>0</td>\n",
       "      <td>0</td>\n",
       "    </tr>\n",
       "    <tr>\n",
       "      <th>2</th>\n",
       "      <td>0</td>\n",
       "      <td>0</td>\n",
       "      <td>0</td>\n",
       "      <td>0</td>\n",
       "      <td>0</td>\n",
       "      <td>0</td>\n",
       "      <td>0</td>\n",
       "      <td>0</td>\n",
       "      <td>0</td>\n",
       "      <td>0</td>\n",
       "      <td>...</td>\n",
       "      <td>0</td>\n",
       "      <td>0</td>\n",
       "      <td>0</td>\n",
       "      <td>0</td>\n",
       "      <td>0</td>\n",
       "      <td>0</td>\n",
       "      <td>0</td>\n",
       "      <td>0</td>\n",
       "      <td>0</td>\n",
       "      <td>0</td>\n",
       "    </tr>\n",
       "    <tr>\n",
       "      <th>3</th>\n",
       "      <td>0</td>\n",
       "      <td>0</td>\n",
       "      <td>0</td>\n",
       "      <td>0</td>\n",
       "      <td>0</td>\n",
       "      <td>0</td>\n",
       "      <td>0</td>\n",
       "      <td>0</td>\n",
       "      <td>0</td>\n",
       "      <td>0</td>\n",
       "      <td>...</td>\n",
       "      <td>0</td>\n",
       "      <td>0</td>\n",
       "      <td>0</td>\n",
       "      <td>0</td>\n",
       "      <td>0</td>\n",
       "      <td>0</td>\n",
       "      <td>0</td>\n",
       "      <td>0</td>\n",
       "      <td>0</td>\n",
       "      <td>0</td>\n",
       "    </tr>\n",
       "    <tr>\n",
       "      <th>4</th>\n",
       "      <td>0</td>\n",
       "      <td>0</td>\n",
       "      <td>0</td>\n",
       "      <td>0</td>\n",
       "      <td>0</td>\n",
       "      <td>0</td>\n",
       "      <td>0</td>\n",
       "      <td>0</td>\n",
       "      <td>0</td>\n",
       "      <td>0</td>\n",
       "      <td>...</td>\n",
       "      <td>0</td>\n",
       "      <td>0</td>\n",
       "      <td>0</td>\n",
       "      <td>0</td>\n",
       "      <td>0</td>\n",
       "      <td>0</td>\n",
       "      <td>0</td>\n",
       "      <td>0</td>\n",
       "      <td>0</td>\n",
       "      <td>0</td>\n",
       "    </tr>\n",
       "  </tbody>\n",
       "</table>\n",
       "<p>5 rows × 45892 columns</p>\n",
       "</div>"
      ],
      "text/plain": [
       "   00  000  00000000000000000000000000000000000000000000000001  00000000001  \\\n",
       "0   0    0                                                  0             0   \n",
       "1   0    0                                                  0             0   \n",
       "2   0    0                                                  0             0   \n",
       "3   0    0                                                  0             0   \n",
       "4   0    0                                                  0             0   \n",
       "\n",
       "   000000000091d83a  000000022  00001  000015  00002492  0000566lightspeed  \\\n",
       "0                 0          0      0       0         0                  0   \n",
       "1                 0          0      0       0         0                  0   \n",
       "2                 0          0      0       0         0                  0   \n",
       "3                 0          0      0       0         0                  0   \n",
       "4                 0          0      0       0         0                  0   \n",
       "\n",
       "   ...  𝚁𝚘𝚜𝚠𝚎𝚕𝚕  𝚌𝚘𝚟𝚎𝚛𝚎𝚍  𝚍𝚊𝚢  𝚏𝚕𝚢𝚒𝚗𝚐  𝚒𝚗  𝚘𝚒𝚕  𝚘𝚗  𝚛𝚊𝚒𝚗𝚢  𝟙𝟠  𝟷𝟿𝟺𝟽  \n",
       "0  ...        0        0    0       0   0    0   0      0   0     0  \n",
       "1  ...        0        0    0       0   0    0   0      0   0     0  \n",
       "2  ...        0        0    0       0   0    0   0      0   0     0  \n",
       "3  ...        0        0    0       0   0    0   0      0   0     0  \n",
       "4  ...        0        0    0       0   0    0   0      0   0     0  \n",
       "\n",
       "[5 rows x 45892 columns]"
      ]
     },
     "execution_count": 47,
     "metadata": {},
     "output_type": "execute_result"
    }
   ],
   "source": [
    "X_train_cvec.head()"
   ]
  },
  {
   "cell_type": "markdown",
   "id": "1a2a9d42",
   "metadata": {},
   "source": [
    "# Fit Naive Bayers model"
   ]
  },
  {
   "cell_type": "code",
   "execution_count": 48,
   "id": "10a99539",
   "metadata": {},
   "outputs": [],
   "source": [
    "from sklearn.naive_bayes import MultinomialNB"
   ]
  },
  {
   "cell_type": "code",
   "execution_count": 49,
   "id": "bfe8a56c",
   "metadata": {},
   "outputs": [],
   "source": [
    "nb = MultinomialNB()"
   ]
  },
  {
   "cell_type": "code",
   "execution_count": 50,
   "id": "70735b87",
   "metadata": {},
   "outputs": [],
   "source": [
    "model = nb.fit(X_train_cvec, y_train)"
   ]
  },
  {
   "cell_type": "code",
   "execution_count": 51,
   "id": "ba74f20e",
   "metadata": {},
   "outputs": [],
   "source": [
    "predictions = model.predict(X_test_cvec)"
   ]
  },
  {
   "cell_type": "code",
   "execution_count": 52,
   "id": "25a1c2dc",
   "metadata": {},
   "outputs": [
    {
     "data": {
      "text/plain": [
       "(14196, 45892)"
      ]
     },
     "execution_count": 52,
     "metadata": {},
     "output_type": "execute_result"
    }
   ],
   "source": [
    "X_train_cvec.shape"
   ]
  },
  {
   "cell_type": "code",
   "execution_count": 53,
   "id": "c5005727",
   "metadata": {},
   "outputs": [
    {
     "data": {
      "text/plain": [
       "(14196,)"
      ]
     },
     "execution_count": 53,
     "metadata": {},
     "output_type": "execute_result"
    }
   ],
   "source": [
    "y_train.shape"
   ]
  },
  {
   "cell_type": "code",
   "execution_count": 54,
   "id": "f2cec033",
   "metadata": {},
   "outputs": [
    {
     "data": {
      "text/plain": [
       "0.9175119752042828"
      ]
     },
     "execution_count": 54,
     "metadata": {},
     "output_type": "execute_result"
    }
   ],
   "source": [
    "model.score(X_train_cvec, y_train)"
   ]
  },
  {
   "cell_type": "code",
   "execution_count": 55,
   "id": "a414c7f0",
   "metadata": {},
   "outputs": [
    {
     "data": {
      "text/plain": [
       "0.8863300232410734"
      ]
     },
     "execution_count": 55,
     "metadata": {},
     "output_type": "execute_result"
    }
   ],
   "source": [
    "model.score(X_test_cvec, y_test)"
   ]
  },
  {
   "cell_type": "code",
   "execution_count": 56,
   "id": "494b7fd1",
   "metadata": {},
   "outputs": [],
   "source": [
    "from sklearn.metrics import confusion_matrix"
   ]
  },
  {
   "cell_type": "code",
   "execution_count": 57,
   "id": "17ea490c",
   "metadata": {},
   "outputs": [
    {
     "data": {
      "text/plain": [
       "array([[2171,  197],\n",
       "       [ 341, 2024]], dtype=int64)"
      ]
     },
     "execution_count": 57,
     "metadata": {},
     "output_type": "execute_result"
    }
   ],
   "source": [
    "confusion_matrix(y_test, predictions)"
   ]
  },
  {
   "cell_type": "code",
   "execution_count": 58,
   "id": "2c33f9f4",
   "metadata": {},
   "outputs": [],
   "source": [
    "tn, fp, fn, tp = confusion_matrix(y_test, predictions).ravel()"
   ]
  },
  {
   "cell_type": "code",
   "execution_count": 59,
   "id": "58381ea0",
   "metadata": {},
   "outputs": [
    {
     "name": "stdout",
     "output_type": "stream",
     "text": [
      "True Negatives: 2171\n",
      "False Positives: 197\n",
      "False Negatives: 341\n",
      "True Positives: 2024\n"
     ]
    }
   ],
   "source": [
    "print(f\"True Negatives: {tn}\")\n",
    "print(f\"False Positives: {fp}\")\n",
    "print(f\"False Negatives: {fn}\")\n",
    "print(f\"True Positives: {tp}\")"
   ]
  },
  {
   "cell_type": "code",
   "execution_count": 60,
   "id": "9d501fe4",
   "metadata": {},
   "outputs": [],
   "source": [
    "from sklearn.metrics import classification_report"
   ]
  },
  {
   "cell_type": "code",
   "execution_count": 61,
   "id": "27868b5d",
   "metadata": {},
   "outputs": [],
   "source": [
    "my_tags = ['aliens', 'space']"
   ]
  },
  {
   "cell_type": "code",
   "execution_count": 62,
   "id": "6666727a",
   "metadata": {},
   "outputs": [
    {
     "name": "stdout",
     "output_type": "stream",
     "text": [
      "              precision    recall  f1-score   support\n",
      "\n",
      "      aliens       0.86      0.92      0.89      2368\n",
      "       space       0.91      0.86      0.88      2365\n",
      "\n",
      "    accuracy                           0.89      4733\n",
      "   macro avg       0.89      0.89      0.89      4733\n",
      "weighted avg       0.89      0.89      0.89      4733\n",
      "\n"
     ]
    }
   ],
   "source": [
    "print(classification_report(y_test, predictions,target_names=my_tags))"
   ]
  },
  {
   "cell_type": "markdown",
   "id": "88c45eb8",
   "metadata": {},
   "source": [
    "# Fit dataset using pipeline & gridsearch"
   ]
  },
  {
   "cell_type": "code",
   "execution_count": 63,
   "id": "a7517269",
   "metadata": {},
   "outputs": [],
   "source": [
    "from sklearn.naive_bayes import MultinomialNB\n",
    "from sklearn.pipeline import Pipeline\n",
    "from sklearn.feature_extraction.text import TfidfTransformer"
   ]
  },
  {
   "cell_type": "code",
   "execution_count": 64,
   "id": "0b30fc31",
   "metadata": {},
   "outputs": [],
   "source": [
    "my_tags = ['aliens', 'space']"
   ]
  },
  {
   "cell_type": "code",
   "execution_count": 65,
   "id": "8dd82e0d",
   "metadata": {},
   "outputs": [],
   "source": [
    "# TFIDF pipeline setup\n",
    "tvc_pipe = Pipeline([\n",
    "    ('tvec', TfidfVectorizer()),\n",
    "    ('nb', MultinomialNB())\n",
    "])"
   ]
  },
  {
   "cell_type": "markdown",
   "id": "066f61a6",
   "metadata": {},
   "source": [
    "# Random Forest"
   ]
  },
  {
   "cell_type": "code",
   "execution_count": 66,
   "id": "c70abb93",
   "metadata": {},
   "outputs": [],
   "source": [
    "# Randomforest pipeline setup\n",
    "rf_pipe = Pipeline([\n",
    " ('tvec', TfidfVectorizer()),\n",
    " ('rf', RandomForestClassifier())\n",
    "])"
   ]
  },
  {
   "cell_type": "code",
   "execution_count": 67,
   "id": "b51a68d8",
   "metadata": {},
   "outputs": [
    {
     "data": {
      "text/plain": [
       "Pipeline(steps=[('tvec', TfidfVectorizer()), ('nb', MultinomialNB())])"
      ]
     },
     "execution_count": 67,
     "metadata": {},
     "output_type": "execute_result"
    }
   ],
   "source": [
    "tvc_pipe.fit(X_train, y_train)"
   ]
  },
  {
   "cell_type": "markdown",
   "id": "abe36348",
   "metadata": {},
   "source": [
    "# Random Forest"
   ]
  },
  {
   "cell_type": "code",
   "execution_count": 68,
   "id": "768af4c0",
   "metadata": {},
   "outputs": [
    {
     "data": {
      "text/plain": [
       "Pipeline(steps=[('tvec', TfidfVectorizer()), ('rf', RandomForestClassifier())])"
      ]
     },
     "execution_count": 68,
     "metadata": {},
     "output_type": "execute_result"
    }
   ],
   "source": [
    "rf_pipe.fit(X_train, y_train)"
   ]
  },
  {
   "cell_type": "code",
   "execution_count": 69,
   "id": "0eb1388c",
   "metadata": {},
   "outputs": [],
   "source": [
    "tf_params = {\n",
    "    'tvec__stop_words': [None, 'english'],\n",
    "    'tvec__ngram_range': [(1, 1), (1, 2), (2, 2)],\n",
    "    'tvec__max_features': [20000, 50000, 100000],\n",
    "}"
   ]
  },
  {
   "cell_type": "code",
   "execution_count": 70,
   "id": "e2449c72",
   "metadata": {},
   "outputs": [],
   "source": [
    "rf_params = {\n",
    " 'tvec__max_features': [2000, 20000, 100000],\n",
    " 'tvec__ngram_range': [(1, 1), (1, 2), (2, 2)],\n",
    " 'tvec__stop_words': [None, 'english'],\n",
    " 'rf__max_depth': [50000, 10000, 200000],\n",
    " 'rf__min_samples_split': [50, 100, 500],\n",
    " 'rf__max_leaf_nodes': [None]\n",
    "}"
   ]
  },
  {
   "cell_type": "code",
   "execution_count": 71,
   "id": "04415172",
   "metadata": {},
   "outputs": [],
   "source": [
    "tvc_gs = GridSearchCV(tvc_pipe, param_grid=tf_params, cv = 5, verbose = 1, n_jobs = -1)"
   ]
  },
  {
   "cell_type": "code",
   "execution_count": 72,
   "id": "f9876bcc",
   "metadata": {},
   "outputs": [
    {
     "name": "stdout",
     "output_type": "stream",
     "text": [
      "Fitting 5 folds for each of 18 candidates, totalling 90 fits\n"
     ]
    },
    {
     "data": {
      "text/plain": [
       "GridSearchCV(cv=5,\n",
       "             estimator=Pipeline(steps=[('tvec', TfidfVectorizer()),\n",
       "                                       ('nb', MultinomialNB())]),\n",
       "             n_jobs=-1,\n",
       "             param_grid={'tvec__max_features': [20000, 50000, 100000],\n",
       "                         'tvec__ngram_range': [(1, 1), (1, 2), (2, 2)],\n",
       "                         'tvec__stop_words': [None, 'english']},\n",
       "             verbose=1)"
      ]
     },
     "execution_count": 72,
     "metadata": {},
     "output_type": "execute_result"
    }
   ],
   "source": [
    "tvc_gs.fit(X_train, y_train)"
   ]
  },
  {
   "cell_type": "code",
   "execution_count": 73,
   "id": "92176e56",
   "metadata": {},
   "outputs": [
    {
     "data": {
      "text/plain": [
       "0.9210340941110172"
      ]
     },
     "execution_count": 73,
     "metadata": {},
     "output_type": "execute_result"
    }
   ],
   "source": [
    "tvc_gs.score(X_train, y_train)"
   ]
  },
  {
   "cell_type": "code",
   "execution_count": 74,
   "id": "6ccefbab",
   "metadata": {},
   "outputs": [
    {
     "data": {
      "text/plain": [
       "0.8890766955419396"
      ]
     },
     "execution_count": 74,
     "metadata": {},
     "output_type": "execute_result"
    }
   ],
   "source": [
    "tvc_gs.score(X_test, y_test)"
   ]
  },
  {
   "cell_type": "code",
   "execution_count": 75,
   "id": "3e4b77c5",
   "metadata": {},
   "outputs": [
    {
     "name": "stdout",
     "output_type": "stream",
     "text": [
      "best params: {'tvec__max_features': 20000, 'tvec__ngram_range': (1, 2), 'tvec__stop_words': 'english'}\n"
     ]
    }
   ],
   "source": [
    "print('best params:', tvc_gs.best_params_)"
   ]
  },
  {
   "cell_type": "code",
   "execution_count": 76,
   "id": "11ed4e49",
   "metadata": {},
   "outputs": [
    {
     "name": "stdout",
     "output_type": "stream",
     "text": [
      "best score: 0.8853186749946669\n"
     ]
    }
   ],
   "source": [
    "print('best score:', tvc_gs.best_score_)"
   ]
  },
  {
   "cell_type": "markdown",
   "id": "c62e2a46",
   "metadata": {},
   "source": [
    "# Random Forest"
   ]
  },
  {
   "cell_type": "code",
   "execution_count": 77,
   "id": "da9c1058",
   "metadata": {},
   "outputs": [],
   "source": [
    "rf_gs = GridSearchCV(rf_pipe, param_grid=rf_params, cv = 5, verbose = 1, n_jobs = -1)"
   ]
  },
  {
   "cell_type": "code",
   "execution_count": null,
   "id": "2e2e1bc3",
   "metadata": {},
   "outputs": [
    {
     "name": "stdout",
     "output_type": "stream",
     "text": [
      "Fitting 5 folds for each of 162 candidates, totalling 810 fits\n"
     ]
    }
   ],
   "source": [
    "rf_gs.fit(X_train, y_train)"
   ]
  },
  {
   "cell_type": "code",
   "execution_count": null,
   "id": "44b584ae",
   "metadata": {},
   "outputs": [],
   "source": [
    "print('best params:', rf_gs.best_params_)"
   ]
  },
  {
   "cell_type": "code",
   "execution_count": null,
   "id": "41805054",
   "metadata": {},
   "outputs": [],
   "source": [
    "print('best score:', rf_gs.best_score_)"
   ]
  },
  {
   "cell_type": "code",
   "execution_count": null,
   "id": "1602def2",
   "metadata": {},
   "outputs": [],
   "source": [
    "rf_gs.score(X_train, y_train)"
   ]
  },
  {
   "cell_type": "code",
   "execution_count": null,
   "id": "9c1cbcb7",
   "metadata": {},
   "outputs": [],
   "source": [
    "rf_gs.score(X_test, y_test)"
   ]
  },
  {
   "cell_type": "markdown",
   "id": "85ebff5b",
   "metadata": {},
   "source": [
    "# y_pred"
   ]
  },
  {
   "cell_type": "code",
   "execution_count": null,
   "id": "1ea74227",
   "metadata": {},
   "outputs": [],
   "source": [
    "y_pred = tvc_gs.predict(X_test)"
   ]
  },
  {
   "cell_type": "code",
   "execution_count": null,
   "id": "01451e36",
   "metadata": {},
   "outputs": [],
   "source": [
    "print(classification_report(y_test, y_pred,target_names=my_tags))"
   ]
  },
  {
   "cell_type": "markdown",
   "id": "74f9e965",
   "metadata": {},
   "source": [
    "# Random Forest"
   ]
  },
  {
   "cell_type": "code",
   "execution_count": null,
   "id": "6e9ebee7",
   "metadata": {},
   "outputs": [],
   "source": [
    "y_pred1 = rf_gs.predict(X_test)"
   ]
  },
  {
   "cell_type": "code",
   "execution_count": null,
   "id": "d7facb9e",
   "metadata": {},
   "outputs": [],
   "source": [
    "print(classification_report(y_test, y_pred1,target_names=my_tags))"
   ]
  },
  {
   "cell_type": "code",
   "execution_count": null,
   "id": "a9802482",
   "metadata": {},
   "outputs": [],
   "source": []
  }
 ],
 "metadata": {
  "kernelspec": {
   "display_name": "Python 3",
   "language": "python",
   "name": "python3"
  },
  "language_info": {
   "codemirror_mode": {
    "name": "ipython",
    "version": 3
   },
   "file_extension": ".py",
   "mimetype": "text/x-python",
   "name": "python",
   "nbconvert_exporter": "python",
   "pygments_lexer": "ipython3",
   "version": "3.8.8"
  }
 },
 "nbformat": 4,
 "nbformat_minor": 5
}
