{
 "cells": [
  {
   "cell_type": "code",
   "execution_count": 79,
   "id": "677d8b15",
   "metadata": {},
   "outputs": [],
   "source": [
    "import numpy as np\n",
    "import pandas as pd\n",
    "from sklearn.model_selection import train_test_split\n",
    "from sklearn.pipeline import Pipeline\n",
    "from sklearn.model_selection import GridSearchCV\n",
    "from sklearn.feature_extraction.text import TfidfVectorizer\n",
    "from sklearn.tree import DecisionTreeClassifier\n",
    "from sklearn.naive_bayes import MultinomialNB\n",
    "\n",
    "%matplotlib inline"
   ]
  },
  {
   "cell_type": "markdown",
   "id": "618571f7",
   "metadata": {},
   "source": [
    "## Aliens Posts"
   ]
  },
  {
   "cell_type": "code",
   "execution_count": 80,
   "id": "540287fd",
   "metadata": {},
   "outputs": [],
   "source": [
    "aliens_posts = pd.read_csv('./datasets/aliens_posts.csv')"
   ]
  },
  {
   "cell_type": "code",
   "execution_count": 81,
   "id": "e9311f36",
   "metadata": {},
   "outputs": [
    {
     "data": {
      "text/html": [
       "<div>\n",
       "<style scoped>\n",
       "    .dataframe tbody tr th:only-of-type {\n",
       "        vertical-align: middle;\n",
       "    }\n",
       "\n",
       "    .dataframe tbody tr th {\n",
       "        vertical-align: top;\n",
       "    }\n",
       "\n",
       "    .dataframe thead th {\n",
       "        text-align: right;\n",
       "    }\n",
       "</style>\n",
       "<table border=\"1\" class=\"dataframe\">\n",
       "  <thead>\n",
       "    <tr style=\"text-align: right;\">\n",
       "      <th></th>\n",
       "      <th>subreddit</th>\n",
       "      <th>selftext</th>\n",
       "      <th>title</th>\n",
       "    </tr>\n",
       "  </thead>\n",
       "  <tbody>\n",
       "    <tr>\n",
       "      <th>0</th>\n",
       "      <td>aliens</td>\n",
       "      <td>NaN</td>\n",
       "      <td>A man records the moment when an elongated UFO...</td>\n",
       "    </tr>\n",
       "    <tr>\n",
       "      <th>1</th>\n",
       "      <td>aliens</td>\n",
       "      <td>NaN</td>\n",
       "      <td>How many people saw Dr. Greer's appearance on ...</td>\n",
       "    </tr>\n",
       "    <tr>\n",
       "      <th>2</th>\n",
       "      <td>aliens</td>\n",
       "      <td>NaN</td>\n",
       "      <td>Los mismos OVNIs del Pentágono, son noticia ot...</td>\n",
       "    </tr>\n",
       "  </tbody>\n",
       "</table>\n",
       "</div>"
      ],
      "text/plain": [
       "  subreddit selftext                                              title\n",
       "0    aliens      NaN  A man records the moment when an elongated UFO...\n",
       "1    aliens      NaN  How many people saw Dr. Greer's appearance on ...\n",
       "2    aliens      NaN  Los mismos OVNIs del Pentágono, son noticia ot..."
      ]
     },
     "execution_count": 81,
     "metadata": {},
     "output_type": "execute_result"
    }
   ],
   "source": [
    "aliens_posts.head(3)"
   ]
  },
  {
   "cell_type": "markdown",
   "id": "b93dab20",
   "metadata": {},
   "source": [
    "## Space Posts"
   ]
  },
  {
   "cell_type": "code",
   "execution_count": 82,
   "id": "bd0678bf",
   "metadata": {},
   "outputs": [],
   "source": [
    "space_posts = pd.read_csv('./datasets/space_posts.csv')"
   ]
  },
  {
   "cell_type": "code",
   "execution_count": 83,
   "id": "6c93daf2",
   "metadata": {},
   "outputs": [
    {
     "data": {
      "text/html": [
       "<div>\n",
       "<style scoped>\n",
       "    .dataframe tbody tr th:only-of-type {\n",
       "        vertical-align: middle;\n",
       "    }\n",
       "\n",
       "    .dataframe tbody tr th {\n",
       "        vertical-align: top;\n",
       "    }\n",
       "\n",
       "    .dataframe thead th {\n",
       "        text-align: right;\n",
       "    }\n",
       "</style>\n",
       "<table border=\"1\" class=\"dataframe\">\n",
       "  <thead>\n",
       "    <tr style=\"text-align: right;\">\n",
       "      <th></th>\n",
       "      <th>subreddit</th>\n",
       "      <th>selftext</th>\n",
       "      <th>title</th>\n",
       "    </tr>\n",
       "  </thead>\n",
       "  <tbody>\n",
       "    <tr>\n",
       "      <th>0</th>\n",
       "      <td>space</td>\n",
       "      <td>The title might be misleading but I'm not sure...</td>\n",
       "      <td>Speed in space, how do you determine at what s...</td>\n",
       "    </tr>\n",
       "    <tr>\n",
       "      <th>1</th>\n",
       "      <td>space</td>\n",
       "      <td>NaN</td>\n",
       "      <td>https://youtube.com/user/dralansari2010</td>\n",
       "    </tr>\n",
       "    <tr>\n",
       "      <th>2</th>\n",
       "      <td>space</td>\n",
       "      <td>[removed]</td>\n",
       "      <td>Space Telemedicine, Telesurgery</td>\n",
       "    </tr>\n",
       "  </tbody>\n",
       "</table>\n",
       "</div>"
      ],
      "text/plain": [
       "  subreddit                                           selftext  \\\n",
       "0     space  The title might be misleading but I'm not sure...   \n",
       "1     space                                                NaN   \n",
       "2     space                                          [removed]   \n",
       "\n",
       "                                               title  \n",
       "0  Speed in space, how do you determine at what s...  \n",
       "1            https://youtube.com/user/dralansari2010  \n",
       "2                    Space Telemedicine, Telesurgery  "
      ]
     },
     "execution_count": 83,
     "metadata": {},
     "output_type": "execute_result"
    }
   ],
   "source": [
    "space_posts.head(3)"
   ]
  },
  {
   "cell_type": "markdown",
   "id": "4336e85d",
   "metadata": {},
   "source": [
    "### Aliens Comments"
   ]
  },
  {
   "cell_type": "code",
   "execution_count": 84,
   "id": "36ebbaaa",
   "metadata": {},
   "outputs": [],
   "source": [
    "aliens_comments = pd.read_csv('./datasets/aliens_comments.csv')"
   ]
  },
  {
   "cell_type": "code",
   "execution_count": 85,
   "id": "68235c82",
   "metadata": {},
   "outputs": [
    {
     "data": {
      "text/html": [
       "<div>\n",
       "<style scoped>\n",
       "    .dataframe tbody tr th:only-of-type {\n",
       "        vertical-align: middle;\n",
       "    }\n",
       "\n",
       "    .dataframe tbody tr th {\n",
       "        vertical-align: top;\n",
       "    }\n",
       "\n",
       "    .dataframe thead th {\n",
       "        text-align: right;\n",
       "    }\n",
       "</style>\n",
       "<table border=\"1\" class=\"dataframe\">\n",
       "  <thead>\n",
       "    <tr style=\"text-align: right;\">\n",
       "      <th></th>\n",
       "      <th>subreddit</th>\n",
       "      <th>body</th>\n",
       "    </tr>\n",
       "  </thead>\n",
       "  <tbody>\n",
       "    <tr>\n",
       "      <th>0</th>\n",
       "      <td>aliens</td>\n",
       "      <td>Yeah an alien from the planet MS-13.</td>\n",
       "    </tr>\n",
       "    <tr>\n",
       "      <th>1</th>\n",
       "      <td>aliens</td>\n",
       "      <td>I like drones. I recently went on ebay to buy ...</td>\n",
       "    </tr>\n",
       "    <tr>\n",
       "      <th>2</th>\n",
       "      <td>aliens</td>\n",
       "      <td>I don't get it.</td>\n",
       "    </tr>\n",
       "  </tbody>\n",
       "</table>\n",
       "</div>"
      ],
      "text/plain": [
       "  subreddit                                               body\n",
       "0    aliens               Yeah an alien from the planet MS-13.\n",
       "1    aliens  I like drones. I recently went on ebay to buy ...\n",
       "2    aliens                                    I don't get it."
      ]
     },
     "execution_count": 85,
     "metadata": {},
     "output_type": "execute_result"
    }
   ],
   "source": [
    "aliens_comments.head(3)"
   ]
  },
  {
   "cell_type": "markdown",
   "id": "21bb6e70",
   "metadata": {},
   "source": [
    "### Space Comments"
   ]
  },
  {
   "cell_type": "code",
   "execution_count": 86,
   "id": "009d8592",
   "metadata": {},
   "outputs": [],
   "source": [
    "space_comments = pd.read_csv('./datasets/space_comments.csv')"
   ]
  },
  {
   "cell_type": "code",
   "execution_count": 87,
   "id": "d143a48b",
   "metadata": {},
   "outputs": [
    {
     "data": {
      "text/html": [
       "<div>\n",
       "<style scoped>\n",
       "    .dataframe tbody tr th:only-of-type {\n",
       "        vertical-align: middle;\n",
       "    }\n",
       "\n",
       "    .dataframe tbody tr th {\n",
       "        vertical-align: top;\n",
       "    }\n",
       "\n",
       "    .dataframe thead th {\n",
       "        text-align: right;\n",
       "    }\n",
       "</style>\n",
       "<table border=\"1\" class=\"dataframe\">\n",
       "  <thead>\n",
       "    <tr style=\"text-align: right;\">\n",
       "      <th></th>\n",
       "      <th>subreddit</th>\n",
       "      <th>body</th>\n",
       "    </tr>\n",
       "  </thead>\n",
       "  <tbody>\n",
       "    <tr>\n",
       "      <th>0</th>\n",
       "      <td>space</td>\n",
       "      <td>I don't think they even had tutorials when I s...</td>\n",
       "    </tr>\n",
       "    <tr>\n",
       "      <th>1</th>\n",
       "      <td>space</td>\n",
       "      <td>It's High Roller by Chrystal Method. Whenever ...</td>\n",
       "    </tr>\n",
       "    <tr>\n",
       "      <th>2</th>\n",
       "      <td>space</td>\n",
       "      <td>[removed]</td>\n",
       "    </tr>\n",
       "  </tbody>\n",
       "</table>\n",
       "</div>"
      ],
      "text/plain": [
       "  subreddit                                               body\n",
       "0     space  I don't think they even had tutorials when I s...\n",
       "1     space  It's High Roller by Chrystal Method. Whenever ...\n",
       "2     space                                          [removed]"
      ]
     },
     "execution_count": 87,
     "metadata": {},
     "output_type": "execute_result"
    }
   ],
   "source": [
    "space_comments.head(3)"
   ]
  },
  {
   "cell_type": "markdown",
   "id": "567d3986",
   "metadata": {},
   "source": [
    "### Check for missing values"
   ]
  },
  {
   "cell_type": "markdown",
   "id": "6dd25dc1",
   "metadata": {},
   "source": [
    "##### Aliens"
   ]
  },
  {
   "cell_type": "code",
   "execution_count": 88,
   "id": "a624138e",
   "metadata": {},
   "outputs": [
    {
     "data": {
      "text/plain": [
       "subreddit        0\n",
       "selftext     15569\n",
       "title            0\n",
       "dtype: int64"
      ]
     },
     "execution_count": 88,
     "metadata": {},
     "output_type": "execute_result"
    }
   ],
   "source": [
    "aliens_posts.isna().sum()"
   ]
  },
  {
   "cell_type": "code",
   "execution_count": 89,
   "id": "8870ab8b",
   "metadata": {},
   "outputs": [],
   "source": [
    "aliens_posts = aliens_posts.dropna(axis=0, how='any')"
   ]
  },
  {
   "cell_type": "code",
   "execution_count": 90,
   "id": "3f6f0935",
   "metadata": {},
   "outputs": [
    {
     "data": {
      "text/plain": [
       "(13816, 3)"
      ]
     },
     "execution_count": 90,
     "metadata": {},
     "output_type": "execute_result"
    }
   ],
   "source": [
    "aliens_posts.shape"
   ]
  },
  {
   "cell_type": "code",
   "execution_count": 91,
   "id": "7c467134",
   "metadata": {},
   "outputs": [
    {
     "data": {
      "text/html": [
       "<div>\n",
       "<style scoped>\n",
       "    .dataframe tbody tr th:only-of-type {\n",
       "        vertical-align: middle;\n",
       "    }\n",
       "\n",
       "    .dataframe tbody tr th {\n",
       "        vertical-align: top;\n",
       "    }\n",
       "\n",
       "    .dataframe thead th {\n",
       "        text-align: right;\n",
       "    }\n",
       "</style>\n",
       "<table border=\"1\" class=\"dataframe\">\n",
       "  <thead>\n",
       "    <tr style=\"text-align: right;\">\n",
       "      <th></th>\n",
       "      <th>subreddit</th>\n",
       "      <th>selftext</th>\n",
       "      <th>title</th>\n",
       "    </tr>\n",
       "  </thead>\n",
       "  <tbody>\n",
       "    <tr>\n",
       "      <th>4</th>\n",
       "      <td>aliens</td>\n",
       "      <td>https://youtu.be/LK-AGLpjcCA</td>\n",
       "      <td>REAL MEN IN BLACK SIGHTINGS, HUMAN OR ALIENS</td>\n",
       "    </tr>\n",
       "    <tr>\n",
       "      <th>9</th>\n",
       "      <td>aliens</td>\n",
       "      <td>Recently Pentagon officially shared the leaked...</td>\n",
       "      <td>SERIOUSLY</td>\n",
       "    </tr>\n",
       "    <tr>\n",
       "      <th>14</th>\n",
       "      <td>aliens</td>\n",
       "      <td>This happened over the summer as I was coming ...</td>\n",
       "      <td>My Morphing UFO Encounter</td>\n",
       "    </tr>\n",
       "  </tbody>\n",
       "</table>\n",
       "</div>"
      ],
      "text/plain": [
       "   subreddit                                           selftext  \\\n",
       "4     aliens                       https://youtu.be/LK-AGLpjcCA   \n",
       "9     aliens  Recently Pentagon officially shared the leaked...   \n",
       "14    aliens  This happened over the summer as I was coming ...   \n",
       "\n",
       "                                           title  \n",
       "4   REAL MEN IN BLACK SIGHTINGS, HUMAN OR ALIENS  \n",
       "9                                      SERIOUSLY  \n",
       "14                     My Morphing UFO Encounter  "
      ]
     },
     "execution_count": 91,
     "metadata": {},
     "output_type": "execute_result"
    }
   ],
   "source": [
    "aliens_posts.head(3)"
   ]
  },
  {
   "cell_type": "markdown",
   "id": "4baba127",
   "metadata": {},
   "source": [
    "##### Space"
   ]
  },
  {
   "cell_type": "code",
   "execution_count": 92,
   "id": "8d363bd4",
   "metadata": {},
   "outputs": [],
   "source": [
    "space_posts = space_posts.dropna(axis=0, how='any')"
   ]
  },
  {
   "cell_type": "code",
   "execution_count": 93,
   "id": "bd7fa8a9",
   "metadata": {},
   "outputs": [
    {
     "data": {
      "text/plain": [
       "(6815, 3)"
      ]
     },
     "execution_count": 93,
     "metadata": {},
     "output_type": "execute_result"
    }
   ],
   "source": [
    "space_posts.shape"
   ]
  },
  {
   "cell_type": "markdown",
   "id": "b90689d4",
   "metadata": {},
   "source": [
    "##### Comments"
   ]
  },
  {
   "cell_type": "code",
   "execution_count": 94,
   "id": "6d2d4d4f",
   "metadata": {},
   "outputs": [],
   "source": [
    "aliens_comments = aliens_comments.dropna(axis=0, how='any')"
   ]
  },
  {
   "cell_type": "code",
   "execution_count": 95,
   "id": "778361ea",
   "metadata": {},
   "outputs": [
    {
     "data": {
      "text/plain": [
       "(30000, 2)"
      ]
     },
     "execution_count": 95,
     "metadata": {},
     "output_type": "execute_result"
    }
   ],
   "source": [
    "aliens_comments.shape"
   ]
  },
  {
   "cell_type": "code",
   "execution_count": 96,
   "id": "3e85c918",
   "metadata": {},
   "outputs": [],
   "source": [
    "space_comments = space_comments.dropna(axis=0, how='any')"
   ]
  },
  {
   "cell_type": "code",
   "execution_count": 97,
   "id": "462d5e9e",
   "metadata": {},
   "outputs": [
    {
     "data": {
      "text/plain": [
       "(30000, 2)"
      ]
     },
     "execution_count": 97,
     "metadata": {},
     "output_type": "execute_result"
    }
   ],
   "source": [
    "space_comments.shape"
   ]
  },
  {
   "cell_type": "code",
   "execution_count": 98,
   "id": "4f963b12",
   "metadata": {},
   "outputs": [],
   "source": [
    "posts = aliens_posts.append(space_posts, ignore_index=True)"
   ]
  },
  {
   "cell_type": "code",
   "execution_count": 99,
   "id": "62e0fefe",
   "metadata": {},
   "outputs": [
    {
     "data": {
      "text/plain": [
       "array(['aliens', 'space'], dtype=object)"
      ]
     },
     "execution_count": 99,
     "metadata": {},
     "output_type": "execute_result"
    }
   ],
   "source": [
    "posts['subreddit'].unique()"
   ]
  },
  {
   "cell_type": "markdown",
   "id": "3d6866a6",
   "metadata": {},
   "source": [
    "#### Explore and clean data"
   ]
  },
  {
   "cell_type": "code",
   "execution_count": 100,
   "id": "4f84efc1",
   "metadata": {},
   "outputs": [],
   "source": [
    "X = posts[['selftext']]\n",
    "y = posts['subreddit']"
   ]
  },
  {
   "cell_type": "code",
   "execution_count": 101,
   "id": "d85f8d6a",
   "metadata": {},
   "outputs": [
    {
     "data": {
      "text/html": [
       "<div>\n",
       "<style scoped>\n",
       "    .dataframe tbody tr th:only-of-type {\n",
       "        vertical-align: middle;\n",
       "    }\n",
       "\n",
       "    .dataframe tbody tr th {\n",
       "        vertical-align: top;\n",
       "    }\n",
       "\n",
       "    .dataframe thead th {\n",
       "        text-align: right;\n",
       "    }\n",
       "</style>\n",
       "<table border=\"1\" class=\"dataframe\">\n",
       "  <thead>\n",
       "    <tr style=\"text-align: right;\">\n",
       "      <th></th>\n",
       "      <th>selftext</th>\n",
       "    </tr>\n",
       "  </thead>\n",
       "  <tbody>\n",
       "    <tr>\n",
       "      <th>0</th>\n",
       "      <td>https://youtu.be/LK-AGLpjcCA</td>\n",
       "    </tr>\n",
       "    <tr>\n",
       "      <th>1</th>\n",
       "      <td>Recently Pentagon officially shared the leaked...</td>\n",
       "    </tr>\n",
       "    <tr>\n",
       "      <th>2</th>\n",
       "      <td>This happened over the summer as I was coming ...</td>\n",
       "    </tr>\n",
       "  </tbody>\n",
       "</table>\n",
       "</div>"
      ],
      "text/plain": [
       "                                            selftext\n",
       "0                       https://youtu.be/LK-AGLpjcCA\n",
       "1  Recently Pentagon officially shared the leaked...\n",
       "2  This happened over the summer as I was coming ..."
      ]
     },
     "execution_count": 101,
     "metadata": {},
     "output_type": "execute_result"
    }
   ],
   "source": [
    "X.head(3)"
   ]
  },
  {
   "cell_type": "code",
   "execution_count": 102,
   "id": "ceb48870",
   "metadata": {},
   "outputs": [],
   "source": [
    "X_train, X_test, y_train, y_test = train_test_split(X, y, random_state = 42, stratify=y)"
   ]
  },
  {
   "cell_type": "code",
   "execution_count": 103,
   "id": "42576d0d",
   "metadata": {},
   "outputs": [],
   "source": [
    "# Import CountVectorizer.\n",
    "from sklearn.feature_extraction.text import CountVectorizer\n",
    "\n",
    "# Instantiate CountVectorizer.\n",
    "cvec = CountVectorizer(max_features = 500, stop_words = 'english')"
   ]
  },
  {
   "cell_type": "code",
   "execution_count": 104,
   "id": "4eed810f",
   "metadata": {},
   "outputs": [
    {
     "data": {
      "text/plain": [
       "(15473,)"
      ]
     },
     "execution_count": 104,
     "metadata": {},
     "output_type": "execute_result"
    }
   ],
   "source": [
    "X_train['selftext'].shape"
   ]
  },
  {
   "cell_type": "code",
   "execution_count": 105,
   "id": "32d5e055",
   "metadata": {},
   "outputs": [
    {
     "data": {
      "text/plain": [
       "matrix([[0, 0, 0, ..., 0, 0, 0],\n",
       "        [0, 0, 0, ..., 0, 0, 0],\n",
       "        [0, 0, 0, ..., 0, 0, 0],\n",
       "        ...,\n",
       "        [0, 0, 0, ..., 0, 0, 0],\n",
       "        [0, 0, 0, ..., 0, 0, 0],\n",
       "        [0, 0, 0, ..., 0, 0, 0]], dtype=int64)"
      ]
     },
     "execution_count": 105,
     "metadata": {},
     "output_type": "execute_result"
    }
   ],
   "source": [
    "cvec.fit_transform(X_train['selftext']).todense()"
   ]
  },
  {
   "cell_type": "code",
   "execution_count": 106,
   "id": "d2c682a1",
   "metadata": {},
   "outputs": [],
   "source": [
    "# Fit CountVectorizer on the training data and transform training data.\n",
    "X_train_cvec = pd.DataFrame(\n",
    "    cvec.fit_transform(X_train['selftext']).todense(),\n",
    "    columns = cvec.get_feature_names()\n",
    ")"
   ]
  },
  {
   "cell_type": "code",
   "execution_count": 107,
   "id": "d92a261b",
   "metadata": {},
   "outputs": [],
   "source": [
    "# Transform testing data with the already-fit CountVectorizer.\n",
    "X_test_cvec = pd.DataFrame(\n",
    "    cvec.transform(X_test['selftext']).todense(),\n",
    "    columns = cvec.get_feature_names()\n",
    ")"
   ]
  },
  {
   "cell_type": "code",
   "execution_count": 108,
   "id": "79222c08",
   "metadata": {},
   "outputs": [
    {
     "data": {
      "text/html": [
       "<div>\n",
       "<style scoped>\n",
       "    .dataframe tbody tr th:only-of-type {\n",
       "        vertical-align: middle;\n",
       "    }\n",
       "\n",
       "    .dataframe tbody tr th {\n",
       "        vertical-align: top;\n",
       "    }\n",
       "\n",
       "    .dataframe thead th {\n",
       "        text-align: right;\n",
       "    }\n",
       "</style>\n",
       "<table border=\"1\" class=\"dataframe\">\n",
       "  <thead>\n",
       "    <tr style=\"text-align: right;\">\n",
       "      <th></th>\n",
       "      <th>000</th>\n",
       "      <th>00100000</th>\n",
       "      <th>01100101</th>\n",
       "      <th>10</th>\n",
       "      <th>100</th>\n",
       "      <th>12</th>\n",
       "      <th>15</th>\n",
       "      <th>20</th>\n",
       "      <th>2020</th>\n",
       "      <th>2021</th>\n",
       "      <th>...</th>\n",
       "      <th>world</th>\n",
       "      <th>wouldn</th>\n",
       "      <th>wrong</th>\n",
       "      <th>www</th>\n",
       "      <th>x200b</th>\n",
       "      <th>year</th>\n",
       "      <th>years</th>\n",
       "      <th>yes</th>\n",
       "      <th>youtu</th>\n",
       "      <th>youtube</th>\n",
       "    </tr>\n",
       "  </thead>\n",
       "  <tbody>\n",
       "    <tr>\n",
       "      <th>0</th>\n",
       "      <td>0</td>\n",
       "      <td>0</td>\n",
       "      <td>0</td>\n",
       "      <td>0</td>\n",
       "      <td>0</td>\n",
       "      <td>0</td>\n",
       "      <td>0</td>\n",
       "      <td>0</td>\n",
       "      <td>0</td>\n",
       "      <td>0</td>\n",
       "      <td>...</td>\n",
       "      <td>0</td>\n",
       "      <td>0</td>\n",
       "      <td>0</td>\n",
       "      <td>0</td>\n",
       "      <td>0</td>\n",
       "      <td>0</td>\n",
       "      <td>0</td>\n",
       "      <td>0</td>\n",
       "      <td>0</td>\n",
       "      <td>0</td>\n",
       "    </tr>\n",
       "    <tr>\n",
       "      <th>1</th>\n",
       "      <td>0</td>\n",
       "      <td>0</td>\n",
       "      <td>0</td>\n",
       "      <td>0</td>\n",
       "      <td>0</td>\n",
       "      <td>0</td>\n",
       "      <td>0</td>\n",
       "      <td>0</td>\n",
       "      <td>0</td>\n",
       "      <td>0</td>\n",
       "      <td>...</td>\n",
       "      <td>0</td>\n",
       "      <td>0</td>\n",
       "      <td>0</td>\n",
       "      <td>0</td>\n",
       "      <td>0</td>\n",
       "      <td>0</td>\n",
       "      <td>0</td>\n",
       "      <td>0</td>\n",
       "      <td>0</td>\n",
       "      <td>0</td>\n",
       "    </tr>\n",
       "    <tr>\n",
       "      <th>2</th>\n",
       "      <td>0</td>\n",
       "      <td>0</td>\n",
       "      <td>0</td>\n",
       "      <td>0</td>\n",
       "      <td>0</td>\n",
       "      <td>0</td>\n",
       "      <td>0</td>\n",
       "      <td>0</td>\n",
       "      <td>0</td>\n",
       "      <td>0</td>\n",
       "      <td>...</td>\n",
       "      <td>0</td>\n",
       "      <td>0</td>\n",
       "      <td>0</td>\n",
       "      <td>0</td>\n",
       "      <td>1</td>\n",
       "      <td>0</td>\n",
       "      <td>0</td>\n",
       "      <td>0</td>\n",
       "      <td>0</td>\n",
       "      <td>0</td>\n",
       "    </tr>\n",
       "    <tr>\n",
       "      <th>3</th>\n",
       "      <td>0</td>\n",
       "      <td>0</td>\n",
       "      <td>0</td>\n",
       "      <td>0</td>\n",
       "      <td>0</td>\n",
       "      <td>0</td>\n",
       "      <td>0</td>\n",
       "      <td>0</td>\n",
       "      <td>0</td>\n",
       "      <td>0</td>\n",
       "      <td>...</td>\n",
       "      <td>0</td>\n",
       "      <td>0</td>\n",
       "      <td>0</td>\n",
       "      <td>0</td>\n",
       "      <td>0</td>\n",
       "      <td>0</td>\n",
       "      <td>0</td>\n",
       "      <td>0</td>\n",
       "      <td>0</td>\n",
       "      <td>0</td>\n",
       "    </tr>\n",
       "    <tr>\n",
       "      <th>4</th>\n",
       "      <td>0</td>\n",
       "      <td>0</td>\n",
       "      <td>0</td>\n",
       "      <td>0</td>\n",
       "      <td>0</td>\n",
       "      <td>0</td>\n",
       "      <td>0</td>\n",
       "      <td>0</td>\n",
       "      <td>0</td>\n",
       "      <td>0</td>\n",
       "      <td>...</td>\n",
       "      <td>0</td>\n",
       "      <td>0</td>\n",
       "      <td>0</td>\n",
       "      <td>1</td>\n",
       "      <td>0</td>\n",
       "      <td>0</td>\n",
       "      <td>0</td>\n",
       "      <td>0</td>\n",
       "      <td>0</td>\n",
       "      <td>1</td>\n",
       "    </tr>\n",
       "  </tbody>\n",
       "</table>\n",
       "<p>5 rows × 500 columns</p>\n",
       "</div>"
      ],
      "text/plain": [
       "   000  00100000  01100101  10  100  12  15  20  2020  2021  ...  world  \\\n",
       "0    0         0         0   0    0   0   0   0     0     0  ...      0   \n",
       "1    0         0         0   0    0   0   0   0     0     0  ...      0   \n",
       "2    0         0         0   0    0   0   0   0     0     0  ...      0   \n",
       "3    0         0         0   0    0   0   0   0     0     0  ...      0   \n",
       "4    0         0         0   0    0   0   0   0     0     0  ...      0   \n",
       "\n",
       "   wouldn  wrong  www  x200b  year  years  yes  youtu  youtube  \n",
       "0       0      0    0      0     0      0    0      0        0  \n",
       "1       0      0    0      0     0      0    0      0        0  \n",
       "2       0      0    0      1     0      0    0      0        0  \n",
       "3       0      0    0      0     0      0    0      0        0  \n",
       "4       0      0    1      0     0      0    0      0        1  \n",
       "\n",
       "[5 rows x 500 columns]"
      ]
     },
     "execution_count": 108,
     "metadata": {},
     "output_type": "execute_result"
    }
   ],
   "source": [
    "X_train_cvec.head()"
   ]
  },
  {
   "cell_type": "markdown",
   "id": "ca8c0942",
   "metadata": {},
   "source": [
    "Fit Naive Bayers model"
   ]
  },
  {
   "cell_type": "code",
   "execution_count": 109,
   "id": "6da5b643",
   "metadata": {},
   "outputs": [],
   "source": [
    "from sklearn.naive_bayes import MultinomialNB"
   ]
  },
  {
   "cell_type": "code",
   "execution_count": 110,
   "id": "e4d7cae5",
   "metadata": {},
   "outputs": [],
   "source": [
    "nb = MultinomialNB()"
   ]
  },
  {
   "cell_type": "code",
   "execution_count": 111,
   "id": "23d87ca0",
   "metadata": {},
   "outputs": [],
   "source": [
    "model = nb.fit(X_train_cvec, y_train)"
   ]
  },
  {
   "cell_type": "code",
   "execution_count": 112,
   "id": "9cf5a939",
   "metadata": {},
   "outputs": [],
   "source": [
    "predictions = model.predict(X_test_cvec)"
   ]
  },
  {
   "cell_type": "code",
   "execution_count": 113,
   "id": "a3ef2200",
   "metadata": {},
   "outputs": [
    {
     "data": {
      "text/plain": [
       "(15473, 500)"
      ]
     },
     "execution_count": 113,
     "metadata": {},
     "output_type": "execute_result"
    }
   ],
   "source": [
    "X_train_cvec.shape"
   ]
  },
  {
   "cell_type": "code",
   "execution_count": 114,
   "id": "d12465b5",
   "metadata": {},
   "outputs": [
    {
     "data": {
      "text/plain": [
       "(15473,)"
      ]
     },
     "execution_count": 114,
     "metadata": {},
     "output_type": "execute_result"
    }
   ],
   "source": [
    "y_train.shape"
   ]
  },
  {
   "cell_type": "code",
   "execution_count": 115,
   "id": "f2127312",
   "metadata": {},
   "outputs": [
    {
     "data": {
      "text/plain": [
       "0.8087636528145803"
      ]
     },
     "execution_count": 115,
     "metadata": {},
     "output_type": "execute_result"
    }
   ],
   "source": [
    "model.score(X_train_cvec, y_train)"
   ]
  },
  {
   "cell_type": "code",
   "execution_count": 116,
   "id": "e1e2d768",
   "metadata": {},
   "outputs": [
    {
     "data": {
      "text/plain": [
       "0.8008918185343157"
      ]
     },
     "execution_count": 116,
     "metadata": {},
     "output_type": "execute_result"
    }
   ],
   "source": [
    "model.score(X_test_cvec, y_test)"
   ]
  },
  {
   "cell_type": "code",
   "execution_count": 117,
   "id": "2992ca21",
   "metadata": {},
   "outputs": [],
   "source": [
    "from sklearn.metrics import confusion_matrix"
   ]
  },
  {
   "cell_type": "code",
   "execution_count": 118,
   "id": "fb091528",
   "metadata": {},
   "outputs": [
    {
     "data": {
      "text/plain": [
       "array([[3121,  333],\n",
       "       [ 694, 1010]], dtype=int64)"
      ]
     },
     "execution_count": 118,
     "metadata": {},
     "output_type": "execute_result"
    }
   ],
   "source": [
    "confusion_matrix(y_test, predictions)"
   ]
  },
  {
   "cell_type": "code",
   "execution_count": 121,
   "id": "e581085a",
   "metadata": {},
   "outputs": [],
   "source": [
    "tn, fp, fn, tp = confusion_matrix(y_test, predictions).ravel()"
   ]
  },
  {
   "cell_type": "code",
   "execution_count": 122,
   "id": "ad366b17",
   "metadata": {},
   "outputs": [
    {
     "name": "stdout",
     "output_type": "stream",
     "text": [
      "True Negatives: 3121\n",
      "False Positives: 333\n",
      "False Negatives: 694\n",
      "True Positives: 1010\n"
     ]
    }
   ],
   "source": [
    "print(f\"True Negatives: {tn}\")\n",
    "print(f\"False Positives: {fp}\")\n",
    "print(f\"False Negatives: {fn}\")\n",
    "print(f\"True Positives: {tp}\")"
   ]
  },
  {
   "cell_type": "code",
   "execution_count": null,
   "id": "23b65fa5",
   "metadata": {},
   "outputs": [],
   "source": []
  },
  {
   "cell_type": "code",
   "execution_count": null,
   "id": "f049abab",
   "metadata": {},
   "outputs": [],
   "source": []
  },
  {
   "cell_type": "code",
   "execution_count": null,
   "id": "a4a13750",
   "metadata": {},
   "outputs": [],
   "source": []
  },
  {
   "cell_type": "code",
   "execution_count": null,
   "id": "4d5d0119",
   "metadata": {},
   "outputs": [],
   "source": []
  },
  {
   "cell_type": "code",
   "execution_count": null,
   "id": "f8e0d09b",
   "metadata": {},
   "outputs": [],
   "source": []
  },
  {
   "cell_type": "code",
   "execution_count": null,
   "id": "305e6237",
   "metadata": {},
   "outputs": [],
   "source": []
  }
 ],
 "metadata": {
  "kernelspec": {
   "display_name": "Python 3",
   "language": "python",
   "name": "python3"
  },
  "language_info": {
   "codemirror_mode": {
    "name": "ipython",
    "version": 3
   },
   "file_extension": ".py",
   "mimetype": "text/x-python",
   "name": "python",
   "nbconvert_exporter": "python",
   "pygments_lexer": "ipython3",
   "version": "3.8.8"
  }
 },
 "nbformat": 4,
 "nbformat_minor": 5
}
