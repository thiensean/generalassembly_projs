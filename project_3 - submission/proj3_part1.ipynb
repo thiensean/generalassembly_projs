{
 "cells": [
  {
   "cell_type": "markdown",
   "id": "7ee1b9f7",
   "metadata": {},
   "source": [
    "# Problem Statement"
   ]
  },
  {
   "cell_type": "markdown",
   "id": "3285419c",
   "metadata": {},
   "source": [
    "### Goal of the project"
   ]
  },
  {
   "cell_type": "markdown",
   "id": "af596663",
   "metadata": {},
   "source": [
    "(MIB) is a secret association that keeps top secret information regarding extraterrestrials under wraps. Think \"Area 51\" and the \"Roswell incident\".\n",
    "But, nothing is foolproof. Things get leaked out anyway.\n",
    "\n",
    "Some information is leaked out into the internet via reddit, most of which are to \"Aliens\" and \"Space\" subreddits.\n",
    "\n",
    "They do not want to completely shut down reddit, or delete the subreddit, Instead they would like to monitor what people are talking about.\n",
    "\n",
    "The goal of the project is to use machine learning to accurately predict whether a post in \"Space\" or any other subreddit belongs to \"Aliens\".\n",
    "\n",
    "Besides predicting its classification, they would also like to know what the latest trends are, not only to have an idea of what's hot, but to feed said information to their other departments such as their marketing effort on social media, events and even podcasts.\n",
    "\n",
    "Future work are sentiment analysis and topic modelling and will allow MIB to further their understanding on what people are posting and ensuring effective monitoring."
   ]
  },
  {
   "cell_type": "markdown",
   "id": "e4ca3034",
   "metadata": {},
   "source": [
    "### Type of model that will be developed"
   ]
  },
  {
   "cell_type": "markdown",
   "id": "89cddf52",
   "metadata": {},
   "source": [
    "Four classification models, Naive Bayes, Logistic Regression, Random Forest and CatboostClassfication will be developed for this project."
   ]
  },
  {
   "cell_type": "markdown",
   "id": "1227d9fb",
   "metadata": {},
   "source": [
    "### Success evaluation"
   ]
  },
  {
   "cell_type": "markdown",
   "id": "7a63f5ba",
   "metadata": {},
   "source": [
    "Success evaluation will be based on its precision, whether its classified correctly and also its F1 score on unseen test data."
   ]
  },
  {
   "cell_type": "markdown",
   "id": "70470407",
   "metadata": {},
   "source": [
    "### Scope of the project"
   ]
  },
  {
   "cell_type": "markdown",
   "id": "0d7425e8",
   "metadata": {},
   "source": [
    "\"1. Using [Pushshift's](https://github.com/pushshift/api) API, you'll collect posts from two subreddits of your choosing.\" <br>\n",
    "\"2. You'll then use NLP to train a classifier on which subreddit a given post came from. This is a binary classification problem.\""
   ]
  },
  {
   "cell_type": "markdown",
   "id": "48df78d1",
   "metadata": {},
   "source": [
    "##### To fulfill the above requirements, the scope of the project will be to use Pushshift's API with a wrapper called \"pmaw\" to collect posts from our choosing which are \"Aliens\" and \"Space\".\n",
    "\n",
    "##### We will then use NLP techniques like tokenization, stemming, lemmatization and classification models to train the model on binary classification.\n",
    "\n",
    "##### 4 classifier models consisting of Naive Bayes, Logistic Regression, Random Forest and CatboostClassfication will be compared to fulfill the requirements\n",
    "\n",
    "##### We will then assess the model based on its precision and F1 score to determine whether our model classification was accurate."
   ]
  },
  {
   "cell_type": "markdown",
   "id": "addd2b4c",
   "metadata": {},
   "source": [
    "### Stakeholders and why is it important to investigate"
   ]
  },
  {
   "cell_type": "markdown",
   "id": "bba161ff",
   "metadata": {},
   "source": [
    "Men In Black (MIB) is a government association that researches & promotes extraterrestrial knowledge.\n",
    "\n",
    "To fulfill their short term goals (this project):\n",
    "1. Classify posts accurately to achieve the aim of collecting suitable posts for analysis\n",
    "2. To get key words that the model classifier uses to accurately classify these posts to understand its method for its marketing and research efforts.\n",
    "\n",
    "To fulfill their long term goals (future work):\n",
    "1. Sentiment analysis of possible extraterrestrial on Earth to determine if its suitable to release information that might cause panic among citizens.\n",
    "2. Understand how ordinary citizens think about extraterrestrial activities on Earth\n",
    "3. Topic modelling to understand what topics ordinary citizens are discussing about Aliens to: <br>\n",
    "    a. Market products <br>\n",
    "    b. Push their agenda (whether its required to block or release sensitive information) <br>\n",
    "    c. Whether public are getting closer to the truth about Aliens"
   ]
  },
  {
   "cell_type": "markdown",
   "id": "644a1537",
   "metadata": {},
   "source": [
    "### Primary and Secondary stakeholders"
   ]
  },
  {
   "cell_type": "markdown",
   "id": "f898f17b",
   "metadata": {},
   "source": [
    "1. Men in Black (MIB)\n",
    "2. Media groups associated with MIB\n",
    "\n",
    "Secondary stakeholders are media groups because they are closely linked with the purpose of this project for classification and also future work stated above."
   ]
  },
  {
   "cell_type": "markdown",
   "id": "707801a8",
   "metadata": {},
   "source": [
    "## Executive Summary\n",
    "\n",
    "Part 1:\n",
    "1. Problem statement\n",
    "2. Scope of project\n",
    "3. Import relevant libraries\n",
    "4. Web scraping through pushshift API and wrapper \"pmaw\", while considering server requests.\n",
    "5. Scrape \"Aliens\" subreddit and \"Space\" subreddit."
   ]
  },
  {
   "cell_type": "markdown",
   "id": "ba2dd7af",
   "metadata": {},
   "source": [
    "# Data Collection"
   ]
  },
  {
   "cell_type": "markdown",
   "id": "71c02d1d",
   "metadata": {},
   "source": [
    "## Was enough data gathered to generate significant results?\n",
    "\n",
    "At least 2000 usable posts from each subreddit posts must remain after data cleaning for the model to be effective at generalizing and classifying future unseen data.\n",
    "\n",
    "Hence, there will be overscraping of 10,000 posts to take into account empty/deleted/unusable posts."
   ]
  },
  {
   "cell_type": "markdown",
   "id": "69f30c7f",
   "metadata": {},
   "source": [
    "## Relevance to the project\n",
    "\n",
    "Data collected will be from subreddit and its \"selftext\" and \"title\" and \"subreddit\" will remain as these are relevant to the project and will be useful for training the classification model."
   ]
  },
  {
   "cell_type": "markdown",
   "id": "aa92fae0",
   "metadata": {},
   "source": [
    "# 1. Import libraries and setup conditions"
   ]
  },
  {
   "cell_type": "markdown",
   "id": "5d50cc89",
   "metadata": {},
   "source": [
    "### Import libraries"
   ]
  },
  {
   "cell_type": "markdown",
   "id": "f6d3be96",
   "metadata": {},
   "source": [
    "### Data collection and storage was optimized through custom functions, pipelines, and/or automation:\n",
    "\n",
    "Using a wrapper called \"pmaw\", this library can be used to automate post collection beyond its post limit and also allows useful parameters in consideration of the server receiving the requests."
   ]
  },
  {
   "cell_type": "code",
   "execution_count": 12,
   "id": "81f439d7",
   "metadata": {},
   "outputs": [],
   "source": [
    "import requests\n",
    "import pandas as pd\n",
    "from pmaw import PushshiftAPI\n",
    "from pandas import DataFrame as df"
   ]
  },
  {
   "cell_type": "markdown",
   "id": "d802d7c2",
   "metadata": {},
   "source": [
    "### Use pushshiftAPI to scrape more than 100 posts limit"
   ]
  },
  {
   "cell_type": "code",
   "execution_count": 13,
   "id": "db39fd75",
   "metadata": {},
   "outputs": [],
   "source": [
    "api = PushshiftAPI()"
   ]
  },
  {
   "cell_type": "markdown",
   "id": "c0003d46",
   "metadata": {},
   "source": [
    "### Setting the date range for scraping"
   ]
  },
  {
   "cell_type": "code",
   "execution_count": 14,
   "id": "509ac7ab",
   "metadata": {},
   "outputs": [],
   "source": [
    "import datetime as dt\n",
    "before = int(dt.datetime(2022,1,8,0,0).timestamp())\n",
    "after = int(dt.datetime(2019,12,1,0,0).timestamp())"
   ]
  },
  {
   "cell_type": "markdown",
   "id": "f7695889",
   "metadata": {},
   "source": [
    "# 4. Scrape Aliens subreddit posts"
   ]
  },
  {
   "cell_type": "markdown",
   "id": "93ddd731",
   "metadata": {},
   "source": [
    "### Setting scrape limit to 100,000"
   ]
  },
  {
   "cell_type": "markdown",
   "id": "1b9cfd03",
   "metadata": {},
   "source": [
    "### Thought given to the server receiving the requests such as considering number of requests per second\n",
    "\n",
    "### By setting the following parameters:\n",
    "\n",
    "#### \"rate_limit=60, max_sleep=10\"\n",
    "\n",
    "Thought is given to the server receiving the requests by setting parameters such as rate limit and max sleep after every 100 posts, we do not flood the server with requests and our requests do not get rejected as possible DDoS attack on the server."
   ]
  },
  {
   "cell_type": "code",
   "execution_count": 15,
   "id": "34cc4380",
   "metadata": {
    "scrolled": true
   },
   "outputs": [
    {
     "name": "stdout",
     "output_type": "stream",
     "text": [
      "WARNING:pmaw.PushshiftAPIBase:Not all PushShift shards are active. Query results may be incomplete.\n",
      "WARNING:pmaw.PushshiftAPIBase:Not all PushShift shards are active. Query results may be incomplete.\n",
      "WARNING:pmaw.PushshiftAPIBase:Not all PushShift shards are active. Query results may be incomplete.\n",
      "WARNING:pmaw.PushshiftAPIBase:Not all PushShift shards are active. Query results may be incomplete.\n",
      "WARNING:pmaw.PushshiftAPIBase:Not all PushShift shards are active. Query results may be incomplete.\n",
      "WARNING:pmaw.PushshiftAPIBase:Not all PushShift shards are active. Query results may be incomplete.\n",
      "INFO:pmaw.PushshiftAPIBase:Checkpoint:: Success Rate: 88.00% - Requests: 100 - Batches: 10 - Items Remaining: 1201\n",
      "WARNING:pmaw.PushshiftAPIBase:Not all PushShift shards are active. Query results may be incomplete.\n",
      "WARNING:pmaw.PushshiftAPIBase:Not all PushShift shards are active. Query results may be incomplete.\n",
      "INFO:pmaw.PushshiftAPIBase:Total:: Success Rate: 87.07% - Requests: 116 - Batches: 12 - Items Remaining: 0\n",
      "Retrieved 10000 posts from Pushshift\n"
     ]
    }
   ],
   "source": [
    "subreddit=\"aliens\"\n",
    "limit=10000\n",
    "aliens_posts = api.search_submissions(subreddit=subreddit, limit=limit, before=before, after=after, rate_limit=60, max_sleep=10)\n",
    "print(f'Retrieved {len(aliens_posts)} posts from Pushshift')"
   ]
  },
  {
   "cell_type": "code",
   "execution_count": 16,
   "id": "e24b9e09",
   "metadata": {},
   "outputs": [],
   "source": [
    "aliens_posts = pd.DataFrame(aliens_posts)"
   ]
  },
  {
   "cell_type": "code",
   "execution_count": 17,
   "id": "48864e87",
   "metadata": {},
   "outputs": [],
   "source": [
    "aliens_posts_df = aliens_posts[['subreddit', 'selftext', 'title']]"
   ]
  },
  {
   "cell_type": "markdown",
   "id": "251f7e19",
   "metadata": {},
   "source": [
    "### Output Aliens posts to csv"
   ]
  },
  {
   "cell_type": "code",
   "execution_count": 18,
   "id": "790abf6c",
   "metadata": {},
   "outputs": [],
   "source": [
    "aliens_posts_df.to_csv('./datasets/aliens_posts.csv', index=False)"
   ]
  },
  {
   "cell_type": "markdown",
   "id": "38331d4f",
   "metadata": {},
   "source": [
    "# 5. Scrape Space subreddit posts"
   ]
  },
  {
   "cell_type": "markdown",
   "id": "7b0f34e9",
   "metadata": {},
   "source": [
    "### Setting scrape limit to 10,000"
   ]
  },
  {
   "cell_type": "code",
   "execution_count": 19,
   "id": "9a8cac9f",
   "metadata": {
    "scrolled": true
   },
   "outputs": [
    {
     "name": "stdout",
     "output_type": "stream",
     "text": [
      "WARNING:pmaw.PushshiftAPIBase:Not all PushShift shards are active. Query results may be incomplete.\n",
      "WARNING:pmaw.PushshiftAPIBase:Not all PushShift shards are active. Query results may be incomplete.\n",
      "WARNING:pmaw.PushshiftAPIBase:Not all PushShift shards are active. Query results may be incomplete.\n",
      "WARNING:pmaw.PushshiftAPIBase:Not all PushShift shards are active. Query results may be incomplete.\n",
      "WARNING:pmaw.PushshiftAPIBase:Not all PushShift shards are active. Query results may be incomplete.\n",
      "WARNING:pmaw.PushshiftAPIBase:Not all PushShift shards are active. Query results may be incomplete.\n",
      "INFO:pmaw.PushshiftAPIBase:Checkpoint:: Success Rate: 89.00% - Requests: 100 - Batches: 10 - Items Remaining: 1108\n",
      "INFO:pmaw.PushshiftAPIBase:Total:: Success Rate: 88.60% - Requests: 114 - Batches: 12 - Items Remaining: 0\n",
      "Retrieved 10000 posts from Pushshift\n"
     ]
    }
   ],
   "source": [
    "subreddit=\"space\"\n",
    "limit=10000\n",
    "space_posts = api.search_submissions(subreddit=subreddit, limit=limit, before=before, after=after, rate_limit=60, max_sleep=10)\n",
    "print(f'Retrieved {len(space_posts)} posts from Pushshift')"
   ]
  },
  {
   "cell_type": "code",
   "execution_count": 20,
   "id": "141cb4fa",
   "metadata": {},
   "outputs": [],
   "source": [
    "space_posts = pd.DataFrame(space_posts)"
   ]
  },
  {
   "cell_type": "code",
   "execution_count": 21,
   "id": "b231c622",
   "metadata": {},
   "outputs": [],
   "source": [
    "space_posts_df = space_posts[['subreddit', 'selftext', 'title']]"
   ]
  },
  {
   "cell_type": "markdown",
   "id": "c212e234",
   "metadata": {},
   "source": [
    "### Output Space posts to csv"
   ]
  },
  {
   "cell_type": "code",
   "execution_count": 22,
   "id": "d4257102",
   "metadata": {},
   "outputs": [],
   "source": [
    "space_posts_df.to_csv('./datasets/space_posts.csv', index=False)"
   ]
  },
  {
   "cell_type": "markdown",
   "id": "bd226bc8",
   "metadata": {},
   "source": [
    "# 6. Project will be continued in proj3_part2"
   ]
  }
 ],
 "metadata": {
  "kernelspec": {
   "display_name": "Python 3",
   "language": "python",
   "name": "python3"
  },
  "language_info": {
   "codemirror_mode": {
    "name": "ipython",
    "version": 3
   },
   "file_extension": ".py",
   "mimetype": "text/x-python",
   "name": "python",
   "nbconvert_exporter": "python",
   "pygments_lexer": "ipython3",
   "version": "3.8.8"
  }
 },
 "nbformat": 4,
 "nbformat_minor": 5
}
