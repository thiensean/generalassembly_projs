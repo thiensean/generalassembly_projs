{
 "cells": [
  {
   "cell_type": "markdown",
   "id": "b4e32121",
   "metadata": {},
   "source": [
    "# Project 2 - Ames Housing Data and Kaggle Challenge"
   ]
  },
  {
   "cell_type": "markdown",
   "id": "22ff2634",
   "metadata": {},
   "source": [
    "# Part 1 - Cleaning training data"
   ]
  },
  {
   "cell_type": "markdown",
   "id": "d1c06b90",
   "metadata": {},
   "source": [
    "# Problem Statement"
   ]
  },
  {
   "cell_type": "markdown",
   "id": "b3cc3729",
   "metadata": {},
   "source": [
    "As real estate analysts in Iowa, we are responsible for managing our organization's real estate holdings.\n",
    "\n",
    "We are tasked with understanding real estate market trends and to minimize current and future real estate holding risks.\n",
    "\n",
    "We will be conducting data analysis on the Iowa real estate market and determine which are the factors that affects property prices.\n",
    "\n",
    "The purpose of this analysis is to better understand a property price and provide suitable insights to management and potential buyers of the organization's real estate."
   ]
  },
  {
   "cell_type": "markdown",
   "id": "73de558f",
   "metadata": {},
   "source": [
    "# Executive Summary"
   ]
  },
  {
   "cell_type": "markdown",
   "id": "e50a2ee6",
   "metadata": {},
   "source": [
    "Part 1: <br>\n",
    "1. Importing all necessary libraries <br>\n",
    "2. Importing training dataset \"train.csv\". <br>\n",
    "3. Data Cleaning <br>\n",
    "4. EDA <br>\n",
    "\n",
    "Part 2:\n",
    "1. Importing all necessary libraries <br>\n",
    "2. Importing training dataset \"test.csv\". <br>\n",
    "3. Data Cleaning <br>\n",
    "4. EDA <br>\n",
    "\n",
    "Part 3: <br>\n",
    "1. Feature Engineering <br>\n",
    "2. Modelling, L1 & L2 regularization <br>\n",
    "3. Residuals and model evaluation <br>\n",
    "4. Results interpretation <br>\n",
    "\n",
    "readme.md: <br>\n",
    "1. Recommendations <br>\n",
    "2. Future steps forward for the project <br>\n",
    "3. Research about the topic\n",
    "4. Sources <br>"
   ]
  },
  {
   "cell_type": "markdown",
   "id": "6c8a745b",
   "metadata": {},
   "source": [
    "# 1. Importing all necessary libraries"
   ]
  },
  {
   "cell_type": "code",
   "execution_count": 1,
   "id": "e42a7668",
   "metadata": {},
   "outputs": [],
   "source": [
    "import pandas as pd\n",
    "from pandas import DataFrame as df\n",
    "import numpy as np\n",
    "import scipy.stats\n",
    "from scipy import stats\n",
    "import sklearn.preprocessing\n",
    "import sklearn.model_selection\n",
    "import sklearn.linear_model\n",
    "import sklearn.metrics\n",
    "from sklearn.preprocessing import StandardScaler\n",
    "from sklearn.linear_model import Ridge, Lasso, ElasticNet, LinearRegression, RidgeCV, LassoCV, ElasticNetCV\n",
    "from sklearn.model_selection import cross_val_score, train_test_split\n",
    "import matplotlib\n",
    "import matplotlib.pyplot as plt\n",
    "import seaborn as sns\n",
    "\n",
    "import warnings\n",
    "warnings.filterwarnings('ignore')"
   ]
  },
  {
   "cell_type": "code",
   "execution_count": 2,
   "id": "e2ac5601",
   "metadata": {},
   "outputs": [],
   "source": [
    "traindata = pd.read_csv('datasets/train.csv')\n",
    "#testdata = pd.read_csv('datasets/test.csv')"
   ]
  },
  {
   "cell_type": "code",
   "execution_count": 3,
   "id": "15978fe7",
   "metadata": {},
   "outputs": [],
   "source": [
    "#traindata = pd.concat([traindata, testdata])"
   ]
  },
  {
   "cell_type": "code",
   "execution_count": 4,
   "id": "99127b35",
   "metadata": {},
   "outputs": [
    {
     "data": {
      "text/plain": [
       "(2051, 81)"
      ]
     },
     "execution_count": 4,
     "metadata": {},
     "output_type": "execute_result"
    }
   ],
   "source": [
    "traindata.shape"
   ]
  },
  {
   "cell_type": "code",
   "execution_count": 5,
   "id": "25a4043d",
   "metadata": {},
   "outputs": [
    {
     "data": {
      "text/html": [
       "<div>\n",
       "<style scoped>\n",
       "    .dataframe tbody tr th:only-of-type {\n",
       "        vertical-align: middle;\n",
       "    }\n",
       "\n",
       "    .dataframe tbody tr th {\n",
       "        vertical-align: top;\n",
       "    }\n",
       "\n",
       "    .dataframe thead th {\n",
       "        text-align: right;\n",
       "    }\n",
       "</style>\n",
       "<table border=\"1\" class=\"dataframe\">\n",
       "  <thead>\n",
       "    <tr style=\"text-align: right;\">\n",
       "      <th></th>\n",
       "      <th>Id</th>\n",
       "      <th>PID</th>\n",
       "      <th>MS SubClass</th>\n",
       "      <th>MS Zoning</th>\n",
       "      <th>Lot Frontage</th>\n",
       "      <th>Lot Area</th>\n",
       "      <th>Street</th>\n",
       "      <th>Alley</th>\n",
       "      <th>Lot Shape</th>\n",
       "      <th>Land Contour</th>\n",
       "      <th>...</th>\n",
       "      <th>Screen Porch</th>\n",
       "      <th>Pool Area</th>\n",
       "      <th>Pool QC</th>\n",
       "      <th>Fence</th>\n",
       "      <th>Misc Feature</th>\n",
       "      <th>Misc Val</th>\n",
       "      <th>Mo Sold</th>\n",
       "      <th>Yr Sold</th>\n",
       "      <th>Sale Type</th>\n",
       "      <th>SalePrice</th>\n",
       "    </tr>\n",
       "  </thead>\n",
       "  <tbody>\n",
       "    <tr>\n",
       "      <th>0</th>\n",
       "      <td>109</td>\n",
       "      <td>533352170</td>\n",
       "      <td>60</td>\n",
       "      <td>RL</td>\n",
       "      <td>NaN</td>\n",
       "      <td>13517</td>\n",
       "      <td>Pave</td>\n",
       "      <td>NaN</td>\n",
       "      <td>IR1</td>\n",
       "      <td>Lvl</td>\n",
       "      <td>...</td>\n",
       "      <td>0</td>\n",
       "      <td>0</td>\n",
       "      <td>NaN</td>\n",
       "      <td>NaN</td>\n",
       "      <td>NaN</td>\n",
       "      <td>0</td>\n",
       "      <td>3</td>\n",
       "      <td>2010</td>\n",
       "      <td>WD</td>\n",
       "      <td>130500</td>\n",
       "    </tr>\n",
       "    <tr>\n",
       "      <th>1</th>\n",
       "      <td>544</td>\n",
       "      <td>531379050</td>\n",
       "      <td>60</td>\n",
       "      <td>RL</td>\n",
       "      <td>43.0</td>\n",
       "      <td>11492</td>\n",
       "      <td>Pave</td>\n",
       "      <td>NaN</td>\n",
       "      <td>IR1</td>\n",
       "      <td>Lvl</td>\n",
       "      <td>...</td>\n",
       "      <td>0</td>\n",
       "      <td>0</td>\n",
       "      <td>NaN</td>\n",
       "      <td>NaN</td>\n",
       "      <td>NaN</td>\n",
       "      <td>0</td>\n",
       "      <td>4</td>\n",
       "      <td>2009</td>\n",
       "      <td>WD</td>\n",
       "      <td>220000</td>\n",
       "    </tr>\n",
       "    <tr>\n",
       "      <th>2</th>\n",
       "      <td>153</td>\n",
       "      <td>535304180</td>\n",
       "      <td>20</td>\n",
       "      <td>RL</td>\n",
       "      <td>68.0</td>\n",
       "      <td>7922</td>\n",
       "      <td>Pave</td>\n",
       "      <td>NaN</td>\n",
       "      <td>Reg</td>\n",
       "      <td>Lvl</td>\n",
       "      <td>...</td>\n",
       "      <td>0</td>\n",
       "      <td>0</td>\n",
       "      <td>NaN</td>\n",
       "      <td>NaN</td>\n",
       "      <td>NaN</td>\n",
       "      <td>0</td>\n",
       "      <td>1</td>\n",
       "      <td>2010</td>\n",
       "      <td>WD</td>\n",
       "      <td>109000</td>\n",
       "    </tr>\n",
       "  </tbody>\n",
       "</table>\n",
       "<p>3 rows × 81 columns</p>\n",
       "</div>"
      ],
      "text/plain": [
       "    Id        PID  MS SubClass MS Zoning  Lot Frontage  Lot Area Street Alley  \\\n",
       "0  109  533352170           60        RL           NaN     13517   Pave   NaN   \n",
       "1  544  531379050           60        RL          43.0     11492   Pave   NaN   \n",
       "2  153  535304180           20        RL          68.0      7922   Pave   NaN   \n",
       "\n",
       "  Lot Shape Land Contour  ... Screen Porch Pool Area Pool QC Fence  \\\n",
       "0       IR1          Lvl  ...            0         0     NaN   NaN   \n",
       "1       IR1          Lvl  ...            0         0     NaN   NaN   \n",
       "2       Reg          Lvl  ...            0         0     NaN   NaN   \n",
       "\n",
       "  Misc Feature Misc Val Mo Sold Yr Sold  Sale Type  SalePrice  \n",
       "0          NaN        0       3    2010        WD      130500  \n",
       "1          NaN        0       4    2009        WD      220000  \n",
       "2          NaN        0       1    2010        WD      109000  \n",
       "\n",
       "[3 rows x 81 columns]"
      ]
     },
     "execution_count": 5,
     "metadata": {},
     "output_type": "execute_result"
    }
   ],
   "source": [
    "traindata.head(3)"
   ]
  },
  {
   "cell_type": "code",
   "execution_count": 6,
   "id": "e18bd341",
   "metadata": {},
   "outputs": [
    {
     "name": "stdout",
     "output_type": "stream",
     "text": [
      "<class 'pandas.core.frame.DataFrame'>\n",
      "RangeIndex: 2051 entries, 0 to 2050\n",
      "Data columns (total 81 columns):\n",
      " #   Column           Non-Null Count  Dtype  \n",
      "---  ------           --------------  -----  \n",
      " 0   Id               2051 non-null   int64  \n",
      " 1   PID              2051 non-null   int64  \n",
      " 2   MS SubClass      2051 non-null   int64  \n",
      " 3   MS Zoning        2051 non-null   object \n",
      " 4   Lot Frontage     1721 non-null   float64\n",
      " 5   Lot Area         2051 non-null   int64  \n",
      " 6   Street           2051 non-null   object \n",
      " 7   Alley            140 non-null    object \n",
      " 8   Lot Shape        2051 non-null   object \n",
      " 9   Land Contour     2051 non-null   object \n",
      " 10  Utilities        2051 non-null   object \n",
      " 11  Lot Config       2051 non-null   object \n",
      " 12  Land Slope       2051 non-null   object \n",
      " 13  Neighborhood     2051 non-null   object \n",
      " 14  Condition 1      2051 non-null   object \n",
      " 15  Condition 2      2051 non-null   object \n",
      " 16  Bldg Type        2051 non-null   object \n",
      " 17  House Style      2051 non-null   object \n",
      " 18  Overall Qual     2051 non-null   int64  \n",
      " 19  Overall Cond     2051 non-null   int64  \n",
      " 20  Year Built       2051 non-null   int64  \n",
      " 21  Year Remod/Add   2051 non-null   int64  \n",
      " 22  Roof Style       2051 non-null   object \n",
      " 23  Roof Matl        2051 non-null   object \n",
      " 24  Exterior 1st     2051 non-null   object \n",
      " 25  Exterior 2nd     2051 non-null   object \n",
      " 26  Mas Vnr Type     2029 non-null   object \n",
      " 27  Mas Vnr Area     2029 non-null   float64\n",
      " 28  Exter Qual       2051 non-null   object \n",
      " 29  Exter Cond       2051 non-null   object \n",
      " 30  Foundation       2051 non-null   object \n",
      " 31  Bsmt Qual        1996 non-null   object \n",
      " 32  Bsmt Cond        1996 non-null   object \n",
      " 33  Bsmt Exposure    1993 non-null   object \n",
      " 34  BsmtFin Type 1   1996 non-null   object \n",
      " 35  BsmtFin SF 1     2050 non-null   float64\n",
      " 36  BsmtFin Type 2   1995 non-null   object \n",
      " 37  BsmtFin SF 2     2050 non-null   float64\n",
      " 38  Bsmt Unf SF      2050 non-null   float64\n",
      " 39  Total Bsmt SF    2050 non-null   float64\n",
      " 40  Heating          2051 non-null   object \n",
      " 41  Heating QC       2051 non-null   object \n",
      " 42  Central Air      2051 non-null   object \n",
      " 43  Electrical       2051 non-null   object \n",
      " 44  1st Flr SF       2051 non-null   int64  \n",
      " 45  2nd Flr SF       2051 non-null   int64  \n",
      " 46  Low Qual Fin SF  2051 non-null   int64  \n",
      " 47  Gr Liv Area      2051 non-null   int64  \n",
      " 48  Bsmt Full Bath   2049 non-null   float64\n",
      " 49  Bsmt Half Bath   2049 non-null   float64\n",
      " 50  Full Bath        2051 non-null   int64  \n",
      " 51  Half Bath        2051 non-null   int64  \n",
      " 52  Bedroom AbvGr    2051 non-null   int64  \n",
      " 53  Kitchen AbvGr    2051 non-null   int64  \n",
      " 54  Kitchen Qual     2051 non-null   object \n",
      " 55  TotRms AbvGrd    2051 non-null   int64  \n",
      " 56  Functional       2051 non-null   object \n",
      " 57  Fireplaces       2051 non-null   int64  \n",
      " 58  Fireplace Qu     1051 non-null   object \n",
      " 59  Garage Type      1938 non-null   object \n",
      " 60  Garage Yr Blt    1937 non-null   float64\n",
      " 61  Garage Finish    1937 non-null   object \n",
      " 62  Garage Cars      2050 non-null   float64\n",
      " 63  Garage Area      2050 non-null   float64\n",
      " 64  Garage Qual      1937 non-null   object \n",
      " 65  Garage Cond      1937 non-null   object \n",
      " 66  Paved Drive      2051 non-null   object \n",
      " 67  Wood Deck SF     2051 non-null   int64  \n",
      " 68  Open Porch SF    2051 non-null   int64  \n",
      " 69  Enclosed Porch   2051 non-null   int64  \n",
      " 70  3Ssn Porch       2051 non-null   int64  \n",
      " 71  Screen Porch     2051 non-null   int64  \n",
      " 72  Pool Area        2051 non-null   int64  \n",
      " 73  Pool QC          9 non-null      object \n",
      " 74  Fence            400 non-null    object \n",
      " 75  Misc Feature     65 non-null     object \n",
      " 76  Misc Val         2051 non-null   int64  \n",
      " 77  Mo Sold          2051 non-null   int64  \n",
      " 78  Yr Sold          2051 non-null   int64  \n",
      " 79  Sale Type        2051 non-null   object \n",
      " 80  SalePrice        2051 non-null   int64  \n",
      "dtypes: float64(11), int64(28), object(42)\n",
      "memory usage: 1.3+ MB\n"
     ]
    }
   ],
   "source": [
    "traindata.info()"
   ]
  },
  {
   "cell_type": "code",
   "execution_count": 7,
   "id": "3abdbc99",
   "metadata": {},
   "outputs": [
    {
     "data": {
      "text/html": [
       "<div>\n",
       "<style scoped>\n",
       "    .dataframe tbody tr th:only-of-type {\n",
       "        vertical-align: middle;\n",
       "    }\n",
       "\n",
       "    .dataframe tbody tr th {\n",
       "        vertical-align: top;\n",
       "    }\n",
       "\n",
       "    .dataframe thead th {\n",
       "        text-align: right;\n",
       "    }\n",
       "</style>\n",
       "<table border=\"1\" class=\"dataframe\">\n",
       "  <thead>\n",
       "    <tr style=\"text-align: right;\">\n",
       "      <th></th>\n",
       "      <th>Id</th>\n",
       "      <th>PID</th>\n",
       "      <th>MS SubClass</th>\n",
       "      <th>MS Zoning</th>\n",
       "      <th>Lot Frontage</th>\n",
       "      <th>Lot Area</th>\n",
       "      <th>Street</th>\n",
       "      <th>Alley</th>\n",
       "      <th>Lot Shape</th>\n",
       "      <th>Land Contour</th>\n",
       "      <th>...</th>\n",
       "      <th>Screen Porch</th>\n",
       "      <th>Pool Area</th>\n",
       "      <th>Pool QC</th>\n",
       "      <th>Fence</th>\n",
       "      <th>Misc Feature</th>\n",
       "      <th>Misc Val</th>\n",
       "      <th>Mo Sold</th>\n",
       "      <th>Yr Sold</th>\n",
       "      <th>Sale Type</th>\n",
       "      <th>SalePrice</th>\n",
       "    </tr>\n",
       "  </thead>\n",
       "  <tbody>\n",
       "    <tr>\n",
       "      <th>value</th>\n",
       "      <td>0</td>\n",
       "      <td>0</td>\n",
       "      <td>0</td>\n",
       "      <td>0</td>\n",
       "      <td>330</td>\n",
       "      <td>0</td>\n",
       "      <td>0</td>\n",
       "      <td>1911</td>\n",
       "      <td>0</td>\n",
       "      <td>0</td>\n",
       "      <td>...</td>\n",
       "      <td>0</td>\n",
       "      <td>0</td>\n",
       "      <td>2042</td>\n",
       "      <td>1651</td>\n",
       "      <td>1986</td>\n",
       "      <td>0</td>\n",
       "      <td>0</td>\n",
       "      <td>0</td>\n",
       "      <td>0</td>\n",
       "      <td>0</td>\n",
       "    </tr>\n",
       "  </tbody>\n",
       "</table>\n",
       "<p>1 rows × 81 columns</p>\n",
       "</div>"
      ],
      "text/plain": [
       "       Id  PID  MS SubClass  MS Zoning  Lot Frontage  Lot Area  Street  Alley  \\\n",
       "value   0    0            0          0           330         0       0   1911   \n",
       "\n",
       "       Lot Shape  Land Contour  ...  Screen Porch  Pool Area  Pool QC  Fence  \\\n",
       "value          0             0  ...             0          0     2042   1651   \n",
       "\n",
       "       Misc Feature  Misc Val  Mo Sold  Yr Sold  Sale Type  SalePrice  \n",
       "value          1986         0        0        0          0          0  \n",
       "\n",
       "[1 rows x 81 columns]"
      ]
     },
     "execution_count": 7,
     "metadata": {},
     "output_type": "execute_result"
    }
   ],
   "source": [
    "missing = pd.DataFrame(traindata.isnull().sum(), columns=['value'])\n",
    "missing.T"
   ]
  },
  {
   "cell_type": "code",
   "execution_count": 8,
   "id": "b0b73cf7",
   "metadata": {},
   "outputs": [],
   "source": [
    "missing1 = missing[missing['value'] != 0]"
   ]
  },
  {
   "cell_type": "code",
   "execution_count": 9,
   "id": "e851b735",
   "metadata": {},
   "outputs": [
    {
     "data": {
      "text/html": [
       "<div>\n",
       "<style scoped>\n",
       "    .dataframe tbody tr th:only-of-type {\n",
       "        vertical-align: middle;\n",
       "    }\n",
       "\n",
       "    .dataframe tbody tr th {\n",
       "        vertical-align: top;\n",
       "    }\n",
       "\n",
       "    .dataframe thead th {\n",
       "        text-align: right;\n",
       "    }\n",
       "</style>\n",
       "<table border=\"1\" class=\"dataframe\">\n",
       "  <thead>\n",
       "    <tr style=\"text-align: right;\">\n",
       "      <th></th>\n",
       "      <th>value</th>\n",
       "    </tr>\n",
       "  </thead>\n",
       "  <tbody>\n",
       "    <tr>\n",
       "      <th>Lot Frontage</th>\n",
       "      <td>330</td>\n",
       "    </tr>\n",
       "    <tr>\n",
       "      <th>Alley</th>\n",
       "      <td>1911</td>\n",
       "    </tr>\n",
       "    <tr>\n",
       "      <th>Mas Vnr Type</th>\n",
       "      <td>22</td>\n",
       "    </tr>\n",
       "    <tr>\n",
       "      <th>Mas Vnr Area</th>\n",
       "      <td>22</td>\n",
       "    </tr>\n",
       "    <tr>\n",
       "      <th>Bsmt Qual</th>\n",
       "      <td>55</td>\n",
       "    </tr>\n",
       "    <tr>\n",
       "      <th>Bsmt Cond</th>\n",
       "      <td>55</td>\n",
       "    </tr>\n",
       "    <tr>\n",
       "      <th>Bsmt Exposure</th>\n",
       "      <td>58</td>\n",
       "    </tr>\n",
       "    <tr>\n",
       "      <th>BsmtFin Type 1</th>\n",
       "      <td>55</td>\n",
       "    </tr>\n",
       "    <tr>\n",
       "      <th>BsmtFin SF 1</th>\n",
       "      <td>1</td>\n",
       "    </tr>\n",
       "    <tr>\n",
       "      <th>BsmtFin Type 2</th>\n",
       "      <td>56</td>\n",
       "    </tr>\n",
       "    <tr>\n",
       "      <th>BsmtFin SF 2</th>\n",
       "      <td>1</td>\n",
       "    </tr>\n",
       "    <tr>\n",
       "      <th>Bsmt Unf SF</th>\n",
       "      <td>1</td>\n",
       "    </tr>\n",
       "    <tr>\n",
       "      <th>Total Bsmt SF</th>\n",
       "      <td>1</td>\n",
       "    </tr>\n",
       "    <tr>\n",
       "      <th>Bsmt Full Bath</th>\n",
       "      <td>2</td>\n",
       "    </tr>\n",
       "    <tr>\n",
       "      <th>Bsmt Half Bath</th>\n",
       "      <td>2</td>\n",
       "    </tr>\n",
       "    <tr>\n",
       "      <th>Fireplace Qu</th>\n",
       "      <td>1000</td>\n",
       "    </tr>\n",
       "    <tr>\n",
       "      <th>Garage Type</th>\n",
       "      <td>113</td>\n",
       "    </tr>\n",
       "    <tr>\n",
       "      <th>Garage Yr Blt</th>\n",
       "      <td>114</td>\n",
       "    </tr>\n",
       "    <tr>\n",
       "      <th>Garage Finish</th>\n",
       "      <td>114</td>\n",
       "    </tr>\n",
       "    <tr>\n",
       "      <th>Garage Cars</th>\n",
       "      <td>1</td>\n",
       "    </tr>\n",
       "    <tr>\n",
       "      <th>Garage Area</th>\n",
       "      <td>1</td>\n",
       "    </tr>\n",
       "    <tr>\n",
       "      <th>Garage Qual</th>\n",
       "      <td>114</td>\n",
       "    </tr>\n",
       "    <tr>\n",
       "      <th>Garage Cond</th>\n",
       "      <td>114</td>\n",
       "    </tr>\n",
       "    <tr>\n",
       "      <th>Pool QC</th>\n",
       "      <td>2042</td>\n",
       "    </tr>\n",
       "    <tr>\n",
       "      <th>Fence</th>\n",
       "      <td>1651</td>\n",
       "    </tr>\n",
       "    <tr>\n",
       "      <th>Misc Feature</th>\n",
       "      <td>1986</td>\n",
       "    </tr>\n",
       "  </tbody>\n",
       "</table>\n",
       "</div>"
      ],
      "text/plain": [
       "                value\n",
       "Lot Frontage      330\n",
       "Alley            1911\n",
       "Mas Vnr Type       22\n",
       "Mas Vnr Area       22\n",
       "Bsmt Qual          55\n",
       "Bsmt Cond          55\n",
       "Bsmt Exposure      58\n",
       "BsmtFin Type 1     55\n",
       "BsmtFin SF 1        1\n",
       "BsmtFin Type 2     56\n",
       "BsmtFin SF 2        1\n",
       "Bsmt Unf SF         1\n",
       "Total Bsmt SF       1\n",
       "Bsmt Full Bath      2\n",
       "Bsmt Half Bath      2\n",
       "Fireplace Qu     1000\n",
       "Garage Type       113\n",
       "Garage Yr Blt     114\n",
       "Garage Finish     114\n",
       "Garage Cars         1\n",
       "Garage Area         1\n",
       "Garage Qual       114\n",
       "Garage Cond       114\n",
       "Pool QC          2042\n",
       "Fence            1651\n",
       "Misc Feature     1986"
      ]
     },
     "execution_count": 9,
     "metadata": {},
     "output_type": "execute_result"
    }
   ],
   "source": [
    "missing1"
   ]
  },
  {
   "cell_type": "code",
   "execution_count": 10,
   "id": "2499a838",
   "metadata": {},
   "outputs": [
    {
     "data": {
      "text/plain": [
       "(26, 1)"
      ]
     },
     "execution_count": 10,
     "metadata": {},
     "output_type": "execute_result"
    }
   ],
   "source": [
    "missing1.shape"
   ]
  },
  {
   "cell_type": "code",
   "execution_count": 11,
   "id": "d8067a81",
   "metadata": {},
   "outputs": [
    {
     "data": {
      "text/html": [
       "<div>\n",
       "<style scoped>\n",
       "    .dataframe tbody tr th:only-of-type {\n",
       "        vertical-align: middle;\n",
       "    }\n",
       "\n",
       "    .dataframe tbody tr th {\n",
       "        vertical-align: top;\n",
       "    }\n",
       "\n",
       "    .dataframe thead th {\n",
       "        text-align: right;\n",
       "    }\n",
       "</style>\n",
       "<table border=\"1\" class=\"dataframe\">\n",
       "  <thead>\n",
       "    <tr style=\"text-align: right;\">\n",
       "      <th></th>\n",
       "      <th>count</th>\n",
       "      <th>mean</th>\n",
       "      <th>std</th>\n",
       "      <th>min</th>\n",
       "      <th>25%</th>\n",
       "      <th>50%</th>\n",
       "      <th>75%</th>\n",
       "      <th>max</th>\n",
       "    </tr>\n",
       "  </thead>\n",
       "  <tbody>\n",
       "    <tr>\n",
       "      <th>Id</th>\n",
       "      <td>2051.0</td>\n",
       "      <td>1.474034e+03</td>\n",
       "      <td>8.439808e+02</td>\n",
       "      <td>1.0</td>\n",
       "      <td>753.5</td>\n",
       "      <td>1486.0</td>\n",
       "      <td>2.198000e+03</td>\n",
       "      <td>2930.0</td>\n",
       "    </tr>\n",
       "    <tr>\n",
       "      <th>PID</th>\n",
       "      <td>2051.0</td>\n",
       "      <td>7.135900e+08</td>\n",
       "      <td>1.886918e+08</td>\n",
       "      <td>526301100.0</td>\n",
       "      <td>528458140.0</td>\n",
       "      <td>535453200.0</td>\n",
       "      <td>9.071801e+08</td>\n",
       "      <td>924152030.0</td>\n",
       "    </tr>\n",
       "    <tr>\n",
       "      <th>MS SubClass</th>\n",
       "      <td>2051.0</td>\n",
       "      <td>5.700878e+01</td>\n",
       "      <td>4.282422e+01</td>\n",
       "      <td>20.0</td>\n",
       "      <td>20.0</td>\n",
       "      <td>50.0</td>\n",
       "      <td>7.000000e+01</td>\n",
       "      <td>190.0</td>\n",
       "    </tr>\n",
       "    <tr>\n",
       "      <th>Lot Frontage</th>\n",
       "      <td>1721.0</td>\n",
       "      <td>6.905520e+01</td>\n",
       "      <td>2.326065e+01</td>\n",
       "      <td>21.0</td>\n",
       "      <td>58.0</td>\n",
       "      <td>68.0</td>\n",
       "      <td>8.000000e+01</td>\n",
       "      <td>313.0</td>\n",
       "    </tr>\n",
       "    <tr>\n",
       "      <th>Lot Area</th>\n",
       "      <td>2051.0</td>\n",
       "      <td>1.006521e+04</td>\n",
       "      <td>6.742489e+03</td>\n",
       "      <td>1300.0</td>\n",
       "      <td>7500.0</td>\n",
       "      <td>9430.0</td>\n",
       "      <td>1.151350e+04</td>\n",
       "      <td>159000.0</td>\n",
       "    </tr>\n",
       "    <tr>\n",
       "      <th>Overall Qual</th>\n",
       "      <td>2051.0</td>\n",
       "      <td>6.112140e+00</td>\n",
       "      <td>1.426271e+00</td>\n",
       "      <td>1.0</td>\n",
       "      <td>5.0</td>\n",
       "      <td>6.0</td>\n",
       "      <td>7.000000e+00</td>\n",
       "      <td>10.0</td>\n",
       "    </tr>\n",
       "    <tr>\n",
       "      <th>Overall Cond</th>\n",
       "      <td>2051.0</td>\n",
       "      <td>5.562165e+00</td>\n",
       "      <td>1.104497e+00</td>\n",
       "      <td>1.0</td>\n",
       "      <td>5.0</td>\n",
       "      <td>5.0</td>\n",
       "      <td>6.000000e+00</td>\n",
       "      <td>9.0</td>\n",
       "    </tr>\n",
       "    <tr>\n",
       "      <th>Year Built</th>\n",
       "      <td>2051.0</td>\n",
       "      <td>1.971709e+03</td>\n",
       "      <td>3.017789e+01</td>\n",
       "      <td>1872.0</td>\n",
       "      <td>1953.5</td>\n",
       "      <td>1974.0</td>\n",
       "      <td>2.001000e+03</td>\n",
       "      <td>2010.0</td>\n",
       "    </tr>\n",
       "    <tr>\n",
       "      <th>Year Remod/Add</th>\n",
       "      <td>2051.0</td>\n",
       "      <td>1.984190e+03</td>\n",
       "      <td>2.103625e+01</td>\n",
       "      <td>1950.0</td>\n",
       "      <td>1964.5</td>\n",
       "      <td>1993.0</td>\n",
       "      <td>2.004000e+03</td>\n",
       "      <td>2010.0</td>\n",
       "    </tr>\n",
       "    <tr>\n",
       "      <th>Mas Vnr Area</th>\n",
       "      <td>2029.0</td>\n",
       "      <td>9.969591e+01</td>\n",
       "      <td>1.749631e+02</td>\n",
       "      <td>0.0</td>\n",
       "      <td>0.0</td>\n",
       "      <td>0.0</td>\n",
       "      <td>1.610000e+02</td>\n",
       "      <td>1600.0</td>\n",
       "    </tr>\n",
       "    <tr>\n",
       "      <th>BsmtFin SF 1</th>\n",
       "      <td>2050.0</td>\n",
       "      <td>4.423005e+02</td>\n",
       "      <td>4.612041e+02</td>\n",
       "      <td>0.0</td>\n",
       "      <td>0.0</td>\n",
       "      <td>368.0</td>\n",
       "      <td>7.337500e+02</td>\n",
       "      <td>5644.0</td>\n",
       "    </tr>\n",
       "    <tr>\n",
       "      <th>BsmtFin SF 2</th>\n",
       "      <td>2050.0</td>\n",
       "      <td>4.795902e+01</td>\n",
       "      <td>1.650009e+02</td>\n",
       "      <td>0.0</td>\n",
       "      <td>0.0</td>\n",
       "      <td>0.0</td>\n",
       "      <td>0.000000e+00</td>\n",
       "      <td>1474.0</td>\n",
       "    </tr>\n",
       "    <tr>\n",
       "      <th>Bsmt Unf SF</th>\n",
       "      <td>2050.0</td>\n",
       "      <td>5.677283e+02</td>\n",
       "      <td>4.449548e+02</td>\n",
       "      <td>0.0</td>\n",
       "      <td>220.0</td>\n",
       "      <td>474.5</td>\n",
       "      <td>8.110000e+02</td>\n",
       "      <td>2336.0</td>\n",
       "    </tr>\n",
       "    <tr>\n",
       "      <th>Total Bsmt SF</th>\n",
       "      <td>2050.0</td>\n",
       "      <td>1.057988e+03</td>\n",
       "      <td>4.494107e+02</td>\n",
       "      <td>0.0</td>\n",
       "      <td>793.0</td>\n",
       "      <td>994.5</td>\n",
       "      <td>1.318750e+03</td>\n",
       "      <td>6110.0</td>\n",
       "    </tr>\n",
       "    <tr>\n",
       "      <th>1st Flr SF</th>\n",
       "      <td>2051.0</td>\n",
       "      <td>1.164488e+03</td>\n",
       "      <td>3.964469e+02</td>\n",
       "      <td>334.0</td>\n",
       "      <td>879.5</td>\n",
       "      <td>1093.0</td>\n",
       "      <td>1.405000e+03</td>\n",
       "      <td>5095.0</td>\n",
       "    </tr>\n",
       "    <tr>\n",
       "      <th>2nd Flr SF</th>\n",
       "      <td>2051.0</td>\n",
       "      <td>3.293291e+02</td>\n",
       "      <td>4.256710e+02</td>\n",
       "      <td>0.0</td>\n",
       "      <td>0.0</td>\n",
       "      <td>0.0</td>\n",
       "      <td>6.925000e+02</td>\n",
       "      <td>1862.0</td>\n",
       "    </tr>\n",
       "    <tr>\n",
       "      <th>Low Qual Fin SF</th>\n",
       "      <td>2051.0</td>\n",
       "      <td>5.512921e+00</td>\n",
       "      <td>5.106887e+01</td>\n",
       "      <td>0.0</td>\n",
       "      <td>0.0</td>\n",
       "      <td>0.0</td>\n",
       "      <td>0.000000e+00</td>\n",
       "      <td>1064.0</td>\n",
       "    </tr>\n",
       "    <tr>\n",
       "      <th>Gr Liv Area</th>\n",
       "      <td>2051.0</td>\n",
       "      <td>1.499330e+03</td>\n",
       "      <td>5.004478e+02</td>\n",
       "      <td>334.0</td>\n",
       "      <td>1129.0</td>\n",
       "      <td>1444.0</td>\n",
       "      <td>1.728500e+03</td>\n",
       "      <td>5642.0</td>\n",
       "    </tr>\n",
       "    <tr>\n",
       "      <th>Bsmt Full Bath</th>\n",
       "      <td>2049.0</td>\n",
       "      <td>4.275256e-01</td>\n",
       "      <td>5.226732e-01</td>\n",
       "      <td>0.0</td>\n",
       "      <td>0.0</td>\n",
       "      <td>0.0</td>\n",
       "      <td>1.000000e+00</td>\n",
       "      <td>3.0</td>\n",
       "    </tr>\n",
       "    <tr>\n",
       "      <th>Bsmt Half Bath</th>\n",
       "      <td>2049.0</td>\n",
       "      <td>6.344558e-02</td>\n",
       "      <td>2.517052e-01</td>\n",
       "      <td>0.0</td>\n",
       "      <td>0.0</td>\n",
       "      <td>0.0</td>\n",
       "      <td>0.000000e+00</td>\n",
       "      <td>2.0</td>\n",
       "    </tr>\n",
       "    <tr>\n",
       "      <th>Full Bath</th>\n",
       "      <td>2051.0</td>\n",
       "      <td>1.577279e+00</td>\n",
       "      <td>5.492794e-01</td>\n",
       "      <td>0.0</td>\n",
       "      <td>1.0</td>\n",
       "      <td>2.0</td>\n",
       "      <td>2.000000e+00</td>\n",
       "      <td>4.0</td>\n",
       "    </tr>\n",
       "    <tr>\n",
       "      <th>Half Bath</th>\n",
       "      <td>2051.0</td>\n",
       "      <td>3.710385e-01</td>\n",
       "      <td>5.010427e-01</td>\n",
       "      <td>0.0</td>\n",
       "      <td>0.0</td>\n",
       "      <td>0.0</td>\n",
       "      <td>1.000000e+00</td>\n",
       "      <td>2.0</td>\n",
       "    </tr>\n",
       "    <tr>\n",
       "      <th>Bedroom AbvGr</th>\n",
       "      <td>2051.0</td>\n",
       "      <td>2.843491e+00</td>\n",
       "      <td>8.266183e-01</td>\n",
       "      <td>0.0</td>\n",
       "      <td>2.0</td>\n",
       "      <td>3.0</td>\n",
       "      <td>3.000000e+00</td>\n",
       "      <td>8.0</td>\n",
       "    </tr>\n",
       "    <tr>\n",
       "      <th>Kitchen AbvGr</th>\n",
       "      <td>2051.0</td>\n",
       "      <td>1.042906e+00</td>\n",
       "      <td>2.097900e-01</td>\n",
       "      <td>0.0</td>\n",
       "      <td>1.0</td>\n",
       "      <td>1.0</td>\n",
       "      <td>1.000000e+00</td>\n",
       "      <td>3.0</td>\n",
       "    </tr>\n",
       "    <tr>\n",
       "      <th>TotRms AbvGrd</th>\n",
       "      <td>2051.0</td>\n",
       "      <td>6.435885e+00</td>\n",
       "      <td>1.560225e+00</td>\n",
       "      <td>2.0</td>\n",
       "      <td>5.0</td>\n",
       "      <td>6.0</td>\n",
       "      <td>7.000000e+00</td>\n",
       "      <td>15.0</td>\n",
       "    </tr>\n",
       "    <tr>\n",
       "      <th>Fireplaces</th>\n",
       "      <td>2051.0</td>\n",
       "      <td>5.909313e-01</td>\n",
       "      <td>6.385163e-01</td>\n",
       "      <td>0.0</td>\n",
       "      <td>0.0</td>\n",
       "      <td>1.0</td>\n",
       "      <td>1.000000e+00</td>\n",
       "      <td>4.0</td>\n",
       "    </tr>\n",
       "    <tr>\n",
       "      <th>Garage Yr Blt</th>\n",
       "      <td>1937.0</td>\n",
       "      <td>1.978708e+03</td>\n",
       "      <td>2.544109e+01</td>\n",
       "      <td>1895.0</td>\n",
       "      <td>1961.0</td>\n",
       "      <td>1980.0</td>\n",
       "      <td>2.002000e+03</td>\n",
       "      <td>2207.0</td>\n",
       "    </tr>\n",
       "    <tr>\n",
       "      <th>Garage Cars</th>\n",
       "      <td>2050.0</td>\n",
       "      <td>1.776585e+00</td>\n",
       "      <td>7.645374e-01</td>\n",
       "      <td>0.0</td>\n",
       "      <td>1.0</td>\n",
       "      <td>2.0</td>\n",
       "      <td>2.000000e+00</td>\n",
       "      <td>5.0</td>\n",
       "    </tr>\n",
       "    <tr>\n",
       "      <th>Garage Area</th>\n",
       "      <td>2050.0</td>\n",
       "      <td>4.736717e+02</td>\n",
       "      <td>2.159346e+02</td>\n",
       "      <td>0.0</td>\n",
       "      <td>319.0</td>\n",
       "      <td>480.0</td>\n",
       "      <td>5.760000e+02</td>\n",
       "      <td>1418.0</td>\n",
       "    </tr>\n",
       "    <tr>\n",
       "      <th>Wood Deck SF</th>\n",
       "      <td>2051.0</td>\n",
       "      <td>9.383374e+01</td>\n",
       "      <td>1.285494e+02</td>\n",
       "      <td>0.0</td>\n",
       "      <td>0.0</td>\n",
       "      <td>0.0</td>\n",
       "      <td>1.680000e+02</td>\n",
       "      <td>1424.0</td>\n",
       "    </tr>\n",
       "    <tr>\n",
       "      <th>Open Porch SF</th>\n",
       "      <td>2051.0</td>\n",
       "      <td>4.755680e+01</td>\n",
       "      <td>6.674724e+01</td>\n",
       "      <td>0.0</td>\n",
       "      <td>0.0</td>\n",
       "      <td>27.0</td>\n",
       "      <td>7.000000e+01</td>\n",
       "      <td>547.0</td>\n",
       "    </tr>\n",
       "    <tr>\n",
       "      <th>Enclosed Porch</th>\n",
       "      <td>2051.0</td>\n",
       "      <td>2.257192e+01</td>\n",
       "      <td>5.984511e+01</td>\n",
       "      <td>0.0</td>\n",
       "      <td>0.0</td>\n",
       "      <td>0.0</td>\n",
       "      <td>0.000000e+00</td>\n",
       "      <td>432.0</td>\n",
       "    </tr>\n",
       "    <tr>\n",
       "      <th>3Ssn Porch</th>\n",
       "      <td>2051.0</td>\n",
       "      <td>2.591419e+00</td>\n",
       "      <td>2.522961e+01</td>\n",
       "      <td>0.0</td>\n",
       "      <td>0.0</td>\n",
       "      <td>0.0</td>\n",
       "      <td>0.000000e+00</td>\n",
       "      <td>508.0</td>\n",
       "    </tr>\n",
       "    <tr>\n",
       "      <th>Screen Porch</th>\n",
       "      <td>2051.0</td>\n",
       "      <td>1.651146e+01</td>\n",
       "      <td>5.737420e+01</td>\n",
       "      <td>0.0</td>\n",
       "      <td>0.0</td>\n",
       "      <td>0.0</td>\n",
       "      <td>0.000000e+00</td>\n",
       "      <td>490.0</td>\n",
       "    </tr>\n",
       "    <tr>\n",
       "      <th>Pool Area</th>\n",
       "      <td>2051.0</td>\n",
       "      <td>2.397855e+00</td>\n",
       "      <td>3.778257e+01</td>\n",
       "      <td>0.0</td>\n",
       "      <td>0.0</td>\n",
       "      <td>0.0</td>\n",
       "      <td>0.000000e+00</td>\n",
       "      <td>800.0</td>\n",
       "    </tr>\n",
       "    <tr>\n",
       "      <th>Misc Val</th>\n",
       "      <td>2051.0</td>\n",
       "      <td>5.157435e+01</td>\n",
       "      <td>5.733940e+02</td>\n",
       "      <td>0.0</td>\n",
       "      <td>0.0</td>\n",
       "      <td>0.0</td>\n",
       "      <td>0.000000e+00</td>\n",
       "      <td>17000.0</td>\n",
       "    </tr>\n",
       "    <tr>\n",
       "      <th>Mo Sold</th>\n",
       "      <td>2051.0</td>\n",
       "      <td>6.219893e+00</td>\n",
       "      <td>2.744736e+00</td>\n",
       "      <td>1.0</td>\n",
       "      <td>4.0</td>\n",
       "      <td>6.0</td>\n",
       "      <td>8.000000e+00</td>\n",
       "      <td>12.0</td>\n",
       "    </tr>\n",
       "    <tr>\n",
       "      <th>Yr Sold</th>\n",
       "      <td>2051.0</td>\n",
       "      <td>2.007776e+03</td>\n",
       "      <td>1.312014e+00</td>\n",
       "      <td>2006.0</td>\n",
       "      <td>2007.0</td>\n",
       "      <td>2008.0</td>\n",
       "      <td>2.009000e+03</td>\n",
       "      <td>2010.0</td>\n",
       "    </tr>\n",
       "    <tr>\n",
       "      <th>SalePrice</th>\n",
       "      <td>2051.0</td>\n",
       "      <td>1.814697e+05</td>\n",
       "      <td>7.925866e+04</td>\n",
       "      <td>12789.0</td>\n",
       "      <td>129825.0</td>\n",
       "      <td>162500.0</td>\n",
       "      <td>2.140000e+05</td>\n",
       "      <td>611657.0</td>\n",
       "    </tr>\n",
       "  </tbody>\n",
       "</table>\n",
       "</div>"
      ],
      "text/plain": [
       "                  count          mean           std          min          25%  \\\n",
       "Id               2051.0  1.474034e+03  8.439808e+02          1.0        753.5   \n",
       "PID              2051.0  7.135900e+08  1.886918e+08  526301100.0  528458140.0   \n",
       "MS SubClass      2051.0  5.700878e+01  4.282422e+01         20.0         20.0   \n",
       "Lot Frontage     1721.0  6.905520e+01  2.326065e+01         21.0         58.0   \n",
       "Lot Area         2051.0  1.006521e+04  6.742489e+03       1300.0       7500.0   \n",
       "Overall Qual     2051.0  6.112140e+00  1.426271e+00          1.0          5.0   \n",
       "Overall Cond     2051.0  5.562165e+00  1.104497e+00          1.0          5.0   \n",
       "Year Built       2051.0  1.971709e+03  3.017789e+01       1872.0       1953.5   \n",
       "Year Remod/Add   2051.0  1.984190e+03  2.103625e+01       1950.0       1964.5   \n",
       "Mas Vnr Area     2029.0  9.969591e+01  1.749631e+02          0.0          0.0   \n",
       "BsmtFin SF 1     2050.0  4.423005e+02  4.612041e+02          0.0          0.0   \n",
       "BsmtFin SF 2     2050.0  4.795902e+01  1.650009e+02          0.0          0.0   \n",
       "Bsmt Unf SF      2050.0  5.677283e+02  4.449548e+02          0.0        220.0   \n",
       "Total Bsmt SF    2050.0  1.057988e+03  4.494107e+02          0.0        793.0   \n",
       "1st Flr SF       2051.0  1.164488e+03  3.964469e+02        334.0        879.5   \n",
       "2nd Flr SF       2051.0  3.293291e+02  4.256710e+02          0.0          0.0   \n",
       "Low Qual Fin SF  2051.0  5.512921e+00  5.106887e+01          0.0          0.0   \n",
       "Gr Liv Area      2051.0  1.499330e+03  5.004478e+02        334.0       1129.0   \n",
       "Bsmt Full Bath   2049.0  4.275256e-01  5.226732e-01          0.0          0.0   \n",
       "Bsmt Half Bath   2049.0  6.344558e-02  2.517052e-01          0.0          0.0   \n",
       "Full Bath        2051.0  1.577279e+00  5.492794e-01          0.0          1.0   \n",
       "Half Bath        2051.0  3.710385e-01  5.010427e-01          0.0          0.0   \n",
       "Bedroom AbvGr    2051.0  2.843491e+00  8.266183e-01          0.0          2.0   \n",
       "Kitchen AbvGr    2051.0  1.042906e+00  2.097900e-01          0.0          1.0   \n",
       "TotRms AbvGrd    2051.0  6.435885e+00  1.560225e+00          2.0          5.0   \n",
       "Fireplaces       2051.0  5.909313e-01  6.385163e-01          0.0          0.0   \n",
       "Garage Yr Blt    1937.0  1.978708e+03  2.544109e+01       1895.0       1961.0   \n",
       "Garage Cars      2050.0  1.776585e+00  7.645374e-01          0.0          1.0   \n",
       "Garage Area      2050.0  4.736717e+02  2.159346e+02          0.0        319.0   \n",
       "Wood Deck SF     2051.0  9.383374e+01  1.285494e+02          0.0          0.0   \n",
       "Open Porch SF    2051.0  4.755680e+01  6.674724e+01          0.0          0.0   \n",
       "Enclosed Porch   2051.0  2.257192e+01  5.984511e+01          0.0          0.0   \n",
       "3Ssn Porch       2051.0  2.591419e+00  2.522961e+01          0.0          0.0   \n",
       "Screen Porch     2051.0  1.651146e+01  5.737420e+01          0.0          0.0   \n",
       "Pool Area        2051.0  2.397855e+00  3.778257e+01          0.0          0.0   \n",
       "Misc Val         2051.0  5.157435e+01  5.733940e+02          0.0          0.0   \n",
       "Mo Sold          2051.0  6.219893e+00  2.744736e+00          1.0          4.0   \n",
       "Yr Sold          2051.0  2.007776e+03  1.312014e+00       2006.0       2007.0   \n",
       "SalePrice        2051.0  1.814697e+05  7.925866e+04      12789.0     129825.0   \n",
       "\n",
       "                         50%           75%          max  \n",
       "Id                    1486.0  2.198000e+03       2930.0  \n",
       "PID              535453200.0  9.071801e+08  924152030.0  \n",
       "MS SubClass             50.0  7.000000e+01        190.0  \n",
       "Lot Frontage            68.0  8.000000e+01        313.0  \n",
       "Lot Area              9430.0  1.151350e+04     159000.0  \n",
       "Overall Qual             6.0  7.000000e+00         10.0  \n",
       "Overall Cond             5.0  6.000000e+00          9.0  \n",
       "Year Built            1974.0  2.001000e+03       2010.0  \n",
       "Year Remod/Add        1993.0  2.004000e+03       2010.0  \n",
       "Mas Vnr Area             0.0  1.610000e+02       1600.0  \n",
       "BsmtFin SF 1           368.0  7.337500e+02       5644.0  \n",
       "BsmtFin SF 2             0.0  0.000000e+00       1474.0  \n",
       "Bsmt Unf SF            474.5  8.110000e+02       2336.0  \n",
       "Total Bsmt SF          994.5  1.318750e+03       6110.0  \n",
       "1st Flr SF            1093.0  1.405000e+03       5095.0  \n",
       "2nd Flr SF               0.0  6.925000e+02       1862.0  \n",
       "Low Qual Fin SF          0.0  0.000000e+00       1064.0  \n",
       "Gr Liv Area           1444.0  1.728500e+03       5642.0  \n",
       "Bsmt Full Bath           0.0  1.000000e+00          3.0  \n",
       "Bsmt Half Bath           0.0  0.000000e+00          2.0  \n",
       "Full Bath                2.0  2.000000e+00          4.0  \n",
       "Half Bath                0.0  1.000000e+00          2.0  \n",
       "Bedroom AbvGr            3.0  3.000000e+00          8.0  \n",
       "Kitchen AbvGr            1.0  1.000000e+00          3.0  \n",
       "TotRms AbvGrd            6.0  7.000000e+00         15.0  \n",
       "Fireplaces               1.0  1.000000e+00          4.0  \n",
       "Garage Yr Blt         1980.0  2.002000e+03       2207.0  \n",
       "Garage Cars              2.0  2.000000e+00          5.0  \n",
       "Garage Area            480.0  5.760000e+02       1418.0  \n",
       "Wood Deck SF             0.0  1.680000e+02       1424.0  \n",
       "Open Porch SF           27.0  7.000000e+01        547.0  \n",
       "Enclosed Porch           0.0  0.000000e+00        432.0  \n",
       "3Ssn Porch               0.0  0.000000e+00        508.0  \n",
       "Screen Porch             0.0  0.000000e+00        490.0  \n",
       "Pool Area                0.0  0.000000e+00        800.0  \n",
       "Misc Val                 0.0  0.000000e+00      17000.0  \n",
       "Mo Sold                  6.0  8.000000e+00         12.0  \n",
       "Yr Sold               2008.0  2.009000e+03       2010.0  \n",
       "SalePrice           162500.0  2.140000e+05     611657.0  "
      ]
     },
     "execution_count": 11,
     "metadata": {},
     "output_type": "execute_result"
    }
   ],
   "source": [
    "traindata.describe().T"
   ]
  },
  {
   "cell_type": "markdown",
   "id": "264b05ef",
   "metadata": {},
   "source": [
    "# Data Exploring Results"
   ]
  },
  {
   "cell_type": "markdown",
   "id": "4125a3ae",
   "metadata": {},
   "source": [
    "Abnormal values:\n",
    "Min - There are no abnormal or negative values.\n",
    "Max - There are no abnormally high values except: PID\n",
    "Outliers - There are no abnormal outliers except: PID (which seems to have no range)\n",
    "\n",
    "Missing values:\n",
    "1. There are 26 rows with missing data.\n",
    "2. Looking at the missing data, it seems like there is a mix of true missing data where it is not entered and also data where it is null because it has no such feature."
   ]
  },
  {
   "cell_type": "code",
   "execution_count": 12,
   "id": "ab387a23",
   "metadata": {},
   "outputs": [
    {
     "data": {
      "text/html": [
       "<div>\n",
       "<style scoped>\n",
       "    .dataframe tbody tr th:only-of-type {\n",
       "        vertical-align: middle;\n",
       "    }\n",
       "\n",
       "    .dataframe tbody tr th {\n",
       "        vertical-align: top;\n",
       "    }\n",
       "\n",
       "    .dataframe thead th {\n",
       "        text-align: right;\n",
       "    }\n",
       "</style>\n",
       "<table border=\"1\" class=\"dataframe\">\n",
       "  <thead>\n",
       "    <tr style=\"text-align: right;\">\n",
       "      <th></th>\n",
       "      <th>value</th>\n",
       "    </tr>\n",
       "  </thead>\n",
       "  <tbody>\n",
       "    <tr>\n",
       "      <th>Lot Frontage</th>\n",
       "      <td>330</td>\n",
       "    </tr>\n",
       "    <tr>\n",
       "      <th>Alley</th>\n",
       "      <td>1911</td>\n",
       "    </tr>\n",
       "    <tr>\n",
       "      <th>Mas Vnr Type</th>\n",
       "      <td>22</td>\n",
       "    </tr>\n",
       "    <tr>\n",
       "      <th>Mas Vnr Area</th>\n",
       "      <td>22</td>\n",
       "    </tr>\n",
       "    <tr>\n",
       "      <th>Bsmt Qual</th>\n",
       "      <td>55</td>\n",
       "    </tr>\n",
       "    <tr>\n",
       "      <th>Bsmt Cond</th>\n",
       "      <td>55</td>\n",
       "    </tr>\n",
       "    <tr>\n",
       "      <th>Bsmt Exposure</th>\n",
       "      <td>58</td>\n",
       "    </tr>\n",
       "    <tr>\n",
       "      <th>BsmtFin Type 1</th>\n",
       "      <td>55</td>\n",
       "    </tr>\n",
       "    <tr>\n",
       "      <th>BsmtFin SF 1</th>\n",
       "      <td>1</td>\n",
       "    </tr>\n",
       "    <tr>\n",
       "      <th>BsmtFin Type 2</th>\n",
       "      <td>56</td>\n",
       "    </tr>\n",
       "    <tr>\n",
       "      <th>BsmtFin SF 2</th>\n",
       "      <td>1</td>\n",
       "    </tr>\n",
       "    <tr>\n",
       "      <th>Bsmt Unf SF</th>\n",
       "      <td>1</td>\n",
       "    </tr>\n",
       "    <tr>\n",
       "      <th>Total Bsmt SF</th>\n",
       "      <td>1</td>\n",
       "    </tr>\n",
       "    <tr>\n",
       "      <th>Bsmt Full Bath</th>\n",
       "      <td>2</td>\n",
       "    </tr>\n",
       "    <tr>\n",
       "      <th>Bsmt Half Bath</th>\n",
       "      <td>2</td>\n",
       "    </tr>\n",
       "    <tr>\n",
       "      <th>Fireplace Qu</th>\n",
       "      <td>1000</td>\n",
       "    </tr>\n",
       "    <tr>\n",
       "      <th>Garage Type</th>\n",
       "      <td>113</td>\n",
       "    </tr>\n",
       "    <tr>\n",
       "      <th>Garage Yr Blt</th>\n",
       "      <td>114</td>\n",
       "    </tr>\n",
       "    <tr>\n",
       "      <th>Garage Finish</th>\n",
       "      <td>114</td>\n",
       "    </tr>\n",
       "    <tr>\n",
       "      <th>Garage Cars</th>\n",
       "      <td>1</td>\n",
       "    </tr>\n",
       "    <tr>\n",
       "      <th>Garage Area</th>\n",
       "      <td>1</td>\n",
       "    </tr>\n",
       "    <tr>\n",
       "      <th>Garage Qual</th>\n",
       "      <td>114</td>\n",
       "    </tr>\n",
       "    <tr>\n",
       "      <th>Garage Cond</th>\n",
       "      <td>114</td>\n",
       "    </tr>\n",
       "    <tr>\n",
       "      <th>Pool QC</th>\n",
       "      <td>2042</td>\n",
       "    </tr>\n",
       "    <tr>\n",
       "      <th>Fence</th>\n",
       "      <td>1651</td>\n",
       "    </tr>\n",
       "    <tr>\n",
       "      <th>Misc Feature</th>\n",
       "      <td>1986</td>\n",
       "    </tr>\n",
       "  </tbody>\n",
       "</table>\n",
       "</div>"
      ],
      "text/plain": [
       "                value\n",
       "Lot Frontage      330\n",
       "Alley            1911\n",
       "Mas Vnr Type       22\n",
       "Mas Vnr Area       22\n",
       "Bsmt Qual          55\n",
       "Bsmt Cond          55\n",
       "Bsmt Exposure      58\n",
       "BsmtFin Type 1     55\n",
       "BsmtFin SF 1        1\n",
       "BsmtFin Type 2     56\n",
       "BsmtFin SF 2        1\n",
       "Bsmt Unf SF         1\n",
       "Total Bsmt SF       1\n",
       "Bsmt Full Bath      2\n",
       "Bsmt Half Bath      2\n",
       "Fireplace Qu     1000\n",
       "Garage Type       113\n",
       "Garage Yr Blt     114\n",
       "Garage Finish     114\n",
       "Garage Cars         1\n",
       "Garage Area         1\n",
       "Garage Qual       114\n",
       "Garage Cond       114\n",
       "Pool QC          2042\n",
       "Fence            1651\n",
       "Misc Feature     1986"
      ]
     },
     "execution_count": 12,
     "metadata": {},
     "output_type": "execute_result"
    }
   ],
   "source": [
    "missing1"
   ]
  },
  {
   "cell_type": "markdown",
   "id": "6fdbcd42",
   "metadata": {},
   "source": [
    "# Understanding Missing Data"
   ]
  },
  {
   "cell_type": "markdown",
   "id": "e34d3a66",
   "metadata": {},
   "source": [
    "I'll name the dataframe 'DataFrame1' for ease of reference. <br>\n",
    "DataFrame1:"
   ]
  },
  {
   "cell_type": "code",
   "execution_count": 13,
   "id": "f46848bd",
   "metadata": {},
   "outputs": [
    {
     "data": {
      "text/html": [
       "<div>\n",
       "<style scoped>\n",
       "    .dataframe tbody tr th:only-of-type {\n",
       "        vertical-align: middle;\n",
       "    }\n",
       "\n",
       "    .dataframe tbody tr th {\n",
       "        vertical-align: top;\n",
       "    }\n",
       "\n",
       "    .dataframe thead th {\n",
       "        text-align: right;\n",
       "    }\n",
       "</style>\n",
       "<table border=\"1\" class=\"dataframe\">\n",
       "  <thead>\n",
       "    <tr style=\"text-align: right;\">\n",
       "      <th></th>\n",
       "      <th>Lot Frontage</th>\n",
       "      <th>Alley</th>\n",
       "      <th>Mas Vnr Type</th>\n",
       "      <th>Mas Vnr Area</th>\n",
       "      <th>Bsmt Qual</th>\n",
       "      <th>Bsmt Cond</th>\n",
       "      <th>Bsmt Exposure</th>\n",
       "      <th>BsmtFin Type 1</th>\n",
       "      <th>BsmtFin SF 1</th>\n",
       "      <th>BsmtFin Type 2</th>\n",
       "      <th>...</th>\n",
       "      <th>Garage Type</th>\n",
       "      <th>Garage Yr Blt</th>\n",
       "      <th>Garage Finish</th>\n",
       "      <th>Garage Cars</th>\n",
       "      <th>Garage Area</th>\n",
       "      <th>Garage Qual</th>\n",
       "      <th>Garage Cond</th>\n",
       "      <th>Pool QC</th>\n",
       "      <th>Fence</th>\n",
       "      <th>Misc Feature</th>\n",
       "    </tr>\n",
       "  </thead>\n",
       "  <tbody>\n",
       "    <tr>\n",
       "      <th>0</th>\n",
       "      <td>NaN</td>\n",
       "      <td>NaN</td>\n",
       "      <td>BrkFace</td>\n",
       "      <td>289.0</td>\n",
       "      <td>TA</td>\n",
       "      <td>TA</td>\n",
       "      <td>No</td>\n",
       "      <td>GLQ</td>\n",
       "      <td>533.0</td>\n",
       "      <td>Unf</td>\n",
       "      <td>...</td>\n",
       "      <td>Attchd</td>\n",
       "      <td>1976.0</td>\n",
       "      <td>RFn</td>\n",
       "      <td>2.0</td>\n",
       "      <td>475.0</td>\n",
       "      <td>TA</td>\n",
       "      <td>TA</td>\n",
       "      <td>NaN</td>\n",
       "      <td>NaN</td>\n",
       "      <td>NaN</td>\n",
       "    </tr>\n",
       "    <tr>\n",
       "      <th>1</th>\n",
       "      <td>43.0</td>\n",
       "      <td>NaN</td>\n",
       "      <td>BrkFace</td>\n",
       "      <td>132.0</td>\n",
       "      <td>Gd</td>\n",
       "      <td>TA</td>\n",
       "      <td>No</td>\n",
       "      <td>GLQ</td>\n",
       "      <td>637.0</td>\n",
       "      <td>Unf</td>\n",
       "      <td>...</td>\n",
       "      <td>Attchd</td>\n",
       "      <td>1997.0</td>\n",
       "      <td>RFn</td>\n",
       "      <td>2.0</td>\n",
       "      <td>559.0</td>\n",
       "      <td>TA</td>\n",
       "      <td>TA</td>\n",
       "      <td>NaN</td>\n",
       "      <td>NaN</td>\n",
       "      <td>NaN</td>\n",
       "    </tr>\n",
       "    <tr>\n",
       "      <th>2</th>\n",
       "      <td>68.0</td>\n",
       "      <td>NaN</td>\n",
       "      <td>None</td>\n",
       "      <td>0.0</td>\n",
       "      <td>TA</td>\n",
       "      <td>TA</td>\n",
       "      <td>No</td>\n",
       "      <td>GLQ</td>\n",
       "      <td>731.0</td>\n",
       "      <td>Unf</td>\n",
       "      <td>...</td>\n",
       "      <td>Detchd</td>\n",
       "      <td>1953.0</td>\n",
       "      <td>Unf</td>\n",
       "      <td>1.0</td>\n",
       "      <td>246.0</td>\n",
       "      <td>TA</td>\n",
       "      <td>TA</td>\n",
       "      <td>NaN</td>\n",
       "      <td>NaN</td>\n",
       "      <td>NaN</td>\n",
       "    </tr>\n",
       "  </tbody>\n",
       "</table>\n",
       "<p>3 rows × 26 columns</p>\n",
       "</div>"
      ],
      "text/plain": [
       "   Lot Frontage Alley Mas Vnr Type  Mas Vnr Area Bsmt Qual Bsmt Cond  \\\n",
       "0           NaN   NaN      BrkFace         289.0        TA        TA   \n",
       "1          43.0   NaN      BrkFace         132.0        Gd        TA   \n",
       "2          68.0   NaN         None           0.0        TA        TA   \n",
       "\n",
       "  Bsmt Exposure BsmtFin Type 1  BsmtFin SF 1 BsmtFin Type 2  ...  Garage Type  \\\n",
       "0            No            GLQ         533.0            Unf  ...       Attchd   \n",
       "1            No            GLQ         637.0            Unf  ...       Attchd   \n",
       "2            No            GLQ         731.0            Unf  ...       Detchd   \n",
       "\n",
       "   Garage Yr Blt  Garage Finish  Garage Cars  Garage Area Garage Qual  \\\n",
       "0         1976.0            RFn          2.0        475.0          TA   \n",
       "1         1997.0            RFn          2.0        559.0          TA   \n",
       "2         1953.0            Unf          1.0        246.0          TA   \n",
       "\n",
       "  Garage Cond  Pool QC Fence  Misc Feature  \n",
       "0          TA      NaN   NaN           NaN  \n",
       "1          TA      NaN   NaN           NaN  \n",
       "2          TA      NaN   NaN           NaN  \n",
       "\n",
       "[3 rows x 26 columns]"
      ]
     },
     "execution_count": 13,
     "metadata": {},
     "output_type": "execute_result"
    }
   ],
   "source": [
    "traindata[missing1.index].head(3)"
   ]
  },
  {
   "cell_type": "markdown",
   "id": "e6a225c9",
   "metadata": {},
   "source": [
    "From DataFrame1, we can see that the missing data might not actually be literal missing, but rather it lacks such a feature hence it is empty."
   ]
  },
  {
   "cell_type": "markdown",
   "id": "0abe14dd",
   "metadata": {},
   "source": [
    "# Correcting NaN Data"
   ]
  },
  {
   "cell_type": "code",
   "execution_count": 14,
   "id": "643ccec7",
   "metadata": {},
   "outputs": [],
   "source": [
    "datatype1 = pd.DataFrame(missing1.T.dtypes, columns=['data'])"
   ]
  },
  {
   "cell_type": "code",
   "execution_count": 15,
   "id": "2b7b4079",
   "metadata": {},
   "outputs": [],
   "source": [
    "mdata = missing1.merge(datatype1, left_index=True, right_index=True)"
   ]
  },
  {
   "cell_type": "code",
   "execution_count": 16,
   "id": "eab2a665",
   "metadata": {},
   "outputs": [
    {
     "data": {
      "text/html": [
       "<div>\n",
       "<style scoped>\n",
       "    .dataframe tbody tr th:only-of-type {\n",
       "        vertical-align: middle;\n",
       "    }\n",
       "\n",
       "    .dataframe tbody tr th {\n",
       "        vertical-align: top;\n",
       "    }\n",
       "\n",
       "    .dataframe thead th {\n",
       "        text-align: right;\n",
       "    }\n",
       "</style>\n",
       "<table border=\"1\" class=\"dataframe\">\n",
       "  <thead>\n",
       "    <tr style=\"text-align: right;\">\n",
       "      <th></th>\n",
       "      <th>value</th>\n",
       "      <th>data</th>\n",
       "    </tr>\n",
       "  </thead>\n",
       "  <tbody>\n",
       "    <tr>\n",
       "      <th>Lot Frontage</th>\n",
       "      <td>330</td>\n",
       "      <td>int64</td>\n",
       "    </tr>\n",
       "    <tr>\n",
       "      <th>Alley</th>\n",
       "      <td>1911</td>\n",
       "      <td>int64</td>\n",
       "    </tr>\n",
       "    <tr>\n",
       "      <th>Mas Vnr Type</th>\n",
       "      <td>22</td>\n",
       "      <td>int64</td>\n",
       "    </tr>\n",
       "    <tr>\n",
       "      <th>Mas Vnr Area</th>\n",
       "      <td>22</td>\n",
       "      <td>int64</td>\n",
       "    </tr>\n",
       "    <tr>\n",
       "      <th>Bsmt Qual</th>\n",
       "      <td>55</td>\n",
       "      <td>int64</td>\n",
       "    </tr>\n",
       "    <tr>\n",
       "      <th>Bsmt Cond</th>\n",
       "      <td>55</td>\n",
       "      <td>int64</td>\n",
       "    </tr>\n",
       "    <tr>\n",
       "      <th>Bsmt Exposure</th>\n",
       "      <td>58</td>\n",
       "      <td>int64</td>\n",
       "    </tr>\n",
       "    <tr>\n",
       "      <th>BsmtFin Type 1</th>\n",
       "      <td>55</td>\n",
       "      <td>int64</td>\n",
       "    </tr>\n",
       "    <tr>\n",
       "      <th>BsmtFin SF 1</th>\n",
       "      <td>1</td>\n",
       "      <td>int64</td>\n",
       "    </tr>\n",
       "    <tr>\n",
       "      <th>BsmtFin Type 2</th>\n",
       "      <td>56</td>\n",
       "      <td>int64</td>\n",
       "    </tr>\n",
       "    <tr>\n",
       "      <th>BsmtFin SF 2</th>\n",
       "      <td>1</td>\n",
       "      <td>int64</td>\n",
       "    </tr>\n",
       "    <tr>\n",
       "      <th>Bsmt Unf SF</th>\n",
       "      <td>1</td>\n",
       "      <td>int64</td>\n",
       "    </tr>\n",
       "    <tr>\n",
       "      <th>Total Bsmt SF</th>\n",
       "      <td>1</td>\n",
       "      <td>int64</td>\n",
       "    </tr>\n",
       "    <tr>\n",
       "      <th>Bsmt Full Bath</th>\n",
       "      <td>2</td>\n",
       "      <td>int64</td>\n",
       "    </tr>\n",
       "    <tr>\n",
       "      <th>Bsmt Half Bath</th>\n",
       "      <td>2</td>\n",
       "      <td>int64</td>\n",
       "    </tr>\n",
       "    <tr>\n",
       "      <th>Fireplace Qu</th>\n",
       "      <td>1000</td>\n",
       "      <td>int64</td>\n",
       "    </tr>\n",
       "    <tr>\n",
       "      <th>Garage Type</th>\n",
       "      <td>113</td>\n",
       "      <td>int64</td>\n",
       "    </tr>\n",
       "    <tr>\n",
       "      <th>Garage Yr Blt</th>\n",
       "      <td>114</td>\n",
       "      <td>int64</td>\n",
       "    </tr>\n",
       "    <tr>\n",
       "      <th>Garage Finish</th>\n",
       "      <td>114</td>\n",
       "      <td>int64</td>\n",
       "    </tr>\n",
       "    <tr>\n",
       "      <th>Garage Cars</th>\n",
       "      <td>1</td>\n",
       "      <td>int64</td>\n",
       "    </tr>\n",
       "    <tr>\n",
       "      <th>Garage Area</th>\n",
       "      <td>1</td>\n",
       "      <td>int64</td>\n",
       "    </tr>\n",
       "    <tr>\n",
       "      <th>Garage Qual</th>\n",
       "      <td>114</td>\n",
       "      <td>int64</td>\n",
       "    </tr>\n",
       "    <tr>\n",
       "      <th>Garage Cond</th>\n",
       "      <td>114</td>\n",
       "      <td>int64</td>\n",
       "    </tr>\n",
       "    <tr>\n",
       "      <th>Pool QC</th>\n",
       "      <td>2042</td>\n",
       "      <td>int64</td>\n",
       "    </tr>\n",
       "    <tr>\n",
       "      <th>Fence</th>\n",
       "      <td>1651</td>\n",
       "      <td>int64</td>\n",
       "    </tr>\n",
       "    <tr>\n",
       "      <th>Misc Feature</th>\n",
       "      <td>1986</td>\n",
       "      <td>int64</td>\n",
       "    </tr>\n",
       "  </tbody>\n",
       "</table>\n",
       "</div>"
      ],
      "text/plain": [
       "                value   data\n",
       "Lot Frontage      330  int64\n",
       "Alley            1911  int64\n",
       "Mas Vnr Type       22  int64\n",
       "Mas Vnr Area       22  int64\n",
       "Bsmt Qual          55  int64\n",
       "Bsmt Cond          55  int64\n",
       "Bsmt Exposure      58  int64\n",
       "BsmtFin Type 1     55  int64\n",
       "BsmtFin SF 1        1  int64\n",
       "BsmtFin Type 2     56  int64\n",
       "BsmtFin SF 2        1  int64\n",
       "Bsmt Unf SF         1  int64\n",
       "Total Bsmt SF       1  int64\n",
       "Bsmt Full Bath      2  int64\n",
       "Bsmt Half Bath      2  int64\n",
       "Fireplace Qu     1000  int64\n",
       "Garage Type       113  int64\n",
       "Garage Yr Blt     114  int64\n",
       "Garage Finish     114  int64\n",
       "Garage Cars         1  int64\n",
       "Garage Area         1  int64\n",
       "Garage Qual       114  int64\n",
       "Garage Cond       114  int64\n",
       "Pool QC          2042  int64\n",
       "Fence            1651  int64\n",
       "Misc Feature     1986  int64"
      ]
     },
     "execution_count": 16,
     "metadata": {},
     "output_type": "execute_result"
    }
   ],
   "source": [
    "mdata"
   ]
  },
  {
   "cell_type": "markdown",
   "id": "634c96e8",
   "metadata": {},
   "source": [
    "## 1. Lot Frontage"
   ]
  },
  {
   "cell_type": "code",
   "execution_count": 17,
   "id": "00b17de5",
   "metadata": {},
   "outputs": [
    {
     "data": {
      "text/plain": [
       "count    1721.000000\n",
       "mean       69.055200\n",
       "std        23.260653\n",
       "min        21.000000\n",
       "25%        58.000000\n",
       "50%        68.000000\n",
       "75%        80.000000\n",
       "max       313.000000\n",
       "Name: Lot Frontage, dtype: float64"
      ]
     },
     "execution_count": 17,
     "metadata": {},
     "output_type": "execute_result"
    }
   ],
   "source": [
    "traindata['Lot Frontage'].describe()"
   ]
  },
  {
   "cell_type": "markdown",
   "id": "e36c9d8e",
   "metadata": {},
   "source": [
    "To fill up 'Lot Frontage' with 0 to manage NaN data as the column is made up of a float datatype. <br>\n",
    "And it is likely that NaN in this scenario is referring to 'No Lot Frontage' instead of 'Missing Data'."
   ]
  },
  {
   "cell_type": "code",
   "execution_count": 18,
   "id": "6eeb5644",
   "metadata": {},
   "outputs": [],
   "source": [
    "traindata['Lot Frontage'] = traindata['Lot Frontage'].fillna(0)"
   ]
  },
  {
   "cell_type": "code",
   "execution_count": 19,
   "id": "0892fb8f",
   "metadata": {},
   "outputs": [
    {
     "data": {
      "text/plain": [
       "0"
      ]
     },
     "execution_count": 19,
     "metadata": {},
     "output_type": "execute_result"
    }
   ],
   "source": [
    "traindata['Lot Frontage'].isnull().sum()"
   ]
  },
  {
   "cell_type": "markdown",
   "id": "8de37b40",
   "metadata": {},
   "source": [
    "## 2. Alley"
   ]
  },
  {
   "cell_type": "code",
   "execution_count": 20,
   "id": "aa67abec",
   "metadata": {},
   "outputs": [
    {
     "data": {
      "text/plain": [
       "array([nan, 'Pave', 'Grvl'], dtype=object)"
      ]
     },
     "execution_count": 20,
     "metadata": {},
     "output_type": "execute_result"
    }
   ],
   "source": [
    "traindata['Alley'].unique()"
   ]
  },
  {
   "cell_type": "markdown",
   "id": "4a1d0eec",
   "metadata": {},
   "source": [
    "To fill up 'Alley' Nan data with 'NA' (string) to indicate that there's none."
   ]
  },
  {
   "cell_type": "code",
   "execution_count": 21,
   "id": "e354e682",
   "metadata": {},
   "outputs": [],
   "source": [
    "traindata['Alley'] = traindata['Alley'].fillna('NA')"
   ]
  },
  {
   "cell_type": "code",
   "execution_count": 22,
   "id": "ef956bf8",
   "metadata": {},
   "outputs": [
    {
     "data": {
      "text/plain": [
       "0"
      ]
     },
     "execution_count": 22,
     "metadata": {},
     "output_type": "execute_result"
    }
   ],
   "source": [
    "traindata['Alley'].isnull().sum()"
   ]
  },
  {
   "cell_type": "markdown",
   "id": "2fe8ee5b",
   "metadata": {},
   "source": [
    "## 3. Mas Vnr Type & Mas Vnr Area"
   ]
  },
  {
   "cell_type": "markdown",
   "id": "fd577d79",
   "metadata": {},
   "source": [
    "Both of these has the same number of missing data and has the same name. <br>\n",
    "It is likely that these 2 categories are related to each other, and it is not missing data, rather the feature does not exist."
   ]
  },
  {
   "cell_type": "code",
   "execution_count": 23,
   "id": "680afc4d",
   "metadata": {},
   "outputs": [
    {
     "data": {
      "text/plain": [
       "array(['BrkFace', 'None', nan, 'Stone', 'BrkCmn'], dtype=object)"
      ]
     },
     "execution_count": 23,
     "metadata": {},
     "output_type": "execute_result"
    }
   ],
   "source": [
    "traindata['Mas Vnr Type'].unique()"
   ]
  },
  {
   "cell_type": "markdown",
   "id": "c6b82c72",
   "metadata": {},
   "source": [
    "###### As there is 'None' and NaN, the data has to be investigated further."
   ]
  },
  {
   "cell_type": "code",
   "execution_count": 24,
   "id": "128302c2",
   "metadata": {},
   "outputs": [
    {
     "data": {
      "text/plain": [
       "Int64Index([   2,    3,    4,    5,    8,   11,   12,   14,   15,   16,\n",
       "            ...\n",
       "            2035, 2037, 2040, 2042, 2043, 2046, 2047, 2048, 2049, 2050],\n",
       "           dtype='int64', length=1218)"
      ]
     },
     "execution_count": 24,
     "metadata": {},
     "output_type": "execute_result"
    }
   ],
   "source": [
    "traindata[traindata['Mas Vnr Type'] == 'None'].index"
   ]
  },
  {
   "cell_type": "code",
   "execution_count": 25,
   "id": "b0d557c7",
   "metadata": {},
   "outputs": [
    {
     "data": {
      "text/plain": [
       "count    1218.000000\n",
       "mean        0.521346\n",
       "std        12.849932\n",
       "min         0.000000\n",
       "25%         0.000000\n",
       "50%         0.000000\n",
       "75%         0.000000\n",
       "max       344.000000\n",
       "Name: Mas Vnr Area, dtype: float64"
      ]
     },
     "execution_count": 25,
     "metadata": {},
     "output_type": "execute_result"
    }
   ],
   "source": [
    "traindata[traindata['Mas Vnr Type'] == 'None']['Mas Vnr Area'].describe()"
   ]
  },
  {
   "cell_type": "code",
   "execution_count": 26,
   "id": "eedd542c",
   "metadata": {},
   "outputs": [
    {
     "data": {
      "text/plain": [
       "array([  0.,   1., 288., 344.])"
      ]
     },
     "execution_count": 26,
     "metadata": {},
     "output_type": "execute_result"
    }
   ],
   "source": [
    "traindata[traindata['Mas Vnr Type'] == 'None']['Mas Vnr Area'].unique()"
   ]
  },
  {
   "cell_type": "markdown",
   "id": "4e2c80f9",
   "metadata": {},
   "source": [
    "###### Even when 'Mas Vnr Type' == 'None',  'Mas Vnr Area' contains data.\n",
    "###### Hence, it would be incorrect if the NaN data is entered is 'NA'."
   ]
  },
  {
   "cell_type": "code",
   "execution_count": 27,
   "id": "6686d5a1",
   "metadata": {},
   "outputs": [
    {
     "data": {
      "text/plain": [
       "Int64Index([  22,   41,   86,  212,  276,  338,  431,  451,  591,  844,  913,\n",
       "             939, 1025, 1244, 1306, 1430, 1434, 1606, 1699, 1815, 1820, 1941],\n",
       "           dtype='int64')"
      ]
     },
     "execution_count": 27,
     "metadata": {},
     "output_type": "execute_result"
    }
   ],
   "source": [
    "traindata[traindata['Mas Vnr Type'].isnull()].index"
   ]
  },
  {
   "cell_type": "code",
   "execution_count": 28,
   "id": "321ecfc1",
   "metadata": {},
   "outputs": [
    {
     "data": {
      "text/plain": [
       "Int64Index([  22,   41,   86,  212,  276,  338,  431,  451,  591,  844,  913,\n",
       "             939, 1025, 1244, 1306, 1430, 1434, 1606, 1699, 1815, 1820, 1941],\n",
       "           dtype='int64')"
      ]
     },
     "execution_count": 28,
     "metadata": {},
     "output_type": "execute_result"
    }
   ],
   "source": [
    "traindata[traindata['Mas Vnr Area'].isnull()].index"
   ]
  },
  {
   "cell_type": "markdown",
   "id": "b6490003",
   "metadata": {},
   "source": [
    "###### However, when data is NaN, the indexes are the same.\n",
    "Hence, the NaN values will be replaced with 'others', with the 'Mas Vnr Area' replaced with -1.0 indicating 'others' category."
   ]
  },
  {
   "cell_type": "code",
   "execution_count": 29,
   "id": "149a24d7",
   "metadata": {},
   "outputs": [],
   "source": [
    "traindata['Mas Vnr Type'] = traindata['Mas Vnr Type'].fillna('others')"
   ]
  },
  {
   "cell_type": "code",
   "execution_count": 30,
   "id": "c2aaf840",
   "metadata": {},
   "outputs": [],
   "source": [
    "traindata['Mas Vnr Area'] = traindata['Mas Vnr Area'].fillna(-1.0)"
   ]
  },
  {
   "cell_type": "code",
   "execution_count": 31,
   "id": "cbb6eb8b",
   "metadata": {},
   "outputs": [
    {
     "name": "stdout",
     "output_type": "stream",
     "text": [
      "0; Type null data count\n",
      "0; Area null data count\n"
     ]
    }
   ],
   "source": [
    "print(f\"{traindata['Mas Vnr Type'].isnull().sum()}; Type null data count\")\n",
    "print(f\"{traindata['Mas Vnr Area'].isnull().sum()}; Area null data count\")"
   ]
  },
  {
   "cell_type": "markdown",
   "id": "6796020a",
   "metadata": {},
   "source": [
    "## 4. Bsmt and its sub categories"
   ]
  },
  {
   "cell_type": "markdown",
   "id": "bed23faf",
   "metadata": {},
   "source": [
    "Filtering columns by regex expression \"Bsmt\":"
   ]
  },
  {
   "cell_type": "code",
   "execution_count": 32,
   "id": "ef9ccc7f",
   "metadata": {},
   "outputs": [
    {
     "data": {
      "text/html": [
       "<div>\n",
       "<style scoped>\n",
       "    .dataframe tbody tr th:only-of-type {\n",
       "        vertical-align: middle;\n",
       "    }\n",
       "\n",
       "    .dataframe tbody tr th {\n",
       "        vertical-align: top;\n",
       "    }\n",
       "\n",
       "    .dataframe thead th {\n",
       "        text-align: right;\n",
       "    }\n",
       "</style>\n",
       "<table border=\"1\" class=\"dataframe\">\n",
       "  <thead>\n",
       "    <tr style=\"text-align: right;\">\n",
       "      <th></th>\n",
       "      <th>Bsmt Qual</th>\n",
       "      <th>Bsmt Cond</th>\n",
       "      <th>Bsmt Exposure</th>\n",
       "      <th>BsmtFin Type 1</th>\n",
       "      <th>BsmtFin SF 1</th>\n",
       "      <th>BsmtFin Type 2</th>\n",
       "      <th>BsmtFin SF 2</th>\n",
       "      <th>Bsmt Unf SF</th>\n",
       "      <th>Total Bsmt SF</th>\n",
       "      <th>Bsmt Full Bath</th>\n",
       "      <th>Bsmt Half Bath</th>\n",
       "    </tr>\n",
       "  </thead>\n",
       "  <tbody>\n",
       "    <tr>\n",
       "      <th>0</th>\n",
       "      <td>TA</td>\n",
       "      <td>TA</td>\n",
       "      <td>No</td>\n",
       "      <td>GLQ</td>\n",
       "      <td>533.0</td>\n",
       "      <td>Unf</td>\n",
       "      <td>0.0</td>\n",
       "      <td>192.0</td>\n",
       "      <td>725.0</td>\n",
       "      <td>0.0</td>\n",
       "      <td>0.0</td>\n",
       "    </tr>\n",
       "    <tr>\n",
       "      <th>1</th>\n",
       "      <td>Gd</td>\n",
       "      <td>TA</td>\n",
       "      <td>No</td>\n",
       "      <td>GLQ</td>\n",
       "      <td>637.0</td>\n",
       "      <td>Unf</td>\n",
       "      <td>0.0</td>\n",
       "      <td>276.0</td>\n",
       "      <td>913.0</td>\n",
       "      <td>1.0</td>\n",
       "      <td>0.0</td>\n",
       "    </tr>\n",
       "    <tr>\n",
       "      <th>2</th>\n",
       "      <td>TA</td>\n",
       "      <td>TA</td>\n",
       "      <td>No</td>\n",
       "      <td>GLQ</td>\n",
       "      <td>731.0</td>\n",
       "      <td>Unf</td>\n",
       "      <td>0.0</td>\n",
       "      <td>326.0</td>\n",
       "      <td>1057.0</td>\n",
       "      <td>1.0</td>\n",
       "      <td>0.0</td>\n",
       "    </tr>\n",
       "  </tbody>\n",
       "</table>\n",
       "</div>"
      ],
      "text/plain": [
       "  Bsmt Qual Bsmt Cond Bsmt Exposure BsmtFin Type 1  BsmtFin SF 1  \\\n",
       "0        TA        TA            No            GLQ         533.0   \n",
       "1        Gd        TA            No            GLQ         637.0   \n",
       "2        TA        TA            No            GLQ         731.0   \n",
       "\n",
       "  BsmtFin Type 2  BsmtFin SF 2  Bsmt Unf SF  Total Bsmt SF  Bsmt Full Bath  \\\n",
       "0            Unf           0.0        192.0          725.0             0.0   \n",
       "1            Unf           0.0        276.0          913.0             1.0   \n",
       "2            Unf           0.0        326.0         1057.0             1.0   \n",
       "\n",
       "   Bsmt Half Bath  \n",
       "0             0.0  \n",
       "1             0.0  \n",
       "2             0.0  "
      ]
     },
     "execution_count": 32,
     "metadata": {},
     "output_type": "execute_result"
    }
   ],
   "source": [
    "bsmt_df = traindata.filter(regex=(\"Bsmt\"))\n",
    "bsmt_df.head(3)"
   ]
  },
  {
   "cell_type": "code",
   "execution_count": 33,
   "id": "1a5acdf9",
   "metadata": {},
   "outputs": [
    {
     "data": {
      "text/plain": [
       "Index(['Bsmt Qual', 'Bsmt Cond', 'Bsmt Exposure', 'BsmtFin Type 1',\n",
       "       'BsmtFin SF 1', 'BsmtFin Type 2', 'BsmtFin SF 2', 'Bsmt Unf SF',\n",
       "       'Total Bsmt SF', 'Bsmt Full Bath', 'Bsmt Half Bath'],\n",
       "      dtype='object')"
      ]
     },
     "execution_count": 33,
     "metadata": {},
     "output_type": "execute_result"
    }
   ],
   "source": [
    "bsmt_df.columns"
   ]
  },
  {
   "cell_type": "code",
   "execution_count": 34,
   "id": "a4e382bc",
   "metadata": {},
   "outputs": [
    {
     "name": "stdout",
     "output_type": "stream",
     "text": [
      "<class 'pandas.core.frame.DataFrame'>\n",
      "RangeIndex: 2051 entries, 0 to 2050\n",
      "Data columns (total 11 columns):\n",
      " #   Column          Non-Null Count  Dtype  \n",
      "---  ------          --------------  -----  \n",
      " 0   Bsmt Qual       1996 non-null   object \n",
      " 1   Bsmt Cond       1996 non-null   object \n",
      " 2   Bsmt Exposure   1993 non-null   object \n",
      " 3   BsmtFin Type 1  1996 non-null   object \n",
      " 4   BsmtFin SF 1    2050 non-null   float64\n",
      " 5   BsmtFin Type 2  1995 non-null   object \n",
      " 6   BsmtFin SF 2    2050 non-null   float64\n",
      " 7   Bsmt Unf SF     2050 non-null   float64\n",
      " 8   Total Bsmt SF   2050 non-null   float64\n",
      " 9   Bsmt Full Bath  2049 non-null   float64\n",
      " 10  Bsmt Half Bath  2049 non-null   float64\n",
      "dtypes: float64(6), object(5)\n",
      "memory usage: 176.4+ KB\n"
     ]
    }
   ],
   "source": [
    "bsmt_df.info()"
   ]
  },
  {
   "cell_type": "markdown",
   "id": "495bafac",
   "metadata": {},
   "source": [
    "###### By understanding the relationship that Total Bsmt SF = BsmtFin SF 1 + Bsmt Unf SF, it is likely that most of the NaN is coming from the data where Total Bsmt SF == 0 where the Bsmt feature does not exist."
   ]
  },
  {
   "cell_type": "code",
   "execution_count": 35,
   "id": "09755c57",
   "metadata": {},
   "outputs": [],
   "source": [
    "bsmt_0 = bsmt_df[bsmt_df['Total Bsmt SF'] == 0]"
   ]
  },
  {
   "cell_type": "code",
   "execution_count": 36,
   "id": "40666dfb",
   "metadata": {
    "scrolled": true
   },
   "outputs": [
    {
     "data": {
      "text/html": [
       "<div>\n",
       "<style scoped>\n",
       "    .dataframe tbody tr th:only-of-type {\n",
       "        vertical-align: middle;\n",
       "    }\n",
       "\n",
       "    .dataframe tbody tr th {\n",
       "        vertical-align: top;\n",
       "    }\n",
       "\n",
       "    .dataframe thead th {\n",
       "        text-align: right;\n",
       "    }\n",
       "</style>\n",
       "<table border=\"1\" class=\"dataframe\">\n",
       "  <thead>\n",
       "    <tr style=\"text-align: right;\">\n",
       "      <th></th>\n",
       "      <th>BsmtFin SF 1</th>\n",
       "      <th>BsmtFin SF 2</th>\n",
       "      <th>Bsmt Unf SF</th>\n",
       "      <th>Total Bsmt SF</th>\n",
       "      <th>Bsmt Full Bath</th>\n",
       "      <th>Bsmt Half Bath</th>\n",
       "    </tr>\n",
       "  </thead>\n",
       "  <tbody>\n",
       "    <tr>\n",
       "      <th>count</th>\n",
       "      <td>54.0</td>\n",
       "      <td>54.0</td>\n",
       "      <td>54.0</td>\n",
       "      <td>54.0</td>\n",
       "      <td>53.0</td>\n",
       "      <td>53.0</td>\n",
       "    </tr>\n",
       "    <tr>\n",
       "      <th>mean</th>\n",
       "      <td>0.0</td>\n",
       "      <td>0.0</td>\n",
       "      <td>0.0</td>\n",
       "      <td>0.0</td>\n",
       "      <td>0.0</td>\n",
       "      <td>0.0</td>\n",
       "    </tr>\n",
       "    <tr>\n",
       "      <th>std</th>\n",
       "      <td>0.0</td>\n",
       "      <td>0.0</td>\n",
       "      <td>0.0</td>\n",
       "      <td>0.0</td>\n",
       "      <td>0.0</td>\n",
       "      <td>0.0</td>\n",
       "    </tr>\n",
       "    <tr>\n",
       "      <th>min</th>\n",
       "      <td>0.0</td>\n",
       "      <td>0.0</td>\n",
       "      <td>0.0</td>\n",
       "      <td>0.0</td>\n",
       "      <td>0.0</td>\n",
       "      <td>0.0</td>\n",
       "    </tr>\n",
       "    <tr>\n",
       "      <th>25%</th>\n",
       "      <td>0.0</td>\n",
       "      <td>0.0</td>\n",
       "      <td>0.0</td>\n",
       "      <td>0.0</td>\n",
       "      <td>0.0</td>\n",
       "      <td>0.0</td>\n",
       "    </tr>\n",
       "    <tr>\n",
       "      <th>50%</th>\n",
       "      <td>0.0</td>\n",
       "      <td>0.0</td>\n",
       "      <td>0.0</td>\n",
       "      <td>0.0</td>\n",
       "      <td>0.0</td>\n",
       "      <td>0.0</td>\n",
       "    </tr>\n",
       "    <tr>\n",
       "      <th>75%</th>\n",
       "      <td>0.0</td>\n",
       "      <td>0.0</td>\n",
       "      <td>0.0</td>\n",
       "      <td>0.0</td>\n",
       "      <td>0.0</td>\n",
       "      <td>0.0</td>\n",
       "    </tr>\n",
       "    <tr>\n",
       "      <th>max</th>\n",
       "      <td>0.0</td>\n",
       "      <td>0.0</td>\n",
       "      <td>0.0</td>\n",
       "      <td>0.0</td>\n",
       "      <td>0.0</td>\n",
       "      <td>0.0</td>\n",
       "    </tr>\n",
       "  </tbody>\n",
       "</table>\n",
       "</div>"
      ],
      "text/plain": [
       "       BsmtFin SF 1  BsmtFin SF 2  Bsmt Unf SF  Total Bsmt SF  Bsmt Full Bath  \\\n",
       "count          54.0          54.0         54.0           54.0            53.0   \n",
       "mean            0.0           0.0          0.0            0.0             0.0   \n",
       "std             0.0           0.0          0.0            0.0             0.0   \n",
       "min             0.0           0.0          0.0            0.0             0.0   \n",
       "25%             0.0           0.0          0.0            0.0             0.0   \n",
       "50%             0.0           0.0          0.0            0.0             0.0   \n",
       "75%             0.0           0.0          0.0            0.0             0.0   \n",
       "max             0.0           0.0          0.0            0.0             0.0   \n",
       "\n",
       "       Bsmt Half Bath  \n",
       "count            53.0  \n",
       "mean              0.0  \n",
       "std               0.0  \n",
       "min               0.0  \n",
       "25%               0.0  \n",
       "50%               0.0  \n",
       "75%               0.0  \n",
       "max               0.0  "
      ]
     },
     "execution_count": 36,
     "metadata": {},
     "output_type": "execute_result"
    }
   ],
   "source": [
    "bsmt_0.describe()"
   ]
  },
  {
   "cell_type": "code",
   "execution_count": 37,
   "id": "b37c9604",
   "metadata": {},
   "outputs": [
    {
     "data": {
      "text/html": [
       "<div>\n",
       "<style scoped>\n",
       "    .dataframe tbody tr th:only-of-type {\n",
       "        vertical-align: middle;\n",
       "    }\n",
       "\n",
       "    .dataframe tbody tr th {\n",
       "        vertical-align: top;\n",
       "    }\n",
       "\n",
       "    .dataframe thead th {\n",
       "        text-align: right;\n",
       "    }\n",
       "</style>\n",
       "<table border=\"1\" class=\"dataframe\">\n",
       "  <thead>\n",
       "    <tr style=\"text-align: right;\">\n",
       "      <th></th>\n",
       "      <th>Bsmt Qual</th>\n",
       "      <th>Bsmt Cond</th>\n",
       "      <th>Bsmt Exposure</th>\n",
       "      <th>BsmtFin Type 1</th>\n",
       "      <th>BsmtFin SF 1</th>\n",
       "      <th>BsmtFin Type 2</th>\n",
       "      <th>BsmtFin SF 2</th>\n",
       "      <th>Bsmt Unf SF</th>\n",
       "      <th>Total Bsmt SF</th>\n",
       "      <th>Bsmt Full Bath</th>\n",
       "      <th>Bsmt Half Bath</th>\n",
       "    </tr>\n",
       "  </thead>\n",
       "  <tbody>\n",
       "    <tr>\n",
       "      <th>12</th>\n",
       "      <td>NaN</td>\n",
       "      <td>NaN</td>\n",
       "      <td>NaN</td>\n",
       "      <td>NaN</td>\n",
       "      <td>0.0</td>\n",
       "      <td>NaN</td>\n",
       "      <td>0.0</td>\n",
       "      <td>0.0</td>\n",
       "      <td>0.0</td>\n",
       "      <td>0.0</td>\n",
       "      <td>0.0</td>\n",
       "    </tr>\n",
       "    <tr>\n",
       "      <th>93</th>\n",
       "      <td>NaN</td>\n",
       "      <td>NaN</td>\n",
       "      <td>NaN</td>\n",
       "      <td>NaN</td>\n",
       "      <td>0.0</td>\n",
       "      <td>NaN</td>\n",
       "      <td>0.0</td>\n",
       "      <td>0.0</td>\n",
       "      <td>0.0</td>\n",
       "      <td>0.0</td>\n",
       "      <td>0.0</td>\n",
       "    </tr>\n",
       "    <tr>\n",
       "      <th>114</th>\n",
       "      <td>NaN</td>\n",
       "      <td>NaN</td>\n",
       "      <td>NaN</td>\n",
       "      <td>NaN</td>\n",
       "      <td>0.0</td>\n",
       "      <td>NaN</td>\n",
       "      <td>0.0</td>\n",
       "      <td>0.0</td>\n",
       "      <td>0.0</td>\n",
       "      <td>0.0</td>\n",
       "      <td>0.0</td>\n",
       "    </tr>\n",
       "  </tbody>\n",
       "</table>\n",
       "</div>"
      ],
      "text/plain": [
       "    Bsmt Qual Bsmt Cond Bsmt Exposure BsmtFin Type 1  BsmtFin SF 1  \\\n",
       "12        NaN       NaN           NaN            NaN           0.0   \n",
       "93        NaN       NaN           NaN            NaN           0.0   \n",
       "114       NaN       NaN           NaN            NaN           0.0   \n",
       "\n",
       "    BsmtFin Type 2  BsmtFin SF 2  Bsmt Unf SF  Total Bsmt SF  Bsmt Full Bath  \\\n",
       "12             NaN           0.0          0.0            0.0             0.0   \n",
       "93             NaN           0.0          0.0            0.0             0.0   \n",
       "114            NaN           0.0          0.0            0.0             0.0   \n",
       "\n",
       "     Bsmt Half Bath  \n",
       "12              0.0  \n",
       "93              0.0  \n",
       "114             0.0  "
      ]
     },
     "execution_count": 37,
     "metadata": {},
     "output_type": "execute_result"
    }
   ],
   "source": [
    "bsmt_0.head(3)"
   ]
  },
  {
   "cell_type": "code",
   "execution_count": 38,
   "id": "b4507346",
   "metadata": {},
   "outputs": [
    {
     "data": {
      "text/plain": [
       "Index(['Bsmt Qual', 'Bsmt Cond', 'Bsmt Exposure', 'BsmtFin Type 1',\n",
       "       'BsmtFin SF 1', 'BsmtFin Type 2', 'BsmtFin SF 2', 'Bsmt Unf SF',\n",
       "       'Total Bsmt SF', 'Bsmt Full Bath', 'Bsmt Half Bath'],\n",
       "      dtype='object')"
      ]
     },
     "execution_count": 38,
     "metadata": {},
     "output_type": "execute_result"
    }
   ],
   "source": [
    "bsmt_0.columns"
   ]
  },
  {
   "cell_type": "markdown",
   "id": "6c0aac2b",
   "metadata": {},
   "source": [
    "###### Columns: 'Bsmt Qual', 'Bsmt Cond', 'Bsmt Exposure', 'BsmtFin Type 1', 'BsmtFin Type 2' NaN values will be replaced with 'NA' to indicate that there is no such feature."
   ]
  },
  {
   "cell_type": "code",
   "execution_count": 39,
   "id": "3d93b5bb",
   "metadata": {},
   "outputs": [],
   "source": [
    "bsmt_nan = bsmt_0[['Bsmt Qual', 'Bsmt Cond', 'Bsmt Exposure', 'BsmtFin Type 1',\n",
    "       'BsmtFin SF 1', 'BsmtFin Type 2', 'BsmtFin SF 2', 'Bsmt Unf SF',\n",
    "       'Total Bsmt SF', 'Bsmt Full Bath', 'Bsmt Half Bath']]"
   ]
  },
  {
   "cell_type": "code",
   "execution_count": 40,
   "id": "bfae5556",
   "metadata": {},
   "outputs": [
    {
     "data": {
      "text/html": [
       "<div>\n",
       "<style scoped>\n",
       "    .dataframe tbody tr th:only-of-type {\n",
       "        vertical-align: middle;\n",
       "    }\n",
       "\n",
       "    .dataframe tbody tr th {\n",
       "        vertical-align: top;\n",
       "    }\n",
       "\n",
       "    .dataframe thead th {\n",
       "        text-align: right;\n",
       "    }\n",
       "</style>\n",
       "<table border=\"1\" class=\"dataframe\">\n",
       "  <thead>\n",
       "    <tr style=\"text-align: right;\">\n",
       "      <th></th>\n",
       "      <th>Bsmt Qual</th>\n",
       "      <th>Bsmt Cond</th>\n",
       "      <th>Bsmt Exposure</th>\n",
       "      <th>BsmtFin Type 1</th>\n",
       "      <th>BsmtFin SF 1</th>\n",
       "      <th>BsmtFin Type 2</th>\n",
       "      <th>BsmtFin SF 2</th>\n",
       "      <th>Bsmt Unf SF</th>\n",
       "      <th>Total Bsmt SF</th>\n",
       "      <th>Bsmt Full Bath</th>\n",
       "      <th>Bsmt Half Bath</th>\n",
       "    </tr>\n",
       "  </thead>\n",
       "  <tbody>\n",
       "    <tr>\n",
       "      <th>12</th>\n",
       "      <td>NA</td>\n",
       "      <td>NA</td>\n",
       "      <td>NA</td>\n",
       "      <td>NA</td>\n",
       "      <td>0.0</td>\n",
       "      <td>NA</td>\n",
       "      <td>0.0</td>\n",
       "      <td>0.0</td>\n",
       "      <td>0.0</td>\n",
       "      <td>0.0</td>\n",
       "      <td>0.0</td>\n",
       "    </tr>\n",
       "    <tr>\n",
       "      <th>93</th>\n",
       "      <td>NA</td>\n",
       "      <td>NA</td>\n",
       "      <td>NA</td>\n",
       "      <td>NA</td>\n",
       "      <td>0.0</td>\n",
       "      <td>NA</td>\n",
       "      <td>0.0</td>\n",
       "      <td>0.0</td>\n",
       "      <td>0.0</td>\n",
       "      <td>0.0</td>\n",
       "      <td>0.0</td>\n",
       "    </tr>\n",
       "    <tr>\n",
       "      <th>114</th>\n",
       "      <td>NA</td>\n",
       "      <td>NA</td>\n",
       "      <td>NA</td>\n",
       "      <td>NA</td>\n",
       "      <td>0.0</td>\n",
       "      <td>NA</td>\n",
       "      <td>0.0</td>\n",
       "      <td>0.0</td>\n",
       "      <td>0.0</td>\n",
       "      <td>0.0</td>\n",
       "      <td>0.0</td>\n",
       "    </tr>\n",
       "  </tbody>\n",
       "</table>\n",
       "</div>"
      ],
      "text/plain": [
       "    Bsmt Qual Bsmt Cond Bsmt Exposure BsmtFin Type 1  BsmtFin SF 1  \\\n",
       "12         NA        NA            NA             NA           0.0   \n",
       "93         NA        NA            NA             NA           0.0   \n",
       "114        NA        NA            NA             NA           0.0   \n",
       "\n",
       "    BsmtFin Type 2  BsmtFin SF 2  Bsmt Unf SF  Total Bsmt SF Bsmt Full Bath  \\\n",
       "12              NA           0.0          0.0            0.0            0.0   \n",
       "93              NA           0.0          0.0            0.0            0.0   \n",
       "114             NA           0.0          0.0            0.0            0.0   \n",
       "\n",
       "    Bsmt Half Bath  \n",
       "12             0.0  \n",
       "93             0.0  \n",
       "114            0.0  "
      ]
     },
     "execution_count": 40,
     "metadata": {},
     "output_type": "execute_result"
    }
   ],
   "source": [
    "bsmt_nan.fillna('NA').head(3)"
   ]
  },
  {
   "cell_type": "code",
   "execution_count": 41,
   "id": "917e3f17",
   "metadata": {},
   "outputs": [
    {
     "data": {
      "text/html": [
       "<div>\n",
       "<style scoped>\n",
       "    .dataframe tbody tr th:only-of-type {\n",
       "        vertical-align: middle;\n",
       "    }\n",
       "\n",
       "    .dataframe tbody tr th {\n",
       "        vertical-align: top;\n",
       "    }\n",
       "\n",
       "    .dataframe thead th {\n",
       "        text-align: right;\n",
       "    }\n",
       "</style>\n",
       "<table border=\"1\" class=\"dataframe\">\n",
       "  <thead>\n",
       "    <tr style=\"text-align: right;\">\n",
       "      <th></th>\n",
       "      <th>bsmt_null</th>\n",
       "    </tr>\n",
       "  </thead>\n",
       "  <tbody>\n",
       "    <tr>\n",
       "      <th>Bsmt Qual</th>\n",
       "      <td>54</td>\n",
       "    </tr>\n",
       "    <tr>\n",
       "      <th>Bsmt Cond</th>\n",
       "      <td>54</td>\n",
       "    </tr>\n",
       "    <tr>\n",
       "      <th>Bsmt Exposure</th>\n",
       "      <td>54</td>\n",
       "    </tr>\n",
       "    <tr>\n",
       "      <th>BsmtFin Type 1</th>\n",
       "      <td>54</td>\n",
       "    </tr>\n",
       "    <tr>\n",
       "      <th>BsmtFin SF 1</th>\n",
       "      <td>0</td>\n",
       "    </tr>\n",
       "    <tr>\n",
       "      <th>BsmtFin Type 2</th>\n",
       "      <td>54</td>\n",
       "    </tr>\n",
       "    <tr>\n",
       "      <th>BsmtFin SF 2</th>\n",
       "      <td>0</td>\n",
       "    </tr>\n",
       "    <tr>\n",
       "      <th>Bsmt Unf SF</th>\n",
       "      <td>0</td>\n",
       "    </tr>\n",
       "    <tr>\n",
       "      <th>Total Bsmt SF</th>\n",
       "      <td>0</td>\n",
       "    </tr>\n",
       "    <tr>\n",
       "      <th>Bsmt Full Bath</th>\n",
       "      <td>1</td>\n",
       "    </tr>\n",
       "    <tr>\n",
       "      <th>Bsmt Half Bath</th>\n",
       "      <td>1</td>\n",
       "    </tr>\n",
       "  </tbody>\n",
       "</table>\n",
       "</div>"
      ],
      "text/plain": [
       "                bsmt_null\n",
       "Bsmt Qual              54\n",
       "Bsmt Cond              54\n",
       "Bsmt Exposure          54\n",
       "BsmtFin Type 1         54\n",
       "BsmtFin SF 1            0\n",
       "BsmtFin Type 2         54\n",
       "BsmtFin SF 2            0\n",
       "Bsmt Unf SF             0\n",
       "Total Bsmt SF           0\n",
       "Bsmt Full Bath          1\n",
       "Bsmt Half Bath          1"
      ]
     },
     "execution_count": 41,
     "metadata": {},
     "output_type": "execute_result"
    }
   ],
   "source": [
    "pd.DataFrame(bsmt_nan.isnull().sum(), columns=['bsmt_null'])"
   ]
  },
  {
   "cell_type": "markdown",
   "id": "8aac751c",
   "metadata": {},
   "source": [
    "After zeroing the NaN for ['Bsmt Qual', 'Bsmt Cond', 'Bsmt Exposure', 'BsmtFin Type 1',\n",
    "       'BsmtFin SF 1', 'BsmtFin Type 2', 'BsmtFin SF 2', 'Bsmt Unf SF',\n",
    "       'Total Bsmt SF', 'Bsmt Full Bath', 'Bsmt Half Bath']\n",
    "       \n",
    "There remains NaN in the data. <br>\n",
    "These data needs to be investigated further."
   ]
  },
  {
   "cell_type": "code",
   "execution_count": 42,
   "id": "5dd1bfe5",
   "metadata": {},
   "outputs": [],
   "source": [
    "bsmt_nan_leftovers = bsmt_nan[bsmt_nan.isna().any(axis=1)]"
   ]
  },
  {
   "cell_type": "code",
   "execution_count": 43,
   "id": "209a1a57",
   "metadata": {},
   "outputs": [
    {
     "data": {
      "text/plain": [
       "(54, 11)"
      ]
     },
     "execution_count": 43,
     "metadata": {},
     "output_type": "execute_result"
    }
   ],
   "source": [
    "bsmt_nan_leftovers.shape"
   ]
  },
  {
   "cell_type": "code",
   "execution_count": 44,
   "id": "cb620f47",
   "metadata": {},
   "outputs": [
    {
     "data": {
      "text/html": [
       "<div>\n",
       "<style scoped>\n",
       "    .dataframe tbody tr th:only-of-type {\n",
       "        vertical-align: middle;\n",
       "    }\n",
       "\n",
       "    .dataframe tbody tr th {\n",
       "        vertical-align: top;\n",
       "    }\n",
       "\n",
       "    .dataframe thead th {\n",
       "        text-align: right;\n",
       "    }\n",
       "</style>\n",
       "<table border=\"1\" class=\"dataframe\">\n",
       "  <thead>\n",
       "    <tr style=\"text-align: right;\">\n",
       "      <th></th>\n",
       "      <th>BsmtFin SF 1</th>\n",
       "      <th>BsmtFin SF 2</th>\n",
       "      <th>Bsmt Unf SF</th>\n",
       "      <th>Total Bsmt SF</th>\n",
       "      <th>Bsmt Full Bath</th>\n",
       "      <th>Bsmt Half Bath</th>\n",
       "    </tr>\n",
       "  </thead>\n",
       "  <tbody>\n",
       "    <tr>\n",
       "      <th>count</th>\n",
       "      <td>54.0</td>\n",
       "      <td>54.0</td>\n",
       "      <td>54.0</td>\n",
       "      <td>54.0</td>\n",
       "      <td>53.0</td>\n",
       "      <td>53.0</td>\n",
       "    </tr>\n",
       "    <tr>\n",
       "      <th>mean</th>\n",
       "      <td>0.0</td>\n",
       "      <td>0.0</td>\n",
       "      <td>0.0</td>\n",
       "      <td>0.0</td>\n",
       "      <td>0.0</td>\n",
       "      <td>0.0</td>\n",
       "    </tr>\n",
       "    <tr>\n",
       "      <th>std</th>\n",
       "      <td>0.0</td>\n",
       "      <td>0.0</td>\n",
       "      <td>0.0</td>\n",
       "      <td>0.0</td>\n",
       "      <td>0.0</td>\n",
       "      <td>0.0</td>\n",
       "    </tr>\n",
       "    <tr>\n",
       "      <th>min</th>\n",
       "      <td>0.0</td>\n",
       "      <td>0.0</td>\n",
       "      <td>0.0</td>\n",
       "      <td>0.0</td>\n",
       "      <td>0.0</td>\n",
       "      <td>0.0</td>\n",
       "    </tr>\n",
       "    <tr>\n",
       "      <th>25%</th>\n",
       "      <td>0.0</td>\n",
       "      <td>0.0</td>\n",
       "      <td>0.0</td>\n",
       "      <td>0.0</td>\n",
       "      <td>0.0</td>\n",
       "      <td>0.0</td>\n",
       "    </tr>\n",
       "    <tr>\n",
       "      <th>50%</th>\n",
       "      <td>0.0</td>\n",
       "      <td>0.0</td>\n",
       "      <td>0.0</td>\n",
       "      <td>0.0</td>\n",
       "      <td>0.0</td>\n",
       "      <td>0.0</td>\n",
       "    </tr>\n",
       "    <tr>\n",
       "      <th>75%</th>\n",
       "      <td>0.0</td>\n",
       "      <td>0.0</td>\n",
       "      <td>0.0</td>\n",
       "      <td>0.0</td>\n",
       "      <td>0.0</td>\n",
       "      <td>0.0</td>\n",
       "    </tr>\n",
       "    <tr>\n",
       "      <th>max</th>\n",
       "      <td>0.0</td>\n",
       "      <td>0.0</td>\n",
       "      <td>0.0</td>\n",
       "      <td>0.0</td>\n",
       "      <td>0.0</td>\n",
       "      <td>0.0</td>\n",
       "    </tr>\n",
       "  </tbody>\n",
       "</table>\n",
       "</div>"
      ],
      "text/plain": [
       "       BsmtFin SF 1  BsmtFin SF 2  Bsmt Unf SF  Total Bsmt SF  Bsmt Full Bath  \\\n",
       "count          54.0          54.0         54.0           54.0            53.0   \n",
       "mean            0.0           0.0          0.0            0.0             0.0   \n",
       "std             0.0           0.0          0.0            0.0             0.0   \n",
       "min             0.0           0.0          0.0            0.0             0.0   \n",
       "25%             0.0           0.0          0.0            0.0             0.0   \n",
       "50%             0.0           0.0          0.0            0.0             0.0   \n",
       "75%             0.0           0.0          0.0            0.0             0.0   \n",
       "max             0.0           0.0          0.0            0.0             0.0   \n",
       "\n",
       "       Bsmt Half Bath  \n",
       "count            53.0  \n",
       "mean              0.0  \n",
       "std               0.0  \n",
       "min               0.0  \n",
       "25%               0.0  \n",
       "50%               0.0  \n",
       "75%               0.0  \n",
       "max               0.0  "
      ]
     },
     "execution_count": 44,
     "metadata": {},
     "output_type": "execute_result"
    }
   ],
   "source": [
    "bsmt_nan_leftovers.describe()"
   ]
  },
  {
   "cell_type": "markdown",
   "id": "d72c28e0",
   "metadata": {},
   "source": [
    "The leftover NaN data are all empty, likely signifying that these features does not exist. <br>\n",
    "Therefore it is safe to replace data with 'NA' or 0.0 according to the column datatype."
   ]
  },
  {
   "cell_type": "markdown",
   "id": "fa52852e",
   "metadata": {},
   "source": [
    "### Replacing Bsmt NaN data"
   ]
  },
  {
   "cell_type": "code",
   "execution_count": 45,
   "id": "e32587e6",
   "metadata": {},
   "outputs": [
    {
     "data": {
      "text/plain": [
       "Index(['Bsmt Qual', 'Bsmt Cond', 'Bsmt Exposure', 'BsmtFin Type 1',\n",
       "       'BsmtFin SF 1', 'BsmtFin Type 2', 'BsmtFin SF 2', 'Bsmt Unf SF',\n",
       "       'Total Bsmt SF', 'Bsmt Full Bath', 'Bsmt Half Bath'],\n",
       "      dtype='object')"
      ]
     },
     "execution_count": 45,
     "metadata": {},
     "output_type": "execute_result"
    }
   ],
   "source": [
    "bsmt_df.columns"
   ]
  },
  {
   "cell_type": "markdown",
   "id": "71b63ec6",
   "metadata": {},
   "source": [
    "###### 1. Bsmt Qual"
   ]
  },
  {
   "cell_type": "code",
   "execution_count": 46,
   "id": "a6392207",
   "metadata": {},
   "outputs": [
    {
     "data": {
      "text/plain": [
       "array(['TA', 'Gd', 'Fa', nan, 'Ex', 'Po'], dtype=object)"
      ]
     },
     "execution_count": 46,
     "metadata": {},
     "output_type": "execute_result"
    }
   ],
   "source": [
    "bsmt_df['Bsmt Qual'].unique()"
   ]
  },
  {
   "cell_type": "code",
   "execution_count": 47,
   "id": "3b777f34",
   "metadata": {},
   "outputs": [],
   "source": [
    "bsmt_df['Bsmt Qual'] = bsmt_df['Bsmt Qual'].fillna('NA')"
   ]
  },
  {
   "cell_type": "code",
   "execution_count": 48,
   "id": "1be2adc8",
   "metadata": {},
   "outputs": [
    {
     "data": {
      "text/plain": [
       "0"
      ]
     },
     "execution_count": 48,
     "metadata": {},
     "output_type": "execute_result"
    }
   ],
   "source": [
    "bsmt_df['Bsmt Qual'].isnull().sum()"
   ]
  },
  {
   "cell_type": "markdown",
   "id": "0e464977",
   "metadata": {},
   "source": [
    "###### 2. Bsmt Cond"
   ]
  },
  {
   "cell_type": "code",
   "execution_count": 49,
   "id": "2c3a32da",
   "metadata": {},
   "outputs": [
    {
     "data": {
      "text/plain": [
       "array(['TA', 'Gd', nan, 'Fa', 'Po', 'Ex'], dtype=object)"
      ]
     },
     "execution_count": 49,
     "metadata": {},
     "output_type": "execute_result"
    }
   ],
   "source": [
    "bsmt_df['Bsmt Cond'].unique()"
   ]
  },
  {
   "cell_type": "code",
   "execution_count": 50,
   "id": "3261c42b",
   "metadata": {},
   "outputs": [],
   "source": [
    "bsmt_df['Bsmt Cond'] = bsmt_df['Bsmt Cond'].fillna('NA')"
   ]
  },
  {
   "cell_type": "code",
   "execution_count": 51,
   "id": "5e24e376",
   "metadata": {},
   "outputs": [
    {
     "data": {
      "text/plain": [
       "0"
      ]
     },
     "execution_count": 51,
     "metadata": {},
     "output_type": "execute_result"
    }
   ],
   "source": [
    "bsmt_df['Bsmt Cond'].isnull().sum()"
   ]
  },
  {
   "cell_type": "markdown",
   "id": "095be472",
   "metadata": {},
   "source": [
    "###### 3. Bsmt Exposure"
   ]
  },
  {
   "cell_type": "code",
   "execution_count": 52,
   "id": "b0db51ac",
   "metadata": {},
   "outputs": [
    {
     "data": {
      "text/plain": [
       "array(['No', 'Gd', 'Av', nan, 'Mn'], dtype=object)"
      ]
     },
     "execution_count": 52,
     "metadata": {},
     "output_type": "execute_result"
    }
   ],
   "source": [
    "bsmt_df['Bsmt Exposure'].unique()"
   ]
  },
  {
   "cell_type": "code",
   "execution_count": 53,
   "id": "c563ccb8",
   "metadata": {},
   "outputs": [],
   "source": [
    "bsmt_df['Bsmt Exposure'] = bsmt_df['Bsmt Exposure'].fillna('NA')"
   ]
  },
  {
   "cell_type": "code",
   "execution_count": 54,
   "id": "7b86088a",
   "metadata": {},
   "outputs": [
    {
     "data": {
      "text/plain": [
       "0"
      ]
     },
     "execution_count": 54,
     "metadata": {},
     "output_type": "execute_result"
    }
   ],
   "source": [
    "bsmt_df['Bsmt Cond'].isnull().sum()"
   ]
  },
  {
   "cell_type": "markdown",
   "id": "b88e9b96",
   "metadata": {},
   "source": [
    "###### 4. BsmtFin Type 1"
   ]
  },
  {
   "cell_type": "code",
   "execution_count": 55,
   "id": "247c5c44",
   "metadata": {},
   "outputs": [
    {
     "data": {
      "text/plain": [
       "array(['GLQ', 'Unf', 'ALQ', 'Rec', nan, 'BLQ', 'LwQ'], dtype=object)"
      ]
     },
     "execution_count": 55,
     "metadata": {},
     "output_type": "execute_result"
    }
   ],
   "source": [
    "bsmt_df['BsmtFin Type 1'].unique()"
   ]
  },
  {
   "cell_type": "code",
   "execution_count": 56,
   "id": "b4136d60",
   "metadata": {},
   "outputs": [],
   "source": [
    "bsmt_df['BsmtFin Type 1'] = bsmt_df['BsmtFin Type 1'].fillna('NA')"
   ]
  },
  {
   "cell_type": "code",
   "execution_count": 57,
   "id": "cd69c916",
   "metadata": {},
   "outputs": [
    {
     "data": {
      "text/plain": [
       "0"
      ]
     },
     "execution_count": 57,
     "metadata": {},
     "output_type": "execute_result"
    }
   ],
   "source": [
    "bsmt_df['BsmtFin Type 1'].isnull().sum()"
   ]
  },
  {
   "cell_type": "markdown",
   "id": "78887d2b",
   "metadata": {},
   "source": [
    "###### 5. BsmtFin SF 1"
   ]
  },
  {
   "cell_type": "code",
   "execution_count": 58,
   "id": "75d0321a",
   "metadata": {
    "scrolled": true
   },
   "outputs": [
    {
     "data": {
      "text/plain": [
       "array([5.330e+02, 6.370e+02, 7.310e+02, 0.000e+00, 2.470e+02, 5.470e+02,\n",
       "       1.000e+03, 2.920e+02, 6.500e+02, 3.870e+02, 3.930e+02, 8.130e+02,\n",
       "       2.400e+01, 6.510e+02, 4.920e+02, 1.158e+03, 9.350e+02, 1.056e+03,\n",
       "       1.312e+03, 5.530e+02, 6.060e+02, 1.104e+03, 4.370e+02, 4.410e+02,\n",
       "       1.288e+03, 5.480e+02, 7.050e+02, 9.160e+02, 4.200e+02, 8.300e+02,\n",
       "       1.386e+03, 1.097e+03, 9.060e+02, 2.100e+02, 4.080e+02, 3.540e+02,\n",
       "       3.530e+02, 6.220e+02, 7.900e+02, 1.760e+02, 3.710e+02, 3.680e+02,\n",
       "       4.860e+02, 8.500e+01, 1.380e+02, 5.240e+02, 6.400e+01, 1.092e+03,\n",
       "       3.600e+02, 1.720e+02, 2.060e+02, 2.460e+02, 1.600e+01, 1.346e+03,\n",
       "       7.000e+02, 6.550e+02, 4.430e+02, 1.680e+02, 1.904e+03, 2.400e+02,\n",
       "       8.640e+02, 4.150e+02, 8.330e+02, 3.770e+02, 2.800e+02, 8.280e+02,\n",
       "       7.620e+02, 3.600e+01, 1.014e+03, 6.000e+01, 5.880e+02, 4.380e+02,\n",
       "       1.153e+03, 5.270e+02, 1.337e+03, 3.480e+02, 1.044e+03, 6.900e+02,\n",
       "       9.620e+02, 6.410e+02, 1.110e+03, 4.210e+02, 8.320e+02, 1.027e+03,\n",
       "       9.880e+02, 8.210e+02, 2.900e+02, 4.350e+02, 8.270e+02, 3.120e+02,\n",
       "       4.100e+02, 2.570e+02, 3.780e+02, 3.890e+02, 1.619e+03, 4.680e+02,\n",
       "       4.580e+02, 1.200e+02, 7.320e+02, 6.590e+02, 9.540e+02, 1.032e+03,\n",
       "       4.250e+02, 8.410e+02, 6.440e+02, 1.890e+02, 6.850e+02, 1.110e+02,\n",
       "       9.180e+02, 6.740e+02, 7.890e+02, 6.080e+02, 5.730e+02, 7.080e+02,\n",
       "       1.290e+02, 3.110e+02, 1.040e+02, 3.860e+02, 7.040e+02, 4.570e+02,\n",
       "       1.700e+02, 1.173e+03, 1.560e+02, 6.000e+02, 7.880e+02, 5.500e+02,\n",
       "       9.290e+02, 4.450e+02, 1.218e+03, 5.100e+01, 1.567e+03, 5.000e+02,\n",
       "       1.122e+03, 5.600e+01, 5.030e+02, 7.650e+02, 3.640e+02, 2.760e+02,\n",
       "       1.128e+03, 4.200e+01, 5.780e+02, 6.340e+02, 1.070e+03, 9.310e+02,\n",
       "       1.024e+03, 9.150e+02, 4.290e+02, 8.360e+02, 8.830e+02, 3.750e+02,\n",
       "       1.540e+03, 7.830e+02, 2.160e+02, 2.150e+02, 4.480e+02, 7.870e+02,\n",
       "       5.260e+02, 4.000e+01, 2.000e+01, 9.020e+02, 9.600e+02, 7.760e+02,\n",
       "       4.950e+02, 8.240e+02, 2.880e+02, 1.059e+03, 1.358e+03, 9.960e+02,\n",
       "       5.440e+02, 4.400e+02, 3.000e+02, 7.850e+02, 7.670e+02, 4.300e+02,\n",
       "       7.730e+02, 5.130e+02, 7.380e+02, 2.070e+02, 3.980e+02, 6.780e+02,\n",
       "       4.750e+02, 8.100e+01, 6.450e+02, 1.204e+03, 5.140e+02, 2.990e+02,\n",
       "       1.758e+03, 5.500e+01, 1.309e+03, 1.490e+02, 6.620e+02, 1.003e+03,\n",
       "       4.620e+02, 5.600e+02, 3.300e+02, 2.750e+02, 9.230e+02, 3.190e+02,\n",
       "       1.036e+03, 1.538e+03, 4.160e+02, 8.120e+02, 4.560e+02, 2.050e+02,\n",
       "       2.280e+02, 5.160e+02, 7.580e+02, 3.050e+02, 1.231e+03, 1.082e+03,\n",
       "       7.720e+02, 1.159e+03, 7.450e+02, 3.690e+02, 3.580e+02, 6.480e+02,\n",
       "       2.640e+02, 4.800e+01, 1.696e+03, 3.730e+02, 1.820e+02, 1.220e+03,\n",
       "       5.070e+02, 7.340e+02, 3.840e+02, 9.390e+02, 1.810e+02, 6.240e+02,\n",
       "       7.480e+02, 1.880e+03, 6.250e+02, 5.700e+02, 5.390e+02, 3.380e+02,\n",
       "       4.220e+02, 6.970e+02, 1.086e+03, 5.510e+02, 6.830e+02, 7.510e+02,\n",
       "       4.030e+02, 1.234e+03, 3.010e+02, 4.500e+02, 4.760e+02, 9.410e+02,\n",
       "       5.690e+02, 9.010e+02, 3.900e+02, 5.280e+02, 9.130e+02, 7.330e+02,\n",
       "       2.390e+02, 8.040e+02, 7.800e+02, 1.387e+03, 1.047e+03, 5.340e+02,\n",
       "       6.260e+02, 9.530e+02, 7.960e+02, 1.930e+02, 7.440e+02, 6.660e+02,\n",
       "       7.810e+02, 2.440e+02, 7.280e+02, 1.180e+03, 9.300e+02, 1.000e+02,\n",
       "       1.102e+03, 9.600e+01, 6.720e+02, 8.140e+02, 7.740e+02, 7.660e+02,\n",
       "       3.400e+02, 2.300e+02, 1.274e+03, 4.710e+02, 8.000e+01, 1.558e+03,\n",
       "       6.020e+02, 5.680e+02, 1.246e+03, 4.740e+02, 1.075e+03, 9.200e+02,\n",
       "       1.314e+03, 7.600e+02, 4.000e+02, 1.084e+03, 1.013e+03, 4.960e+02,\n",
       "       1.330e+03, 4.240e+02, 1.087e+03, 3.170e+02, 1.002e+03, 7.500e+02,\n",
       "       5.220e+02, 1.280e+02, 7.550e+02, 5.570e+02, 1.505e+03, 6.200e+02,\n",
       "       1.338e+03, 1.005e+03, 8.380e+02, 1.332e+03, 3.080e+02, 6.840e+02,\n",
       "       1.004e+03, 3.510e+02, 6.030e+02, 4.420e+02, 7.690e+02, 8.560e+02,\n",
       "       8.310e+02, 2.660e+02, 3.280e+02, 2.000e+00, 1.001e+03, 5.870e+02,\n",
       "       7.910e+02, 5.380e+02, 1.196e+03, 8.760e+02, 8.970e+02, 5.100e+02,\n",
       "       7.180e+02, 8.950e+02, 1.106e+03, 6.860e+02, 5.940e+02, 1.078e+03,\n",
       "       4.320e+02, 1.238e+03, 1.190e+02, 8.720e+02, 3.360e+02, 6.120e+02,\n",
       "       9.030e+02, 6.540e+02, 1.085e+03, 8.100e+02, 2.960e+02, 9.670e+02,\n",
       "       8.600e+02, 7.860e+02, 1.531e+03, 1.249e+03, 1.172e+03, 2.146e+03,\n",
       "       2.700e+01, 2.030e+02, 2.220e+02, 5.370e+02, 1.206e+03, 1.040e+03,\n",
       "       8.160e+02, 1.121e+03, 2.840e+02, 3.410e+02, 4.530e+02, 9.860e+02,\n",
       "       1.071e+03, 3.650e+02, 8.940e+02, 1.148e+03, 1.194e+03, 8.420e+02,\n",
       "       1.456e+03, 7.100e+02, 7.160e+02, 1.277e+03, 3.500e+02, 7.400e+02,\n",
       "       1.636e+03, 2.850e+02, 2.158e+03, 9.690e+02, 4.850e+02, 2.740e+02,\n",
       "       1.219e+03, 8.800e+01, 1.053e+03, 6.310e+02, 2.230e+02, 3.800e+02,\n",
       "       1.398e+03, 9.910e+02, 5.210e+02, 3.200e+01, 9.050e+02, 1.039e+03,\n",
       "       1.369e+03, 1.098e+03, 7.420e+02, 2.520e+02, 5.790e+02, 1.136e+03,\n",
       "       1.198e+03, 1.223e+03, 9.040e+02, 1.034e+03, 1.100e+02, 6.110e+02,\n",
       "       1.023e+03, 2.980e+02, 4.980e+02, 2.800e+01, 2.340e+02, 3.610e+02,\n",
       "       3.740e+02, 1.513e+03, 3.140e+02, 3.700e+02, 1.632e+03, 3.430e+02,\n",
       "       1.200e+03, 3.790e+02, 1.440e+02, 1.684e+03, 7.220e+02, 5.200e+02,\n",
       "       7.800e+01, 5.050e+02, 1.018e+03, 4.100e+01, 5.360e+02, 1.130e+02,\n",
       "       1.412e+03, 7.470e+02, 4.810e+02, 3.150e+02, 1.416e+03, 1.572e+03,\n",
       "       7.410e+02, 1.037e+03, 1.329e+03, 2.260e+02, 3.720e+02, 1.474e+03,\n",
       "       6.170e+02, 5.060e+02, 1.188e+03, 9.760e+02, 2.010e+02, 7.130e+02,\n",
       "       6.790e+02, 5.460e+02, 2.560e+02, 1.400e+03, 8.030e+02, 1.406e+03,\n",
       "       1.319e+03, 1.140e+02, 8.670e+02, 1.440e+03, 6.380e+02, 5.400e+01,\n",
       "       3.100e+02, 1.290e+03, 6.040e+02, 3.920e+02, 4.900e+02, 1.300e+02,\n",
       "       5.000e+01, 7.840e+02, 1.261e+03, 4.640e+02, 1.620e+02, 5.650e+02,\n",
       "       1.478e+03, 1.088e+03, 1.340e+02, 7.170e+02, 5.860e+02, 5.040e+02,\n",
       "       1.152e+03, 3.420e+02, 3.810e+02, 1.232e+03, 7.790e+02, 1.433e+03,\n",
       "       1.441e+03, 7.190e+02, 2.590e+02, 6.680e+02, 5.644e+03, 6.190e+02,\n",
       "       9.140e+02, 2.940e+02, 9.780e+02, 3.850e+02, 9.640e+02, 4.880e+02,\n",
       "       4.930e+02, 3.180e+02, 1.682e+03, 3.500e+01, 1.430e+03, 9.560e+02,\n",
       "       1.328e+03, 6.640e+02, 1.455e+03, 5.090e+02, 4.050e+02, 1.259e+03,\n",
       "       4.820e+02, 5.430e+02, 2.810e+02, 1.201e+03, 1.390e+03, 9.520e+02,\n",
       "       5.120e+02, 9.360e+02, 1.243e+03, 2.730e+02, 1.470e+03, 1.960e+02,\n",
       "       3.290e+02, 6.430e+02, 1.800e+02, 9.440e+02, 7.750e+02, 1.573e+03,\n",
       "       5.490e+02, 2.410e+02, 6.300e+02, 1.116e+03, 4.280e+02, 9.380e+02,\n",
       "       1.728e+03, 1.021e+03, 6.990e+02, 5.740e+02, 2.830e+02, 8.510e+02,\n",
       "       1.330e+02, 4.230e+02, 5.200e+01, 6.390e+02, 1.280e+03, 6.070e+02,\n",
       "       1.375e+03, 1.285e+03, 1.670e+02, 6.160e+02, 2.090e+02, 7.120e+02,\n",
       "       8.070e+02, 2.420e+02, 2.480e+02, 1.282e+03, 6.320e+02, 9.830e+02,\n",
       "       4.830e+02, 6.810e+02, 6.630e+02, 8.370e+02, 3.940e+02, 9.550e+02,\n",
       "       9.450e+02, 4.170e+02, 1.733e+03, 1.260e+02, 1.124e+03, 4.190e+02,\n",
       "       2.085e+03, 1.392e+03, 6.460e+02, 1.767e+03, 6.600e+02, 2.610e+02,\n",
       "       3.060e+02, 1.210e+02, 5.700e+01, 1.320e+02, 9.250e+02, 1.115e+03,\n",
       "       2.000e+02, 2.500e+02, 9.800e+02, 8.740e+02, 4.770e+02, 1.300e+03,\n",
       "       9.870e+02, 1.860e+02, 2.210e+02, 7.780e+02, 7.270e+02, 1.038e+03,\n",
       "       1.373e+03, 9.260e+02, 4.970e+02, 8.460e+02, 1.165e+03, 1.410e+02,\n",
       "       5.320e+02, 1.571e+03, 6.230e+02, 6.890e+02, 9.320e+02, 7.250e+02,\n",
       "       1.247e+03, 6.610e+02, 2.820e+02, 7.390e+02, 7.360e+02, 6.730e+02,\n",
       "       3.210e+02, 7.700e+02, 1.410e+03, 2.190e+02, 3.260e+02, 5.560e+02,\n",
       "       1.341e+03,       nan, 1.030e+03, 8.470e+02, 1.980e+02, 1.270e+03,\n",
       "       2.080e+02, 6.690e+02, 5.760e+02, 1.900e+02, 5.670e+02, 4.670e+02,\n",
       "       1.051e+03, 1.052e+03, 3.630e+02, 4.600e+02, 1.333e+03, 1.048e+03,\n",
       "       7.060e+02, 5.520e+02, 5.750e+02, 8.960e+02, 5.990e+02, 9.840e+02,\n",
       "       6.910e+02, 6.560e+02, 5.310e+02, 6.490e+02, 9.980e+02, 1.262e+03,\n",
       "       8.700e+02, 1.518e+03, 4.340e+02, 3.820e+02, 5.230e+02, 5.660e+02,\n",
       "       2.360e+02, 3.490e+02, 6.960e+02, 7.200e+02, 5.540e+02, 7.970e+02,\n",
       "       8.190e+02, 1.593e+03, 2.790e+02, 9.400e+01, 7.350e+02, 6.800e+01,\n",
       "       3.760e+02, 3.990e+02, 2.600e+02, 8.260e+02, 9.510e+02, 4.440e+02,\n",
       "       1.320e+03, 1.350e+03, 1.016e+03, 9.370e+02, 3.970e+02, 1.271e+03,\n",
       "       6.470e+02, 5.950e+02, 1.154e+03, 4.360e+02, 1.500e+02, 8.000e+02,\n",
       "       7.940e+02, 1.012e+03, 5.800e+02, 1.361e+03, 4.720e+02, 1.225e+03,\n",
       "       2.540e+02, 1.157e+03, 6.330e+02, 1.520e+02, 8.200e+02, 1.015e+03,\n",
       "       1.810e+03, 4.540e+02, 4.940e+02, 1.033e+03, 4.650e+02, 1.163e+03,\n",
       "       8.930e+02, 1.400e+02, 1.160e+02, 1.940e+02, 2.700e+02, 1.476e+03,\n",
       "       6.360e+02, 8.630e+02, 6.800e+02, 7.370e+02, 8.060e+02, 1.972e+03,\n",
       "       8.880e+02, 6.210e+02, 7.560e+02, 7.640e+02, 6.950e+02, 9.240e+02,\n",
       "       2.188e+03, 2.630e+02, 2.580e+02, 6.090e+02, 8.090e+02, 7.920e+02,\n",
       "       1.170e+03, 9.900e+02, 1.870e+02, 5.830e+02, 6.880e+02, 1.149e+03,\n",
       "       1.310e+02, 6.580e+02, 7.020e+02, 6.820e+02, 1.790e+02, 3.440e+02,\n",
       "       9.090e+02, 3.200e+02, 1.237e+03, 1.118e+03, 7.200e+01, 5.400e+02,\n",
       "       1.430e+02, 2.860e+02, 1.480e+03, 4.140e+02, 2.240e+02, 6.150e+02,\n",
       "       4.060e+02, 7.000e+01, 1.910e+02, 1.302e+03, 1.564e+03, 2.310e+02,\n",
       "       6.520e+02, 8.660e+02, 1.090e+03, 1.162e+03, 9.940e+02, 3.310e+02,\n",
       "       1.562e+03, 1.065e+03, 3.880e+02, 1.298e+03, 2.130e+02, 1.178e+03,\n",
       "       6.940e+02, 4.330e+02, 1.080e+02, 9.850e+02, 5.850e+02, 7.590e+02,\n",
       "       3.350e+02, 8.400e+02, 1.730e+02, 9.190e+02, 2.490e+02, 8.480e+02,\n",
       "       1.606e+03, 5.350e+02, 4.010e+03, 6.980e+02, 7.630e+02, 6.500e+01,\n",
       "       1.080e+03, 2.500e+01, 8.500e+02, 9.000e+02, 9.100e+02, 2.970e+02,\n",
       "       1.383e+03, 4.520e+02, 8.080e+02, 1.447e+03, 8.650e+02, 1.557e+03,\n",
       "       1.213e+03, 9.500e+02, 7.290e+02, 4.690e+02, 5.010e+02, 1.920e+02,\n",
       "       1.101e+03, 1.010e+03, 1.074e+03, 6.300e+01, 6.920e+02, 9.680e+02,\n",
       "       3.550e+02, 1.137e+03, 8.810e+02, 1.239e+03, 4.800e+02, 1.640e+03,\n",
       "       7.600e+01, 3.620e+02, 1.336e+03, 1.011e+03, 2.620e+02, 1.550e+02])"
      ]
     },
     "execution_count": 58,
     "metadata": {},
     "output_type": "execute_result"
    }
   ],
   "source": [
    "bsmt_df['BsmtFin SF 1'].unique()"
   ]
  },
  {
   "cell_type": "code",
   "execution_count": 59,
   "id": "38d5b5c7",
   "metadata": {},
   "outputs": [],
   "source": [
    "bsmt_df['BsmtFin SF 1'] = bsmt_df['BsmtFin SF 1'].fillna(0)"
   ]
  },
  {
   "cell_type": "code",
   "execution_count": 60,
   "id": "8e4bcf00",
   "metadata": {},
   "outputs": [
    {
     "data": {
      "text/plain": [
       "dtype('float64')"
      ]
     },
     "execution_count": 60,
     "metadata": {},
     "output_type": "execute_result"
    }
   ],
   "source": [
    "bsmt_df['BsmtFin SF 1'].dtypes"
   ]
  },
  {
   "cell_type": "code",
   "execution_count": 61,
   "id": "5309a27b",
   "metadata": {},
   "outputs": [
    {
     "data": {
      "text/plain": [
       "0"
      ]
     },
     "execution_count": 61,
     "metadata": {},
     "output_type": "execute_result"
    }
   ],
   "source": [
    "bsmt_df['BsmtFin SF 1'].isnull().sum()"
   ]
  },
  {
   "cell_type": "markdown",
   "id": "65bfc608",
   "metadata": {},
   "source": [
    "###### 6. BsmtFin Type 2"
   ]
  },
  {
   "cell_type": "code",
   "execution_count": 62,
   "id": "938ea18d",
   "metadata": {},
   "outputs": [
    {
     "data": {
      "text/plain": [
       "array(['Unf', 'Rec', nan, 'BLQ', 'GLQ', 'LwQ', 'ALQ'], dtype=object)"
      ]
     },
     "execution_count": 62,
     "metadata": {},
     "output_type": "execute_result"
    }
   ],
   "source": [
    "bsmt_df['BsmtFin Type 2'].unique()"
   ]
  },
  {
   "cell_type": "code",
   "execution_count": 63,
   "id": "73bdda05",
   "metadata": {},
   "outputs": [],
   "source": [
    "bsmt_df['BsmtFin Type 2'] = bsmt_df['BsmtFin Type 2'].fillna('NA')"
   ]
  },
  {
   "cell_type": "code",
   "execution_count": 64,
   "id": "893d74a5",
   "metadata": {},
   "outputs": [
    {
     "data": {
      "text/plain": [
       "0"
      ]
     },
     "execution_count": 64,
     "metadata": {},
     "output_type": "execute_result"
    }
   ],
   "source": [
    "bsmt_df['BsmtFin Type 2'].isnull().sum()"
   ]
  },
  {
   "cell_type": "markdown",
   "id": "5625e3b3",
   "metadata": {},
   "source": [
    "###### 7. BsmtFin SF 2"
   ]
  },
  {
   "cell_type": "code",
   "execution_count": 65,
   "id": "902929a3",
   "metadata": {},
   "outputs": [
    {
     "data": {
      "text/plain": [
       "array([   0.,  713.,  117., 1057.,  173.,  290.,  420.,  469.,   42.,\n",
       "        955.,  483.,  147.,  596.,  206.,  382.,  546.,  202.,  228.,\n",
       "        661.,  279.,  106.,  321.,  232.,  956.,  670.,  915.,  116.,\n",
       "       1080.,   80.,  215.,  144.,  590.,  149.,  281.,  297.,  612.,\n",
       "        468.,  891.,  622.,  507.,  432.,  852.,  108.,  128.,  294.,\n",
       "       1061.,  127.,  712.,  125.,  324.,  252.,  247.,   72.,  150.,\n",
       "        906.,  555.,   38.,  180.,   64.,  288.,  311.,  227.,  842.,\n",
       "        620.,  181.,  162.,  354.,  539.,  551.,  110.,  219.,  547.,\n",
       "        186.,  774.,  123.,  613.,  167.,  230.,  495.,  208.,  308.,\n",
       "        604.,  154.,  334.,  417.,  624.,  442.,  497.,  211., 1474.,\n",
       "        532.,  132.,  829., 1127.,  435.,  174.,  105.,  375.,  608.,\n",
       "       1039., 1063.,  264.,  270.,  259.,  531.,  488.,  500.,   41.,\n",
       "        177.,  169.,  344.,  869.,  182.,  768.,  119.,  619.,  345.,\n",
       "        645.,  278.,  113.,  466.,  522.,    6.,  377.,   92.,  859.,\n",
       "        479.,  239., 1083., 1085.,  441.,  841.,   40.,   60.,   68.,\n",
       "        102.,  156.,  692.,  400.,  823., 1037.,   81.,   96.,  465.,\n",
       "        600., 1120.,  284.,   nan,   66.,  811.,   28.,  286.,  168.,\n",
       "        374., 1073.,  175.,  387.,  380.,  850.,   76.,  722.,  306.,\n",
       "        748.,  159.,  120.,  419.,  373.,  351.,  196.,  688.,   93.,\n",
       "        982.,  580.,  121.,  262.,   52.,  474.,   35.,  210., 1393.,\n",
       "        723.,  499.,  263.,  506.,  138.,  258.,  276.,  273.,  450.,\n",
       "        526.,  364.,   95.,  486.,  761.,  201.,  240.,  875.,  872.,\n",
       "        163.,  557.,   12.,  404.,  529.,  411.,  492.,  750.])"
      ]
     },
     "execution_count": 65,
     "metadata": {},
     "output_type": "execute_result"
    }
   ],
   "source": [
    "bsmt_df['BsmtFin SF 2'].unique()"
   ]
  },
  {
   "cell_type": "code",
   "execution_count": 66,
   "id": "612ee014",
   "metadata": {},
   "outputs": [],
   "source": [
    "bsmt_df['BsmtFin SF 2'] = bsmt_df['BsmtFin SF 2'].fillna(0)"
   ]
  },
  {
   "cell_type": "code",
   "execution_count": 67,
   "id": "845ea028",
   "metadata": {},
   "outputs": [
    {
     "data": {
      "text/plain": [
       "0"
      ]
     },
     "execution_count": 67,
     "metadata": {},
     "output_type": "execute_result"
    }
   ],
   "source": [
    "bsmt_df['BsmtFin SF 2'].isnull().sum()"
   ]
  },
  {
   "cell_type": "markdown",
   "id": "715350d0",
   "metadata": {},
   "source": [
    "###### 8. Bsmt Unf SF"
   ]
  },
  {
   "cell_type": "code",
   "execution_count": 68,
   "id": "bd548ae5",
   "metadata": {},
   "outputs": [
    {
     "data": {
      "text/plain": [
       "array([ 192.,  276.,  326.,  384.,  676.,  557.,    0.,  188.,  632.,\n",
       "        390.,   96.,  815.,  147., 1327., 1430.,  624.,  470.,  660.,\n",
       "        732.,  402.,  343., 1209.,  233.,  141.,  224.,  336.,  957.,\n",
       "        672., 1420.,  792.,  507.,  417.,  160.,   36., 1139.,  570.,\n",
       "        136.,  690., 1050.,  134.,  398.,  156.,  776.,  412.,  764.,\n",
       "        403.,  500.,  133.,  370.,  216.,  292.,  190.,  450.,  778.,\n",
       "        628., 1120.,  328.,  576.,  727.,  914.,  285.,  976., 1802.,\n",
       "       1346.,  162., 1140.,  970., 1616.,  768.,  872.,  520.,  662.,\n",
       "        936.,  448.,  312.,  876.,  325., 1251.,  551.,  588.,  320.,\n",
       "        599.,   98.,  122.,  138., 1081.,  550.,  250.,  408.,  547.,\n",
       "        180.,  245.,  114.,  191.,   32.,  595.,  269.,  978., 1078.,\n",
       "       1116.,  308., 1290.,  587.,  107.,  706.,  565.,  161., 1008.,\n",
       "        584.,  707.,  637.,  113.,  367.,  677.,  466.,  100.,  396.,\n",
       "         25.,  780., 1530., 1528.,  744.,  381.,  218.,  610.,  459.,\n",
       "        606.,  144.,  888.,  220., 1752.,  522., 1191.,  171.,  710.,\n",
       "        816., 1040.,  108.,  175.,  572.,  544.,  324., 1218.,  342.,\n",
       "        567., 1313.,  252.,  327., 1121.,  268.,  334., 1257.,  983.,\n",
       "        556.,  479., 1234., 1090.,  748., 1450.,  832.,  728., 2336.,\n",
       "         27., 1066.,  554.,  242., 1026., 1374.,  426., 1162., 1436.,\n",
       "        126., 1232.,  481.,  920.,  750.,  135., 2062.,   93.,  278.,\n",
       "        341., 1122.,  195.,  366.,  678.,  540.,  201.,  504.,  206.,\n",
       "        305.,  496., 1404., 1342.,  316.,  164.,  849.,  354.,  226.,\n",
       "        619., 1242.,  150.,  228.,  223.,  340.,  801.,  438.,  538.,\n",
       "        480.,  140., 1145.,  286.,  348.,  319.,  600., 1765.,  317.,\n",
       "       1362.,   99.,  142., 1357.,   23.,  270.,  596.,  831.,  432.,\n",
       "       1527.,  891.,   35., 1503.,  186.,  288.,  248.,  864.,  821.,\n",
       "        429.,  416.,  406.,  102.,  721.,  784.,  184.,  240.,  409.,\n",
       "        951.,  280., 1296.,  889., 1800.,  360.,  847., 1402.,  293.,\n",
       "       1656.,  958., 1969.,  661.,  585.,  844.,  686.,  901.,   90.,\n",
       "        210., 1074.,  671.,  602.,  125.,   75.,   78.,  163., 1795.,\n",
       "        166.,  560.,  912., 1774., 1013.,  698., 1057.,  413.,  462.,\n",
       "       1704.,  798.,  611.,  322.,  440.,  344.,  774.,  307.,  930.,\n",
       "        232., 1114.,  530.,  960.,  932.,  755., 1558.,  427., 1721.,\n",
       "        473.,  702.,  777.,  207., 1590.,  571.,  121.,  378., 1093.,\n",
       "        111.,  811.,  649.,  684.,  756.,  392.,  212.,  464.,  717.,\n",
       "        239.,  738.,  898.,  476.,  217., 1638.,   34.,  490.,  264.,\n",
       "        604., 1129., 1168.,   26., 1689.,   53.,  282., 1228.,   72.,\n",
       "       1442., 1406.,  258.,  545.,   89.,  794.,   83.,  112.,  736.,\n",
       "        415.,  128.,  613., 1302., 1077.,  104.,  356.,  747.,  569.,\n",
       "       1566.,  741.,  526.,  294.,  200.,  945.,  284.,  437.,  742.,\n",
       "        680.,  225.,  404.,  808.,   38.,  583.,  969., 1064., 1736.,\n",
       "        630.,  840.,  799.,  306., 1468.,  300., 1824.,  198.,  716.,\n",
       "        484.,  238.,  235.,  785.,  363.,  622., 1678.,  262.,  749.,\n",
       "         94.,  620.,  879.,  510.,  866.,  485.,  515., 1075.,  723.,\n",
       "        928.,  896.,  862.,  769.,  858., 1324., 1276., 1104., 1515.,\n",
       "        486.,  712.,  137., 1097.,  298., 1768.,  474.,  967., 1836.,\n",
       "        197.,  664.,  331.,  488.,  460., 1602.,  382., 1630.,  726.,\n",
       "        230., 1063.,  106., 1020.,   86., 1314.,  689.,  992.,  251.,\n",
       "        673.,  528.,  346.,  910.,  880.,  918.,  295.,  656.,  124.,\n",
       "        836.,  645.,  457.,  767.,  405.,  222., 1434.,  917.,  132.,\n",
       "       1095.,  574.,  752.,   70., 1195.,  168.,  383., 1246.,  386.,\n",
       "        495.,  274.,  546.,  725.,  442.,  666., 1204., 1141.,  148.,\n",
       "        187.,  362., 1580.,  424.,  103.,  256.,   82.,  410.,  828.,\n",
       "       1694.,  397.,  549.,   50., 1604., 1164., 1041.,  796.,  431.,\n",
       "       1594.,  357.,  208.,  369.,  350.,  130., 1632., 1092., 1118.,\n",
       "        129., 1098.,   60., 1560.,  793.,   42.,  399.,  443.,  988.,\n",
       "       1491.,  117.,  323.,   80.,  577.,  846.,  533.,  652.,  797.,\n",
       "        423.,  176.,  739.,   56.,  663.,  779.,  720., 1043.,  379.,\n",
       "        213.,  715.,  636.,  848.,  395., 1526., 1258.,  814.,  380.,\n",
       "        823.,  169.,  249.,  261.,  189.,  420.,  234., 1143., 1046.,\n",
       "        172., 1180.,  467.,  593., 1144., 1486., 1007., 1550.,  120.,\n",
       "       1211., 1323.,  724.,  868., 1184.,  411.,  303., 1480., 1614.,\n",
       "       1498.,  414.,  297.,   77.,  215., 1100., 1087.,  935.,  433.,\n",
       "        499., 1453.,  789.,  482.,   79.,  927.,  321.,  952., 1022.,\n",
       "       1390., 1496.,  938., 1117.,  131.,  590.,  425.,  646.,  953.,\n",
       "       1428.,  536.,   55.,  279.,  939.,  516., 1489.,  149.,  318.,\n",
       "        153.,  517., 1017.,  296., 1598., 1158., 1794.,  905.,  765.,\n",
       "        174.,  616., 1728.,  564.,  253.,  525.,  972.,  740.,  971.,\n",
       "       1280.,  214.,   45.,  679.,  203.,  975., 1316.,  760.,  477.,\n",
       "        445.,  924.,  281., 1107.,   30., 1330.,  332.,  534.,  638.,\n",
       "        884., 1958.,  903.,  455.,  527., 1307.,  422.,  833.,  758.,\n",
       "        809.,  441.,  506.,  575.,  916., 1152., 1032.,  860.,  830.,\n",
       "        697.,  580.,  463., 1240.,  761.,  419., 1508., 1510.,  850.,\n",
       "       1351.,  692.,  428.,  177., 1319.,  143.,  105., 1626.,  586.,\n",
       "        819.,  339., 1237., 1603.,  456., 1413.,  310.,  675.,  961.,\n",
       "         17.,  468.,  237.,  788., 1488.,  783., 1410.,  372., 1373.,\n",
       "        647.,  115.,  265.,  349.,  247.,   92.,  996.,  704., 1293.,\n",
       "        791.,  852.,  713.,  271., 1349., 1424., 1573.,  330., 1473.,\n",
       "        400.,  221.,  513., 1753., 1272., 1214.,  219.,  548.,  393.,\n",
       "       1270.,  746.,  781.,  773.,  618.,  782.,  263.,  254.,  333.,\n",
       "       1405.,  231.,  834.,   57., 1082.,  246.,  181.,  498.,  709.,\n",
       "       1335.,  771.,  542.,  683., 1273., 1042.,  718.,   58., 1482.,\n",
       "        594.,   54.,   nan, 1018., 1094.,  579., 1194., 1706.,  552.,\n",
       "       1664.,  389.,  730.,  700.,  444., 1649.,   15.,  940., 1905.,\n",
       "        299., 1568., 1217.,  487.,  434.,  598.,  925.,  505.,  352.,\n",
       "        167.,  359., 1262.,  170.,  851., 1010., 1584.,  301.,  813.,\n",
       "        931., 1200.,  559.,   88.,  165.,  635.,  109.,  655.,   46.,\n",
       "        475., 1326.,  185.,  291.,  705.,  430.,  461.,  810., 1368.,\n",
       "        641.,   61.,  605.,  375.,   76.,  626., 1212.,  640.,  532.,\n",
       "        882.,  948.,   33.,  541.,  581., 1494.,  503., 1088., 1595.,\n",
       "       1680., 1198.,  229.,  304.,  335.,  329., 1670., 2140.,  977.,\n",
       "        345.,  314.,  501., 1422.,  266.,  521.,  447.,  435.,  763.,\n",
       "        644.,  182.,  508., 1073., 1461.,  388., 1504.,  193., 1254.,\n",
       "        452., 1012.,  118.,  255.,  735., 1474.,  802., 1249.,  277.,\n",
       "       1495., 1574., 2121., 1588., 1851.,   81.,  364., 1055., 1380.,\n",
       "        806.,  835., 1099.,  483.,  236., 1054.,  309.,   48.,  568.,\n",
       "        963., 1926.,  454.,  502.,  311., 1048.,  722.,  465., 1582.,\n",
       "        631.,  908.,  825.,  733.,  892.,  204.,  817.,  275.,  877.,\n",
       "        608., 1710.,  374., 1332., 1250., 1935., 1266.,  612., 1497.,\n",
       "        674.,  173., 1734., 1179.,  539.,  818.,  127.,  625.,  658.,\n",
       "        894., 1400.,  995.,  436., 1030., 2153., 1660.,  561.,  874.,\n",
       "        592.,  770., 1286., 1348.,  878., 1451.,  861.,  974., 1519.,\n",
       "        729.,  449., 1125., 1375.,  155., 1085., 1304.,  289.,  110.,\n",
       "        361., 1411.,  621., 1393.,  158.,  494.,  589.,  762., 1221.,\n",
       "       1341.,  643., 1777.,   84., 1470.,  365., 1146., 1907., 1685.,\n",
       "        693.,  745.,  772., 1065., 1559., 1153.,   20.,  845.,  667.,\n",
       "        179., 1252., 1298.,  926.,  734., 1347., 1556., 1203.,  338.,\n",
       "        859., 1115.,  701.,  873.,  994.])"
      ]
     },
     "execution_count": 68,
     "metadata": {},
     "output_type": "execute_result"
    }
   ],
   "source": [
    "bsmt_df['Bsmt Unf SF'].unique()"
   ]
  },
  {
   "cell_type": "code",
   "execution_count": 69,
   "id": "84efea87",
   "metadata": {},
   "outputs": [],
   "source": [
    "bsmt_df['Bsmt Unf SF'] = bsmt_df['Bsmt Unf SF'].fillna(0)"
   ]
  },
  {
   "cell_type": "code",
   "execution_count": 70,
   "id": "e4ff82ac",
   "metadata": {},
   "outputs": [
    {
     "data": {
      "text/plain": [
       "0"
      ]
     },
     "execution_count": 70,
     "metadata": {},
     "output_type": "execute_result"
    }
   ],
   "source": [
    "bsmt_df['Bsmt Unf SF'].isnull().sum()"
   ]
  },
  {
   "cell_type": "markdown",
   "id": "ff523dac",
   "metadata": {},
   "source": [
    "###### 9. Total Bsmt SF"
   ]
  },
  {
   "cell_type": "code",
   "execution_count": 71,
   "id": "9d894e69",
   "metadata": {
    "scrolled": true
   },
   "outputs": [
    {
     "data": {
      "text/plain": [
       "array([ 725.,  913., 1057.,  384.,  676., 1517.,  547., 1188.,  924.,\n",
       "       1040.,  483., 1208.,    0.,  960., 1351., 1430.,  624., 1121.,\n",
       "        660.,  756.,  894., 1501., 1209., 1168., 1056., 1453.,  942.,\n",
       "        957.,  672., 2524.,  792., 1494.,  948., 1705.,  160.,  757.,\n",
       "       1844., 1242.,  990., 1256., 2076., 1097., 1050.,  608.,  984.,\n",
       "        776.,  764., 1122., 1392.,  546.,  216.,  663.,  600.,  936.,\n",
       "        916., 1152., 1184., 1420., 1382., 1120.,  531.,  976., 1802.,\n",
       "       1362., 1508., 1840.,  655.,  970., 1616.,  768.,  872.,  520.,\n",
       "       1105.,  616., 2216.,  876.,  864., 1189., 1666., 1176.,  928.,\n",
       "       1288., 1427.,  860.,  754., 1141., 1138., 1561., 1342., 1884.,\n",
       "        528., 1426.,  245.,  804., 1153.,  673.,  714.,  690.,  978.,\n",
       "       1078., 1116., 1140., 1466., 1614.,  988.,  996., 1202., 1008.,\n",
       "        720.,  994.,  707.,  637.,  813., 1055.,  855., 1719.,  780.,\n",
       "       1554., 1528.,  982., 1172., 1642.,  884., 1422.,  985.,  888.,\n",
       "       1992., 1478.,  930.,  912., 1326., 1191., 1070.,  816.,  929.,\n",
       "        536.,  572., 1060.,  381., 1218.,  728., 1271., 1313.,  783.,\n",
       "       1092., 1311., 1257., 1683., 1485., 1234., 1398.,  966., 1567.,\n",
       "       1090., 1248., 1570., 1450.,  832., 2392.,  530., 1017., 1066.,\n",
       "        918., 1370., 1068., 1374., 1004., 1162., 1436., 1196., 1031.,\n",
       "        448., 1505.,  920.,  750., 2062., 1602., 1114., 1224.,  741.,\n",
       "       1702., 1461., 1265.,  856.,  504., 1592.,  896., 1022., 1444.,\n",
       "       1124., 1625., 1064.,  907.,  348., 1581., 1336.,  801., 1113.,\n",
       "        911.,  420., 1575., 1059., 1005., 1765.,  833., 1058.,  914.,\n",
       "       1373.,  716.,  882.,  915., 1800.,  831., 1190., 2190., 1582.,\n",
       "        891., 1344., 1652.,  570.,  848., 1291.,  462., 1067., 1230.,\n",
       "       1151.,  704.,  416., 1329.,  721.,  784.,  735., 1220., 1778.,\n",
       "        825.,  951., 1752., 1094., 1080.,  847., 1402., 1051.,  755.,\n",
       "       1656., 3200.,  661.,  585., 1620.,  844.,  686.,  992.,  901.,\n",
       "       1249.,  955., 1074.,  602.,  588.,  836.,  648.,  713., 1795.,\n",
       "        560.,  972., 1822., 1013.,  698., 2109.,  943., 1704.,  798.,\n",
       "        793., 1542.,  910.,  824.,  774., 1246.,  800.,  925., 1144.,\n",
       "       2223.,  932., 1686., 1721., 1012., 1029.,  777., 1590., 1268.,\n",
       "       1086., 1671.,  794.,  811.,  649.,  684., 1143.,  740.,  778.,\n",
       "       1698.,  738., 1348.,  952., 1158., 1638.,  731., 1187.,  880.,\n",
       "       1177., 1337.,  551., 1128.,  290.,  456., 1129., 1562.,  650.,\n",
       "       1689., 1100., 1228., 1025., 1442., 1406., 1054., 1460.,  840.,\n",
       "        736., 1595., 1302., 1502.,  192., 1408., 1077., 1028.,  799.,\n",
       "       1566.,  765.,  835.,  945., 2220.,  886., 1462.,  949.,  742.,\n",
       "        680., 1792., 1479.,  808., 1986.,  583.,  969., 1736.,  630.,\n",
       "       1452., 1393., 1468., 1204., 1824.,  484., 1868.,  622., 1240.,\n",
       "       1722., 1678., 1267., 1587., 1728.,  879.,  866.,  485., 1199.,\n",
       "       1310.,  644., 1095., 1075., 1216.,  747.,  862., 1538.,  858.,\n",
       "        319., 1324., 1276., 1104.,  819., 1405., 1127., 1164., 1001.,\n",
       "       1073., 1768., 1350.,  967.,  828.,  576., 1836., 1241.,  908.,\n",
       "       1254., 1630., 1165., 1259., 1174., 1475., 1536., 1063., 1020.,\n",
       "        946.,  995., 1338.,  689., 1260., 1782., 1922., 1700., 2492.,\n",
       "        991., 2048., 1766.,  405.,  677., 1149., 1512., 1454.,  812.,\n",
       "        917., 1037., 1389.,  440., 1096., 1032., 1148., 1357., 1195.,\n",
       "       1624., 1484., 1170., 1154., 2078., 1455., 2458.,  732., 1117.,\n",
       "        636., 1580., 1643., 1309.,  868., 1041.,  481., 1694.,  432.,\n",
       "       1193., 1606., 1604.,  981.,  450.,  796., 1463., 1594., 1262.,\n",
       "       1175., 1247., 1738., 1568., 1377.,  752., 1142., 1381., 1626.,\n",
       "       1198., 1560., 1047., 1491., 1645.,  631., 1710., 1253., 1748.,\n",
       "        870.,  533., 1361.,  797.,  973.,  900., 1269., 1039., 1156.,\n",
       "        845., 2461.,  423., 1200., 1650.,  525.,  715., 2320.,  941.,\n",
       "        611., 1546.,  940., 1504.,  822.,  651., 1673., 1046.,  935.,\n",
       "       1180.,  815., 1486., 1286., 1385., 1858., 1007., 1550., 1235.,\n",
       "       1052., 1829., 1480., 1490., 1150., 1440., 1525., 1106., 1500.,\n",
       "        826., 1902., 1498.,  297., 1319., 1081., 1024.,  944.,  853.,\n",
       "        770.,  729., 1160., 1425.,  662., 1489., 1833.,  789., 1518.,\n",
       "       1391., 1251., 2035., 1578., 1684., 1088., 1414., 1496., 1072.,\n",
       "       1048.,  931., 1742.,  953., 1428.,  610., 1433., 1019., 2158.,\n",
       "        264.,  279.,  939., 6110.,  612.,  782., 1244.,  666., 1510.,\n",
       "        550., 1978., 1598., 1809., 1065., 1002., 1282., 1994., 1522.,\n",
       "       1529., 1680., 1838.,  675., 1617., 1145., 1431.,  923., 1237.,\n",
       "       1390., 1093.,  922., 1126., 1280.,  771., 1524., 1516., 1316.,\n",
       "        760.,  806.,  727., 1107., 1573., 1221.,  691., 1346.,  385.,\n",
       "       1364., 1317., 2418., 1386., 1555., 1541., 1958.,  903.,  938.,\n",
       "       1378., 1010., 1181.,  861., 1682., 1950., 1845., 1416.,  830.,\n",
       "       1473., 1226., 1564.,  482.,  396., 1166.,  850., 2633., 1061.,\n",
       "       1290., 1675., 1300.,  980., 1419., 2014., 1203., 3206., 1552.,\n",
       "       1413., 1488., 2271.,  961., 1409., 3094., 1232., 1410., 1099.,\n",
       "        892., 1763.,  190., 1314., 1278., 1274., 1641.,  540., 1027.,\n",
       "       1112., 1380., 1084., 1347.,  392., 1293.,  791., 1334., 1069.,\n",
       "       1349., 1424., 1368., 1312., 2846.,  628.,  803.,  926.,  779.,\n",
       "       1753., 1272., 1214., 1565., 2217.,  697., 1964., 1270., 1179.,\n",
       "        746.,  781., 1898., 1531.,  494., 1134.,  979., 1258., 1082.,\n",
       "       1328.,  854.,  498., 1712., 1335., 1223., 1952., 1556., 1593.,\n",
       "       1273., 1042.,  773.,  718., 1482., 1679.,   nan, 1044.,  712.,\n",
       "       1194.,  895., 1706., 1664., 1621., 1734.,  849.,  950.,  874.,\n",
       "       1649.,  683.,  270., 1905., 2033.,  964., 1330., 1264.,  954.,\n",
       "       1036.,  975., 1760., 2108., 1696., 1034.,  851., 1584., 1632.,\n",
       "        702.,  506., 1358., 1281.,  744.,  409., 1306.,  372., 1000.,\n",
       "        516., 1612., 1003., 1045., 1487., 1746., 1976., 1212.,  561.,\n",
       "       1352.,  430.,  480., 1803., 1520.,  814., 1083., 1629., 1026.,\n",
       "       1318., 1325., 1569., 1437., 1670., 2140., 1219., 1739., 1842.,\n",
       "       1015., 1252., 1236., 1610., 1277., 1062., 1850.,  552.,  817.,\n",
       "        408., 1596., 1053., 1178., 2020., 1438.,  678., 1495., 1574.,\n",
       "        837., 2121., 1588.,  492., 1851., 2452.,  763., 2136., 1076.,\n",
       "        739., 2330.,  873., 1299., 1733., 1021., 1296., 1926., 1603.,\n",
       "       1395.,  502., 1860.,  859., 1476., 1401., 1331., 1365., 1657.,\n",
       "        788., 1470.,  956., 1600., 1332., 1250., 1935., 1049., 1266.,\n",
       "       1341.,  173., 1103.,  998.,  818.,  625.,  658., 1157., 1751.,\n",
       "       1400.,  656., 1030., 2153., 1660.,  458.,  592., 1215.,  983.,\n",
       "        839., 1372., 1533., 1511., 1089., 1720., 1519.,  842., 1577.,\n",
       "        989., 1125., 5095., 1304.,  626.,  810.,  699.,  963.,  795.,\n",
       "       1173., 1559., 1980., 2200., 1777., 1297., 1146., 1907., 1685.,\n",
       "        693.,  745., 1713.,  526., 2660., 2171., 1396., 1284., 1623.,\n",
       "        352.,  596.,  617., 1298.,  959., 1367.,  539., 1243.,  700.,\n",
       "       1572., 1932.])"
      ]
     },
     "execution_count": 71,
     "metadata": {},
     "output_type": "execute_result"
    }
   ],
   "source": [
    "bsmt_df['Total Bsmt SF'].unique()"
   ]
  },
  {
   "cell_type": "code",
   "execution_count": 72,
   "id": "7d2c882b",
   "metadata": {},
   "outputs": [],
   "source": [
    "bsmt_df['Total Bsmt SF'] = bsmt_df['Total Bsmt SF'].fillna(0)"
   ]
  },
  {
   "cell_type": "code",
   "execution_count": 73,
   "id": "f5a21041",
   "metadata": {},
   "outputs": [
    {
     "data": {
      "text/plain": [
       "0"
      ]
     },
     "execution_count": 73,
     "metadata": {},
     "output_type": "execute_result"
    }
   ],
   "source": [
    "bsmt_df['Total Bsmt SF'].isnull().sum()"
   ]
  },
  {
   "cell_type": "markdown",
   "id": "53501cf2",
   "metadata": {},
   "source": [
    "###### 10. Bsmt Full Bath"
   ]
  },
  {
   "cell_type": "code",
   "execution_count": 74,
   "id": "2824559b",
   "metadata": {},
   "outputs": [
    {
     "data": {
      "text/plain": [
       "array([ 0.,  1.,  2., nan,  3.])"
      ]
     },
     "execution_count": 74,
     "metadata": {},
     "output_type": "execute_result"
    }
   ],
   "source": [
    "bsmt_df['Bsmt Full Bath'].unique()"
   ]
  },
  {
   "cell_type": "markdown",
   "id": "7be92ba8",
   "metadata": {},
   "source": [
    "Bsmt Full Bath column is on a scale, hence the value given will be -1 so as not to mix up with 0 where the feature actually exists. <br>"
   ]
  },
  {
   "cell_type": "code",
   "execution_count": 75,
   "id": "d9b1e538",
   "metadata": {},
   "outputs": [],
   "source": [
    "bsmt_df['Bsmt Full Bath'] = bsmt_df['Bsmt Full Bath'].fillna(-1)"
   ]
  },
  {
   "cell_type": "code",
   "execution_count": 76,
   "id": "1656193a",
   "metadata": {},
   "outputs": [
    {
     "data": {
      "text/plain": [
       "0"
      ]
     },
     "execution_count": 76,
     "metadata": {},
     "output_type": "execute_result"
    }
   ],
   "source": [
    "bsmt_df['Bsmt Full Bath'].isnull().sum()"
   ]
  },
  {
   "cell_type": "markdown",
   "id": "b0129767",
   "metadata": {},
   "source": [
    "###### 11. Bsmt Half Bath"
   ]
  },
  {
   "cell_type": "code",
   "execution_count": 77,
   "id": "677fd0b5",
   "metadata": {},
   "outputs": [
    {
     "data": {
      "text/plain": [
       "array([ 0.,  1., nan,  2.])"
      ]
     },
     "execution_count": 77,
     "metadata": {},
     "output_type": "execute_result"
    }
   ],
   "source": [
    "bsmt_df['Bsmt Half Bath'].unique()"
   ]
  },
  {
   "cell_type": "markdown",
   "id": "416449d1",
   "metadata": {},
   "source": [
    "Bsmt Half Bath column is on a scale, hence the value given will be -1 so as not to mix up with 0 where the feature actually exists. <br>"
   ]
  },
  {
   "cell_type": "code",
   "execution_count": 78,
   "id": "af87858b",
   "metadata": {},
   "outputs": [],
   "source": [
    "bsmt_df['Bsmt Half Bath'] = bsmt_df['Bsmt Half Bath'].fillna(-1)"
   ]
  },
  {
   "cell_type": "code",
   "execution_count": 79,
   "id": "3d34d6a3",
   "metadata": {},
   "outputs": [
    {
     "data": {
      "text/plain": [
       "0"
      ]
     },
     "execution_count": 79,
     "metadata": {},
     "output_type": "execute_result"
    }
   ],
   "source": [
    "bsmt_df['Bsmt Half Bath'].isnull().sum()"
   ]
  },
  {
   "cell_type": "markdown",
   "id": "86762425",
   "metadata": {},
   "source": [
    "##### Checking bsmt_df"
   ]
  },
  {
   "cell_type": "code",
   "execution_count": 80,
   "id": "fb59968c",
   "metadata": {},
   "outputs": [
    {
     "data": {
      "text/plain": [
       "Bsmt Qual         0\n",
       "Bsmt Cond         0\n",
       "Bsmt Exposure     0\n",
       "BsmtFin Type 1    0\n",
       "BsmtFin SF 1      0\n",
       "BsmtFin Type 2    0\n",
       "BsmtFin SF 2      0\n",
       "Bsmt Unf SF       0\n",
       "Total Bsmt SF     0\n",
       "Bsmt Full Bath    0\n",
       "Bsmt Half Bath    0\n",
       "dtype: int64"
      ]
     },
     "execution_count": 80,
     "metadata": {},
     "output_type": "execute_result"
    }
   ],
   "source": [
    "bsmt_df.isnull().sum()"
   ]
  },
  {
   "cell_type": "code",
   "execution_count": 81,
   "id": "96f07143",
   "metadata": {},
   "outputs": [
    {
     "data": {
      "text/plain": [
       "(2051, 11)"
      ]
     },
     "execution_count": 81,
     "metadata": {},
     "output_type": "execute_result"
    }
   ],
   "source": [
    "bsmt_df.shape"
   ]
  },
  {
   "cell_type": "markdown",
   "id": "d362852c",
   "metadata": {},
   "source": [
    "There are no more null values for Bsmt data, and the shape and index remained unchanged."
   ]
  },
  {
   "cell_type": "markdown",
   "id": "c34803f2",
   "metadata": {},
   "source": [
    "### Dropping and merging new non-null dataframe into traindata dataframe"
   ]
  },
  {
   "cell_type": "code",
   "execution_count": 82,
   "id": "741cc040",
   "metadata": {},
   "outputs": [],
   "source": [
    "traindata = traindata.drop(columns=['Bsmt Qual', 'Bsmt Cond', 'Bsmt Exposure', 'BsmtFin Type 1',\n",
    "       'BsmtFin SF 1', 'BsmtFin Type 2', 'BsmtFin SF 2', 'Bsmt Unf SF',\n",
    "       'Total Bsmt SF', 'Bsmt Full Bath', 'Bsmt Half Bath'])"
   ]
  },
  {
   "cell_type": "code",
   "execution_count": 83,
   "id": "ae395d14",
   "metadata": {},
   "outputs": [],
   "source": [
    "traindata = traindata.merge(bsmt_df, left_index = True, right_index = True)"
   ]
  },
  {
   "cell_type": "code",
   "execution_count": 84,
   "id": "49db4881",
   "metadata": {},
   "outputs": [
    {
     "data": {
      "text/plain": [
       "(2051, 81)"
      ]
     },
     "execution_count": 84,
     "metadata": {},
     "output_type": "execute_result"
    }
   ],
   "source": [
    "traindata.shape"
   ]
  },
  {
   "cell_type": "code",
   "execution_count": 85,
   "id": "a6a87cb7",
   "metadata": {},
   "outputs": [
    {
     "data": {
      "text/html": [
       "<div>\n",
       "<style scoped>\n",
       "    .dataframe tbody tr th:only-of-type {\n",
       "        vertical-align: middle;\n",
       "    }\n",
       "\n",
       "    .dataframe tbody tr th {\n",
       "        vertical-align: top;\n",
       "    }\n",
       "\n",
       "    .dataframe thead th {\n",
       "        text-align: right;\n",
       "    }\n",
       "</style>\n",
       "<table border=\"1\" class=\"dataframe\">\n",
       "  <thead>\n",
       "    <tr style=\"text-align: right;\">\n",
       "      <th></th>\n",
       "      <th>Id</th>\n",
       "      <th>PID</th>\n",
       "      <th>MS SubClass</th>\n",
       "      <th>MS Zoning</th>\n",
       "      <th>Lot Frontage</th>\n",
       "      <th>Lot Area</th>\n",
       "      <th>Street</th>\n",
       "      <th>Alley</th>\n",
       "      <th>Lot Shape</th>\n",
       "      <th>Land Contour</th>\n",
       "      <th>...</th>\n",
       "      <th>Bsmt Cond</th>\n",
       "      <th>Bsmt Exposure</th>\n",
       "      <th>BsmtFin Type 1</th>\n",
       "      <th>BsmtFin SF 1</th>\n",
       "      <th>BsmtFin Type 2</th>\n",
       "      <th>BsmtFin SF 2</th>\n",
       "      <th>Bsmt Unf SF</th>\n",
       "      <th>Total Bsmt SF</th>\n",
       "      <th>Bsmt Full Bath</th>\n",
       "      <th>Bsmt Half Bath</th>\n",
       "    </tr>\n",
       "  </thead>\n",
       "  <tbody>\n",
       "    <tr>\n",
       "      <th>0</th>\n",
       "      <td>109</td>\n",
       "      <td>533352170</td>\n",
       "      <td>60</td>\n",
       "      <td>RL</td>\n",
       "      <td>0.0</td>\n",
       "      <td>13517</td>\n",
       "      <td>Pave</td>\n",
       "      <td>NA</td>\n",
       "      <td>IR1</td>\n",
       "      <td>Lvl</td>\n",
       "      <td>...</td>\n",
       "      <td>TA</td>\n",
       "      <td>No</td>\n",
       "      <td>GLQ</td>\n",
       "      <td>533.0</td>\n",
       "      <td>Unf</td>\n",
       "      <td>0.0</td>\n",
       "      <td>192.0</td>\n",
       "      <td>725.0</td>\n",
       "      <td>0.0</td>\n",
       "      <td>0.0</td>\n",
       "    </tr>\n",
       "    <tr>\n",
       "      <th>1</th>\n",
       "      <td>544</td>\n",
       "      <td>531379050</td>\n",
       "      <td>60</td>\n",
       "      <td>RL</td>\n",
       "      <td>43.0</td>\n",
       "      <td>11492</td>\n",
       "      <td>Pave</td>\n",
       "      <td>NA</td>\n",
       "      <td>IR1</td>\n",
       "      <td>Lvl</td>\n",
       "      <td>...</td>\n",
       "      <td>TA</td>\n",
       "      <td>No</td>\n",
       "      <td>GLQ</td>\n",
       "      <td>637.0</td>\n",
       "      <td>Unf</td>\n",
       "      <td>0.0</td>\n",
       "      <td>276.0</td>\n",
       "      <td>913.0</td>\n",
       "      <td>1.0</td>\n",
       "      <td>0.0</td>\n",
       "    </tr>\n",
       "    <tr>\n",
       "      <th>2</th>\n",
       "      <td>153</td>\n",
       "      <td>535304180</td>\n",
       "      <td>20</td>\n",
       "      <td>RL</td>\n",
       "      <td>68.0</td>\n",
       "      <td>7922</td>\n",
       "      <td>Pave</td>\n",
       "      <td>NA</td>\n",
       "      <td>Reg</td>\n",
       "      <td>Lvl</td>\n",
       "      <td>...</td>\n",
       "      <td>TA</td>\n",
       "      <td>No</td>\n",
       "      <td>GLQ</td>\n",
       "      <td>731.0</td>\n",
       "      <td>Unf</td>\n",
       "      <td>0.0</td>\n",
       "      <td>326.0</td>\n",
       "      <td>1057.0</td>\n",
       "      <td>1.0</td>\n",
       "      <td>0.0</td>\n",
       "    </tr>\n",
       "  </tbody>\n",
       "</table>\n",
       "<p>3 rows × 81 columns</p>\n",
       "</div>"
      ],
      "text/plain": [
       "    Id        PID  MS SubClass MS Zoning  Lot Frontage  Lot Area Street Alley  \\\n",
       "0  109  533352170           60        RL           0.0     13517   Pave    NA   \n",
       "1  544  531379050           60        RL          43.0     11492   Pave    NA   \n",
       "2  153  535304180           20        RL          68.0      7922   Pave    NA   \n",
       "\n",
       "  Lot Shape Land Contour  ... Bsmt Cond Bsmt Exposure BsmtFin Type 1  \\\n",
       "0       IR1          Lvl  ...        TA            No            GLQ   \n",
       "1       IR1          Lvl  ...        TA            No            GLQ   \n",
       "2       Reg          Lvl  ...        TA            No            GLQ   \n",
       "\n",
       "  BsmtFin SF 1 BsmtFin Type 2 BsmtFin SF 2 Bsmt Unf SF Total Bsmt SF  \\\n",
       "0        533.0            Unf          0.0       192.0         725.0   \n",
       "1        637.0            Unf          0.0       276.0         913.0   \n",
       "2        731.0            Unf          0.0       326.0        1057.0   \n",
       "\n",
       "   Bsmt Full Bath  Bsmt Half Bath  \n",
       "0             0.0             0.0  \n",
       "1             1.0             0.0  \n",
       "2             1.0             0.0  \n",
       "\n",
       "[3 rows x 81 columns]"
      ]
     },
     "execution_count": 85,
     "metadata": {},
     "output_type": "execute_result"
    }
   ],
   "source": [
    "traindata.head(3)"
   ]
  },
  {
   "cell_type": "markdown",
   "id": "65460e00",
   "metadata": {},
   "source": [
    "## 5. Fireplace Qu"
   ]
  },
  {
   "cell_type": "code",
   "execution_count": 86,
   "id": "ff63f3bf",
   "metadata": {},
   "outputs": [
    {
     "data": {
      "text/plain": [
       "array([nan, 'TA', 'Gd', 'Po', 'Ex', 'Fa'], dtype=object)"
      ]
     },
     "execution_count": 86,
     "metadata": {},
     "output_type": "execute_result"
    }
   ],
   "source": [
    "traindata['Fireplace Qu'].unique()"
   ]
  },
  {
   "cell_type": "markdown",
   "id": "c3f9a023",
   "metadata": {},
   "source": [
    "Replacing 'Fireplace Qu' with 'NA' since this feature does not exist."
   ]
  },
  {
   "cell_type": "code",
   "execution_count": 87,
   "id": "7c5e612e",
   "metadata": {},
   "outputs": [],
   "source": [
    "traindata['Fireplace Qu'] = traindata['Fireplace Qu'].fillna('NA')"
   ]
  },
  {
   "cell_type": "code",
   "execution_count": 88,
   "id": "304ab1af",
   "metadata": {},
   "outputs": [
    {
     "data": {
      "text/plain": [
       "0"
      ]
     },
     "execution_count": 88,
     "metadata": {},
     "output_type": "execute_result"
    }
   ],
   "source": [
    "traindata['Fireplace Qu'].isnull().sum()"
   ]
  },
  {
   "cell_type": "markdown",
   "id": "9945ccb2",
   "metadata": {},
   "source": [
    "## 6. Garage and its sub categories"
   ]
  },
  {
   "cell_type": "code",
   "execution_count": 89,
   "id": "5306282e",
   "metadata": {},
   "outputs": [
    {
     "data": {
      "text/html": [
       "<div>\n",
       "<style scoped>\n",
       "    .dataframe tbody tr th:only-of-type {\n",
       "        vertical-align: middle;\n",
       "    }\n",
       "\n",
       "    .dataframe tbody tr th {\n",
       "        vertical-align: top;\n",
       "    }\n",
       "\n",
       "    .dataframe thead th {\n",
       "        text-align: right;\n",
       "    }\n",
       "</style>\n",
       "<table border=\"1\" class=\"dataframe\">\n",
       "  <thead>\n",
       "    <tr style=\"text-align: right;\">\n",
       "      <th></th>\n",
       "      <th>Garage Type</th>\n",
       "      <th>Garage Yr Blt</th>\n",
       "      <th>Garage Finish</th>\n",
       "      <th>Garage Cars</th>\n",
       "      <th>Garage Area</th>\n",
       "      <th>Garage Qual</th>\n",
       "      <th>Garage Cond</th>\n",
       "    </tr>\n",
       "  </thead>\n",
       "  <tbody>\n",
       "    <tr>\n",
       "      <th>0</th>\n",
       "      <td>Attchd</td>\n",
       "      <td>1976.0</td>\n",
       "      <td>RFn</td>\n",
       "      <td>2.0</td>\n",
       "      <td>475.0</td>\n",
       "      <td>TA</td>\n",
       "      <td>TA</td>\n",
       "    </tr>\n",
       "    <tr>\n",
       "      <th>1</th>\n",
       "      <td>Attchd</td>\n",
       "      <td>1997.0</td>\n",
       "      <td>RFn</td>\n",
       "      <td>2.0</td>\n",
       "      <td>559.0</td>\n",
       "      <td>TA</td>\n",
       "      <td>TA</td>\n",
       "    </tr>\n",
       "    <tr>\n",
       "      <th>2</th>\n",
       "      <td>Detchd</td>\n",
       "      <td>1953.0</td>\n",
       "      <td>Unf</td>\n",
       "      <td>1.0</td>\n",
       "      <td>246.0</td>\n",
       "      <td>TA</td>\n",
       "      <td>TA</td>\n",
       "    </tr>\n",
       "  </tbody>\n",
       "</table>\n",
       "</div>"
      ],
      "text/plain": [
       "  Garage Type  Garage Yr Blt Garage Finish  Garage Cars  Garage Area  \\\n",
       "0      Attchd         1976.0           RFn          2.0        475.0   \n",
       "1      Attchd         1997.0           RFn          2.0        559.0   \n",
       "2      Detchd         1953.0           Unf          1.0        246.0   \n",
       "\n",
       "  Garage Qual Garage Cond  \n",
       "0          TA          TA  \n",
       "1          TA          TA  \n",
       "2          TA          TA  "
      ]
     },
     "execution_count": 89,
     "metadata": {},
     "output_type": "execute_result"
    }
   ],
   "source": [
    "garage_df = traindata.filter(regex=(\"Garage\"))\n",
    "garage_df.head(3)"
   ]
  },
  {
   "cell_type": "code",
   "execution_count": 90,
   "id": "3ed391b6",
   "metadata": {},
   "outputs": [
    {
     "data": {
      "text/plain": [
       "Index(['Garage Type', 'Garage Yr Blt', 'Garage Finish', 'Garage Cars',\n",
       "       'Garage Area', 'Garage Qual', 'Garage Cond'],\n",
       "      dtype='object')"
      ]
     },
     "execution_count": 90,
     "metadata": {},
     "output_type": "execute_result"
    }
   ],
   "source": [
    "garage_df.columns"
   ]
  },
  {
   "cell_type": "code",
   "execution_count": 91,
   "id": "ce77c4a1",
   "metadata": {},
   "outputs": [
    {
     "name": "stdout",
     "output_type": "stream",
     "text": [
      "<class 'pandas.core.frame.DataFrame'>\n",
      "RangeIndex: 2051 entries, 0 to 2050\n",
      "Data columns (total 7 columns):\n",
      " #   Column         Non-Null Count  Dtype  \n",
      "---  ------         --------------  -----  \n",
      " 0   Garage Type    1938 non-null   object \n",
      " 1   Garage Yr Blt  1937 non-null   float64\n",
      " 2   Garage Finish  1937 non-null   object \n",
      " 3   Garage Cars    2050 non-null   float64\n",
      " 4   Garage Area    2050 non-null   float64\n",
      " 5   Garage Qual    1937 non-null   object \n",
      " 6   Garage Cond    1937 non-null   object \n",
      "dtypes: float64(3), object(4)\n",
      "memory usage: 112.3+ KB\n"
     ]
    }
   ],
   "source": [
    "garage_df.info()"
   ]
  },
  {
   "cell_type": "code",
   "execution_count": 92,
   "id": "8ccc858a",
   "metadata": {},
   "outputs": [
    {
     "data": {
      "text/plain": [
       "Garage Type      113\n",
       "Garage Yr Blt    114\n",
       "Garage Finish    114\n",
       "Garage Cars        1\n",
       "Garage Area        1\n",
       "Garage Qual      114\n",
       "Garage Cond      114\n",
       "dtype: int64"
      ]
     },
     "execution_count": 92,
     "metadata": {},
     "output_type": "execute_result"
    }
   ],
   "source": [
    "garage_df.isnull().sum()"
   ]
  },
  {
   "cell_type": "code",
   "execution_count": 93,
   "id": "8163be32",
   "metadata": {},
   "outputs": [
    {
     "data": {
      "text/html": [
       "<div>\n",
       "<style scoped>\n",
       "    .dataframe tbody tr th:only-of-type {\n",
       "        vertical-align: middle;\n",
       "    }\n",
       "\n",
       "    .dataframe tbody tr th {\n",
       "        vertical-align: top;\n",
       "    }\n",
       "\n",
       "    .dataframe thead th {\n",
       "        text-align: right;\n",
       "    }\n",
       "</style>\n",
       "<table border=\"1\" class=\"dataframe\">\n",
       "  <thead>\n",
       "    <tr style=\"text-align: right;\">\n",
       "      <th></th>\n",
       "      <th>Garage Yr Blt</th>\n",
       "      <th>Garage Cars</th>\n",
       "      <th>Garage Area</th>\n",
       "    </tr>\n",
       "  </thead>\n",
       "  <tbody>\n",
       "    <tr>\n",
       "      <th>count</th>\n",
       "      <td>1937.000000</td>\n",
       "      <td>2050.000000</td>\n",
       "      <td>2050.000000</td>\n",
       "    </tr>\n",
       "    <tr>\n",
       "      <th>mean</th>\n",
       "      <td>1978.707796</td>\n",
       "      <td>1.776585</td>\n",
       "      <td>473.671707</td>\n",
       "    </tr>\n",
       "    <tr>\n",
       "      <th>std</th>\n",
       "      <td>25.441094</td>\n",
       "      <td>0.764537</td>\n",
       "      <td>215.934561</td>\n",
       "    </tr>\n",
       "    <tr>\n",
       "      <th>min</th>\n",
       "      <td>1895.000000</td>\n",
       "      <td>0.000000</td>\n",
       "      <td>0.000000</td>\n",
       "    </tr>\n",
       "    <tr>\n",
       "      <th>25%</th>\n",
       "      <td>1961.000000</td>\n",
       "      <td>1.000000</td>\n",
       "      <td>319.000000</td>\n",
       "    </tr>\n",
       "    <tr>\n",
       "      <th>50%</th>\n",
       "      <td>1980.000000</td>\n",
       "      <td>2.000000</td>\n",
       "      <td>480.000000</td>\n",
       "    </tr>\n",
       "    <tr>\n",
       "      <th>75%</th>\n",
       "      <td>2002.000000</td>\n",
       "      <td>2.000000</td>\n",
       "      <td>576.000000</td>\n",
       "    </tr>\n",
       "    <tr>\n",
       "      <th>max</th>\n",
       "      <td>2207.000000</td>\n",
       "      <td>5.000000</td>\n",
       "      <td>1418.000000</td>\n",
       "    </tr>\n",
       "  </tbody>\n",
       "</table>\n",
       "</div>"
      ],
      "text/plain": [
       "       Garage Yr Blt  Garage Cars  Garage Area\n",
       "count    1937.000000  2050.000000  2050.000000\n",
       "mean     1978.707796     1.776585   473.671707\n",
       "std        25.441094     0.764537   215.934561\n",
       "min      1895.000000     0.000000     0.000000\n",
       "25%      1961.000000     1.000000   319.000000\n",
       "50%      1980.000000     2.000000   480.000000\n",
       "75%      2002.000000     2.000000   576.000000\n",
       "max      2207.000000     5.000000  1418.000000"
      ]
     },
     "execution_count": 93,
     "metadata": {},
     "output_type": "execute_result"
    }
   ],
   "source": [
    "garage_df.describe()"
   ]
  },
  {
   "cell_type": "markdown",
   "id": "9424fc34",
   "metadata": {},
   "source": [
    "Garage Area has a <b>minimum</b> value of 0.00 likely signifying these properties with 0 area has no garage. <br>"
   ]
  },
  {
   "cell_type": "code",
   "execution_count": 94,
   "id": "b865c2f2",
   "metadata": {},
   "outputs": [],
   "source": [
    "garage_0 = garage_df[garage_df['Garage Area'] == 0]"
   ]
  },
  {
   "cell_type": "code",
   "execution_count": 95,
   "id": "16b65471",
   "metadata": {},
   "outputs": [
    {
     "data": {
      "text/html": [
       "<div>\n",
       "<style scoped>\n",
       "    .dataframe tbody tr th:only-of-type {\n",
       "        vertical-align: middle;\n",
       "    }\n",
       "\n",
       "    .dataframe tbody tr th {\n",
       "        vertical-align: top;\n",
       "    }\n",
       "\n",
       "    .dataframe thead th {\n",
       "        text-align: right;\n",
       "    }\n",
       "</style>\n",
       "<table border=\"1\" class=\"dataframe\">\n",
       "  <thead>\n",
       "    <tr style=\"text-align: right;\">\n",
       "      <th></th>\n",
       "      <th>Garage Yr Blt</th>\n",
       "      <th>Garage Cars</th>\n",
       "      <th>Garage Area</th>\n",
       "    </tr>\n",
       "  </thead>\n",
       "  <tbody>\n",
       "    <tr>\n",
       "      <th>count</th>\n",
       "      <td>0.0</td>\n",
       "      <td>113.0</td>\n",
       "      <td>113.0</td>\n",
       "    </tr>\n",
       "    <tr>\n",
       "      <th>mean</th>\n",
       "      <td>NaN</td>\n",
       "      <td>0.0</td>\n",
       "      <td>0.0</td>\n",
       "    </tr>\n",
       "    <tr>\n",
       "      <th>std</th>\n",
       "      <td>NaN</td>\n",
       "      <td>0.0</td>\n",
       "      <td>0.0</td>\n",
       "    </tr>\n",
       "    <tr>\n",
       "      <th>min</th>\n",
       "      <td>NaN</td>\n",
       "      <td>0.0</td>\n",
       "      <td>0.0</td>\n",
       "    </tr>\n",
       "    <tr>\n",
       "      <th>25%</th>\n",
       "      <td>NaN</td>\n",
       "      <td>0.0</td>\n",
       "      <td>0.0</td>\n",
       "    </tr>\n",
       "    <tr>\n",
       "      <th>50%</th>\n",
       "      <td>NaN</td>\n",
       "      <td>0.0</td>\n",
       "      <td>0.0</td>\n",
       "    </tr>\n",
       "    <tr>\n",
       "      <th>75%</th>\n",
       "      <td>NaN</td>\n",
       "      <td>0.0</td>\n",
       "      <td>0.0</td>\n",
       "    </tr>\n",
       "    <tr>\n",
       "      <th>max</th>\n",
       "      <td>NaN</td>\n",
       "      <td>0.0</td>\n",
       "      <td>0.0</td>\n",
       "    </tr>\n",
       "  </tbody>\n",
       "</table>\n",
       "</div>"
      ],
      "text/plain": [
       "       Garage Yr Blt  Garage Cars  Garage Area\n",
       "count            0.0        113.0        113.0\n",
       "mean             NaN          0.0          0.0\n",
       "std              NaN          0.0          0.0\n",
       "min              NaN          0.0          0.0\n",
       "25%              NaN          0.0          0.0\n",
       "50%              NaN          0.0          0.0\n",
       "75%              NaN          0.0          0.0\n",
       "max              NaN          0.0          0.0"
      ]
     },
     "execution_count": 95,
     "metadata": {},
     "output_type": "execute_result"
    }
   ],
   "source": [
    "garage_0.describe()"
   ]
  },
  {
   "cell_type": "markdown",
   "id": "71b5654a",
   "metadata": {},
   "source": [
    "From the description of the data above, it can be seen that Garage Area of 0 contains empty values or NaN values."
   ]
  },
  {
   "cell_type": "code",
   "execution_count": 96,
   "id": "9cbbb306",
   "metadata": {},
   "outputs": [
    {
     "data": {
      "text/plain": [
       "(113, 7)"
      ]
     },
     "execution_count": 96,
     "metadata": {},
     "output_type": "execute_result"
    }
   ],
   "source": [
    "garage_0.shape"
   ]
  },
  {
   "cell_type": "code",
   "execution_count": 97,
   "id": "e29469e7",
   "metadata": {},
   "outputs": [
    {
     "data": {
      "text/plain": [
       "(114, 7)"
      ]
     },
     "execution_count": 97,
     "metadata": {},
     "output_type": "execute_result"
    }
   ],
   "source": [
    "garage_df[garage_df.isna().any(axis=1)].shape"
   ]
  },
  {
   "cell_type": "markdown",
   "id": "dc3e504a",
   "metadata": {},
   "source": [
    "From the shape of the dataframe, we can see that there is one row where Garage Area is not equals to 0."
   ]
  },
  {
   "cell_type": "code",
   "execution_count": 98,
   "id": "c05f869b",
   "metadata": {},
   "outputs": [],
   "source": [
    "garage_nulls = garage_df[garage_df.isna().any(axis=1)]"
   ]
  },
  {
   "cell_type": "code",
   "execution_count": 99,
   "id": "8bdab969",
   "metadata": {},
   "outputs": [
    {
     "data": {
      "text/html": [
       "<div>\n",
       "<style scoped>\n",
       "    .dataframe tbody tr th:only-of-type {\n",
       "        vertical-align: middle;\n",
       "    }\n",
       "\n",
       "    .dataframe tbody tr th {\n",
       "        vertical-align: top;\n",
       "    }\n",
       "\n",
       "    .dataframe thead th {\n",
       "        text-align: right;\n",
       "    }\n",
       "</style>\n",
       "<table border=\"1\" class=\"dataframe\">\n",
       "  <thead>\n",
       "    <tr style=\"text-align: right;\">\n",
       "      <th></th>\n",
       "      <th>Garage Type</th>\n",
       "      <th>Garage Yr Blt</th>\n",
       "      <th>Garage Finish</th>\n",
       "      <th>Garage Cars</th>\n",
       "      <th>Garage Area</th>\n",
       "      <th>Garage Qual</th>\n",
       "      <th>Garage Cond</th>\n",
       "    </tr>\n",
       "  </thead>\n",
       "  <tbody>\n",
       "    <tr>\n",
       "      <th>1712</th>\n",
       "      <td>Detchd</td>\n",
       "      <td>NaN</td>\n",
       "      <td>NaN</td>\n",
       "      <td>NaN</td>\n",
       "      <td>NaN</td>\n",
       "      <td>NaN</td>\n",
       "      <td>NaN</td>\n",
       "    </tr>\n",
       "  </tbody>\n",
       "</table>\n",
       "</div>"
      ],
      "text/plain": [
       "     Garage Type  Garage Yr Blt Garage Finish  Garage Cars  Garage Area  \\\n",
       "1712      Detchd            NaN           NaN          NaN          NaN   \n",
       "\n",
       "     Garage Qual Garage Cond  \n",
       "1712         NaN         NaN  "
      ]
     },
     "execution_count": 99,
     "metadata": {},
     "output_type": "execute_result"
    }
   ],
   "source": [
    "garage_nulls1 = garage_nulls[garage_nulls['Garage Area'] != 0]\n",
    "garage_nulls1"
   ]
  },
  {
   "cell_type": "markdown",
   "id": "6bd8fc7b",
   "metadata": {},
   "source": [
    "From the row exception shown above, it can be seen that 'Detched' is an outlier category in this particular case where other columns such as 'Garage Yr Blt', 'Garage Cars' etc are also NaN. <br>\n",
    "It likely signifies that such a feature does not exist. <br>\n",
    "\n",
    "Hence, 'garage_df' NaN will be input as 'NA' as well as the category exception above."
   ]
  },
  {
   "cell_type": "markdown",
   "id": "c9d0f420",
   "metadata": {},
   "source": [
    "###### Checking Garage Columns"
   ]
  },
  {
   "cell_type": "code",
   "execution_count": 100,
   "id": "91a827ed",
   "metadata": {},
   "outputs": [
    {
     "data": {
      "text/plain": [
       "Index(['Garage Type', 'Garage Yr Blt', 'Garage Finish', 'Garage Cars',\n",
       "       'Garage Area', 'Garage Qual', 'Garage Cond'],\n",
       "      dtype='object')"
      ]
     },
     "execution_count": 100,
     "metadata": {},
     "output_type": "execute_result"
    }
   ],
   "source": [
    "garage_df.columns"
   ]
  },
  {
   "cell_type": "markdown",
   "id": "b694636c",
   "metadata": {},
   "source": [
    "###### 1. Garage Type"
   ]
  },
  {
   "cell_type": "code",
   "execution_count": 101,
   "id": "4ad79a32",
   "metadata": {},
   "outputs": [],
   "source": [
    "garage_df['Garage Type'][1712] = 'NA'"
   ]
  },
  {
   "cell_type": "code",
   "execution_count": 102,
   "id": "1da0fff9",
   "metadata": {},
   "outputs": [],
   "source": [
    "garage_df['Garage Type'] = garage_df['Garage Type'].fillna('NA')"
   ]
  },
  {
   "cell_type": "code",
   "execution_count": 103,
   "id": "1726a7d9",
   "metadata": {},
   "outputs": [
    {
     "data": {
      "text/plain": [
       "array(['Attchd', 'Detchd', 'BuiltIn', 'Basment', 'NA', '2Types',\n",
       "       'CarPort'], dtype=object)"
      ]
     },
     "execution_count": 103,
     "metadata": {},
     "output_type": "execute_result"
    }
   ],
   "source": [
    "garage_df['Garage Type'].unique()"
   ]
  },
  {
   "cell_type": "code",
   "execution_count": 104,
   "id": "0e4cf287",
   "metadata": {},
   "outputs": [
    {
     "data": {
      "text/plain": [
       "0"
      ]
     },
     "execution_count": 104,
     "metadata": {},
     "output_type": "execute_result"
    }
   ],
   "source": [
    "garage_df['Garage Type'].isnull().sum()"
   ]
  },
  {
   "cell_type": "markdown",
   "id": "8e4a8ca4",
   "metadata": {},
   "source": [
    "###### 2. Garage Yr Blt"
   ]
  },
  {
   "cell_type": "code",
   "execution_count": 105,
   "id": "1d35338e",
   "metadata": {},
   "outputs": [
    {
     "data": {
      "text/plain": [
       "array([1976., 1997., 1953., 2007., 1957., 1966., 2005., 1959., 1952.,\n",
       "       1969., 1971., 1900., 2000., 2004., 1916., 1963., 1977., 2009.,\n",
       "       1968., 1992., 1955., 1961., 1973., 1937.,   nan, 2003., 1981.,\n",
       "       1931., 1995., 1958., 1965., 2006., 1978., 1954., 1935., 1951.,\n",
       "       1996., 1999., 1920., 1930., 1924., 1960., 1949., 1986., 1956.,\n",
       "       1994., 1979., 1964., 2001., 1972., 1939., 1962., 1927., 1948.,\n",
       "       1967., 1993., 2010., 1915., 1987., 1970., 1988., 1982., 1941.,\n",
       "       1984., 1942., 1950., 2002., 1975., 2008., 1974., 1998., 1918.,\n",
       "       1938., 1985., 1923., 1980., 1991., 1946., 1940., 1990., 1896.,\n",
       "       1983., 1914., 1945., 1921., 1925., 1926., 1936., 1932., 1947.,\n",
       "       1929., 1910., 1917., 1922., 1934., 1989., 1928., 2207., 1933.,\n",
       "       1895., 1919.])"
      ]
     },
     "execution_count": 105,
     "metadata": {},
     "output_type": "execute_result"
    }
   ],
   "source": [
    "garage_df['Garage Yr Blt'].unique()"
   ]
  },
  {
   "cell_type": "code",
   "execution_count": 106,
   "id": "c90e7e3d",
   "metadata": {},
   "outputs": [],
   "source": [
    "garage_df['Garage Yr Blt'] = garage_df['Garage Yr Blt'].fillna(0)"
   ]
  },
  {
   "cell_type": "code",
   "execution_count": 107,
   "id": "168bc7a2",
   "metadata": {},
   "outputs": [
    {
     "data": {
      "text/plain": [
       "0"
      ]
     },
     "execution_count": 107,
     "metadata": {},
     "output_type": "execute_result"
    }
   ],
   "source": [
    "garage_df['Garage Yr Blt'].isnull().sum()"
   ]
  },
  {
   "cell_type": "markdown",
   "id": "58a21115",
   "metadata": {},
   "source": [
    "###### 3. Garage Finish"
   ]
  },
  {
   "cell_type": "code",
   "execution_count": 108,
   "id": "0d9595b0",
   "metadata": {},
   "outputs": [
    {
     "data": {
      "text/plain": [
       "array(['RFn', 'Unf', 'Fin', nan], dtype=object)"
      ]
     },
     "execution_count": 108,
     "metadata": {},
     "output_type": "execute_result"
    }
   ],
   "source": [
    "garage_df['Garage Finish'].unique()"
   ]
  },
  {
   "cell_type": "code",
   "execution_count": 109,
   "id": "76368f7c",
   "metadata": {},
   "outputs": [],
   "source": [
    "garage_df['Garage Finish'] = garage_df['Garage Finish'].fillna('NA')"
   ]
  },
  {
   "cell_type": "code",
   "execution_count": 110,
   "id": "496504ea",
   "metadata": {},
   "outputs": [
    {
     "data": {
      "text/plain": [
       "0"
      ]
     },
     "execution_count": 110,
     "metadata": {},
     "output_type": "execute_result"
    }
   ],
   "source": [
    "garage_df['Garage Finish'].isnull().sum()"
   ]
  },
  {
   "cell_type": "markdown",
   "id": "24e7687d",
   "metadata": {},
   "source": [
    "###### 4. Garage Cars"
   ]
  },
  {
   "cell_type": "code",
   "execution_count": 111,
   "id": "467b067f",
   "metadata": {},
   "outputs": [
    {
     "data": {
      "text/plain": [
       "array([ 2.,  1.,  3.,  0.,  4.,  5., nan])"
      ]
     },
     "execution_count": 111,
     "metadata": {},
     "output_type": "execute_result"
    }
   ],
   "source": [
    "garage_df['Garage Cars'].unique()"
   ]
  },
  {
   "cell_type": "markdown",
   "id": "8652896e",
   "metadata": {},
   "source": [
    "Garage cars is a category hence, null is assigned as -1."
   ]
  },
  {
   "cell_type": "code",
   "execution_count": 112,
   "id": "e3c412f9",
   "metadata": {},
   "outputs": [],
   "source": [
    "garage_df['Garage Cars'] = garage_df['Garage Cars'].fillna(-1)"
   ]
  },
  {
   "cell_type": "code",
   "execution_count": 113,
   "id": "dea85fb5",
   "metadata": {},
   "outputs": [
    {
     "data": {
      "text/plain": [
       "0"
      ]
     },
     "execution_count": 113,
     "metadata": {},
     "output_type": "execute_result"
    }
   ],
   "source": [
    "garage_df['Garage Cars'].isnull().sum()"
   ]
  },
  {
   "cell_type": "markdown",
   "id": "7704882f",
   "metadata": {},
   "source": [
    "###### 5. Garage Area"
   ]
  },
  {
   "cell_type": "code",
   "execution_count": 114,
   "id": "65fdbdef",
   "metadata": {
    "scrolled": true
   },
   "outputs": [
    {
     "data": {
      "text/plain": [
       "array([ 475.,  559.,  246.,  400.,  484.,  578.,  525.,  531.,  420.,\n",
       "        504.,  264.,  632.,  576.,  480.,  610.,  624.,  513.,  528.,\n",
       "        614.,  450.,  499.,  575.,  572.,  530.,  336.,  240.,    0.,\n",
       "        542.,  481.,  410.,  826.,  384.,  546.,  276.,  850.,  602.,\n",
       "        352.,  786.,  660.,  270.,  280.,  474.,  440.,  564.,  299.,\n",
       "        293.,  386.,  671.,  550.,  690.,  225.,  350.,  216.,  380.,\n",
       "        843.,  539.,  834.,  322., 1166.,  720.,  392.,  555.,  252.,\n",
       "        502.,  516.,  608.,  495.,  396.,  556.,  725.,  670.,  560.,\n",
       "        501.,  490.,  286.,  360.,  479.,  626.,  470.,  304.,  864.,\n",
       "        403.,  579.,  288.,  473.,  627.,  758.,  431.,  260.,  366.,\n",
       "        852.,  672.,  486.,  656.,  716.,  442.,  297.,  388.,  461.,\n",
       "        447.,  619.,  308.,  506.,  319.,  676.,  312.,  478.,  342.,\n",
       "        393.,  983.,  923.,  487.,  543.,  453.,  541.,  754.,  666.,\n",
       "        529.,  714.,  968.,  788.,  812.,  600.,  483.,  300.,  430.,\n",
       "        230.,  505.,  368.,  618.,  402.,  658., 1052.,  642.,  510.,\n",
       "        509.,  451.,  569.,  460.,  462.,  256.,  751.,  231.,  257.,\n",
       "        650.,  795.,  429.,  435.,  452.,  944.,  493.,  552.,  780.,\n",
       "        784.,  928.,  263.,  295.,  477.,  356.,  234.,  294.,  649.,\n",
       "        565.,  715.,  438.,  349.,  675.,  702.,  783.,  433.,  625.,\n",
       "        686., 1150.,  441.,  390.,  162., 1356.,  880.,  180.,  364.,\n",
       "        434.,  895.,  220.,  305.,  330.,  774.,  839.,  814.,  250.,\n",
       "        281.,  680.,  796.,  612.,  874.,  888.,  412.,  756.,  394.,\n",
       "        924.,  768.,  498.,  404.,  228.,  870.,  320.,  577.,  596.,\n",
       "        324.,  828.,  615.,  540.,  326.,  496.,  198.,  436.,  210.,\n",
       "        806.,  471.,  648.,  389.,  215.,  890.,  765.,  638.,  724.,\n",
       "        444.,  521.,  746.,  588.,  691.,  630.,  558.,  898.,  858.,\n",
       "        668.,  574.,  932.,  316.,  846., 1085.,  338.,  842.,  255.,\n",
       "        545.,  590.,  208.,  408.,  282.,  511.,  532.,  489.,  492.,\n",
       "        482.,  432.,  698.,  517.,  750.,  520.,  554.,  810.,  449.,\n",
       "        375.,  514.,  947., 1017.,  598.,  500.,  160.,  949.,  265.,\n",
       "        816.,  527.,  488.,  678.,  871.,  437.,  729.,  845.,  628.,\n",
       "        357.,  418.,  779.,  358.,  757., 1220.,  327.,  472.,  830.,\n",
       "        739.,  164.,  200.,  818.,  616.,  712.,  831.,  857.,  585.,\n",
       "        351.,  422.,  271.,  275.,  557.,  497.,  684.,  772.,  899.,\n",
       "        800.,  205.,  512.,  267.,  583.,  427.,  573.,  603., 1174.,\n",
       "        841.,  840.,  704.,  700.,  692.,  439.,  311.,  535.,  283.,\n",
       "        620.,  313.,  399.,  859.,  570.,  591.,  567.,  726.,  592.,\n",
       "        100.,  401.,  534.,  760.,  378.,  406., 1053.,  674.,  868.,\n",
       "        856.,  456.,  494.,  306., 1184.,  844.,  597.,  925.,  701.,\n",
       "        639., 1418.,  353.,  522.,  902.,  662.,  878.,  663.,  682.,\n",
       "        317.,  303.,  683.,  405.,  611.,  213.,  594.,  463.,  310.,\n",
       "        912.,  728.,  323., 1138.,  776.,  254.,  370.,  706.,  604.,\n",
       "        296.,  792.,  195.,  606.,  804.,  866.,  744., 1105.,  721.,\n",
       "        782.,  605.,  372., 1348.,  789.,  515.,  920.,  738.,  641.,\n",
       "        454.,  273.,  544.,  315.,  508.,  954.,  885.,  249.,  551.,\n",
       "        808.,  398.,  904.,  958.,  836.,  665.,  644.,  936.,  621.,\n",
       "        397.,  892.,  524.,  331.,  736.,  586.,  884.,  645.,  284.,\n",
       "        457.,  301., 1043., 1314.,  416.,  538.,  371.,  580.,  363.,\n",
       "        916.,  253.,  226.,  609.,  458.,  938.,  566.,  711.,  469.,\n",
       "        562.,  467.,  561.,  533.,  468.,  719.,  908.,  466.,  752.,\n",
       "        933.,  636.,  581., 1231.,  894.,  820.,  927.,  896.,  325.,\n",
       "        787.,  261.,  379.,  584.,  309.,  343.,  476.,  732.,  207.,\n",
       "        825.,  886.,  292.,  373.,  224.,  959.,  248.,  862.,   nan,\n",
       "        811.,  518.,  464.,  748.,  242.,  730.,  741.,  622.,  185.,\n",
       "       1020.,  485.,  549.,  694.,  423.,  687., 1041., 1154.,  526.,\n",
       "        673.,  595.,  900.,  623.,  770.,  696.,  851.,  685.,  428.,\n",
       "        766.,  689.,  209., 1110., 1008., 1069.,  865.,  601.,  876.,\n",
       "        667.,  217.])"
      ]
     },
     "execution_count": 114,
     "metadata": {},
     "output_type": "execute_result"
    }
   ],
   "source": [
    "garage_df['Garage Area'].unique()"
   ]
  },
  {
   "cell_type": "code",
   "execution_count": 115,
   "id": "262d49c8",
   "metadata": {},
   "outputs": [],
   "source": [
    "garage_df['Garage Area'] = garage_df['Garage Area'].fillna(0)"
   ]
  },
  {
   "cell_type": "code",
   "execution_count": 116,
   "id": "30a15d7e",
   "metadata": {},
   "outputs": [
    {
     "data": {
      "text/plain": [
       "0"
      ]
     },
     "execution_count": 116,
     "metadata": {},
     "output_type": "execute_result"
    }
   ],
   "source": [
    "garage_df['Garage Area'].isnull().sum()"
   ]
  },
  {
   "cell_type": "markdown",
   "id": "d5630985",
   "metadata": {},
   "source": [
    "###### 6. Garage Qual"
   ]
  },
  {
   "cell_type": "code",
   "execution_count": 117,
   "id": "c6dbe71a",
   "metadata": {},
   "outputs": [
    {
     "data": {
      "text/plain": [
       "array(['TA', 'Fa', nan, 'Gd', 'Ex', 'Po'], dtype=object)"
      ]
     },
     "execution_count": 117,
     "metadata": {},
     "output_type": "execute_result"
    }
   ],
   "source": [
    "garage_df['Garage Qual'].unique()"
   ]
  },
  {
   "cell_type": "code",
   "execution_count": 118,
   "id": "f6325304",
   "metadata": {},
   "outputs": [],
   "source": [
    "garage_df['Garage Qual'] = garage_df['Garage Qual'].fillna('NA')"
   ]
  },
  {
   "cell_type": "code",
   "execution_count": 119,
   "id": "db1a1918",
   "metadata": {},
   "outputs": [
    {
     "data": {
      "text/plain": [
       "0"
      ]
     },
     "execution_count": 119,
     "metadata": {},
     "output_type": "execute_result"
    }
   ],
   "source": [
    "garage_df['Garage Qual'].isnull().sum()"
   ]
  },
  {
   "cell_type": "markdown",
   "id": "4510dc81",
   "metadata": {},
   "source": [
    "###### 7. Garage Cond"
   ]
  },
  {
   "cell_type": "code",
   "execution_count": 120,
   "id": "2bacf29b",
   "metadata": {},
   "outputs": [
    {
     "data": {
      "text/plain": [
       "array(['TA', 'Fa', nan, 'Po', 'Gd', 'Ex'], dtype=object)"
      ]
     },
     "execution_count": 120,
     "metadata": {},
     "output_type": "execute_result"
    }
   ],
   "source": [
    "garage_df['Garage Cond'].unique()"
   ]
  },
  {
   "cell_type": "code",
   "execution_count": 121,
   "id": "b3eb6364",
   "metadata": {},
   "outputs": [],
   "source": [
    "garage_df['Garage Cond'] = garage_df['Garage Cond'].fillna('NA')"
   ]
  },
  {
   "cell_type": "code",
   "execution_count": 122,
   "id": "d5cc6c3d",
   "metadata": {},
   "outputs": [
    {
     "data": {
      "text/plain": [
       "0"
      ]
     },
     "execution_count": 122,
     "metadata": {},
     "output_type": "execute_result"
    }
   ],
   "source": [
    "garage_df['Garage Cond'].isnull().sum()"
   ]
  },
  {
   "cell_type": "markdown",
   "id": "54b9b0f3",
   "metadata": {},
   "source": [
    "###### Checking garage_df for null values."
   ]
  },
  {
   "cell_type": "code",
   "execution_count": 123,
   "id": "86e65618",
   "metadata": {},
   "outputs": [
    {
     "data": {
      "text/plain": [
       "Garage Type      0\n",
       "Garage Yr Blt    0\n",
       "Garage Finish    0\n",
       "Garage Cars      0\n",
       "Garage Area      0\n",
       "Garage Qual      0\n",
       "Garage Cond      0\n",
       "dtype: int64"
      ]
     },
     "execution_count": 123,
     "metadata": {},
     "output_type": "execute_result"
    }
   ],
   "source": [
    "garage_df.isnull().sum()"
   ]
  },
  {
   "cell_type": "markdown",
   "id": "d18415f6",
   "metadata": {},
   "source": [
    "#### All Garage related subcategories null values have been corrected."
   ]
  },
  {
   "cell_type": "code",
   "execution_count": 124,
   "id": "dc00c9fc",
   "metadata": {},
   "outputs": [
    {
     "data": {
      "text/plain": [
       "Index(['Garage Type', 'Garage Yr Blt', 'Garage Finish', 'Garage Cars',\n",
       "       'Garage Area', 'Garage Qual', 'Garage Cond'],\n",
       "      dtype='object')"
      ]
     },
     "execution_count": 124,
     "metadata": {},
     "output_type": "execute_result"
    }
   ],
   "source": [
    "garage_df.columns"
   ]
  },
  {
   "cell_type": "markdown",
   "id": "c6f89bbf",
   "metadata": {},
   "source": [
    "##### Ensuring that the shape of the dataframe pre-drop and post-merge is correct."
   ]
  },
  {
   "cell_type": "code",
   "execution_count": 125,
   "id": "095797d1",
   "metadata": {},
   "outputs": [
    {
     "data": {
      "text/plain": [
       "(2051, 7)"
      ]
     },
     "execution_count": 125,
     "metadata": {},
     "output_type": "execute_result"
    }
   ],
   "source": [
    "garage_df.shape"
   ]
  },
  {
   "cell_type": "code",
   "execution_count": 126,
   "id": "a999403b",
   "metadata": {},
   "outputs": [
    {
     "data": {
      "text/plain": [
       "(2051, 81)"
      ]
     },
     "execution_count": 126,
     "metadata": {},
     "output_type": "execute_result"
    }
   ],
   "source": [
    "traindata.shape"
   ]
  },
  {
   "cell_type": "code",
   "execution_count": 127,
   "id": "75acc07f",
   "metadata": {},
   "outputs": [],
   "source": [
    "traindata = traindata.drop(columns=['Garage Type', 'Garage Yr Blt', 'Garage Finish', 'Garage Cars',\n",
    "       'Garage Area', 'Garage Qual', 'Garage Cond'])"
   ]
  },
  {
   "cell_type": "code",
   "execution_count": 128,
   "id": "8fe80f00",
   "metadata": {},
   "outputs": [
    {
     "data": {
      "text/plain": [
       "(2051, 74)"
      ]
     },
     "execution_count": 128,
     "metadata": {},
     "output_type": "execute_result"
    }
   ],
   "source": [
    "traindata.shape"
   ]
  },
  {
   "cell_type": "code",
   "execution_count": 129,
   "id": "1e4e999a",
   "metadata": {},
   "outputs": [],
   "source": [
    "traindata = traindata.merge(garage_df, left_index=True, right_index=True)"
   ]
  },
  {
   "cell_type": "code",
   "execution_count": 130,
   "id": "c0193462",
   "metadata": {},
   "outputs": [
    {
     "data": {
      "text/plain": [
       "(2051, 81)"
      ]
     },
     "execution_count": 130,
     "metadata": {},
     "output_type": "execute_result"
    }
   ],
   "source": [
    "traindata.shape"
   ]
  },
  {
   "cell_type": "markdown",
   "id": "52ac1c55",
   "metadata": {},
   "source": [
    "## 7. Pool QC"
   ]
  },
  {
   "cell_type": "code",
   "execution_count": 131,
   "id": "df0d6b7a",
   "metadata": {},
   "outputs": [
    {
     "data": {
      "text/plain": [
       "2042"
      ]
     },
     "execution_count": 131,
     "metadata": {},
     "output_type": "execute_result"
    }
   ],
   "source": [
    "traindata['Pool QC'].isnull().sum()"
   ]
  },
  {
   "cell_type": "code",
   "execution_count": 132,
   "id": "82f14158",
   "metadata": {},
   "outputs": [
    {
     "data": {
      "text/plain": [
       "2051"
      ]
     },
     "execution_count": 132,
     "metadata": {},
     "output_type": "execute_result"
    }
   ],
   "source": [
    "len(traindata['Pool QC'])"
   ]
  },
  {
   "cell_type": "code",
   "execution_count": 133,
   "id": "96c50681",
   "metadata": {},
   "outputs": [
    {
     "data": {
      "text/plain": [
       "99.56118966357874"
      ]
     },
     "execution_count": 133,
     "metadata": {},
     "output_type": "execute_result"
    }
   ],
   "source": [
    "(traindata['Pool QC'].isnull().sum())/(len(traindata['Pool QC'])) * 100"
   ]
  },
  {
   "cell_type": "code",
   "execution_count": 134,
   "id": "3ce1ffb7",
   "metadata": {},
   "outputs": [
    {
     "data": {
      "text/html": [
       "<div>\n",
       "<style scoped>\n",
       "    .dataframe tbody tr th:only-of-type {\n",
       "        vertical-align: middle;\n",
       "    }\n",
       "\n",
       "    .dataframe tbody tr th {\n",
       "        vertical-align: top;\n",
       "    }\n",
       "\n",
       "    .dataframe thead th {\n",
       "        text-align: right;\n",
       "    }\n",
       "</style>\n",
       "<table border=\"1\" class=\"dataframe\">\n",
       "  <thead>\n",
       "    <tr style=\"text-align: right;\">\n",
       "      <th></th>\n",
       "      <th>Id</th>\n",
       "      <th>PID</th>\n",
       "      <th>MS SubClass</th>\n",
       "      <th>MS Zoning</th>\n",
       "      <th>Lot Frontage</th>\n",
       "      <th>Lot Area</th>\n",
       "      <th>Street</th>\n",
       "      <th>Alley</th>\n",
       "      <th>Lot Shape</th>\n",
       "      <th>Land Contour</th>\n",
       "      <th>...</th>\n",
       "      <th>Total Bsmt SF</th>\n",
       "      <th>Bsmt Full Bath</th>\n",
       "      <th>Bsmt Half Bath</th>\n",
       "      <th>Garage Type</th>\n",
       "      <th>Garage Yr Blt</th>\n",
       "      <th>Garage Finish</th>\n",
       "      <th>Garage Cars</th>\n",
       "      <th>Garage Area</th>\n",
       "      <th>Garage Qual</th>\n",
       "      <th>Garage Cond</th>\n",
       "    </tr>\n",
       "  </thead>\n",
       "  <tbody>\n",
       "    <tr>\n",
       "      <th>0</th>\n",
       "      <td>109</td>\n",
       "      <td>533352170</td>\n",
       "      <td>60</td>\n",
       "      <td>RL</td>\n",
       "      <td>0.0</td>\n",
       "      <td>13517</td>\n",
       "      <td>Pave</td>\n",
       "      <td>NA</td>\n",
       "      <td>IR1</td>\n",
       "      <td>Lvl</td>\n",
       "      <td>...</td>\n",
       "      <td>725.0</td>\n",
       "      <td>0.0</td>\n",
       "      <td>0.0</td>\n",
       "      <td>Attchd</td>\n",
       "      <td>1976.0</td>\n",
       "      <td>RFn</td>\n",
       "      <td>2.0</td>\n",
       "      <td>475.0</td>\n",
       "      <td>TA</td>\n",
       "      <td>TA</td>\n",
       "    </tr>\n",
       "    <tr>\n",
       "      <th>1</th>\n",
       "      <td>544</td>\n",
       "      <td>531379050</td>\n",
       "      <td>60</td>\n",
       "      <td>RL</td>\n",
       "      <td>43.0</td>\n",
       "      <td>11492</td>\n",
       "      <td>Pave</td>\n",
       "      <td>NA</td>\n",
       "      <td>IR1</td>\n",
       "      <td>Lvl</td>\n",
       "      <td>...</td>\n",
       "      <td>913.0</td>\n",
       "      <td>1.0</td>\n",
       "      <td>0.0</td>\n",
       "      <td>Attchd</td>\n",
       "      <td>1997.0</td>\n",
       "      <td>RFn</td>\n",
       "      <td>2.0</td>\n",
       "      <td>559.0</td>\n",
       "      <td>TA</td>\n",
       "      <td>TA</td>\n",
       "    </tr>\n",
       "    <tr>\n",
       "      <th>2</th>\n",
       "      <td>153</td>\n",
       "      <td>535304180</td>\n",
       "      <td>20</td>\n",
       "      <td>RL</td>\n",
       "      <td>68.0</td>\n",
       "      <td>7922</td>\n",
       "      <td>Pave</td>\n",
       "      <td>NA</td>\n",
       "      <td>Reg</td>\n",
       "      <td>Lvl</td>\n",
       "      <td>...</td>\n",
       "      <td>1057.0</td>\n",
       "      <td>1.0</td>\n",
       "      <td>0.0</td>\n",
       "      <td>Detchd</td>\n",
       "      <td>1953.0</td>\n",
       "      <td>Unf</td>\n",
       "      <td>1.0</td>\n",
       "      <td>246.0</td>\n",
       "      <td>TA</td>\n",
       "      <td>TA</td>\n",
       "    </tr>\n",
       "  </tbody>\n",
       "</table>\n",
       "<p>3 rows × 81 columns</p>\n",
       "</div>"
      ],
      "text/plain": [
       "    Id        PID  MS SubClass MS Zoning  Lot Frontage  Lot Area Street Alley  \\\n",
       "0  109  533352170           60        RL           0.0     13517   Pave    NA   \n",
       "1  544  531379050           60        RL          43.0     11492   Pave    NA   \n",
       "2  153  535304180           20        RL          68.0      7922   Pave    NA   \n",
       "\n",
       "  Lot Shape Land Contour  ... Total Bsmt SF Bsmt Full Bath Bsmt Half Bath  \\\n",
       "0       IR1          Lvl  ...         725.0            0.0            0.0   \n",
       "1       IR1          Lvl  ...         913.0            1.0            0.0   \n",
       "2       Reg          Lvl  ...        1057.0            1.0            0.0   \n",
       "\n",
       "  Garage Type Garage Yr Blt Garage Finish Garage Cars Garage Area  \\\n",
       "0      Attchd        1976.0           RFn         2.0       475.0   \n",
       "1      Attchd        1997.0           RFn         2.0       559.0   \n",
       "2      Detchd        1953.0           Unf         1.0       246.0   \n",
       "\n",
       "   Garage Qual  Garage Cond  \n",
       "0           TA           TA  \n",
       "1           TA           TA  \n",
       "2           TA           TA  \n",
       "\n",
       "[3 rows x 81 columns]"
      ]
     },
     "execution_count": 134,
     "metadata": {},
     "output_type": "execute_result"
    }
   ],
   "source": [
    "traindata[traindata['Pool QC'].isnull()].head(3)"
   ]
  },
  {
   "cell_type": "code",
   "execution_count": 135,
   "id": "0d79ebcb",
   "metadata": {},
   "outputs": [],
   "source": [
    "traindata['Pool QC'] = traindata['Pool QC'].fillna('NA')"
   ]
  },
  {
   "cell_type": "code",
   "execution_count": 136,
   "id": "24032b99",
   "metadata": {},
   "outputs": [
    {
     "data": {
      "text/plain": [
       "0"
      ]
     },
     "execution_count": 136,
     "metadata": {},
     "output_type": "execute_result"
    }
   ],
   "source": [
    "traindata['Pool QC'].isnull().sum()"
   ]
  },
  {
   "cell_type": "markdown",
   "id": "33af7501",
   "metadata": {},
   "source": [
    "## 8. Fence"
   ]
  },
  {
   "cell_type": "code",
   "execution_count": 137,
   "id": "992d23ca",
   "metadata": {},
   "outputs": [
    {
     "data": {
      "text/plain": [
       "array([nan, 'MnPrv', 'GdPrv', 'GdWo', 'MnWw'], dtype=object)"
      ]
     },
     "execution_count": 137,
     "metadata": {},
     "output_type": "execute_result"
    }
   ],
   "source": [
    "traindata['Fence'].unique()"
   ]
  },
  {
   "cell_type": "code",
   "execution_count": 138,
   "id": "ef08bb83",
   "metadata": {},
   "outputs": [],
   "source": [
    "traindata['Fence'] = traindata['Fence'].fillna('NA')"
   ]
  },
  {
   "cell_type": "code",
   "execution_count": 139,
   "id": "d116af76",
   "metadata": {},
   "outputs": [
    {
     "data": {
      "text/plain": [
       "NA       1651\n",
       "MnPrv     227\n",
       "GdPrv      83\n",
       "GdWo       80\n",
       "MnWw       10\n",
       "Name: Fence, dtype: int64"
      ]
     },
     "execution_count": 139,
     "metadata": {},
     "output_type": "execute_result"
    }
   ],
   "source": [
    "traindata['Fence'].value_counts()"
   ]
  },
  {
   "cell_type": "code",
   "execution_count": 140,
   "id": "7daacde4",
   "metadata": {},
   "outputs": [
    {
     "data": {
      "text/plain": [
       "0"
      ]
     },
     "execution_count": 140,
     "metadata": {},
     "output_type": "execute_result"
    }
   ],
   "source": [
    "traindata['Fence'].isnull().sum()"
   ]
  },
  {
   "cell_type": "markdown",
   "id": "673af437",
   "metadata": {},
   "source": [
    "## 9. Misc Feature"
   ]
  },
  {
   "cell_type": "code",
   "execution_count": 141,
   "id": "22761394",
   "metadata": {},
   "outputs": [
    {
     "data": {
      "text/plain": [
       "array([nan, 'Shed', 'TenC', 'Gar2', 'Othr', 'Elev'], dtype=object)"
      ]
     },
     "execution_count": 141,
     "metadata": {},
     "output_type": "execute_result"
    }
   ],
   "source": [
    "traindata['Misc Feature'].unique()"
   ]
  },
  {
   "cell_type": "markdown",
   "id": "8b859201",
   "metadata": {},
   "source": [
    "Since there is already a category called 'Othr', NaN could mean that there are no misc features."
   ]
  },
  {
   "cell_type": "code",
   "execution_count": 142,
   "id": "916c80da",
   "metadata": {},
   "outputs": [],
   "source": [
    "traindata['Misc Feature'] = traindata['Misc Feature'].fillna('NA')"
   ]
  },
  {
   "cell_type": "code",
   "execution_count": 143,
   "id": "1e76a624",
   "metadata": {},
   "outputs": [
    {
     "data": {
      "text/plain": [
       "0"
      ]
     },
     "execution_count": 143,
     "metadata": {},
     "output_type": "execute_result"
    }
   ],
   "source": [
    "traindata['Misc Feature'].isnull().sum()"
   ]
  },
  {
   "cell_type": "markdown",
   "id": "87387f37",
   "metadata": {},
   "source": [
    "## 10. Electrical"
   ]
  },
  {
   "cell_type": "code",
   "execution_count": 144,
   "id": "7791ba41",
   "metadata": {},
   "outputs": [],
   "source": [
    "traindata['Electrical'] = traindata['Electrical'].fillna('NA')"
   ]
  },
  {
   "cell_type": "code",
   "execution_count": 145,
   "id": "567ec0ec",
   "metadata": {},
   "outputs": [
    {
     "data": {
      "text/plain": [
       "0"
      ]
     },
     "execution_count": 145,
     "metadata": {},
     "output_type": "execute_result"
    }
   ],
   "source": [
    "traindata['Electrical'].isnull().sum()"
   ]
  },
  {
   "cell_type": "markdown",
   "id": "7cbbf5b6",
   "metadata": {},
   "source": [
    "## 11. Sale Price"
   ]
  },
  {
   "cell_type": "code",
   "execution_count": 146,
   "id": "97a1e090",
   "metadata": {},
   "outputs": [],
   "source": [
    "traindata['SalePrice'] = traindata['SalePrice'].fillna(-1)"
   ]
  },
  {
   "cell_type": "code",
   "execution_count": 147,
   "id": "c4b20bbd",
   "metadata": {},
   "outputs": [
    {
     "data": {
      "text/plain": [
       "0"
      ]
     },
     "execution_count": 147,
     "metadata": {},
     "output_type": "execute_result"
    }
   ],
   "source": [
    "traindata['SalePrice'].isnull().sum()"
   ]
  },
  {
   "cell_type": "markdown",
   "id": "2d08b615",
   "metadata": {},
   "source": [
    "## Checking that traindata dataframe null values have been corrected."
   ]
  },
  {
   "cell_type": "code",
   "execution_count": 148,
   "id": "1336e27e",
   "metadata": {},
   "outputs": [
    {
     "data": {
      "text/plain": [
       "0"
      ]
     },
     "execution_count": 148,
     "metadata": {},
     "output_type": "execute_result"
    }
   ],
   "source": [
    "traindata.isnull().sum().sum()"
   ]
  },
  {
   "cell_type": "code",
   "execution_count": 149,
   "id": "7c6f9cf7",
   "metadata": {},
   "outputs": [
    {
     "data": {
      "text/html": [
       "<div>\n",
       "<style scoped>\n",
       "    .dataframe tbody tr th:only-of-type {\n",
       "        vertical-align: middle;\n",
       "    }\n",
       "\n",
       "    .dataframe tbody tr th {\n",
       "        vertical-align: top;\n",
       "    }\n",
       "\n",
       "    .dataframe thead th {\n",
       "        text-align: right;\n",
       "    }\n",
       "</style>\n",
       "<table border=\"1\" class=\"dataframe\">\n",
       "  <thead>\n",
       "    <tr style=\"text-align: right;\">\n",
       "      <th></th>\n",
       "      <th>Id</th>\n",
       "      <th>PID</th>\n",
       "      <th>MS SubClass</th>\n",
       "      <th>MS Zoning</th>\n",
       "      <th>Lot Frontage</th>\n",
       "      <th>Lot Area</th>\n",
       "      <th>Street</th>\n",
       "      <th>Alley</th>\n",
       "      <th>Lot Shape</th>\n",
       "      <th>Land Contour</th>\n",
       "      <th>...</th>\n",
       "      <th>Total Bsmt SF</th>\n",
       "      <th>Bsmt Full Bath</th>\n",
       "      <th>Bsmt Half Bath</th>\n",
       "      <th>Garage Type</th>\n",
       "      <th>Garage Yr Blt</th>\n",
       "      <th>Garage Finish</th>\n",
       "      <th>Garage Cars</th>\n",
       "      <th>Garage Area</th>\n",
       "      <th>Garage Qual</th>\n",
       "      <th>Garage Cond</th>\n",
       "    </tr>\n",
       "  </thead>\n",
       "  <tbody>\n",
       "    <tr>\n",
       "      <th>0</th>\n",
       "      <td>109</td>\n",
       "      <td>533352170</td>\n",
       "      <td>60</td>\n",
       "      <td>RL</td>\n",
       "      <td>0.0</td>\n",
       "      <td>13517</td>\n",
       "      <td>Pave</td>\n",
       "      <td>NA</td>\n",
       "      <td>IR1</td>\n",
       "      <td>Lvl</td>\n",
       "      <td>...</td>\n",
       "      <td>725.0</td>\n",
       "      <td>0.0</td>\n",
       "      <td>0.0</td>\n",
       "      <td>Attchd</td>\n",
       "      <td>1976.0</td>\n",
       "      <td>RFn</td>\n",
       "      <td>2.0</td>\n",
       "      <td>475.0</td>\n",
       "      <td>TA</td>\n",
       "      <td>TA</td>\n",
       "    </tr>\n",
       "    <tr>\n",
       "      <th>1</th>\n",
       "      <td>544</td>\n",
       "      <td>531379050</td>\n",
       "      <td>60</td>\n",
       "      <td>RL</td>\n",
       "      <td>43.0</td>\n",
       "      <td>11492</td>\n",
       "      <td>Pave</td>\n",
       "      <td>NA</td>\n",
       "      <td>IR1</td>\n",
       "      <td>Lvl</td>\n",
       "      <td>...</td>\n",
       "      <td>913.0</td>\n",
       "      <td>1.0</td>\n",
       "      <td>0.0</td>\n",
       "      <td>Attchd</td>\n",
       "      <td>1997.0</td>\n",
       "      <td>RFn</td>\n",
       "      <td>2.0</td>\n",
       "      <td>559.0</td>\n",
       "      <td>TA</td>\n",
       "      <td>TA</td>\n",
       "    </tr>\n",
       "    <tr>\n",
       "      <th>2</th>\n",
       "      <td>153</td>\n",
       "      <td>535304180</td>\n",
       "      <td>20</td>\n",
       "      <td>RL</td>\n",
       "      <td>68.0</td>\n",
       "      <td>7922</td>\n",
       "      <td>Pave</td>\n",
       "      <td>NA</td>\n",
       "      <td>Reg</td>\n",
       "      <td>Lvl</td>\n",
       "      <td>...</td>\n",
       "      <td>1057.0</td>\n",
       "      <td>1.0</td>\n",
       "      <td>0.0</td>\n",
       "      <td>Detchd</td>\n",
       "      <td>1953.0</td>\n",
       "      <td>Unf</td>\n",
       "      <td>1.0</td>\n",
       "      <td>246.0</td>\n",
       "      <td>TA</td>\n",
       "      <td>TA</td>\n",
       "    </tr>\n",
       "  </tbody>\n",
       "</table>\n",
       "<p>3 rows × 81 columns</p>\n",
       "</div>"
      ],
      "text/plain": [
       "    Id        PID  MS SubClass MS Zoning  Lot Frontage  Lot Area Street Alley  \\\n",
       "0  109  533352170           60        RL           0.0     13517   Pave    NA   \n",
       "1  544  531379050           60        RL          43.0     11492   Pave    NA   \n",
       "2  153  535304180           20        RL          68.0      7922   Pave    NA   \n",
       "\n",
       "  Lot Shape Land Contour  ... Total Bsmt SF Bsmt Full Bath Bsmt Half Bath  \\\n",
       "0       IR1          Lvl  ...         725.0            0.0            0.0   \n",
       "1       IR1          Lvl  ...         913.0            1.0            0.0   \n",
       "2       Reg          Lvl  ...        1057.0            1.0            0.0   \n",
       "\n",
       "  Garage Type Garage Yr Blt Garage Finish Garage Cars Garage Area  \\\n",
       "0      Attchd        1976.0           RFn         2.0       475.0   \n",
       "1      Attchd        1997.0           RFn         2.0       559.0   \n",
       "2      Detchd        1953.0           Unf         1.0       246.0   \n",
       "\n",
       "   Garage Qual  Garage Cond  \n",
       "0           TA           TA  \n",
       "1           TA           TA  \n",
       "2           TA           TA  \n",
       "\n",
       "[3 rows x 81 columns]"
      ]
     },
     "execution_count": 149,
     "metadata": {},
     "output_type": "execute_result"
    }
   ],
   "source": [
    "traindata.head(3)"
   ]
  },
  {
   "cell_type": "code",
   "execution_count": 150,
   "id": "3bbd4794",
   "metadata": {
    "scrolled": true
   },
   "outputs": [
    {
     "name": "stdout",
     "output_type": "stream",
     "text": [
      "<class 'pandas.core.frame.DataFrame'>\n",
      "RangeIndex: 2051 entries, 0 to 2050\n",
      "Data columns (total 81 columns):\n",
      " #   Column           Non-Null Count  Dtype  \n",
      "---  ------           --------------  -----  \n",
      " 0   Id               2051 non-null   int64  \n",
      " 1   PID              2051 non-null   int64  \n",
      " 2   MS SubClass      2051 non-null   int64  \n",
      " 3   MS Zoning        2051 non-null   object \n",
      " 4   Lot Frontage     2051 non-null   float64\n",
      " 5   Lot Area         2051 non-null   int64  \n",
      " 6   Street           2051 non-null   object \n",
      " 7   Alley            2051 non-null   object \n",
      " 8   Lot Shape        2051 non-null   object \n",
      " 9   Land Contour     2051 non-null   object \n",
      " 10  Utilities        2051 non-null   object \n",
      " 11  Lot Config       2051 non-null   object \n",
      " 12  Land Slope       2051 non-null   object \n",
      " 13  Neighborhood     2051 non-null   object \n",
      " 14  Condition 1      2051 non-null   object \n",
      " 15  Condition 2      2051 non-null   object \n",
      " 16  Bldg Type        2051 non-null   object \n",
      " 17  House Style      2051 non-null   object \n",
      " 18  Overall Qual     2051 non-null   int64  \n",
      " 19  Overall Cond     2051 non-null   int64  \n",
      " 20  Year Built       2051 non-null   int64  \n",
      " 21  Year Remod/Add   2051 non-null   int64  \n",
      " 22  Roof Style       2051 non-null   object \n",
      " 23  Roof Matl        2051 non-null   object \n",
      " 24  Exterior 1st     2051 non-null   object \n",
      " 25  Exterior 2nd     2051 non-null   object \n",
      " 26  Mas Vnr Type     2051 non-null   object \n",
      " 27  Mas Vnr Area     2051 non-null   float64\n",
      " 28  Exter Qual       2051 non-null   object \n",
      " 29  Exter Cond       2051 non-null   object \n",
      " 30  Foundation       2051 non-null   object \n",
      " 31  Heating          2051 non-null   object \n",
      " 32  Heating QC       2051 non-null   object \n",
      " 33  Central Air      2051 non-null   object \n",
      " 34  Electrical       2051 non-null   object \n",
      " 35  1st Flr SF       2051 non-null   int64  \n",
      " 36  2nd Flr SF       2051 non-null   int64  \n",
      " 37  Low Qual Fin SF  2051 non-null   int64  \n",
      " 38  Gr Liv Area      2051 non-null   int64  \n",
      " 39  Full Bath        2051 non-null   int64  \n",
      " 40  Half Bath        2051 non-null   int64  \n",
      " 41  Bedroom AbvGr    2051 non-null   int64  \n",
      " 42  Kitchen AbvGr    2051 non-null   int64  \n",
      " 43  Kitchen Qual     2051 non-null   object \n",
      " 44  TotRms AbvGrd    2051 non-null   int64  \n",
      " 45  Functional       2051 non-null   object \n",
      " 46  Fireplaces       2051 non-null   int64  \n",
      " 47  Fireplace Qu     2051 non-null   object \n",
      " 48  Paved Drive      2051 non-null   object \n",
      " 49  Wood Deck SF     2051 non-null   int64  \n",
      " 50  Open Porch SF    2051 non-null   int64  \n",
      " 51  Enclosed Porch   2051 non-null   int64  \n",
      " 52  3Ssn Porch       2051 non-null   int64  \n",
      " 53  Screen Porch     2051 non-null   int64  \n",
      " 54  Pool Area        2051 non-null   int64  \n",
      " 55  Pool QC          2051 non-null   object \n",
      " 56  Fence            2051 non-null   object \n",
      " 57  Misc Feature     2051 non-null   object \n",
      " 58  Misc Val         2051 non-null   int64  \n",
      " 59  Mo Sold          2051 non-null   int64  \n",
      " 60  Yr Sold          2051 non-null   int64  \n",
      " 61  Sale Type        2051 non-null   object \n",
      " 62  SalePrice        2051 non-null   int64  \n",
      " 63  Bsmt Qual        2051 non-null   object \n",
      " 64  Bsmt Cond        2051 non-null   object \n",
      " 65  Bsmt Exposure    2051 non-null   object \n",
      " 66  BsmtFin Type 1   2051 non-null   object \n",
      " 67  BsmtFin SF 1     2051 non-null   float64\n",
      " 68  BsmtFin Type 2   2051 non-null   object \n",
      " 69  BsmtFin SF 2     2051 non-null   float64\n",
      " 70  Bsmt Unf SF      2051 non-null   float64\n",
      " 71  Total Bsmt SF    2051 non-null   float64\n",
      " 72  Bsmt Full Bath   2051 non-null   float64\n",
      " 73  Bsmt Half Bath   2051 non-null   float64\n",
      " 74  Garage Type      2051 non-null   object \n",
      " 75  Garage Yr Blt    2051 non-null   float64\n",
      " 76  Garage Finish    2051 non-null   object \n",
      " 77  Garage Cars      2051 non-null   float64\n",
      " 78  Garage Area      2051 non-null   float64\n",
      " 79  Garage Qual      2051 non-null   object \n",
      " 80  Garage Cond      2051 non-null   object \n",
      "dtypes: float64(11), int64(28), object(42)\n",
      "memory usage: 1.3+ MB\n"
     ]
    }
   ],
   "source": [
    "traindata.info()"
   ]
  },
  {
   "cell_type": "markdown",
   "id": "50e67878",
   "metadata": {},
   "source": [
    "## Exploratory Data Analysis"
   ]
  },
  {
   "cell_type": "code",
   "execution_count": 151,
   "id": "e0451f45",
   "metadata": {},
   "outputs": [
    {
     "data": {
      "text/plain": [
       "(2051, 81)"
      ]
     },
     "execution_count": 151,
     "metadata": {},
     "output_type": "execute_result"
    }
   ],
   "source": [
    "traindata.shape"
   ]
  },
  {
   "cell_type": "markdown",
   "id": "ecbbe301",
   "metadata": {},
   "source": [
    "#### Splitting columns into quantitative and qualitative and binary data."
   ]
  },
  {
   "cell_type": "markdown",
   "id": "1a295a6c",
   "metadata": {},
   "source": [
    "To determine correlation coefficient based on Pearson, Spearman correlation coefficient."
   ]
  },
  {
   "cell_type": "markdown",
   "id": "b372443e",
   "metadata": {},
   "source": [
    "###### 1. Quantitative: quant"
   ]
  },
  {
   "cell_type": "code",
   "execution_count": 152,
   "id": "4558f97d",
   "metadata": {},
   "outputs": [
    {
     "data": {
      "text/plain": [
       "Index(['Lot Frontage', 'Mas Vnr Area', 'BsmtFin SF 1', 'BsmtFin SF 2',\n",
       "       'Bsmt Unf SF', 'Total Bsmt SF', 'Bsmt Full Bath', 'Bsmt Half Bath',\n",
       "       'Garage Yr Blt', 'Garage Cars', 'Garage Area'],\n",
       "      dtype='object')"
      ]
     },
     "execution_count": 152,
     "metadata": {},
     "output_type": "execute_result"
    }
   ],
   "source": [
    "traindata.select_dtypes(include=['float64']).columns"
   ]
  },
  {
   "cell_type": "code",
   "execution_count": 153,
   "id": "4bf8e082",
   "metadata": {},
   "outputs": [],
   "source": [
    "quantdata_tolist = traindata.select_dtypes(include=['float64']).columns.to_list()"
   ]
  },
  {
   "cell_type": "code",
   "execution_count": 154,
   "id": "33b7fee7",
   "metadata": {},
   "outputs": [],
   "source": [
    "quant = traindata[quantdata_tolist]"
   ]
  },
  {
   "cell_type": "markdown",
   "id": "400cd130",
   "metadata": {},
   "source": [
    "###### 2. Qualitative: qual"
   ]
  },
  {
   "cell_type": "code",
   "execution_count": 155,
   "id": "d52c729f",
   "metadata": {},
   "outputs": [],
   "source": [
    "qual_df = traindata.select_dtypes(include=['object'])"
   ]
  },
  {
   "cell_type": "code",
   "execution_count": 156,
   "id": "f27b7e30",
   "metadata": {},
   "outputs": [
    {
     "data": {
      "text/html": [
       "<div>\n",
       "<style scoped>\n",
       "    .dataframe tbody tr th:only-of-type {\n",
       "        vertical-align: middle;\n",
       "    }\n",
       "\n",
       "    .dataframe tbody tr th {\n",
       "        vertical-align: top;\n",
       "    }\n",
       "\n",
       "    .dataframe thead th {\n",
       "        text-align: right;\n",
       "    }\n",
       "</style>\n",
       "<table border=\"1\" class=\"dataframe\">\n",
       "  <thead>\n",
       "    <tr style=\"text-align: right;\">\n",
       "      <th></th>\n",
       "      <th>MS Zoning</th>\n",
       "      <th>Street</th>\n",
       "      <th>Alley</th>\n",
       "      <th>Lot Shape</th>\n",
       "      <th>Land Contour</th>\n",
       "      <th>Utilities</th>\n",
       "      <th>Lot Config</th>\n",
       "      <th>Land Slope</th>\n",
       "      <th>Neighborhood</th>\n",
       "      <th>Condition 1</th>\n",
       "      <th>...</th>\n",
       "      <th>Sale Type</th>\n",
       "      <th>Bsmt Qual</th>\n",
       "      <th>Bsmt Cond</th>\n",
       "      <th>Bsmt Exposure</th>\n",
       "      <th>BsmtFin Type 1</th>\n",
       "      <th>BsmtFin Type 2</th>\n",
       "      <th>Garage Type</th>\n",
       "      <th>Garage Finish</th>\n",
       "      <th>Garage Qual</th>\n",
       "      <th>Garage Cond</th>\n",
       "    </tr>\n",
       "  </thead>\n",
       "  <tbody>\n",
       "    <tr>\n",
       "      <th>0</th>\n",
       "      <td>RL</td>\n",
       "      <td>Pave</td>\n",
       "      <td>NA</td>\n",
       "      <td>IR1</td>\n",
       "      <td>Lvl</td>\n",
       "      <td>AllPub</td>\n",
       "      <td>CulDSac</td>\n",
       "      <td>Gtl</td>\n",
       "      <td>Sawyer</td>\n",
       "      <td>RRAe</td>\n",
       "      <td>...</td>\n",
       "      <td>WD</td>\n",
       "      <td>TA</td>\n",
       "      <td>TA</td>\n",
       "      <td>No</td>\n",
       "      <td>GLQ</td>\n",
       "      <td>Unf</td>\n",
       "      <td>Attchd</td>\n",
       "      <td>RFn</td>\n",
       "      <td>TA</td>\n",
       "      <td>TA</td>\n",
       "    </tr>\n",
       "    <tr>\n",
       "      <th>1</th>\n",
       "      <td>RL</td>\n",
       "      <td>Pave</td>\n",
       "      <td>NA</td>\n",
       "      <td>IR1</td>\n",
       "      <td>Lvl</td>\n",
       "      <td>AllPub</td>\n",
       "      <td>CulDSac</td>\n",
       "      <td>Gtl</td>\n",
       "      <td>SawyerW</td>\n",
       "      <td>Norm</td>\n",
       "      <td>...</td>\n",
       "      <td>WD</td>\n",
       "      <td>Gd</td>\n",
       "      <td>TA</td>\n",
       "      <td>No</td>\n",
       "      <td>GLQ</td>\n",
       "      <td>Unf</td>\n",
       "      <td>Attchd</td>\n",
       "      <td>RFn</td>\n",
       "      <td>TA</td>\n",
       "      <td>TA</td>\n",
       "    </tr>\n",
       "    <tr>\n",
       "      <th>2</th>\n",
       "      <td>RL</td>\n",
       "      <td>Pave</td>\n",
       "      <td>NA</td>\n",
       "      <td>Reg</td>\n",
       "      <td>Lvl</td>\n",
       "      <td>AllPub</td>\n",
       "      <td>Inside</td>\n",
       "      <td>Gtl</td>\n",
       "      <td>NAmes</td>\n",
       "      <td>Norm</td>\n",
       "      <td>...</td>\n",
       "      <td>WD</td>\n",
       "      <td>TA</td>\n",
       "      <td>TA</td>\n",
       "      <td>No</td>\n",
       "      <td>GLQ</td>\n",
       "      <td>Unf</td>\n",
       "      <td>Detchd</td>\n",
       "      <td>Unf</td>\n",
       "      <td>TA</td>\n",
       "      <td>TA</td>\n",
       "    </tr>\n",
       "  </tbody>\n",
       "</table>\n",
       "<p>3 rows × 42 columns</p>\n",
       "</div>"
      ],
      "text/plain": [
       "  MS Zoning Street Alley Lot Shape Land Contour Utilities Lot Config  \\\n",
       "0        RL   Pave    NA       IR1          Lvl    AllPub    CulDSac   \n",
       "1        RL   Pave    NA       IR1          Lvl    AllPub    CulDSac   \n",
       "2        RL   Pave    NA       Reg          Lvl    AllPub     Inside   \n",
       "\n",
       "  Land Slope Neighborhood Condition 1  ... Sale Type Bsmt Qual Bsmt Cond  \\\n",
       "0        Gtl       Sawyer        RRAe  ...       WD         TA        TA   \n",
       "1        Gtl      SawyerW        Norm  ...       WD         Gd        TA   \n",
       "2        Gtl        NAmes        Norm  ...       WD         TA        TA   \n",
       "\n",
       "  Bsmt Exposure BsmtFin Type 1 BsmtFin Type 2 Garage Type Garage Finish  \\\n",
       "0            No            GLQ            Unf      Attchd           RFn   \n",
       "1            No            GLQ            Unf      Attchd           RFn   \n",
       "2            No            GLQ            Unf      Detchd           Unf   \n",
       "\n",
       "  Garage Qual Garage Cond  \n",
       "0          TA          TA  \n",
       "1          TA          TA  \n",
       "2          TA          TA  \n",
       "\n",
       "[3 rows x 42 columns]"
      ]
     },
     "execution_count": 156,
     "metadata": {},
     "output_type": "execute_result"
    }
   ],
   "source": [
    "qual_df.head(3)"
   ]
  },
  {
   "cell_type": "code",
   "execution_count": 157,
   "id": "9fba283c",
   "metadata": {},
   "outputs": [],
   "source": [
    "qual_tolist = traindata.select_dtypes(include=['object']).columns.to_list()"
   ]
  },
  {
   "cell_type": "markdown",
   "id": "b2fe4766",
   "metadata": {},
   "source": [
    "### Checking for categorical vs ordinal data"
   ]
  },
  {
   "cell_type": "code",
   "execution_count": 158,
   "id": "f05cbf99",
   "metadata": {
    "scrolled": true
   },
   "outputs": [
    {
     "name": "stdout",
     "output_type": "stream",
     "text": [
      "MS Zoning, ['RL' 'RM' 'FV' 'C (all)' 'A (agr)' 'RH' 'I (all)']\n",
      "Street, ['Pave' 'Grvl']\n",
      "Alley, ['NA' 'Pave' 'Grvl']\n",
      "Lot Shape, ['IR1' 'Reg' 'IR2' 'IR3']\n",
      "Land Contour, ['Lvl' 'HLS' 'Bnk' 'Low']\n",
      "Utilities, ['AllPub' 'NoSeWa' 'NoSewr']\n",
      "Lot Config, ['CulDSac' 'Inside' 'Corner' 'FR2' 'FR3']\n",
      "Land Slope, ['Gtl' 'Sev' 'Mod']\n",
      "Neighborhood, ['Sawyer' 'SawyerW' 'NAmes' 'Timber' 'Edwards' 'OldTown' 'BrDale'\n",
      " 'CollgCr' 'Somerst' 'Mitchel' 'StoneBr' 'NridgHt' 'Gilbert' 'Crawfor'\n",
      " 'IDOTRR' 'NWAmes' 'Veenker' 'MeadowV' 'SWISU' 'NoRidge' 'ClearCr'\n",
      " 'Blmngtn' 'BrkSide' 'NPkVill' 'Blueste' 'GrnHill' 'Greens' 'Landmrk']\n",
      "Condition 1, ['RRAe' 'Norm' 'PosA' 'Artery' 'Feedr' 'PosN' 'RRAn' 'RRNe' 'RRNn']\n",
      "Condition 2, ['Norm' 'RRNn' 'Feedr' 'Artery' 'PosA' 'PosN' 'RRAe' 'RRAn']\n",
      "Bldg Type, ['1Fam' 'TwnhsE' 'Twnhs' '2fmCon' 'Duplex']\n",
      "House Style, ['2Story' '1Story' '1.5Fin' 'SFoyer' 'SLvl' '2.5Unf' '2.5Fin' '1.5Unf']\n",
      "Roof Style, ['Gable' 'Hip' 'Flat' 'Mansard' 'Shed' 'Gambrel']\n",
      "Roof Matl, ['CompShg' 'WdShngl' 'Tar&Grv' 'WdShake' 'Membran' 'ClyTile']\n",
      "Exterior 1st, ['HdBoard' 'VinylSd' 'Wd Sdng' 'BrkFace' 'Plywood' 'MetalSd' 'AsbShng'\n",
      " 'CemntBd' 'WdShing' 'Stucco' 'BrkComm' 'Stone' 'CBlock' 'ImStucc'\n",
      " 'AsphShn']\n",
      "Exterior 2nd, ['Plywood' 'VinylSd' 'Wd Sdng' 'HdBoard' 'MetalSd' 'AsbShng' 'CmentBd'\n",
      " 'Wd Shng' 'BrkFace' 'Stucco' 'Brk Cmn' 'ImStucc' 'Stone' 'CBlock'\n",
      " 'AsphShn']\n",
      "Mas Vnr Type, ['BrkFace' 'None' 'others' 'Stone' 'BrkCmn']\n",
      "Exter Qual, ['Gd' 'TA' 'Ex' 'Fa']\n",
      "Exter Cond, ['TA' 'Gd' 'Fa' 'Ex' 'Po']\n",
      "Foundation, ['CBlock' 'PConc' 'BrkTil' 'Slab' 'Stone' 'Wood']\n",
      "Heating, ['GasA' 'GasW' 'Grav' 'Wall' 'OthW']\n",
      "Heating QC, ['Ex' 'TA' 'Gd' 'Fa' 'Po']\n",
      "Central Air, ['Y' 'N']\n",
      "Electrical, ['SBrkr' 'FuseF' 'FuseA' 'FuseP' 'Mix']\n",
      "Kitchen Qual, ['Gd' 'TA' 'Fa' 'Ex']\n",
      "Functional, ['Typ' 'Mod' 'Min2' 'Maj1' 'Min1' 'Sev' 'Sal' 'Maj2']\n",
      "Fireplace Qu, ['NA' 'TA' 'Gd' 'Po' 'Ex' 'Fa']\n",
      "Paved Drive, ['Y' 'N' 'P']\n",
      "Pool QC, ['NA' 'Fa' 'Gd' 'Ex' 'TA']\n",
      "Fence, ['NA' 'MnPrv' 'GdPrv' 'GdWo' 'MnWw']\n",
      "Misc Feature, ['NA' 'Shed' 'TenC' 'Gar2' 'Othr' 'Elev']\n",
      "Sale Type, ['WD ' 'New' 'COD' 'ConLD' 'Con' 'CWD' 'Oth' 'ConLI' 'ConLw']\n",
      "Bsmt Qual, ['TA' 'Gd' 'Fa' 'NA' 'Ex' 'Po']\n",
      "Bsmt Cond, ['TA' 'Gd' 'NA' 'Fa' 'Po' 'Ex']\n",
      "Bsmt Exposure, ['No' 'Gd' 'Av' 'NA' 'Mn']\n",
      "BsmtFin Type 1, ['GLQ' 'Unf' 'ALQ' 'Rec' 'NA' 'BLQ' 'LwQ']\n",
      "BsmtFin Type 2, ['Unf' 'Rec' 'NA' 'BLQ' 'GLQ' 'LwQ' 'ALQ']\n",
      "Garage Type, ['Attchd' 'Detchd' 'BuiltIn' 'Basment' 'NA' '2Types' 'CarPort']\n",
      "Garage Finish, ['RFn' 'Unf' 'Fin' 'NA']\n",
      "Garage Qual, ['TA' 'Fa' 'NA' 'Gd' 'Ex' 'Po']\n",
      "Garage Cond, ['TA' 'Fa' 'NA' 'Po' 'Gd' 'Ex']\n"
     ]
    }
   ],
   "source": [
    "for i in qual_tolist:\n",
    "    print(f'{i}, {qual_df[i].unique()}')"
   ]
  },
  {
   "cell_type": "code",
   "execution_count": 159,
   "id": "a62ab624",
   "metadata": {},
   "outputs": [],
   "source": [
    "ord_df = qual_df[[\"Exter Qual\", \"Exter Cond\", \"Heating QC\", \"Kitchen Qual\",\n",
    "           \"Fireplace Qu\", \"Pool QC\", \"Bsmt Qual\", \"Bsmt Cond\",\n",
    "           \"Bsmt Exposure\", \"Garage Qual\", \"Garage Cond\"]]"
   ]
  },
  {
   "cell_type": "code",
   "execution_count": 160,
   "id": "4e2c57b4",
   "metadata": {},
   "outputs": [],
   "source": [
    "ord_df_tolist = ord_df.columns.to_list()"
   ]
  },
  {
   "cell_type": "code",
   "execution_count": 161,
   "id": "3f6042ba",
   "metadata": {},
   "outputs": [],
   "source": [
    "qual = qual_df.drop(columns=ord_df_tolist)"
   ]
  },
  {
   "cell_type": "code",
   "execution_count": 162,
   "id": "d94cabc1",
   "metadata": {},
   "outputs": [
    {
     "data": {
      "text/html": [
       "<div>\n",
       "<style scoped>\n",
       "    .dataframe tbody tr th:only-of-type {\n",
       "        vertical-align: middle;\n",
       "    }\n",
       "\n",
       "    .dataframe tbody tr th {\n",
       "        vertical-align: top;\n",
       "    }\n",
       "\n",
       "    .dataframe thead th {\n",
       "        text-align: right;\n",
       "    }\n",
       "</style>\n",
       "<table border=\"1\" class=\"dataframe\">\n",
       "  <thead>\n",
       "    <tr style=\"text-align: right;\">\n",
       "      <th></th>\n",
       "      <th>MS Zoning</th>\n",
       "      <th>Street</th>\n",
       "      <th>Alley</th>\n",
       "      <th>Lot Shape</th>\n",
       "      <th>Land Contour</th>\n",
       "      <th>Utilities</th>\n",
       "      <th>Lot Config</th>\n",
       "      <th>Land Slope</th>\n",
       "      <th>Neighborhood</th>\n",
       "      <th>Condition 1</th>\n",
       "      <th>...</th>\n",
       "      <th>Electrical</th>\n",
       "      <th>Functional</th>\n",
       "      <th>Paved Drive</th>\n",
       "      <th>Fence</th>\n",
       "      <th>Misc Feature</th>\n",
       "      <th>Sale Type</th>\n",
       "      <th>BsmtFin Type 1</th>\n",
       "      <th>BsmtFin Type 2</th>\n",
       "      <th>Garage Type</th>\n",
       "      <th>Garage Finish</th>\n",
       "    </tr>\n",
       "  </thead>\n",
       "  <tbody>\n",
       "    <tr>\n",
       "      <th>0</th>\n",
       "      <td>RL</td>\n",
       "      <td>Pave</td>\n",
       "      <td>NA</td>\n",
       "      <td>IR1</td>\n",
       "      <td>Lvl</td>\n",
       "      <td>AllPub</td>\n",
       "      <td>CulDSac</td>\n",
       "      <td>Gtl</td>\n",
       "      <td>Sawyer</td>\n",
       "      <td>RRAe</td>\n",
       "      <td>...</td>\n",
       "      <td>SBrkr</td>\n",
       "      <td>Typ</td>\n",
       "      <td>Y</td>\n",
       "      <td>NA</td>\n",
       "      <td>NA</td>\n",
       "      <td>WD</td>\n",
       "      <td>GLQ</td>\n",
       "      <td>Unf</td>\n",
       "      <td>Attchd</td>\n",
       "      <td>RFn</td>\n",
       "    </tr>\n",
       "    <tr>\n",
       "      <th>1</th>\n",
       "      <td>RL</td>\n",
       "      <td>Pave</td>\n",
       "      <td>NA</td>\n",
       "      <td>IR1</td>\n",
       "      <td>Lvl</td>\n",
       "      <td>AllPub</td>\n",
       "      <td>CulDSac</td>\n",
       "      <td>Gtl</td>\n",
       "      <td>SawyerW</td>\n",
       "      <td>Norm</td>\n",
       "      <td>...</td>\n",
       "      <td>SBrkr</td>\n",
       "      <td>Typ</td>\n",
       "      <td>Y</td>\n",
       "      <td>NA</td>\n",
       "      <td>NA</td>\n",
       "      <td>WD</td>\n",
       "      <td>GLQ</td>\n",
       "      <td>Unf</td>\n",
       "      <td>Attchd</td>\n",
       "      <td>RFn</td>\n",
       "    </tr>\n",
       "    <tr>\n",
       "      <th>2</th>\n",
       "      <td>RL</td>\n",
       "      <td>Pave</td>\n",
       "      <td>NA</td>\n",
       "      <td>Reg</td>\n",
       "      <td>Lvl</td>\n",
       "      <td>AllPub</td>\n",
       "      <td>Inside</td>\n",
       "      <td>Gtl</td>\n",
       "      <td>NAmes</td>\n",
       "      <td>Norm</td>\n",
       "      <td>...</td>\n",
       "      <td>SBrkr</td>\n",
       "      <td>Typ</td>\n",
       "      <td>Y</td>\n",
       "      <td>NA</td>\n",
       "      <td>NA</td>\n",
       "      <td>WD</td>\n",
       "      <td>GLQ</td>\n",
       "      <td>Unf</td>\n",
       "      <td>Detchd</td>\n",
       "      <td>Unf</td>\n",
       "    </tr>\n",
       "  </tbody>\n",
       "</table>\n",
       "<p>3 rows × 31 columns</p>\n",
       "</div>"
      ],
      "text/plain": [
       "  MS Zoning Street Alley Lot Shape Land Contour Utilities Lot Config  \\\n",
       "0        RL   Pave    NA       IR1          Lvl    AllPub    CulDSac   \n",
       "1        RL   Pave    NA       IR1          Lvl    AllPub    CulDSac   \n",
       "2        RL   Pave    NA       Reg          Lvl    AllPub     Inside   \n",
       "\n",
       "  Land Slope Neighborhood Condition 1  ... Electrical Functional Paved Drive  \\\n",
       "0        Gtl       Sawyer        RRAe  ...      SBrkr        Typ           Y   \n",
       "1        Gtl      SawyerW        Norm  ...      SBrkr        Typ           Y   \n",
       "2        Gtl        NAmes        Norm  ...      SBrkr        Typ           Y   \n",
       "\n",
       "  Fence Misc Feature Sale Type BsmtFin Type 1 BsmtFin Type 2 Garage Type  \\\n",
       "0    NA           NA       WD             GLQ            Unf      Attchd   \n",
       "1    NA           NA       WD             GLQ            Unf      Attchd   \n",
       "2    NA           NA       WD             GLQ            Unf      Detchd   \n",
       "\n",
       "  Garage Finish  \n",
       "0           RFn  \n",
       "1           RFn  \n",
       "2           Unf  \n",
       "\n",
       "[3 rows x 31 columns]"
      ]
     },
     "execution_count": 162,
     "metadata": {},
     "output_type": "execute_result"
    }
   ],
   "source": [
    "qual.head(3)"
   ]
  },
  {
   "cell_type": "code",
   "execution_count": 163,
   "id": "732ae90b",
   "metadata": {},
   "outputs": [],
   "source": [
    "qual_tolist = qual.columns.to_list()"
   ]
  },
  {
   "cell_type": "markdown",
   "id": "3f2c1e0f",
   "metadata": {},
   "source": [
    "###### 3. Ordinal Data - Integer: bin_data"
   ]
  },
  {
   "cell_type": "code",
   "execution_count": 164,
   "id": "c05e6cd7",
   "metadata": {},
   "outputs": [
    {
     "data": {
      "text/plain": [
       "Index(['Id', 'PID', 'MS SubClass', 'Lot Area', 'Overall Qual', 'Overall Cond',\n",
       "       'Year Built', 'Year Remod/Add', '1st Flr SF', '2nd Flr SF',\n",
       "       'Low Qual Fin SF', 'Gr Liv Area', 'Full Bath', 'Half Bath',\n",
       "       'Bedroom AbvGr', 'Kitchen AbvGr', 'TotRms AbvGrd', 'Fireplaces',\n",
       "       'Wood Deck SF', 'Open Porch SF', 'Enclosed Porch', '3Ssn Porch',\n",
       "       'Screen Porch', 'Pool Area', 'Misc Val', 'Mo Sold', 'Yr Sold',\n",
       "       'SalePrice'],\n",
       "      dtype='object')"
      ]
     },
     "execution_count": 164,
     "metadata": {},
     "output_type": "execute_result"
    }
   ],
   "source": [
    "traindata.select_dtypes(include=['int64']).columns"
   ]
  },
  {
   "cell_type": "code",
   "execution_count": 165,
   "id": "81d328cb",
   "metadata": {},
   "outputs": [],
   "source": [
    "intdata_tolist = traindata.select_dtypes(include=['int64']).columns.to_list()"
   ]
  },
  {
   "cell_type": "code",
   "execution_count": 166,
   "id": "505ec0fc",
   "metadata": {},
   "outputs": [],
   "source": [
    "allintdata = traindata[intdata_tolist]"
   ]
  },
  {
   "cell_type": "code",
   "execution_count": 167,
   "id": "0bb78282",
   "metadata": {},
   "outputs": [],
   "source": [
    "bin_data = traindata[['Overall Qual', 'Overall Cond',\n",
    "       'Full Bath', 'Half Bath',\n",
    "       'Bedroom AbvGr', 'Kitchen AbvGr', 'TotRms AbvGrd', 'Fireplaces'\n",
    "        ]]"
   ]
  },
  {
   "cell_type": "code",
   "execution_count": 168,
   "id": "91946fbe",
   "metadata": {},
   "outputs": [],
   "source": [
    "ordbin_tolist = bin_data.columns.tolist()"
   ]
  },
  {
   "cell_type": "code",
   "execution_count": 169,
   "id": "83055255",
   "metadata": {},
   "outputs": [
    {
     "data": {
      "text/html": [
       "<div>\n",
       "<style scoped>\n",
       "    .dataframe tbody tr th:only-of-type {\n",
       "        vertical-align: middle;\n",
       "    }\n",
       "\n",
       "    .dataframe tbody tr th {\n",
       "        vertical-align: top;\n",
       "    }\n",
       "\n",
       "    .dataframe thead th {\n",
       "        text-align: right;\n",
       "    }\n",
       "</style>\n",
       "<table border=\"1\" class=\"dataframe\">\n",
       "  <thead>\n",
       "    <tr style=\"text-align: right;\">\n",
       "      <th></th>\n",
       "      <th>Overall Qual</th>\n",
       "      <th>Overall Cond</th>\n",
       "      <th>Full Bath</th>\n",
       "      <th>Half Bath</th>\n",
       "      <th>Bedroom AbvGr</th>\n",
       "      <th>Kitchen AbvGr</th>\n",
       "      <th>TotRms AbvGrd</th>\n",
       "      <th>Fireplaces</th>\n",
       "    </tr>\n",
       "  </thead>\n",
       "  <tbody>\n",
       "    <tr>\n",
       "      <th>0</th>\n",
       "      <td>6</td>\n",
       "      <td>8</td>\n",
       "      <td>2</td>\n",
       "      <td>1</td>\n",
       "      <td>3</td>\n",
       "      <td>1</td>\n",
       "      <td>6</td>\n",
       "      <td>0</td>\n",
       "    </tr>\n",
       "    <tr>\n",
       "      <th>1</th>\n",
       "      <td>7</td>\n",
       "      <td>5</td>\n",
       "      <td>2</td>\n",
       "      <td>1</td>\n",
       "      <td>4</td>\n",
       "      <td>1</td>\n",
       "      <td>8</td>\n",
       "      <td>1</td>\n",
       "    </tr>\n",
       "    <tr>\n",
       "      <th>2</th>\n",
       "      <td>5</td>\n",
       "      <td>7</td>\n",
       "      <td>1</td>\n",
       "      <td>0</td>\n",
       "      <td>3</td>\n",
       "      <td>1</td>\n",
       "      <td>5</td>\n",
       "      <td>0</td>\n",
       "    </tr>\n",
       "  </tbody>\n",
       "</table>\n",
       "</div>"
      ],
      "text/plain": [
       "   Overall Qual  Overall Cond  Full Bath  Half Bath  Bedroom AbvGr  \\\n",
       "0             6             8          2          1              3   \n",
       "1             7             5          2          1              4   \n",
       "2             5             7          1          0              3   \n",
       "\n",
       "   Kitchen AbvGr  TotRms AbvGrd  Fireplaces  \n",
       "0              1              6           0  \n",
       "1              1              8           1  \n",
       "2              1              5           0  "
      ]
     },
     "execution_count": 169,
     "metadata": {},
     "output_type": "execute_result"
    }
   ],
   "source": [
    "bin_data.head(3)"
   ]
  },
  {
   "cell_type": "markdown",
   "id": "0278a233",
   "metadata": {},
   "source": [
    "###### 4. Int: int_data"
   ]
  },
  {
   "cell_type": "code",
   "execution_count": 170,
   "id": "b3b518cc",
   "metadata": {},
   "outputs": [],
   "source": [
    "int_data = allintdata.drop(columns=ordbin_tolist)"
   ]
  },
  {
   "cell_type": "code",
   "execution_count": 171,
   "id": "b18f7829",
   "metadata": {},
   "outputs": [
    {
     "data": {
      "text/html": [
       "<div>\n",
       "<style scoped>\n",
       "    .dataframe tbody tr th:only-of-type {\n",
       "        vertical-align: middle;\n",
       "    }\n",
       "\n",
       "    .dataframe tbody tr th {\n",
       "        vertical-align: top;\n",
       "    }\n",
       "\n",
       "    .dataframe thead th {\n",
       "        text-align: right;\n",
       "    }\n",
       "</style>\n",
       "<table border=\"1\" class=\"dataframe\">\n",
       "  <thead>\n",
       "    <tr style=\"text-align: right;\">\n",
       "      <th></th>\n",
       "      <th>Id</th>\n",
       "      <th>PID</th>\n",
       "      <th>MS SubClass</th>\n",
       "      <th>Lot Area</th>\n",
       "      <th>Year Built</th>\n",
       "      <th>Year Remod/Add</th>\n",
       "      <th>1st Flr SF</th>\n",
       "      <th>2nd Flr SF</th>\n",
       "      <th>Low Qual Fin SF</th>\n",
       "      <th>Gr Liv Area</th>\n",
       "      <th>Wood Deck SF</th>\n",
       "      <th>Open Porch SF</th>\n",
       "      <th>Enclosed Porch</th>\n",
       "      <th>3Ssn Porch</th>\n",
       "      <th>Screen Porch</th>\n",
       "      <th>Pool Area</th>\n",
       "      <th>Misc Val</th>\n",
       "      <th>Mo Sold</th>\n",
       "      <th>Yr Sold</th>\n",
       "      <th>SalePrice</th>\n",
       "    </tr>\n",
       "  </thead>\n",
       "  <tbody>\n",
       "    <tr>\n",
       "      <th>0</th>\n",
       "      <td>109</td>\n",
       "      <td>533352170</td>\n",
       "      <td>60</td>\n",
       "      <td>13517</td>\n",
       "      <td>1976</td>\n",
       "      <td>2005</td>\n",
       "      <td>725</td>\n",
       "      <td>754</td>\n",
       "      <td>0</td>\n",
       "      <td>1479</td>\n",
       "      <td>0</td>\n",
       "      <td>44</td>\n",
       "      <td>0</td>\n",
       "      <td>0</td>\n",
       "      <td>0</td>\n",
       "      <td>0</td>\n",
       "      <td>0</td>\n",
       "      <td>3</td>\n",
       "      <td>2010</td>\n",
       "      <td>130500</td>\n",
       "    </tr>\n",
       "    <tr>\n",
       "      <th>1</th>\n",
       "      <td>544</td>\n",
       "      <td>531379050</td>\n",
       "      <td>60</td>\n",
       "      <td>11492</td>\n",
       "      <td>1996</td>\n",
       "      <td>1997</td>\n",
       "      <td>913</td>\n",
       "      <td>1209</td>\n",
       "      <td>0</td>\n",
       "      <td>2122</td>\n",
       "      <td>0</td>\n",
       "      <td>74</td>\n",
       "      <td>0</td>\n",
       "      <td>0</td>\n",
       "      <td>0</td>\n",
       "      <td>0</td>\n",
       "      <td>0</td>\n",
       "      <td>4</td>\n",
       "      <td>2009</td>\n",
       "      <td>220000</td>\n",
       "    </tr>\n",
       "    <tr>\n",
       "      <th>2</th>\n",
       "      <td>153</td>\n",
       "      <td>535304180</td>\n",
       "      <td>20</td>\n",
       "      <td>7922</td>\n",
       "      <td>1953</td>\n",
       "      <td>2007</td>\n",
       "      <td>1057</td>\n",
       "      <td>0</td>\n",
       "      <td>0</td>\n",
       "      <td>1057</td>\n",
       "      <td>0</td>\n",
       "      <td>52</td>\n",
       "      <td>0</td>\n",
       "      <td>0</td>\n",
       "      <td>0</td>\n",
       "      <td>0</td>\n",
       "      <td>0</td>\n",
       "      <td>1</td>\n",
       "      <td>2010</td>\n",
       "      <td>109000</td>\n",
       "    </tr>\n",
       "  </tbody>\n",
       "</table>\n",
       "</div>"
      ],
      "text/plain": [
       "    Id        PID  MS SubClass  Lot Area  Year Built  Year Remod/Add  \\\n",
       "0  109  533352170           60     13517        1976            2005   \n",
       "1  544  531379050           60     11492        1996            1997   \n",
       "2  153  535304180           20      7922        1953            2007   \n",
       "\n",
       "   1st Flr SF  2nd Flr SF  Low Qual Fin SF  Gr Liv Area  Wood Deck SF  \\\n",
       "0         725         754                0         1479             0   \n",
       "1         913        1209                0         2122             0   \n",
       "2        1057           0                0         1057             0   \n",
       "\n",
       "   Open Porch SF  Enclosed Porch  3Ssn Porch  Screen Porch  Pool Area  \\\n",
       "0             44               0           0             0          0   \n",
       "1             74               0           0             0          0   \n",
       "2             52               0           0             0          0   \n",
       "\n",
       "   Misc Val  Mo Sold  Yr Sold  SalePrice  \n",
       "0         0        3     2010     130500  \n",
       "1         0        4     2009     220000  \n",
       "2         0        1     2010     109000  "
      ]
     },
     "execution_count": 171,
     "metadata": {},
     "output_type": "execute_result"
    }
   ],
   "source": [
    "int_data.head(3)"
   ]
  },
  {
   "cell_type": "markdown",
   "id": "e5b2ca8a",
   "metadata": {},
   "source": [
    "###### 5. Ordinal Data - Object: ord_df"
   ]
  },
  {
   "cell_type": "code",
   "execution_count": 172,
   "id": "a1b39b62",
   "metadata": {},
   "outputs": [
    {
     "data": {
      "text/html": [
       "<div>\n",
       "<style scoped>\n",
       "    .dataframe tbody tr th:only-of-type {\n",
       "        vertical-align: middle;\n",
       "    }\n",
       "\n",
       "    .dataframe tbody tr th {\n",
       "        vertical-align: top;\n",
       "    }\n",
       "\n",
       "    .dataframe thead th {\n",
       "        text-align: right;\n",
       "    }\n",
       "</style>\n",
       "<table border=\"1\" class=\"dataframe\">\n",
       "  <thead>\n",
       "    <tr style=\"text-align: right;\">\n",
       "      <th></th>\n",
       "      <th>Exter Qual</th>\n",
       "      <th>Exter Cond</th>\n",
       "      <th>Heating QC</th>\n",
       "      <th>Kitchen Qual</th>\n",
       "      <th>Fireplace Qu</th>\n",
       "      <th>Pool QC</th>\n",
       "      <th>Bsmt Qual</th>\n",
       "      <th>Bsmt Cond</th>\n",
       "      <th>Bsmt Exposure</th>\n",
       "      <th>Garage Qual</th>\n",
       "      <th>Garage Cond</th>\n",
       "    </tr>\n",
       "  </thead>\n",
       "  <tbody>\n",
       "    <tr>\n",
       "      <th>0</th>\n",
       "      <td>Gd</td>\n",
       "      <td>TA</td>\n",
       "      <td>Ex</td>\n",
       "      <td>Gd</td>\n",
       "      <td>NA</td>\n",
       "      <td>NA</td>\n",
       "      <td>TA</td>\n",
       "      <td>TA</td>\n",
       "      <td>No</td>\n",
       "      <td>TA</td>\n",
       "      <td>TA</td>\n",
       "    </tr>\n",
       "    <tr>\n",
       "      <th>1</th>\n",
       "      <td>Gd</td>\n",
       "      <td>TA</td>\n",
       "      <td>Ex</td>\n",
       "      <td>Gd</td>\n",
       "      <td>TA</td>\n",
       "      <td>NA</td>\n",
       "      <td>Gd</td>\n",
       "      <td>TA</td>\n",
       "      <td>No</td>\n",
       "      <td>TA</td>\n",
       "      <td>TA</td>\n",
       "    </tr>\n",
       "    <tr>\n",
       "      <th>2</th>\n",
       "      <td>TA</td>\n",
       "      <td>Gd</td>\n",
       "      <td>TA</td>\n",
       "      <td>Gd</td>\n",
       "      <td>NA</td>\n",
       "      <td>NA</td>\n",
       "      <td>TA</td>\n",
       "      <td>TA</td>\n",
       "      <td>No</td>\n",
       "      <td>TA</td>\n",
       "      <td>TA</td>\n",
       "    </tr>\n",
       "  </tbody>\n",
       "</table>\n",
       "</div>"
      ],
      "text/plain": [
       "  Exter Qual Exter Cond Heating QC Kitchen Qual Fireplace Qu Pool QC  \\\n",
       "0         Gd         TA         Ex           Gd           NA      NA   \n",
       "1         Gd         TA         Ex           Gd           TA      NA   \n",
       "2         TA         Gd         TA           Gd           NA      NA   \n",
       "\n",
       "  Bsmt Qual Bsmt Cond Bsmt Exposure Garage Qual Garage Cond  \n",
       "0        TA        TA            No          TA          TA  \n",
       "1        Gd        TA            No          TA          TA  \n",
       "2        TA        TA            No          TA          TA  "
      ]
     },
     "execution_count": 172,
     "metadata": {},
     "output_type": "execute_result"
    }
   ],
   "source": [
    "ord_df.head(3)"
   ]
  },
  {
   "cell_type": "code",
   "execution_count": 173,
   "id": "3b5e6c95",
   "metadata": {},
   "outputs": [
    {
     "data": {
      "text/plain": [
       "(2051, 11)"
      ]
     },
     "execution_count": 173,
     "metadata": {},
     "output_type": "execute_result"
    }
   ],
   "source": [
    "ord_df.shape"
   ]
  },
  {
   "cell_type": "markdown",
   "id": "7fef7450",
   "metadata": {},
   "source": [
    "##### Ensuring that no data was missed out."
   ]
  },
  {
   "cell_type": "code",
   "execution_count": 174,
   "id": "f47aa792",
   "metadata": {},
   "outputs": [
    {
     "data": {
      "text/plain": [
       "(2051, 11)"
      ]
     },
     "execution_count": 174,
     "metadata": {},
     "output_type": "execute_result"
    }
   ],
   "source": [
    "quant.shape"
   ]
  },
  {
   "cell_type": "code",
   "execution_count": 175,
   "id": "e194bb5f",
   "metadata": {},
   "outputs": [
    {
     "data": {
      "text/plain": [
       "(2051, 31)"
      ]
     },
     "execution_count": 175,
     "metadata": {},
     "output_type": "execute_result"
    }
   ],
   "source": [
    "qual.shape"
   ]
  },
  {
   "cell_type": "code",
   "execution_count": 176,
   "id": "69a88b90",
   "metadata": {},
   "outputs": [
    {
     "data": {
      "text/plain": [
       "(2051, 20)"
      ]
     },
     "execution_count": 176,
     "metadata": {},
     "output_type": "execute_result"
    }
   ],
   "source": [
    "int_data.shape"
   ]
  },
  {
   "cell_type": "code",
   "execution_count": 177,
   "id": "de5e702c",
   "metadata": {},
   "outputs": [
    {
     "data": {
      "text/plain": [
       "(2051, 8)"
      ]
     },
     "execution_count": 177,
     "metadata": {},
     "output_type": "execute_result"
    }
   ],
   "source": [
    "bin_data.shape"
   ]
  },
  {
   "cell_type": "code",
   "execution_count": 178,
   "id": "01ec68cc",
   "metadata": {},
   "outputs": [
    {
     "data": {
      "text/plain": [
       "(2051, 11)"
      ]
     },
     "execution_count": 178,
     "metadata": {},
     "output_type": "execute_result"
    }
   ],
   "source": [
    "ord_df.shape"
   ]
  },
  {
   "cell_type": "markdown",
   "id": "d8573a4f",
   "metadata": {},
   "source": [
    "Columns adds up correctly to 81."
   ]
  },
  {
   "cell_type": "markdown",
   "id": "c68d95ae",
   "metadata": {},
   "source": [
    "## Encoding"
   ]
  },
  {
   "cell_type": "markdown",
   "id": "edd6a5ae",
   "metadata": {},
   "source": [
    "###### Categorical dataframe - One hot encoding"
   ]
  },
  {
   "cell_type": "markdown",
   "id": "8aef2917",
   "metadata": {},
   "source": [
    "###### Pre-encoding check"
   ]
  },
  {
   "cell_type": "code",
   "execution_count": 179,
   "id": "8f399e3e",
   "metadata": {},
   "outputs": [
    {
     "data": {
      "text/plain": [
       "(2051, 31)"
      ]
     },
     "execution_count": 179,
     "metadata": {},
     "output_type": "execute_result"
    }
   ],
   "source": [
    "qual.shape"
   ]
  },
  {
   "cell_type": "code",
   "execution_count": 180,
   "id": "cd386ac6",
   "metadata": {},
   "outputs": [
    {
     "data": {
      "text/plain": [
       "Index(['MS Zoning', 'Street', 'Alley', 'Lot Shape', 'Land Contour',\n",
       "       'Utilities', 'Lot Config', 'Land Slope', 'Neighborhood', 'Condition 1',\n",
       "       'Condition 2', 'Bldg Type', 'House Style', 'Roof Style', 'Roof Matl',\n",
       "       'Exterior 1st', 'Exterior 2nd', 'Mas Vnr Type', 'Foundation', 'Heating',\n",
       "       'Central Air', 'Electrical', 'Functional', 'Paved Drive', 'Fence',\n",
       "       'Misc Feature', 'Sale Type', 'BsmtFin Type 1', 'BsmtFin Type 2',\n",
       "       'Garage Type', 'Garage Finish'],\n",
       "      dtype='object')"
      ]
     },
     "execution_count": 180,
     "metadata": {},
     "output_type": "execute_result"
    }
   ],
   "source": [
    "qual.columns"
   ]
  },
  {
   "cell_type": "markdown",
   "id": "96fbef1e",
   "metadata": {},
   "source": [
    "###### One hot encoding"
   ]
  },
  {
   "cell_type": "code",
   "execution_count": 181,
   "id": "1e3d5e83",
   "metadata": {},
   "outputs": [],
   "source": [
    "qual1 = pd.get_dummies(qual, drop_first=True)"
   ]
  },
  {
   "cell_type": "code",
   "execution_count": 182,
   "id": "f4788220",
   "metadata": {},
   "outputs": [
    {
     "data": {
      "text/html": [
       "<div>\n",
       "<style scoped>\n",
       "    .dataframe tbody tr th:only-of-type {\n",
       "        vertical-align: middle;\n",
       "    }\n",
       "\n",
       "    .dataframe tbody tr th {\n",
       "        vertical-align: top;\n",
       "    }\n",
       "\n",
       "    .dataframe thead th {\n",
       "        text-align: right;\n",
       "    }\n",
       "</style>\n",
       "<table border=\"1\" class=\"dataframe\">\n",
       "  <thead>\n",
       "    <tr style=\"text-align: right;\">\n",
       "      <th></th>\n",
       "      <th>MS Zoning_C (all)</th>\n",
       "      <th>MS Zoning_FV</th>\n",
       "      <th>MS Zoning_I (all)</th>\n",
       "      <th>MS Zoning_RH</th>\n",
       "      <th>MS Zoning_RL</th>\n",
       "      <th>MS Zoning_RM</th>\n",
       "      <th>Street_Pave</th>\n",
       "      <th>Alley_NA</th>\n",
       "      <th>Alley_Pave</th>\n",
       "      <th>Lot Shape_IR2</th>\n",
       "      <th>...</th>\n",
       "      <th>BsmtFin Type 2_Unf</th>\n",
       "      <th>Garage Type_Attchd</th>\n",
       "      <th>Garage Type_Basment</th>\n",
       "      <th>Garage Type_BuiltIn</th>\n",
       "      <th>Garage Type_CarPort</th>\n",
       "      <th>Garage Type_Detchd</th>\n",
       "      <th>Garage Type_NA</th>\n",
       "      <th>Garage Finish_NA</th>\n",
       "      <th>Garage Finish_RFn</th>\n",
       "      <th>Garage Finish_Unf</th>\n",
       "    </tr>\n",
       "  </thead>\n",
       "  <tbody>\n",
       "    <tr>\n",
       "      <th>0</th>\n",
       "      <td>0</td>\n",
       "      <td>0</td>\n",
       "      <td>0</td>\n",
       "      <td>0</td>\n",
       "      <td>1</td>\n",
       "      <td>0</td>\n",
       "      <td>1</td>\n",
       "      <td>1</td>\n",
       "      <td>0</td>\n",
       "      <td>0</td>\n",
       "      <td>...</td>\n",
       "      <td>1</td>\n",
       "      <td>1</td>\n",
       "      <td>0</td>\n",
       "      <td>0</td>\n",
       "      <td>0</td>\n",
       "      <td>0</td>\n",
       "      <td>0</td>\n",
       "      <td>0</td>\n",
       "      <td>1</td>\n",
       "      <td>0</td>\n",
       "    </tr>\n",
       "    <tr>\n",
       "      <th>1</th>\n",
       "      <td>0</td>\n",
       "      <td>0</td>\n",
       "      <td>0</td>\n",
       "      <td>0</td>\n",
       "      <td>1</td>\n",
       "      <td>0</td>\n",
       "      <td>1</td>\n",
       "      <td>1</td>\n",
       "      <td>0</td>\n",
       "      <td>0</td>\n",
       "      <td>...</td>\n",
       "      <td>1</td>\n",
       "      <td>1</td>\n",
       "      <td>0</td>\n",
       "      <td>0</td>\n",
       "      <td>0</td>\n",
       "      <td>0</td>\n",
       "      <td>0</td>\n",
       "      <td>0</td>\n",
       "      <td>1</td>\n",
       "      <td>0</td>\n",
       "    </tr>\n",
       "    <tr>\n",
       "      <th>2</th>\n",
       "      <td>0</td>\n",
       "      <td>0</td>\n",
       "      <td>0</td>\n",
       "      <td>0</td>\n",
       "      <td>1</td>\n",
       "      <td>0</td>\n",
       "      <td>1</td>\n",
       "      <td>1</td>\n",
       "      <td>0</td>\n",
       "      <td>0</td>\n",
       "      <td>...</td>\n",
       "      <td>1</td>\n",
       "      <td>0</td>\n",
       "      <td>0</td>\n",
       "      <td>0</td>\n",
       "      <td>0</td>\n",
       "      <td>1</td>\n",
       "      <td>0</td>\n",
       "      <td>0</td>\n",
       "      <td>0</td>\n",
       "      <td>1</td>\n",
       "    </tr>\n",
       "  </tbody>\n",
       "</table>\n",
       "<p>3 rows × 179 columns</p>\n",
       "</div>"
      ],
      "text/plain": [
       "   MS Zoning_C (all)  MS Zoning_FV  MS Zoning_I (all)  MS Zoning_RH  \\\n",
       "0                  0             0                  0             0   \n",
       "1                  0             0                  0             0   \n",
       "2                  0             0                  0             0   \n",
       "\n",
       "   MS Zoning_RL  MS Zoning_RM  Street_Pave  Alley_NA  Alley_Pave  \\\n",
       "0             1             0            1         1           0   \n",
       "1             1             0            1         1           0   \n",
       "2             1             0            1         1           0   \n",
       "\n",
       "   Lot Shape_IR2  ...  BsmtFin Type 2_Unf  Garage Type_Attchd  \\\n",
       "0              0  ...                   1                   1   \n",
       "1              0  ...                   1                   1   \n",
       "2              0  ...                   1                   0   \n",
       "\n",
       "   Garage Type_Basment  Garage Type_BuiltIn  Garage Type_CarPort  \\\n",
       "0                    0                    0                    0   \n",
       "1                    0                    0                    0   \n",
       "2                    0                    0                    0   \n",
       "\n",
       "   Garage Type_Detchd  Garage Type_NA  Garage Finish_NA  Garage Finish_RFn  \\\n",
       "0                   0               0                 0                  1   \n",
       "1                   0               0                 0                  1   \n",
       "2                   1               0                 0                  0   \n",
       "\n",
       "   Garage Finish_Unf  \n",
       "0                  0  \n",
       "1                  0  \n",
       "2                  1  \n",
       "\n",
       "[3 rows x 179 columns]"
      ]
     },
     "execution_count": 182,
     "metadata": {},
     "output_type": "execute_result"
    }
   ],
   "source": [
    "qual1.head(3)"
   ]
  },
  {
   "cell_type": "markdown",
   "id": "323ea02b",
   "metadata": {},
   "source": [
    "###### Post encoding check"
   ]
  },
  {
   "cell_type": "code",
   "execution_count": 183,
   "id": "171d11fe",
   "metadata": {},
   "outputs": [
    {
     "data": {
      "text/plain": [
       "(2051, 179)"
      ]
     },
     "execution_count": 183,
     "metadata": {},
     "output_type": "execute_result"
    }
   ],
   "source": [
    "qual1.shape"
   ]
  },
  {
   "cell_type": "code",
   "execution_count": 184,
   "id": "5c8e919c",
   "metadata": {},
   "outputs": [
    {
     "data": {
      "text/plain": [
       "Index(['MS Zoning_C (all)', 'MS Zoning_FV', 'MS Zoning_I (all)',\n",
       "       'MS Zoning_RH', 'MS Zoning_RL', 'MS Zoning_RM', 'Street_Pave',\n",
       "       'Alley_NA', 'Alley_Pave', 'Lot Shape_IR2',\n",
       "       ...\n",
       "       'BsmtFin Type 2_Unf', 'Garage Type_Attchd', 'Garage Type_Basment',\n",
       "       'Garage Type_BuiltIn', 'Garage Type_CarPort', 'Garage Type_Detchd',\n",
       "       'Garage Type_NA', 'Garage Finish_NA', 'Garage Finish_RFn',\n",
       "       'Garage Finish_Unf'],\n",
       "      dtype='object', length=179)"
      ]
     },
     "execution_count": 184,
     "metadata": {},
     "output_type": "execute_result"
    }
   ],
   "source": [
    "qual1.columns"
   ]
  },
  {
   "cell_type": "code",
   "execution_count": 185,
   "id": "988d0319",
   "metadata": {},
   "outputs": [],
   "source": [
    "qual1_tolist = qual1.columns.to_list()"
   ]
  },
  {
   "cell_type": "markdown",
   "id": "2701bc21",
   "metadata": {},
   "source": [
    "###### Ordinal dataframe - Ordinal encoding"
   ]
  },
  {
   "cell_type": "code",
   "execution_count": 186,
   "id": "0c969b29",
   "metadata": {},
   "outputs": [
    {
     "name": "stdout",
     "output_type": "stream",
     "text": [
      "Exter Qual, ['Gd' 'TA' 'Ex' 'Fa']\n",
      "Exter Cond, ['TA' 'Gd' 'Fa' 'Ex' 'Po']\n",
      "Heating QC, ['Ex' 'TA' 'Gd' 'Fa' 'Po']\n",
      "Kitchen Qual, ['Gd' 'TA' 'Fa' 'Ex']\n",
      "Fireplace Qu, ['NA' 'TA' 'Gd' 'Po' 'Ex' 'Fa']\n",
      "Pool QC, ['NA' 'Fa' 'Gd' 'Ex' 'TA']\n",
      "Bsmt Qual, ['TA' 'Gd' 'Fa' 'NA' 'Ex' 'Po']\n",
      "Bsmt Cond, ['TA' 'Gd' 'NA' 'Fa' 'Po' 'Ex']\n",
      "Bsmt Exposure, ['No' 'Gd' 'Av' 'NA' 'Mn']\n",
      "Garage Qual, ['TA' 'Fa' 'NA' 'Gd' 'Ex' 'Po']\n",
      "Garage Cond, ['TA' 'Fa' 'NA' 'Po' 'Gd' 'Ex']\n"
     ]
    }
   ],
   "source": [
    "for j in ord_df_tolist:\n",
    "    print(f'{j}, {ord_df[j].unique()}')"
   ]
  },
  {
   "cell_type": "code",
   "execution_count": 187,
   "id": "f278ee99",
   "metadata": {},
   "outputs": [],
   "source": [
    "qual_dict = { 'NA': 0,\n",
    "              'Po': 1,\n",
    "              'Fa': 2,\n",
    "              'TA': 3,\n",
    "              'Gd': 4,\n",
    "              'Ex': 5}"
   ]
  },
  {
   "cell_type": "code",
   "execution_count": 188,
   "id": "53c39a21",
   "metadata": {},
   "outputs": [],
   "source": [
    "bsmtex_dict = { 'NA': 0,\n",
    "              'No': 1,\n",
    "              'Mn': 2,\n",
    "              'Av': 3,\n",
    "              'Gd': 4}"
   ]
  },
  {
   "cell_type": "markdown",
   "id": "5ed17a99",
   "metadata": {},
   "source": [
    "###### 1. Bsmt Exposure"
   ]
  },
  {
   "cell_type": "code",
   "execution_count": 189,
   "id": "f8281af8",
   "metadata": {},
   "outputs": [],
   "source": [
    "ord_df['Bsmt Exposure_ord'] = ord_df['Bsmt Exposure'].map(bsmtex_dict)\n",
    "ord_df = ord_df.drop(columns=['Bsmt Exposure'])"
   ]
  },
  {
   "cell_type": "code",
   "execution_count": 190,
   "id": "82880741",
   "metadata": {},
   "outputs": [
    {
     "data": {
      "text/html": [
       "<div>\n",
       "<style scoped>\n",
       "    .dataframe tbody tr th:only-of-type {\n",
       "        vertical-align: middle;\n",
       "    }\n",
       "\n",
       "    .dataframe tbody tr th {\n",
       "        vertical-align: top;\n",
       "    }\n",
       "\n",
       "    .dataframe thead th {\n",
       "        text-align: right;\n",
       "    }\n",
       "</style>\n",
       "<table border=\"1\" class=\"dataframe\">\n",
       "  <thead>\n",
       "    <tr style=\"text-align: right;\">\n",
       "      <th></th>\n",
       "      <th>Exter Qual</th>\n",
       "      <th>Exter Cond</th>\n",
       "      <th>Heating QC</th>\n",
       "      <th>Kitchen Qual</th>\n",
       "      <th>Fireplace Qu</th>\n",
       "      <th>Pool QC</th>\n",
       "      <th>Bsmt Qual</th>\n",
       "      <th>Bsmt Cond</th>\n",
       "      <th>Garage Qual</th>\n",
       "      <th>Garage Cond</th>\n",
       "      <th>Bsmt Exposure_ord</th>\n",
       "    </tr>\n",
       "  </thead>\n",
       "  <tbody>\n",
       "    <tr>\n",
       "      <th>0</th>\n",
       "      <td>Gd</td>\n",
       "      <td>TA</td>\n",
       "      <td>Ex</td>\n",
       "      <td>Gd</td>\n",
       "      <td>NA</td>\n",
       "      <td>NA</td>\n",
       "      <td>TA</td>\n",
       "      <td>TA</td>\n",
       "      <td>TA</td>\n",
       "      <td>TA</td>\n",
       "      <td>1</td>\n",
       "    </tr>\n",
       "    <tr>\n",
       "      <th>1</th>\n",
       "      <td>Gd</td>\n",
       "      <td>TA</td>\n",
       "      <td>Ex</td>\n",
       "      <td>Gd</td>\n",
       "      <td>TA</td>\n",
       "      <td>NA</td>\n",
       "      <td>Gd</td>\n",
       "      <td>TA</td>\n",
       "      <td>TA</td>\n",
       "      <td>TA</td>\n",
       "      <td>1</td>\n",
       "    </tr>\n",
       "    <tr>\n",
       "      <th>2</th>\n",
       "      <td>TA</td>\n",
       "      <td>Gd</td>\n",
       "      <td>TA</td>\n",
       "      <td>Gd</td>\n",
       "      <td>NA</td>\n",
       "      <td>NA</td>\n",
       "      <td>TA</td>\n",
       "      <td>TA</td>\n",
       "      <td>TA</td>\n",
       "      <td>TA</td>\n",
       "      <td>1</td>\n",
       "    </tr>\n",
       "  </tbody>\n",
       "</table>\n",
       "</div>"
      ],
      "text/plain": [
       "  Exter Qual Exter Cond Heating QC Kitchen Qual Fireplace Qu Pool QC  \\\n",
       "0         Gd         TA         Ex           Gd           NA      NA   \n",
       "1         Gd         TA         Ex           Gd           TA      NA   \n",
       "2         TA         Gd         TA           Gd           NA      NA   \n",
       "\n",
       "  Bsmt Qual Bsmt Cond Garage Qual Garage Cond  Bsmt Exposure_ord  \n",
       "0        TA        TA          TA          TA                  1  \n",
       "1        Gd        TA          TA          TA                  1  \n",
       "2        TA        TA          TA          TA                  1  "
      ]
     },
     "execution_count": 190,
     "metadata": {},
     "output_type": "execute_result"
    }
   ],
   "source": [
    "ord_df.head(3)"
   ]
  },
  {
   "cell_type": "code",
   "execution_count": 191,
   "id": "e5b93f34",
   "metadata": {},
   "outputs": [
    {
     "data": {
      "text/plain": [
       "(2051, 11)"
      ]
     },
     "execution_count": 191,
     "metadata": {},
     "output_type": "execute_result"
    }
   ],
   "source": [
    "ord_df.shape"
   ]
  },
  {
   "cell_type": "markdown",
   "id": "02f26609",
   "metadata": {},
   "source": [
    "###### 2. Others except Bsmt Exposure"
   ]
  },
  {
   "cell_type": "code",
   "execution_count": 192,
   "id": "cfb9136e",
   "metadata": {},
   "outputs": [],
   "source": [
    "ord_df_tolist2 = ['Exter Qual',\n",
    " 'Exter Cond',\n",
    " 'Heating QC',\n",
    " 'Kitchen Qual',\n",
    " 'Fireplace Qu',\n",
    " 'Pool QC',\n",
    " 'Bsmt Qual',\n",
    " 'Bsmt Cond',\n",
    " 'Garage Qual',\n",
    " 'Garage Cond']"
   ]
  },
  {
   "cell_type": "code",
   "execution_count": 193,
   "id": "5bd8fbe8",
   "metadata": {},
   "outputs": [],
   "source": [
    "ord_df2 = ord_df.drop(columns = ['Bsmt Exposure_ord'])"
   ]
  },
  {
   "cell_type": "code",
   "execution_count": 194,
   "id": "9d291250",
   "metadata": {},
   "outputs": [],
   "source": [
    "for k in ord_df_tolist2:\n",
    "    ord_df[k+\"_ord\"] = ord_df2[k].map(qual_dict)\n",
    "    ord_df = ord_df.drop(columns=[k])"
   ]
  },
  {
   "cell_type": "code",
   "execution_count": 195,
   "id": "586d19f2",
   "metadata": {},
   "outputs": [],
   "source": [
    "ord_encode = ord_df"
   ]
  },
  {
   "cell_type": "code",
   "execution_count": 196,
   "id": "4e828397",
   "metadata": {},
   "outputs": [
    {
     "data": {
      "text/plain": [
       "(2051, 11)"
      ]
     },
     "execution_count": 196,
     "metadata": {},
     "output_type": "execute_result"
    }
   ],
   "source": [
    "ord_encode.shape"
   ]
  },
  {
   "cell_type": "markdown",
   "id": "48714561",
   "metadata": {},
   "source": [
    "ord_encode shape matches"
   ]
  },
  {
   "cell_type": "code",
   "execution_count": 197,
   "id": "582d22ff",
   "metadata": {},
   "outputs": [
    {
     "data": {
      "text/html": [
       "<div>\n",
       "<style scoped>\n",
       "    .dataframe tbody tr th:only-of-type {\n",
       "        vertical-align: middle;\n",
       "    }\n",
       "\n",
       "    .dataframe tbody tr th {\n",
       "        vertical-align: top;\n",
       "    }\n",
       "\n",
       "    .dataframe thead th {\n",
       "        text-align: right;\n",
       "    }\n",
       "</style>\n",
       "<table border=\"1\" class=\"dataframe\">\n",
       "  <thead>\n",
       "    <tr style=\"text-align: right;\">\n",
       "      <th></th>\n",
       "      <th>Bsmt Exposure_ord</th>\n",
       "      <th>Exter Qual_ord</th>\n",
       "      <th>Exter Cond_ord</th>\n",
       "      <th>Heating QC_ord</th>\n",
       "      <th>Kitchen Qual_ord</th>\n",
       "      <th>Fireplace Qu_ord</th>\n",
       "      <th>Pool QC_ord</th>\n",
       "      <th>Bsmt Qual_ord</th>\n",
       "      <th>Bsmt Cond_ord</th>\n",
       "      <th>Garage Qual_ord</th>\n",
       "      <th>Garage Cond_ord</th>\n",
       "    </tr>\n",
       "  </thead>\n",
       "  <tbody>\n",
       "    <tr>\n",
       "      <th>0</th>\n",
       "      <td>1</td>\n",
       "      <td>4</td>\n",
       "      <td>3</td>\n",
       "      <td>5</td>\n",
       "      <td>4</td>\n",
       "      <td>0</td>\n",
       "      <td>0</td>\n",
       "      <td>3</td>\n",
       "      <td>3</td>\n",
       "      <td>3</td>\n",
       "      <td>3</td>\n",
       "    </tr>\n",
       "    <tr>\n",
       "      <th>1</th>\n",
       "      <td>1</td>\n",
       "      <td>4</td>\n",
       "      <td>3</td>\n",
       "      <td>5</td>\n",
       "      <td>4</td>\n",
       "      <td>3</td>\n",
       "      <td>0</td>\n",
       "      <td>4</td>\n",
       "      <td>3</td>\n",
       "      <td>3</td>\n",
       "      <td>3</td>\n",
       "    </tr>\n",
       "    <tr>\n",
       "      <th>2</th>\n",
       "      <td>1</td>\n",
       "      <td>3</td>\n",
       "      <td>4</td>\n",
       "      <td>3</td>\n",
       "      <td>4</td>\n",
       "      <td>0</td>\n",
       "      <td>0</td>\n",
       "      <td>3</td>\n",
       "      <td>3</td>\n",
       "      <td>3</td>\n",
       "      <td>3</td>\n",
       "    </tr>\n",
       "  </tbody>\n",
       "</table>\n",
       "</div>"
      ],
      "text/plain": [
       "   Bsmt Exposure_ord  Exter Qual_ord  Exter Cond_ord  Heating QC_ord  \\\n",
       "0                  1               4               3               5   \n",
       "1                  1               4               3               5   \n",
       "2                  1               3               4               3   \n",
       "\n",
       "   Kitchen Qual_ord  Fireplace Qu_ord  Pool QC_ord  Bsmt Qual_ord  \\\n",
       "0                 4                 0            0              3   \n",
       "1                 4                 3            0              4   \n",
       "2                 4                 0            0              3   \n",
       "\n",
       "   Bsmt Cond_ord  Garage Qual_ord  Garage Cond_ord  \n",
       "0              3                3                3  \n",
       "1              3                3                3  \n",
       "2              3                3                3  "
      ]
     },
     "execution_count": 197,
     "metadata": {},
     "output_type": "execute_result"
    }
   ],
   "source": [
    "ord_encode.head(3)"
   ]
  },
  {
   "cell_type": "code",
   "execution_count": 198,
   "id": "30e58223",
   "metadata": {},
   "outputs": [],
   "source": [
    "ord_encode_tolist = ord_encode.columns.to_list()"
   ]
  },
  {
   "cell_type": "markdown",
   "id": "aae1f456",
   "metadata": {},
   "source": [
    "# Merging data back to train_data"
   ]
  },
  {
   "cell_type": "markdown",
   "id": "923e86e7",
   "metadata": {},
   "source": [
    "#### 1. Dropping and Merging one hot encoded data: qual1"
   ]
  },
  {
   "cell_type": "code",
   "execution_count": 199,
   "id": "6cf06b3b",
   "metadata": {},
   "outputs": [],
   "source": [
    "traindata_mod = traindata.drop(columns=qual_tolist)"
   ]
  },
  {
   "cell_type": "code",
   "execution_count": 200,
   "id": "09a5d5f6",
   "metadata": {},
   "outputs": [],
   "source": [
    "traindata_mod = traindata_mod.merge(qual1, left_index=True, right_index=True)"
   ]
  },
  {
   "cell_type": "code",
   "execution_count": 201,
   "id": "0ef6eb44",
   "metadata": {},
   "outputs": [
    {
     "data": {
      "text/html": [
       "<div>\n",
       "<style scoped>\n",
       "    .dataframe tbody tr th:only-of-type {\n",
       "        vertical-align: middle;\n",
       "    }\n",
       "\n",
       "    .dataframe tbody tr th {\n",
       "        vertical-align: top;\n",
       "    }\n",
       "\n",
       "    .dataframe thead th {\n",
       "        text-align: right;\n",
       "    }\n",
       "</style>\n",
       "<table border=\"1\" class=\"dataframe\">\n",
       "  <thead>\n",
       "    <tr style=\"text-align: right;\">\n",
       "      <th></th>\n",
       "      <th>Id</th>\n",
       "      <th>PID</th>\n",
       "      <th>MS SubClass</th>\n",
       "      <th>Lot Frontage</th>\n",
       "      <th>Lot Area</th>\n",
       "      <th>Overall Qual</th>\n",
       "      <th>Overall Cond</th>\n",
       "      <th>Year Built</th>\n",
       "      <th>Year Remod/Add</th>\n",
       "      <th>Mas Vnr Area</th>\n",
       "      <th>...</th>\n",
       "      <th>BsmtFin Type 2_Unf</th>\n",
       "      <th>Garage Type_Attchd</th>\n",
       "      <th>Garage Type_Basment</th>\n",
       "      <th>Garage Type_BuiltIn</th>\n",
       "      <th>Garage Type_CarPort</th>\n",
       "      <th>Garage Type_Detchd</th>\n",
       "      <th>Garage Type_NA</th>\n",
       "      <th>Garage Finish_NA</th>\n",
       "      <th>Garage Finish_RFn</th>\n",
       "      <th>Garage Finish_Unf</th>\n",
       "    </tr>\n",
       "  </thead>\n",
       "  <tbody>\n",
       "    <tr>\n",
       "      <th>0</th>\n",
       "      <td>109</td>\n",
       "      <td>533352170</td>\n",
       "      <td>60</td>\n",
       "      <td>0.0</td>\n",
       "      <td>13517</td>\n",
       "      <td>6</td>\n",
       "      <td>8</td>\n",
       "      <td>1976</td>\n",
       "      <td>2005</td>\n",
       "      <td>289.0</td>\n",
       "      <td>...</td>\n",
       "      <td>1</td>\n",
       "      <td>1</td>\n",
       "      <td>0</td>\n",
       "      <td>0</td>\n",
       "      <td>0</td>\n",
       "      <td>0</td>\n",
       "      <td>0</td>\n",
       "      <td>0</td>\n",
       "      <td>1</td>\n",
       "      <td>0</td>\n",
       "    </tr>\n",
       "    <tr>\n",
       "      <th>1</th>\n",
       "      <td>544</td>\n",
       "      <td>531379050</td>\n",
       "      <td>60</td>\n",
       "      <td>43.0</td>\n",
       "      <td>11492</td>\n",
       "      <td>7</td>\n",
       "      <td>5</td>\n",
       "      <td>1996</td>\n",
       "      <td>1997</td>\n",
       "      <td>132.0</td>\n",
       "      <td>...</td>\n",
       "      <td>1</td>\n",
       "      <td>1</td>\n",
       "      <td>0</td>\n",
       "      <td>0</td>\n",
       "      <td>0</td>\n",
       "      <td>0</td>\n",
       "      <td>0</td>\n",
       "      <td>0</td>\n",
       "      <td>1</td>\n",
       "      <td>0</td>\n",
       "    </tr>\n",
       "    <tr>\n",
       "      <th>2</th>\n",
       "      <td>153</td>\n",
       "      <td>535304180</td>\n",
       "      <td>20</td>\n",
       "      <td>68.0</td>\n",
       "      <td>7922</td>\n",
       "      <td>5</td>\n",
       "      <td>7</td>\n",
       "      <td>1953</td>\n",
       "      <td>2007</td>\n",
       "      <td>0.0</td>\n",
       "      <td>...</td>\n",
       "      <td>1</td>\n",
       "      <td>0</td>\n",
       "      <td>0</td>\n",
       "      <td>0</td>\n",
       "      <td>0</td>\n",
       "      <td>1</td>\n",
       "      <td>0</td>\n",
       "      <td>0</td>\n",
       "      <td>0</td>\n",
       "      <td>1</td>\n",
       "    </tr>\n",
       "  </tbody>\n",
       "</table>\n",
       "<p>3 rows × 229 columns</p>\n",
       "</div>"
      ],
      "text/plain": [
       "    Id        PID  MS SubClass  Lot Frontage  Lot Area  Overall Qual  \\\n",
       "0  109  533352170           60           0.0     13517             6   \n",
       "1  544  531379050           60          43.0     11492             7   \n",
       "2  153  535304180           20          68.0      7922             5   \n",
       "\n",
       "   Overall Cond  Year Built  Year Remod/Add  Mas Vnr Area  ...  \\\n",
       "0             8        1976            2005         289.0  ...   \n",
       "1             5        1996            1997         132.0  ...   \n",
       "2             7        1953            2007           0.0  ...   \n",
       "\n",
       "  BsmtFin Type 2_Unf Garage Type_Attchd Garage Type_Basment  \\\n",
       "0                  1                  1                   0   \n",
       "1                  1                  1                   0   \n",
       "2                  1                  0                   0   \n",
       "\n",
       "   Garage Type_BuiltIn  Garage Type_CarPort  Garage Type_Detchd  \\\n",
       "0                    0                    0                   0   \n",
       "1                    0                    0                   0   \n",
       "2                    0                    0                   1   \n",
       "\n",
       "   Garage Type_NA  Garage Finish_NA  Garage Finish_RFn  Garage Finish_Unf  \n",
       "0               0                 0                  1                  0  \n",
       "1               0                 0                  1                  0  \n",
       "2               0                 0                  0                  1  \n",
       "\n",
       "[3 rows x 229 columns]"
      ]
     },
     "execution_count": 201,
     "metadata": {},
     "output_type": "execute_result"
    }
   ],
   "source": [
    "traindata_mod.head(3)"
   ]
  },
  {
   "cell_type": "code",
   "execution_count": 202,
   "id": "801b322e",
   "metadata": {},
   "outputs": [
    {
     "data": {
      "text/plain": [
       "(2051, 229)"
      ]
     },
     "execution_count": 202,
     "metadata": {},
     "output_type": "execute_result"
    }
   ],
   "source": [
    "traindata_mod.shape"
   ]
  },
  {
   "cell_type": "markdown",
   "id": "f8bd8d2e",
   "metadata": {},
   "source": [
    "#### 2. Dropping and Merging ordinal encoded data: ord_encode"
   ]
  },
  {
   "cell_type": "code",
   "execution_count": 203,
   "id": "fd4f67ff",
   "metadata": {},
   "outputs": [],
   "source": [
    "traindata_mod = traindata_mod.drop(columns=ord_df_tolist)"
   ]
  },
  {
   "cell_type": "code",
   "execution_count": 204,
   "id": "7a78dc36",
   "metadata": {},
   "outputs": [],
   "source": [
    "traindata_mod = traindata_mod.merge(ord_encode, left_index=True, right_index=True)"
   ]
  },
  {
   "cell_type": "code",
   "execution_count": 205,
   "id": "de3e1bbb",
   "metadata": {},
   "outputs": [
    {
     "data": {
      "text/html": [
       "<div>\n",
       "<style scoped>\n",
       "    .dataframe tbody tr th:only-of-type {\n",
       "        vertical-align: middle;\n",
       "    }\n",
       "\n",
       "    .dataframe tbody tr th {\n",
       "        vertical-align: top;\n",
       "    }\n",
       "\n",
       "    .dataframe thead th {\n",
       "        text-align: right;\n",
       "    }\n",
       "</style>\n",
       "<table border=\"1\" class=\"dataframe\">\n",
       "  <thead>\n",
       "    <tr style=\"text-align: right;\">\n",
       "      <th></th>\n",
       "      <th>Id</th>\n",
       "      <th>PID</th>\n",
       "      <th>MS SubClass</th>\n",
       "      <th>Lot Frontage</th>\n",
       "      <th>Lot Area</th>\n",
       "      <th>Overall Qual</th>\n",
       "      <th>Overall Cond</th>\n",
       "      <th>Year Built</th>\n",
       "      <th>Year Remod/Add</th>\n",
       "      <th>Mas Vnr Area</th>\n",
       "      <th>...</th>\n",
       "      <th>Exter Qual_ord</th>\n",
       "      <th>Exter Cond_ord</th>\n",
       "      <th>Heating QC_ord</th>\n",
       "      <th>Kitchen Qual_ord</th>\n",
       "      <th>Fireplace Qu_ord</th>\n",
       "      <th>Pool QC_ord</th>\n",
       "      <th>Bsmt Qual_ord</th>\n",
       "      <th>Bsmt Cond_ord</th>\n",
       "      <th>Garage Qual_ord</th>\n",
       "      <th>Garage Cond_ord</th>\n",
       "    </tr>\n",
       "  </thead>\n",
       "  <tbody>\n",
       "    <tr>\n",
       "      <th>0</th>\n",
       "      <td>109</td>\n",
       "      <td>533352170</td>\n",
       "      <td>60</td>\n",
       "      <td>0.0</td>\n",
       "      <td>13517</td>\n",
       "      <td>6</td>\n",
       "      <td>8</td>\n",
       "      <td>1976</td>\n",
       "      <td>2005</td>\n",
       "      <td>289.0</td>\n",
       "      <td>...</td>\n",
       "      <td>4</td>\n",
       "      <td>3</td>\n",
       "      <td>5</td>\n",
       "      <td>4</td>\n",
       "      <td>0</td>\n",
       "      <td>0</td>\n",
       "      <td>3</td>\n",
       "      <td>3</td>\n",
       "      <td>3</td>\n",
       "      <td>3</td>\n",
       "    </tr>\n",
       "    <tr>\n",
       "      <th>1</th>\n",
       "      <td>544</td>\n",
       "      <td>531379050</td>\n",
       "      <td>60</td>\n",
       "      <td>43.0</td>\n",
       "      <td>11492</td>\n",
       "      <td>7</td>\n",
       "      <td>5</td>\n",
       "      <td>1996</td>\n",
       "      <td>1997</td>\n",
       "      <td>132.0</td>\n",
       "      <td>...</td>\n",
       "      <td>4</td>\n",
       "      <td>3</td>\n",
       "      <td>5</td>\n",
       "      <td>4</td>\n",
       "      <td>3</td>\n",
       "      <td>0</td>\n",
       "      <td>4</td>\n",
       "      <td>3</td>\n",
       "      <td>3</td>\n",
       "      <td>3</td>\n",
       "    </tr>\n",
       "    <tr>\n",
       "      <th>2</th>\n",
       "      <td>153</td>\n",
       "      <td>535304180</td>\n",
       "      <td>20</td>\n",
       "      <td>68.0</td>\n",
       "      <td>7922</td>\n",
       "      <td>5</td>\n",
       "      <td>7</td>\n",
       "      <td>1953</td>\n",
       "      <td>2007</td>\n",
       "      <td>0.0</td>\n",
       "      <td>...</td>\n",
       "      <td>3</td>\n",
       "      <td>4</td>\n",
       "      <td>3</td>\n",
       "      <td>4</td>\n",
       "      <td>0</td>\n",
       "      <td>0</td>\n",
       "      <td>3</td>\n",
       "      <td>3</td>\n",
       "      <td>3</td>\n",
       "      <td>3</td>\n",
       "    </tr>\n",
       "  </tbody>\n",
       "</table>\n",
       "<p>3 rows × 229 columns</p>\n",
       "</div>"
      ],
      "text/plain": [
       "    Id        PID  MS SubClass  Lot Frontage  Lot Area  Overall Qual  \\\n",
       "0  109  533352170           60           0.0     13517             6   \n",
       "1  544  531379050           60          43.0     11492             7   \n",
       "2  153  535304180           20          68.0      7922             5   \n",
       "\n",
       "   Overall Cond  Year Built  Year Remod/Add  Mas Vnr Area  ...  \\\n",
       "0             8        1976            2005         289.0  ...   \n",
       "1             5        1996            1997         132.0  ...   \n",
       "2             7        1953            2007           0.0  ...   \n",
       "\n",
       "   Exter Qual_ord  Exter Cond_ord  Heating QC_ord  Kitchen Qual_ord  \\\n",
       "0               4               3               5                 4   \n",
       "1               4               3               5                 4   \n",
       "2               3               4               3                 4   \n",
       "\n",
       "   Fireplace Qu_ord  Pool QC_ord  Bsmt Qual_ord  Bsmt Cond_ord  \\\n",
       "0                 0            0              3              3   \n",
       "1                 3            0              4              3   \n",
       "2                 0            0              3              3   \n",
       "\n",
       "   Garage Qual_ord  Garage Cond_ord  \n",
       "0                3                3  \n",
       "1                3                3  \n",
       "2                3                3  \n",
       "\n",
       "[3 rows x 229 columns]"
      ]
     },
     "execution_count": 205,
     "metadata": {},
     "output_type": "execute_result"
    }
   ],
   "source": [
    "traindata_mod.head(3)"
   ]
  },
  {
   "cell_type": "code",
   "execution_count": 206,
   "id": "09566f1d",
   "metadata": {},
   "outputs": [
    {
     "data": {
      "text/plain": [
       "(2051, 229)"
      ]
     },
     "execution_count": 206,
     "metadata": {},
     "output_type": "execute_result"
    }
   ],
   "source": [
    "traindata_mod.shape"
   ]
  },
  {
   "cell_type": "markdown",
   "id": "b489deba",
   "metadata": {},
   "source": [
    "#### 3. Checking traindata_mod info"
   ]
  },
  {
   "cell_type": "code",
   "execution_count": 207,
   "id": "196b3fe2",
   "metadata": {},
   "outputs": [
    {
     "name": "stdout",
     "output_type": "stream",
     "text": [
      "<class 'pandas.core.frame.DataFrame'>\n",
      "RangeIndex: 2051 entries, 0 to 2050\n",
      "Columns: 229 entries, Id to Garage Cond_ord\n",
      "dtypes: float64(11), int64(39), uint8(179)\n",
      "memory usage: 1.1 MB\n"
     ]
    }
   ],
   "source": [
    "traindata_mod.info()"
   ]
  },
  {
   "cell_type": "markdown",
   "id": "27ba1064",
   "metadata": {},
   "source": [
    "#### Understanding skewness and kurtosis of data."
   ]
  },
  {
   "cell_type": "markdown",
   "id": "0a1897bd",
   "metadata": {},
   "source": [
    "###### Skewness"
   ]
  },
  {
   "cell_type": "code",
   "execution_count": 208,
   "id": "93e513fc",
   "metadata": {
    "scrolled": true
   },
   "outputs": [],
   "source": [
    "sk = pd.DataFrame(traindata_mod.skew(), columns=['skew'])"
   ]
  },
  {
   "cell_type": "code",
   "execution_count": 209,
   "id": "1330182d",
   "metadata": {},
   "outputs": [
    {
     "data": {
      "text/html": [
       "<div>\n",
       "<style scoped>\n",
       "    .dataframe tbody tr th:only-of-type {\n",
       "        vertical-align: middle;\n",
       "    }\n",
       "\n",
       "    .dataframe tbody tr th {\n",
       "        vertical-align: top;\n",
       "    }\n",
       "\n",
       "    .dataframe thead th {\n",
       "        text-align: right;\n",
       "    }\n",
       "</style>\n",
       "<table border=\"1\" class=\"dataframe\">\n",
       "  <thead>\n",
       "    <tr style=\"text-align: right;\">\n",
       "      <th></th>\n",
       "      <th>skew</th>\n",
       "    </tr>\n",
       "  </thead>\n",
       "  <tbody>\n",
       "    <tr>\n",
       "      <th>Id</th>\n",
       "      <td>-0.011139</td>\n",
       "    </tr>\n",
       "    <tr>\n",
       "      <th>PID</th>\n",
       "      <td>0.064336</td>\n",
       "    </tr>\n",
       "    <tr>\n",
       "      <th>MS SubClass</th>\n",
       "      <td>1.381004</td>\n",
       "    </tr>\n",
       "  </tbody>\n",
       "</table>\n",
       "</div>"
      ],
      "text/plain": [
       "                 skew\n",
       "Id          -0.011139\n",
       "PID          0.064336\n",
       "MS SubClass  1.381004"
      ]
     },
     "execution_count": 209,
     "metadata": {},
     "output_type": "execute_result"
    }
   ],
   "source": [
    "sk.head(3)"
   ]
  },
  {
   "cell_type": "markdown",
   "id": "8fa06800",
   "metadata": {},
   "source": [
    "###### Kurtosis"
   ]
  },
  {
   "cell_type": "code",
   "execution_count": 210,
   "id": "101b942b",
   "metadata": {},
   "outputs": [],
   "source": [
    "kt = pd.DataFrame(traindata_mod.kurtosis(), columns=['kurtosis'])"
   ]
  },
  {
   "cell_type": "code",
   "execution_count": 211,
   "id": "5b9ee9ff",
   "metadata": {},
   "outputs": [
    {
     "data": {
      "text/html": [
       "<div>\n",
       "<style scoped>\n",
       "    .dataframe tbody tr th:only-of-type {\n",
       "        vertical-align: middle;\n",
       "    }\n",
       "\n",
       "    .dataframe tbody tr th {\n",
       "        vertical-align: top;\n",
       "    }\n",
       "\n",
       "    .dataframe thead th {\n",
       "        text-align: right;\n",
       "    }\n",
       "</style>\n",
       "<table border=\"1\" class=\"dataframe\">\n",
       "  <thead>\n",
       "    <tr style=\"text-align: right;\">\n",
       "      <th></th>\n",
       "      <th>kurtosis</th>\n",
       "    </tr>\n",
       "  </thead>\n",
       "  <tbody>\n",
       "    <tr>\n",
       "      <th>Id</th>\n",
       "      <td>-1.185418</td>\n",
       "    </tr>\n",
       "    <tr>\n",
       "      <th>PID</th>\n",
       "      <td>-1.995341</td>\n",
       "    </tr>\n",
       "    <tr>\n",
       "      <th>MS SubClass</th>\n",
       "      <td>1.446024</td>\n",
       "    </tr>\n",
       "  </tbody>\n",
       "</table>\n",
       "</div>"
      ],
      "text/plain": [
       "             kurtosis\n",
       "Id          -1.185418\n",
       "PID         -1.995341\n",
       "MS SubClass  1.446024"
      ]
     },
     "execution_count": 211,
     "metadata": {},
     "output_type": "execute_result"
    }
   ],
   "source": [
    "kt.head(3)"
   ]
  },
  {
   "cell_type": "code",
   "execution_count": 212,
   "id": "0fb9be25",
   "metadata": {},
   "outputs": [
    {
     "data": {
      "text/plain": [
       "count    229.000000\n",
       "mean       8.963101\n",
       "std       12.068207\n",
       "min      -17.041953\n",
       "25%        0.917911\n",
       "50%        4.699589\n",
       "75%       12.967979\n",
       "max       45.287967\n",
       "Name: skew, dtype: float64"
      ]
     },
     "execution_count": 212,
     "metadata": {},
     "output_type": "execute_result"
    }
   ],
   "source": [
    "sk['skew'].describe()"
   ]
  },
  {
   "cell_type": "code",
   "execution_count": 213,
   "id": "29709d38",
   "metadata": {},
   "outputs": [],
   "source": [
    "high_skew = sk[sk['skew'] > 5]"
   ]
  },
  {
   "cell_type": "code",
   "execution_count": 214,
   "id": "3aaecc10",
   "metadata": {},
   "outputs": [
    {
     "data": {
      "text/html": [
       "<div>\n",
       "<style scoped>\n",
       "    .dataframe tbody tr th:only-of-type {\n",
       "        vertical-align: middle;\n",
       "    }\n",
       "\n",
       "    .dataframe tbody tr th {\n",
       "        vertical-align: top;\n",
       "    }\n",
       "\n",
       "    .dataframe thead th {\n",
       "        text-align: right;\n",
       "    }\n",
       "</style>\n",
       "<table border=\"1\" class=\"dataframe\">\n",
       "  <thead>\n",
       "    <tr style=\"text-align: right;\">\n",
       "      <th></th>\n",
       "      <th>skew</th>\n",
       "    </tr>\n",
       "  </thead>\n",
       "  <tbody>\n",
       "    <tr>\n",
       "      <th>Lot Area</th>\n",
       "      <td>9.204950</td>\n",
       "    </tr>\n",
       "    <tr>\n",
       "      <th>Low Qual Fin SF</th>\n",
       "      <td>11.501289</td>\n",
       "    </tr>\n",
       "    <tr>\n",
       "      <th>3Ssn Porch</th>\n",
       "      <td>11.827201</td>\n",
       "    </tr>\n",
       "    <tr>\n",
       "      <th>Pool Area</th>\n",
       "      <td>16.700228</td>\n",
       "    </tr>\n",
       "    <tr>\n",
       "      <th>Misc Val</th>\n",
       "      <td>20.657398</td>\n",
       "    </tr>\n",
       "    <tr>\n",
       "      <th>...</th>\n",
       "      <td>...</td>\n",
       "    </tr>\n",
       "    <tr>\n",
       "      <th>BsmtFin Type 2_LwQ</th>\n",
       "      <td>5.590991</td>\n",
       "    </tr>\n",
       "    <tr>\n",
       "      <th>BsmtFin Type 2_NA</th>\n",
       "      <td>5.805373</td>\n",
       "    </tr>\n",
       "    <tr>\n",
       "      <th>Garage Type_Basment</th>\n",
       "      <td>8.548870</td>\n",
       "    </tr>\n",
       "    <tr>\n",
       "      <th>Garage Type_CarPort</th>\n",
       "      <td>13.554654</td>\n",
       "    </tr>\n",
       "    <tr>\n",
       "      <th>Pool QC_ord</th>\n",
       "      <td>16.483643</td>\n",
       "    </tr>\n",
       "  </tbody>\n",
       "</table>\n",
       "<p>110 rows × 1 columns</p>\n",
       "</div>"
      ],
      "text/plain": [
       "                          skew\n",
       "Lot Area              9.204950\n",
       "Low Qual Fin SF      11.501289\n",
       "3Ssn Porch           11.827201\n",
       "Pool Area            16.700228\n",
       "Misc Val             20.657398\n",
       "...                        ...\n",
       "BsmtFin Type 2_LwQ    5.590991\n",
       "BsmtFin Type 2_NA     5.805373\n",
       "Garage Type_Basment   8.548870\n",
       "Garage Type_CarPort  13.554654\n",
       "Pool QC_ord          16.483643\n",
       "\n",
       "[110 rows x 1 columns]"
      ]
     },
     "execution_count": 214,
     "metadata": {},
     "output_type": "execute_result"
    }
   ],
   "source": [
    "high_skew"
   ]
  },
  {
   "cell_type": "code",
   "execution_count": 215,
   "id": "d981a0cf",
   "metadata": {},
   "outputs": [
    {
     "data": {
      "text/plain": [
       "count     229.000000\n",
       "mean      225.160271\n",
       "std       475.917701\n",
       "min        -1.997670\n",
       "25%         4.072523\n",
       "50%        22.442219\n",
       "75%       166.330686\n",
       "max      2051.000000\n",
       "Name: kurtosis, dtype: float64"
      ]
     },
     "execution_count": 215,
     "metadata": {},
     "output_type": "execute_result"
    }
   ],
   "source": [
    "kt['kurtosis'].describe()"
   ]
  },
  {
   "cell_type": "code",
   "execution_count": 216,
   "id": "019d61f5",
   "metadata": {},
   "outputs": [],
   "source": [
    "high_kurt = kt[kt['kurtosis'] > 25]"
   ]
  },
  {
   "cell_type": "code",
   "execution_count": 217,
   "id": "c3e39640",
   "metadata": {},
   "outputs": [
    {
     "data": {
      "text/html": [
       "<div>\n",
       "<style scoped>\n",
       "    .dataframe tbody tr th:only-of-type {\n",
       "        vertical-align: middle;\n",
       "    }\n",
       "\n",
       "    .dataframe tbody tr th {\n",
       "        vertical-align: top;\n",
       "    }\n",
       "\n",
       "    .dataframe thead th {\n",
       "        text-align: right;\n",
       "    }\n",
       "</style>\n",
       "<table border=\"1\" class=\"dataframe\">\n",
       "  <thead>\n",
       "    <tr style=\"text-align: right;\">\n",
       "      <th></th>\n",
       "      <th>kurtosis</th>\n",
       "    </tr>\n",
       "  </thead>\n",
       "  <tbody>\n",
       "    <tr>\n",
       "      <th>Lot Area</th>\n",
       "      <td>156.288352</td>\n",
       "    </tr>\n",
       "    <tr>\n",
       "      <th>Low Qual Fin SF</th>\n",
       "      <td>157.782281</td>\n",
       "    </tr>\n",
       "    <tr>\n",
       "      <th>3Ssn Porch</th>\n",
       "      <td>164.714747</td>\n",
       "    </tr>\n",
       "    <tr>\n",
       "      <th>Pool Area</th>\n",
       "      <td>290.026431</td>\n",
       "    </tr>\n",
       "    <tr>\n",
       "      <th>Misc Val</th>\n",
       "      <td>513.482446</td>\n",
       "    </tr>\n",
       "    <tr>\n",
       "      <th>...</th>\n",
       "      <td>...</td>\n",
       "    </tr>\n",
       "    <tr>\n",
       "      <th>BsmtFin Type 2_LwQ</th>\n",
       "      <td>29.287743</td>\n",
       "    </tr>\n",
       "    <tr>\n",
       "      <th>BsmtFin Type 2_NA</th>\n",
       "      <td>31.733302</td>\n",
       "    </tr>\n",
       "    <tr>\n",
       "      <th>Garage Type_Basment</th>\n",
       "      <td>71.152567</td>\n",
       "    </tr>\n",
       "    <tr>\n",
       "      <th>Garage Type_CarPort</th>\n",
       "      <td>181.906016</td>\n",
       "    </tr>\n",
       "    <tr>\n",
       "      <th>Pool QC_ord</th>\n",
       "      <td>281.615429</td>\n",
       "    </tr>\n",
       "  </tbody>\n",
       "</table>\n",
       "<p>111 rows × 1 columns</p>\n",
       "</div>"
      ],
      "text/plain": [
       "                       kurtosis\n",
       "Lot Area             156.288352\n",
       "Low Qual Fin SF      157.782281\n",
       "3Ssn Porch           164.714747\n",
       "Pool Area            290.026431\n",
       "Misc Val             513.482446\n",
       "...                         ...\n",
       "BsmtFin Type 2_LwQ    29.287743\n",
       "BsmtFin Type 2_NA     31.733302\n",
       "Garage Type_Basment   71.152567\n",
       "Garage Type_CarPort  181.906016\n",
       "Pool QC_ord          281.615429\n",
       "\n",
       "[111 rows x 1 columns]"
      ]
     },
     "execution_count": 217,
     "metadata": {},
     "output_type": "execute_result"
    }
   ],
   "source": [
    "high_kurt"
   ]
  },
  {
   "cell_type": "markdown",
   "id": "d2bda249",
   "metadata": {},
   "source": [
    "###### Lot Area is showing high skew & kurtosis."
   ]
  },
  {
   "cell_type": "code",
   "execution_count": 218,
   "id": "7153e994",
   "metadata": {},
   "outputs": [
    {
     "data": {
      "text/plain": [
       "<seaborn.axisgrid.FacetGrid at 0x1bd43af2df0>"
      ]
     },
     "execution_count": 218,
     "metadata": {},
     "output_type": "execute_result"
    },
    {
     "data": {
      "image/png": "[encoded data removed]",
      "text/plain": [
       "<Figure size 360x360 with 1 Axes>"
      ]
     },
     "metadata": {
      "needs_background": "light"
     },
     "output_type": "display_data"
    }
   ],
   "source": [
    "sns.displot(traindata_mod['Lot Area'])"
   ]
  },
  {
   "cell_type": "markdown",
   "id": "a9daec26",
   "metadata": {},
   "source": [
    "#### Perform log transformation"
   ]
  },
  {
   "cell_type": "code",
   "execution_count": 219,
   "id": "1681ef4c",
   "metadata": {},
   "outputs": [
    {
     "data": {
      "image/png": "[encoded data removed]",
      "text/plain": [
       "<Figure size 360x360 with 1 Axes>"
      ]
     },
     "metadata": {
      "needs_background": "light"
     },
     "output_type": "display_data"
    }
   ],
   "source": [
    "sns.displot(np.log(traindata_mod['Lot Area']));"
   ]
  },
  {
   "cell_type": "markdown",
   "id": "f7ae7d57",
   "metadata": {},
   "source": [
    "Replace highly skewed & high kurtosis data with log scaled data."
   ]
  },
  {
   "cell_type": "code",
   "execution_count": 220,
   "id": "d9a7a06a",
   "metadata": {},
   "outputs": [],
   "source": [
    "traindata_mod['Lot Area_log'] = np.log(traindata_mod['Lot Area'])"
   ]
  },
  {
   "cell_type": "code",
   "execution_count": 221,
   "id": "63cf1a6c",
   "metadata": {},
   "outputs": [],
   "source": [
    "traindata_mod = traindata_mod.drop(columns=['Lot Area'])"
   ]
  },
  {
   "cell_type": "code",
   "execution_count": 222,
   "id": "699a8507",
   "metadata": {},
   "outputs": [
    {
     "data": {
      "text/plain": [
       "0"
      ]
     },
     "execution_count": 222,
     "metadata": {},
     "output_type": "execute_result"
    }
   ],
   "source": [
    "traindata_mod.isnull().sum().sum()"
   ]
  },
  {
   "cell_type": "code",
   "execution_count": 223,
   "id": "2f03d612",
   "metadata": {},
   "outputs": [],
   "source": [
    "final_train = traindata_mod"
   ]
  },
  {
   "cell_type": "markdown",
   "id": "6cd89a9f",
   "metadata": {},
   "source": [
    "#### Output dataframes to csv files"
   ]
  },
  {
   "cell_type": "code",
   "execution_count": 224,
   "id": "f2aa1719",
   "metadata": {},
   "outputs": [],
   "source": [
    "final_train.to_csv('./datasets/final_train.csv', index=False)"
   ]
  },
  {
   "cell_type": "markdown",
   "id": "0dfac45a",
   "metadata": {},
   "source": [
    "## Cleaned training data has been output to csv\n",
    "\n",
    "#### Part 2 will be cleaning test dataset for prediction later in modeling."
   ]
  }
 ],
 "metadata": {
  "kernelspec": {
   "display_name": "Python 3",
   "language": "python",
   "name": "python3"
  },
  "language_info": {
   "codemirror_mode": {
    "name": "ipython",
    "version": 3
   },
   "file_extension": ".py",
   "mimetype": "text/x-python",
   "name": "python",
   "nbconvert_exporter": "python",
   "pygments_lexer": "ipython3",
   "version": "3.8.8"
  }
 },
 "nbformat": 4,
 "nbformat_minor": 5
}
