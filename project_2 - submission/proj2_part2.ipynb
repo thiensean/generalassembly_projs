{
 "cells": [
  {
   "cell_type": "markdown",
   "id": "b4e32121",
   "metadata": {},
   "source": [
    "# Project 2 - Ames Housing Data and Kaggle Challenge"
   ]
  },
  {
   "cell_type": "markdown",
   "id": "46983034",
   "metadata": {},
   "source": [
    "# Part 2 - Cleaning test data"
   ]
  },
  {
   "cell_type": "markdown",
   "id": "d1c06b90",
   "metadata": {},
   "source": [
    "# Problem Statement"
   ]
  },
  {
   "cell_type": "markdown",
   "id": "b3cc3729",
   "metadata": {},
   "source": [
    "As real estate analysts in Iowa, we are responsible for managing our organization's real estate holdings.\n",
    "\n",
    "We are tasked with understanding real estate market trends and to minimize current and future real estate holding risks.\n",
    "\n",
    "We will be conducting data analysis on the Iowa real estate market and determine which are the factors that affects property prices.\n",
    "\n",
    "The purpose of this analysis is to better understand a property price and provide suitable insights to management and potential buyers of the organization's real estate."
   ]
  },
  {
   "cell_type": "markdown",
   "id": "73de558f",
   "metadata": {},
   "source": [
    "# Executive Summary"
   ]
  },
  {
   "cell_type": "markdown",
   "id": "e50a2ee6",
   "metadata": {},
   "source": [
    "Part 1: <br>\n",
    "1. Importing all necessary libraries <br>\n",
    "2. Importing training dataset \"train.csv\". <br>\n",
    "3. Data Cleaning <br>\n",
    "4. EDA <br>\n",
    "\n",
    "Part 2:\n",
    "1. Importing all necessary libraries <br>\n",
    "2. Importing training dataset \"test.csv\". <br>\n",
    "3. Data Cleaning <br>\n",
    "4. EDA <br>\n",
    "\n",
    "Part 3: <br>\n",
    "1. Feature Engineering <br>\n",
    "2. Modelling, L1 & L2 regularization <br>\n",
    "3. Residuals and model evaluation <br>\n",
    "4. Results interpretation <br>\n",
    "\n",
    "readme.md: <br>\n",
    "1. Recommendations <br>\n",
    "2. Future steps forward for the project <br>\n",
    "3. Research about the topic\n",
    "4. Sources <br>"
   ]
  },
  {
   "cell_type": "markdown",
   "id": "6c8a745b",
   "metadata": {},
   "source": [
    "# 1. Importing all necessary libraries"
   ]
  },
  {
   "cell_type": "code",
   "execution_count": 1,
   "id": "e42a7668",
   "metadata": {},
   "outputs": [],
   "source": [
    "import pandas as pd\n",
    "from pandas import DataFrame as df\n",
    "import numpy as np\n",
    "import scipy.stats\n",
    "from scipy import stats\n",
    "import sklearn.preprocessing\n",
    "import sklearn.model_selection\n",
    "import sklearn.linear_model\n",
    "import sklearn.metrics\n",
    "from sklearn.preprocessing import StandardScaler\n",
    "from sklearn.linear_model import Ridge, Lasso, ElasticNet, LinearRegression, RidgeCV, LassoCV, ElasticNetCV\n",
    "from sklearn.model_selection import cross_val_score, train_test_split\n",
    "import matplotlib\n",
    "import matplotlib.pyplot as plt\n",
    "import seaborn as sns\n",
    "\n",
    "import warnings\n",
    "warnings.filterwarnings('ignore')"
   ]
  },
  {
   "cell_type": "code",
   "execution_count": 2,
   "id": "e2ac5601",
   "metadata": {},
   "outputs": [],
   "source": [
    "traindata = pd.read_csv('datasets/test.csv') ### Test data"
   ]
  },
  {
   "cell_type": "code",
   "execution_count": 3,
   "id": "e3d727db",
   "metadata": {},
   "outputs": [],
   "source": [
    "#traindata = pd.concat([traindata, testdata])"
   ]
  },
  {
   "cell_type": "code",
   "execution_count": 4,
   "id": "99127b35",
   "metadata": {},
   "outputs": [
    {
     "data": {
      "text/plain": [
       "(878, 80)"
      ]
     },
     "execution_count": 4,
     "metadata": {},
     "output_type": "execute_result"
    }
   ],
   "source": [
    "traindata.shape"
   ]
  },
  {
   "cell_type": "code",
   "execution_count": 5,
   "id": "25a4043d",
   "metadata": {},
   "outputs": [
    {
     "data": {
      "text/html": [
       "<div>\n",
       "<style scoped>\n",
       "    .dataframe tbody tr th:only-of-type {\n",
       "        vertical-align: middle;\n",
       "    }\n",
       "\n",
       "    .dataframe tbody tr th {\n",
       "        vertical-align: top;\n",
       "    }\n",
       "\n",
       "    .dataframe thead th {\n",
       "        text-align: right;\n",
       "    }\n",
       "</style>\n",
       "<table border=\"1\" class=\"dataframe\">\n",
       "  <thead>\n",
       "    <tr style=\"text-align: right;\">\n",
       "      <th></th>\n",
       "      <th>Id</th>\n",
       "      <th>PID</th>\n",
       "      <th>MS SubClass</th>\n",
       "      <th>MS Zoning</th>\n",
       "      <th>Lot Frontage</th>\n",
       "      <th>Lot Area</th>\n",
       "      <th>Street</th>\n",
       "      <th>Alley</th>\n",
       "      <th>Lot Shape</th>\n",
       "      <th>Land Contour</th>\n",
       "      <th>...</th>\n",
       "      <th>3Ssn Porch</th>\n",
       "      <th>Screen Porch</th>\n",
       "      <th>Pool Area</th>\n",
       "      <th>Pool QC</th>\n",
       "      <th>Fence</th>\n",
       "      <th>Misc Feature</th>\n",
       "      <th>Misc Val</th>\n",
       "      <th>Mo Sold</th>\n",
       "      <th>Yr Sold</th>\n",
       "      <th>Sale Type</th>\n",
       "    </tr>\n",
       "  </thead>\n",
       "  <tbody>\n",
       "    <tr>\n",
       "      <th>0</th>\n",
       "      <td>2658</td>\n",
       "      <td>902301120</td>\n",
       "      <td>190</td>\n",
       "      <td>RM</td>\n",
       "      <td>69.0</td>\n",
       "      <td>9142</td>\n",
       "      <td>Pave</td>\n",
       "      <td>Grvl</td>\n",
       "      <td>Reg</td>\n",
       "      <td>Lvl</td>\n",
       "      <td>...</td>\n",
       "      <td>0</td>\n",
       "      <td>0</td>\n",
       "      <td>0</td>\n",
       "      <td>NaN</td>\n",
       "      <td>NaN</td>\n",
       "      <td>NaN</td>\n",
       "      <td>0</td>\n",
       "      <td>4</td>\n",
       "      <td>2006</td>\n",
       "      <td>WD</td>\n",
       "    </tr>\n",
       "    <tr>\n",
       "      <th>1</th>\n",
       "      <td>2718</td>\n",
       "      <td>905108090</td>\n",
       "      <td>90</td>\n",
       "      <td>RL</td>\n",
       "      <td>NaN</td>\n",
       "      <td>9662</td>\n",
       "      <td>Pave</td>\n",
       "      <td>NaN</td>\n",
       "      <td>IR1</td>\n",
       "      <td>Lvl</td>\n",
       "      <td>...</td>\n",
       "      <td>0</td>\n",
       "      <td>0</td>\n",
       "      <td>0</td>\n",
       "      <td>NaN</td>\n",
       "      <td>NaN</td>\n",
       "      <td>NaN</td>\n",
       "      <td>0</td>\n",
       "      <td>8</td>\n",
       "      <td>2006</td>\n",
       "      <td>WD</td>\n",
       "    </tr>\n",
       "    <tr>\n",
       "      <th>2</th>\n",
       "      <td>2414</td>\n",
       "      <td>528218130</td>\n",
       "      <td>60</td>\n",
       "      <td>RL</td>\n",
       "      <td>58.0</td>\n",
       "      <td>17104</td>\n",
       "      <td>Pave</td>\n",
       "      <td>NaN</td>\n",
       "      <td>IR1</td>\n",
       "      <td>Lvl</td>\n",
       "      <td>...</td>\n",
       "      <td>0</td>\n",
       "      <td>0</td>\n",
       "      <td>0</td>\n",
       "      <td>NaN</td>\n",
       "      <td>NaN</td>\n",
       "      <td>NaN</td>\n",
       "      <td>0</td>\n",
       "      <td>9</td>\n",
       "      <td>2006</td>\n",
       "      <td>New</td>\n",
       "    </tr>\n",
       "  </tbody>\n",
       "</table>\n",
       "<p>3 rows × 80 columns</p>\n",
       "</div>"
      ],
      "text/plain": [
       "     Id        PID  MS SubClass MS Zoning  Lot Frontage  Lot Area Street  \\\n",
       "0  2658  902301120          190        RM          69.0      9142   Pave   \n",
       "1  2718  905108090           90        RL           NaN      9662   Pave   \n",
       "2  2414  528218130           60        RL          58.0     17104   Pave   \n",
       "\n",
       "  Alley Lot Shape Land Contour  ... 3Ssn Porch Screen Porch Pool Area Pool QC  \\\n",
       "0  Grvl       Reg          Lvl  ...          0            0         0     NaN   \n",
       "1   NaN       IR1          Lvl  ...          0            0         0     NaN   \n",
       "2   NaN       IR1          Lvl  ...          0            0         0     NaN   \n",
       "\n",
       "  Fence Misc Feature Misc Val Mo Sold  Yr Sold  Sale Type  \n",
       "0   NaN          NaN        0       4     2006        WD   \n",
       "1   NaN          NaN        0       8     2006        WD   \n",
       "2   NaN          NaN        0       9     2006        New  \n",
       "\n",
       "[3 rows x 80 columns]"
      ]
     },
     "execution_count": 5,
     "metadata": {},
     "output_type": "execute_result"
    }
   ],
   "source": [
    "traindata.head(3)"
   ]
  },
  {
   "cell_type": "code",
   "execution_count": 6,
   "id": "e18bd341",
   "metadata": {},
   "outputs": [
    {
     "name": "stdout",
     "output_type": "stream",
     "text": [
      "<class 'pandas.core.frame.DataFrame'>\n",
      "RangeIndex: 878 entries, 0 to 877\n",
      "Data columns (total 80 columns):\n",
      " #   Column           Non-Null Count  Dtype  \n",
      "---  ------           --------------  -----  \n",
      " 0   Id               878 non-null    int64  \n",
      " 1   PID              878 non-null    int64  \n",
      " 2   MS SubClass      878 non-null    int64  \n",
      " 3   MS Zoning        878 non-null    object \n",
      " 4   Lot Frontage     718 non-null    float64\n",
      " 5   Lot Area         878 non-null    int64  \n",
      " 6   Street           878 non-null    object \n",
      " 7   Alley            58 non-null     object \n",
      " 8   Lot Shape        878 non-null    object \n",
      " 9   Land Contour     878 non-null    object \n",
      " 10  Utilities        878 non-null    object \n",
      " 11  Lot Config       878 non-null    object \n",
      " 12  Land Slope       878 non-null    object \n",
      " 13  Neighborhood     878 non-null    object \n",
      " 14  Condition 1      878 non-null    object \n",
      " 15  Condition 2      878 non-null    object \n",
      " 16  Bldg Type        878 non-null    object \n",
      " 17  House Style      878 non-null    object \n",
      " 18  Overall Qual     878 non-null    int64  \n",
      " 19  Overall Cond     878 non-null    int64  \n",
      " 20  Year Built       878 non-null    int64  \n",
      " 21  Year Remod/Add   878 non-null    int64  \n",
      " 22  Roof Style       878 non-null    object \n",
      " 23  Roof Matl        878 non-null    object \n",
      " 24  Exterior 1st     878 non-null    object \n",
      " 25  Exterior 2nd     878 non-null    object \n",
      " 26  Mas Vnr Type     877 non-null    object \n",
      " 27  Mas Vnr Area     877 non-null    float64\n",
      " 28  Exter Qual       878 non-null    object \n",
      " 29  Exter Cond       878 non-null    object \n",
      " 30  Foundation       878 non-null    object \n",
      " 31  Bsmt Qual        853 non-null    object \n",
      " 32  Bsmt Cond        853 non-null    object \n",
      " 33  Bsmt Exposure    853 non-null    object \n",
      " 34  BsmtFin Type 1   853 non-null    object \n",
      " 35  BsmtFin SF 1     878 non-null    int64  \n",
      " 36  BsmtFin Type 2   853 non-null    object \n",
      " 37  BsmtFin SF 2     878 non-null    int64  \n",
      " 38  Bsmt Unf SF      878 non-null    int64  \n",
      " 39  Total Bsmt SF    878 non-null    int64  \n",
      " 40  Heating          878 non-null    object \n",
      " 41  Heating QC       878 non-null    object \n",
      " 42  Central Air      878 non-null    object \n",
      " 43  Electrical       877 non-null    object \n",
      " 44  1st Flr SF       878 non-null    int64  \n",
      " 45  2nd Flr SF       878 non-null    int64  \n",
      " 46  Low Qual Fin SF  878 non-null    int64  \n",
      " 47  Gr Liv Area      878 non-null    int64  \n",
      " 48  Bsmt Full Bath   878 non-null    int64  \n",
      " 49  Bsmt Half Bath   878 non-null    int64  \n",
      " 50  Full Bath        878 non-null    int64  \n",
      " 51  Half Bath        878 non-null    int64  \n",
      " 52  Bedroom AbvGr    878 non-null    int64  \n",
      " 53  Kitchen AbvGr    878 non-null    int64  \n",
      " 54  Kitchen Qual     878 non-null    object \n",
      " 55  TotRms AbvGrd    878 non-null    int64  \n",
      " 56  Functional       878 non-null    object \n",
      " 57  Fireplaces       878 non-null    int64  \n",
      " 58  Fireplace Qu     456 non-null    object \n",
      " 59  Garage Type      834 non-null    object \n",
      " 60  Garage Yr Blt    833 non-null    float64\n",
      " 61  Garage Finish    833 non-null    object \n",
      " 62  Garage Cars      878 non-null    int64  \n",
      " 63  Garage Area      878 non-null    int64  \n",
      " 64  Garage Qual      833 non-null    object \n",
      " 65  Garage Cond      833 non-null    object \n",
      " 66  Paved Drive      878 non-null    object \n",
      " 67  Wood Deck SF     878 non-null    int64  \n",
      " 68  Open Porch SF    878 non-null    int64  \n",
      " 69  Enclosed Porch   878 non-null    int64  \n",
      " 70  3Ssn Porch       878 non-null    int64  \n",
      " 71  Screen Porch     878 non-null    int64  \n",
      " 72  Pool Area        878 non-null    int64  \n",
      " 73  Pool QC          4 non-null      object \n",
      " 74  Fence            172 non-null    object \n",
      " 75  Misc Feature     41 non-null     object \n",
      " 76  Misc Val         878 non-null    int64  \n",
      " 77  Mo Sold          878 non-null    int64  \n",
      " 78  Yr Sold          878 non-null    int64  \n",
      " 79  Sale Type        878 non-null    object \n",
      "dtypes: float64(3), int64(35), object(42)\n",
      "memory usage: 548.9+ KB\n"
     ]
    }
   ],
   "source": [
    "traindata.info()"
   ]
  },
  {
   "cell_type": "code",
   "execution_count": 7,
   "id": "3abdbc99",
   "metadata": {},
   "outputs": [
    {
     "data": {
      "text/html": [
       "<div>\n",
       "<style scoped>\n",
       "    .dataframe tbody tr th:only-of-type {\n",
       "        vertical-align: middle;\n",
       "    }\n",
       "\n",
       "    .dataframe tbody tr th {\n",
       "        vertical-align: top;\n",
       "    }\n",
       "\n",
       "    .dataframe thead th {\n",
       "        text-align: right;\n",
       "    }\n",
       "</style>\n",
       "<table border=\"1\" class=\"dataframe\">\n",
       "  <thead>\n",
       "    <tr style=\"text-align: right;\">\n",
       "      <th></th>\n",
       "      <th>Id</th>\n",
       "      <th>PID</th>\n",
       "      <th>MS SubClass</th>\n",
       "      <th>MS Zoning</th>\n",
       "      <th>Lot Frontage</th>\n",
       "      <th>Lot Area</th>\n",
       "      <th>Street</th>\n",
       "      <th>Alley</th>\n",
       "      <th>Lot Shape</th>\n",
       "      <th>Land Contour</th>\n",
       "      <th>...</th>\n",
       "      <th>3Ssn Porch</th>\n",
       "      <th>Screen Porch</th>\n",
       "      <th>Pool Area</th>\n",
       "      <th>Pool QC</th>\n",
       "      <th>Fence</th>\n",
       "      <th>Misc Feature</th>\n",
       "      <th>Misc Val</th>\n",
       "      <th>Mo Sold</th>\n",
       "      <th>Yr Sold</th>\n",
       "      <th>Sale Type</th>\n",
       "    </tr>\n",
       "  </thead>\n",
       "  <tbody>\n",
       "    <tr>\n",
       "      <th>value</th>\n",
       "      <td>0</td>\n",
       "      <td>0</td>\n",
       "      <td>0</td>\n",
       "      <td>0</td>\n",
       "      <td>160</td>\n",
       "      <td>0</td>\n",
       "      <td>0</td>\n",
       "      <td>820</td>\n",
       "      <td>0</td>\n",
       "      <td>0</td>\n",
       "      <td>...</td>\n",
       "      <td>0</td>\n",
       "      <td>0</td>\n",
       "      <td>0</td>\n",
       "      <td>874</td>\n",
       "      <td>706</td>\n",
       "      <td>837</td>\n",
       "      <td>0</td>\n",
       "      <td>0</td>\n",
       "      <td>0</td>\n",
       "      <td>0</td>\n",
       "    </tr>\n",
       "  </tbody>\n",
       "</table>\n",
       "<p>1 rows × 80 columns</p>\n",
       "</div>"
      ],
      "text/plain": [
       "       Id  PID  MS SubClass  MS Zoning  Lot Frontage  Lot Area  Street  Alley  \\\n",
       "value   0    0            0          0           160         0       0    820   \n",
       "\n",
       "       Lot Shape  Land Contour  ...  3Ssn Porch  Screen Porch  Pool Area  \\\n",
       "value          0             0  ...           0             0          0   \n",
       "\n",
       "       Pool QC  Fence  Misc Feature  Misc Val  Mo Sold  Yr Sold  Sale Type  \n",
       "value      874    706           837         0        0        0          0  \n",
       "\n",
       "[1 rows x 80 columns]"
      ]
     },
     "execution_count": 7,
     "metadata": {},
     "output_type": "execute_result"
    }
   ],
   "source": [
    "missing = pd.DataFrame(traindata.isnull().sum(), columns=['value'])\n",
    "missing.T"
   ]
  },
  {
   "cell_type": "code",
   "execution_count": 8,
   "id": "b0b73cf7",
   "metadata": {},
   "outputs": [],
   "source": [
    "missing1 = missing[missing['value'] != 0]"
   ]
  },
  {
   "cell_type": "code",
   "execution_count": 9,
   "id": "e851b735",
   "metadata": {},
   "outputs": [
    {
     "data": {
      "text/html": [
       "<div>\n",
       "<style scoped>\n",
       "    .dataframe tbody tr th:only-of-type {\n",
       "        vertical-align: middle;\n",
       "    }\n",
       "\n",
       "    .dataframe tbody tr th {\n",
       "        vertical-align: top;\n",
       "    }\n",
       "\n",
       "    .dataframe thead th {\n",
       "        text-align: right;\n",
       "    }\n",
       "</style>\n",
       "<table border=\"1\" class=\"dataframe\">\n",
       "  <thead>\n",
       "    <tr style=\"text-align: right;\">\n",
       "      <th></th>\n",
       "      <th>value</th>\n",
       "    </tr>\n",
       "  </thead>\n",
       "  <tbody>\n",
       "    <tr>\n",
       "      <th>Lot Frontage</th>\n",
       "      <td>160</td>\n",
       "    </tr>\n",
       "    <tr>\n",
       "      <th>Alley</th>\n",
       "      <td>820</td>\n",
       "    </tr>\n",
       "    <tr>\n",
       "      <th>Mas Vnr Type</th>\n",
       "      <td>1</td>\n",
       "    </tr>\n",
       "    <tr>\n",
       "      <th>Mas Vnr Area</th>\n",
       "      <td>1</td>\n",
       "    </tr>\n",
       "    <tr>\n",
       "      <th>Bsmt Qual</th>\n",
       "      <td>25</td>\n",
       "    </tr>\n",
       "    <tr>\n",
       "      <th>Bsmt Cond</th>\n",
       "      <td>25</td>\n",
       "    </tr>\n",
       "    <tr>\n",
       "      <th>Bsmt Exposure</th>\n",
       "      <td>25</td>\n",
       "    </tr>\n",
       "    <tr>\n",
       "      <th>BsmtFin Type 1</th>\n",
       "      <td>25</td>\n",
       "    </tr>\n",
       "    <tr>\n",
       "      <th>BsmtFin Type 2</th>\n",
       "      <td>25</td>\n",
       "    </tr>\n",
       "    <tr>\n",
       "      <th>Electrical</th>\n",
       "      <td>1</td>\n",
       "    </tr>\n",
       "    <tr>\n",
       "      <th>Fireplace Qu</th>\n",
       "      <td>422</td>\n",
       "    </tr>\n",
       "    <tr>\n",
       "      <th>Garage Type</th>\n",
       "      <td>44</td>\n",
       "    </tr>\n",
       "    <tr>\n",
       "      <th>Garage Yr Blt</th>\n",
       "      <td>45</td>\n",
       "    </tr>\n",
       "    <tr>\n",
       "      <th>Garage Finish</th>\n",
       "      <td>45</td>\n",
       "    </tr>\n",
       "    <tr>\n",
       "      <th>Garage Qual</th>\n",
       "      <td>45</td>\n",
       "    </tr>\n",
       "    <tr>\n",
       "      <th>Garage Cond</th>\n",
       "      <td>45</td>\n",
       "    </tr>\n",
       "    <tr>\n",
       "      <th>Pool QC</th>\n",
       "      <td>874</td>\n",
       "    </tr>\n",
       "    <tr>\n",
       "      <th>Fence</th>\n",
       "      <td>706</td>\n",
       "    </tr>\n",
       "    <tr>\n",
       "      <th>Misc Feature</th>\n",
       "      <td>837</td>\n",
       "    </tr>\n",
       "  </tbody>\n",
       "</table>\n",
       "</div>"
      ],
      "text/plain": [
       "                value\n",
       "Lot Frontage      160\n",
       "Alley             820\n",
       "Mas Vnr Type        1\n",
       "Mas Vnr Area        1\n",
       "Bsmt Qual          25\n",
       "Bsmt Cond          25\n",
       "Bsmt Exposure      25\n",
       "BsmtFin Type 1     25\n",
       "BsmtFin Type 2     25\n",
       "Electrical          1\n",
       "Fireplace Qu      422\n",
       "Garage Type        44\n",
       "Garage Yr Blt      45\n",
       "Garage Finish      45\n",
       "Garage Qual        45\n",
       "Garage Cond        45\n",
       "Pool QC           874\n",
       "Fence             706\n",
       "Misc Feature      837"
      ]
     },
     "execution_count": 9,
     "metadata": {},
     "output_type": "execute_result"
    }
   ],
   "source": [
    "missing1"
   ]
  },
  {
   "cell_type": "code",
   "execution_count": 10,
   "id": "2499a838",
   "metadata": {},
   "outputs": [
    {
     "data": {
      "text/plain": [
       "(19, 1)"
      ]
     },
     "execution_count": 10,
     "metadata": {},
     "output_type": "execute_result"
    }
   ],
   "source": [
    "missing1.shape"
   ]
  },
  {
   "cell_type": "code",
   "execution_count": 11,
   "id": "d8067a81",
   "metadata": {},
   "outputs": [
    {
     "data": {
      "text/html": [
       "<div>\n",
       "<style scoped>\n",
       "    .dataframe tbody tr th:only-of-type {\n",
       "        vertical-align: middle;\n",
       "    }\n",
       "\n",
       "    .dataframe tbody tr th {\n",
       "        vertical-align: top;\n",
       "    }\n",
       "\n",
       "    .dataframe thead th {\n",
       "        text-align: right;\n",
       "    }\n",
       "</style>\n",
       "<table border=\"1\" class=\"dataframe\">\n",
       "  <thead>\n",
       "    <tr style=\"text-align: right;\">\n",
       "      <th></th>\n",
       "      <th>count</th>\n",
       "      <th>mean</th>\n",
       "      <th>std</th>\n",
       "      <th>min</th>\n",
       "      <th>25%</th>\n",
       "      <th>50%</th>\n",
       "      <th>75%</th>\n",
       "      <th>max</th>\n",
       "    </tr>\n",
       "  </thead>\n",
       "  <tbody>\n",
       "    <tr>\n",
       "      <th>Id</th>\n",
       "      <td>878.0</td>\n",
       "      <td>1.444749e+03</td>\n",
       "      <td>8.508383e+02</td>\n",
       "      <td>2.0</td>\n",
       "      <td>6.922500e+02</td>\n",
       "      <td>1433.0</td>\n",
       "      <td>2.197500e+03</td>\n",
       "      <td>2.928000e+03</td>\n",
       "    </tr>\n",
       "    <tr>\n",
       "      <th>PID</th>\n",
       "      <td>878.0</td>\n",
       "      <td>7.162867e+08</td>\n",
       "      <td>1.889103e+08</td>\n",
       "      <td>526302110.0</td>\n",
       "      <td>5.284841e+08</td>\n",
       "      <td>535454155.0</td>\n",
       "      <td>9.071904e+08</td>\n",
       "      <td>1.007100e+09</td>\n",
       "    </tr>\n",
       "    <tr>\n",
       "      <th>MS SubClass</th>\n",
       "      <td>878.0</td>\n",
       "      <td>5.826879e+01</td>\n",
       "      <td>4.223541e+01</td>\n",
       "      <td>20.0</td>\n",
       "      <td>2.000000e+01</td>\n",
       "      <td>50.0</td>\n",
       "      <td>7.000000e+01</td>\n",
       "      <td>1.900000e+02</td>\n",
       "    </tr>\n",
       "    <tr>\n",
       "      <th>Lot Frontage</th>\n",
       "      <td>718.0</td>\n",
       "      <td>6.954596e+01</td>\n",
       "      <td>2.353394e+01</td>\n",
       "      <td>21.0</td>\n",
       "      <td>5.900000e+01</td>\n",
       "      <td>68.0</td>\n",
       "      <td>8.000000e+01</td>\n",
       "      <td>1.820000e+02</td>\n",
       "    </tr>\n",
       "    <tr>\n",
       "      <th>Lot Area</th>\n",
       "      <td>878.0</td>\n",
       "      <td>1.030703e+04</td>\n",
       "      <td>1.000267e+04</td>\n",
       "      <td>1477.0</td>\n",
       "      <td>7.297250e+03</td>\n",
       "      <td>9446.0</td>\n",
       "      <td>1.158900e+04</td>\n",
       "      <td>2.152450e+05</td>\n",
       "    </tr>\n",
       "    <tr>\n",
       "      <th>Overall Qual</th>\n",
       "      <td>878.0</td>\n",
       "      <td>6.050114e+00</td>\n",
       "      <td>1.369065e+00</td>\n",
       "      <td>2.0</td>\n",
       "      <td>5.000000e+00</td>\n",
       "      <td>6.0</td>\n",
       "      <td>7.000000e+00</td>\n",
       "      <td>1.000000e+01</td>\n",
       "    </tr>\n",
       "    <tr>\n",
       "      <th>Overall Cond</th>\n",
       "      <td>878.0</td>\n",
       "      <td>5.566059e+00</td>\n",
       "      <td>1.128903e+00</td>\n",
       "      <td>1.0</td>\n",
       "      <td>5.000000e+00</td>\n",
       "      <td>5.0</td>\n",
       "      <td>6.000000e+00</td>\n",
       "      <td>9.000000e+00</td>\n",
       "    </tr>\n",
       "    <tr>\n",
       "      <th>Year Built</th>\n",
       "      <td>878.0</td>\n",
       "      <td>1.970492e+03</td>\n",
       "      <td>3.039589e+01</td>\n",
       "      <td>1880.0</td>\n",
       "      <td>1.954000e+03</td>\n",
       "      <td>1972.0</td>\n",
       "      <td>1.999750e+03</td>\n",
       "      <td>2.010000e+03</td>\n",
       "    </tr>\n",
       "    <tr>\n",
       "      <th>Year Remod/Add</th>\n",
       "      <td>878.0</td>\n",
       "      <td>1.984418e+03</td>\n",
       "      <td>2.045072e+01</td>\n",
       "      <td>1950.0</td>\n",
       "      <td>1.967000e+03</td>\n",
       "      <td>1992.0</td>\n",
       "      <td>2.003000e+03</td>\n",
       "      <td>2.010000e+03</td>\n",
       "    </tr>\n",
       "    <tr>\n",
       "      <th>Mas Vnr Area</th>\n",
       "      <td>877.0</td>\n",
       "      <td>1.062360e+02</td>\n",
       "      <td>1.871589e+02</td>\n",
       "      <td>0.0</td>\n",
       "      <td>0.000000e+00</td>\n",
       "      <td>0.0</td>\n",
       "      <td>1.720000e+02</td>\n",
       "      <td>1.378000e+03</td>\n",
       "    </tr>\n",
       "    <tr>\n",
       "      <th>BsmtFin SF 1</th>\n",
       "      <td>878.0</td>\n",
       "      <td>4.413280e+02</td>\n",
       "      <td>4.384573e+02</td>\n",
       "      <td>0.0</td>\n",
       "      <td>0.000000e+00</td>\n",
       "      <td>373.0</td>\n",
       "      <td>7.347500e+02</td>\n",
       "      <td>2.288000e+03</td>\n",
       "    </tr>\n",
       "    <tr>\n",
       "      <th>BsmtFin SF 2</th>\n",
       "      <td>878.0</td>\n",
       "      <td>5.389636e+01</td>\n",
       "      <td>1.786324e+02</td>\n",
       "      <td>0.0</td>\n",
       "      <td>0.000000e+00</td>\n",
       "      <td>0.0</td>\n",
       "      <td>0.000000e+00</td>\n",
       "      <td>1.526000e+03</td>\n",
       "    </tr>\n",
       "    <tr>\n",
       "      <th>Bsmt Unf SF</th>\n",
       "      <td>878.0</td>\n",
       "      <td>5.391333e+02</td>\n",
       "      <td>4.261722e+02</td>\n",
       "      <td>0.0</td>\n",
       "      <td>2.160000e+02</td>\n",
       "      <td>452.0</td>\n",
       "      <td>7.800000e+02</td>\n",
       "      <td>2.046000e+03</td>\n",
       "    </tr>\n",
       "    <tr>\n",
       "      <th>Total Bsmt SF</th>\n",
       "      <td>878.0</td>\n",
       "      <td>1.034358e+03</td>\n",
       "      <td>4.134463e+02</td>\n",
       "      <td>0.0</td>\n",
       "      <td>7.890000e+02</td>\n",
       "      <td>975.0</td>\n",
       "      <td>1.247000e+03</td>\n",
       "      <td>2.630000e+03</td>\n",
       "    </tr>\n",
       "    <tr>\n",
       "      <th>1st Flr SF</th>\n",
       "      <td>878.0</td>\n",
       "      <td>1.145787e+03</td>\n",
       "      <td>3.752641e+02</td>\n",
       "      <td>407.0</td>\n",
       "      <td>8.640000e+02</td>\n",
       "      <td>1063.0</td>\n",
       "      <td>1.358000e+03</td>\n",
       "      <td>2.674000e+03</td>\n",
       "    </tr>\n",
       "    <tr>\n",
       "      <th>2nd Flr SF</th>\n",
       "      <td>878.0</td>\n",
       "      <td>3.483986e+02</td>\n",
       "      <td>4.329856e+02</td>\n",
       "      <td>0.0</td>\n",
       "      <td>0.000000e+00</td>\n",
       "      <td>0.0</td>\n",
       "      <td>7.200000e+02</td>\n",
       "      <td>2.065000e+03</td>\n",
       "    </tr>\n",
       "    <tr>\n",
       "      <th>Low Qual Fin SF</th>\n",
       "      <td>878.0</td>\n",
       "      <td>2.728929e+00</td>\n",
       "      <td>3.257255e+01</td>\n",
       "      <td>0.0</td>\n",
       "      <td>0.000000e+00</td>\n",
       "      <td>0.0</td>\n",
       "      <td>0.000000e+00</td>\n",
       "      <td>4.810000e+02</td>\n",
       "    </tr>\n",
       "    <tr>\n",
       "      <th>Gr Liv Area</th>\n",
       "      <td>878.0</td>\n",
       "      <td>1.496915e+03</td>\n",
       "      <td>5.064690e+02</td>\n",
       "      <td>407.0</td>\n",
       "      <td>1.114000e+03</td>\n",
       "      <td>1436.0</td>\n",
       "      <td>1.779000e+03</td>\n",
       "      <td>4.476000e+03</td>\n",
       "    </tr>\n",
       "    <tr>\n",
       "      <th>Bsmt Full Bath</th>\n",
       "      <td>878.0</td>\n",
       "      <td>4.396355e-01</td>\n",
       "      <td>5.299477e-01</td>\n",
       "      <td>0.0</td>\n",
       "      <td>0.000000e+00</td>\n",
       "      <td>0.0</td>\n",
       "      <td>1.000000e+00</td>\n",
       "      <td>2.000000e+00</td>\n",
       "    </tr>\n",
       "    <tr>\n",
       "      <th>Bsmt Half Bath</th>\n",
       "      <td>878.0</td>\n",
       "      <td>5.580866e-02</td>\n",
       "      <td>2.296827e-01</td>\n",
       "      <td>0.0</td>\n",
       "      <td>0.000000e+00</td>\n",
       "      <td>0.0</td>\n",
       "      <td>0.000000e+00</td>\n",
       "      <td>1.000000e+00</td>\n",
       "    </tr>\n",
       "    <tr>\n",
       "      <th>Full Bath</th>\n",
       "      <td>878.0</td>\n",
       "      <td>1.539863e+00</td>\n",
       "      <td>5.590601e-01</td>\n",
       "      <td>0.0</td>\n",
       "      <td>1.000000e+00</td>\n",
       "      <td>2.0</td>\n",
       "      <td>2.000000e+00</td>\n",
       "      <td>4.000000e+00</td>\n",
       "    </tr>\n",
       "    <tr>\n",
       "      <th>Half Bath</th>\n",
       "      <td>878.0</td>\n",
       "      <td>3.986333e-01</td>\n",
       "      <td>5.059265e-01</td>\n",
       "      <td>0.0</td>\n",
       "      <td>0.000000e+00</td>\n",
       "      <td>0.0</td>\n",
       "      <td>1.000000e+00</td>\n",
       "      <td>2.000000e+00</td>\n",
       "    </tr>\n",
       "    <tr>\n",
       "      <th>Bedroom AbvGr</th>\n",
       "      <td>878.0</td>\n",
       "      <td>2.879271e+00</td>\n",
       "      <td>8.307123e-01</td>\n",
       "      <td>0.0</td>\n",
       "      <td>2.000000e+00</td>\n",
       "      <td>3.0</td>\n",
       "      <td>3.000000e+00</td>\n",
       "      <td>6.000000e+00</td>\n",
       "    </tr>\n",
       "    <tr>\n",
       "      <th>Kitchen AbvGr</th>\n",
       "      <td>878.0</td>\n",
       "      <td>1.047836e+00</td>\n",
       "      <td>2.239657e-01</td>\n",
       "      <td>0.0</td>\n",
       "      <td>1.000000e+00</td>\n",
       "      <td>1.0</td>\n",
       "      <td>1.000000e+00</td>\n",
       "      <td>3.000000e+00</td>\n",
       "    </tr>\n",
       "    <tr>\n",
       "      <th>TotRms AbvGrd</th>\n",
       "      <td>878.0</td>\n",
       "      <td>6.454442e+00</td>\n",
       "      <td>1.596632e+00</td>\n",
       "      <td>3.0</td>\n",
       "      <td>5.000000e+00</td>\n",
       "      <td>6.0</td>\n",
       "      <td>7.000000e+00</td>\n",
       "      <td>1.200000e+01</td>\n",
       "    </tr>\n",
       "    <tr>\n",
       "      <th>Fireplaces</th>\n",
       "      <td>878.0</td>\n",
       "      <td>6.184510e-01</td>\n",
       "      <td>6.695708e-01</td>\n",
       "      <td>0.0</td>\n",
       "      <td>0.000000e+00</td>\n",
       "      <td>1.0</td>\n",
       "      <td>1.000000e+00</td>\n",
       "      <td>3.000000e+00</td>\n",
       "    </tr>\n",
       "    <tr>\n",
       "      <th>Garage Yr Blt</th>\n",
       "      <td>833.0</td>\n",
       "      <td>1.976760e+03</td>\n",
       "      <td>2.568976e+01</td>\n",
       "      <td>1900.0</td>\n",
       "      <td>1.960000e+03</td>\n",
       "      <td>1978.0</td>\n",
       "      <td>2.001000e+03</td>\n",
       "      <td>2.010000e+03</td>\n",
       "    </tr>\n",
       "    <tr>\n",
       "      <th>Garage Cars</th>\n",
       "      <td>878.0</td>\n",
       "      <td>1.742597e+00</td>\n",
       "      <td>7.503909e-01</td>\n",
       "      <td>0.0</td>\n",
       "      <td>1.000000e+00</td>\n",
       "      <td>2.0</td>\n",
       "      <td>2.000000e+00</td>\n",
       "      <td>4.000000e+00</td>\n",
       "    </tr>\n",
       "    <tr>\n",
       "      <th>Garage Area</th>\n",
       "      <td>878.0</td>\n",
       "      <td>4.703622e+02</td>\n",
       "      <td>2.127341e+02</td>\n",
       "      <td>0.0</td>\n",
       "      <td>3.225000e+02</td>\n",
       "      <td>473.0</td>\n",
       "      <td>5.760000e+02</td>\n",
       "      <td>1.488000e+03</td>\n",
       "    </tr>\n",
       "    <tr>\n",
       "      <th>Wood Deck SF</th>\n",
       "      <td>878.0</td>\n",
       "      <td>9.343052e+01</td>\n",
       "      <td>1.211817e+02</td>\n",
       "      <td>0.0</td>\n",
       "      <td>0.000000e+00</td>\n",
       "      <td>0.0</td>\n",
       "      <td>1.707500e+02</td>\n",
       "      <td>6.900000e+02</td>\n",
       "    </tr>\n",
       "    <tr>\n",
       "      <th>Open Porch SF</th>\n",
       "      <td>878.0</td>\n",
       "      <td>4.707062e+01</td>\n",
       "      <td>6.818094e+01</td>\n",
       "      <td>0.0</td>\n",
       "      <td>0.000000e+00</td>\n",
       "      <td>27.0</td>\n",
       "      <td>6.975000e+01</td>\n",
       "      <td>7.420000e+02</td>\n",
       "    </tr>\n",
       "    <tr>\n",
       "      <th>Enclosed Porch</th>\n",
       "      <td>878.0</td>\n",
       "      <td>2.406492e+01</td>\n",
       "      <td>7.324946e+01</td>\n",
       "      <td>0.0</td>\n",
       "      <td>0.000000e+00</td>\n",
       "      <td>0.0</td>\n",
       "      <td>0.000000e+00</td>\n",
       "      <td>1.012000e+03</td>\n",
       "    </tr>\n",
       "    <tr>\n",
       "      <th>3Ssn Porch</th>\n",
       "      <td>878.0</td>\n",
       "      <td>2.597950e+00</td>\n",
       "      <td>2.496248e+01</td>\n",
       "      <td>0.0</td>\n",
       "      <td>0.000000e+00</td>\n",
       "      <td>0.0</td>\n",
       "      <td>0.000000e+00</td>\n",
       "      <td>3.600000e+02</td>\n",
       "    </tr>\n",
       "    <tr>\n",
       "      <th>Screen Porch</th>\n",
       "      <td>878.0</td>\n",
       "      <td>1.483030e+01</td>\n",
       "      <td>5.300379e+01</td>\n",
       "      <td>0.0</td>\n",
       "      <td>0.000000e+00</td>\n",
       "      <td>0.0</td>\n",
       "      <td>0.000000e+00</td>\n",
       "      <td>5.760000e+02</td>\n",
       "    </tr>\n",
       "    <tr>\n",
       "      <th>Pool Area</th>\n",
       "      <td>878.0</td>\n",
       "      <td>1.884966e+00</td>\n",
       "      <td>2.991667e+01</td>\n",
       "      <td>0.0</td>\n",
       "      <td>0.000000e+00</td>\n",
       "      <td>0.0</td>\n",
       "      <td>0.000000e+00</td>\n",
       "      <td>5.550000e+02</td>\n",
       "    </tr>\n",
       "    <tr>\n",
       "      <th>Misc Val</th>\n",
       "      <td>878.0</td>\n",
       "      <td>4.849886e+01</td>\n",
       "      <td>5.501693e+02</td>\n",
       "      <td>0.0</td>\n",
       "      <td>0.000000e+00</td>\n",
       "      <td>0.0</td>\n",
       "      <td>0.000000e+00</td>\n",
       "      <td>1.550000e+04</td>\n",
       "    </tr>\n",
       "    <tr>\n",
       "      <th>Mo Sold</th>\n",
       "      <td>878.0</td>\n",
       "      <td>6.202733e+00</td>\n",
       "      <td>2.642498e+00</td>\n",
       "      <td>1.0</td>\n",
       "      <td>5.000000e+00</td>\n",
       "      <td>6.0</td>\n",
       "      <td>8.000000e+00</td>\n",
       "      <td>1.200000e+01</td>\n",
       "    </tr>\n",
       "    <tr>\n",
       "      <th>Yr Sold</th>\n",
       "      <td>878.0</td>\n",
       "      <td>2.007826e+03</td>\n",
       "      <td>1.327861e+00</td>\n",
       "      <td>2006.0</td>\n",
       "      <td>2.007000e+03</td>\n",
       "      <td>2008.0</td>\n",
       "      <td>2.009000e+03</td>\n",
       "      <td>2.010000e+03</td>\n",
       "    </tr>\n",
       "  </tbody>\n",
       "</table>\n",
       "</div>"
      ],
      "text/plain": [
       "                 count          mean           std          min           25%  \\\n",
       "Id               878.0  1.444749e+03  8.508383e+02          2.0  6.922500e+02   \n",
       "PID              878.0  7.162867e+08  1.889103e+08  526302110.0  5.284841e+08   \n",
       "MS SubClass      878.0  5.826879e+01  4.223541e+01         20.0  2.000000e+01   \n",
       "Lot Frontage     718.0  6.954596e+01  2.353394e+01         21.0  5.900000e+01   \n",
       "Lot Area         878.0  1.030703e+04  1.000267e+04       1477.0  7.297250e+03   \n",
       "Overall Qual     878.0  6.050114e+00  1.369065e+00          2.0  5.000000e+00   \n",
       "Overall Cond     878.0  5.566059e+00  1.128903e+00          1.0  5.000000e+00   \n",
       "Year Built       878.0  1.970492e+03  3.039589e+01       1880.0  1.954000e+03   \n",
       "Year Remod/Add   878.0  1.984418e+03  2.045072e+01       1950.0  1.967000e+03   \n",
       "Mas Vnr Area     877.0  1.062360e+02  1.871589e+02          0.0  0.000000e+00   \n",
       "BsmtFin SF 1     878.0  4.413280e+02  4.384573e+02          0.0  0.000000e+00   \n",
       "BsmtFin SF 2     878.0  5.389636e+01  1.786324e+02          0.0  0.000000e+00   \n",
       "Bsmt Unf SF      878.0  5.391333e+02  4.261722e+02          0.0  2.160000e+02   \n",
       "Total Bsmt SF    878.0  1.034358e+03  4.134463e+02          0.0  7.890000e+02   \n",
       "1st Flr SF       878.0  1.145787e+03  3.752641e+02        407.0  8.640000e+02   \n",
       "2nd Flr SF       878.0  3.483986e+02  4.329856e+02          0.0  0.000000e+00   \n",
       "Low Qual Fin SF  878.0  2.728929e+00  3.257255e+01          0.0  0.000000e+00   \n",
       "Gr Liv Area      878.0  1.496915e+03  5.064690e+02        407.0  1.114000e+03   \n",
       "Bsmt Full Bath   878.0  4.396355e-01  5.299477e-01          0.0  0.000000e+00   \n",
       "Bsmt Half Bath   878.0  5.580866e-02  2.296827e-01          0.0  0.000000e+00   \n",
       "Full Bath        878.0  1.539863e+00  5.590601e-01          0.0  1.000000e+00   \n",
       "Half Bath        878.0  3.986333e-01  5.059265e-01          0.0  0.000000e+00   \n",
       "Bedroom AbvGr    878.0  2.879271e+00  8.307123e-01          0.0  2.000000e+00   \n",
       "Kitchen AbvGr    878.0  1.047836e+00  2.239657e-01          0.0  1.000000e+00   \n",
       "TotRms AbvGrd    878.0  6.454442e+00  1.596632e+00          3.0  5.000000e+00   \n",
       "Fireplaces       878.0  6.184510e-01  6.695708e-01          0.0  0.000000e+00   \n",
       "Garage Yr Blt    833.0  1.976760e+03  2.568976e+01       1900.0  1.960000e+03   \n",
       "Garage Cars      878.0  1.742597e+00  7.503909e-01          0.0  1.000000e+00   \n",
       "Garage Area      878.0  4.703622e+02  2.127341e+02          0.0  3.225000e+02   \n",
       "Wood Deck SF     878.0  9.343052e+01  1.211817e+02          0.0  0.000000e+00   \n",
       "Open Porch SF    878.0  4.707062e+01  6.818094e+01          0.0  0.000000e+00   \n",
       "Enclosed Porch   878.0  2.406492e+01  7.324946e+01          0.0  0.000000e+00   \n",
       "3Ssn Porch       878.0  2.597950e+00  2.496248e+01          0.0  0.000000e+00   \n",
       "Screen Porch     878.0  1.483030e+01  5.300379e+01          0.0  0.000000e+00   \n",
       "Pool Area        878.0  1.884966e+00  2.991667e+01          0.0  0.000000e+00   \n",
       "Misc Val         878.0  4.849886e+01  5.501693e+02          0.0  0.000000e+00   \n",
       "Mo Sold          878.0  6.202733e+00  2.642498e+00          1.0  5.000000e+00   \n",
       "Yr Sold          878.0  2.007826e+03  1.327861e+00       2006.0  2.007000e+03   \n",
       "\n",
       "                         50%           75%           max  \n",
       "Id                    1433.0  2.197500e+03  2.928000e+03  \n",
       "PID              535454155.0  9.071904e+08  1.007100e+09  \n",
       "MS SubClass             50.0  7.000000e+01  1.900000e+02  \n",
       "Lot Frontage            68.0  8.000000e+01  1.820000e+02  \n",
       "Lot Area              9446.0  1.158900e+04  2.152450e+05  \n",
       "Overall Qual             6.0  7.000000e+00  1.000000e+01  \n",
       "Overall Cond             5.0  6.000000e+00  9.000000e+00  \n",
       "Year Built            1972.0  1.999750e+03  2.010000e+03  \n",
       "Year Remod/Add        1992.0  2.003000e+03  2.010000e+03  \n",
       "Mas Vnr Area             0.0  1.720000e+02  1.378000e+03  \n",
       "BsmtFin SF 1           373.0  7.347500e+02  2.288000e+03  \n",
       "BsmtFin SF 2             0.0  0.000000e+00  1.526000e+03  \n",
       "Bsmt Unf SF            452.0  7.800000e+02  2.046000e+03  \n",
       "Total Bsmt SF          975.0  1.247000e+03  2.630000e+03  \n",
       "1st Flr SF            1063.0  1.358000e+03  2.674000e+03  \n",
       "2nd Flr SF               0.0  7.200000e+02  2.065000e+03  \n",
       "Low Qual Fin SF          0.0  0.000000e+00  4.810000e+02  \n",
       "Gr Liv Area           1436.0  1.779000e+03  4.476000e+03  \n",
       "Bsmt Full Bath           0.0  1.000000e+00  2.000000e+00  \n",
       "Bsmt Half Bath           0.0  0.000000e+00  1.000000e+00  \n",
       "Full Bath                2.0  2.000000e+00  4.000000e+00  \n",
       "Half Bath                0.0  1.000000e+00  2.000000e+00  \n",
       "Bedroom AbvGr            3.0  3.000000e+00  6.000000e+00  \n",
       "Kitchen AbvGr            1.0  1.000000e+00  3.000000e+00  \n",
       "TotRms AbvGrd            6.0  7.000000e+00  1.200000e+01  \n",
       "Fireplaces               1.0  1.000000e+00  3.000000e+00  \n",
       "Garage Yr Blt         1978.0  2.001000e+03  2.010000e+03  \n",
       "Garage Cars              2.0  2.000000e+00  4.000000e+00  \n",
       "Garage Area            473.0  5.760000e+02  1.488000e+03  \n",
       "Wood Deck SF             0.0  1.707500e+02  6.900000e+02  \n",
       "Open Porch SF           27.0  6.975000e+01  7.420000e+02  \n",
       "Enclosed Porch           0.0  0.000000e+00  1.012000e+03  \n",
       "3Ssn Porch               0.0  0.000000e+00  3.600000e+02  \n",
       "Screen Porch             0.0  0.000000e+00  5.760000e+02  \n",
       "Pool Area                0.0  0.000000e+00  5.550000e+02  \n",
       "Misc Val                 0.0  0.000000e+00  1.550000e+04  \n",
       "Mo Sold                  6.0  8.000000e+00  1.200000e+01  \n",
       "Yr Sold               2008.0  2.009000e+03  2.010000e+03  "
      ]
     },
     "execution_count": 11,
     "metadata": {},
     "output_type": "execute_result"
    }
   ],
   "source": [
    "traindata.describe().T"
   ]
  },
  {
   "cell_type": "markdown",
   "id": "264b05ef",
   "metadata": {},
   "source": [
    "# Data Exploring Results"
   ]
  },
  {
   "cell_type": "markdown",
   "id": "4125a3ae",
   "metadata": {},
   "source": [
    "Abnormal values:\n",
    "Min - There are no abnormal or negative values.\n",
    "Max - There are no abnormally high values except: PID\n",
    "Outliers - There are no abnormal outliers except: PID (which seems to have no range)\n",
    "\n",
    "Missing values:\n",
    "1. There are 26 rows with missing data.\n",
    "2. Looking at the missing data, it seems like there is a mix of true missing data where it is not entered and also data where it is null because it has no such feature."
   ]
  },
  {
   "cell_type": "code",
   "execution_count": 12,
   "id": "ab387a23",
   "metadata": {},
   "outputs": [
    {
     "data": {
      "text/html": [
       "<div>\n",
       "<style scoped>\n",
       "    .dataframe tbody tr th:only-of-type {\n",
       "        vertical-align: middle;\n",
       "    }\n",
       "\n",
       "    .dataframe tbody tr th {\n",
       "        vertical-align: top;\n",
       "    }\n",
       "\n",
       "    .dataframe thead th {\n",
       "        text-align: right;\n",
       "    }\n",
       "</style>\n",
       "<table border=\"1\" class=\"dataframe\">\n",
       "  <thead>\n",
       "    <tr style=\"text-align: right;\">\n",
       "      <th></th>\n",
       "      <th>value</th>\n",
       "    </tr>\n",
       "  </thead>\n",
       "  <tbody>\n",
       "    <tr>\n",
       "      <th>Lot Frontage</th>\n",
       "      <td>160</td>\n",
       "    </tr>\n",
       "    <tr>\n",
       "      <th>Alley</th>\n",
       "      <td>820</td>\n",
       "    </tr>\n",
       "    <tr>\n",
       "      <th>Mas Vnr Type</th>\n",
       "      <td>1</td>\n",
       "    </tr>\n",
       "    <tr>\n",
       "      <th>Mas Vnr Area</th>\n",
       "      <td>1</td>\n",
       "    </tr>\n",
       "    <tr>\n",
       "      <th>Bsmt Qual</th>\n",
       "      <td>25</td>\n",
       "    </tr>\n",
       "    <tr>\n",
       "      <th>Bsmt Cond</th>\n",
       "      <td>25</td>\n",
       "    </tr>\n",
       "    <tr>\n",
       "      <th>Bsmt Exposure</th>\n",
       "      <td>25</td>\n",
       "    </tr>\n",
       "    <tr>\n",
       "      <th>BsmtFin Type 1</th>\n",
       "      <td>25</td>\n",
       "    </tr>\n",
       "    <tr>\n",
       "      <th>BsmtFin Type 2</th>\n",
       "      <td>25</td>\n",
       "    </tr>\n",
       "    <tr>\n",
       "      <th>Electrical</th>\n",
       "      <td>1</td>\n",
       "    </tr>\n",
       "    <tr>\n",
       "      <th>Fireplace Qu</th>\n",
       "      <td>422</td>\n",
       "    </tr>\n",
       "    <tr>\n",
       "      <th>Garage Type</th>\n",
       "      <td>44</td>\n",
       "    </tr>\n",
       "    <tr>\n",
       "      <th>Garage Yr Blt</th>\n",
       "      <td>45</td>\n",
       "    </tr>\n",
       "    <tr>\n",
       "      <th>Garage Finish</th>\n",
       "      <td>45</td>\n",
       "    </tr>\n",
       "    <tr>\n",
       "      <th>Garage Qual</th>\n",
       "      <td>45</td>\n",
       "    </tr>\n",
       "    <tr>\n",
       "      <th>Garage Cond</th>\n",
       "      <td>45</td>\n",
       "    </tr>\n",
       "    <tr>\n",
       "      <th>Pool QC</th>\n",
       "      <td>874</td>\n",
       "    </tr>\n",
       "    <tr>\n",
       "      <th>Fence</th>\n",
       "      <td>706</td>\n",
       "    </tr>\n",
       "    <tr>\n",
       "      <th>Misc Feature</th>\n",
       "      <td>837</td>\n",
       "    </tr>\n",
       "  </tbody>\n",
       "</table>\n",
       "</div>"
      ],
      "text/plain": [
       "                value\n",
       "Lot Frontage      160\n",
       "Alley             820\n",
       "Mas Vnr Type        1\n",
       "Mas Vnr Area        1\n",
       "Bsmt Qual          25\n",
       "Bsmt Cond          25\n",
       "Bsmt Exposure      25\n",
       "BsmtFin Type 1     25\n",
       "BsmtFin Type 2     25\n",
       "Electrical          1\n",
       "Fireplace Qu      422\n",
       "Garage Type        44\n",
       "Garage Yr Blt      45\n",
       "Garage Finish      45\n",
       "Garage Qual        45\n",
       "Garage Cond        45\n",
       "Pool QC           874\n",
       "Fence             706\n",
       "Misc Feature      837"
      ]
     },
     "execution_count": 12,
     "metadata": {},
     "output_type": "execute_result"
    }
   ],
   "source": [
    "missing1"
   ]
  },
  {
   "cell_type": "markdown",
   "id": "6fdbcd42",
   "metadata": {},
   "source": [
    "# Understanding Missing Data"
   ]
  },
  {
   "cell_type": "markdown",
   "id": "e34d3a66",
   "metadata": {},
   "source": [
    "I'll name the dataframe 'DataFrame1' for ease of reference. <br>\n",
    "DataFrame1:"
   ]
  },
  {
   "cell_type": "code",
   "execution_count": 13,
   "id": "f46848bd",
   "metadata": {},
   "outputs": [
    {
     "data": {
      "text/html": [
       "<div>\n",
       "<style scoped>\n",
       "    .dataframe tbody tr th:only-of-type {\n",
       "        vertical-align: middle;\n",
       "    }\n",
       "\n",
       "    .dataframe tbody tr th {\n",
       "        vertical-align: top;\n",
       "    }\n",
       "\n",
       "    .dataframe thead th {\n",
       "        text-align: right;\n",
       "    }\n",
       "</style>\n",
       "<table border=\"1\" class=\"dataframe\">\n",
       "  <thead>\n",
       "    <tr style=\"text-align: right;\">\n",
       "      <th></th>\n",
       "      <th>Lot Frontage</th>\n",
       "      <th>Alley</th>\n",
       "      <th>Mas Vnr Type</th>\n",
       "      <th>Mas Vnr Area</th>\n",
       "      <th>Bsmt Qual</th>\n",
       "      <th>Bsmt Cond</th>\n",
       "      <th>Bsmt Exposure</th>\n",
       "      <th>BsmtFin Type 1</th>\n",
       "      <th>BsmtFin Type 2</th>\n",
       "      <th>Electrical</th>\n",
       "      <th>Fireplace Qu</th>\n",
       "      <th>Garage Type</th>\n",
       "      <th>Garage Yr Blt</th>\n",
       "      <th>Garage Finish</th>\n",
       "      <th>Garage Qual</th>\n",
       "      <th>Garage Cond</th>\n",
       "      <th>Pool QC</th>\n",
       "      <th>Fence</th>\n",
       "      <th>Misc Feature</th>\n",
       "    </tr>\n",
       "  </thead>\n",
       "  <tbody>\n",
       "    <tr>\n",
       "      <th>0</th>\n",
       "      <td>69.0</td>\n",
       "      <td>Grvl</td>\n",
       "      <td>None</td>\n",
       "      <td>0.0</td>\n",
       "      <td>Fa</td>\n",
       "      <td>TA</td>\n",
       "      <td>No</td>\n",
       "      <td>Unf</td>\n",
       "      <td>Unf</td>\n",
       "      <td>FuseP</td>\n",
       "      <td>NaN</td>\n",
       "      <td>Detchd</td>\n",
       "      <td>1910.0</td>\n",
       "      <td>Unf</td>\n",
       "      <td>Po</td>\n",
       "      <td>Po</td>\n",
       "      <td>NaN</td>\n",
       "      <td>NaN</td>\n",
       "      <td>NaN</td>\n",
       "    </tr>\n",
       "    <tr>\n",
       "      <th>1</th>\n",
       "      <td>NaN</td>\n",
       "      <td>NaN</td>\n",
       "      <td>None</td>\n",
       "      <td>0.0</td>\n",
       "      <td>Gd</td>\n",
       "      <td>TA</td>\n",
       "      <td>No</td>\n",
       "      <td>Unf</td>\n",
       "      <td>Unf</td>\n",
       "      <td>SBrkr</td>\n",
       "      <td>NaN</td>\n",
       "      <td>Attchd</td>\n",
       "      <td>1977.0</td>\n",
       "      <td>Fin</td>\n",
       "      <td>TA</td>\n",
       "      <td>TA</td>\n",
       "      <td>NaN</td>\n",
       "      <td>NaN</td>\n",
       "      <td>NaN</td>\n",
       "    </tr>\n",
       "    <tr>\n",
       "      <th>2</th>\n",
       "      <td>58.0</td>\n",
       "      <td>NaN</td>\n",
       "      <td>None</td>\n",
       "      <td>0.0</td>\n",
       "      <td>Gd</td>\n",
       "      <td>Gd</td>\n",
       "      <td>Av</td>\n",
       "      <td>GLQ</td>\n",
       "      <td>Unf</td>\n",
       "      <td>SBrkr</td>\n",
       "      <td>Gd</td>\n",
       "      <td>Attchd</td>\n",
       "      <td>2006.0</td>\n",
       "      <td>RFn</td>\n",
       "      <td>TA</td>\n",
       "      <td>TA</td>\n",
       "      <td>NaN</td>\n",
       "      <td>NaN</td>\n",
       "      <td>NaN</td>\n",
       "    </tr>\n",
       "  </tbody>\n",
       "</table>\n",
       "</div>"
      ],
      "text/plain": [
       "   Lot Frontage Alley Mas Vnr Type  Mas Vnr Area Bsmt Qual Bsmt Cond  \\\n",
       "0          69.0  Grvl         None           0.0        Fa        TA   \n",
       "1           NaN   NaN         None           0.0        Gd        TA   \n",
       "2          58.0   NaN         None           0.0        Gd        Gd   \n",
       "\n",
       "  Bsmt Exposure BsmtFin Type 1 BsmtFin Type 2 Electrical Fireplace Qu  \\\n",
       "0            No            Unf            Unf      FuseP          NaN   \n",
       "1            No            Unf            Unf      SBrkr          NaN   \n",
       "2            Av            GLQ            Unf      SBrkr           Gd   \n",
       "\n",
       "  Garage Type  Garage Yr Blt Garage Finish Garage Qual Garage Cond Pool QC  \\\n",
       "0      Detchd         1910.0           Unf          Po          Po     NaN   \n",
       "1      Attchd         1977.0           Fin          TA          TA     NaN   \n",
       "2      Attchd         2006.0           RFn          TA          TA     NaN   \n",
       "\n",
       "  Fence Misc Feature  \n",
       "0   NaN          NaN  \n",
       "1   NaN          NaN  \n",
       "2   NaN          NaN  "
      ]
     },
     "execution_count": 13,
     "metadata": {},
     "output_type": "execute_result"
    }
   ],
   "source": [
    "traindata[missing1.index].head(3)"
   ]
  },
  {
   "cell_type": "markdown",
   "id": "e6a225c9",
   "metadata": {},
   "source": [
    "From DataFrame1, we can see that the missing data might not actually be literal missing, but rather it lacks such a feature hence it is empty."
   ]
  },
  {
   "cell_type": "markdown",
   "id": "0abe14dd",
   "metadata": {},
   "source": [
    "# Correcting NaN Data"
   ]
  },
  {
   "cell_type": "code",
   "execution_count": 14,
   "id": "643ccec7",
   "metadata": {},
   "outputs": [],
   "source": [
    "datatype1 = pd.DataFrame(missing1.T.dtypes, columns=['data'])"
   ]
  },
  {
   "cell_type": "code",
   "execution_count": 15,
   "id": "2b7b4079",
   "metadata": {},
   "outputs": [],
   "source": [
    "mdata = missing1.merge(datatype1, left_index=True, right_index=True)"
   ]
  },
  {
   "cell_type": "code",
   "execution_count": 16,
   "id": "eab2a665",
   "metadata": {},
   "outputs": [
    {
     "data": {
      "text/html": [
       "<div>\n",
       "<style scoped>\n",
       "    .dataframe tbody tr th:only-of-type {\n",
       "        vertical-align: middle;\n",
       "    }\n",
       "\n",
       "    .dataframe tbody tr th {\n",
       "        vertical-align: top;\n",
       "    }\n",
       "\n",
       "    .dataframe thead th {\n",
       "        text-align: right;\n",
       "    }\n",
       "</style>\n",
       "<table border=\"1\" class=\"dataframe\">\n",
       "  <thead>\n",
       "    <tr style=\"text-align: right;\">\n",
       "      <th></th>\n",
       "      <th>value</th>\n",
       "      <th>data</th>\n",
       "    </tr>\n",
       "  </thead>\n",
       "  <tbody>\n",
       "    <tr>\n",
       "      <th>Lot Frontage</th>\n",
       "      <td>160</td>\n",
       "      <td>int64</td>\n",
       "    </tr>\n",
       "    <tr>\n",
       "      <th>Alley</th>\n",
       "      <td>820</td>\n",
       "      <td>int64</td>\n",
       "    </tr>\n",
       "    <tr>\n",
       "      <th>Mas Vnr Type</th>\n",
       "      <td>1</td>\n",
       "      <td>int64</td>\n",
       "    </tr>\n",
       "    <tr>\n",
       "      <th>Mas Vnr Area</th>\n",
       "      <td>1</td>\n",
       "      <td>int64</td>\n",
       "    </tr>\n",
       "    <tr>\n",
       "      <th>Bsmt Qual</th>\n",
       "      <td>25</td>\n",
       "      <td>int64</td>\n",
       "    </tr>\n",
       "    <tr>\n",
       "      <th>Bsmt Cond</th>\n",
       "      <td>25</td>\n",
       "      <td>int64</td>\n",
       "    </tr>\n",
       "    <tr>\n",
       "      <th>Bsmt Exposure</th>\n",
       "      <td>25</td>\n",
       "      <td>int64</td>\n",
       "    </tr>\n",
       "    <tr>\n",
       "      <th>BsmtFin Type 1</th>\n",
       "      <td>25</td>\n",
       "      <td>int64</td>\n",
       "    </tr>\n",
       "    <tr>\n",
       "      <th>BsmtFin Type 2</th>\n",
       "      <td>25</td>\n",
       "      <td>int64</td>\n",
       "    </tr>\n",
       "    <tr>\n",
       "      <th>Electrical</th>\n",
       "      <td>1</td>\n",
       "      <td>int64</td>\n",
       "    </tr>\n",
       "    <tr>\n",
       "      <th>Fireplace Qu</th>\n",
       "      <td>422</td>\n",
       "      <td>int64</td>\n",
       "    </tr>\n",
       "    <tr>\n",
       "      <th>Garage Type</th>\n",
       "      <td>44</td>\n",
       "      <td>int64</td>\n",
       "    </tr>\n",
       "    <tr>\n",
       "      <th>Garage Yr Blt</th>\n",
       "      <td>45</td>\n",
       "      <td>int64</td>\n",
       "    </tr>\n",
       "    <tr>\n",
       "      <th>Garage Finish</th>\n",
       "      <td>45</td>\n",
       "      <td>int64</td>\n",
       "    </tr>\n",
       "    <tr>\n",
       "      <th>Garage Qual</th>\n",
       "      <td>45</td>\n",
       "      <td>int64</td>\n",
       "    </tr>\n",
       "    <tr>\n",
       "      <th>Garage Cond</th>\n",
       "      <td>45</td>\n",
       "      <td>int64</td>\n",
       "    </tr>\n",
       "    <tr>\n",
       "      <th>Pool QC</th>\n",
       "      <td>874</td>\n",
       "      <td>int64</td>\n",
       "    </tr>\n",
       "    <tr>\n",
       "      <th>Fence</th>\n",
       "      <td>706</td>\n",
       "      <td>int64</td>\n",
       "    </tr>\n",
       "    <tr>\n",
       "      <th>Misc Feature</th>\n",
       "      <td>837</td>\n",
       "      <td>int64</td>\n",
       "    </tr>\n",
       "  </tbody>\n",
       "</table>\n",
       "</div>"
      ],
      "text/plain": [
       "                value   data\n",
       "Lot Frontage      160  int64\n",
       "Alley             820  int64\n",
       "Mas Vnr Type        1  int64\n",
       "Mas Vnr Area        1  int64\n",
       "Bsmt Qual          25  int64\n",
       "Bsmt Cond          25  int64\n",
       "Bsmt Exposure      25  int64\n",
       "BsmtFin Type 1     25  int64\n",
       "BsmtFin Type 2     25  int64\n",
       "Electrical          1  int64\n",
       "Fireplace Qu      422  int64\n",
       "Garage Type        44  int64\n",
       "Garage Yr Blt      45  int64\n",
       "Garage Finish      45  int64\n",
       "Garage Qual        45  int64\n",
       "Garage Cond        45  int64\n",
       "Pool QC           874  int64\n",
       "Fence             706  int64\n",
       "Misc Feature      837  int64"
      ]
     },
     "execution_count": 16,
     "metadata": {},
     "output_type": "execute_result"
    }
   ],
   "source": [
    "mdata"
   ]
  },
  {
   "cell_type": "markdown",
   "id": "634c96e8",
   "metadata": {},
   "source": [
    "## 1. Lot Frontage"
   ]
  },
  {
   "cell_type": "code",
   "execution_count": 17,
   "id": "00b17de5",
   "metadata": {},
   "outputs": [
    {
     "data": {
      "text/plain": [
       "count    718.000000\n",
       "mean      69.545961\n",
       "std       23.533945\n",
       "min       21.000000\n",
       "25%       59.000000\n",
       "50%       68.000000\n",
       "75%       80.000000\n",
       "max      182.000000\n",
       "Name: Lot Frontage, dtype: float64"
      ]
     },
     "execution_count": 17,
     "metadata": {},
     "output_type": "execute_result"
    }
   ],
   "source": [
    "traindata['Lot Frontage'].describe()"
   ]
  },
  {
   "cell_type": "markdown",
   "id": "e36c9d8e",
   "metadata": {},
   "source": [
    "To fill up 'Lot Frontage' with 0 to manage NaN data as the column is made up of a float datatype. <br>\n",
    "And it is likely that NaN in this scenario is referring to 'No Lot Frontage' instead of 'Missing Data'."
   ]
  },
  {
   "cell_type": "code",
   "execution_count": 18,
   "id": "6eeb5644",
   "metadata": {},
   "outputs": [],
   "source": [
    "traindata['Lot Frontage'] = traindata['Lot Frontage'].fillna(0)"
   ]
  },
  {
   "cell_type": "code",
   "execution_count": 19,
   "id": "0892fb8f",
   "metadata": {},
   "outputs": [
    {
     "data": {
      "text/plain": [
       "0"
      ]
     },
     "execution_count": 19,
     "metadata": {},
     "output_type": "execute_result"
    }
   ],
   "source": [
    "traindata['Lot Frontage'].isnull().sum()"
   ]
  },
  {
   "cell_type": "markdown",
   "id": "8de37b40",
   "metadata": {},
   "source": [
    "## 2. Alley"
   ]
  },
  {
   "cell_type": "code",
   "execution_count": 20,
   "id": "aa67abec",
   "metadata": {},
   "outputs": [
    {
     "data": {
      "text/plain": [
       "array(['Grvl', nan, 'Pave'], dtype=object)"
      ]
     },
     "execution_count": 20,
     "metadata": {},
     "output_type": "execute_result"
    }
   ],
   "source": [
    "traindata['Alley'].unique()"
   ]
  },
  {
   "cell_type": "markdown",
   "id": "4a1d0eec",
   "metadata": {},
   "source": [
    "To fill up 'Alley' Nan data with 'NA' (string) to indicate that there's none."
   ]
  },
  {
   "cell_type": "code",
   "execution_count": 21,
   "id": "e354e682",
   "metadata": {},
   "outputs": [],
   "source": [
    "traindata['Alley'] = traindata['Alley'].fillna('NA')"
   ]
  },
  {
   "cell_type": "code",
   "execution_count": 22,
   "id": "ef956bf8",
   "metadata": {},
   "outputs": [
    {
     "data": {
      "text/plain": [
       "0"
      ]
     },
     "execution_count": 22,
     "metadata": {},
     "output_type": "execute_result"
    }
   ],
   "source": [
    "traindata['Alley'].isnull().sum()"
   ]
  },
  {
   "cell_type": "markdown",
   "id": "2fe8ee5b",
   "metadata": {},
   "source": [
    "## 3. Mas Vnr Type & Mas Vnr Area"
   ]
  },
  {
   "cell_type": "markdown",
   "id": "fd577d79",
   "metadata": {},
   "source": [
    "Both of these has the same number of missing data and has the same name. <br>\n",
    "It is likely that these 2 categories are related to each other, and it is not missing data, rather the feature does not exist."
   ]
  },
  {
   "cell_type": "code",
   "execution_count": 23,
   "id": "680afc4d",
   "metadata": {},
   "outputs": [
    {
     "data": {
      "text/plain": [
       "array(['None', 'BrkFace', 'Stone', 'BrkCmn', 'CBlock', nan], dtype=object)"
      ]
     },
     "execution_count": 23,
     "metadata": {},
     "output_type": "execute_result"
    }
   ],
   "source": [
    "traindata['Mas Vnr Type'].unique()"
   ]
  },
  {
   "cell_type": "markdown",
   "id": "c6b82c72",
   "metadata": {},
   "source": [
    "###### As there is 'None' and NaN, the data has to be investigated further."
   ]
  },
  {
   "cell_type": "code",
   "execution_count": 24,
   "id": "128302c2",
   "metadata": {},
   "outputs": [
    {
     "data": {
      "text/plain": [
       "Int64Index([  0,   1,   2,   3,   5,   6,   7,   8,   9,  10,\n",
       "            ...\n",
       "            860, 862, 867, 868, 870, 872, 873, 875, 876, 877],\n",
       "           dtype='int64', length=534)"
      ]
     },
     "execution_count": 24,
     "metadata": {},
     "output_type": "execute_result"
    }
   ],
   "source": [
    "traindata[traindata['Mas Vnr Type'] == 'None'].index"
   ]
  },
  {
   "cell_type": "code",
   "execution_count": 25,
   "id": "b0d557c7",
   "metadata": {},
   "outputs": [
    {
     "data": {
      "text/plain": [
       "count    534.000000\n",
       "mean       1.117978\n",
       "std       18.269484\n",
       "min        0.000000\n",
       "25%        0.000000\n",
       "50%        0.000000\n",
       "75%        0.000000\n",
       "max      312.000000\n",
       "Name: Mas Vnr Area, dtype: float64"
      ]
     },
     "execution_count": 25,
     "metadata": {},
     "output_type": "execute_result"
    }
   ],
   "source": [
    "traindata[traindata['Mas Vnr Type'] == 'None']['Mas Vnr Area'].describe()"
   ]
  },
  {
   "cell_type": "code",
   "execution_count": 26,
   "id": "eedd542c",
   "metadata": {},
   "outputs": [
    {
     "data": {
      "text/plain": [
       "array([  0., 285., 312.])"
      ]
     },
     "execution_count": 26,
     "metadata": {},
     "output_type": "execute_result"
    }
   ],
   "source": [
    "traindata[traindata['Mas Vnr Type'] == 'None']['Mas Vnr Area'].unique()"
   ]
  },
  {
   "cell_type": "markdown",
   "id": "4e2c80f9",
   "metadata": {},
   "source": [
    "###### Even when 'Mas Vnr Type' == 'None',  'Mas Vnr Area' contains data.\n",
    "###### Hence, it would be incorrect if the NaN data is entered is 'NA'."
   ]
  },
  {
   "cell_type": "code",
   "execution_count": 27,
   "id": "6686d5a1",
   "metadata": {},
   "outputs": [
    {
     "data": {
      "text/plain": [
       "Int64Index([865], dtype='int64')"
      ]
     },
     "execution_count": 27,
     "metadata": {},
     "output_type": "execute_result"
    }
   ],
   "source": [
    "traindata[traindata['Mas Vnr Type'].isnull()].index"
   ]
  },
  {
   "cell_type": "code",
   "execution_count": 28,
   "id": "321ecfc1",
   "metadata": {},
   "outputs": [
    {
     "data": {
      "text/plain": [
       "Int64Index([865], dtype='int64')"
      ]
     },
     "execution_count": 28,
     "metadata": {},
     "output_type": "execute_result"
    }
   ],
   "source": [
    "traindata[traindata['Mas Vnr Area'].isnull()].index"
   ]
  },
  {
   "cell_type": "markdown",
   "id": "b6490003",
   "metadata": {},
   "source": [
    "###### However, when data is NaN, the indexes are the same.\n",
    "Hence, the NaN values will be replaced with 'others', with the 'Mas Vnr Area' replaced with -1.0 indicating 'others' category."
   ]
  },
  {
   "cell_type": "code",
   "execution_count": 29,
   "id": "149a24d7",
   "metadata": {},
   "outputs": [],
   "source": [
    "traindata['Mas Vnr Type'] = traindata['Mas Vnr Type'].fillna('others')"
   ]
  },
  {
   "cell_type": "code",
   "execution_count": 30,
   "id": "c2aaf840",
   "metadata": {},
   "outputs": [],
   "source": [
    "traindata['Mas Vnr Area'] = traindata['Mas Vnr Area'].fillna(-1.0)"
   ]
  },
  {
   "cell_type": "code",
   "execution_count": 31,
   "id": "cbb6eb8b",
   "metadata": {},
   "outputs": [
    {
     "name": "stdout",
     "output_type": "stream",
     "text": [
      "0; Type null data count\n",
      "0; Area null data count\n"
     ]
    }
   ],
   "source": [
    "print(f\"{traindata['Mas Vnr Type'].isnull().sum()}; Type null data count\")\n",
    "print(f\"{traindata['Mas Vnr Area'].isnull().sum()}; Area null data count\")"
   ]
  },
  {
   "cell_type": "markdown",
   "id": "6796020a",
   "metadata": {},
   "source": [
    "## 4. Bsmt and its sub categories"
   ]
  },
  {
   "cell_type": "markdown",
   "id": "bed23faf",
   "metadata": {},
   "source": [
    "Filtering columns by regex expression \"Bsmt\":"
   ]
  },
  {
   "cell_type": "code",
   "execution_count": 32,
   "id": "ef9ccc7f",
   "metadata": {},
   "outputs": [
    {
     "data": {
      "text/html": [
       "<div>\n",
       "<style scoped>\n",
       "    .dataframe tbody tr th:only-of-type {\n",
       "        vertical-align: middle;\n",
       "    }\n",
       "\n",
       "    .dataframe tbody tr th {\n",
       "        vertical-align: top;\n",
       "    }\n",
       "\n",
       "    .dataframe thead th {\n",
       "        text-align: right;\n",
       "    }\n",
       "</style>\n",
       "<table border=\"1\" class=\"dataframe\">\n",
       "  <thead>\n",
       "    <tr style=\"text-align: right;\">\n",
       "      <th></th>\n",
       "      <th>Bsmt Qual</th>\n",
       "      <th>Bsmt Cond</th>\n",
       "      <th>Bsmt Exposure</th>\n",
       "      <th>BsmtFin Type 1</th>\n",
       "      <th>BsmtFin SF 1</th>\n",
       "      <th>BsmtFin Type 2</th>\n",
       "      <th>BsmtFin SF 2</th>\n",
       "      <th>Bsmt Unf SF</th>\n",
       "      <th>Total Bsmt SF</th>\n",
       "      <th>Bsmt Full Bath</th>\n",
       "      <th>Bsmt Half Bath</th>\n",
       "    </tr>\n",
       "  </thead>\n",
       "  <tbody>\n",
       "    <tr>\n",
       "      <th>0</th>\n",
       "      <td>Fa</td>\n",
       "      <td>TA</td>\n",
       "      <td>No</td>\n",
       "      <td>Unf</td>\n",
       "      <td>0</td>\n",
       "      <td>Unf</td>\n",
       "      <td>0</td>\n",
       "      <td>1020</td>\n",
       "      <td>1020</td>\n",
       "      <td>0</td>\n",
       "      <td>0</td>\n",
       "    </tr>\n",
       "    <tr>\n",
       "      <th>1</th>\n",
       "      <td>Gd</td>\n",
       "      <td>TA</td>\n",
       "      <td>No</td>\n",
       "      <td>Unf</td>\n",
       "      <td>0</td>\n",
       "      <td>Unf</td>\n",
       "      <td>0</td>\n",
       "      <td>1967</td>\n",
       "      <td>1967</td>\n",
       "      <td>0</td>\n",
       "      <td>0</td>\n",
       "    </tr>\n",
       "    <tr>\n",
       "      <th>2</th>\n",
       "      <td>Gd</td>\n",
       "      <td>Gd</td>\n",
       "      <td>Av</td>\n",
       "      <td>GLQ</td>\n",
       "      <td>554</td>\n",
       "      <td>Unf</td>\n",
       "      <td>0</td>\n",
       "      <td>100</td>\n",
       "      <td>654</td>\n",
       "      <td>1</td>\n",
       "      <td>0</td>\n",
       "    </tr>\n",
       "  </tbody>\n",
       "</table>\n",
       "</div>"
      ],
      "text/plain": [
       "  Bsmt Qual Bsmt Cond Bsmt Exposure BsmtFin Type 1  BsmtFin SF 1  \\\n",
       "0        Fa        TA            No            Unf             0   \n",
       "1        Gd        TA            No            Unf             0   \n",
       "2        Gd        Gd            Av            GLQ           554   \n",
       "\n",
       "  BsmtFin Type 2  BsmtFin SF 2  Bsmt Unf SF  Total Bsmt SF  Bsmt Full Bath  \\\n",
       "0            Unf             0         1020           1020               0   \n",
       "1            Unf             0         1967           1967               0   \n",
       "2            Unf             0          100            654               1   \n",
       "\n",
       "   Bsmt Half Bath  \n",
       "0               0  \n",
       "1               0  \n",
       "2               0  "
      ]
     },
     "execution_count": 32,
     "metadata": {},
     "output_type": "execute_result"
    }
   ],
   "source": [
    "bsmt_df = traindata.filter(regex=(\"Bsmt\"))\n",
    "bsmt_df.head(3)"
   ]
  },
  {
   "cell_type": "code",
   "execution_count": 33,
   "id": "1a5acdf9",
   "metadata": {},
   "outputs": [
    {
     "data": {
      "text/plain": [
       "Index(['Bsmt Qual', 'Bsmt Cond', 'Bsmt Exposure', 'BsmtFin Type 1',\n",
       "       'BsmtFin SF 1', 'BsmtFin Type 2', 'BsmtFin SF 2', 'Bsmt Unf SF',\n",
       "       'Total Bsmt SF', 'Bsmt Full Bath', 'Bsmt Half Bath'],\n",
       "      dtype='object')"
      ]
     },
     "execution_count": 33,
     "metadata": {},
     "output_type": "execute_result"
    }
   ],
   "source": [
    "bsmt_df.columns"
   ]
  },
  {
   "cell_type": "code",
   "execution_count": 34,
   "id": "a4e382bc",
   "metadata": {},
   "outputs": [
    {
     "name": "stdout",
     "output_type": "stream",
     "text": [
      "<class 'pandas.core.frame.DataFrame'>\n",
      "RangeIndex: 878 entries, 0 to 877\n",
      "Data columns (total 11 columns):\n",
      " #   Column          Non-Null Count  Dtype \n",
      "---  ------          --------------  ----- \n",
      " 0   Bsmt Qual       853 non-null    object\n",
      " 1   Bsmt Cond       853 non-null    object\n",
      " 2   Bsmt Exposure   853 non-null    object\n",
      " 3   BsmtFin Type 1  853 non-null    object\n",
      " 4   BsmtFin SF 1    878 non-null    int64 \n",
      " 5   BsmtFin Type 2  853 non-null    object\n",
      " 6   BsmtFin SF 2    878 non-null    int64 \n",
      " 7   Bsmt Unf SF     878 non-null    int64 \n",
      " 8   Total Bsmt SF   878 non-null    int64 \n",
      " 9   Bsmt Full Bath  878 non-null    int64 \n",
      " 10  Bsmt Half Bath  878 non-null    int64 \n",
      "dtypes: int64(6), object(5)\n",
      "memory usage: 75.6+ KB\n"
     ]
    }
   ],
   "source": [
    "bsmt_df.info()"
   ]
  },
  {
   "cell_type": "markdown",
   "id": "495bafac",
   "metadata": {},
   "source": [
    "###### By understanding the relationship that Total Bsmt SF = BsmtFin SF 1 + Bsmt Unf SF, it is likely that most of the NaN is coming from the data where Total Bsmt SF == 0 where the Bsmt feature does not exist."
   ]
  },
  {
   "cell_type": "code",
   "execution_count": 35,
   "id": "09755c57",
   "metadata": {},
   "outputs": [],
   "source": [
    "bsmt_0 = bsmt_df[bsmt_df['Total Bsmt SF'] == 0]"
   ]
  },
  {
   "cell_type": "code",
   "execution_count": 36,
   "id": "40666dfb",
   "metadata": {
    "scrolled": true
   },
   "outputs": [
    {
     "data": {
      "text/html": [
       "<div>\n",
       "<style scoped>\n",
       "    .dataframe tbody tr th:only-of-type {\n",
       "        vertical-align: middle;\n",
       "    }\n",
       "\n",
       "    .dataframe tbody tr th {\n",
       "        vertical-align: top;\n",
       "    }\n",
       "\n",
       "    .dataframe thead th {\n",
       "        text-align: right;\n",
       "    }\n",
       "</style>\n",
       "<table border=\"1\" class=\"dataframe\">\n",
       "  <thead>\n",
       "    <tr style=\"text-align: right;\">\n",
       "      <th></th>\n",
       "      <th>BsmtFin SF 1</th>\n",
       "      <th>BsmtFin SF 2</th>\n",
       "      <th>Bsmt Unf SF</th>\n",
       "      <th>Total Bsmt SF</th>\n",
       "      <th>Bsmt Full Bath</th>\n",
       "      <th>Bsmt Half Bath</th>\n",
       "    </tr>\n",
       "  </thead>\n",
       "  <tbody>\n",
       "    <tr>\n",
       "      <th>count</th>\n",
       "      <td>25.0</td>\n",
       "      <td>25.0</td>\n",
       "      <td>25.0</td>\n",
       "      <td>25.0</td>\n",
       "      <td>25.0</td>\n",
       "      <td>25.0</td>\n",
       "    </tr>\n",
       "    <tr>\n",
       "      <th>mean</th>\n",
       "      <td>0.0</td>\n",
       "      <td>0.0</td>\n",
       "      <td>0.0</td>\n",
       "      <td>0.0</td>\n",
       "      <td>0.0</td>\n",
       "      <td>0.0</td>\n",
       "    </tr>\n",
       "    <tr>\n",
       "      <th>std</th>\n",
       "      <td>0.0</td>\n",
       "      <td>0.0</td>\n",
       "      <td>0.0</td>\n",
       "      <td>0.0</td>\n",
       "      <td>0.0</td>\n",
       "      <td>0.0</td>\n",
       "    </tr>\n",
       "    <tr>\n",
       "      <th>min</th>\n",
       "      <td>0.0</td>\n",
       "      <td>0.0</td>\n",
       "      <td>0.0</td>\n",
       "      <td>0.0</td>\n",
       "      <td>0.0</td>\n",
       "      <td>0.0</td>\n",
       "    </tr>\n",
       "    <tr>\n",
       "      <th>25%</th>\n",
       "      <td>0.0</td>\n",
       "      <td>0.0</td>\n",
       "      <td>0.0</td>\n",
       "      <td>0.0</td>\n",
       "      <td>0.0</td>\n",
       "      <td>0.0</td>\n",
       "    </tr>\n",
       "    <tr>\n",
       "      <th>50%</th>\n",
       "      <td>0.0</td>\n",
       "      <td>0.0</td>\n",
       "      <td>0.0</td>\n",
       "      <td>0.0</td>\n",
       "      <td>0.0</td>\n",
       "      <td>0.0</td>\n",
       "    </tr>\n",
       "    <tr>\n",
       "      <th>75%</th>\n",
       "      <td>0.0</td>\n",
       "      <td>0.0</td>\n",
       "      <td>0.0</td>\n",
       "      <td>0.0</td>\n",
       "      <td>0.0</td>\n",
       "      <td>0.0</td>\n",
       "    </tr>\n",
       "    <tr>\n",
       "      <th>max</th>\n",
       "      <td>0.0</td>\n",
       "      <td>0.0</td>\n",
       "      <td>0.0</td>\n",
       "      <td>0.0</td>\n",
       "      <td>0.0</td>\n",
       "      <td>0.0</td>\n",
       "    </tr>\n",
       "  </tbody>\n",
       "</table>\n",
       "</div>"
      ],
      "text/plain": [
       "       BsmtFin SF 1  BsmtFin SF 2  Bsmt Unf SF  Total Bsmt SF  Bsmt Full Bath  \\\n",
       "count          25.0          25.0         25.0           25.0            25.0   \n",
       "mean            0.0           0.0          0.0            0.0             0.0   \n",
       "std             0.0           0.0          0.0            0.0             0.0   \n",
       "min             0.0           0.0          0.0            0.0             0.0   \n",
       "25%             0.0           0.0          0.0            0.0             0.0   \n",
       "50%             0.0           0.0          0.0            0.0             0.0   \n",
       "75%             0.0           0.0          0.0            0.0             0.0   \n",
       "max             0.0           0.0          0.0            0.0             0.0   \n",
       "\n",
       "       Bsmt Half Bath  \n",
       "count            25.0  \n",
       "mean              0.0  \n",
       "std               0.0  \n",
       "min               0.0  \n",
       "25%               0.0  \n",
       "50%               0.0  \n",
       "75%               0.0  \n",
       "max               0.0  "
      ]
     },
     "execution_count": 36,
     "metadata": {},
     "output_type": "execute_result"
    }
   ],
   "source": [
    "bsmt_0.describe()"
   ]
  },
  {
   "cell_type": "code",
   "execution_count": 37,
   "id": "b37c9604",
   "metadata": {},
   "outputs": [
    {
     "data": {
      "text/html": [
       "<div>\n",
       "<style scoped>\n",
       "    .dataframe tbody tr th:only-of-type {\n",
       "        vertical-align: middle;\n",
       "    }\n",
       "\n",
       "    .dataframe tbody tr th {\n",
       "        vertical-align: top;\n",
       "    }\n",
       "\n",
       "    .dataframe thead th {\n",
       "        text-align: right;\n",
       "    }\n",
       "</style>\n",
       "<table border=\"1\" class=\"dataframe\">\n",
       "  <thead>\n",
       "    <tr style=\"text-align: right;\">\n",
       "      <th></th>\n",
       "      <th>Bsmt Qual</th>\n",
       "      <th>Bsmt Cond</th>\n",
       "      <th>Bsmt Exposure</th>\n",
       "      <th>BsmtFin Type 1</th>\n",
       "      <th>BsmtFin SF 1</th>\n",
       "      <th>BsmtFin Type 2</th>\n",
       "      <th>BsmtFin SF 2</th>\n",
       "      <th>Bsmt Unf SF</th>\n",
       "      <th>Total Bsmt SF</th>\n",
       "      <th>Bsmt Full Bath</th>\n",
       "      <th>Bsmt Half Bath</th>\n",
       "    </tr>\n",
       "  </thead>\n",
       "  <tbody>\n",
       "    <tr>\n",
       "      <th>15</th>\n",
       "      <td>NaN</td>\n",
       "      <td>NaN</td>\n",
       "      <td>NaN</td>\n",
       "      <td>NaN</td>\n",
       "      <td>0</td>\n",
       "      <td>NaN</td>\n",
       "      <td>0</td>\n",
       "      <td>0</td>\n",
       "      <td>0</td>\n",
       "      <td>0</td>\n",
       "      <td>0</td>\n",
       "    </tr>\n",
       "    <tr>\n",
       "      <th>37</th>\n",
       "      <td>NaN</td>\n",
       "      <td>NaN</td>\n",
       "      <td>NaN</td>\n",
       "      <td>NaN</td>\n",
       "      <td>0</td>\n",
       "      <td>NaN</td>\n",
       "      <td>0</td>\n",
       "      <td>0</td>\n",
       "      <td>0</td>\n",
       "      <td>0</td>\n",
       "      <td>0</td>\n",
       "    </tr>\n",
       "    <tr>\n",
       "      <th>76</th>\n",
       "      <td>NaN</td>\n",
       "      <td>NaN</td>\n",
       "      <td>NaN</td>\n",
       "      <td>NaN</td>\n",
       "      <td>0</td>\n",
       "      <td>NaN</td>\n",
       "      <td>0</td>\n",
       "      <td>0</td>\n",
       "      <td>0</td>\n",
       "      <td>0</td>\n",
       "      <td>0</td>\n",
       "    </tr>\n",
       "  </tbody>\n",
       "</table>\n",
       "</div>"
      ],
      "text/plain": [
       "   Bsmt Qual Bsmt Cond Bsmt Exposure BsmtFin Type 1  BsmtFin SF 1  \\\n",
       "15       NaN       NaN           NaN            NaN             0   \n",
       "37       NaN       NaN           NaN            NaN             0   \n",
       "76       NaN       NaN           NaN            NaN             0   \n",
       "\n",
       "   BsmtFin Type 2  BsmtFin SF 2  Bsmt Unf SF  Total Bsmt SF  Bsmt Full Bath  \\\n",
       "15            NaN             0            0              0               0   \n",
       "37            NaN             0            0              0               0   \n",
       "76            NaN             0            0              0               0   \n",
       "\n",
       "    Bsmt Half Bath  \n",
       "15               0  \n",
       "37               0  \n",
       "76               0  "
      ]
     },
     "execution_count": 37,
     "metadata": {},
     "output_type": "execute_result"
    }
   ],
   "source": [
    "bsmt_0.head(3)"
   ]
  },
  {
   "cell_type": "code",
   "execution_count": 38,
   "id": "b4507346",
   "metadata": {},
   "outputs": [
    {
     "data": {
      "text/plain": [
       "Index(['Bsmt Qual', 'Bsmt Cond', 'Bsmt Exposure', 'BsmtFin Type 1',\n",
       "       'BsmtFin SF 1', 'BsmtFin Type 2', 'BsmtFin SF 2', 'Bsmt Unf SF',\n",
       "       'Total Bsmt SF', 'Bsmt Full Bath', 'Bsmt Half Bath'],\n",
       "      dtype='object')"
      ]
     },
     "execution_count": 38,
     "metadata": {},
     "output_type": "execute_result"
    }
   ],
   "source": [
    "bsmt_0.columns"
   ]
  },
  {
   "cell_type": "markdown",
   "id": "6c0aac2b",
   "metadata": {},
   "source": [
    "###### Columns: 'Bsmt Qual', 'Bsmt Cond', 'Bsmt Exposure', 'BsmtFin Type 1', 'BsmtFin Type 2' NaN values will be replaced with 'NA' to indicate that there is no such feature."
   ]
  },
  {
   "cell_type": "code",
   "execution_count": 39,
   "id": "3d93b5bb",
   "metadata": {},
   "outputs": [],
   "source": [
    "bsmt_nan = bsmt_0[['Bsmt Qual', 'Bsmt Cond', 'Bsmt Exposure', 'BsmtFin Type 1',\n",
    "       'BsmtFin SF 1', 'BsmtFin Type 2', 'BsmtFin SF 2', 'Bsmt Unf SF',\n",
    "       'Total Bsmt SF', 'Bsmt Full Bath', 'Bsmt Half Bath']]"
   ]
  },
  {
   "cell_type": "code",
   "execution_count": 40,
   "id": "bfae5556",
   "metadata": {},
   "outputs": [
    {
     "data": {
      "text/html": [
       "<div>\n",
       "<style scoped>\n",
       "    .dataframe tbody tr th:only-of-type {\n",
       "        vertical-align: middle;\n",
       "    }\n",
       "\n",
       "    .dataframe tbody tr th {\n",
       "        vertical-align: top;\n",
       "    }\n",
       "\n",
       "    .dataframe thead th {\n",
       "        text-align: right;\n",
       "    }\n",
       "</style>\n",
       "<table border=\"1\" class=\"dataframe\">\n",
       "  <thead>\n",
       "    <tr style=\"text-align: right;\">\n",
       "      <th></th>\n",
       "      <th>Bsmt Qual</th>\n",
       "      <th>Bsmt Cond</th>\n",
       "      <th>Bsmt Exposure</th>\n",
       "      <th>BsmtFin Type 1</th>\n",
       "      <th>BsmtFin SF 1</th>\n",
       "      <th>BsmtFin Type 2</th>\n",
       "      <th>BsmtFin SF 2</th>\n",
       "      <th>Bsmt Unf SF</th>\n",
       "      <th>Total Bsmt SF</th>\n",
       "      <th>Bsmt Full Bath</th>\n",
       "      <th>Bsmt Half Bath</th>\n",
       "    </tr>\n",
       "  </thead>\n",
       "  <tbody>\n",
       "    <tr>\n",
       "      <th>15</th>\n",
       "      <td>NA</td>\n",
       "      <td>NA</td>\n",
       "      <td>NA</td>\n",
       "      <td>NA</td>\n",
       "      <td>0</td>\n",
       "      <td>NA</td>\n",
       "      <td>0</td>\n",
       "      <td>0</td>\n",
       "      <td>0</td>\n",
       "      <td>0</td>\n",
       "      <td>0</td>\n",
       "    </tr>\n",
       "    <tr>\n",
       "      <th>37</th>\n",
       "      <td>NA</td>\n",
       "      <td>NA</td>\n",
       "      <td>NA</td>\n",
       "      <td>NA</td>\n",
       "      <td>0</td>\n",
       "      <td>NA</td>\n",
       "      <td>0</td>\n",
       "      <td>0</td>\n",
       "      <td>0</td>\n",
       "      <td>0</td>\n",
       "      <td>0</td>\n",
       "    </tr>\n",
       "    <tr>\n",
       "      <th>76</th>\n",
       "      <td>NA</td>\n",
       "      <td>NA</td>\n",
       "      <td>NA</td>\n",
       "      <td>NA</td>\n",
       "      <td>0</td>\n",
       "      <td>NA</td>\n",
       "      <td>0</td>\n",
       "      <td>0</td>\n",
       "      <td>0</td>\n",
       "      <td>0</td>\n",
       "      <td>0</td>\n",
       "    </tr>\n",
       "  </tbody>\n",
       "</table>\n",
       "</div>"
      ],
      "text/plain": [
       "   Bsmt Qual Bsmt Cond Bsmt Exposure BsmtFin Type 1  BsmtFin SF 1  \\\n",
       "15        NA        NA            NA             NA             0   \n",
       "37        NA        NA            NA             NA             0   \n",
       "76        NA        NA            NA             NA             0   \n",
       "\n",
       "   BsmtFin Type 2  BsmtFin SF 2  Bsmt Unf SF  Total Bsmt SF  Bsmt Full Bath  \\\n",
       "15             NA             0            0              0               0   \n",
       "37             NA             0            0              0               0   \n",
       "76             NA             0            0              0               0   \n",
       "\n",
       "    Bsmt Half Bath  \n",
       "15               0  \n",
       "37               0  \n",
       "76               0  "
      ]
     },
     "execution_count": 40,
     "metadata": {},
     "output_type": "execute_result"
    }
   ],
   "source": [
    "bsmt_nan.fillna('NA').head(3)"
   ]
  },
  {
   "cell_type": "code",
   "execution_count": 41,
   "id": "917e3f17",
   "metadata": {},
   "outputs": [
    {
     "data": {
      "text/html": [
       "<div>\n",
       "<style scoped>\n",
       "    .dataframe tbody tr th:only-of-type {\n",
       "        vertical-align: middle;\n",
       "    }\n",
       "\n",
       "    .dataframe tbody tr th {\n",
       "        vertical-align: top;\n",
       "    }\n",
       "\n",
       "    .dataframe thead th {\n",
       "        text-align: right;\n",
       "    }\n",
       "</style>\n",
       "<table border=\"1\" class=\"dataframe\">\n",
       "  <thead>\n",
       "    <tr style=\"text-align: right;\">\n",
       "      <th></th>\n",
       "      <th>bsmt_null</th>\n",
       "    </tr>\n",
       "  </thead>\n",
       "  <tbody>\n",
       "    <tr>\n",
       "      <th>Bsmt Qual</th>\n",
       "      <td>25</td>\n",
       "    </tr>\n",
       "    <tr>\n",
       "      <th>Bsmt Cond</th>\n",
       "      <td>25</td>\n",
       "    </tr>\n",
       "    <tr>\n",
       "      <th>Bsmt Exposure</th>\n",
       "      <td>25</td>\n",
       "    </tr>\n",
       "    <tr>\n",
       "      <th>BsmtFin Type 1</th>\n",
       "      <td>25</td>\n",
       "    </tr>\n",
       "    <tr>\n",
       "      <th>BsmtFin SF 1</th>\n",
       "      <td>0</td>\n",
       "    </tr>\n",
       "    <tr>\n",
       "      <th>BsmtFin Type 2</th>\n",
       "      <td>25</td>\n",
       "    </tr>\n",
       "    <tr>\n",
       "      <th>BsmtFin SF 2</th>\n",
       "      <td>0</td>\n",
       "    </tr>\n",
       "    <tr>\n",
       "      <th>Bsmt Unf SF</th>\n",
       "      <td>0</td>\n",
       "    </tr>\n",
       "    <tr>\n",
       "      <th>Total Bsmt SF</th>\n",
       "      <td>0</td>\n",
       "    </tr>\n",
       "    <tr>\n",
       "      <th>Bsmt Full Bath</th>\n",
       "      <td>0</td>\n",
       "    </tr>\n",
       "    <tr>\n",
       "      <th>Bsmt Half Bath</th>\n",
       "      <td>0</td>\n",
       "    </tr>\n",
       "  </tbody>\n",
       "</table>\n",
       "</div>"
      ],
      "text/plain": [
       "                bsmt_null\n",
       "Bsmt Qual              25\n",
       "Bsmt Cond              25\n",
       "Bsmt Exposure          25\n",
       "BsmtFin Type 1         25\n",
       "BsmtFin SF 1            0\n",
       "BsmtFin Type 2         25\n",
       "BsmtFin SF 2            0\n",
       "Bsmt Unf SF             0\n",
       "Total Bsmt SF           0\n",
       "Bsmt Full Bath          0\n",
       "Bsmt Half Bath          0"
      ]
     },
     "execution_count": 41,
     "metadata": {},
     "output_type": "execute_result"
    }
   ],
   "source": [
    "pd.DataFrame(bsmt_nan.isnull().sum(), columns=['bsmt_null'])"
   ]
  },
  {
   "cell_type": "markdown",
   "id": "8aac751c",
   "metadata": {},
   "source": [
    "After zeroing the NaN for ['Bsmt Qual', 'Bsmt Cond', 'Bsmt Exposure', 'BsmtFin Type 1',\n",
    "       'BsmtFin SF 1', 'BsmtFin Type 2', 'BsmtFin SF 2', 'Bsmt Unf SF',\n",
    "       'Total Bsmt SF', 'Bsmt Full Bath', 'Bsmt Half Bath']\n",
    "       \n",
    "There remains NaN in the data. <br>\n",
    "These data needs to be investigated further."
   ]
  },
  {
   "cell_type": "code",
   "execution_count": 42,
   "id": "5dd1bfe5",
   "metadata": {},
   "outputs": [],
   "source": [
    "bsmt_nan_leftovers = bsmt_nan[bsmt_nan.isna().any(axis=1)]"
   ]
  },
  {
   "cell_type": "code",
   "execution_count": 43,
   "id": "209a1a57",
   "metadata": {},
   "outputs": [
    {
     "data": {
      "text/plain": [
       "(25, 11)"
      ]
     },
     "execution_count": 43,
     "metadata": {},
     "output_type": "execute_result"
    }
   ],
   "source": [
    "bsmt_nan_leftovers.shape"
   ]
  },
  {
   "cell_type": "code",
   "execution_count": 44,
   "id": "cb620f47",
   "metadata": {},
   "outputs": [
    {
     "data": {
      "text/html": [
       "<div>\n",
       "<style scoped>\n",
       "    .dataframe tbody tr th:only-of-type {\n",
       "        vertical-align: middle;\n",
       "    }\n",
       "\n",
       "    .dataframe tbody tr th {\n",
       "        vertical-align: top;\n",
       "    }\n",
       "\n",
       "    .dataframe thead th {\n",
       "        text-align: right;\n",
       "    }\n",
       "</style>\n",
       "<table border=\"1\" class=\"dataframe\">\n",
       "  <thead>\n",
       "    <tr style=\"text-align: right;\">\n",
       "      <th></th>\n",
       "      <th>BsmtFin SF 1</th>\n",
       "      <th>BsmtFin SF 2</th>\n",
       "      <th>Bsmt Unf SF</th>\n",
       "      <th>Total Bsmt SF</th>\n",
       "      <th>Bsmt Full Bath</th>\n",
       "      <th>Bsmt Half Bath</th>\n",
       "    </tr>\n",
       "  </thead>\n",
       "  <tbody>\n",
       "    <tr>\n",
       "      <th>count</th>\n",
       "      <td>25.0</td>\n",
       "      <td>25.0</td>\n",
       "      <td>25.0</td>\n",
       "      <td>25.0</td>\n",
       "      <td>25.0</td>\n",
       "      <td>25.0</td>\n",
       "    </tr>\n",
       "    <tr>\n",
       "      <th>mean</th>\n",
       "      <td>0.0</td>\n",
       "      <td>0.0</td>\n",
       "      <td>0.0</td>\n",
       "      <td>0.0</td>\n",
       "      <td>0.0</td>\n",
       "      <td>0.0</td>\n",
       "    </tr>\n",
       "    <tr>\n",
       "      <th>std</th>\n",
       "      <td>0.0</td>\n",
       "      <td>0.0</td>\n",
       "      <td>0.0</td>\n",
       "      <td>0.0</td>\n",
       "      <td>0.0</td>\n",
       "      <td>0.0</td>\n",
       "    </tr>\n",
       "    <tr>\n",
       "      <th>min</th>\n",
       "      <td>0.0</td>\n",
       "      <td>0.0</td>\n",
       "      <td>0.0</td>\n",
       "      <td>0.0</td>\n",
       "      <td>0.0</td>\n",
       "      <td>0.0</td>\n",
       "    </tr>\n",
       "    <tr>\n",
       "      <th>25%</th>\n",
       "      <td>0.0</td>\n",
       "      <td>0.0</td>\n",
       "      <td>0.0</td>\n",
       "      <td>0.0</td>\n",
       "      <td>0.0</td>\n",
       "      <td>0.0</td>\n",
       "    </tr>\n",
       "    <tr>\n",
       "      <th>50%</th>\n",
       "      <td>0.0</td>\n",
       "      <td>0.0</td>\n",
       "      <td>0.0</td>\n",
       "      <td>0.0</td>\n",
       "      <td>0.0</td>\n",
       "      <td>0.0</td>\n",
       "    </tr>\n",
       "    <tr>\n",
       "      <th>75%</th>\n",
       "      <td>0.0</td>\n",
       "      <td>0.0</td>\n",
       "      <td>0.0</td>\n",
       "      <td>0.0</td>\n",
       "      <td>0.0</td>\n",
       "      <td>0.0</td>\n",
       "    </tr>\n",
       "    <tr>\n",
       "      <th>max</th>\n",
       "      <td>0.0</td>\n",
       "      <td>0.0</td>\n",
       "      <td>0.0</td>\n",
       "      <td>0.0</td>\n",
       "      <td>0.0</td>\n",
       "      <td>0.0</td>\n",
       "    </tr>\n",
       "  </tbody>\n",
       "</table>\n",
       "</div>"
      ],
      "text/plain": [
       "       BsmtFin SF 1  BsmtFin SF 2  Bsmt Unf SF  Total Bsmt SF  Bsmt Full Bath  \\\n",
       "count          25.0          25.0         25.0           25.0            25.0   \n",
       "mean            0.0           0.0          0.0            0.0             0.0   \n",
       "std             0.0           0.0          0.0            0.0             0.0   \n",
       "min             0.0           0.0          0.0            0.0             0.0   \n",
       "25%             0.0           0.0          0.0            0.0             0.0   \n",
       "50%             0.0           0.0          0.0            0.0             0.0   \n",
       "75%             0.0           0.0          0.0            0.0             0.0   \n",
       "max             0.0           0.0          0.0            0.0             0.0   \n",
       "\n",
       "       Bsmt Half Bath  \n",
       "count            25.0  \n",
       "mean              0.0  \n",
       "std               0.0  \n",
       "min               0.0  \n",
       "25%               0.0  \n",
       "50%               0.0  \n",
       "75%               0.0  \n",
       "max               0.0  "
      ]
     },
     "execution_count": 44,
     "metadata": {},
     "output_type": "execute_result"
    }
   ],
   "source": [
    "bsmt_nan_leftovers.describe()"
   ]
  },
  {
   "cell_type": "markdown",
   "id": "d72c28e0",
   "metadata": {},
   "source": [
    "The leftover NaN data are all empty, likely signifying that these features does not exist. <br>\n",
    "Therefore it is safe to replace data with 'NA' or 0.0 according to the column datatype."
   ]
  },
  {
   "cell_type": "markdown",
   "id": "fa52852e",
   "metadata": {},
   "source": [
    "### Replacing Bsmt NaN data"
   ]
  },
  {
   "cell_type": "code",
   "execution_count": 45,
   "id": "e32587e6",
   "metadata": {},
   "outputs": [
    {
     "data": {
      "text/plain": [
       "Index(['Bsmt Qual', 'Bsmt Cond', 'Bsmt Exposure', 'BsmtFin Type 1',\n",
       "       'BsmtFin SF 1', 'BsmtFin Type 2', 'BsmtFin SF 2', 'Bsmt Unf SF',\n",
       "       'Total Bsmt SF', 'Bsmt Full Bath', 'Bsmt Half Bath'],\n",
       "      dtype='object')"
      ]
     },
     "execution_count": 45,
     "metadata": {},
     "output_type": "execute_result"
    }
   ],
   "source": [
    "bsmt_df.columns"
   ]
  },
  {
   "cell_type": "markdown",
   "id": "71b63ec6",
   "metadata": {},
   "source": [
    "###### 1. Bsmt Qual"
   ]
  },
  {
   "cell_type": "code",
   "execution_count": 46,
   "id": "a6392207",
   "metadata": {},
   "outputs": [
    {
     "data": {
      "text/plain": [
       "array(['Fa', 'Gd', 'TA', 'Ex', nan, 'Po'], dtype=object)"
      ]
     },
     "execution_count": 46,
     "metadata": {},
     "output_type": "execute_result"
    }
   ],
   "source": [
    "bsmt_df['Bsmt Qual'].unique()"
   ]
  },
  {
   "cell_type": "code",
   "execution_count": 47,
   "id": "3b777f34",
   "metadata": {},
   "outputs": [],
   "source": [
    "bsmt_df['Bsmt Qual'] = bsmt_df['Bsmt Qual'].fillna('NA')"
   ]
  },
  {
   "cell_type": "code",
   "execution_count": 48,
   "id": "1be2adc8",
   "metadata": {},
   "outputs": [
    {
     "data": {
      "text/plain": [
       "0"
      ]
     },
     "execution_count": 48,
     "metadata": {},
     "output_type": "execute_result"
    }
   ],
   "source": [
    "bsmt_df['Bsmt Qual'].isnull().sum()"
   ]
  },
  {
   "cell_type": "markdown",
   "id": "0e464977",
   "metadata": {},
   "source": [
    "###### 2. Bsmt Cond"
   ]
  },
  {
   "cell_type": "code",
   "execution_count": 49,
   "id": "2c3a32da",
   "metadata": {},
   "outputs": [
    {
     "data": {
      "text/plain": [
       "array(['TA', 'Gd', nan, 'Fa'], dtype=object)"
      ]
     },
     "execution_count": 49,
     "metadata": {},
     "output_type": "execute_result"
    }
   ],
   "source": [
    "bsmt_df['Bsmt Cond'].unique()"
   ]
  },
  {
   "cell_type": "code",
   "execution_count": 50,
   "id": "3261c42b",
   "metadata": {},
   "outputs": [],
   "source": [
    "bsmt_df['Bsmt Cond'] = bsmt_df['Bsmt Cond'].fillna('NA')"
   ]
  },
  {
   "cell_type": "code",
   "execution_count": 51,
   "id": "5e24e376",
   "metadata": {},
   "outputs": [
    {
     "data": {
      "text/plain": [
       "0"
      ]
     },
     "execution_count": 51,
     "metadata": {},
     "output_type": "execute_result"
    }
   ],
   "source": [
    "bsmt_df['Bsmt Cond'].isnull().sum()"
   ]
  },
  {
   "cell_type": "markdown",
   "id": "095be472",
   "metadata": {},
   "source": [
    "###### 3. Bsmt Exposure"
   ]
  },
  {
   "cell_type": "code",
   "execution_count": 52,
   "id": "b0db51ac",
   "metadata": {},
   "outputs": [
    {
     "data": {
      "text/plain": [
       "array(['No', 'Av', nan, 'Mn', 'Gd'], dtype=object)"
      ]
     },
     "execution_count": 52,
     "metadata": {},
     "output_type": "execute_result"
    }
   ],
   "source": [
    "bsmt_df['Bsmt Exposure'].unique()"
   ]
  },
  {
   "cell_type": "code",
   "execution_count": 53,
   "id": "c563ccb8",
   "metadata": {},
   "outputs": [],
   "source": [
    "bsmt_df['Bsmt Exposure'] = bsmt_df['Bsmt Exposure'].fillna('NA')"
   ]
  },
  {
   "cell_type": "code",
   "execution_count": 54,
   "id": "7b86088a",
   "metadata": {},
   "outputs": [
    {
     "data": {
      "text/plain": [
       "0"
      ]
     },
     "execution_count": 54,
     "metadata": {},
     "output_type": "execute_result"
    }
   ],
   "source": [
    "bsmt_df['Bsmt Cond'].isnull().sum()"
   ]
  },
  {
   "cell_type": "markdown",
   "id": "b88e9b96",
   "metadata": {},
   "source": [
    "###### 4. BsmtFin Type 1"
   ]
  },
  {
   "cell_type": "code",
   "execution_count": 55,
   "id": "247c5c44",
   "metadata": {},
   "outputs": [
    {
     "data": {
      "text/plain": [
       "array(['Unf', 'GLQ', 'BLQ', 'Rec', 'ALQ', nan, 'LwQ'], dtype=object)"
      ]
     },
     "execution_count": 55,
     "metadata": {},
     "output_type": "execute_result"
    }
   ],
   "source": [
    "bsmt_df['BsmtFin Type 1'].unique()"
   ]
  },
  {
   "cell_type": "code",
   "execution_count": 56,
   "id": "b4136d60",
   "metadata": {},
   "outputs": [],
   "source": [
    "bsmt_df['BsmtFin Type 1'] = bsmt_df['BsmtFin Type 1'].fillna('NA')"
   ]
  },
  {
   "cell_type": "code",
   "execution_count": 57,
   "id": "cd69c916",
   "metadata": {},
   "outputs": [
    {
     "data": {
      "text/plain": [
       "0"
      ]
     },
     "execution_count": 57,
     "metadata": {},
     "output_type": "execute_result"
    }
   ],
   "source": [
    "bsmt_df['BsmtFin Type 1'].isnull().sum()"
   ]
  },
  {
   "cell_type": "markdown",
   "id": "78887d2b",
   "metadata": {},
   "source": [
    "###### 5. BsmtFin SF 1"
   ]
  },
  {
   "cell_type": "code",
   "execution_count": 58,
   "id": "75d0321a",
   "metadata": {
    "scrolled": true
   },
   "outputs": [
    {
     "data": {
      "text/plain": [
       "array([   0,  554,  609,  294,  196,  641,  278,  820,  590,  257,  913,\n",
       "        216,  188,  660,  165,  938,  390,  763,  144,  322,  152, 1084,\n",
       "         24,  284,  405,  650,  949,  486,  248,  824,  324,  220,  439,\n",
       "        329,  457,  636,  735, 1660, 1300,  190,  583,  387,  236,  614,\n",
       "       1030,  544,  697, 1230,  540,  500,  528,  701, 1383,  308,  316,\n",
       "        173,  462,  480,  962,  120,  588,  767,  306,  870,  472,  643,\n",
       "       1252,  658, 2257,  777,  518,  687,  704,  844, 1443, 1387, 1104,\n",
       "        602, 1572, 1191,  182, 1249,  360,   68,  502,  828,  267,  944,\n",
       "        550,  426,  866,  596,  982,   49,  378,  121,  491,  769,  902,\n",
       "        873,   48,  994,  352, 2288,   33,  814,   16,  788, 2096,  746,\n",
       "        612,  600,  483,  252,  739,  552,  125,  204,  652,  474,  194,\n",
       "        915,  210,  489,  773,  729,  646,  271,  456,   70,  871,  442,\n",
       "        224, 1236, 1141,  397,  810,  749,  574,  450, 1056,  400,  238,\n",
       "        793, 1035,  150, 1036,  592, 1360, 1721,  256,  564,  734, 1573,\n",
       "        388,  584, 1005,  347, 1410,  192,  372,  356,  922,  513,  624,\n",
       "        547, 1046,  726,  847,  659,  680,  812,  156,  212,  375,  595,\n",
       "        503,  309,  988,  816, 1029,  484,  800,  560,  203,  288, 1152,\n",
       "        712,  760,  616, 1096, 1445, 1646,  656,  185,  241,  218,  958,\n",
       "        860,  354,  504, 1009,  336,  728, 1112,  505, 1129,  340,  724,\n",
       "        779,  169,  317, 1220,  799,  445,  403,  811, 1159, 1283, 1182,\n",
       "        187,   80, 1373,  904, 1142,  642,  262,  664,  406,  593,  300,\n",
       "       1126,  455,  714,  685,  427,  864,  666,  520,  736,  546,  852,\n",
       "        168,  370, 1079,  854, 1216,  524,  353, 1436,  960,  706, 1059,\n",
       "        490,  404,  402,  695,  850, 1324,  719,  671,  454, 1294,  733,\n",
       "        225, 1111,  908,  789,   77,  471,  846,  512, 1455,  197,  623,\n",
       "        747,   20,  700,  339,  493,   28,  553,  414,  428,  892,  662,\n",
       "        890,  374,  859,  998, 1026,  562,  399, 1576,  297,  280,  260,\n",
       "       1073, 1304,  536,  755,  435,  509,  421,  970,  975,  148, 1012,\n",
       "        351,  249,  116,  283,  412,  334,  559,  114,  332,  299,  119,\n",
       "         60,  782,   54,  899,  932, 1359,  833,  796,  572, 1260,  104,\n",
       "       1151,  663, 1070,  576,  804,   36,  832, 1150, 1308,  315,  920,\n",
       "        250,  180, 1965,  460,  466,  632, 1022,  672, 1414,  973,  604,\n",
       "        459,  415,  338,  633, 1000,  605,  301,  795, 1420,  670,  281,\n",
       "       1224, 1464,  601,  175,  337,  320,  292, 1181,  346, 1138, 1416,\n",
       "        154, 1274, 1082,  781,  880, 1024,  468, 1732, 1065,  539,  110,\n",
       "        771,  996,   75,  965,  649,  831,  946,  231,  655,  585,  822,\n",
       "        122,  936, 1127,  732,  381,  383,  176,  310, 1460,  276,  311,\n",
       "       1812,  611, 1186, 1350,  709,  862,   40,  865,  498,  371,  420,\n",
       "        384, 1064,  366, 1351, 1053,  885,  986, 1258,  766,  881,  577,\n",
       "       1334,  758,  343,   73,  379,  521,  856,  380,  438, 1500,  876,\n",
       "        784,  331,  853, 1836,  698,  565,   53, 1422,  408,  523,  567,\n",
       "        910,  912,  251,  943,  341,  515,  625,  765, 1094,  931,  575],\n",
       "      dtype=int64)"
      ]
     },
     "execution_count": 58,
     "metadata": {},
     "output_type": "execute_result"
    }
   ],
   "source": [
    "bsmt_df['BsmtFin SF 1'].unique()"
   ]
  },
  {
   "cell_type": "code",
   "execution_count": 59,
   "id": "38d5b5c7",
   "metadata": {},
   "outputs": [],
   "source": [
    "bsmt_df['BsmtFin SF 1'] = bsmt_df['BsmtFin SF 1'].fillna(0)"
   ]
  },
  {
   "cell_type": "code",
   "execution_count": 60,
   "id": "8e4bcf00",
   "metadata": {},
   "outputs": [
    {
     "data": {
      "text/plain": [
       "dtype('int64')"
      ]
     },
     "execution_count": 60,
     "metadata": {},
     "output_type": "execute_result"
    }
   ],
   "source": [
    "bsmt_df['BsmtFin SF 1'].dtypes"
   ]
  },
  {
   "cell_type": "code",
   "execution_count": 61,
   "id": "5309a27b",
   "metadata": {},
   "outputs": [
    {
     "data": {
      "text/plain": [
       "0"
      ]
     },
     "execution_count": 61,
     "metadata": {},
     "output_type": "execute_result"
    }
   ],
   "source": [
    "bsmt_df['BsmtFin SF 1'].isnull().sum()"
   ]
  },
  {
   "cell_type": "markdown",
   "id": "65bfc608",
   "metadata": {},
   "source": [
    "###### 6. BsmtFin Type 2"
   ]
  },
  {
   "cell_type": "code",
   "execution_count": 62,
   "id": "938ea18d",
   "metadata": {},
   "outputs": [
    {
     "data": {
      "text/plain": [
       "array(['Unf', 'LwQ', nan, 'ALQ', 'GLQ', 'Rec', 'BLQ'], dtype=object)"
      ]
     },
     "execution_count": 62,
     "metadata": {},
     "output_type": "execute_result"
    }
   ],
   "source": [
    "bsmt_df['BsmtFin Type 2'].unique()"
   ]
  },
  {
   "cell_type": "code",
   "execution_count": 63,
   "id": "73bdda05",
   "metadata": {},
   "outputs": [],
   "source": [
    "bsmt_df['BsmtFin Type 2'] = bsmt_df['BsmtFin Type 2'].fillna('NA')"
   ]
  },
  {
   "cell_type": "code",
   "execution_count": 64,
   "id": "893d74a5",
   "metadata": {},
   "outputs": [
    {
     "data": {
      "text/plain": [
       "0"
      ]
     },
     "execution_count": 64,
     "metadata": {},
     "output_type": "execute_result"
    }
   ],
   "source": [
    "bsmt_df['BsmtFin Type 2'].isnull().sum()"
   ]
  },
  {
   "cell_type": "markdown",
   "id": "5625e3b3",
   "metadata": {},
   "source": [
    "###### 7. BsmtFin SF 2"
   ]
  },
  {
   "cell_type": "code",
   "execution_count": 65,
   "id": "902929a3",
   "metadata": {},
   "outputs": [
    {
     "data": {
      "text/plain": [
       "array([   0,  279,  668,  841,  180,  240,  472,  374,  873, 1526, 1020,\n",
       "        337,  210,  136,   46,  453,  252, 1029,  634,  468, 1164, 1031,\n",
       "        884,  606,  820,  826,   63,  480,  184,  336,  391,  147,  398,\n",
       "        182,  250,  165,  627,  393,  723,  449,  319,  682,  912,  530,\n",
       "        276,  831,  121,   93,  288,  287,   48,   32,  193,  684,  456,\n",
       "        904,  764,  755,  544,  402,  491,  691,  243,   40,  344,  543,\n",
       "         42,  712,   78,  352,  350,  438,  690,  679,  216,  362,  694,\n",
       "        435,  972,  144,  360,  791,  448,  264,  168,  981,  176,  174,\n",
       "        396,  799,  400,  630,  139,  512,  153,  492], dtype=int64)"
      ]
     },
     "execution_count": 65,
     "metadata": {},
     "output_type": "execute_result"
    }
   ],
   "source": [
    "bsmt_df['BsmtFin SF 2'].unique()"
   ]
  },
  {
   "cell_type": "code",
   "execution_count": 66,
   "id": "612ee014",
   "metadata": {},
   "outputs": [],
   "source": [
    "bsmt_df['BsmtFin SF 2'] = bsmt_df['BsmtFin SF 2'].fillna(0)"
   ]
  },
  {
   "cell_type": "code",
   "execution_count": 67,
   "id": "845ea028",
   "metadata": {},
   "outputs": [
    {
     "data": {
      "text/plain": [
       "0"
      ]
     },
     "execution_count": 67,
     "metadata": {},
     "output_type": "execute_result"
    }
   ],
   "source": [
    "bsmt_df['BsmtFin SF 2'].isnull().sum()"
   ]
  },
  {
   "cell_type": "markdown",
   "id": "715350d0",
   "metadata": {},
   "source": [
    "###### 8. Bsmt Unf SF"
   ]
  },
  {
   "cell_type": "code",
   "execution_count": 68,
   "id": "bd548ae5",
   "metadata": {},
   "outputs": [
    {
     "data": {
      "text/plain": [
       "array([1020, 1967,  100,  968,  785,  252,  869, 1072,  840,  276,  939,\n",
       "       1040, 1367,  348,  848,    0,  294,  816,  400,  700,  204,  598,\n",
       "       1218,  474,  715,  636,  173,  226,  536,  628, 1240,   92, 1468,\n",
       "        608,  863,  105, 1339,  612,  930,  658,  178,  552,  546,  434,\n",
       "        187,  448,  216,  588,  346, 1615,  803,  248,  115,  697,  193,\n",
       "        540,  257,  322,   95,  242,  374,  262,  244,  272,  151,  600,\n",
       "        278,  384,  543, 1152,  397, 1459,  321,  371,  166,  154, 2042,\n",
       "        396,  270, 1686,  744,  411,  560,  827,  461,  422,  639, 1530,\n",
       "        355,  167,  306,  998,  218,  467,  357,  179,  491, 1921, 1128,\n",
       "        590, 1058, 1140,   39,  360,  630,  616,  324,  394, 1085,  523,\n",
       "        795,  165,  504,  365,  497,  513,  136,  194,  850, 1369, 1114,\n",
       "        436,  220,  756, 1632,  960, 1048,  311,  592, 1619,  860,  901,\n",
       "        768,  196,   63, 1055,  484,  416,  108,  342, 1451,  300, 1129,\n",
       "        172, 1421,  712,  312,  691, 1466,  503,  894,  280,   36,  738,\n",
       "       1064,  356,  130,  634,   28,  638,   30,  375,  783,  533, 1629,\n",
       "       1226,  456,  406,  483,  297, 1346,   52,  459,  725,   80,  439,\n",
       "        229,  651,   46,  466,  241,  380,  684,  618,  720,  982,  480,\n",
       "       1264,  545,  661,  224,  140,   99,  844, 1352, 1079, 1028, 1181,\n",
       "       1150, 2002, 1643,  318,  160, 1869,  544,  912,  387,  381,  576,\n",
       "        438,  605,  585,  192,  316,  594,  868,  780,  392,  227,  288,\n",
       "        168,  770,  596,  138,  329,  189,  289,  124,  893,  516,  762,\n",
       "        378,  449,  174,  784,  405,  728,  200,  254,  403,  495, 1084,\n",
       "        420,  897,  672,  718,  103, 1286,  408,  722,  482, 1052,  284,\n",
       "       1008,  975,  524,  808, 1544,  117,  132, 1126,  704, 1866,  332,\n",
       "        708,   44,  451,  441,  624,  925,  746,   48,  801,  457,  299,\n",
       "        261,  821,   64,  285,  851,  440,  710,  741,  871,  412,  793,\n",
       "        238,  689, 1584, 1234,  413,  906, 1248,  764,  358, 1652,  221,\n",
       "        410,  104,  632, 1108,  273,  197,  290,  595,  225,  650,  455,\n",
       "       1330,   88,  469,  731, 1709,  409,  188,  120,  458,  512,  739,\n",
       "        398,  141,  935,  666,  554, 1541,  570,  266,  150,   98,  567,\n",
       "        572,  625,  846, 1158, 1368,  304,  530, 1392,  519,  113,  723,\n",
       "        577,  660,  952,  471,  119,   90,  210,  148,  989,  999,  847,\n",
       "        649, 1257, 1594,  107, 1568,  525, 1288,  964,   77,  277,  537,\n",
       "        186,  183,  487,  994, 1498, 1100,  177, 1375,  884,   29,  615,\n",
       "        742,   56,  899,  260,  556,  264, 1088,  363,  407,  510,  569,\n",
       "       1622,  927,  686,  176,  702,  698, 1198,  472, 1337,  506,  864,\n",
       "        121,  386,  133, 1173, 1417,  498,  648,  251,  137, 1726,  832,\n",
       "       1344,  301,  437,  555,  602,  404,  892,  641, 1640,  240,  599,\n",
       "        479,  659,  578,  966,  944,  201,   84,  286, 1176,  110,  453,\n",
       "       1316,  170,  134,  508,  676, 1065,  243, 1131,  657,  804,  970,\n",
       "       1444,   54, 1571, 1284,  841,  237,  418,  993,   14,  325,  339,\n",
       "        223,  427, 1105, 1439,  430, 1308,  470, 1376,  158,  849,  575,\n",
       "        476,  212,  817,  778,  941, 1550,  494,  792,  256, 1012,  372,\n",
       "        644,  315, 1045,  490, 1005, 1588,  736,   60,  230,   72,  907,\n",
       "        245,  161,  929, 1053,  390,  399,  856,  564,  938, 1618,  364,\n",
       "        936, 1068,  833,  370,  825,   93,  350, 1696,  563,  431,  740,\n",
       "        123, 1300,  135,  291, 1046,  460,  611,  255, 1424,  340, 1625,\n",
       "        796,  336, 1390,  319,   83,  195,  668,   40,  656, 1502,   22,\n",
       "       1035,  279,  949,  265,  169,  313,  234,  228, 1372,   91,  345,\n",
       "        535, 1328,  534,  818,  462, 1318,  591,   74,   96,  385,   78,\n",
       "        338,  450, 1163, 1077,  208,  622, 1491,  180, 1216,  812, 2046,\n",
       "        529], dtype=int64)"
      ]
     },
     "execution_count": 68,
     "metadata": {},
     "output_type": "execute_result"
    }
   ],
   "source": [
    "bsmt_df['Bsmt Unf SF'].unique()"
   ]
  },
  {
   "cell_type": "code",
   "execution_count": 69,
   "id": "84efea87",
   "metadata": {},
   "outputs": [],
   "source": [
    "bsmt_df['Bsmt Unf SF'] = bsmt_df['Bsmt Unf SF'].fillna(0)"
   ]
  },
  {
   "cell_type": "code",
   "execution_count": 70,
   "id": "e4ff82ac",
   "metadata": {},
   "outputs": [
    {
     "data": {
      "text/plain": [
       "0"
      ]
     },
     "execution_count": 70,
     "metadata": {},
     "output_type": "execute_result"
    }
   ],
   "source": [
    "bsmt_df['Bsmt Unf SF'].isnull().sum()"
   ]
  },
  {
   "cell_type": "markdown",
   "id": "ff523dac",
   "metadata": {},
   "source": [
    "###### 9. Total Bsmt SF"
   ]
  },
  {
   "cell_type": "code",
   "execution_count": 71,
   "id": "9d894e69",
   "metadata": {
    "scrolled": true
   },
   "outputs": [
    {
     "data": {
      "text/plain": [
       "array([1020, 1967,  654,  968, 1394,  546,  869, 1268,  840, 1196, 1217,\n",
       "       1040, 1367, 1168,  848,    0,  884, 1073, 1313,  916, 1060,  864,\n",
       "       1604,  938, 1218,  715,  636,  936,  370,  858,  780, 1240, 1176,\n",
       "       1492,  608, 1147,  105, 1339,  612,  930, 1063, 1008, 1501,  920,\n",
       "        828,  912,  346, 1615,  803,  468, 1026, 1024,  992, 1982, 1300,\n",
       "       1158,  825,  761, 2024, 1302,  544,  600, 1508, 1560,  384, 1043,\n",
       "       1680, 1135, 1780, 1459,  629,  687,  676,  616, 2042,  876, 1232,\n",
       "       1686,  999,  560,  827, 1228,  728, 1509, 1554,  810, 1694,  998,\n",
       "       2535, 1244,  686,  697, 1224, 1921, 1832, 1434, 1058, 1140, 1482,\n",
       "       1930,  360,  630, 1720,  926, 1966, 1085, 1714,  794,  795, 1414,\n",
       "        565, 1530, 1015,  943,  720, 1080,  744, 1528, 1369, 1114,  816,\n",
       "       1161, 1078,  756, 1632,  960, 1048,  689,  592, 1740,  860,  988,\n",
       "        901,  768, 1098, 1104, 1055, 1478, 1056, 2630, 1451, 1563, 1145,\n",
       "       1445, 2396,  990, 1776,  712,  691, 1949, 1242,  894,  832, 1192,\n",
       "        738, 1064,  782, 1108,  980,  945,  783,  888,  955,  533,  301,\n",
       "       1629, 1226,  483,  855,  621, 1370,  923,  949, 2136, 1557,  836,\n",
       "       1865,  651,  684,  856, 1128,  982, 1273, 1264, 1580,  709, 1360,\n",
       "        844, 2077, 1352, 1079, 1284, 1181, 1150, 2002, 1643,  882, 1869,\n",
       "       1573,  940, 1392,  576, 1848,  585,  672, 1094,  868, 1314,  740,\n",
       "       1248,  547, 1214,  770,  596,  893,  974,  735,  973,  952,  784,\n",
       "       1144, 1188, 1070, 1432,  979, 1884, 1100, 1006, 1499, 1286, 1152,\n",
       "       1338, 1578, 1052, 1856, 1664,  975,  861, 1544,  958, 1142,  976,\n",
       "        704, 1866,  928, 1235,  451,  793,  624,  925, 1082, 1160,  801,\n",
       "        804, 1390,  821,  788, 1660,  967,  710,  741, 1431, 1107,  806,\n",
       "       1396, 1584, 1234, 1572, 1430, 1162,  764, 1540,  814, 1732, 1594,\n",
       "       1049, 1774,  915, 1182,  954,  798,  525, 1726,  650,  910, 1330,\n",
       "        802,  559, 1782,  731, 1709, 1075, 1027,  941,  907, 1220, 1225,\n",
       "       1216, 1134, 1288,  666,  554, 1541, 2006,  852, 1626, 1062,  845,\n",
       "        846, 1368,  708,  530,  996, 1208, 1437,  723,  765, 1379, 1702,\n",
       "       1358,  972, 1417,  908,  561,  660, 2444,  847, 1449, 1257, 1614,\n",
       "        707,  700, 1568, 1316,  964,  965, 1136, 1211,  994, 1498, 1175,\n",
       "       1375, 1212, 1014,  742,  392,  835, 1199, 1836,  853,  264, 1088,\n",
       "        407, 1292,  569, 1622,  927, 1415, 1934, 1036,  702,  416,  698,\n",
       "       1103, 1222, 1022, 1337, 1010,  807, 1582, 1173, 1013, 1038,  648,\n",
       "        950,  625, 1200, 1141, 1069, 1344,  870, 1395, 1258,  671,  440,\n",
       "        892, 1700, 1130, 1261, 1109, 1838,  240,  796,  883,  752,  572,\n",
       "       1790,  966,  944, 1356, 1466, 1418, 1340, 1090,  890, 1065, 2208,\n",
       "       1131, 1032,  970, 1444, 1620, 1468, 1571,  641,  696,  841,  833,\n",
       "        993, 1054,  663, 1223, 1362, 1105, 1850, 1308, 2000, 1363, 1376,\n",
       "       1086,  817, 1779, 1124, 1574, 1408, 1910, 1112,  792, 1012, 1453,\n",
       "       1153, 1524, 1657, 1132, 2110, 1029, 1005, 1698, 1553,  736, 1096,\n",
       "       1210,  929, 1436, 1053,  985, 1441, 1386, 1618,  570, 1068, 1617,\n",
       "        904, 1059, 1206, 1494,  680,  878,  818, 1868, 1696, 1127, 2552,\n",
       "        356,  734, 1324,  902, 1051, 1477, 1728, 1169, 1117, 1205, 1625,\n",
       "       1296,  747, 1383,  516, 1654, 1298, 1231, 1422, 1057, 1004, 1502,\n",
       "        984, 1035,  644, 1290, 1350, 1372, 1310, 1388, 1156, 2036, 1118,\n",
       "       1822, 1342, 1091, 1814,  971, 1165, 1332,  635, 1295, 1947,  900,\n",
       "        995, 1204, 1163, 1896, 1491, 1190, 1624, 2046, 1084], dtype=int64)"
      ]
     },
     "execution_count": 71,
     "metadata": {},
     "output_type": "execute_result"
    }
   ],
   "source": [
    "bsmt_df['Total Bsmt SF'].unique()"
   ]
  },
  {
   "cell_type": "code",
   "execution_count": 72,
   "id": "7d2c882b",
   "metadata": {},
   "outputs": [],
   "source": [
    "bsmt_df['Total Bsmt SF'] = bsmt_df['Total Bsmt SF'].fillna(0)"
   ]
  },
  {
   "cell_type": "code",
   "execution_count": 73,
   "id": "f5a21041",
   "metadata": {},
   "outputs": [
    {
     "data": {
      "text/plain": [
       "0"
      ]
     },
     "execution_count": 73,
     "metadata": {},
     "output_type": "execute_result"
    }
   ],
   "source": [
    "bsmt_df['Total Bsmt SF'].isnull().sum()"
   ]
  },
  {
   "cell_type": "markdown",
   "id": "53501cf2",
   "metadata": {},
   "source": [
    "###### 10. Bsmt Full Bath"
   ]
  },
  {
   "cell_type": "code",
   "execution_count": 74,
   "id": "2824559b",
   "metadata": {},
   "outputs": [
    {
     "data": {
      "text/plain": [
       "array([0, 1, 2], dtype=int64)"
      ]
     },
     "execution_count": 74,
     "metadata": {},
     "output_type": "execute_result"
    }
   ],
   "source": [
    "bsmt_df['Bsmt Full Bath'].unique()"
   ]
  },
  {
   "cell_type": "markdown",
   "id": "7be92ba8",
   "metadata": {},
   "source": [
    "Bsmt Full Bath column is on a scale, hence the value given will be -1 so as not to mix up with 0 where the feature actually exists. <br>"
   ]
  },
  {
   "cell_type": "code",
   "execution_count": 75,
   "id": "d9b1e538",
   "metadata": {},
   "outputs": [],
   "source": [
    "bsmt_df['Bsmt Full Bath'] = bsmt_df['Bsmt Full Bath'].fillna(-1)"
   ]
  },
  {
   "cell_type": "code",
   "execution_count": 76,
   "id": "1656193a",
   "metadata": {},
   "outputs": [
    {
     "data": {
      "text/plain": [
       "0"
      ]
     },
     "execution_count": 76,
     "metadata": {},
     "output_type": "execute_result"
    }
   ],
   "source": [
    "bsmt_df['Bsmt Full Bath'].isnull().sum()"
   ]
  },
  {
   "cell_type": "markdown",
   "id": "b0129767",
   "metadata": {},
   "source": [
    "###### 11. Bsmt Half Bath"
   ]
  },
  {
   "cell_type": "code",
   "execution_count": 77,
   "id": "677fd0b5",
   "metadata": {},
   "outputs": [
    {
     "data": {
      "text/plain": [
       "array([0, 1], dtype=int64)"
      ]
     },
     "execution_count": 77,
     "metadata": {},
     "output_type": "execute_result"
    }
   ],
   "source": [
    "bsmt_df['Bsmt Half Bath'].unique()"
   ]
  },
  {
   "cell_type": "markdown",
   "id": "416449d1",
   "metadata": {},
   "source": [
    "Bsmt Half Bath column is on a scale, hence the value given will be -1 so as not to mix up with 0 where the feature actually exists. <br>"
   ]
  },
  {
   "cell_type": "code",
   "execution_count": 78,
   "id": "af87858b",
   "metadata": {},
   "outputs": [],
   "source": [
    "bsmt_df['Bsmt Half Bath'] = bsmt_df['Bsmt Half Bath'].fillna(-1)"
   ]
  },
  {
   "cell_type": "code",
   "execution_count": 79,
   "id": "3d34d6a3",
   "metadata": {},
   "outputs": [
    {
     "data": {
      "text/plain": [
       "0"
      ]
     },
     "execution_count": 79,
     "metadata": {},
     "output_type": "execute_result"
    }
   ],
   "source": [
    "bsmt_df['Bsmt Half Bath'].isnull().sum()"
   ]
  },
  {
   "cell_type": "markdown",
   "id": "86762425",
   "metadata": {},
   "source": [
    "##### Checking bsmt_df"
   ]
  },
  {
   "cell_type": "code",
   "execution_count": 80,
   "id": "fb59968c",
   "metadata": {},
   "outputs": [
    {
     "data": {
      "text/plain": [
       "Bsmt Qual         0\n",
       "Bsmt Cond         0\n",
       "Bsmt Exposure     0\n",
       "BsmtFin Type 1    0\n",
       "BsmtFin SF 1      0\n",
       "BsmtFin Type 2    0\n",
       "BsmtFin SF 2      0\n",
       "Bsmt Unf SF       0\n",
       "Total Bsmt SF     0\n",
       "Bsmt Full Bath    0\n",
       "Bsmt Half Bath    0\n",
       "dtype: int64"
      ]
     },
     "execution_count": 80,
     "metadata": {},
     "output_type": "execute_result"
    }
   ],
   "source": [
    "bsmt_df.isnull().sum()"
   ]
  },
  {
   "cell_type": "code",
   "execution_count": 81,
   "id": "96f07143",
   "metadata": {},
   "outputs": [
    {
     "data": {
      "text/plain": [
       "(878, 11)"
      ]
     },
     "execution_count": 81,
     "metadata": {},
     "output_type": "execute_result"
    }
   ],
   "source": [
    "bsmt_df.shape"
   ]
  },
  {
   "cell_type": "markdown",
   "id": "d362852c",
   "metadata": {},
   "source": [
    "There are no more null values for Bsmt data, and the shape and index remained unchanged."
   ]
  },
  {
   "cell_type": "markdown",
   "id": "c34803f2",
   "metadata": {},
   "source": [
    "### Dropping and merging new non-null dataframe into traindata dataframe"
   ]
  },
  {
   "cell_type": "code",
   "execution_count": 82,
   "id": "741cc040",
   "metadata": {},
   "outputs": [],
   "source": [
    "traindata = traindata.drop(columns=['Bsmt Qual', 'Bsmt Cond', 'Bsmt Exposure', 'BsmtFin Type 1',\n",
    "       'BsmtFin SF 1', 'BsmtFin Type 2', 'BsmtFin SF 2', 'Bsmt Unf SF',\n",
    "       'Total Bsmt SF', 'Bsmt Full Bath', 'Bsmt Half Bath'])"
   ]
  },
  {
   "cell_type": "code",
   "execution_count": 83,
   "id": "ae395d14",
   "metadata": {},
   "outputs": [],
   "source": [
    "traindata = traindata.merge(bsmt_df, left_index = True, right_index = True)"
   ]
  },
  {
   "cell_type": "code",
   "execution_count": 84,
   "id": "49db4881",
   "metadata": {},
   "outputs": [
    {
     "data": {
      "text/plain": [
       "(878, 80)"
      ]
     },
     "execution_count": 84,
     "metadata": {},
     "output_type": "execute_result"
    }
   ],
   "source": [
    "traindata.shape"
   ]
  },
  {
   "cell_type": "code",
   "execution_count": 85,
   "id": "a6a87cb7",
   "metadata": {},
   "outputs": [
    {
     "data": {
      "text/html": [
       "<div>\n",
       "<style scoped>\n",
       "    .dataframe tbody tr th:only-of-type {\n",
       "        vertical-align: middle;\n",
       "    }\n",
       "\n",
       "    .dataframe tbody tr th {\n",
       "        vertical-align: top;\n",
       "    }\n",
       "\n",
       "    .dataframe thead th {\n",
       "        text-align: right;\n",
       "    }\n",
       "</style>\n",
       "<table border=\"1\" class=\"dataframe\">\n",
       "  <thead>\n",
       "    <tr style=\"text-align: right;\">\n",
       "      <th></th>\n",
       "      <th>Id</th>\n",
       "      <th>PID</th>\n",
       "      <th>MS SubClass</th>\n",
       "      <th>MS Zoning</th>\n",
       "      <th>Lot Frontage</th>\n",
       "      <th>Lot Area</th>\n",
       "      <th>Street</th>\n",
       "      <th>Alley</th>\n",
       "      <th>Lot Shape</th>\n",
       "      <th>Land Contour</th>\n",
       "      <th>...</th>\n",
       "      <th>Bsmt Cond</th>\n",
       "      <th>Bsmt Exposure</th>\n",
       "      <th>BsmtFin Type 1</th>\n",
       "      <th>BsmtFin SF 1</th>\n",
       "      <th>BsmtFin Type 2</th>\n",
       "      <th>BsmtFin SF 2</th>\n",
       "      <th>Bsmt Unf SF</th>\n",
       "      <th>Total Bsmt SF</th>\n",
       "      <th>Bsmt Full Bath</th>\n",
       "      <th>Bsmt Half Bath</th>\n",
       "    </tr>\n",
       "  </thead>\n",
       "  <tbody>\n",
       "    <tr>\n",
       "      <th>0</th>\n",
       "      <td>2658</td>\n",
       "      <td>902301120</td>\n",
       "      <td>190</td>\n",
       "      <td>RM</td>\n",
       "      <td>69.0</td>\n",
       "      <td>9142</td>\n",
       "      <td>Pave</td>\n",
       "      <td>Grvl</td>\n",
       "      <td>Reg</td>\n",
       "      <td>Lvl</td>\n",
       "      <td>...</td>\n",
       "      <td>TA</td>\n",
       "      <td>No</td>\n",
       "      <td>Unf</td>\n",
       "      <td>0</td>\n",
       "      <td>Unf</td>\n",
       "      <td>0</td>\n",
       "      <td>1020</td>\n",
       "      <td>1020</td>\n",
       "      <td>0</td>\n",
       "      <td>0</td>\n",
       "    </tr>\n",
       "    <tr>\n",
       "      <th>1</th>\n",
       "      <td>2718</td>\n",
       "      <td>905108090</td>\n",
       "      <td>90</td>\n",
       "      <td>RL</td>\n",
       "      <td>0.0</td>\n",
       "      <td>9662</td>\n",
       "      <td>Pave</td>\n",
       "      <td>NA</td>\n",
       "      <td>IR1</td>\n",
       "      <td>Lvl</td>\n",
       "      <td>...</td>\n",
       "      <td>TA</td>\n",
       "      <td>No</td>\n",
       "      <td>Unf</td>\n",
       "      <td>0</td>\n",
       "      <td>Unf</td>\n",
       "      <td>0</td>\n",
       "      <td>1967</td>\n",
       "      <td>1967</td>\n",
       "      <td>0</td>\n",
       "      <td>0</td>\n",
       "    </tr>\n",
       "    <tr>\n",
       "      <th>2</th>\n",
       "      <td>2414</td>\n",
       "      <td>528218130</td>\n",
       "      <td>60</td>\n",
       "      <td>RL</td>\n",
       "      <td>58.0</td>\n",
       "      <td>17104</td>\n",
       "      <td>Pave</td>\n",
       "      <td>NA</td>\n",
       "      <td>IR1</td>\n",
       "      <td>Lvl</td>\n",
       "      <td>...</td>\n",
       "      <td>Gd</td>\n",
       "      <td>Av</td>\n",
       "      <td>GLQ</td>\n",
       "      <td>554</td>\n",
       "      <td>Unf</td>\n",
       "      <td>0</td>\n",
       "      <td>100</td>\n",
       "      <td>654</td>\n",
       "      <td>1</td>\n",
       "      <td>0</td>\n",
       "    </tr>\n",
       "  </tbody>\n",
       "</table>\n",
       "<p>3 rows × 80 columns</p>\n",
       "</div>"
      ],
      "text/plain": [
       "     Id        PID  MS SubClass MS Zoning  Lot Frontage  Lot Area Street  \\\n",
       "0  2658  902301120          190        RM          69.0      9142   Pave   \n",
       "1  2718  905108090           90        RL           0.0      9662   Pave   \n",
       "2  2414  528218130           60        RL          58.0     17104   Pave   \n",
       "\n",
       "  Alley Lot Shape Land Contour  ... Bsmt Cond Bsmt Exposure BsmtFin Type 1  \\\n",
       "0  Grvl       Reg          Lvl  ...        TA            No            Unf   \n",
       "1    NA       IR1          Lvl  ...        TA            No            Unf   \n",
       "2    NA       IR1          Lvl  ...        Gd            Av            GLQ   \n",
       "\n",
       "  BsmtFin SF 1 BsmtFin Type 2 BsmtFin SF 2 Bsmt Unf SF Total Bsmt SF  \\\n",
       "0            0            Unf            0        1020          1020   \n",
       "1            0            Unf            0        1967          1967   \n",
       "2          554            Unf            0         100           654   \n",
       "\n",
       "   Bsmt Full Bath  Bsmt Half Bath  \n",
       "0               0               0  \n",
       "1               0               0  \n",
       "2               1               0  \n",
       "\n",
       "[3 rows x 80 columns]"
      ]
     },
     "execution_count": 85,
     "metadata": {},
     "output_type": "execute_result"
    }
   ],
   "source": [
    "traindata.head(3)"
   ]
  },
  {
   "cell_type": "markdown",
   "id": "65460e00",
   "metadata": {},
   "source": [
    "## 5. Fireplace Qu"
   ]
  },
  {
   "cell_type": "code",
   "execution_count": 86,
   "id": "ff63f3bf",
   "metadata": {},
   "outputs": [
    {
     "data": {
      "text/plain": [
       "array([nan, 'Gd', 'Fa', 'TA', 'Po', 'Ex'], dtype=object)"
      ]
     },
     "execution_count": 86,
     "metadata": {},
     "output_type": "execute_result"
    }
   ],
   "source": [
    "traindata['Fireplace Qu'].unique()"
   ]
  },
  {
   "cell_type": "markdown",
   "id": "c3f9a023",
   "metadata": {},
   "source": [
    "Replacing 'Fireplace Qu' with 'NA' since this feature does not exist."
   ]
  },
  {
   "cell_type": "code",
   "execution_count": 87,
   "id": "7c5e612e",
   "metadata": {},
   "outputs": [],
   "source": [
    "traindata['Fireplace Qu'] = traindata['Fireplace Qu'].fillna('NA')"
   ]
  },
  {
   "cell_type": "code",
   "execution_count": 88,
   "id": "304ab1af",
   "metadata": {},
   "outputs": [
    {
     "data": {
      "text/plain": [
       "0"
      ]
     },
     "execution_count": 88,
     "metadata": {},
     "output_type": "execute_result"
    }
   ],
   "source": [
    "traindata['Fireplace Qu'].isnull().sum()"
   ]
  },
  {
   "cell_type": "markdown",
   "id": "9945ccb2",
   "metadata": {},
   "source": [
    "## 6. Garage and its sub categories"
   ]
  },
  {
   "cell_type": "code",
   "execution_count": 89,
   "id": "5306282e",
   "metadata": {},
   "outputs": [
    {
     "data": {
      "text/html": [
       "<div>\n",
       "<style scoped>\n",
       "    .dataframe tbody tr th:only-of-type {\n",
       "        vertical-align: middle;\n",
       "    }\n",
       "\n",
       "    .dataframe tbody tr th {\n",
       "        vertical-align: top;\n",
       "    }\n",
       "\n",
       "    .dataframe thead th {\n",
       "        text-align: right;\n",
       "    }\n",
       "</style>\n",
       "<table border=\"1\" class=\"dataframe\">\n",
       "  <thead>\n",
       "    <tr style=\"text-align: right;\">\n",
       "      <th></th>\n",
       "      <th>Garage Type</th>\n",
       "      <th>Garage Yr Blt</th>\n",
       "      <th>Garage Finish</th>\n",
       "      <th>Garage Cars</th>\n",
       "      <th>Garage Area</th>\n",
       "      <th>Garage Qual</th>\n",
       "      <th>Garage Cond</th>\n",
       "    </tr>\n",
       "  </thead>\n",
       "  <tbody>\n",
       "    <tr>\n",
       "      <th>0</th>\n",
       "      <td>Detchd</td>\n",
       "      <td>1910.0</td>\n",
       "      <td>Unf</td>\n",
       "      <td>1</td>\n",
       "      <td>440</td>\n",
       "      <td>Po</td>\n",
       "      <td>Po</td>\n",
       "    </tr>\n",
       "    <tr>\n",
       "      <th>1</th>\n",
       "      <td>Attchd</td>\n",
       "      <td>1977.0</td>\n",
       "      <td>Fin</td>\n",
       "      <td>2</td>\n",
       "      <td>580</td>\n",
       "      <td>TA</td>\n",
       "      <td>TA</td>\n",
       "    </tr>\n",
       "    <tr>\n",
       "      <th>2</th>\n",
       "      <td>Attchd</td>\n",
       "      <td>2006.0</td>\n",
       "      <td>RFn</td>\n",
       "      <td>2</td>\n",
       "      <td>426</td>\n",
       "      <td>TA</td>\n",
       "      <td>TA</td>\n",
       "    </tr>\n",
       "  </tbody>\n",
       "</table>\n",
       "</div>"
      ],
      "text/plain": [
       "  Garage Type  Garage Yr Blt Garage Finish  Garage Cars  Garage Area  \\\n",
       "0      Detchd         1910.0           Unf            1          440   \n",
       "1      Attchd         1977.0           Fin            2          580   \n",
       "2      Attchd         2006.0           RFn            2          426   \n",
       "\n",
       "  Garage Qual Garage Cond  \n",
       "0          Po          Po  \n",
       "1          TA          TA  \n",
       "2          TA          TA  "
      ]
     },
     "execution_count": 89,
     "metadata": {},
     "output_type": "execute_result"
    }
   ],
   "source": [
    "garage_df = traindata.filter(regex=(\"Garage\"))\n",
    "garage_df.head(3)"
   ]
  },
  {
   "cell_type": "code",
   "execution_count": 90,
   "id": "3ed391b6",
   "metadata": {},
   "outputs": [
    {
     "data": {
      "text/plain": [
       "Index(['Garage Type', 'Garage Yr Blt', 'Garage Finish', 'Garage Cars',\n",
       "       'Garage Area', 'Garage Qual', 'Garage Cond'],\n",
       "      dtype='object')"
      ]
     },
     "execution_count": 90,
     "metadata": {},
     "output_type": "execute_result"
    }
   ],
   "source": [
    "garage_df.columns"
   ]
  },
  {
   "cell_type": "code",
   "execution_count": 91,
   "id": "ce77c4a1",
   "metadata": {},
   "outputs": [
    {
     "name": "stdout",
     "output_type": "stream",
     "text": [
      "<class 'pandas.core.frame.DataFrame'>\n",
      "RangeIndex: 878 entries, 0 to 877\n",
      "Data columns (total 7 columns):\n",
      " #   Column         Non-Null Count  Dtype  \n",
      "---  ------         --------------  -----  \n",
      " 0   Garage Type    834 non-null    object \n",
      " 1   Garage Yr Blt  833 non-null    float64\n",
      " 2   Garage Finish  833 non-null    object \n",
      " 3   Garage Cars    878 non-null    int64  \n",
      " 4   Garage Area    878 non-null    int64  \n",
      " 5   Garage Qual    833 non-null    object \n",
      " 6   Garage Cond    833 non-null    object \n",
      "dtypes: float64(1), int64(2), object(4)\n",
      "memory usage: 48.1+ KB\n"
     ]
    }
   ],
   "source": [
    "garage_df.info()"
   ]
  },
  {
   "cell_type": "code",
   "execution_count": 92,
   "id": "8ccc858a",
   "metadata": {},
   "outputs": [
    {
     "data": {
      "text/plain": [
       "Garage Type      44\n",
       "Garage Yr Blt    45\n",
       "Garage Finish    45\n",
       "Garage Cars       0\n",
       "Garage Area       0\n",
       "Garage Qual      45\n",
       "Garage Cond      45\n",
       "dtype: int64"
      ]
     },
     "execution_count": 92,
     "metadata": {},
     "output_type": "execute_result"
    }
   ],
   "source": [
    "garage_df.isnull().sum()"
   ]
  },
  {
   "cell_type": "code",
   "execution_count": 93,
   "id": "8163be32",
   "metadata": {},
   "outputs": [
    {
     "data": {
      "text/html": [
       "<div>\n",
       "<style scoped>\n",
       "    .dataframe tbody tr th:only-of-type {\n",
       "        vertical-align: middle;\n",
       "    }\n",
       "\n",
       "    .dataframe tbody tr th {\n",
       "        vertical-align: top;\n",
       "    }\n",
       "\n",
       "    .dataframe thead th {\n",
       "        text-align: right;\n",
       "    }\n",
       "</style>\n",
       "<table border=\"1\" class=\"dataframe\">\n",
       "  <thead>\n",
       "    <tr style=\"text-align: right;\">\n",
       "      <th></th>\n",
       "      <th>Garage Yr Blt</th>\n",
       "      <th>Garage Cars</th>\n",
       "      <th>Garage Area</th>\n",
       "    </tr>\n",
       "  </thead>\n",
       "  <tbody>\n",
       "    <tr>\n",
       "      <th>count</th>\n",
       "      <td>833.000000</td>\n",
       "      <td>878.000000</td>\n",
       "      <td>878.000000</td>\n",
       "    </tr>\n",
       "    <tr>\n",
       "      <th>mean</th>\n",
       "      <td>1976.759904</td>\n",
       "      <td>1.742597</td>\n",
       "      <td>470.362187</td>\n",
       "    </tr>\n",
       "    <tr>\n",
       "      <th>std</th>\n",
       "      <td>25.689763</td>\n",
       "      <td>0.750391</td>\n",
       "      <td>212.734075</td>\n",
       "    </tr>\n",
       "    <tr>\n",
       "      <th>min</th>\n",
       "      <td>1900.000000</td>\n",
       "      <td>0.000000</td>\n",
       "      <td>0.000000</td>\n",
       "    </tr>\n",
       "    <tr>\n",
       "      <th>25%</th>\n",
       "      <td>1960.000000</td>\n",
       "      <td>1.000000</td>\n",
       "      <td>322.500000</td>\n",
       "    </tr>\n",
       "    <tr>\n",
       "      <th>50%</th>\n",
       "      <td>1978.000000</td>\n",
       "      <td>2.000000</td>\n",
       "      <td>473.000000</td>\n",
       "    </tr>\n",
       "    <tr>\n",
       "      <th>75%</th>\n",
       "      <td>2001.000000</td>\n",
       "      <td>2.000000</td>\n",
       "      <td>576.000000</td>\n",
       "    </tr>\n",
       "    <tr>\n",
       "      <th>max</th>\n",
       "      <td>2010.000000</td>\n",
       "      <td>4.000000</td>\n",
       "      <td>1488.000000</td>\n",
       "    </tr>\n",
       "  </tbody>\n",
       "</table>\n",
       "</div>"
      ],
      "text/plain": [
       "       Garage Yr Blt  Garage Cars  Garage Area\n",
       "count     833.000000   878.000000   878.000000\n",
       "mean     1976.759904     1.742597   470.362187\n",
       "std        25.689763     0.750391   212.734075\n",
       "min      1900.000000     0.000000     0.000000\n",
       "25%      1960.000000     1.000000   322.500000\n",
       "50%      1978.000000     2.000000   473.000000\n",
       "75%      2001.000000     2.000000   576.000000\n",
       "max      2010.000000     4.000000  1488.000000"
      ]
     },
     "execution_count": 93,
     "metadata": {},
     "output_type": "execute_result"
    }
   ],
   "source": [
    "garage_df.describe()"
   ]
  },
  {
   "cell_type": "markdown",
   "id": "9424fc34",
   "metadata": {},
   "source": [
    "Garage Area has a <b>minimum</b> value of 0.00 likely signifying these properties with 0 area has no garage. <br>"
   ]
  },
  {
   "cell_type": "code",
   "execution_count": 94,
   "id": "b865c2f2",
   "metadata": {},
   "outputs": [],
   "source": [
    "garage_0 = garage_df[garage_df['Garage Area'] == 0]"
   ]
  },
  {
   "cell_type": "code",
   "execution_count": 95,
   "id": "16b65471",
   "metadata": {},
   "outputs": [
    {
     "data": {
      "text/html": [
       "<div>\n",
       "<style scoped>\n",
       "    .dataframe tbody tr th:only-of-type {\n",
       "        vertical-align: middle;\n",
       "    }\n",
       "\n",
       "    .dataframe tbody tr th {\n",
       "        vertical-align: top;\n",
       "    }\n",
       "\n",
       "    .dataframe thead th {\n",
       "        text-align: right;\n",
       "    }\n",
       "</style>\n",
       "<table border=\"1\" class=\"dataframe\">\n",
       "  <thead>\n",
       "    <tr style=\"text-align: right;\">\n",
       "      <th></th>\n",
       "      <th>Garage Yr Blt</th>\n",
       "      <th>Garage Cars</th>\n",
       "      <th>Garage Area</th>\n",
       "    </tr>\n",
       "  </thead>\n",
       "  <tbody>\n",
       "    <tr>\n",
       "      <th>count</th>\n",
       "      <td>0.0</td>\n",
       "      <td>44.0</td>\n",
       "      <td>44.0</td>\n",
       "    </tr>\n",
       "    <tr>\n",
       "      <th>mean</th>\n",
       "      <td>NaN</td>\n",
       "      <td>0.0</td>\n",
       "      <td>0.0</td>\n",
       "    </tr>\n",
       "    <tr>\n",
       "      <th>std</th>\n",
       "      <td>NaN</td>\n",
       "      <td>0.0</td>\n",
       "      <td>0.0</td>\n",
       "    </tr>\n",
       "    <tr>\n",
       "      <th>min</th>\n",
       "      <td>NaN</td>\n",
       "      <td>0.0</td>\n",
       "      <td>0.0</td>\n",
       "    </tr>\n",
       "    <tr>\n",
       "      <th>25%</th>\n",
       "      <td>NaN</td>\n",
       "      <td>0.0</td>\n",
       "      <td>0.0</td>\n",
       "    </tr>\n",
       "    <tr>\n",
       "      <th>50%</th>\n",
       "      <td>NaN</td>\n",
       "      <td>0.0</td>\n",
       "      <td>0.0</td>\n",
       "    </tr>\n",
       "    <tr>\n",
       "      <th>75%</th>\n",
       "      <td>NaN</td>\n",
       "      <td>0.0</td>\n",
       "      <td>0.0</td>\n",
       "    </tr>\n",
       "    <tr>\n",
       "      <th>max</th>\n",
       "      <td>NaN</td>\n",
       "      <td>0.0</td>\n",
       "      <td>0.0</td>\n",
       "    </tr>\n",
       "  </tbody>\n",
       "</table>\n",
       "</div>"
      ],
      "text/plain": [
       "       Garage Yr Blt  Garage Cars  Garage Area\n",
       "count            0.0         44.0         44.0\n",
       "mean             NaN          0.0          0.0\n",
       "std              NaN          0.0          0.0\n",
       "min              NaN          0.0          0.0\n",
       "25%              NaN          0.0          0.0\n",
       "50%              NaN          0.0          0.0\n",
       "75%              NaN          0.0          0.0\n",
       "max              NaN          0.0          0.0"
      ]
     },
     "execution_count": 95,
     "metadata": {},
     "output_type": "execute_result"
    }
   ],
   "source": [
    "garage_0.describe()"
   ]
  },
  {
   "cell_type": "markdown",
   "id": "71b5654a",
   "metadata": {},
   "source": [
    "From the description of the data above, it can be seen that Garage Area of 0 contains empty values or NaN values."
   ]
  },
  {
   "cell_type": "code",
   "execution_count": 96,
   "id": "9cbbb306",
   "metadata": {},
   "outputs": [
    {
     "data": {
      "text/plain": [
       "(44, 7)"
      ]
     },
     "execution_count": 96,
     "metadata": {},
     "output_type": "execute_result"
    }
   ],
   "source": [
    "garage_0.shape"
   ]
  },
  {
   "cell_type": "code",
   "execution_count": 97,
   "id": "e29469e7",
   "metadata": {},
   "outputs": [
    {
     "data": {
      "text/plain": [
       "(45, 7)"
      ]
     },
     "execution_count": 97,
     "metadata": {},
     "output_type": "execute_result"
    }
   ],
   "source": [
    "garage_df[garage_df.isna().any(axis=1)].shape"
   ]
  },
  {
   "cell_type": "markdown",
   "id": "dc3e504a",
   "metadata": {},
   "source": [
    "From the shape of the dataframe, we can see that there is one row where Garage Area is not equals to 0."
   ]
  },
  {
   "cell_type": "code",
   "execution_count": 98,
   "id": "c05f869b",
   "metadata": {},
   "outputs": [],
   "source": [
    "garage_nulls = garage_df[garage_df.isna().any(axis=1)]"
   ]
  },
  {
   "cell_type": "code",
   "execution_count": 99,
   "id": "8bdab969",
   "metadata": {},
   "outputs": [
    {
     "data": {
      "text/html": [
       "<div>\n",
       "<style scoped>\n",
       "    .dataframe tbody tr th:only-of-type {\n",
       "        vertical-align: middle;\n",
       "    }\n",
       "\n",
       "    .dataframe tbody tr th {\n",
       "        vertical-align: top;\n",
       "    }\n",
       "\n",
       "    .dataframe thead th {\n",
       "        text-align: right;\n",
       "    }\n",
       "</style>\n",
       "<table border=\"1\" class=\"dataframe\">\n",
       "  <thead>\n",
       "    <tr style=\"text-align: right;\">\n",
       "      <th></th>\n",
       "      <th>Garage Type</th>\n",
       "      <th>Garage Yr Blt</th>\n",
       "      <th>Garage Finish</th>\n",
       "      <th>Garage Cars</th>\n",
       "      <th>Garage Area</th>\n",
       "      <th>Garage Qual</th>\n",
       "      <th>Garage Cond</th>\n",
       "    </tr>\n",
       "  </thead>\n",
       "  <tbody>\n",
       "    <tr>\n",
       "      <th>764</th>\n",
       "      <td>Detchd</td>\n",
       "      <td>NaN</td>\n",
       "      <td>NaN</td>\n",
       "      <td>1</td>\n",
       "      <td>360</td>\n",
       "      <td>NaN</td>\n",
       "      <td>NaN</td>\n",
       "    </tr>\n",
       "  </tbody>\n",
       "</table>\n",
       "</div>"
      ],
      "text/plain": [
       "    Garage Type  Garage Yr Blt Garage Finish  Garage Cars  Garage Area  \\\n",
       "764      Detchd            NaN           NaN            1          360   \n",
       "\n",
       "    Garage Qual Garage Cond  \n",
       "764         NaN         NaN  "
      ]
     },
     "execution_count": 99,
     "metadata": {},
     "output_type": "execute_result"
    }
   ],
   "source": [
    "garage_nulls1 = garage_nulls[garage_nulls['Garage Area'] != 0]\n",
    "garage_nulls1"
   ]
  },
  {
   "cell_type": "markdown",
   "id": "6bd8fc7b",
   "metadata": {},
   "source": [
    "From the row exception shown above, it can be seen that 'Detched' is an outlier category in this particular case where other columns such as 'Garage Yr Blt', 'Garage Cars' etc are also NaN. <br>\n",
    "It likely signifies that such a feature does not exist. <br>\n",
    "\n",
    "Hence, 'garage_df' NaN will be input as 'NA' as well as the category exception above."
   ]
  },
  {
   "cell_type": "markdown",
   "id": "c9d0f420",
   "metadata": {},
   "source": [
    "###### Checking Garage Columns"
   ]
  },
  {
   "cell_type": "code",
   "execution_count": 100,
   "id": "91a827ed",
   "metadata": {},
   "outputs": [
    {
     "data": {
      "text/plain": [
       "Index(['Garage Type', 'Garage Yr Blt', 'Garage Finish', 'Garage Cars',\n",
       "       'Garage Area', 'Garage Qual', 'Garage Cond'],\n",
       "      dtype='object')"
      ]
     },
     "execution_count": 100,
     "metadata": {},
     "output_type": "execute_result"
    }
   ],
   "source": [
    "garage_df.columns"
   ]
  },
  {
   "cell_type": "markdown",
   "id": "b694636c",
   "metadata": {},
   "source": [
    "###### 1. Garage Type"
   ]
  },
  {
   "cell_type": "code",
   "execution_count": 101,
   "id": "4ad79a32",
   "metadata": {},
   "outputs": [],
   "source": [
    "garage_df['Garage Type'][1712] = 'NA'"
   ]
  },
  {
   "cell_type": "code",
   "execution_count": 102,
   "id": "1da0fff9",
   "metadata": {},
   "outputs": [],
   "source": [
    "garage_df['Garage Type'] = garage_df['Garage Type'].fillna('NA')"
   ]
  },
  {
   "cell_type": "code",
   "execution_count": 103,
   "id": "1726a7d9",
   "metadata": {},
   "outputs": [
    {
     "data": {
      "text/plain": [
       "array(['Detchd', 'Attchd', 'BuiltIn', 'NA', '2Types', 'CarPort',\n",
       "       'Basment'], dtype=object)"
      ]
     },
     "execution_count": 103,
     "metadata": {},
     "output_type": "execute_result"
    }
   ],
   "source": [
    "garage_df['Garage Type'].unique()"
   ]
  },
  {
   "cell_type": "code",
   "execution_count": 104,
   "id": "0e4cf287",
   "metadata": {},
   "outputs": [
    {
     "data": {
      "text/plain": [
       "0"
      ]
     },
     "execution_count": 104,
     "metadata": {},
     "output_type": "execute_result"
    }
   ],
   "source": [
    "garage_df['Garage Type'].isnull().sum()"
   ]
  },
  {
   "cell_type": "markdown",
   "id": "8e4a8ca4",
   "metadata": {},
   "source": [
    "###### 2. Garage Yr Blt"
   ]
  },
  {
   "cell_type": "code",
   "execution_count": 105,
   "id": "1d35338e",
   "metadata": {},
   "outputs": [
    {
     "data": {
      "text/plain": [
       "array([1910., 1977., 2006., 1935., 1963., 1972., 1959., 1978., 2004.,\n",
       "       1980., 1991., 1993., 1954., 2000., 1943., 1957., 1940., 1956.,\n",
       "       1961., 1925., 1968., 1982., 1969., 2007., 1989., 1920., 1937.,\n",
       "         nan, 1979., 1962., 1950., 1973., 2001., 1952., 1953., 1999.,\n",
       "       2009., 1998., 1974., 1951., 1987., 2003., 1924., 1970., 1975.,\n",
       "       1958., 1971., 1992., 1994., 2005., 1960., 1967., 2002., 1997.,\n",
       "       1981., 1938., 1988., 1939., 1927., 1984., 1964., 1995., 2008.,\n",
       "       1966., 1941., 1983., 1906., 1930., 1955., 1946., 1996., 1928.,\n",
       "       1976., 1915., 1923., 1965., 1947., 1900., 1918., 1934., 1932.,\n",
       "       1986., 2010., 1985., 1949., 1948., 1917., 1990., 1921., 1926.,\n",
       "       1931., 1916., 1922., 1908.])"
      ]
     },
     "execution_count": 105,
     "metadata": {},
     "output_type": "execute_result"
    }
   ],
   "source": [
    "garage_df['Garage Yr Blt'].unique()"
   ]
  },
  {
   "cell_type": "code",
   "execution_count": 106,
   "id": "c90e7e3d",
   "metadata": {},
   "outputs": [],
   "source": [
    "garage_df['Garage Yr Blt'] = garage_df['Garage Yr Blt'].fillna(0)"
   ]
  },
  {
   "cell_type": "code",
   "execution_count": 107,
   "id": "168bc7a2",
   "metadata": {},
   "outputs": [
    {
     "data": {
      "text/plain": [
       "0"
      ]
     },
     "execution_count": 107,
     "metadata": {},
     "output_type": "execute_result"
    }
   ],
   "source": [
    "garage_df['Garage Yr Blt'].isnull().sum()"
   ]
  },
  {
   "cell_type": "markdown",
   "id": "58a21115",
   "metadata": {},
   "source": [
    "###### 3. Garage Finish"
   ]
  },
  {
   "cell_type": "code",
   "execution_count": 108,
   "id": "0d9595b0",
   "metadata": {},
   "outputs": [
    {
     "data": {
      "text/plain": [
       "array(['Unf', 'Fin', 'RFn', nan], dtype=object)"
      ]
     },
     "execution_count": 108,
     "metadata": {},
     "output_type": "execute_result"
    }
   ],
   "source": [
    "garage_df['Garage Finish'].unique()"
   ]
  },
  {
   "cell_type": "code",
   "execution_count": 109,
   "id": "76368f7c",
   "metadata": {},
   "outputs": [],
   "source": [
    "garage_df['Garage Finish'] = garage_df['Garage Finish'].fillna('NA')"
   ]
  },
  {
   "cell_type": "code",
   "execution_count": 110,
   "id": "496504ea",
   "metadata": {},
   "outputs": [
    {
     "data": {
      "text/plain": [
       "0"
      ]
     },
     "execution_count": 110,
     "metadata": {},
     "output_type": "execute_result"
    }
   ],
   "source": [
    "garage_df['Garage Finish'].isnull().sum()"
   ]
  },
  {
   "cell_type": "markdown",
   "id": "24e7687d",
   "metadata": {},
   "source": [
    "###### 4. Garage Cars"
   ]
  },
  {
   "cell_type": "code",
   "execution_count": 111,
   "id": "467b067f",
   "metadata": {},
   "outputs": [
    {
     "data": {
      "text/plain": [
       "array([1, 2, 4, 0, 3], dtype=int64)"
      ]
     },
     "execution_count": 111,
     "metadata": {},
     "output_type": "execute_result"
    }
   ],
   "source": [
    "garage_df['Garage Cars'].unique()"
   ]
  },
  {
   "cell_type": "markdown",
   "id": "8652896e",
   "metadata": {},
   "source": [
    "Garage cars is a category hence, null is assigned as -1."
   ]
  },
  {
   "cell_type": "code",
   "execution_count": 112,
   "id": "e3c412f9",
   "metadata": {},
   "outputs": [],
   "source": [
    "garage_df['Garage Cars'] = garage_df['Garage Cars'].fillna(-1)"
   ]
  },
  {
   "cell_type": "code",
   "execution_count": 113,
   "id": "dea85fb5",
   "metadata": {},
   "outputs": [
    {
     "data": {
      "text/plain": [
       "0"
      ]
     },
     "execution_count": 113,
     "metadata": {},
     "output_type": "execute_result"
    }
   ],
   "source": [
    "garage_df['Garage Cars'].isnull().sum()"
   ]
  },
  {
   "cell_type": "markdown",
   "id": "7704882f",
   "metadata": {},
   "source": [
    "###### 5. Garage Area"
   ]
  },
  {
   "cell_type": "code",
   "execution_count": 114,
   "id": "65fdbdef",
   "metadata": {
    "scrolled": true
   },
   "outputs": [
    {
     "data": {
      "text/plain": [
       "array([ 440,  580,  426,  480,  514,  286,  308,  252,  588,  473,  484,\n",
       "        320,  451,  820,  240,  828,  340,  418,  424,  270,  732,  533,\n",
       "        540,  576,  352,  368,    0,  684,  539,  864,  439,  608,  454,\n",
       "        162,  460,  414,  625,  528,  431,  624,  288,  512,  300,  160,\n",
       "        297,  506,  839,  938,  400,  303,  464,  815,  631,  420,  640,\n",
       "        402,  336,  264,  294,  816,  527,  603, 1390,  495,  511,  384,\n",
       "        472,  224,  374,  322,  627,  642,  789,  678,  807,  672,  846,\n",
       "        470, 1092,  753,  517,  388, 1003,  355,  984,  370,  315,  312,\n",
       "        605,  676,  216,  299,  565,  332,  260,  833,  905,  508,  762,\n",
       "        758,  437,  541,  813,  409,  586,  324,  486,  518,  478,  280,\n",
       "        253,  275,  276,  393,  880,  962,  432,  379,  668,  205,  513,\n",
       "        521,  483,  399,  779,  574,  307,  889,  795,  754, 1134,  466,\n",
       "        685,  656,  502,  746,  870,  396,  463,  617,  615,  258,  706,\n",
       "        461,  422,  425,  520,  525,  614, 1014,  360,  800,  467,  596,\n",
       "        610,  647,  599,  492,  649,  256,  529,  662,  342,  582,  632,\n",
       "        834,  606,  429,  868,  600,  756,  234,  416,  287,  523,  713,\n",
       "        592,  443,  500,  504,  564,  666,  444,  180,  888,  538,  995,\n",
       "        621,  220,  907,  774,  712,  482,  626,  266,  850,  670,  493,\n",
       "        438,  786,  476,  597,  740,  413, 1248,  551,  186,  908,  404,\n",
       "        450,  613,  736,  840,  441,  301,  556,  693, 1200,  200,  843,\n",
       "        900,  548,  702,  434,  853,  474,  776,  496,  457,  318,  546,\n",
       "        452,  844,  468,  392,  462,  453,  832,  570,  865,  397,  290,\n",
       "        380,  641,  675,  408,  398,  530,  544,  390,  192, 1025,  860,\n",
       "        644, 1040,  250,  345,  350,  747,  575,  872,  583,  516,  164,\n",
       "        554,  365,  568,  561,  215,  686,  195,  638, 1488,  773,  184,\n",
       "        433,  524,  456,  765,  784,  730,  230,  566,  648, 1052,  558,\n",
       "        646,  410,  630,  552,  338,  912,  722,  272,  326,  884,  515,\n",
       "        848,  704,  490,  281,  925,  824,  688,  366,  430,  445,  650,\n",
       "        612,  522,  244,  628,  377,  791,  328,  836,  273,  963,  869,\n",
       "        497,  364,  210,  972,  645,  932,  489,  550,  351,  459,  714,\n",
       "        578,  749,  455,  225,  660,  189,  305,  354,  403,  571,  509,\n",
       "        481,  369,  803,  465,  636,  792,  292,  344,  498,  412,  708,\n",
       "        367,  577,  616,  545,  488], dtype=int64)"
      ]
     },
     "execution_count": 114,
     "metadata": {},
     "output_type": "execute_result"
    }
   ],
   "source": [
    "garage_df['Garage Area'].unique()"
   ]
  },
  {
   "cell_type": "code",
   "execution_count": 115,
   "id": "262d49c8",
   "metadata": {},
   "outputs": [],
   "source": [
    "garage_df['Garage Area'] = garage_df['Garage Area'].fillna(0)"
   ]
  },
  {
   "cell_type": "code",
   "execution_count": 116,
   "id": "30a15d7e",
   "metadata": {},
   "outputs": [
    {
     "data": {
      "text/plain": [
       "0"
      ]
     },
     "execution_count": 116,
     "metadata": {},
     "output_type": "execute_result"
    }
   ],
   "source": [
    "garage_df['Garage Area'].isnull().sum()"
   ]
  },
  {
   "cell_type": "markdown",
   "id": "d5630985",
   "metadata": {},
   "source": [
    "###### 6. Garage Qual"
   ]
  },
  {
   "cell_type": "code",
   "execution_count": 117,
   "id": "c6dbe71a",
   "metadata": {},
   "outputs": [
    {
     "data": {
      "text/plain": [
       "array(['Po', 'TA', 'Fa', nan, 'Gd'], dtype=object)"
      ]
     },
     "execution_count": 117,
     "metadata": {},
     "output_type": "execute_result"
    }
   ],
   "source": [
    "garage_df['Garage Qual'].unique()"
   ]
  },
  {
   "cell_type": "code",
   "execution_count": 118,
   "id": "f6325304",
   "metadata": {},
   "outputs": [],
   "source": [
    "garage_df['Garage Qual'] = garage_df['Garage Qual'].fillna('NA')"
   ]
  },
  {
   "cell_type": "code",
   "execution_count": 119,
   "id": "db1a1918",
   "metadata": {},
   "outputs": [
    {
     "data": {
      "text/plain": [
       "0"
      ]
     },
     "execution_count": 119,
     "metadata": {},
     "output_type": "execute_result"
    }
   ],
   "source": [
    "garage_df['Garage Qual'].isnull().sum()"
   ]
  },
  {
   "cell_type": "markdown",
   "id": "4510dc81",
   "metadata": {},
   "source": [
    "###### 7. Garage Cond"
   ]
  },
  {
   "cell_type": "code",
   "execution_count": 120,
   "id": "2bacf29b",
   "metadata": {},
   "outputs": [
    {
     "data": {
      "text/plain": [
       "array(['Po', 'TA', nan, 'Fa', 'Gd', 'Ex'], dtype=object)"
      ]
     },
     "execution_count": 120,
     "metadata": {},
     "output_type": "execute_result"
    }
   ],
   "source": [
    "garage_df['Garage Cond'].unique()"
   ]
  },
  {
   "cell_type": "code",
   "execution_count": 121,
   "id": "b3eb6364",
   "metadata": {},
   "outputs": [],
   "source": [
    "garage_df['Garage Cond'] = garage_df['Garage Cond'].fillna('NA')"
   ]
  },
  {
   "cell_type": "code",
   "execution_count": 122,
   "id": "d5cc6c3d",
   "metadata": {},
   "outputs": [
    {
     "data": {
      "text/plain": [
       "0"
      ]
     },
     "execution_count": 122,
     "metadata": {},
     "output_type": "execute_result"
    }
   ],
   "source": [
    "garage_df['Garage Cond'].isnull().sum()"
   ]
  },
  {
   "cell_type": "markdown",
   "id": "54b9b0f3",
   "metadata": {},
   "source": [
    "###### Checking garage_df for null values."
   ]
  },
  {
   "cell_type": "code",
   "execution_count": 123,
   "id": "86e65618",
   "metadata": {},
   "outputs": [
    {
     "data": {
      "text/plain": [
       "Garage Type      0\n",
       "Garage Yr Blt    0\n",
       "Garage Finish    0\n",
       "Garage Cars      0\n",
       "Garage Area      0\n",
       "Garage Qual      0\n",
       "Garage Cond      0\n",
       "dtype: int64"
      ]
     },
     "execution_count": 123,
     "metadata": {},
     "output_type": "execute_result"
    }
   ],
   "source": [
    "garage_df.isnull().sum()"
   ]
  },
  {
   "cell_type": "markdown",
   "id": "d18415f6",
   "metadata": {},
   "source": [
    "#### All Garage related subcategories null values have been corrected."
   ]
  },
  {
   "cell_type": "code",
   "execution_count": 124,
   "id": "dc00c9fc",
   "metadata": {},
   "outputs": [
    {
     "data": {
      "text/plain": [
       "Index(['Garage Type', 'Garage Yr Blt', 'Garage Finish', 'Garage Cars',\n",
       "       'Garage Area', 'Garage Qual', 'Garage Cond'],\n",
       "      dtype='object')"
      ]
     },
     "execution_count": 124,
     "metadata": {},
     "output_type": "execute_result"
    }
   ],
   "source": [
    "garage_df.columns"
   ]
  },
  {
   "cell_type": "markdown",
   "id": "c6f89bbf",
   "metadata": {},
   "source": [
    "##### Ensuring that the shape of the dataframe pre-drop and post-merge is correct."
   ]
  },
  {
   "cell_type": "code",
   "execution_count": 125,
   "id": "095797d1",
   "metadata": {},
   "outputs": [
    {
     "data": {
      "text/plain": [
       "(878, 7)"
      ]
     },
     "execution_count": 125,
     "metadata": {},
     "output_type": "execute_result"
    }
   ],
   "source": [
    "garage_df.shape"
   ]
  },
  {
   "cell_type": "code",
   "execution_count": 126,
   "id": "a999403b",
   "metadata": {},
   "outputs": [
    {
     "data": {
      "text/plain": [
       "(878, 80)"
      ]
     },
     "execution_count": 126,
     "metadata": {},
     "output_type": "execute_result"
    }
   ],
   "source": [
    "traindata.shape"
   ]
  },
  {
   "cell_type": "code",
   "execution_count": 127,
   "id": "75acc07f",
   "metadata": {},
   "outputs": [],
   "source": [
    "traindata = traindata.drop(columns=['Garage Type', 'Garage Yr Blt', 'Garage Finish', 'Garage Cars',\n",
    "       'Garage Area', 'Garage Qual', 'Garage Cond'])"
   ]
  },
  {
   "cell_type": "code",
   "execution_count": 128,
   "id": "8fe80f00",
   "metadata": {},
   "outputs": [
    {
     "data": {
      "text/plain": [
       "(878, 73)"
      ]
     },
     "execution_count": 128,
     "metadata": {},
     "output_type": "execute_result"
    }
   ],
   "source": [
    "traindata.shape"
   ]
  },
  {
   "cell_type": "code",
   "execution_count": 129,
   "id": "1e4e999a",
   "metadata": {},
   "outputs": [],
   "source": [
    "traindata = traindata.merge(garage_df, left_index=True, right_index=True)"
   ]
  },
  {
   "cell_type": "code",
   "execution_count": 130,
   "id": "c0193462",
   "metadata": {},
   "outputs": [
    {
     "data": {
      "text/plain": [
       "(878, 80)"
      ]
     },
     "execution_count": 130,
     "metadata": {},
     "output_type": "execute_result"
    }
   ],
   "source": [
    "traindata.shape"
   ]
  },
  {
   "cell_type": "markdown",
   "id": "52ac1c55",
   "metadata": {},
   "source": [
    "## 7. Pool QC"
   ]
  },
  {
   "cell_type": "code",
   "execution_count": 131,
   "id": "df0d6b7a",
   "metadata": {},
   "outputs": [
    {
     "data": {
      "text/plain": [
       "874"
      ]
     },
     "execution_count": 131,
     "metadata": {},
     "output_type": "execute_result"
    }
   ],
   "source": [
    "traindata['Pool QC'].isnull().sum()"
   ]
  },
  {
   "cell_type": "code",
   "execution_count": 132,
   "id": "82f14158",
   "metadata": {},
   "outputs": [
    {
     "data": {
      "text/plain": [
       "878"
      ]
     },
     "execution_count": 132,
     "metadata": {},
     "output_type": "execute_result"
    }
   ],
   "source": [
    "len(traindata['Pool QC'])"
   ]
  },
  {
   "cell_type": "code",
   "execution_count": 133,
   "id": "96c50681",
   "metadata": {},
   "outputs": [
    {
     "data": {
      "text/plain": [
       "99.54441913439635"
      ]
     },
     "execution_count": 133,
     "metadata": {},
     "output_type": "execute_result"
    }
   ],
   "source": [
    "(traindata['Pool QC'].isnull().sum())/(len(traindata['Pool QC'])) * 100"
   ]
  },
  {
   "cell_type": "code",
   "execution_count": 134,
   "id": "3ce1ffb7",
   "metadata": {},
   "outputs": [
    {
     "data": {
      "text/html": [
       "<div>\n",
       "<style scoped>\n",
       "    .dataframe tbody tr th:only-of-type {\n",
       "        vertical-align: middle;\n",
       "    }\n",
       "\n",
       "    .dataframe tbody tr th {\n",
       "        vertical-align: top;\n",
       "    }\n",
       "\n",
       "    .dataframe thead th {\n",
       "        text-align: right;\n",
       "    }\n",
       "</style>\n",
       "<table border=\"1\" class=\"dataframe\">\n",
       "  <thead>\n",
       "    <tr style=\"text-align: right;\">\n",
       "      <th></th>\n",
       "      <th>Id</th>\n",
       "      <th>PID</th>\n",
       "      <th>MS SubClass</th>\n",
       "      <th>MS Zoning</th>\n",
       "      <th>Lot Frontage</th>\n",
       "      <th>Lot Area</th>\n",
       "      <th>Street</th>\n",
       "      <th>Alley</th>\n",
       "      <th>Lot Shape</th>\n",
       "      <th>Land Contour</th>\n",
       "      <th>...</th>\n",
       "      <th>Total Bsmt SF</th>\n",
       "      <th>Bsmt Full Bath</th>\n",
       "      <th>Bsmt Half Bath</th>\n",
       "      <th>Garage Type</th>\n",
       "      <th>Garage Yr Blt</th>\n",
       "      <th>Garage Finish</th>\n",
       "      <th>Garage Cars</th>\n",
       "      <th>Garage Area</th>\n",
       "      <th>Garage Qual</th>\n",
       "      <th>Garage Cond</th>\n",
       "    </tr>\n",
       "  </thead>\n",
       "  <tbody>\n",
       "    <tr>\n",
       "      <th>0</th>\n",
       "      <td>2658</td>\n",
       "      <td>902301120</td>\n",
       "      <td>190</td>\n",
       "      <td>RM</td>\n",
       "      <td>69.0</td>\n",
       "      <td>9142</td>\n",
       "      <td>Pave</td>\n",
       "      <td>Grvl</td>\n",
       "      <td>Reg</td>\n",
       "      <td>Lvl</td>\n",
       "      <td>...</td>\n",
       "      <td>1020</td>\n",
       "      <td>0</td>\n",
       "      <td>0</td>\n",
       "      <td>Detchd</td>\n",
       "      <td>1910.0</td>\n",
       "      <td>Unf</td>\n",
       "      <td>1</td>\n",
       "      <td>440</td>\n",
       "      <td>Po</td>\n",
       "      <td>Po</td>\n",
       "    </tr>\n",
       "    <tr>\n",
       "      <th>1</th>\n",
       "      <td>2718</td>\n",
       "      <td>905108090</td>\n",
       "      <td>90</td>\n",
       "      <td>RL</td>\n",
       "      <td>0.0</td>\n",
       "      <td>9662</td>\n",
       "      <td>Pave</td>\n",
       "      <td>NA</td>\n",
       "      <td>IR1</td>\n",
       "      <td>Lvl</td>\n",
       "      <td>...</td>\n",
       "      <td>1967</td>\n",
       "      <td>0</td>\n",
       "      <td>0</td>\n",
       "      <td>Attchd</td>\n",
       "      <td>1977.0</td>\n",
       "      <td>Fin</td>\n",
       "      <td>2</td>\n",
       "      <td>580</td>\n",
       "      <td>TA</td>\n",
       "      <td>TA</td>\n",
       "    </tr>\n",
       "    <tr>\n",
       "      <th>2</th>\n",
       "      <td>2414</td>\n",
       "      <td>528218130</td>\n",
       "      <td>60</td>\n",
       "      <td>RL</td>\n",
       "      <td>58.0</td>\n",
       "      <td>17104</td>\n",
       "      <td>Pave</td>\n",
       "      <td>NA</td>\n",
       "      <td>IR1</td>\n",
       "      <td>Lvl</td>\n",
       "      <td>...</td>\n",
       "      <td>654</td>\n",
       "      <td>1</td>\n",
       "      <td>0</td>\n",
       "      <td>Attchd</td>\n",
       "      <td>2006.0</td>\n",
       "      <td>RFn</td>\n",
       "      <td>2</td>\n",
       "      <td>426</td>\n",
       "      <td>TA</td>\n",
       "      <td>TA</td>\n",
       "    </tr>\n",
       "  </tbody>\n",
       "</table>\n",
       "<p>3 rows × 80 columns</p>\n",
       "</div>"
      ],
      "text/plain": [
       "     Id        PID  MS SubClass MS Zoning  Lot Frontage  Lot Area Street  \\\n",
       "0  2658  902301120          190        RM          69.0      9142   Pave   \n",
       "1  2718  905108090           90        RL           0.0      9662   Pave   \n",
       "2  2414  528218130           60        RL          58.0     17104   Pave   \n",
       "\n",
       "  Alley Lot Shape Land Contour  ... Total Bsmt SF Bsmt Full Bath  \\\n",
       "0  Grvl       Reg          Lvl  ...          1020              0   \n",
       "1    NA       IR1          Lvl  ...          1967              0   \n",
       "2    NA       IR1          Lvl  ...           654              1   \n",
       "\n",
       "  Bsmt Half Bath Garage Type Garage Yr Blt Garage Finish Garage Cars  \\\n",
       "0              0      Detchd        1910.0           Unf           1   \n",
       "1              0      Attchd        1977.0           Fin           2   \n",
       "2              0      Attchd        2006.0           RFn           2   \n",
       "\n",
       "  Garage Area  Garage Qual  Garage Cond  \n",
       "0         440           Po           Po  \n",
       "1         580           TA           TA  \n",
       "2         426           TA           TA  \n",
       "\n",
       "[3 rows x 80 columns]"
      ]
     },
     "execution_count": 134,
     "metadata": {},
     "output_type": "execute_result"
    }
   ],
   "source": [
    "traindata[traindata['Pool QC'].isnull()].head(3)"
   ]
  },
  {
   "cell_type": "code",
   "execution_count": 135,
   "id": "0d79ebcb",
   "metadata": {},
   "outputs": [],
   "source": [
    "traindata['Pool QC'] = traindata['Pool QC'].fillna('NA')"
   ]
  },
  {
   "cell_type": "code",
   "execution_count": 136,
   "id": "24032b99",
   "metadata": {},
   "outputs": [
    {
     "data": {
      "text/plain": [
       "0"
      ]
     },
     "execution_count": 136,
     "metadata": {},
     "output_type": "execute_result"
    }
   ],
   "source": [
    "traindata['Pool QC'].isnull().sum()"
   ]
  },
  {
   "cell_type": "markdown",
   "id": "33af7501",
   "metadata": {},
   "source": [
    "## 8. Fence"
   ]
  },
  {
   "cell_type": "code",
   "execution_count": 137,
   "id": "992d23ca",
   "metadata": {},
   "outputs": [
    {
     "data": {
      "text/plain": [
       "array([nan, 'MnPrv', 'GdPrv', 'GdWo', 'MnWw'], dtype=object)"
      ]
     },
     "execution_count": 137,
     "metadata": {},
     "output_type": "execute_result"
    }
   ],
   "source": [
    "traindata['Fence'].unique()"
   ]
  },
  {
   "cell_type": "code",
   "execution_count": 138,
   "id": "ef08bb83",
   "metadata": {},
   "outputs": [],
   "source": [
    "traindata['Fence'] = traindata['Fence'].fillna('NA')"
   ]
  },
  {
   "cell_type": "code",
   "execution_count": 139,
   "id": "d116af76",
   "metadata": {},
   "outputs": [
    {
     "data": {
      "text/plain": [
       "NA       706\n",
       "MnPrv    103\n",
       "GdPrv     35\n",
       "GdWo      32\n",
       "MnWw       2\n",
       "Name: Fence, dtype: int64"
      ]
     },
     "execution_count": 139,
     "metadata": {},
     "output_type": "execute_result"
    }
   ],
   "source": [
    "traindata['Fence'].value_counts()"
   ]
  },
  {
   "cell_type": "code",
   "execution_count": 140,
   "id": "7daacde4",
   "metadata": {},
   "outputs": [
    {
     "data": {
      "text/plain": [
       "0"
      ]
     },
     "execution_count": 140,
     "metadata": {},
     "output_type": "execute_result"
    }
   ],
   "source": [
    "traindata['Fence'].isnull().sum()"
   ]
  },
  {
   "cell_type": "markdown",
   "id": "673af437",
   "metadata": {},
   "source": [
    "## 9. Misc Feature"
   ]
  },
  {
   "cell_type": "code",
   "execution_count": 141,
   "id": "22761394",
   "metadata": {},
   "outputs": [
    {
     "data": {
      "text/plain": [
       "array([nan, 'Shed', 'Othr', 'Gar2'], dtype=object)"
      ]
     },
     "execution_count": 141,
     "metadata": {},
     "output_type": "execute_result"
    }
   ],
   "source": [
    "traindata['Misc Feature'].unique()"
   ]
  },
  {
   "cell_type": "markdown",
   "id": "8b859201",
   "metadata": {},
   "source": [
    "Since there is already a category called 'Othr', NaN could mean that there are no misc features."
   ]
  },
  {
   "cell_type": "code",
   "execution_count": 142,
   "id": "916c80da",
   "metadata": {},
   "outputs": [],
   "source": [
    "traindata['Misc Feature'] = traindata['Misc Feature'].fillna('NA')"
   ]
  },
  {
   "cell_type": "code",
   "execution_count": 143,
   "id": "1e76a624",
   "metadata": {},
   "outputs": [
    {
     "data": {
      "text/plain": [
       "0"
      ]
     },
     "execution_count": 143,
     "metadata": {},
     "output_type": "execute_result"
    }
   ],
   "source": [
    "traindata['Misc Feature'].isnull().sum()"
   ]
  },
  {
   "cell_type": "markdown",
   "id": "84623b35",
   "metadata": {},
   "source": [
    "## 10. Electrical"
   ]
  },
  {
   "cell_type": "code",
   "execution_count": 144,
   "id": "f3499dff",
   "metadata": {},
   "outputs": [],
   "source": [
    "traindata['Electrical'] = traindata['Electrical'].fillna('NA')"
   ]
  },
  {
   "cell_type": "code",
   "execution_count": 145,
   "id": "2ba76707",
   "metadata": {},
   "outputs": [
    {
     "data": {
      "text/plain": [
       "0"
      ]
     },
     "execution_count": 145,
     "metadata": {},
     "output_type": "execute_result"
    }
   ],
   "source": [
    "traindata['Electrical'].isnull().sum()"
   ]
  },
  {
   "cell_type": "markdown",
   "id": "2d08b615",
   "metadata": {},
   "source": [
    "## Checking that traindata dataframe null values have been corrected."
   ]
  },
  {
   "cell_type": "code",
   "execution_count": 146,
   "id": "1336e27e",
   "metadata": {},
   "outputs": [
    {
     "data": {
      "text/plain": [
       "0"
      ]
     },
     "execution_count": 146,
     "metadata": {},
     "output_type": "execute_result"
    }
   ],
   "source": [
    "traindata.isnull().sum().sum()"
   ]
  },
  {
   "cell_type": "code",
   "execution_count": 147,
   "id": "7c6f9cf7",
   "metadata": {},
   "outputs": [
    {
     "data": {
      "text/html": [
       "<div>\n",
       "<style scoped>\n",
       "    .dataframe tbody tr th:only-of-type {\n",
       "        vertical-align: middle;\n",
       "    }\n",
       "\n",
       "    .dataframe tbody tr th {\n",
       "        vertical-align: top;\n",
       "    }\n",
       "\n",
       "    .dataframe thead th {\n",
       "        text-align: right;\n",
       "    }\n",
       "</style>\n",
       "<table border=\"1\" class=\"dataframe\">\n",
       "  <thead>\n",
       "    <tr style=\"text-align: right;\">\n",
       "      <th></th>\n",
       "      <th>Id</th>\n",
       "      <th>PID</th>\n",
       "      <th>MS SubClass</th>\n",
       "      <th>MS Zoning</th>\n",
       "      <th>Lot Frontage</th>\n",
       "      <th>Lot Area</th>\n",
       "      <th>Street</th>\n",
       "      <th>Alley</th>\n",
       "      <th>Lot Shape</th>\n",
       "      <th>Land Contour</th>\n",
       "      <th>...</th>\n",
       "      <th>Total Bsmt SF</th>\n",
       "      <th>Bsmt Full Bath</th>\n",
       "      <th>Bsmt Half Bath</th>\n",
       "      <th>Garage Type</th>\n",
       "      <th>Garage Yr Blt</th>\n",
       "      <th>Garage Finish</th>\n",
       "      <th>Garage Cars</th>\n",
       "      <th>Garage Area</th>\n",
       "      <th>Garage Qual</th>\n",
       "      <th>Garage Cond</th>\n",
       "    </tr>\n",
       "  </thead>\n",
       "  <tbody>\n",
       "    <tr>\n",
       "      <th>0</th>\n",
       "      <td>2658</td>\n",
       "      <td>902301120</td>\n",
       "      <td>190</td>\n",
       "      <td>RM</td>\n",
       "      <td>69.0</td>\n",
       "      <td>9142</td>\n",
       "      <td>Pave</td>\n",
       "      <td>Grvl</td>\n",
       "      <td>Reg</td>\n",
       "      <td>Lvl</td>\n",
       "      <td>...</td>\n",
       "      <td>1020</td>\n",
       "      <td>0</td>\n",
       "      <td>0</td>\n",
       "      <td>Detchd</td>\n",
       "      <td>1910.0</td>\n",
       "      <td>Unf</td>\n",
       "      <td>1</td>\n",
       "      <td>440</td>\n",
       "      <td>Po</td>\n",
       "      <td>Po</td>\n",
       "    </tr>\n",
       "    <tr>\n",
       "      <th>1</th>\n",
       "      <td>2718</td>\n",
       "      <td>905108090</td>\n",
       "      <td>90</td>\n",
       "      <td>RL</td>\n",
       "      <td>0.0</td>\n",
       "      <td>9662</td>\n",
       "      <td>Pave</td>\n",
       "      <td>NA</td>\n",
       "      <td>IR1</td>\n",
       "      <td>Lvl</td>\n",
       "      <td>...</td>\n",
       "      <td>1967</td>\n",
       "      <td>0</td>\n",
       "      <td>0</td>\n",
       "      <td>Attchd</td>\n",
       "      <td>1977.0</td>\n",
       "      <td>Fin</td>\n",
       "      <td>2</td>\n",
       "      <td>580</td>\n",
       "      <td>TA</td>\n",
       "      <td>TA</td>\n",
       "    </tr>\n",
       "    <tr>\n",
       "      <th>2</th>\n",
       "      <td>2414</td>\n",
       "      <td>528218130</td>\n",
       "      <td>60</td>\n",
       "      <td>RL</td>\n",
       "      <td>58.0</td>\n",
       "      <td>17104</td>\n",
       "      <td>Pave</td>\n",
       "      <td>NA</td>\n",
       "      <td>IR1</td>\n",
       "      <td>Lvl</td>\n",
       "      <td>...</td>\n",
       "      <td>654</td>\n",
       "      <td>1</td>\n",
       "      <td>0</td>\n",
       "      <td>Attchd</td>\n",
       "      <td>2006.0</td>\n",
       "      <td>RFn</td>\n",
       "      <td>2</td>\n",
       "      <td>426</td>\n",
       "      <td>TA</td>\n",
       "      <td>TA</td>\n",
       "    </tr>\n",
       "  </tbody>\n",
       "</table>\n",
       "<p>3 rows × 80 columns</p>\n",
       "</div>"
      ],
      "text/plain": [
       "     Id        PID  MS SubClass MS Zoning  Lot Frontage  Lot Area Street  \\\n",
       "0  2658  902301120          190        RM          69.0      9142   Pave   \n",
       "1  2718  905108090           90        RL           0.0      9662   Pave   \n",
       "2  2414  528218130           60        RL          58.0     17104   Pave   \n",
       "\n",
       "  Alley Lot Shape Land Contour  ... Total Bsmt SF Bsmt Full Bath  \\\n",
       "0  Grvl       Reg          Lvl  ...          1020              0   \n",
       "1    NA       IR1          Lvl  ...          1967              0   \n",
       "2    NA       IR1          Lvl  ...           654              1   \n",
       "\n",
       "  Bsmt Half Bath Garage Type Garage Yr Blt Garage Finish Garage Cars  \\\n",
       "0              0      Detchd        1910.0           Unf           1   \n",
       "1              0      Attchd        1977.0           Fin           2   \n",
       "2              0      Attchd        2006.0           RFn           2   \n",
       "\n",
       "  Garage Area  Garage Qual  Garage Cond  \n",
       "0         440           Po           Po  \n",
       "1         580           TA           TA  \n",
       "2         426           TA           TA  \n",
       "\n",
       "[3 rows x 80 columns]"
      ]
     },
     "execution_count": 147,
     "metadata": {},
     "output_type": "execute_result"
    }
   ],
   "source": [
    "traindata.head(3)"
   ]
  },
  {
   "cell_type": "code",
   "execution_count": 148,
   "id": "3bbd4794",
   "metadata": {
    "scrolled": true
   },
   "outputs": [
    {
     "name": "stdout",
     "output_type": "stream",
     "text": [
      "<class 'pandas.core.frame.DataFrame'>\n",
      "RangeIndex: 878 entries, 0 to 877\n",
      "Data columns (total 80 columns):\n",
      " #   Column           Non-Null Count  Dtype  \n",
      "---  ------           --------------  -----  \n",
      " 0   Id               878 non-null    int64  \n",
      " 1   PID              878 non-null    int64  \n",
      " 2   MS SubClass      878 non-null    int64  \n",
      " 3   MS Zoning        878 non-null    object \n",
      " 4   Lot Frontage     878 non-null    float64\n",
      " 5   Lot Area         878 non-null    int64  \n",
      " 6   Street           878 non-null    object \n",
      " 7   Alley            878 non-null    object \n",
      " 8   Lot Shape        878 non-null    object \n",
      " 9   Land Contour     878 non-null    object \n",
      " 10  Utilities        878 non-null    object \n",
      " 11  Lot Config       878 non-null    object \n",
      " 12  Land Slope       878 non-null    object \n",
      " 13  Neighborhood     878 non-null    object \n",
      " 14  Condition 1      878 non-null    object \n",
      " 15  Condition 2      878 non-null    object \n",
      " 16  Bldg Type        878 non-null    object \n",
      " 17  House Style      878 non-null    object \n",
      " 18  Overall Qual     878 non-null    int64  \n",
      " 19  Overall Cond     878 non-null    int64  \n",
      " 20  Year Built       878 non-null    int64  \n",
      " 21  Year Remod/Add   878 non-null    int64  \n",
      " 22  Roof Style       878 non-null    object \n",
      " 23  Roof Matl        878 non-null    object \n",
      " 24  Exterior 1st     878 non-null    object \n",
      " 25  Exterior 2nd     878 non-null    object \n",
      " 26  Mas Vnr Type     878 non-null    object \n",
      " 27  Mas Vnr Area     878 non-null    float64\n",
      " 28  Exter Qual       878 non-null    object \n",
      " 29  Exter Cond       878 non-null    object \n",
      " 30  Foundation       878 non-null    object \n",
      " 31  Heating          878 non-null    object \n",
      " 32  Heating QC       878 non-null    object \n",
      " 33  Central Air      878 non-null    object \n",
      " 34  Electrical       878 non-null    object \n",
      " 35  1st Flr SF       878 non-null    int64  \n",
      " 36  2nd Flr SF       878 non-null    int64  \n",
      " 37  Low Qual Fin SF  878 non-null    int64  \n",
      " 38  Gr Liv Area      878 non-null    int64  \n",
      " 39  Full Bath        878 non-null    int64  \n",
      " 40  Half Bath        878 non-null    int64  \n",
      " 41  Bedroom AbvGr    878 non-null    int64  \n",
      " 42  Kitchen AbvGr    878 non-null    int64  \n",
      " 43  Kitchen Qual     878 non-null    object \n",
      " 44  TotRms AbvGrd    878 non-null    int64  \n",
      " 45  Functional       878 non-null    object \n",
      " 46  Fireplaces       878 non-null    int64  \n",
      " 47  Fireplace Qu     878 non-null    object \n",
      " 48  Paved Drive      878 non-null    object \n",
      " 49  Wood Deck SF     878 non-null    int64  \n",
      " 50  Open Porch SF    878 non-null    int64  \n",
      " 51  Enclosed Porch   878 non-null    int64  \n",
      " 52  3Ssn Porch       878 non-null    int64  \n",
      " 53  Screen Porch     878 non-null    int64  \n",
      " 54  Pool Area        878 non-null    int64  \n",
      " 55  Pool QC          878 non-null    object \n",
      " 56  Fence            878 non-null    object \n",
      " 57  Misc Feature     878 non-null    object \n",
      " 58  Misc Val         878 non-null    int64  \n",
      " 59  Mo Sold          878 non-null    int64  \n",
      " 60  Yr Sold          878 non-null    int64  \n",
      " 61  Sale Type        878 non-null    object \n",
      " 62  Bsmt Qual        878 non-null    object \n",
      " 63  Bsmt Cond        878 non-null    object \n",
      " 64  Bsmt Exposure    878 non-null    object \n",
      " 65  BsmtFin Type 1   878 non-null    object \n",
      " 66  BsmtFin SF 1     878 non-null    int64  \n",
      " 67  BsmtFin Type 2   878 non-null    object \n",
      " 68  BsmtFin SF 2     878 non-null    int64  \n",
      " 69  Bsmt Unf SF      878 non-null    int64  \n",
      " 70  Total Bsmt SF    878 non-null    int64  \n",
      " 71  Bsmt Full Bath   878 non-null    int64  \n",
      " 72  Bsmt Half Bath   878 non-null    int64  \n",
      " 73  Garage Type      878 non-null    object \n",
      " 74  Garage Yr Blt    878 non-null    float64\n",
      " 75  Garage Finish    878 non-null    object \n",
      " 76  Garage Cars      878 non-null    int64  \n",
      " 77  Garage Area      878 non-null    int64  \n",
      " 78  Garage Qual      878 non-null    object \n",
      " 79  Garage Cond      878 non-null    object \n",
      "dtypes: float64(3), int64(35), object(42)\n",
      "memory usage: 548.9+ KB\n"
     ]
    }
   ],
   "source": [
    "traindata.info()"
   ]
  },
  {
   "cell_type": "markdown",
   "id": "50e67878",
   "metadata": {},
   "source": [
    "## Exploratory Data Analysis"
   ]
  },
  {
   "cell_type": "code",
   "execution_count": 149,
   "id": "e0451f45",
   "metadata": {},
   "outputs": [
    {
     "data": {
      "text/plain": [
       "(878, 80)"
      ]
     },
     "execution_count": 149,
     "metadata": {},
     "output_type": "execute_result"
    }
   ],
   "source": [
    "traindata.shape"
   ]
  },
  {
   "cell_type": "markdown",
   "id": "ecbbe301",
   "metadata": {},
   "source": [
    "#### Splitting columns into quantitative and qualitative and binary data."
   ]
  },
  {
   "cell_type": "markdown",
   "id": "1a295a6c",
   "metadata": {},
   "source": [
    "To determine correlation coefficient based on Pearson, Spearman correlation coefficient."
   ]
  },
  {
   "cell_type": "markdown",
   "id": "b372443e",
   "metadata": {},
   "source": [
    "###### 1. Quantitative: quant"
   ]
  },
  {
   "cell_type": "code",
   "execution_count": 150,
   "id": "4558f97d",
   "metadata": {},
   "outputs": [
    {
     "data": {
      "text/plain": [
       "Index(['Lot Frontage', 'Mas Vnr Area', 'Garage Yr Blt'], dtype='object')"
      ]
     },
     "execution_count": 150,
     "metadata": {},
     "output_type": "execute_result"
    }
   ],
   "source": [
    "traindata.select_dtypes(include=['float64']).columns"
   ]
  },
  {
   "cell_type": "code",
   "execution_count": 151,
   "id": "76378723",
   "metadata": {},
   "outputs": [],
   "source": [
    "quantdata_tolist = traindata.select_dtypes(include=['float64']).columns.to_list()"
   ]
  },
  {
   "cell_type": "code",
   "execution_count": 152,
   "id": "33b7fee7",
   "metadata": {},
   "outputs": [],
   "source": [
    "quant = traindata[quantdata_tolist]"
   ]
  },
  {
   "cell_type": "markdown",
   "id": "400cd130",
   "metadata": {},
   "source": [
    "###### 2. Qualitative: qual"
   ]
  },
  {
   "cell_type": "code",
   "execution_count": 153,
   "id": "d52c729f",
   "metadata": {},
   "outputs": [],
   "source": [
    "qual_df = traindata.select_dtypes(include=['object'])"
   ]
  },
  {
   "cell_type": "code",
   "execution_count": 154,
   "id": "f27b7e30",
   "metadata": {},
   "outputs": [
    {
     "data": {
      "text/html": [
       "<div>\n",
       "<style scoped>\n",
       "    .dataframe tbody tr th:only-of-type {\n",
       "        vertical-align: middle;\n",
       "    }\n",
       "\n",
       "    .dataframe tbody tr th {\n",
       "        vertical-align: top;\n",
       "    }\n",
       "\n",
       "    .dataframe thead th {\n",
       "        text-align: right;\n",
       "    }\n",
       "</style>\n",
       "<table border=\"1\" class=\"dataframe\">\n",
       "  <thead>\n",
       "    <tr style=\"text-align: right;\">\n",
       "      <th></th>\n",
       "      <th>MS Zoning</th>\n",
       "      <th>Street</th>\n",
       "      <th>Alley</th>\n",
       "      <th>Lot Shape</th>\n",
       "      <th>Land Contour</th>\n",
       "      <th>Utilities</th>\n",
       "      <th>Lot Config</th>\n",
       "      <th>Land Slope</th>\n",
       "      <th>Neighborhood</th>\n",
       "      <th>Condition 1</th>\n",
       "      <th>...</th>\n",
       "      <th>Sale Type</th>\n",
       "      <th>Bsmt Qual</th>\n",
       "      <th>Bsmt Cond</th>\n",
       "      <th>Bsmt Exposure</th>\n",
       "      <th>BsmtFin Type 1</th>\n",
       "      <th>BsmtFin Type 2</th>\n",
       "      <th>Garage Type</th>\n",
       "      <th>Garage Finish</th>\n",
       "      <th>Garage Qual</th>\n",
       "      <th>Garage Cond</th>\n",
       "    </tr>\n",
       "  </thead>\n",
       "  <tbody>\n",
       "    <tr>\n",
       "      <th>0</th>\n",
       "      <td>RM</td>\n",
       "      <td>Pave</td>\n",
       "      <td>Grvl</td>\n",
       "      <td>Reg</td>\n",
       "      <td>Lvl</td>\n",
       "      <td>AllPub</td>\n",
       "      <td>Inside</td>\n",
       "      <td>Gtl</td>\n",
       "      <td>OldTown</td>\n",
       "      <td>Norm</td>\n",
       "      <td>...</td>\n",
       "      <td>WD</td>\n",
       "      <td>Fa</td>\n",
       "      <td>TA</td>\n",
       "      <td>No</td>\n",
       "      <td>Unf</td>\n",
       "      <td>Unf</td>\n",
       "      <td>Detchd</td>\n",
       "      <td>Unf</td>\n",
       "      <td>Po</td>\n",
       "      <td>Po</td>\n",
       "    </tr>\n",
       "    <tr>\n",
       "      <th>1</th>\n",
       "      <td>RL</td>\n",
       "      <td>Pave</td>\n",
       "      <td>NA</td>\n",
       "      <td>IR1</td>\n",
       "      <td>Lvl</td>\n",
       "      <td>AllPub</td>\n",
       "      <td>Inside</td>\n",
       "      <td>Gtl</td>\n",
       "      <td>Sawyer</td>\n",
       "      <td>Norm</td>\n",
       "      <td>...</td>\n",
       "      <td>WD</td>\n",
       "      <td>Gd</td>\n",
       "      <td>TA</td>\n",
       "      <td>No</td>\n",
       "      <td>Unf</td>\n",
       "      <td>Unf</td>\n",
       "      <td>Attchd</td>\n",
       "      <td>Fin</td>\n",
       "      <td>TA</td>\n",
       "      <td>TA</td>\n",
       "    </tr>\n",
       "    <tr>\n",
       "      <th>2</th>\n",
       "      <td>RL</td>\n",
       "      <td>Pave</td>\n",
       "      <td>NA</td>\n",
       "      <td>IR1</td>\n",
       "      <td>Lvl</td>\n",
       "      <td>AllPub</td>\n",
       "      <td>Inside</td>\n",
       "      <td>Gtl</td>\n",
       "      <td>Gilbert</td>\n",
       "      <td>Norm</td>\n",
       "      <td>...</td>\n",
       "      <td>New</td>\n",
       "      <td>Gd</td>\n",
       "      <td>Gd</td>\n",
       "      <td>Av</td>\n",
       "      <td>GLQ</td>\n",
       "      <td>Unf</td>\n",
       "      <td>Attchd</td>\n",
       "      <td>RFn</td>\n",
       "      <td>TA</td>\n",
       "      <td>TA</td>\n",
       "    </tr>\n",
       "  </tbody>\n",
       "</table>\n",
       "<p>3 rows × 42 columns</p>\n",
       "</div>"
      ],
      "text/plain": [
       "  MS Zoning Street Alley Lot Shape Land Contour Utilities Lot Config  \\\n",
       "0        RM   Pave  Grvl       Reg          Lvl    AllPub     Inside   \n",
       "1        RL   Pave    NA       IR1          Lvl    AllPub     Inside   \n",
       "2        RL   Pave    NA       IR1          Lvl    AllPub     Inside   \n",
       "\n",
       "  Land Slope Neighborhood Condition 1  ... Sale Type Bsmt Qual Bsmt Cond  \\\n",
       "0        Gtl      OldTown        Norm  ...       WD         Fa        TA   \n",
       "1        Gtl       Sawyer        Norm  ...       WD         Gd        TA   \n",
       "2        Gtl      Gilbert        Norm  ...       New        Gd        Gd   \n",
       "\n",
       "  Bsmt Exposure BsmtFin Type 1 BsmtFin Type 2 Garage Type Garage Finish  \\\n",
       "0            No            Unf            Unf      Detchd           Unf   \n",
       "1            No            Unf            Unf      Attchd           Fin   \n",
       "2            Av            GLQ            Unf      Attchd           RFn   \n",
       "\n",
       "  Garage Qual Garage Cond  \n",
       "0          Po          Po  \n",
       "1          TA          TA  \n",
       "2          TA          TA  \n",
       "\n",
       "[3 rows x 42 columns]"
      ]
     },
     "execution_count": 154,
     "metadata": {},
     "output_type": "execute_result"
    }
   ],
   "source": [
    "qual_df.head(3)"
   ]
  },
  {
   "cell_type": "code",
   "execution_count": 155,
   "id": "9fba283c",
   "metadata": {},
   "outputs": [],
   "source": [
    "qual_tolist = traindata.select_dtypes(include=['object']).columns.to_list()"
   ]
  },
  {
   "cell_type": "markdown",
   "id": "b2fe4766",
   "metadata": {},
   "source": [
    "### Checking for categorical vs ordinal data"
   ]
  },
  {
   "cell_type": "code",
   "execution_count": 156,
   "id": "f05cbf99",
   "metadata": {
    "scrolled": true
   },
   "outputs": [
    {
     "name": "stdout",
     "output_type": "stream",
     "text": [
      "MS Zoning, ['RM' 'RL' 'FV' 'RH' 'C (all)' 'I (all)']\n",
      "Street, ['Pave' 'Grvl']\n",
      "Alley, ['Grvl' 'NA' 'Pave']\n",
      "Lot Shape, ['Reg' 'IR1' 'IR3' 'IR2']\n",
      "Land Contour, ['Lvl' 'Bnk' 'Low' 'HLS']\n",
      "Utilities, ['AllPub' 'NoSewr']\n",
      "Lot Config, ['Inside' 'CulDSac' 'Corner' 'FR2' 'FR3']\n",
      "Land Slope, ['Gtl' 'Mod' 'Sev']\n",
      "Neighborhood, ['OldTown' 'Sawyer' 'Gilbert' 'NAmes' 'MeadowV' 'CollgCr' 'Somerst'\n",
      " 'Mitchel' 'SawyerW' 'IDOTRR' 'BrkSide' 'Edwards' 'ClearCr' 'NWAmes'\n",
      " 'Timber' 'NoRidge' 'NridgHt' 'Crawfor' 'StoneBr' 'Veenker' 'BrDale'\n",
      " 'SWISU' 'Blmngtn' 'NPkVill' 'Greens' 'Blueste']\n",
      "Condition 1, ['Norm' 'Feedr' 'Artery' 'PosA' 'RRAn' 'RRNn' 'RRAe' 'RRNe' 'PosN']\n",
      "Condition 2, ['Norm' 'Feedr' 'PosA']\n",
      "Bldg Type, ['2fmCon' 'Duplex' '1Fam' 'TwnhsE' 'Twnhs']\n",
      "House Style, ['2Story' '1Story' '1.5Fin' 'SLvl' 'SFoyer' '2.5Fin' '2.5Unf' '1.5Unf']\n",
      "Roof Style, ['Gable' 'Hip' 'Gambrel' 'Flat' 'Mansard' 'Shed']\n",
      "Roof Matl, ['CompShg' 'Metal' 'WdShake' 'Tar&Grv' 'WdShngl' 'Roll']\n",
      "Exterior 1st, ['AsbShng' 'Plywood' 'VinylSd' 'Wd Sdng' 'CemntBd' 'MetalSd' 'HdBoard'\n",
      " 'BrkComm' 'Stucco' 'WdShing' 'BrkFace' 'PreCast' 'AsphShn']\n",
      "Exterior 2nd, ['AsbShng' 'Plywood' 'VinylSd' 'Wd Sdng' 'CmentBd' 'MetalSd' 'BrkFace'\n",
      " 'Stucco' 'HdBoard' 'Wd Shng' 'ImStucc' 'Brk Cmn' 'PreCast' 'CBlock'\n",
      " 'AsphShn' 'Other']\n",
      "Mas Vnr Type, ['None' 'BrkFace' 'Stone' 'BrkCmn' 'CBlock' 'others']\n",
      "Exter Qual, ['TA' 'Gd' 'Fa' 'Ex']\n",
      "Exter Cond, ['Fa' 'TA' 'Gd' 'Ex' 'Po']\n",
      "Foundation, ['Stone' 'CBlock' 'PConc' 'BrkTil' 'Slab' 'Wood']\n",
      "Heating, ['GasA' 'GasW' 'Grav' 'Floor']\n",
      "Heating QC, ['Gd' 'TA' 'Ex' 'Fa']\n",
      "Central Air, ['N' 'Y']\n",
      "Electrical, ['FuseP' 'SBrkr' 'FuseA' 'FuseF' 'NA']\n",
      "Kitchen Qual, ['Fa' 'TA' 'Gd' 'Ex' 'Po']\n",
      "Functional, ['Typ' 'Min2' 'Min1' 'Mod' 'Maj1' 'Maj2']\n",
      "Fireplace Qu, ['NA' 'Gd' 'Fa' 'TA' 'Po' 'Ex']\n",
      "Paved Drive, ['Y' 'N' 'P']\n",
      "Pool QC, ['NA' 'Ex' 'TA']\n",
      "Fence, ['NA' 'MnPrv' 'GdPrv' 'GdWo' 'MnWw']\n",
      "Misc Feature, ['NA' 'Shed' 'Othr' 'Gar2']\n",
      "Sale Type, ['WD ' 'New' 'Con' 'COD' 'VWD' 'CWD' 'ConLD' 'ConLI' 'Oth' 'ConLw']\n",
      "Bsmt Qual, ['Fa' 'Gd' 'TA' 'Ex' 'NA' 'Po']\n",
      "Bsmt Cond, ['TA' 'Gd' 'NA' 'Fa']\n",
      "Bsmt Exposure, ['No' 'Av' 'NA' 'Mn' 'Gd']\n",
      "BsmtFin Type 1, ['Unf' 'GLQ' 'BLQ' 'Rec' 'ALQ' 'NA' 'LwQ']\n",
      "BsmtFin Type 2, ['Unf' 'LwQ' 'NA' 'ALQ' 'GLQ' 'Rec' 'BLQ']\n",
      "Garage Type, ['Detchd' 'Attchd' 'BuiltIn' 'NA' '2Types' 'CarPort' 'Basment']\n",
      "Garage Finish, ['Unf' 'Fin' 'RFn' 'NA']\n",
      "Garage Qual, ['Po' 'TA' 'Fa' 'NA' 'Gd']\n",
      "Garage Cond, ['Po' 'TA' 'NA' 'Fa' 'Gd' 'Ex']\n"
     ]
    }
   ],
   "source": [
    "for i in qual_tolist:\n",
    "    print(f'{i}, {qual_df[i].unique()}')"
   ]
  },
  {
   "cell_type": "code",
   "execution_count": 157,
   "id": "a62ab624",
   "metadata": {},
   "outputs": [],
   "source": [
    "ord_df = qual_df[[\"Exter Qual\", \"Exter Cond\", \"Heating QC\", \"Kitchen Qual\",\n",
    "           \"Fireplace Qu\", \"Pool QC\", \"Bsmt Qual\", \"Bsmt Cond\",\n",
    "           \"Bsmt Exposure\", \"Garage Qual\", \"Garage Cond\"]]"
   ]
  },
  {
   "cell_type": "code",
   "execution_count": 158,
   "id": "4e2c57b4",
   "metadata": {},
   "outputs": [],
   "source": [
    "ord_df_tolist = ord_df.columns.to_list()"
   ]
  },
  {
   "cell_type": "code",
   "execution_count": 159,
   "id": "3f6042ba",
   "metadata": {},
   "outputs": [],
   "source": [
    "qual = qual_df.drop(columns=ord_df_tolist)"
   ]
  },
  {
   "cell_type": "code",
   "execution_count": 160,
   "id": "d94cabc1",
   "metadata": {},
   "outputs": [
    {
     "data": {
      "text/html": [
       "<div>\n",
       "<style scoped>\n",
       "    .dataframe tbody tr th:only-of-type {\n",
       "        vertical-align: middle;\n",
       "    }\n",
       "\n",
       "    .dataframe tbody tr th {\n",
       "        vertical-align: top;\n",
       "    }\n",
       "\n",
       "    .dataframe thead th {\n",
       "        text-align: right;\n",
       "    }\n",
       "</style>\n",
       "<table border=\"1\" class=\"dataframe\">\n",
       "  <thead>\n",
       "    <tr style=\"text-align: right;\">\n",
       "      <th></th>\n",
       "      <th>MS Zoning</th>\n",
       "      <th>Street</th>\n",
       "      <th>Alley</th>\n",
       "      <th>Lot Shape</th>\n",
       "      <th>Land Contour</th>\n",
       "      <th>Utilities</th>\n",
       "      <th>Lot Config</th>\n",
       "      <th>Land Slope</th>\n",
       "      <th>Neighborhood</th>\n",
       "      <th>Condition 1</th>\n",
       "      <th>...</th>\n",
       "      <th>Electrical</th>\n",
       "      <th>Functional</th>\n",
       "      <th>Paved Drive</th>\n",
       "      <th>Fence</th>\n",
       "      <th>Misc Feature</th>\n",
       "      <th>Sale Type</th>\n",
       "      <th>BsmtFin Type 1</th>\n",
       "      <th>BsmtFin Type 2</th>\n",
       "      <th>Garage Type</th>\n",
       "      <th>Garage Finish</th>\n",
       "    </tr>\n",
       "  </thead>\n",
       "  <tbody>\n",
       "    <tr>\n",
       "      <th>0</th>\n",
       "      <td>RM</td>\n",
       "      <td>Pave</td>\n",
       "      <td>Grvl</td>\n",
       "      <td>Reg</td>\n",
       "      <td>Lvl</td>\n",
       "      <td>AllPub</td>\n",
       "      <td>Inside</td>\n",
       "      <td>Gtl</td>\n",
       "      <td>OldTown</td>\n",
       "      <td>Norm</td>\n",
       "      <td>...</td>\n",
       "      <td>FuseP</td>\n",
       "      <td>Typ</td>\n",
       "      <td>Y</td>\n",
       "      <td>NA</td>\n",
       "      <td>NA</td>\n",
       "      <td>WD</td>\n",
       "      <td>Unf</td>\n",
       "      <td>Unf</td>\n",
       "      <td>Detchd</td>\n",
       "      <td>Unf</td>\n",
       "    </tr>\n",
       "    <tr>\n",
       "      <th>1</th>\n",
       "      <td>RL</td>\n",
       "      <td>Pave</td>\n",
       "      <td>NA</td>\n",
       "      <td>IR1</td>\n",
       "      <td>Lvl</td>\n",
       "      <td>AllPub</td>\n",
       "      <td>Inside</td>\n",
       "      <td>Gtl</td>\n",
       "      <td>Sawyer</td>\n",
       "      <td>Norm</td>\n",
       "      <td>...</td>\n",
       "      <td>SBrkr</td>\n",
       "      <td>Typ</td>\n",
       "      <td>Y</td>\n",
       "      <td>NA</td>\n",
       "      <td>NA</td>\n",
       "      <td>WD</td>\n",
       "      <td>Unf</td>\n",
       "      <td>Unf</td>\n",
       "      <td>Attchd</td>\n",
       "      <td>Fin</td>\n",
       "    </tr>\n",
       "    <tr>\n",
       "      <th>2</th>\n",
       "      <td>RL</td>\n",
       "      <td>Pave</td>\n",
       "      <td>NA</td>\n",
       "      <td>IR1</td>\n",
       "      <td>Lvl</td>\n",
       "      <td>AllPub</td>\n",
       "      <td>Inside</td>\n",
       "      <td>Gtl</td>\n",
       "      <td>Gilbert</td>\n",
       "      <td>Norm</td>\n",
       "      <td>...</td>\n",
       "      <td>SBrkr</td>\n",
       "      <td>Typ</td>\n",
       "      <td>Y</td>\n",
       "      <td>NA</td>\n",
       "      <td>NA</td>\n",
       "      <td>New</td>\n",
       "      <td>GLQ</td>\n",
       "      <td>Unf</td>\n",
       "      <td>Attchd</td>\n",
       "      <td>RFn</td>\n",
       "    </tr>\n",
       "  </tbody>\n",
       "</table>\n",
       "<p>3 rows × 31 columns</p>\n",
       "</div>"
      ],
      "text/plain": [
       "  MS Zoning Street Alley Lot Shape Land Contour Utilities Lot Config  \\\n",
       "0        RM   Pave  Grvl       Reg          Lvl    AllPub     Inside   \n",
       "1        RL   Pave    NA       IR1          Lvl    AllPub     Inside   \n",
       "2        RL   Pave    NA       IR1          Lvl    AllPub     Inside   \n",
       "\n",
       "  Land Slope Neighborhood Condition 1  ... Electrical Functional Paved Drive  \\\n",
       "0        Gtl      OldTown        Norm  ...      FuseP        Typ           Y   \n",
       "1        Gtl       Sawyer        Norm  ...      SBrkr        Typ           Y   \n",
       "2        Gtl      Gilbert        Norm  ...      SBrkr        Typ           Y   \n",
       "\n",
       "  Fence Misc Feature Sale Type BsmtFin Type 1 BsmtFin Type 2 Garage Type  \\\n",
       "0    NA           NA       WD             Unf            Unf      Detchd   \n",
       "1    NA           NA       WD             Unf            Unf      Attchd   \n",
       "2    NA           NA       New            GLQ            Unf      Attchd   \n",
       "\n",
       "  Garage Finish  \n",
       "0           Unf  \n",
       "1           Fin  \n",
       "2           RFn  \n",
       "\n",
       "[3 rows x 31 columns]"
      ]
     },
     "execution_count": 160,
     "metadata": {},
     "output_type": "execute_result"
    }
   ],
   "source": [
    "qual.head(3)"
   ]
  },
  {
   "cell_type": "code",
   "execution_count": 161,
   "id": "732ae90b",
   "metadata": {},
   "outputs": [],
   "source": [
    "qual_tolist = qual.columns.to_list()"
   ]
  },
  {
   "cell_type": "markdown",
   "id": "f7c588d8",
   "metadata": {},
   "source": [
    "###### 3. Ordinal Data - Integer: bin_data"
   ]
  },
  {
   "cell_type": "code",
   "execution_count": 162,
   "id": "52370a46",
   "metadata": {},
   "outputs": [
    {
     "data": {
      "text/plain": [
       "Index(['Id', 'PID', 'MS SubClass', 'Lot Area', 'Overall Qual', 'Overall Cond',\n",
       "       'Year Built', 'Year Remod/Add', '1st Flr SF', '2nd Flr SF',\n",
       "       'Low Qual Fin SF', 'Gr Liv Area', 'Full Bath', 'Half Bath',\n",
       "       'Bedroom AbvGr', 'Kitchen AbvGr', 'TotRms AbvGrd', 'Fireplaces',\n",
       "       'Wood Deck SF', 'Open Porch SF', 'Enclosed Porch', '3Ssn Porch',\n",
       "       'Screen Porch', 'Pool Area', 'Misc Val', 'Mo Sold', 'Yr Sold',\n",
       "       'BsmtFin SF 1', 'BsmtFin SF 2', 'Bsmt Unf SF', 'Total Bsmt SF',\n",
       "       'Bsmt Full Bath', 'Bsmt Half Bath', 'Garage Cars', 'Garage Area'],\n",
       "      dtype='object')"
      ]
     },
     "execution_count": 162,
     "metadata": {},
     "output_type": "execute_result"
    }
   ],
   "source": [
    "traindata.select_dtypes(include=['int64']).columns"
   ]
  },
  {
   "cell_type": "code",
   "execution_count": 163,
   "id": "74dbbc6d",
   "metadata": {},
   "outputs": [],
   "source": [
    "intdata_tolist = traindata.select_dtypes(include=['int64']).columns.to_list()"
   ]
  },
  {
   "cell_type": "code",
   "execution_count": 164,
   "id": "01c8729f",
   "metadata": {},
   "outputs": [],
   "source": [
    "allintdata = traindata[intdata_tolist]"
   ]
  },
  {
   "cell_type": "code",
   "execution_count": 165,
   "id": "160d6ce3",
   "metadata": {},
   "outputs": [],
   "source": [
    "bin_data = traindata[['Overall Qual', 'Overall Cond',\n",
    "       'Full Bath', 'Half Bath',\n",
    "       'Bedroom AbvGr', 'Kitchen AbvGr', 'TotRms AbvGrd', 'Fireplaces'\n",
    "        ]]"
   ]
  },
  {
   "cell_type": "code",
   "execution_count": 166,
   "id": "5d34a6cb",
   "metadata": {},
   "outputs": [],
   "source": [
    "ordbin_tolist = bin_data.columns.tolist()"
   ]
  },
  {
   "cell_type": "code",
   "execution_count": 167,
   "id": "97a3ac6b",
   "metadata": {},
   "outputs": [
    {
     "data": {
      "text/html": [
       "<div>\n",
       "<style scoped>\n",
       "    .dataframe tbody tr th:only-of-type {\n",
       "        vertical-align: middle;\n",
       "    }\n",
       "\n",
       "    .dataframe tbody tr th {\n",
       "        vertical-align: top;\n",
       "    }\n",
       "\n",
       "    .dataframe thead th {\n",
       "        text-align: right;\n",
       "    }\n",
       "</style>\n",
       "<table border=\"1\" class=\"dataframe\">\n",
       "  <thead>\n",
       "    <tr style=\"text-align: right;\">\n",
       "      <th></th>\n",
       "      <th>Overall Qual</th>\n",
       "      <th>Overall Cond</th>\n",
       "      <th>Full Bath</th>\n",
       "      <th>Half Bath</th>\n",
       "      <th>Bedroom AbvGr</th>\n",
       "      <th>Kitchen AbvGr</th>\n",
       "      <th>TotRms AbvGrd</th>\n",
       "      <th>Fireplaces</th>\n",
       "    </tr>\n",
       "  </thead>\n",
       "  <tbody>\n",
       "    <tr>\n",
       "      <th>0</th>\n",
       "      <td>6</td>\n",
       "      <td>8</td>\n",
       "      <td>2</td>\n",
       "      <td>0</td>\n",
       "      <td>4</td>\n",
       "      <td>2</td>\n",
       "      <td>9</td>\n",
       "      <td>0</td>\n",
       "    </tr>\n",
       "    <tr>\n",
       "      <th>1</th>\n",
       "      <td>5</td>\n",
       "      <td>4</td>\n",
       "      <td>2</td>\n",
       "      <td>0</td>\n",
       "      <td>6</td>\n",
       "      <td>2</td>\n",
       "      <td>10</td>\n",
       "      <td>0</td>\n",
       "    </tr>\n",
       "    <tr>\n",
       "      <th>2</th>\n",
       "      <td>7</td>\n",
       "      <td>5</td>\n",
       "      <td>2</td>\n",
       "      <td>1</td>\n",
       "      <td>3</td>\n",
       "      <td>1</td>\n",
       "      <td>7</td>\n",
       "      <td>1</td>\n",
       "    </tr>\n",
       "  </tbody>\n",
       "</table>\n",
       "</div>"
      ],
      "text/plain": [
       "   Overall Qual  Overall Cond  Full Bath  Half Bath  Bedroom AbvGr  \\\n",
       "0             6             8          2          0              4   \n",
       "1             5             4          2          0              6   \n",
       "2             7             5          2          1              3   \n",
       "\n",
       "   Kitchen AbvGr  TotRms AbvGrd  Fireplaces  \n",
       "0              2              9           0  \n",
       "1              2             10           0  \n",
       "2              1              7           1  "
      ]
     },
     "execution_count": 167,
     "metadata": {},
     "output_type": "execute_result"
    }
   ],
   "source": [
    "bin_data.head(3)"
   ]
  },
  {
   "cell_type": "markdown",
   "id": "114da4da",
   "metadata": {},
   "source": [
    "###### 4. Int: int_data"
   ]
  },
  {
   "cell_type": "code",
   "execution_count": 168,
   "id": "04045edf",
   "metadata": {},
   "outputs": [],
   "source": [
    "int_data = allintdata.drop(columns=ordbin_tolist)"
   ]
  },
  {
   "cell_type": "code",
   "execution_count": 169,
   "id": "b18f7829",
   "metadata": {},
   "outputs": [
    {
     "data": {
      "text/html": [
       "<div>\n",
       "<style scoped>\n",
       "    .dataframe tbody tr th:only-of-type {\n",
       "        vertical-align: middle;\n",
       "    }\n",
       "\n",
       "    .dataframe tbody tr th {\n",
       "        vertical-align: top;\n",
       "    }\n",
       "\n",
       "    .dataframe thead th {\n",
       "        text-align: right;\n",
       "    }\n",
       "</style>\n",
       "<table border=\"1\" class=\"dataframe\">\n",
       "  <thead>\n",
       "    <tr style=\"text-align: right;\">\n",
       "      <th></th>\n",
       "      <th>Id</th>\n",
       "      <th>PID</th>\n",
       "      <th>MS SubClass</th>\n",
       "      <th>Lot Area</th>\n",
       "      <th>Year Built</th>\n",
       "      <th>Year Remod/Add</th>\n",
       "      <th>1st Flr SF</th>\n",
       "      <th>2nd Flr SF</th>\n",
       "      <th>Low Qual Fin SF</th>\n",
       "      <th>Gr Liv Area</th>\n",
       "      <th>...</th>\n",
       "      <th>Mo Sold</th>\n",
       "      <th>Yr Sold</th>\n",
       "      <th>BsmtFin SF 1</th>\n",
       "      <th>BsmtFin SF 2</th>\n",
       "      <th>Bsmt Unf SF</th>\n",
       "      <th>Total Bsmt SF</th>\n",
       "      <th>Bsmt Full Bath</th>\n",
       "      <th>Bsmt Half Bath</th>\n",
       "      <th>Garage Cars</th>\n",
       "      <th>Garage Area</th>\n",
       "    </tr>\n",
       "  </thead>\n",
       "  <tbody>\n",
       "    <tr>\n",
       "      <th>0</th>\n",
       "      <td>2658</td>\n",
       "      <td>902301120</td>\n",
       "      <td>190</td>\n",
       "      <td>9142</td>\n",
       "      <td>1910</td>\n",
       "      <td>1950</td>\n",
       "      <td>908</td>\n",
       "      <td>1020</td>\n",
       "      <td>0</td>\n",
       "      <td>1928</td>\n",
       "      <td>...</td>\n",
       "      <td>4</td>\n",
       "      <td>2006</td>\n",
       "      <td>0</td>\n",
       "      <td>0</td>\n",
       "      <td>1020</td>\n",
       "      <td>1020</td>\n",
       "      <td>0</td>\n",
       "      <td>0</td>\n",
       "      <td>1</td>\n",
       "      <td>440</td>\n",
       "    </tr>\n",
       "    <tr>\n",
       "      <th>1</th>\n",
       "      <td>2718</td>\n",
       "      <td>905108090</td>\n",
       "      <td>90</td>\n",
       "      <td>9662</td>\n",
       "      <td>1977</td>\n",
       "      <td>1977</td>\n",
       "      <td>1967</td>\n",
       "      <td>0</td>\n",
       "      <td>0</td>\n",
       "      <td>1967</td>\n",
       "      <td>...</td>\n",
       "      <td>8</td>\n",
       "      <td>2006</td>\n",
       "      <td>0</td>\n",
       "      <td>0</td>\n",
       "      <td>1967</td>\n",
       "      <td>1967</td>\n",
       "      <td>0</td>\n",
       "      <td>0</td>\n",
       "      <td>2</td>\n",
       "      <td>580</td>\n",
       "    </tr>\n",
       "    <tr>\n",
       "      <th>2</th>\n",
       "      <td>2414</td>\n",
       "      <td>528218130</td>\n",
       "      <td>60</td>\n",
       "      <td>17104</td>\n",
       "      <td>2006</td>\n",
       "      <td>2006</td>\n",
       "      <td>664</td>\n",
       "      <td>832</td>\n",
       "      <td>0</td>\n",
       "      <td>1496</td>\n",
       "      <td>...</td>\n",
       "      <td>9</td>\n",
       "      <td>2006</td>\n",
       "      <td>554</td>\n",
       "      <td>0</td>\n",
       "      <td>100</td>\n",
       "      <td>654</td>\n",
       "      <td>1</td>\n",
       "      <td>0</td>\n",
       "      <td>2</td>\n",
       "      <td>426</td>\n",
       "    </tr>\n",
       "  </tbody>\n",
       "</table>\n",
       "<p>3 rows × 27 columns</p>\n",
       "</div>"
      ],
      "text/plain": [
       "     Id        PID  MS SubClass  Lot Area  Year Built  Year Remod/Add  \\\n",
       "0  2658  902301120          190      9142        1910            1950   \n",
       "1  2718  905108090           90      9662        1977            1977   \n",
       "2  2414  528218130           60     17104        2006            2006   \n",
       "\n",
       "   1st Flr SF  2nd Flr SF  Low Qual Fin SF  Gr Liv Area  ...  Mo Sold  \\\n",
       "0         908        1020                0         1928  ...        4   \n",
       "1        1967           0                0         1967  ...        8   \n",
       "2         664         832                0         1496  ...        9   \n",
       "\n",
       "   Yr Sold  BsmtFin SF 1  BsmtFin SF 2  Bsmt Unf SF  Total Bsmt SF  \\\n",
       "0     2006             0             0         1020           1020   \n",
       "1     2006             0             0         1967           1967   \n",
       "2     2006           554             0          100            654   \n",
       "\n",
       "   Bsmt Full Bath  Bsmt Half Bath  Garage Cars  Garage Area  \n",
       "0               0               0            1          440  \n",
       "1               0               0            2          580  \n",
       "2               1               0            2          426  \n",
       "\n",
       "[3 rows x 27 columns]"
      ]
     },
     "execution_count": 169,
     "metadata": {},
     "output_type": "execute_result"
    }
   ],
   "source": [
    "int_data.head(3)"
   ]
  },
  {
   "cell_type": "markdown",
   "id": "e5b2ca8a",
   "metadata": {},
   "source": [
    "###### 5. Ordinal Data - Object: ord_df"
   ]
  },
  {
   "cell_type": "code",
   "execution_count": 170,
   "id": "a1b39b62",
   "metadata": {},
   "outputs": [
    {
     "data": {
      "text/html": [
       "<div>\n",
       "<style scoped>\n",
       "    .dataframe tbody tr th:only-of-type {\n",
       "        vertical-align: middle;\n",
       "    }\n",
       "\n",
       "    .dataframe tbody tr th {\n",
       "        vertical-align: top;\n",
       "    }\n",
       "\n",
       "    .dataframe thead th {\n",
       "        text-align: right;\n",
       "    }\n",
       "</style>\n",
       "<table border=\"1\" class=\"dataframe\">\n",
       "  <thead>\n",
       "    <tr style=\"text-align: right;\">\n",
       "      <th></th>\n",
       "      <th>Exter Qual</th>\n",
       "      <th>Exter Cond</th>\n",
       "      <th>Heating QC</th>\n",
       "      <th>Kitchen Qual</th>\n",
       "      <th>Fireplace Qu</th>\n",
       "      <th>Pool QC</th>\n",
       "      <th>Bsmt Qual</th>\n",
       "      <th>Bsmt Cond</th>\n",
       "      <th>Bsmt Exposure</th>\n",
       "      <th>Garage Qual</th>\n",
       "      <th>Garage Cond</th>\n",
       "    </tr>\n",
       "  </thead>\n",
       "  <tbody>\n",
       "    <tr>\n",
       "      <th>0</th>\n",
       "      <td>TA</td>\n",
       "      <td>Fa</td>\n",
       "      <td>Gd</td>\n",
       "      <td>Fa</td>\n",
       "      <td>NA</td>\n",
       "      <td>NA</td>\n",
       "      <td>Fa</td>\n",
       "      <td>TA</td>\n",
       "      <td>No</td>\n",
       "      <td>Po</td>\n",
       "      <td>Po</td>\n",
       "    </tr>\n",
       "    <tr>\n",
       "      <th>1</th>\n",
       "      <td>TA</td>\n",
       "      <td>TA</td>\n",
       "      <td>TA</td>\n",
       "      <td>TA</td>\n",
       "      <td>NA</td>\n",
       "      <td>NA</td>\n",
       "      <td>Gd</td>\n",
       "      <td>TA</td>\n",
       "      <td>No</td>\n",
       "      <td>TA</td>\n",
       "      <td>TA</td>\n",
       "    </tr>\n",
       "    <tr>\n",
       "      <th>2</th>\n",
       "      <td>Gd</td>\n",
       "      <td>TA</td>\n",
       "      <td>Ex</td>\n",
       "      <td>Gd</td>\n",
       "      <td>Gd</td>\n",
       "      <td>NA</td>\n",
       "      <td>Gd</td>\n",
       "      <td>Gd</td>\n",
       "      <td>Av</td>\n",
       "      <td>TA</td>\n",
       "      <td>TA</td>\n",
       "    </tr>\n",
       "  </tbody>\n",
       "</table>\n",
       "</div>"
      ],
      "text/plain": [
       "  Exter Qual Exter Cond Heating QC Kitchen Qual Fireplace Qu Pool QC  \\\n",
       "0         TA         Fa         Gd           Fa           NA      NA   \n",
       "1         TA         TA         TA           TA           NA      NA   \n",
       "2         Gd         TA         Ex           Gd           Gd      NA   \n",
       "\n",
       "  Bsmt Qual Bsmt Cond Bsmt Exposure Garage Qual Garage Cond  \n",
       "0        Fa        TA            No          Po          Po  \n",
       "1        Gd        TA            No          TA          TA  \n",
       "2        Gd        Gd            Av          TA          TA  "
      ]
     },
     "execution_count": 170,
     "metadata": {},
     "output_type": "execute_result"
    }
   ],
   "source": [
    "ord_df.head(3)"
   ]
  },
  {
   "cell_type": "code",
   "execution_count": 171,
   "id": "3b5e6c95",
   "metadata": {},
   "outputs": [
    {
     "data": {
      "text/plain": [
       "(878, 11)"
      ]
     },
     "execution_count": 171,
     "metadata": {},
     "output_type": "execute_result"
    }
   ],
   "source": [
    "ord_df.shape"
   ]
  },
  {
   "cell_type": "markdown",
   "id": "7fef7450",
   "metadata": {},
   "source": [
    "##### Ensuring that no data was missed out."
   ]
  },
  {
   "cell_type": "code",
   "execution_count": 172,
   "id": "f47aa792",
   "metadata": {},
   "outputs": [
    {
     "data": {
      "text/plain": [
       "(878, 3)"
      ]
     },
     "execution_count": 172,
     "metadata": {},
     "output_type": "execute_result"
    }
   ],
   "source": [
    "quant.shape"
   ]
  },
  {
   "cell_type": "code",
   "execution_count": 173,
   "id": "e194bb5f",
   "metadata": {},
   "outputs": [
    {
     "data": {
      "text/plain": [
       "(878, 31)"
      ]
     },
     "execution_count": 173,
     "metadata": {},
     "output_type": "execute_result"
    }
   ],
   "source": [
    "qual.shape"
   ]
  },
  {
   "cell_type": "code",
   "execution_count": 174,
   "id": "69a88b90",
   "metadata": {},
   "outputs": [
    {
     "data": {
      "text/plain": [
       "(878, 27)"
      ]
     },
     "execution_count": 174,
     "metadata": {},
     "output_type": "execute_result"
    }
   ],
   "source": [
    "int_data.shape"
   ]
  },
  {
   "cell_type": "code",
   "execution_count": 175,
   "id": "de5e702c",
   "metadata": {},
   "outputs": [
    {
     "data": {
      "text/plain": [
       "(878, 8)"
      ]
     },
     "execution_count": 175,
     "metadata": {},
     "output_type": "execute_result"
    }
   ],
   "source": [
    "bin_data.shape"
   ]
  },
  {
   "cell_type": "code",
   "execution_count": 176,
   "id": "01ec68cc",
   "metadata": {},
   "outputs": [
    {
     "data": {
      "text/plain": [
       "(878, 11)"
      ]
     },
     "execution_count": 176,
     "metadata": {},
     "output_type": "execute_result"
    }
   ],
   "source": [
    "ord_df.shape"
   ]
  },
  {
   "cell_type": "markdown",
   "id": "d8573a4f",
   "metadata": {},
   "source": [
    "Columns adds up correctly to 80 for test data. (without saleprice)"
   ]
  },
  {
   "cell_type": "markdown",
   "id": "c68d95ae",
   "metadata": {},
   "source": [
    "## Encoding"
   ]
  },
  {
   "cell_type": "markdown",
   "id": "edd6a5ae",
   "metadata": {},
   "source": [
    "###### Categorical dataframe - One hot encoding"
   ]
  },
  {
   "cell_type": "markdown",
   "id": "8aef2917",
   "metadata": {},
   "source": [
    "###### Pre-encoding check"
   ]
  },
  {
   "cell_type": "code",
   "execution_count": 177,
   "id": "8f399e3e",
   "metadata": {},
   "outputs": [
    {
     "data": {
      "text/plain": [
       "(878, 31)"
      ]
     },
     "execution_count": 177,
     "metadata": {},
     "output_type": "execute_result"
    }
   ],
   "source": [
    "qual.shape"
   ]
  },
  {
   "cell_type": "code",
   "execution_count": 178,
   "id": "cd386ac6",
   "metadata": {},
   "outputs": [
    {
     "data": {
      "text/plain": [
       "Index(['MS Zoning', 'Street', 'Alley', 'Lot Shape', 'Land Contour',\n",
       "       'Utilities', 'Lot Config', 'Land Slope', 'Neighborhood', 'Condition 1',\n",
       "       'Condition 2', 'Bldg Type', 'House Style', 'Roof Style', 'Roof Matl',\n",
       "       'Exterior 1st', 'Exterior 2nd', 'Mas Vnr Type', 'Foundation', 'Heating',\n",
       "       'Central Air', 'Electrical', 'Functional', 'Paved Drive', 'Fence',\n",
       "       'Misc Feature', 'Sale Type', 'BsmtFin Type 1', 'BsmtFin Type 2',\n",
       "       'Garage Type', 'Garage Finish'],\n",
       "      dtype='object')"
      ]
     },
     "execution_count": 178,
     "metadata": {},
     "output_type": "execute_result"
    }
   ],
   "source": [
    "qual.columns"
   ]
  },
  {
   "cell_type": "markdown",
   "id": "96fbef1e",
   "metadata": {},
   "source": [
    "###### One hot encoding"
   ]
  },
  {
   "cell_type": "code",
   "execution_count": 179,
   "id": "1e3d5e83",
   "metadata": {},
   "outputs": [],
   "source": [
    "qual1 = pd.get_dummies(qual, drop_first=True)"
   ]
  },
  {
   "cell_type": "code",
   "execution_count": 180,
   "id": "f4788220",
   "metadata": {},
   "outputs": [
    {
     "data": {
      "text/html": [
       "<div>\n",
       "<style scoped>\n",
       "    .dataframe tbody tr th:only-of-type {\n",
       "        vertical-align: middle;\n",
       "    }\n",
       "\n",
       "    .dataframe tbody tr th {\n",
       "        vertical-align: top;\n",
       "    }\n",
       "\n",
       "    .dataframe thead th {\n",
       "        text-align: right;\n",
       "    }\n",
       "</style>\n",
       "<table border=\"1\" class=\"dataframe\">\n",
       "  <thead>\n",
       "    <tr style=\"text-align: right;\">\n",
       "      <th></th>\n",
       "      <th>MS Zoning_FV</th>\n",
       "      <th>MS Zoning_I (all)</th>\n",
       "      <th>MS Zoning_RH</th>\n",
       "      <th>MS Zoning_RL</th>\n",
       "      <th>MS Zoning_RM</th>\n",
       "      <th>Street_Pave</th>\n",
       "      <th>Alley_NA</th>\n",
       "      <th>Alley_Pave</th>\n",
       "      <th>Lot Shape_IR2</th>\n",
       "      <th>Lot Shape_IR3</th>\n",
       "      <th>...</th>\n",
       "      <th>BsmtFin Type 2_Unf</th>\n",
       "      <th>Garage Type_Attchd</th>\n",
       "      <th>Garage Type_Basment</th>\n",
       "      <th>Garage Type_BuiltIn</th>\n",
       "      <th>Garage Type_CarPort</th>\n",
       "      <th>Garage Type_Detchd</th>\n",
       "      <th>Garage Type_NA</th>\n",
       "      <th>Garage Finish_NA</th>\n",
       "      <th>Garage Finish_RFn</th>\n",
       "      <th>Garage Finish_Unf</th>\n",
       "    </tr>\n",
       "  </thead>\n",
       "  <tbody>\n",
       "    <tr>\n",
       "      <th>0</th>\n",
       "      <td>0</td>\n",
       "      <td>0</td>\n",
       "      <td>0</td>\n",
       "      <td>0</td>\n",
       "      <td>1</td>\n",
       "      <td>1</td>\n",
       "      <td>0</td>\n",
       "      <td>0</td>\n",
       "      <td>0</td>\n",
       "      <td>0</td>\n",
       "      <td>...</td>\n",
       "      <td>1</td>\n",
       "      <td>0</td>\n",
       "      <td>0</td>\n",
       "      <td>0</td>\n",
       "      <td>0</td>\n",
       "      <td>1</td>\n",
       "      <td>0</td>\n",
       "      <td>0</td>\n",
       "      <td>0</td>\n",
       "      <td>1</td>\n",
       "    </tr>\n",
       "    <tr>\n",
       "      <th>1</th>\n",
       "      <td>0</td>\n",
       "      <td>0</td>\n",
       "      <td>0</td>\n",
       "      <td>1</td>\n",
       "      <td>0</td>\n",
       "      <td>1</td>\n",
       "      <td>1</td>\n",
       "      <td>0</td>\n",
       "      <td>0</td>\n",
       "      <td>0</td>\n",
       "      <td>...</td>\n",
       "      <td>1</td>\n",
       "      <td>1</td>\n",
       "      <td>0</td>\n",
       "      <td>0</td>\n",
       "      <td>0</td>\n",
       "      <td>0</td>\n",
       "      <td>0</td>\n",
       "      <td>0</td>\n",
       "      <td>0</td>\n",
       "      <td>0</td>\n",
       "    </tr>\n",
       "    <tr>\n",
       "      <th>2</th>\n",
       "      <td>0</td>\n",
       "      <td>0</td>\n",
       "      <td>0</td>\n",
       "      <td>1</td>\n",
       "      <td>0</td>\n",
       "      <td>1</td>\n",
       "      <td>1</td>\n",
       "      <td>0</td>\n",
       "      <td>0</td>\n",
       "      <td>0</td>\n",
       "      <td>...</td>\n",
       "      <td>1</td>\n",
       "      <td>1</td>\n",
       "      <td>0</td>\n",
       "      <td>0</td>\n",
       "      <td>0</td>\n",
       "      <td>0</td>\n",
       "      <td>0</td>\n",
       "      <td>0</td>\n",
       "      <td>1</td>\n",
       "      <td>0</td>\n",
       "    </tr>\n",
       "  </tbody>\n",
       "</table>\n",
       "<p>3 rows × 166 columns</p>\n",
       "</div>"
      ],
      "text/plain": [
       "   MS Zoning_FV  MS Zoning_I (all)  MS Zoning_RH  MS Zoning_RL  MS Zoning_RM  \\\n",
       "0             0                  0             0             0             1   \n",
       "1             0                  0             0             1             0   \n",
       "2             0                  0             0             1             0   \n",
       "\n",
       "   Street_Pave  Alley_NA  Alley_Pave  Lot Shape_IR2  Lot Shape_IR3  ...  \\\n",
       "0            1         0           0              0              0  ...   \n",
       "1            1         1           0              0              0  ...   \n",
       "2            1         1           0              0              0  ...   \n",
       "\n",
       "   BsmtFin Type 2_Unf  Garage Type_Attchd  Garage Type_Basment  \\\n",
       "0                   1                   0                    0   \n",
       "1                   1                   1                    0   \n",
       "2                   1                   1                    0   \n",
       "\n",
       "   Garage Type_BuiltIn  Garage Type_CarPort  Garage Type_Detchd  \\\n",
       "0                    0                    0                   1   \n",
       "1                    0                    0                   0   \n",
       "2                    0                    0                   0   \n",
       "\n",
       "   Garage Type_NA  Garage Finish_NA  Garage Finish_RFn  Garage Finish_Unf  \n",
       "0               0                 0                  0                  1  \n",
       "1               0                 0                  0                  0  \n",
       "2               0                 0                  1                  0  \n",
       "\n",
       "[3 rows x 166 columns]"
      ]
     },
     "execution_count": 180,
     "metadata": {},
     "output_type": "execute_result"
    }
   ],
   "source": [
    "qual1.head(3)"
   ]
  },
  {
   "cell_type": "markdown",
   "id": "323ea02b",
   "metadata": {},
   "source": [
    "###### Post encoding check"
   ]
  },
  {
   "cell_type": "code",
   "execution_count": 181,
   "id": "171d11fe",
   "metadata": {},
   "outputs": [
    {
     "data": {
      "text/plain": [
       "(878, 166)"
      ]
     },
     "execution_count": 181,
     "metadata": {},
     "output_type": "execute_result"
    }
   ],
   "source": [
    "qual1.shape"
   ]
  },
  {
   "cell_type": "code",
   "execution_count": 182,
   "id": "5c8e919c",
   "metadata": {},
   "outputs": [
    {
     "data": {
      "text/plain": [
       "Index(['MS Zoning_FV', 'MS Zoning_I (all)', 'MS Zoning_RH', 'MS Zoning_RL',\n",
       "       'MS Zoning_RM', 'Street_Pave', 'Alley_NA', 'Alley_Pave',\n",
       "       'Lot Shape_IR2', 'Lot Shape_IR3',\n",
       "       ...\n",
       "       'BsmtFin Type 2_Unf', 'Garage Type_Attchd', 'Garage Type_Basment',\n",
       "       'Garage Type_BuiltIn', 'Garage Type_CarPort', 'Garage Type_Detchd',\n",
       "       'Garage Type_NA', 'Garage Finish_NA', 'Garage Finish_RFn',\n",
       "       'Garage Finish_Unf'],\n",
       "      dtype='object', length=166)"
      ]
     },
     "execution_count": 182,
     "metadata": {},
     "output_type": "execute_result"
    }
   ],
   "source": [
    "qual1.columns"
   ]
  },
  {
   "cell_type": "code",
   "execution_count": 183,
   "id": "988d0319",
   "metadata": {},
   "outputs": [],
   "source": [
    "qual1_tolist = qual1.columns.to_list()"
   ]
  },
  {
   "cell_type": "markdown",
   "id": "2701bc21",
   "metadata": {},
   "source": [
    "###### Ordinal dataframe - Ordinal encoding"
   ]
  },
  {
   "cell_type": "code",
   "execution_count": 184,
   "id": "0c969b29",
   "metadata": {},
   "outputs": [
    {
     "name": "stdout",
     "output_type": "stream",
     "text": [
      "Exter Qual, ['TA' 'Gd' 'Fa' 'Ex']\n",
      "Exter Cond, ['Fa' 'TA' 'Gd' 'Ex' 'Po']\n",
      "Heating QC, ['Gd' 'TA' 'Ex' 'Fa']\n",
      "Kitchen Qual, ['Fa' 'TA' 'Gd' 'Ex' 'Po']\n",
      "Fireplace Qu, ['NA' 'Gd' 'Fa' 'TA' 'Po' 'Ex']\n",
      "Pool QC, ['NA' 'Ex' 'TA']\n",
      "Bsmt Qual, ['Fa' 'Gd' 'TA' 'Ex' 'NA' 'Po']\n",
      "Bsmt Cond, ['TA' 'Gd' 'NA' 'Fa']\n",
      "Bsmt Exposure, ['No' 'Av' 'NA' 'Mn' 'Gd']\n",
      "Garage Qual, ['Po' 'TA' 'Fa' 'NA' 'Gd']\n",
      "Garage Cond, ['Po' 'TA' 'NA' 'Fa' 'Gd' 'Ex']\n"
     ]
    }
   ],
   "source": [
    "for j in ord_df_tolist:\n",
    "    print(f'{j}, {ord_df[j].unique()}')"
   ]
  },
  {
   "cell_type": "code",
   "execution_count": 185,
   "id": "f278ee99",
   "metadata": {},
   "outputs": [],
   "source": [
    "qual_dict = { 'NA': 0,\n",
    "              'Po': 1,\n",
    "              'Fa': 2,\n",
    "              'TA': 3,\n",
    "              'Gd': 4,\n",
    "              'Ex': 5}"
   ]
  },
  {
   "cell_type": "code",
   "execution_count": 186,
   "id": "53c39a21",
   "metadata": {},
   "outputs": [],
   "source": [
    "bsmtex_dict = { 'NA': 0,\n",
    "              'No': 1,\n",
    "              'Mn': 2,\n",
    "              'Av': 3,\n",
    "              'Gd': 4}"
   ]
  },
  {
   "cell_type": "markdown",
   "id": "5ed17a99",
   "metadata": {},
   "source": [
    "###### 1. Bsmt Exposure"
   ]
  },
  {
   "cell_type": "code",
   "execution_count": 187,
   "id": "f8281af8",
   "metadata": {},
   "outputs": [],
   "source": [
    "ord_df['Bsmt Exposure_ord'] = ord_df['Bsmt Exposure'].map(bsmtex_dict)\n",
    "ord_df = ord_df.drop(columns=['Bsmt Exposure'])"
   ]
  },
  {
   "cell_type": "code",
   "execution_count": 188,
   "id": "82880741",
   "metadata": {},
   "outputs": [
    {
     "data": {
      "text/html": [
       "<div>\n",
       "<style scoped>\n",
       "    .dataframe tbody tr th:only-of-type {\n",
       "        vertical-align: middle;\n",
       "    }\n",
       "\n",
       "    .dataframe tbody tr th {\n",
       "        vertical-align: top;\n",
       "    }\n",
       "\n",
       "    .dataframe thead th {\n",
       "        text-align: right;\n",
       "    }\n",
       "</style>\n",
       "<table border=\"1\" class=\"dataframe\">\n",
       "  <thead>\n",
       "    <tr style=\"text-align: right;\">\n",
       "      <th></th>\n",
       "      <th>Exter Qual</th>\n",
       "      <th>Exter Cond</th>\n",
       "      <th>Heating QC</th>\n",
       "      <th>Kitchen Qual</th>\n",
       "      <th>Fireplace Qu</th>\n",
       "      <th>Pool QC</th>\n",
       "      <th>Bsmt Qual</th>\n",
       "      <th>Bsmt Cond</th>\n",
       "      <th>Garage Qual</th>\n",
       "      <th>Garage Cond</th>\n",
       "      <th>Bsmt Exposure_ord</th>\n",
       "    </tr>\n",
       "  </thead>\n",
       "  <tbody>\n",
       "    <tr>\n",
       "      <th>0</th>\n",
       "      <td>TA</td>\n",
       "      <td>Fa</td>\n",
       "      <td>Gd</td>\n",
       "      <td>Fa</td>\n",
       "      <td>NA</td>\n",
       "      <td>NA</td>\n",
       "      <td>Fa</td>\n",
       "      <td>TA</td>\n",
       "      <td>Po</td>\n",
       "      <td>Po</td>\n",
       "      <td>1</td>\n",
       "    </tr>\n",
       "    <tr>\n",
       "      <th>1</th>\n",
       "      <td>TA</td>\n",
       "      <td>TA</td>\n",
       "      <td>TA</td>\n",
       "      <td>TA</td>\n",
       "      <td>NA</td>\n",
       "      <td>NA</td>\n",
       "      <td>Gd</td>\n",
       "      <td>TA</td>\n",
       "      <td>TA</td>\n",
       "      <td>TA</td>\n",
       "      <td>1</td>\n",
       "    </tr>\n",
       "    <tr>\n",
       "      <th>2</th>\n",
       "      <td>Gd</td>\n",
       "      <td>TA</td>\n",
       "      <td>Ex</td>\n",
       "      <td>Gd</td>\n",
       "      <td>Gd</td>\n",
       "      <td>NA</td>\n",
       "      <td>Gd</td>\n",
       "      <td>Gd</td>\n",
       "      <td>TA</td>\n",
       "      <td>TA</td>\n",
       "      <td>3</td>\n",
       "    </tr>\n",
       "  </tbody>\n",
       "</table>\n",
       "</div>"
      ],
      "text/plain": [
       "  Exter Qual Exter Cond Heating QC Kitchen Qual Fireplace Qu Pool QC  \\\n",
       "0         TA         Fa         Gd           Fa           NA      NA   \n",
       "1         TA         TA         TA           TA           NA      NA   \n",
       "2         Gd         TA         Ex           Gd           Gd      NA   \n",
       "\n",
       "  Bsmt Qual Bsmt Cond Garage Qual Garage Cond  Bsmt Exposure_ord  \n",
       "0        Fa        TA          Po          Po                  1  \n",
       "1        Gd        TA          TA          TA                  1  \n",
       "2        Gd        Gd          TA          TA                  3  "
      ]
     },
     "execution_count": 188,
     "metadata": {},
     "output_type": "execute_result"
    }
   ],
   "source": [
    "ord_df.head(3)"
   ]
  },
  {
   "cell_type": "code",
   "execution_count": 189,
   "id": "e5b93f34",
   "metadata": {},
   "outputs": [
    {
     "data": {
      "text/plain": [
       "(878, 11)"
      ]
     },
     "execution_count": 189,
     "metadata": {},
     "output_type": "execute_result"
    }
   ],
   "source": [
    "ord_df.shape"
   ]
  },
  {
   "cell_type": "markdown",
   "id": "02f26609",
   "metadata": {},
   "source": [
    "###### 2. Others except Bsmt Exposure"
   ]
  },
  {
   "cell_type": "code",
   "execution_count": 190,
   "id": "cfb9136e",
   "metadata": {},
   "outputs": [],
   "source": [
    "ord_df_tolist2 = ['Exter Qual',\n",
    " 'Exter Cond',\n",
    " 'Heating QC',\n",
    " 'Kitchen Qual',\n",
    " 'Fireplace Qu',\n",
    " 'Pool QC',\n",
    " 'Bsmt Qual',\n",
    " 'Bsmt Cond',\n",
    " 'Garage Qual',\n",
    " 'Garage Cond']"
   ]
  },
  {
   "cell_type": "code",
   "execution_count": 191,
   "id": "5bd8fbe8",
   "metadata": {},
   "outputs": [],
   "source": [
    "ord_df2 = ord_df.drop(columns = ['Bsmt Exposure_ord'])"
   ]
  },
  {
   "cell_type": "code",
   "execution_count": 192,
   "id": "9d291250",
   "metadata": {},
   "outputs": [],
   "source": [
    "for k in ord_df_tolist2:\n",
    "    ord_df[k+\"_ord\"] = ord_df2[k].map(qual_dict)\n",
    "    ord_df = ord_df.drop(columns=[k])"
   ]
  },
  {
   "cell_type": "code",
   "execution_count": 193,
   "id": "586d19f2",
   "metadata": {},
   "outputs": [],
   "source": [
    "ord_encode = ord_df"
   ]
  },
  {
   "cell_type": "code",
   "execution_count": 194,
   "id": "4e828397",
   "metadata": {},
   "outputs": [
    {
     "data": {
      "text/plain": [
       "(878, 11)"
      ]
     },
     "execution_count": 194,
     "metadata": {},
     "output_type": "execute_result"
    }
   ],
   "source": [
    "ord_encode.shape"
   ]
  },
  {
   "cell_type": "markdown",
   "id": "48714561",
   "metadata": {},
   "source": [
    "ord_encode shape matches"
   ]
  },
  {
   "cell_type": "code",
   "execution_count": 195,
   "id": "582d22ff",
   "metadata": {},
   "outputs": [
    {
     "data": {
      "text/html": [
       "<div>\n",
       "<style scoped>\n",
       "    .dataframe tbody tr th:only-of-type {\n",
       "        vertical-align: middle;\n",
       "    }\n",
       "\n",
       "    .dataframe tbody tr th {\n",
       "        vertical-align: top;\n",
       "    }\n",
       "\n",
       "    .dataframe thead th {\n",
       "        text-align: right;\n",
       "    }\n",
       "</style>\n",
       "<table border=\"1\" class=\"dataframe\">\n",
       "  <thead>\n",
       "    <tr style=\"text-align: right;\">\n",
       "      <th></th>\n",
       "      <th>Bsmt Exposure_ord</th>\n",
       "      <th>Exter Qual_ord</th>\n",
       "      <th>Exter Cond_ord</th>\n",
       "      <th>Heating QC_ord</th>\n",
       "      <th>Kitchen Qual_ord</th>\n",
       "      <th>Fireplace Qu_ord</th>\n",
       "      <th>Pool QC_ord</th>\n",
       "      <th>Bsmt Qual_ord</th>\n",
       "      <th>Bsmt Cond_ord</th>\n",
       "      <th>Garage Qual_ord</th>\n",
       "      <th>Garage Cond_ord</th>\n",
       "    </tr>\n",
       "  </thead>\n",
       "  <tbody>\n",
       "    <tr>\n",
       "      <th>0</th>\n",
       "      <td>1</td>\n",
       "      <td>3</td>\n",
       "      <td>2</td>\n",
       "      <td>4</td>\n",
       "      <td>2</td>\n",
       "      <td>0</td>\n",
       "      <td>0</td>\n",
       "      <td>2</td>\n",
       "      <td>3</td>\n",
       "      <td>1</td>\n",
       "      <td>1</td>\n",
       "    </tr>\n",
       "    <tr>\n",
       "      <th>1</th>\n",
       "      <td>1</td>\n",
       "      <td>3</td>\n",
       "      <td>3</td>\n",
       "      <td>3</td>\n",
       "      <td>3</td>\n",
       "      <td>0</td>\n",
       "      <td>0</td>\n",
       "      <td>4</td>\n",
       "      <td>3</td>\n",
       "      <td>3</td>\n",
       "      <td>3</td>\n",
       "    </tr>\n",
       "    <tr>\n",
       "      <th>2</th>\n",
       "      <td>3</td>\n",
       "      <td>4</td>\n",
       "      <td>3</td>\n",
       "      <td>5</td>\n",
       "      <td>4</td>\n",
       "      <td>4</td>\n",
       "      <td>0</td>\n",
       "      <td>4</td>\n",
       "      <td>4</td>\n",
       "      <td>3</td>\n",
       "      <td>3</td>\n",
       "    </tr>\n",
       "  </tbody>\n",
       "</table>\n",
       "</div>"
      ],
      "text/plain": [
       "   Bsmt Exposure_ord  Exter Qual_ord  Exter Cond_ord  Heating QC_ord  \\\n",
       "0                  1               3               2               4   \n",
       "1                  1               3               3               3   \n",
       "2                  3               4               3               5   \n",
       "\n",
       "   Kitchen Qual_ord  Fireplace Qu_ord  Pool QC_ord  Bsmt Qual_ord  \\\n",
       "0                 2                 0            0              2   \n",
       "1                 3                 0            0              4   \n",
       "2                 4                 4            0              4   \n",
       "\n",
       "   Bsmt Cond_ord  Garage Qual_ord  Garage Cond_ord  \n",
       "0              3                1                1  \n",
       "1              3                3                3  \n",
       "2              4                3                3  "
      ]
     },
     "execution_count": 195,
     "metadata": {},
     "output_type": "execute_result"
    }
   ],
   "source": [
    "ord_encode.head(3)"
   ]
  },
  {
   "cell_type": "code",
   "execution_count": 196,
   "id": "30e58223",
   "metadata": {},
   "outputs": [],
   "source": [
    "ord_encode_tolist = ord_encode.columns.to_list()"
   ]
  },
  {
   "cell_type": "markdown",
   "id": "aae1f456",
   "metadata": {},
   "source": [
    "# Merging data back to train_data"
   ]
  },
  {
   "cell_type": "markdown",
   "id": "923e86e7",
   "metadata": {},
   "source": [
    "#### 1. Dropping and Merging one hot encoded data: qual1"
   ]
  },
  {
   "cell_type": "code",
   "execution_count": 197,
   "id": "6cf06b3b",
   "metadata": {},
   "outputs": [],
   "source": [
    "traindata_mod = traindata.drop(columns=qual_tolist)"
   ]
  },
  {
   "cell_type": "code",
   "execution_count": 198,
   "id": "09a5d5f6",
   "metadata": {},
   "outputs": [],
   "source": [
    "traindata_mod = traindata_mod.merge(qual1, left_index=True, right_index=True)"
   ]
  },
  {
   "cell_type": "code",
   "execution_count": 199,
   "id": "0ef6eb44",
   "metadata": {},
   "outputs": [
    {
     "data": {
      "text/html": [
       "<div>\n",
       "<style scoped>\n",
       "    .dataframe tbody tr th:only-of-type {\n",
       "        vertical-align: middle;\n",
       "    }\n",
       "\n",
       "    .dataframe tbody tr th {\n",
       "        vertical-align: top;\n",
       "    }\n",
       "\n",
       "    .dataframe thead th {\n",
       "        text-align: right;\n",
       "    }\n",
       "</style>\n",
       "<table border=\"1\" class=\"dataframe\">\n",
       "  <thead>\n",
       "    <tr style=\"text-align: right;\">\n",
       "      <th></th>\n",
       "      <th>Id</th>\n",
       "      <th>PID</th>\n",
       "      <th>MS SubClass</th>\n",
       "      <th>Lot Frontage</th>\n",
       "      <th>Lot Area</th>\n",
       "      <th>Overall Qual</th>\n",
       "      <th>Overall Cond</th>\n",
       "      <th>Year Built</th>\n",
       "      <th>Year Remod/Add</th>\n",
       "      <th>Mas Vnr Area</th>\n",
       "      <th>...</th>\n",
       "      <th>BsmtFin Type 2_Unf</th>\n",
       "      <th>Garage Type_Attchd</th>\n",
       "      <th>Garage Type_Basment</th>\n",
       "      <th>Garage Type_BuiltIn</th>\n",
       "      <th>Garage Type_CarPort</th>\n",
       "      <th>Garage Type_Detchd</th>\n",
       "      <th>Garage Type_NA</th>\n",
       "      <th>Garage Finish_NA</th>\n",
       "      <th>Garage Finish_RFn</th>\n",
       "      <th>Garage Finish_Unf</th>\n",
       "    </tr>\n",
       "  </thead>\n",
       "  <tbody>\n",
       "    <tr>\n",
       "      <th>0</th>\n",
       "      <td>2658</td>\n",
       "      <td>902301120</td>\n",
       "      <td>190</td>\n",
       "      <td>69.0</td>\n",
       "      <td>9142</td>\n",
       "      <td>6</td>\n",
       "      <td>8</td>\n",
       "      <td>1910</td>\n",
       "      <td>1950</td>\n",
       "      <td>0.0</td>\n",
       "      <td>...</td>\n",
       "      <td>1</td>\n",
       "      <td>0</td>\n",
       "      <td>0</td>\n",
       "      <td>0</td>\n",
       "      <td>0</td>\n",
       "      <td>1</td>\n",
       "      <td>0</td>\n",
       "      <td>0</td>\n",
       "      <td>0</td>\n",
       "      <td>1</td>\n",
       "    </tr>\n",
       "    <tr>\n",
       "      <th>1</th>\n",
       "      <td>2718</td>\n",
       "      <td>905108090</td>\n",
       "      <td>90</td>\n",
       "      <td>0.0</td>\n",
       "      <td>9662</td>\n",
       "      <td>5</td>\n",
       "      <td>4</td>\n",
       "      <td>1977</td>\n",
       "      <td>1977</td>\n",
       "      <td>0.0</td>\n",
       "      <td>...</td>\n",
       "      <td>1</td>\n",
       "      <td>1</td>\n",
       "      <td>0</td>\n",
       "      <td>0</td>\n",
       "      <td>0</td>\n",
       "      <td>0</td>\n",
       "      <td>0</td>\n",
       "      <td>0</td>\n",
       "      <td>0</td>\n",
       "      <td>0</td>\n",
       "    </tr>\n",
       "    <tr>\n",
       "      <th>2</th>\n",
       "      <td>2414</td>\n",
       "      <td>528218130</td>\n",
       "      <td>60</td>\n",
       "      <td>58.0</td>\n",
       "      <td>17104</td>\n",
       "      <td>7</td>\n",
       "      <td>5</td>\n",
       "      <td>2006</td>\n",
       "      <td>2006</td>\n",
       "      <td>0.0</td>\n",
       "      <td>...</td>\n",
       "      <td>1</td>\n",
       "      <td>1</td>\n",
       "      <td>0</td>\n",
       "      <td>0</td>\n",
       "      <td>0</td>\n",
       "      <td>0</td>\n",
       "      <td>0</td>\n",
       "      <td>0</td>\n",
       "      <td>1</td>\n",
       "      <td>0</td>\n",
       "    </tr>\n",
       "  </tbody>\n",
       "</table>\n",
       "<p>3 rows × 215 columns</p>\n",
       "</div>"
      ],
      "text/plain": [
       "     Id        PID  MS SubClass  Lot Frontage  Lot Area  Overall Qual  \\\n",
       "0  2658  902301120          190          69.0      9142             6   \n",
       "1  2718  905108090           90           0.0      9662             5   \n",
       "2  2414  528218130           60          58.0     17104             7   \n",
       "\n",
       "   Overall Cond  Year Built  Year Remod/Add  Mas Vnr Area  ...  \\\n",
       "0             8        1910            1950           0.0  ...   \n",
       "1             4        1977            1977           0.0  ...   \n",
       "2             5        2006            2006           0.0  ...   \n",
       "\n",
       "  BsmtFin Type 2_Unf Garage Type_Attchd Garage Type_Basment  \\\n",
       "0                  1                  0                   0   \n",
       "1                  1                  1                   0   \n",
       "2                  1                  1                   0   \n",
       "\n",
       "   Garage Type_BuiltIn  Garage Type_CarPort  Garage Type_Detchd  \\\n",
       "0                    0                    0                   1   \n",
       "1                    0                    0                   0   \n",
       "2                    0                    0                   0   \n",
       "\n",
       "   Garage Type_NA  Garage Finish_NA  Garage Finish_RFn  Garage Finish_Unf  \n",
       "0               0                 0                  0                  1  \n",
       "1               0                 0                  0                  0  \n",
       "2               0                 0                  1                  0  \n",
       "\n",
       "[3 rows x 215 columns]"
      ]
     },
     "execution_count": 199,
     "metadata": {},
     "output_type": "execute_result"
    }
   ],
   "source": [
    "traindata_mod.head(3)"
   ]
  },
  {
   "cell_type": "code",
   "execution_count": 200,
   "id": "801b322e",
   "metadata": {},
   "outputs": [
    {
     "data": {
      "text/plain": [
       "(878, 215)"
      ]
     },
     "execution_count": 200,
     "metadata": {},
     "output_type": "execute_result"
    }
   ],
   "source": [
    "traindata_mod.shape"
   ]
  },
  {
   "cell_type": "markdown",
   "id": "f8bd8d2e",
   "metadata": {},
   "source": [
    "#### 2. Dropping and Merging ordinal encoded data: ord_encode"
   ]
  },
  {
   "cell_type": "code",
   "execution_count": 201,
   "id": "fd4f67ff",
   "metadata": {},
   "outputs": [],
   "source": [
    "traindata_mod = traindata_mod.drop(columns=ord_df_tolist)"
   ]
  },
  {
   "cell_type": "code",
   "execution_count": 202,
   "id": "7a78dc36",
   "metadata": {},
   "outputs": [],
   "source": [
    "traindata_mod = traindata_mod.merge(ord_encode, left_index=True, right_index=True)"
   ]
  },
  {
   "cell_type": "code",
   "execution_count": 203,
   "id": "de3e1bbb",
   "metadata": {},
   "outputs": [
    {
     "data": {
      "text/html": [
       "<div>\n",
       "<style scoped>\n",
       "    .dataframe tbody tr th:only-of-type {\n",
       "        vertical-align: middle;\n",
       "    }\n",
       "\n",
       "    .dataframe tbody tr th {\n",
       "        vertical-align: top;\n",
       "    }\n",
       "\n",
       "    .dataframe thead th {\n",
       "        text-align: right;\n",
       "    }\n",
       "</style>\n",
       "<table border=\"1\" class=\"dataframe\">\n",
       "  <thead>\n",
       "    <tr style=\"text-align: right;\">\n",
       "      <th></th>\n",
       "      <th>Id</th>\n",
       "      <th>PID</th>\n",
       "      <th>MS SubClass</th>\n",
       "      <th>Lot Frontage</th>\n",
       "      <th>Lot Area</th>\n",
       "      <th>Overall Qual</th>\n",
       "      <th>Overall Cond</th>\n",
       "      <th>Year Built</th>\n",
       "      <th>Year Remod/Add</th>\n",
       "      <th>Mas Vnr Area</th>\n",
       "      <th>...</th>\n",
       "      <th>Exter Qual_ord</th>\n",
       "      <th>Exter Cond_ord</th>\n",
       "      <th>Heating QC_ord</th>\n",
       "      <th>Kitchen Qual_ord</th>\n",
       "      <th>Fireplace Qu_ord</th>\n",
       "      <th>Pool QC_ord</th>\n",
       "      <th>Bsmt Qual_ord</th>\n",
       "      <th>Bsmt Cond_ord</th>\n",
       "      <th>Garage Qual_ord</th>\n",
       "      <th>Garage Cond_ord</th>\n",
       "    </tr>\n",
       "  </thead>\n",
       "  <tbody>\n",
       "    <tr>\n",
       "      <th>0</th>\n",
       "      <td>2658</td>\n",
       "      <td>902301120</td>\n",
       "      <td>190</td>\n",
       "      <td>69.0</td>\n",
       "      <td>9142</td>\n",
       "      <td>6</td>\n",
       "      <td>8</td>\n",
       "      <td>1910</td>\n",
       "      <td>1950</td>\n",
       "      <td>0.0</td>\n",
       "      <td>...</td>\n",
       "      <td>3</td>\n",
       "      <td>2</td>\n",
       "      <td>4</td>\n",
       "      <td>2</td>\n",
       "      <td>0</td>\n",
       "      <td>0</td>\n",
       "      <td>2</td>\n",
       "      <td>3</td>\n",
       "      <td>1</td>\n",
       "      <td>1</td>\n",
       "    </tr>\n",
       "    <tr>\n",
       "      <th>1</th>\n",
       "      <td>2718</td>\n",
       "      <td>905108090</td>\n",
       "      <td>90</td>\n",
       "      <td>0.0</td>\n",
       "      <td>9662</td>\n",
       "      <td>5</td>\n",
       "      <td>4</td>\n",
       "      <td>1977</td>\n",
       "      <td>1977</td>\n",
       "      <td>0.0</td>\n",
       "      <td>...</td>\n",
       "      <td>3</td>\n",
       "      <td>3</td>\n",
       "      <td>3</td>\n",
       "      <td>3</td>\n",
       "      <td>0</td>\n",
       "      <td>0</td>\n",
       "      <td>4</td>\n",
       "      <td>3</td>\n",
       "      <td>3</td>\n",
       "      <td>3</td>\n",
       "    </tr>\n",
       "    <tr>\n",
       "      <th>2</th>\n",
       "      <td>2414</td>\n",
       "      <td>528218130</td>\n",
       "      <td>60</td>\n",
       "      <td>58.0</td>\n",
       "      <td>17104</td>\n",
       "      <td>7</td>\n",
       "      <td>5</td>\n",
       "      <td>2006</td>\n",
       "      <td>2006</td>\n",
       "      <td>0.0</td>\n",
       "      <td>...</td>\n",
       "      <td>4</td>\n",
       "      <td>3</td>\n",
       "      <td>5</td>\n",
       "      <td>4</td>\n",
       "      <td>4</td>\n",
       "      <td>0</td>\n",
       "      <td>4</td>\n",
       "      <td>4</td>\n",
       "      <td>3</td>\n",
       "      <td>3</td>\n",
       "    </tr>\n",
       "  </tbody>\n",
       "</table>\n",
       "<p>3 rows × 215 columns</p>\n",
       "</div>"
      ],
      "text/plain": [
       "     Id        PID  MS SubClass  Lot Frontage  Lot Area  Overall Qual  \\\n",
       "0  2658  902301120          190          69.0      9142             6   \n",
       "1  2718  905108090           90           0.0      9662             5   \n",
       "2  2414  528218130           60          58.0     17104             7   \n",
       "\n",
       "   Overall Cond  Year Built  Year Remod/Add  Mas Vnr Area  ...  \\\n",
       "0             8        1910            1950           0.0  ...   \n",
       "1             4        1977            1977           0.0  ...   \n",
       "2             5        2006            2006           0.0  ...   \n",
       "\n",
       "   Exter Qual_ord  Exter Cond_ord  Heating QC_ord  Kitchen Qual_ord  \\\n",
       "0               3               2               4                 2   \n",
       "1               3               3               3                 3   \n",
       "2               4               3               5                 4   \n",
       "\n",
       "   Fireplace Qu_ord  Pool QC_ord  Bsmt Qual_ord  Bsmt Cond_ord  \\\n",
       "0                 0            0              2              3   \n",
       "1                 0            0              4              3   \n",
       "2                 4            0              4              4   \n",
       "\n",
       "   Garage Qual_ord  Garage Cond_ord  \n",
       "0                1                1  \n",
       "1                3                3  \n",
       "2                3                3  \n",
       "\n",
       "[3 rows x 215 columns]"
      ]
     },
     "execution_count": 203,
     "metadata": {},
     "output_type": "execute_result"
    }
   ],
   "source": [
    "traindata_mod.head(3)"
   ]
  },
  {
   "cell_type": "code",
   "execution_count": 204,
   "id": "09566f1d",
   "metadata": {},
   "outputs": [
    {
     "data": {
      "text/plain": [
       "(878, 215)"
      ]
     },
     "execution_count": 204,
     "metadata": {},
     "output_type": "execute_result"
    }
   ],
   "source": [
    "traindata_mod.shape"
   ]
  },
  {
   "cell_type": "markdown",
   "id": "b489deba",
   "metadata": {},
   "source": [
    "#### 3. Checking traindata_mod info"
   ]
  },
  {
   "cell_type": "code",
   "execution_count": 205,
   "id": "196b3fe2",
   "metadata": {},
   "outputs": [
    {
     "name": "stdout",
     "output_type": "stream",
     "text": [
      "<class 'pandas.core.frame.DataFrame'>\n",
      "RangeIndex: 878 entries, 0 to 877\n",
      "Columns: 215 entries, Id to Garage Cond_ord\n",
      "dtypes: float64(3), int64(46), uint8(166)\n",
      "memory usage: 478.6 KB\n"
     ]
    }
   ],
   "source": [
    "traindata_mod.info()"
   ]
  },
  {
   "cell_type": "markdown",
   "id": "cf8bbc83",
   "metadata": {},
   "source": [
    "#### Understanding skewness and kurtosis of data."
   ]
  },
  {
   "cell_type": "markdown",
   "id": "dc055aab",
   "metadata": {},
   "source": [
    "###### Skewness"
   ]
  },
  {
   "cell_type": "code",
   "execution_count": 206,
   "id": "38dcd0f4",
   "metadata": {
    "scrolled": true
   },
   "outputs": [],
   "source": [
    "sk = pd.DataFrame(traindata_mod.skew(), columns=['skew'])"
   ]
  },
  {
   "cell_type": "code",
   "execution_count": 207,
   "id": "f83148ca",
   "metadata": {},
   "outputs": [
    {
     "data": {
      "text/html": [
       "<div>\n",
       "<style scoped>\n",
       "    .dataframe tbody tr th:only-of-type {\n",
       "        vertical-align: middle;\n",
       "    }\n",
       "\n",
       "    .dataframe tbody tr th {\n",
       "        vertical-align: top;\n",
       "    }\n",
       "\n",
       "    .dataframe thead th {\n",
       "        text-align: right;\n",
       "    }\n",
       "</style>\n",
       "<table border=\"1\" class=\"dataframe\">\n",
       "  <thead>\n",
       "    <tr style=\"text-align: right;\">\n",
       "      <th></th>\n",
       "      <th>skew</th>\n",
       "    </tr>\n",
       "  </thead>\n",
       "  <tbody>\n",
       "    <tr>\n",
       "      <th>Id</th>\n",
       "      <td>0.028745</td>\n",
       "    </tr>\n",
       "    <tr>\n",
       "      <th>PID</th>\n",
       "      <td>0.038578</td>\n",
       "    </tr>\n",
       "    <tr>\n",
       "      <th>MS SubClass</th>\n",
       "      <td>1.305001</td>\n",
       "    </tr>\n",
       "  </tbody>\n",
       "</table>\n",
       "</div>"
      ],
      "text/plain": [
       "                 skew\n",
       "Id           0.028745\n",
       "PID          0.038578\n",
       "MS SubClass  1.305001"
      ]
     },
     "execution_count": 207,
     "metadata": {},
     "output_type": "execute_result"
    }
   ],
   "source": [
    "sk.head(3)"
   ]
  },
  {
   "cell_type": "markdown",
   "id": "f2099ce8",
   "metadata": {},
   "source": [
    "###### Kurtosis"
   ]
  },
  {
   "cell_type": "code",
   "execution_count": 208,
   "id": "7430bc68",
   "metadata": {},
   "outputs": [],
   "source": [
    "kt = pd.DataFrame(traindata_mod.kurtosis(), columns=['kurtosis'])"
   ]
  },
  {
   "cell_type": "code",
   "execution_count": 209,
   "id": "3016f2c9",
   "metadata": {},
   "outputs": [
    {
     "data": {
      "text/html": [
       "<div>\n",
       "<style scoped>\n",
       "    .dataframe tbody tr th:only-of-type {\n",
       "        vertical-align: middle;\n",
       "    }\n",
       "\n",
       "    .dataframe tbody tr th {\n",
       "        vertical-align: top;\n",
       "    }\n",
       "\n",
       "    .dataframe thead th {\n",
       "        text-align: right;\n",
       "    }\n",
       "</style>\n",
       "<table border=\"1\" class=\"dataframe\">\n",
       "  <thead>\n",
       "    <tr style=\"text-align: right;\">\n",
       "      <th></th>\n",
       "      <th>kurtosis</th>\n",
       "    </tr>\n",
       "  </thead>\n",
       "  <tbody>\n",
       "    <tr>\n",
       "      <th>Id</th>\n",
       "      <td>-1.231298</td>\n",
       "    </tr>\n",
       "    <tr>\n",
       "      <th>PID</th>\n",
       "      <td>-1.998508</td>\n",
       "    </tr>\n",
       "    <tr>\n",
       "      <th>MS SubClass</th>\n",
       "      <td>1.260883</td>\n",
       "    </tr>\n",
       "  </tbody>\n",
       "</table>\n",
       "</div>"
      ],
      "text/plain": [
       "             kurtosis\n",
       "Id          -1.231298\n",
       "PID         -1.998508\n",
       "MS SubClass  1.260883"
      ]
     },
     "execution_count": 209,
     "metadata": {},
     "output_type": "execute_result"
    }
   ],
   "source": [
    "kt.head(3)"
   ]
  },
  {
   "cell_type": "code",
   "execution_count": 210,
   "id": "7829f41d",
   "metadata": {},
   "outputs": [
    {
     "data": {
      "text/plain": [
       "count    215.000000\n",
       "mean       7.043896\n",
       "std        9.216144\n",
       "min      -17.048838\n",
       "25%        0.828261\n",
       "50%        4.496617\n",
       "75%       10.738078\n",
       "max       29.631065\n",
       "Name: skew, dtype: float64"
      ]
     },
     "execution_count": 210,
     "metadata": {},
     "output_type": "execute_result"
    }
   ],
   "source": [
    "sk['skew'].describe()"
   ]
  },
  {
   "cell_type": "code",
   "execution_count": 211,
   "id": "2dea5cb2",
   "metadata": {},
   "outputs": [],
   "source": [
    "high_skew = sk[sk['skew'] > 5]"
   ]
  },
  {
   "cell_type": "code",
   "execution_count": 212,
   "id": "23bb3953",
   "metadata": {},
   "outputs": [
    {
     "data": {
      "text/html": [
       "<div>\n",
       "<style scoped>\n",
       "    .dataframe tbody tr th:only-of-type {\n",
       "        vertical-align: middle;\n",
       "    }\n",
       "\n",
       "    .dataframe tbody tr th {\n",
       "        vertical-align: top;\n",
       "    }\n",
       "\n",
       "    .dataframe thead th {\n",
       "        text-align: right;\n",
       "    }\n",
       "</style>\n",
       "<table border=\"1\" class=\"dataframe\">\n",
       "  <thead>\n",
       "    <tr style=\"text-align: right;\">\n",
       "      <th></th>\n",
       "      <th>skew</th>\n",
       "    </tr>\n",
       "  </thead>\n",
       "  <tbody>\n",
       "    <tr>\n",
       "      <th>Electrical_NA</th>\n",
       "      <td>29.631065</td>\n",
       "    </tr>\n",
       "    <tr>\n",
       "      <th>Exterior 1st_AsphShn</th>\n",
       "      <td>29.631065</td>\n",
       "    </tr>\n",
       "    <tr>\n",
       "      <th>MS Zoning_I (all)</th>\n",
       "      <td>29.631065</td>\n",
       "    </tr>\n",
       "    <tr>\n",
       "      <th>Exterior 2nd_CBlock</th>\n",
       "      <td>29.631065</td>\n",
       "    </tr>\n",
       "    <tr>\n",
       "      <th>Exterior 2nd_AsphShn</th>\n",
       "      <td>29.631065</td>\n",
       "    </tr>\n",
       "    <tr>\n",
       "      <th>...</th>\n",
       "      <td>...</td>\n",
       "    </tr>\n",
       "    <tr>\n",
       "      <th>Lot Config_FR2</th>\n",
       "      <td>5.679744</td>\n",
       "    </tr>\n",
       "    <tr>\n",
       "      <th>BsmtFin Type 2_Rec</th>\n",
       "      <td>5.559254</td>\n",
       "    </tr>\n",
       "    <tr>\n",
       "      <th>Enclosed Porch</th>\n",
       "      <td>5.343703</td>\n",
       "    </tr>\n",
       "    <tr>\n",
       "      <th>Functional_Min2</th>\n",
       "      <td>5.337357</td>\n",
       "    </tr>\n",
       "    <tr>\n",
       "      <th>BsmtFin Type 2_LwQ</th>\n",
       "      <td>5.234847</td>\n",
       "    </tr>\n",
       "  </tbody>\n",
       "</table>\n",
       "<p>95 rows × 1 columns</p>\n",
       "</div>"
      ],
      "text/plain": [
       "                           skew\n",
       "Electrical_NA         29.631065\n",
       "Exterior 1st_AsphShn  29.631065\n",
       "MS Zoning_I (all)     29.631065\n",
       "Exterior 2nd_CBlock   29.631065\n",
       "Exterior 2nd_AsphShn  29.631065\n",
       "...                         ...\n",
       "Lot Config_FR2         5.679744\n",
       "BsmtFin Type 2_Rec     5.559254\n",
       "Enclosed Porch         5.343703\n",
       "Functional_Min2        5.337357\n",
       "BsmtFin Type 2_LwQ     5.234847\n",
       "\n",
       "[95 rows x 1 columns]"
      ]
     },
     "execution_count": 212,
     "metadata": {},
     "output_type": "execute_result"
    }
   ],
   "source": [
    "high_skew.sort_values(by=['skew'], ascending=False)"
   ]
  },
  {
   "cell_type": "code",
   "execution_count": 213,
   "id": "23c1a344",
   "metadata": {},
   "outputs": [
    {
     "data": {
      "text/plain": [
       "count    215.000000\n",
       "mean     133.678320\n",
       "std      250.168024\n",
       "min       -1.998530\n",
       "25%        1.847196\n",
       "50%       20.249189\n",
       "75%      121.132154\n",
       "max      878.000000\n",
       "Name: kurtosis, dtype: float64"
      ]
     },
     "execution_count": 213,
     "metadata": {},
     "output_type": "execute_result"
    }
   ],
   "source": [
    "kt['kurtosis'].describe()"
   ]
  },
  {
   "cell_type": "code",
   "execution_count": 214,
   "id": "0d973e86",
   "metadata": {},
   "outputs": [],
   "source": [
    "high_kurt = kt[kt['kurtosis'] > 25]"
   ]
  },
  {
   "cell_type": "code",
   "execution_count": 215,
   "id": "8e277b66",
   "metadata": {},
   "outputs": [
    {
     "data": {
      "text/html": [
       "<div>\n",
       "<style scoped>\n",
       "    .dataframe tbody tr th:only-of-type {\n",
       "        vertical-align: middle;\n",
       "    }\n",
       "\n",
       "    .dataframe tbody tr th {\n",
       "        vertical-align: top;\n",
       "    }\n",
       "\n",
       "    .dataframe thead th {\n",
       "        text-align: right;\n",
       "    }\n",
       "</style>\n",
       "<table border=\"1\" class=\"dataframe\">\n",
       "  <thead>\n",
       "    <tr style=\"text-align: right;\">\n",
       "      <th></th>\n",
       "      <th>kurtosis</th>\n",
       "    </tr>\n",
       "  </thead>\n",
       "  <tbody>\n",
       "    <tr>\n",
       "      <th>Exterior 1st_AsphShn</th>\n",
       "      <td>878.000000</td>\n",
       "    </tr>\n",
       "    <tr>\n",
       "      <th>Electrical_NA</th>\n",
       "      <td>878.000000</td>\n",
       "    </tr>\n",
       "    <tr>\n",
       "      <th>Exterior 2nd_AsphShn</th>\n",
       "      <td>878.000000</td>\n",
       "    </tr>\n",
       "    <tr>\n",
       "      <th>MS Zoning_I (all)</th>\n",
       "      <td>878.000000</td>\n",
       "    </tr>\n",
       "    <tr>\n",
       "      <th>Exterior 1st_PreCast</th>\n",
       "      <td>878.000000</td>\n",
       "    </tr>\n",
       "    <tr>\n",
       "      <th>...</th>\n",
       "      <td>...</td>\n",
       "    </tr>\n",
       "    <tr>\n",
       "      <th>BsmtFin Type 2_NA</th>\n",
       "      <td>30.328573</td>\n",
       "    </tr>\n",
       "    <tr>\n",
       "      <th>Lot Config_FR2</th>\n",
       "      <td>30.328573</td>\n",
       "    </tr>\n",
       "    <tr>\n",
       "      <th>BsmtFin Type 2_Rec</th>\n",
       "      <td>28.971295</td>\n",
       "    </tr>\n",
       "    <tr>\n",
       "      <th>Functional_Min2</th>\n",
       "      <td>26.547853</td>\n",
       "    </tr>\n",
       "    <tr>\n",
       "      <th>BsmtFin Type 2_LwQ</th>\n",
       "      <td>25.461613</td>\n",
       "    </tr>\n",
       "  </tbody>\n",
       "</table>\n",
       "<p>98 rows × 1 columns</p>\n",
       "</div>"
      ],
      "text/plain": [
       "                        kurtosis\n",
       "Exterior 1st_AsphShn  878.000000\n",
       "Electrical_NA         878.000000\n",
       "Exterior 2nd_AsphShn  878.000000\n",
       "MS Zoning_I (all)     878.000000\n",
       "Exterior 1st_PreCast  878.000000\n",
       "...                          ...\n",
       "BsmtFin Type 2_NA      30.328573\n",
       "Lot Config_FR2         30.328573\n",
       "BsmtFin Type 2_Rec     28.971295\n",
       "Functional_Min2        26.547853\n",
       "BsmtFin Type 2_LwQ     25.461613\n",
       "\n",
       "[98 rows x 1 columns]"
      ]
     },
     "execution_count": 215,
     "metadata": {},
     "output_type": "execute_result"
    }
   ],
   "source": [
    "high_kurt.sort_values(by=['kurtosis'], ascending=False)"
   ]
  },
  {
   "cell_type": "markdown",
   "id": "d0dce8ff",
   "metadata": {},
   "source": [
    "###### Lot Area is showing high skew & kurtosis."
   ]
  },
  {
   "cell_type": "code",
   "execution_count": 216,
   "id": "06e26739",
   "metadata": {},
   "outputs": [
    {
     "data": {
      "text/plain": [
       "<seaborn.axisgrid.FacetGrid at 0x2bed3d8ed90>"
      ]
     },
     "execution_count": 216,
     "metadata": {},
     "output_type": "execute_result"
    },
    {
     "data": {
      "image/png": "[encoded data removed]",
      "text/plain": [
       "<Figure size 360x360 with 1 Axes>"
      ]
     },
     "metadata": {
      "needs_background": "light"
     },
     "output_type": "display_data"
    }
   ],
   "source": [
    "sns.displot(traindata_mod['Lot Area'])"
   ]
  },
  {
   "cell_type": "markdown",
   "id": "ce8a0be1",
   "metadata": {},
   "source": [
    "#### Perform log transformation"
   ]
  },
  {
   "cell_type": "code",
   "execution_count": 217,
   "id": "c6b42c77",
   "metadata": {},
   "outputs": [
    {
     "data": {
      "image/png": "[encoded data removed]",
      "text/plain": [
       "<Figure size 360x360 with 1 Axes>"
      ]
     },
     "metadata": {
      "needs_background": "light"
     },
     "output_type": "display_data"
    }
   ],
   "source": [
    "sns.displot(np.log(traindata_mod['Lot Area']));"
   ]
  },
  {
   "cell_type": "markdown",
   "id": "66a0ba71",
   "metadata": {},
   "source": [
    "Replace highly skewed & high kurtosis data with log scaled data."
   ]
  },
  {
   "cell_type": "code",
   "execution_count": 218,
   "id": "cef19acf",
   "metadata": {},
   "outputs": [],
   "source": [
    "traindata_mod['Lot Area_log'] = np.log(traindata_mod['Lot Area'])"
   ]
  },
  {
   "cell_type": "code",
   "execution_count": 219,
   "id": "3fec7b52",
   "metadata": {},
   "outputs": [],
   "source": [
    "traindata_mod = traindata_mod.drop(columns=['Lot Area'])"
   ]
  },
  {
   "cell_type": "code",
   "execution_count": 220,
   "id": "20c952bf",
   "metadata": {},
   "outputs": [
    {
     "data": {
      "text/plain": [
       "0"
      ]
     },
     "execution_count": 220,
     "metadata": {},
     "output_type": "execute_result"
    }
   ],
   "source": [
    "traindata_mod.isnull().sum().sum()"
   ]
  },
  {
   "cell_type": "code",
   "execution_count": 221,
   "id": "1c9a124e",
   "metadata": {},
   "outputs": [],
   "source": [
    "final_test = traindata_mod"
   ]
  },
  {
   "cell_type": "code",
   "execution_count": 222,
   "id": "a4591eaf",
   "metadata": {},
   "outputs": [
    {
     "data": {
      "text/plain": [
       "(878, 215)"
      ]
     },
     "execution_count": 222,
     "metadata": {},
     "output_type": "execute_result"
    }
   ],
   "source": [
    "final_test.shape"
   ]
  },
  {
   "cell_type": "markdown",
   "id": "ec9157fc",
   "metadata": {},
   "source": [
    "#### Output dataframes to csv files"
   ]
  },
  {
   "cell_type": "code",
   "execution_count": 223,
   "id": "f2aa1719",
   "metadata": {},
   "outputs": [],
   "source": [
    "final_test.to_csv('./datasets/final_test.csv', index=False)"
   ]
  },
  {
   "cell_type": "markdown",
   "id": "84e5d920",
   "metadata": {},
   "source": [
    "## Cleaned test data has been output to csv\n",
    "\n",
    "#### Part 3 will be feature selection for prediction later in modeling."
   ]
  }
 ],
 "metadata": {
  "kernelspec": {
   "display_name": "Python 3",
   "language": "python",
   "name": "python3"
  },
  "language_info": {
   "codemirror_mode": {
    "name": "ipython",
    "version": 3
   },
   "file_extension": ".py",
   "mimetype": "text/x-python",
   "name": "python",
   "nbconvert_exporter": "python",
   "pygments_lexer": "ipython3",
   "version": "3.8.8"
  }
 },
 "nbformat": 4,
 "nbformat_minor": 5
}
