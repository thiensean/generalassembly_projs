{
 "cells": [
  {
   "cell_type": "code",
   "execution_count": 1,
   "id": "36cabd4a",
   "metadata": {},
   "outputs": [],
   "source": [
    "import requests\n",
    "import pandas as pd\n",
    "import numpy as np\n",
    "import scr ## scr.py custom function ## scr.parse(\"\")\n",
    "\n",
    "import contractions\n",
    "from bs4 import BeautifulSoup\n",
    "import lxml\n",
    "\n",
    "from nltk.stem import PorterStemmer\n",
    "from nltk.tokenize import word_tokenize\n",
    "\n",
    "import spacy\n",
    "nlp = spacy.load(\"en_core_web_sm\")\n",
    "\n",
    "import warnings\n",
    "warnings.filterwarnings('ignore')\n",
    "\n",
    "from random import randint\n",
    "from time import sleep"
   ]
  },
  {
   "cell_type": "markdown",
   "id": "13c32c9c",
   "metadata": {},
   "source": [
    "#### Conditions setup"
   ]
  },
  {
   "cell_type": "code",
   "execution_count": 2,
   "id": "03c01482",
   "metadata": {},
   "outputs": [],
   "source": [
    "max_scrape = 2000 # while loop max\n",
    "num_reviews = 20 # you can adjust this number on how many reviews you which to scrape"
   ]
  },
  {
   "cell_type": "code",
   "execution_count": 3,
   "id": "dd07aff6",
   "metadata": {},
   "outputs": [],
   "source": [
    "all_reviews_df = pd.DataFrame(columns = ['rating', 'rating_title', \n",
    "'rating_description','rating_pros', 'rating_cons'])"
   ]
  },
  {
   "cell_type": "code",
   "execution_count": 4,
   "id": "5da43663",
   "metadata": {},
   "outputs": [],
   "source": [
    "def parse(full_url):\n",
    "    \n",
    "    page_content = BeautifulSoup(full_url.content, 'lxml')\n",
    "    containers = page_content.findAll('div', \n",
    "                 {'data-tn-section':'reviews'})\n",
    "    \n",
    "    global df, df1\n",
    "    \n",
    "    df = pd.DataFrame(columns = \n",
    "         ['rating', 'rating_title',  'rating_description',\n",
    "                         'rating_pros', 'rating_cons'])\n",
    "    \n",
    "    for item in containers:\n",
    "        #RATING\n",
    "        try:\n",
    "            rating = item.find('button', \n",
    "                     {'class': 'css-1c33izo e1wnkr790'}).text.replace('\\n', '')\n",
    "\n",
    "        except:\n",
    "            rating = None\n",
    "                     \n",
    "        # TITLE             \n",
    "        try:\n",
    "            rating_title = item.find('h2', \n",
    "                           {'data-testid': 'title'}).text.replace('\\n', '')\n",
    "\n",
    "        except:\n",
    "            rating_title = None\n",
    "\n",
    "        #DESCRIPTION \n",
    "        try:\n",
    "            rating_description = item.find('div', \n",
    "                                 {'data-tn-component': 'reviewDescription'}).text.replace('\\n', '.')\n",
    "\n",
    "        except:\n",
    "            rating_description = None\n",
    "  \n",
    "        #PROS\n",
    "        try:\n",
    "            rating_pros = item.find('div', \n",
    "                          {'class': 'css-1z0411s e1wnkr790'}).text.replace('\\n', '')\n",
    "\n",
    "                        \n",
    "        except:\n",
    "            rating_pros = None\n",
    "\n",
    "        #CONS\n",
    "        try:\n",
    "            rating_cons = page_content.findAll('class', \n",
    "                 {'css-82l4gy eu4oa1w0'})\n",
    "\n",
    "            for i, j in zip(rating_cons, range(1, 3)):\n",
    "                if j == 1:\n",
    "                    pass\n",
    "                else:\n",
    "                    output = i\n",
    "                          \n",
    "        except:\n",
    "            \n",
    "            rating_cons = None\n",
    "        \n",
    "        \n",
    "        df = df.append({'rating': rating, \n",
    "             'rating_title': rating_title, \n",
    "             'rating_description': rating_description,\n",
    "             'rating_pros': rating_pros,\n",
    "             'rating_cons': rating_cons}, ignore_index=True)\n",
    "\n",
    "    return df"
   ]
  },
  {
   "cell_type": "markdown",
   "id": "9b1919e5",
   "metadata": {},
   "source": [
    "#### Scrape"
   ]
  },
  {
   "cell_type": "code",
   "execution_count": 5,
   "id": "2a839b2e",
   "metadata": {},
   "outputs": [],
   "source": [
    "base_url = 'https://www.indeed.com/cmp/Google/reviews?fcountry=ALL&start='"
   ]
  },
  {
   "cell_type": "code",
   "execution_count": 6,
   "id": "7d319c4c",
   "metadata": {},
   "outputs": [],
   "source": [
    "while num_reviews < max_scrape:  \n",
    "    \n",
    "    full_url = base_url + str(num_reviews)\n",
    "    \n",
    "    get_url = requests.get(full_url, timeout=30)  \n",
    "        \n",
    "    partial_reviews_df = parse(get_url)\n",
    "\n",
    "    all_reviews_df = all_reviews_df.append(\n",
    "                     partial_reviews_df, ignore_index=True) \n",
    "    \n",
    "    num_reviews += 20\n",
    "    \n",
    "    sleep(randint(1, 10))"
   ]
  },
  {
   "cell_type": "code",
   "execution_count": 7,
   "id": "3a6c222b",
   "metadata": {},
   "outputs": [
    {
     "data": {
      "text/html": [
       "<div>\n",
       "<style scoped>\n",
       "    .dataframe tbody tr th:only-of-type {\n",
       "        vertical-align: middle;\n",
       "    }\n",
       "\n",
       "    .dataframe tbody tr th {\n",
       "        vertical-align: top;\n",
       "    }\n",
       "\n",
       "    .dataframe thead th {\n",
       "        text-align: right;\n",
       "    }\n",
       "</style>\n",
       "<table border=\"1\" class=\"dataframe\">\n",
       "  <thead>\n",
       "    <tr style=\"text-align: right;\">\n",
       "      <th></th>\n",
       "      <th>rating</th>\n",
       "      <th>rating_title</th>\n",
       "      <th>rating_description</th>\n",
       "      <th>rating_pros</th>\n",
       "      <th>rating_cons</th>\n",
       "    </tr>\n",
       "  </thead>\n",
       "  <tbody>\n",
       "    <tr>\n",
       "      <th>0</th>\n",
       "      <td>5.0</td>\n",
       "      <td>amazing</td>\n",
       "      <td>Really loved it. such a great time. entire tea...</td>\n",
       "      <td>None</td>\n",
       "      <td>[]</td>\n",
       "    </tr>\n",
       "    <tr>\n",
       "      <th>1</th>\n",
       "      <td>5.0</td>\n",
       "      <td>Loved this job, the team was great to work wit...</td>\n",
       "      <td>Absolutely loved working with Google. They wer...</td>\n",
       "      <td>Basically your own boss. Make your own hours. ...</td>\n",
       "      <td>[]</td>\n",
       "    </tr>\n",
       "    <tr>\n",
       "      <th>2</th>\n",
       "      <td>4.0</td>\n",
       "      <td>Great but stressful</td>\n",
       "      <td>Great great place  to work at. But extreme hou...</td>\n",
       "      <td>Salary Benefits Work collaboration</td>\n",
       "      <td>[]</td>\n",
       "    </tr>\n",
       "    <tr>\n",
       "      <th>3</th>\n",
       "      <td>5.0</td>\n",
       "      <td>Fun</td>\n",
       "      <td>Excellent place it work Excellent employees Ex...</td>\n",
       "      <td>great environment</td>\n",
       "      <td>[]</td>\n",
       "    </tr>\n",
       "    <tr>\n",
       "      <th>4</th>\n",
       "      <td>5.0</td>\n",
       "      <td>Productive and fun</td>\n",
       "      <td>Productive and fun, Worked here since I was a ...</td>\n",
       "      <td>Free lunches</td>\n",
       "      <td>[]</td>\n",
       "    </tr>\n",
       "  </tbody>\n",
       "</table>\n",
       "</div>"
      ],
      "text/plain": [
       "  rating                                       rating_title  \\\n",
       "0    5.0                                           amazing    \n",
       "1    5.0  Loved this job, the team was great to work wit...   \n",
       "2    4.0                                Great but stressful   \n",
       "3    5.0                                                Fun   \n",
       "4    5.0                                 Productive and fun   \n",
       "\n",
       "                                  rating_description  \\\n",
       "0  Really loved it. such a great time. entire tea...   \n",
       "1  Absolutely loved working with Google. They wer...   \n",
       "2  Great great place  to work at. But extreme hou...   \n",
       "3  Excellent place it work Excellent employees Ex...   \n",
       "4  Productive and fun, Worked here since I was a ...   \n",
       "\n",
       "                                         rating_pros rating_cons  \n",
       "0                                               None          []  \n",
       "1  Basically your own boss. Make your own hours. ...          []  \n",
       "2                 Salary Benefits Work collaboration          []  \n",
       "3                                  great environment          []  \n",
       "4                                       Free lunches          []  "
      ]
     },
     "execution_count": 7,
     "metadata": {},
     "output_type": "execute_result"
    }
   ],
   "source": [
    "all_reviews_df.head(5)"
   ]
  },
  {
   "cell_type": "code",
   "execution_count": 8,
   "id": "7aa0d49a",
   "metadata": {},
   "outputs": [
    {
     "data": {
      "text/plain": [
       "(2079, 5)"
      ]
     },
     "execution_count": 8,
     "metadata": {},
     "output_type": "execute_result"
    }
   ],
   "source": [
    "all_reviews_df.shape"
   ]
  },
  {
   "cell_type": "code",
   "execution_count": 9,
   "id": "6b53aa4b",
   "metadata": {},
   "outputs": [],
   "source": [
    "all_reviews_df.to_csv('data/all_reviews_df.csv')"
   ]
  }
 ],
 "metadata": {
  "kernelspec": {
   "display_name": "Python 3",
   "language": "python",
   "name": "python3"
  },
  "language_info": {
   "codemirror_mode": {
    "name": "ipython",
    "version": 3
   },
   "file_extension": ".py",
   "mimetype": "text/x-python",
   "name": "python",
   "nbconvert_exporter": "python",
   "pygments_lexer": "ipython3",
   "version": "3.8.8"
  }
 },
 "nbformat": 4,
 "nbformat_minor": 5
}
